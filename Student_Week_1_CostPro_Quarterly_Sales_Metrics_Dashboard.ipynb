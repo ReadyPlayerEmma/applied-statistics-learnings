{
  "cells": [
    {
      "cell_type": "markdown",
      "metadata": {
        "id": "hK2HJNxKT8nu"
      },
      "source": [
        "# CostPro Quarterly Sales Metrics Dashboard"
      ]
    },
    {
      "cell_type": "markdown",
      "metadata": {
        "id": "vy0fnYSeT7JW"
      },
      "source": [
        "As a Junior Data Scientist at a online retailer, CostPro, you have the opportunity to work on a project that will have a major impact on the company. Your goal is to create a metrics dashboard that will provide a clear overview of the business' sales metrics, which your leadership team can use to guide business decisions. You'll use measures of central tendency and variability to help CostPro better understand their quarterly sales and visualize the likelihood that a customer will arrive on the website in a given time interval."
      ]
    },
    {
      "cell_type": "markdown",
      "metadata": {
        "id": "cloRwMmTVEk1"
      },
      "source": [
        "## Project Setup"
      ]
    },
    {
      "cell_type": "markdown",
      "source": [
        "First, we need to download and import all of the dependencies that we will need for the project"
      ],
      "metadata": {
        "id": "kidKo1sn4ZxV"
      }
    },
    {
      "cell_type": "markdown",
      "metadata": {
        "id": "W4yXMQCYVvQP"
      },
      "source": [
        "### Dependencies"
      ]
    },
    {
      "cell_type": "code",
      "execution_count": 129,
      "metadata": {
        "id": "alHjfjNjVyMd",
        "colab": {
          "base_uri": "https://localhost:8080/"
        },
        "outputId": "f7b44843-e153-4246-8a09-07614e61647e"
      },
      "outputs": [
        {
          "output_type": "stream",
          "name": "stdout",
          "text": [
            "\u001b[31mERROR: pip's dependency resolver does not currently take into account all the packages that are installed. This behaviour is the source of the following dependency conflicts.\n",
            "google-api-core 2.11.1 requires protobuf!=3.20.0,!=3.20.1,!=4.21.0,!=4.21.1,!=4.21.2,!=4.21.3,!=4.21.4,!=4.21.5,<5.0.0.dev0,>=3.19.5, but you have protobuf 3.20.0 which is incompatible.\n",
            "google-cloud-bigquery 3.10.0 requires protobuf!=3.20.0,!=3.20.1,!=4.21.0,!=4.21.1,!=4.21.2,!=4.21.3,!=4.21.4,!=4.21.5,<5.0.0dev,>=3.19.5, but you have protobuf 3.20.0 which is incompatible.\n",
            "google-cloud-bigquery-connection 1.12.1 requires protobuf!=3.20.0,!=3.20.1,!=4.21.0,!=4.21.1,!=4.21.2,!=4.21.3,!=4.21.4,!=4.21.5,<5.0.0dev,>=3.19.5, but you have protobuf 3.20.0 which is incompatible.\n",
            "google-cloud-bigquery-storage 2.22.0 requires protobuf!=3.20.0,!=3.20.1,!=4.21.0,!=4.21.1,!=4.21.2,!=4.21.3,!=4.21.4,!=4.21.5,<5.0.0dev,>=3.19.5, but you have protobuf 3.20.0 which is incompatible.\n",
            "google-cloud-datastore 2.15.2 requires protobuf!=3.20.0,!=3.20.1,!=4.21.0,!=4.21.1,!=4.21.2,!=4.21.3,!=4.21.4,!=4.21.5,<5.0.0dev,>=3.19.5, but you have protobuf 3.20.0 which is incompatible.\n",
            "google-cloud-firestore 2.11.1 requires protobuf!=3.20.0,!=3.20.1,!=4.21.0,!=4.21.1,!=4.21.2,!=4.21.3,!=4.21.4,!=4.21.5,<5.0.0dev,>=3.19.5, but you have protobuf 3.20.0 which is incompatible.\n",
            "google-cloud-functions 1.13.2 requires protobuf!=3.20.0,!=3.20.1,!=4.21.0,!=4.21.1,!=4.21.2,!=4.21.3,!=4.21.4,!=4.21.5,<5.0.0dev,>=3.19.5, but you have protobuf 3.20.0 which is incompatible.\n",
            "google-cloud-language 2.9.1 requires protobuf!=3.20.0,!=3.20.1,!=4.21.0,!=4.21.1,!=4.21.2,!=4.21.3,!=4.21.4,!=4.21.5,<5.0.0dev,>=3.19.5, but you have protobuf 3.20.0 which is incompatible.\n",
            "google-cloud-translate 3.11.3 requires protobuf!=3.20.0,!=3.20.1,!=4.21.0,!=4.21.1,!=4.21.2,!=4.21.3,!=4.21.4,!=4.21.5,<5.0.0dev,>=3.19.5, but you have protobuf 3.20.0 which is incompatible.\n",
            "googleapis-common-protos 1.60.0 requires protobuf!=3.20.0,!=3.20.1,!=4.21.1,!=4.21.2,!=4.21.3,!=4.21.4,!=4.21.5,<5.0.0.dev0,>=3.19.5, but you have protobuf 3.20.0 which is incompatible.\n",
            "grpc-google-iam-v1 0.12.6 requires protobuf!=3.20.0,!=3.20.1,!=4.21.1,!=4.21.2,!=4.21.3,!=4.21.4,!=4.21.5,<5.0.0dev,>=3.19.5, but you have protobuf 3.20.0 which is incompatible.\n",
            "tensorflow 2.13.0 requires protobuf!=4.21.0,!=4.21.1,!=4.21.2,!=4.21.3,!=4.21.4,!=4.21.5,<5.0.0dev,>=3.20.3, but you have protobuf 3.20.0 which is incompatible.\n",
            "tensorflow-metadata 1.14.0 requires protobuf<4.21,>=3.20.3, but you have protobuf 3.20.0 which is incompatible.\u001b[0m\u001b[31m\n",
            "\u001b[0m"
          ]
        }
      ],
      "source": [
        "# Install all required dependencies for the project\n",
        "!pip install -qqq numpy pandas seaborn matplotlib gdown plotly scipy\n",
        "!pip install -qqq --force-reinstall protobuf==3.20 ##We need this to avoid version incompatibilities between packages"
      ]
    },
    {
      "cell_type": "code",
      "execution_count": 130,
      "metadata": {
        "id": "N8ja3Pn-V5qM"
      },
      "outputs": [],
      "source": [
        "# Import dependencies\n",
        "import numpy as np\n",
        "import pandas as pd\n",
        "import seaborn as sns\n",
        "import matplotlib.pyplot as plt\n",
        "import plotly.express as px\n",
        "import shutil\n",
        "import gdown\n",
        "from google.colab import files\n",
        "\n",
        "# [TO BE IMPLEMENTED]\n",
        "# Feel free to add any other imports that you need to write your own custom metrics"
      ]
    },
    {
      "cell_type": "markdown",
      "metadata": {
        "id": "p6PBDWHba3ML"
      },
      "source": [
        "## Data"
      ]
    },
    {
      "cell_type": "markdown",
      "source": [
        "[Online Retail](https://archive.ics.uci.edu/ml/datasets/online+retail) is a collection of roughly 400,000 records from an international online retail dataset. For this project, we will use a slightly modified (cleaned up) version of this dataset as the sales data for CostPro."
      ],
      "metadata": {
        "id": "kfkh8pwB5cLF"
      }
    },
    {
      "cell_type": "markdown",
      "metadata": {
        "id": "eBpKXQayVG-W"
      },
      "source": [
        "### Download the Dataset"
      ]
    },
    {
      "cell_type": "code",
      "execution_count": 131,
      "metadata": {
        "id": "zDSJ32UfcXlp",
        "colab": {
          "base_uri": "https://localhost:8080/",
          "height": 103
        },
        "outputId": "8598d794-87da-48de-9422-31dbec2f5c57"
      },
      "outputs": [
        {
          "output_type": "stream",
          "name": "stderr",
          "text": [
            "Downloading...\n",
            "From: https://drive.google.com/uc?id=16HZKULqv2sX6AMqi4A8ndQ9ULeCLo4Qt\n",
            "To: /content/online_retail.csv\n",
            "100%|██████████| 44.5M/44.5M [00:00<00:00, 52.3MB/s]\n"
          ]
        },
        {
          "output_type": "execute_result",
          "data": {
            "text/plain": [
              "'online_retail.csv'"
            ],
            "application/vnd.google.colaboratory.intrinsic+json": {
              "type": "string"
            }
          },
          "metadata": {},
          "execution_count": 131
        }
      ],
      "source": [
        "# Download the file from co:rise google drive\n",
        "file_name = \"online_retail.csv\"\n",
        "unique_id = \"16HZKULqv2sX6AMqi4A8ndQ9ULeCLo4Qt\"\n",
        "gdown.download(id=unique_id, output=file_name)"
      ]
    },
    {
      "cell_type": "markdown",
      "metadata": {
        "id": "OjJgWHSpVLCG"
      },
      "source": [
        "### Clean & Prepare the Dataset"
      ]
    },
    {
      "cell_type": "markdown",
      "source": [
        "Now we'll import the data as a pandas dataframe. The code below will show you the first 5 rows of the dataframe, but feel free to explore the data further!"
      ],
      "metadata": {
        "id": "ggz-ny2U6FQn"
      }
    },
    {
      "cell_type": "code",
      "execution_count": 132,
      "metadata": {
        "id": "6vHVNKpadgNE",
        "colab": {
          "base_uri": "https://localhost:8080/",
          "height": 323
        },
        "outputId": "e707fb33-5478-49ad-97ce-f977ecb9afb0"
      },
      "outputs": [
        {
          "output_type": "execute_result",
          "data": {
            "text/plain": [
              "  InvoiceNo StockCode                          Description  Quantity  \\\n",
              "0    536365    85123A   WHITE HANGING HEART T-LIGHT HOLDER         6   \n",
              "1    536365     71053                  WHITE METAL LANTERN         6   \n",
              "2    536365    84406B       CREAM CUPID HEARTS COAT HANGER         8   \n",
              "3    536365    84029G  KNITTED UNION FLAG HOT WATER BOTTLE         6   \n",
              "4    536365    84029E       RED WOOLLY HOTTIE WHITE HEART.         6   \n",
              "\n",
              "    InvoiceDate  UnitPrice  CustomerID         Country  \n",
              "0  12/1/21 8:26       2.55     17850.0  United Kingdom  \n",
              "1  12/1/21 8:26       3.39     17850.0  United Kingdom  \n",
              "2  12/1/21 8:26       2.75     17850.0  United Kingdom  \n",
              "3  12/1/21 8:26       3.39     17850.0  United Kingdom  \n",
              "4  12/1/21 8:26       3.39     17850.0  United Kingdom  "
            ],
            "text/html": [
              "\n",
              "  <div id=\"df-17b68dfb-b9e0-4986-974c-bfbce8289050\" class=\"colab-df-container\">\n",
              "    <div>\n",
              "<style scoped>\n",
              "    .dataframe tbody tr th:only-of-type {\n",
              "        vertical-align: middle;\n",
              "    }\n",
              "\n",
              "    .dataframe tbody tr th {\n",
              "        vertical-align: top;\n",
              "    }\n",
              "\n",
              "    .dataframe thead th {\n",
              "        text-align: right;\n",
              "    }\n",
              "</style>\n",
              "<table border=\"1\" class=\"dataframe\">\n",
              "  <thead>\n",
              "    <tr style=\"text-align: right;\">\n",
              "      <th></th>\n",
              "      <th>InvoiceNo</th>\n",
              "      <th>StockCode</th>\n",
              "      <th>Description</th>\n",
              "      <th>Quantity</th>\n",
              "      <th>InvoiceDate</th>\n",
              "      <th>UnitPrice</th>\n",
              "      <th>CustomerID</th>\n",
              "      <th>Country</th>\n",
              "    </tr>\n",
              "  </thead>\n",
              "  <tbody>\n",
              "    <tr>\n",
              "      <th>0</th>\n",
              "      <td>536365</td>\n",
              "      <td>85123A</td>\n",
              "      <td>WHITE HANGING HEART T-LIGHT HOLDER</td>\n",
              "      <td>6</td>\n",
              "      <td>12/1/21 8:26</td>\n",
              "      <td>2.55</td>\n",
              "      <td>17850.0</td>\n",
              "      <td>United Kingdom</td>\n",
              "    </tr>\n",
              "    <tr>\n",
              "      <th>1</th>\n",
              "      <td>536365</td>\n",
              "      <td>71053</td>\n",
              "      <td>WHITE METAL LANTERN</td>\n",
              "      <td>6</td>\n",
              "      <td>12/1/21 8:26</td>\n",
              "      <td>3.39</td>\n",
              "      <td>17850.0</td>\n",
              "      <td>United Kingdom</td>\n",
              "    </tr>\n",
              "    <tr>\n",
              "      <th>2</th>\n",
              "      <td>536365</td>\n",
              "      <td>84406B</td>\n",
              "      <td>CREAM CUPID HEARTS COAT HANGER</td>\n",
              "      <td>8</td>\n",
              "      <td>12/1/21 8:26</td>\n",
              "      <td>2.75</td>\n",
              "      <td>17850.0</td>\n",
              "      <td>United Kingdom</td>\n",
              "    </tr>\n",
              "    <tr>\n",
              "      <th>3</th>\n",
              "      <td>536365</td>\n",
              "      <td>84029G</td>\n",
              "      <td>KNITTED UNION FLAG HOT WATER BOTTLE</td>\n",
              "      <td>6</td>\n",
              "      <td>12/1/21 8:26</td>\n",
              "      <td>3.39</td>\n",
              "      <td>17850.0</td>\n",
              "      <td>United Kingdom</td>\n",
              "    </tr>\n",
              "    <tr>\n",
              "      <th>4</th>\n",
              "      <td>536365</td>\n",
              "      <td>84029E</td>\n",
              "      <td>RED WOOLLY HOTTIE WHITE HEART.</td>\n",
              "      <td>6</td>\n",
              "      <td>12/1/21 8:26</td>\n",
              "      <td>3.39</td>\n",
              "      <td>17850.0</td>\n",
              "      <td>United Kingdom</td>\n",
              "    </tr>\n",
              "  </tbody>\n",
              "</table>\n",
              "</div>\n",
              "    <div class=\"colab-df-buttons\">\n",
              "\n",
              "  <div class=\"colab-df-container\">\n",
              "    <button class=\"colab-df-convert\" onclick=\"convertToInteractive('df-17b68dfb-b9e0-4986-974c-bfbce8289050')\"\n",
              "            title=\"Convert this dataframe to an interactive table.\"\n",
              "            style=\"display:none;\">\n",
              "\n",
              "  <svg xmlns=\"http://www.w3.org/2000/svg\" height=\"24px\" viewBox=\"0 -960 960 960\">\n",
              "    <path d=\"M120-120v-720h720v720H120Zm60-500h600v-160H180v160Zm220 220h160v-160H400v160Zm0 220h160v-160H400v160ZM180-400h160v-160H180v160Zm440 0h160v-160H620v160ZM180-180h160v-160H180v160Zm440 0h160v-160H620v160Z\"/>\n",
              "  </svg>\n",
              "    </button>\n",
              "\n",
              "  <style>\n",
              "    .colab-df-container {\n",
              "      display:flex;\n",
              "      gap: 12px;\n",
              "    }\n",
              "\n",
              "    .colab-df-convert {\n",
              "      background-color: #E8F0FE;\n",
              "      border: none;\n",
              "      border-radius: 50%;\n",
              "      cursor: pointer;\n",
              "      display: none;\n",
              "      fill: #1967D2;\n",
              "      height: 32px;\n",
              "      padding: 0 0 0 0;\n",
              "      width: 32px;\n",
              "    }\n",
              "\n",
              "    .colab-df-convert:hover {\n",
              "      background-color: #E2EBFA;\n",
              "      box-shadow: 0px 1px 2px rgba(60, 64, 67, 0.3), 0px 1px 3px 1px rgba(60, 64, 67, 0.15);\n",
              "      fill: #174EA6;\n",
              "    }\n",
              "\n",
              "    .colab-df-buttons div {\n",
              "      margin-bottom: 4px;\n",
              "    }\n",
              "\n",
              "    [theme=dark] .colab-df-convert {\n",
              "      background-color: #3B4455;\n",
              "      fill: #D2E3FC;\n",
              "    }\n",
              "\n",
              "    [theme=dark] .colab-df-convert:hover {\n",
              "      background-color: #434B5C;\n",
              "      box-shadow: 0px 1px 3px 1px rgba(0, 0, 0, 0.15);\n",
              "      filter: drop-shadow(0px 1px 2px rgba(0, 0, 0, 0.3));\n",
              "      fill: #FFFFFF;\n",
              "    }\n",
              "  </style>\n",
              "\n",
              "    <script>\n",
              "      const buttonEl =\n",
              "        document.querySelector('#df-17b68dfb-b9e0-4986-974c-bfbce8289050 button.colab-df-convert');\n",
              "      buttonEl.style.display =\n",
              "        google.colab.kernel.accessAllowed ? 'block' : 'none';\n",
              "\n",
              "      async function convertToInteractive(key) {\n",
              "        const element = document.querySelector('#df-17b68dfb-b9e0-4986-974c-bfbce8289050');\n",
              "        const dataTable =\n",
              "          await google.colab.kernel.invokeFunction('convertToInteractive',\n",
              "                                                    [key], {});\n",
              "        if (!dataTable) return;\n",
              "\n",
              "        const docLinkHtml = 'Like what you see? Visit the ' +\n",
              "          '<a target=\"_blank\" href=https://colab.research.google.com/notebooks/data_table.ipynb>data table notebook</a>'\n",
              "          + ' to learn more about interactive tables.';\n",
              "        element.innerHTML = '';\n",
              "        dataTable['output_type'] = 'display_data';\n",
              "        await google.colab.output.renderOutput(dataTable, element);\n",
              "        const docLink = document.createElement('div');\n",
              "        docLink.innerHTML = docLinkHtml;\n",
              "        element.appendChild(docLink);\n",
              "      }\n",
              "    </script>\n",
              "  </div>\n",
              "\n",
              "\n",
              "<div id=\"df-4e696e33-658a-46e0-a441-13c6d965035a\">\n",
              "  <button class=\"colab-df-quickchart\" onclick=\"quickchart('df-4e696e33-658a-46e0-a441-13c6d965035a')\"\n",
              "            title=\"Suggest charts.\"\n",
              "            style=\"display:none;\">\n",
              "\n",
              "<svg xmlns=\"http://www.w3.org/2000/svg\" height=\"24px\"viewBox=\"0 0 24 24\"\n",
              "     width=\"24px\">\n",
              "    <g>\n",
              "        <path d=\"M19 3H5c-1.1 0-2 .9-2 2v14c0 1.1.9 2 2 2h14c1.1 0 2-.9 2-2V5c0-1.1-.9-2-2-2zM9 17H7v-7h2v7zm4 0h-2V7h2v10zm4 0h-2v-4h2v4z\"/>\n",
              "    </g>\n",
              "</svg>\n",
              "  </button>\n",
              "\n",
              "<style>\n",
              "  .colab-df-quickchart {\n",
              "      --bg-color: #E8F0FE;\n",
              "      --fill-color: #1967D2;\n",
              "      --hover-bg-color: #E2EBFA;\n",
              "      --hover-fill-color: #174EA6;\n",
              "      --disabled-fill-color: #AAA;\n",
              "      --disabled-bg-color: #DDD;\n",
              "  }\n",
              "\n",
              "  [theme=dark] .colab-df-quickchart {\n",
              "      --bg-color: #3B4455;\n",
              "      --fill-color: #D2E3FC;\n",
              "      --hover-bg-color: #434B5C;\n",
              "      --hover-fill-color: #FFFFFF;\n",
              "      --disabled-bg-color: #3B4455;\n",
              "      --disabled-fill-color: #666;\n",
              "  }\n",
              "\n",
              "  .colab-df-quickchart {\n",
              "    background-color: var(--bg-color);\n",
              "    border: none;\n",
              "    border-radius: 50%;\n",
              "    cursor: pointer;\n",
              "    display: none;\n",
              "    fill: var(--fill-color);\n",
              "    height: 32px;\n",
              "    padding: 0;\n",
              "    width: 32px;\n",
              "  }\n",
              "\n",
              "  .colab-df-quickchart:hover {\n",
              "    background-color: var(--hover-bg-color);\n",
              "    box-shadow: 0 1px 2px rgba(60, 64, 67, 0.3), 0 1px 3px 1px rgba(60, 64, 67, 0.15);\n",
              "    fill: var(--button-hover-fill-color);\n",
              "  }\n",
              "\n",
              "  .colab-df-quickchart-complete:disabled,\n",
              "  .colab-df-quickchart-complete:disabled:hover {\n",
              "    background-color: var(--disabled-bg-color);\n",
              "    fill: var(--disabled-fill-color);\n",
              "    box-shadow: none;\n",
              "  }\n",
              "\n",
              "  .colab-df-spinner {\n",
              "    border: 2px solid var(--fill-color);\n",
              "    border-color: transparent;\n",
              "    border-bottom-color: var(--fill-color);\n",
              "    animation:\n",
              "      spin 1s steps(1) infinite;\n",
              "  }\n",
              "\n",
              "  @keyframes spin {\n",
              "    0% {\n",
              "      border-color: transparent;\n",
              "      border-bottom-color: var(--fill-color);\n",
              "      border-left-color: var(--fill-color);\n",
              "    }\n",
              "    20% {\n",
              "      border-color: transparent;\n",
              "      border-left-color: var(--fill-color);\n",
              "      border-top-color: var(--fill-color);\n",
              "    }\n",
              "    30% {\n",
              "      border-color: transparent;\n",
              "      border-left-color: var(--fill-color);\n",
              "      border-top-color: var(--fill-color);\n",
              "      border-right-color: var(--fill-color);\n",
              "    }\n",
              "    40% {\n",
              "      border-color: transparent;\n",
              "      border-right-color: var(--fill-color);\n",
              "      border-top-color: var(--fill-color);\n",
              "    }\n",
              "    60% {\n",
              "      border-color: transparent;\n",
              "      border-right-color: var(--fill-color);\n",
              "    }\n",
              "    80% {\n",
              "      border-color: transparent;\n",
              "      border-right-color: var(--fill-color);\n",
              "      border-bottom-color: var(--fill-color);\n",
              "    }\n",
              "    90% {\n",
              "      border-color: transparent;\n",
              "      border-bottom-color: var(--fill-color);\n",
              "    }\n",
              "  }\n",
              "</style>\n",
              "\n",
              "  <script>\n",
              "    async function quickchart(key) {\n",
              "      const quickchartButtonEl =\n",
              "        document.querySelector('#' + key + ' button');\n",
              "      quickchartButtonEl.disabled = true;  // To prevent multiple clicks.\n",
              "      quickchartButtonEl.classList.add('colab-df-spinner');\n",
              "      try {\n",
              "        const charts = await google.colab.kernel.invokeFunction(\n",
              "            'suggestCharts', [key], {});\n",
              "      } catch (error) {\n",
              "        console.error('Error during call to suggestCharts:', error);\n",
              "      }\n",
              "      quickchartButtonEl.classList.remove('colab-df-spinner');\n",
              "      quickchartButtonEl.classList.add('colab-df-quickchart-complete');\n",
              "    }\n",
              "    (() => {\n",
              "      let quickchartButtonEl =\n",
              "        document.querySelector('#df-4e696e33-658a-46e0-a441-13c6d965035a button');\n",
              "      quickchartButtonEl.style.display =\n",
              "        google.colab.kernel.accessAllowed ? 'block' : 'none';\n",
              "    })();\n",
              "  </script>\n",
              "</div>\n",
              "    </div>\n",
              "  </div>\n"
            ]
          },
          "metadata": {},
          "execution_count": 132
        }
      ],
      "source": [
        "# import data and show first 5 rows\n",
        "data = pd.read_csv(file_name)\n",
        "data.head()"
      ]
    },
    {
      "cell_type": "markdown",
      "metadata": {
        "id": "ddQHZwyOa3MN"
      },
      "source": [
        "## Project Jumpstart"
      ]
    },
    {
      "cell_type": "markdown",
      "metadata": {
        "id": "gZpxbAMyfGwI"
      },
      "source": [
        "### Explore Basic Statistics You Get Out of the Box with Pandas"
      ]
    },
    {
      "cell_type": "code",
      "execution_count": 133,
      "metadata": {
        "id": "UuxfW2EBfguL",
        "colab": {
          "base_uri": "https://localhost:8080/"
        },
        "outputId": "8ca53e26-73b5-4951-8dc5-0d40b0ea668a"
      },
      "outputs": [
        {
          "output_type": "execute_result",
          "data": {
            "text/plain": [
              "(541909, 8)"
            ]
          },
          "metadata": {},
          "execution_count": 133
        }
      ],
      "source": [
        "# check record count and column count\n",
        "data.shape"
      ]
    },
    {
      "cell_type": "code",
      "execution_count": 134,
      "metadata": {
        "id": "updJj9X7flfQ",
        "colab": {
          "base_uri": "https://localhost:8080/"
        },
        "outputId": "b4e76650-c010-409b-9ca6-853356c803b5"
      },
      "outputs": [
        {
          "output_type": "stream",
          "name": "stdout",
          "text": [
            "<class 'pandas.core.frame.DataFrame'>\n",
            "RangeIndex: 541909 entries, 0 to 541908\n",
            "Data columns (total 8 columns):\n",
            " #   Column       Non-Null Count   Dtype  \n",
            "---  ------       --------------   -----  \n",
            " 0   InvoiceNo    541909 non-null  object \n",
            " 1   StockCode    541909 non-null  object \n",
            " 2   Description  540455 non-null  object \n",
            " 3   Quantity     541909 non-null  int64  \n",
            " 4   InvoiceDate  541909 non-null  object \n",
            " 5   UnitPrice    541909 non-null  float64\n",
            " 6   CustomerID   406829 non-null  float64\n",
            " 7   Country      541909 non-null  object \n",
            "dtypes: float64(2), int64(1), object(5)\n",
            "memory usage: 33.1+ MB\n"
          ]
        }
      ],
      "source": [
        "# review basic information about the dataset including column names, data types, non-null counts, and memory usage\n",
        "data.info()"
      ]
    },
    {
      "cell_type": "code",
      "execution_count": 135,
      "metadata": {
        "id": "7YpzC3gVf0bH",
        "colab": {
          "base_uri": "https://localhost:8080/"
        },
        "outputId": "fc34d751-6f17-4a17-8ad6-d0110257af45"
      },
      "outputs": [
        {
          "output_type": "execute_result",
          "data": {
            "text/plain": [
              "InvoiceNo           0\n",
              "StockCode           0\n",
              "Description      1454\n",
              "Quantity            0\n",
              "InvoiceDate         0\n",
              "UnitPrice           0\n",
              "CustomerID     135080\n",
              "Country             0\n",
              "dtype: int64"
            ]
          },
          "metadata": {},
          "execution_count": 135
        }
      ],
      "source": [
        "# check the number of missing values in each column\n",
        "data.isnull().sum(axis=0)"
      ]
    },
    {
      "cell_type": "markdown",
      "metadata": {
        "id": "tOlxNAWja3MP"
      },
      "source": [
        "On the job, you'll need to explore if there are specific patterns to the missing values. For the sake of expediency and simplicity in this project, we'll drop them."
      ]
    },
    {
      "cell_type": "code",
      "execution_count": 136,
      "metadata": {
        "id": "Wm-b3eZygVO3",
        "colab": {
          "base_uri": "https://localhost:8080/"
        },
        "outputId": "443ae7e2-5f9b-4419-dd82-58c013841786"
      },
      "outputs": [
        {
          "output_type": "execute_result",
          "data": {
            "text/plain": [
              "InvoiceNo      0\n",
              "StockCode      0\n",
              "Description    0\n",
              "Quantity       0\n",
              "InvoiceDate    0\n",
              "UnitPrice      0\n",
              "CustomerID     0\n",
              "Country        0\n",
              "dtype: int64"
            ]
          },
          "metadata": {},
          "execution_count": 136
        }
      ],
      "source": [
        "# Drop missing values and validate that there are no missing values after the fix\n",
        "data = data.dropna().reset_index(drop=True)\n",
        "data.isnull().sum(axis=0)"
      ]
    },
    {
      "cell_type": "code",
      "execution_count": 137,
      "metadata": {
        "id": "OYwdj7oCg9iX",
        "colab": {
          "base_uri": "https://localhost:8080/"
        },
        "outputId": "d91a09ac-8e44-4802-d54e-97a4469f9159"
      },
      "outputs": [
        {
          "output_type": "execute_result",
          "data": {
            "text/plain": [
              "InvoiceNo      22190\n",
              "StockCode       3684\n",
              "Description     3896\n",
              "Quantity         436\n",
              "InvoiceDate    20460\n",
              "UnitPrice        620\n",
              "CustomerID      4372\n",
              "Country           37\n",
              "dtype: int64"
            ]
          },
          "metadata": {},
          "execution_count": 137
        }
      ],
      "source": [
        "# Check the number of unique values in each column\n",
        "data.nunique()"
      ]
    },
    {
      "cell_type": "code",
      "execution_count": 138,
      "metadata": {
        "id": "6Bkh7diza3MP",
        "colab": {
          "base_uri": "https://localhost:8080/",
          "height": 297
        },
        "outputId": "a3d595db-bddf-4ffd-c75e-99f54a913c9a"
      },
      "outputs": [
        {
          "output_type": "execute_result",
          "data": {
            "text/plain": [
              "            Quantity      UnitPrice     CustomerID\n",
              "count  406829.000000  406829.000000  406829.000000\n",
              "mean       12.061303       3.460471   15287.690570\n",
              "std       248.693370      69.315162    1713.600303\n",
              "min    -80995.000000       0.000000   12346.000000\n",
              "25%         2.000000       1.250000   13953.000000\n",
              "50%         5.000000       1.950000   15152.000000\n",
              "75%        12.000000       3.750000   16791.000000\n",
              "max     80995.000000   38970.000000   18287.000000"
            ],
            "text/html": [
              "\n",
              "  <div id=\"df-5087b90a-6e24-487d-ae28-04ee49bd149d\" class=\"colab-df-container\">\n",
              "    <div>\n",
              "<style scoped>\n",
              "    .dataframe tbody tr th:only-of-type {\n",
              "        vertical-align: middle;\n",
              "    }\n",
              "\n",
              "    .dataframe tbody tr th {\n",
              "        vertical-align: top;\n",
              "    }\n",
              "\n",
              "    .dataframe thead th {\n",
              "        text-align: right;\n",
              "    }\n",
              "</style>\n",
              "<table border=\"1\" class=\"dataframe\">\n",
              "  <thead>\n",
              "    <tr style=\"text-align: right;\">\n",
              "      <th></th>\n",
              "      <th>Quantity</th>\n",
              "      <th>UnitPrice</th>\n",
              "      <th>CustomerID</th>\n",
              "    </tr>\n",
              "  </thead>\n",
              "  <tbody>\n",
              "    <tr>\n",
              "      <th>count</th>\n",
              "      <td>406829.000000</td>\n",
              "      <td>406829.000000</td>\n",
              "      <td>406829.000000</td>\n",
              "    </tr>\n",
              "    <tr>\n",
              "      <th>mean</th>\n",
              "      <td>12.061303</td>\n",
              "      <td>3.460471</td>\n",
              "      <td>15287.690570</td>\n",
              "    </tr>\n",
              "    <tr>\n",
              "      <th>std</th>\n",
              "      <td>248.693370</td>\n",
              "      <td>69.315162</td>\n",
              "      <td>1713.600303</td>\n",
              "    </tr>\n",
              "    <tr>\n",
              "      <th>min</th>\n",
              "      <td>-80995.000000</td>\n",
              "      <td>0.000000</td>\n",
              "      <td>12346.000000</td>\n",
              "    </tr>\n",
              "    <tr>\n",
              "      <th>25%</th>\n",
              "      <td>2.000000</td>\n",
              "      <td>1.250000</td>\n",
              "      <td>13953.000000</td>\n",
              "    </tr>\n",
              "    <tr>\n",
              "      <th>50%</th>\n",
              "      <td>5.000000</td>\n",
              "      <td>1.950000</td>\n",
              "      <td>15152.000000</td>\n",
              "    </tr>\n",
              "    <tr>\n",
              "      <th>75%</th>\n",
              "      <td>12.000000</td>\n",
              "      <td>3.750000</td>\n",
              "      <td>16791.000000</td>\n",
              "    </tr>\n",
              "    <tr>\n",
              "      <th>max</th>\n",
              "      <td>80995.000000</td>\n",
              "      <td>38970.000000</td>\n",
              "      <td>18287.000000</td>\n",
              "    </tr>\n",
              "  </tbody>\n",
              "</table>\n",
              "</div>\n",
              "    <div class=\"colab-df-buttons\">\n",
              "\n",
              "  <div class=\"colab-df-container\">\n",
              "    <button class=\"colab-df-convert\" onclick=\"convertToInteractive('df-5087b90a-6e24-487d-ae28-04ee49bd149d')\"\n",
              "            title=\"Convert this dataframe to an interactive table.\"\n",
              "            style=\"display:none;\">\n",
              "\n",
              "  <svg xmlns=\"http://www.w3.org/2000/svg\" height=\"24px\" viewBox=\"0 -960 960 960\">\n",
              "    <path d=\"M120-120v-720h720v720H120Zm60-500h600v-160H180v160Zm220 220h160v-160H400v160Zm0 220h160v-160H400v160ZM180-400h160v-160H180v160Zm440 0h160v-160H620v160ZM180-180h160v-160H180v160Zm440 0h160v-160H620v160Z\"/>\n",
              "  </svg>\n",
              "    </button>\n",
              "\n",
              "  <style>\n",
              "    .colab-df-container {\n",
              "      display:flex;\n",
              "      gap: 12px;\n",
              "    }\n",
              "\n",
              "    .colab-df-convert {\n",
              "      background-color: #E8F0FE;\n",
              "      border: none;\n",
              "      border-radius: 50%;\n",
              "      cursor: pointer;\n",
              "      display: none;\n",
              "      fill: #1967D2;\n",
              "      height: 32px;\n",
              "      padding: 0 0 0 0;\n",
              "      width: 32px;\n",
              "    }\n",
              "\n",
              "    .colab-df-convert:hover {\n",
              "      background-color: #E2EBFA;\n",
              "      box-shadow: 0px 1px 2px rgba(60, 64, 67, 0.3), 0px 1px 3px 1px rgba(60, 64, 67, 0.15);\n",
              "      fill: #174EA6;\n",
              "    }\n",
              "\n",
              "    .colab-df-buttons div {\n",
              "      margin-bottom: 4px;\n",
              "    }\n",
              "\n",
              "    [theme=dark] .colab-df-convert {\n",
              "      background-color: #3B4455;\n",
              "      fill: #D2E3FC;\n",
              "    }\n",
              "\n",
              "    [theme=dark] .colab-df-convert:hover {\n",
              "      background-color: #434B5C;\n",
              "      box-shadow: 0px 1px 3px 1px rgba(0, 0, 0, 0.15);\n",
              "      filter: drop-shadow(0px 1px 2px rgba(0, 0, 0, 0.3));\n",
              "      fill: #FFFFFF;\n",
              "    }\n",
              "  </style>\n",
              "\n",
              "    <script>\n",
              "      const buttonEl =\n",
              "        document.querySelector('#df-5087b90a-6e24-487d-ae28-04ee49bd149d button.colab-df-convert');\n",
              "      buttonEl.style.display =\n",
              "        google.colab.kernel.accessAllowed ? 'block' : 'none';\n",
              "\n",
              "      async function convertToInteractive(key) {\n",
              "        const element = document.querySelector('#df-5087b90a-6e24-487d-ae28-04ee49bd149d');\n",
              "        const dataTable =\n",
              "          await google.colab.kernel.invokeFunction('convertToInteractive',\n",
              "                                                    [key], {});\n",
              "        if (!dataTable) return;\n",
              "\n",
              "        const docLinkHtml = 'Like what you see? Visit the ' +\n",
              "          '<a target=\"_blank\" href=https://colab.research.google.com/notebooks/data_table.ipynb>data table notebook</a>'\n",
              "          + ' to learn more about interactive tables.';\n",
              "        element.innerHTML = '';\n",
              "        dataTable['output_type'] = 'display_data';\n",
              "        await google.colab.output.renderOutput(dataTable, element);\n",
              "        const docLink = document.createElement('div');\n",
              "        docLink.innerHTML = docLinkHtml;\n",
              "        element.appendChild(docLink);\n",
              "      }\n",
              "    </script>\n",
              "  </div>\n",
              "\n",
              "\n",
              "<div id=\"df-f050ce4f-b9ba-407a-a2c1-57d9d40282d0\">\n",
              "  <button class=\"colab-df-quickchart\" onclick=\"quickchart('df-f050ce4f-b9ba-407a-a2c1-57d9d40282d0')\"\n",
              "            title=\"Suggest charts.\"\n",
              "            style=\"display:none;\">\n",
              "\n",
              "<svg xmlns=\"http://www.w3.org/2000/svg\" height=\"24px\"viewBox=\"0 0 24 24\"\n",
              "     width=\"24px\">\n",
              "    <g>\n",
              "        <path d=\"M19 3H5c-1.1 0-2 .9-2 2v14c0 1.1.9 2 2 2h14c1.1 0 2-.9 2-2V5c0-1.1-.9-2-2-2zM9 17H7v-7h2v7zm4 0h-2V7h2v10zm4 0h-2v-4h2v4z\"/>\n",
              "    </g>\n",
              "</svg>\n",
              "  </button>\n",
              "\n",
              "<style>\n",
              "  .colab-df-quickchart {\n",
              "      --bg-color: #E8F0FE;\n",
              "      --fill-color: #1967D2;\n",
              "      --hover-bg-color: #E2EBFA;\n",
              "      --hover-fill-color: #174EA6;\n",
              "      --disabled-fill-color: #AAA;\n",
              "      --disabled-bg-color: #DDD;\n",
              "  }\n",
              "\n",
              "  [theme=dark] .colab-df-quickchart {\n",
              "      --bg-color: #3B4455;\n",
              "      --fill-color: #D2E3FC;\n",
              "      --hover-bg-color: #434B5C;\n",
              "      --hover-fill-color: #FFFFFF;\n",
              "      --disabled-bg-color: #3B4455;\n",
              "      --disabled-fill-color: #666;\n",
              "  }\n",
              "\n",
              "  .colab-df-quickchart {\n",
              "    background-color: var(--bg-color);\n",
              "    border: none;\n",
              "    border-radius: 50%;\n",
              "    cursor: pointer;\n",
              "    display: none;\n",
              "    fill: var(--fill-color);\n",
              "    height: 32px;\n",
              "    padding: 0;\n",
              "    width: 32px;\n",
              "  }\n",
              "\n",
              "  .colab-df-quickchart:hover {\n",
              "    background-color: var(--hover-bg-color);\n",
              "    box-shadow: 0 1px 2px rgba(60, 64, 67, 0.3), 0 1px 3px 1px rgba(60, 64, 67, 0.15);\n",
              "    fill: var(--button-hover-fill-color);\n",
              "  }\n",
              "\n",
              "  .colab-df-quickchart-complete:disabled,\n",
              "  .colab-df-quickchart-complete:disabled:hover {\n",
              "    background-color: var(--disabled-bg-color);\n",
              "    fill: var(--disabled-fill-color);\n",
              "    box-shadow: none;\n",
              "  }\n",
              "\n",
              "  .colab-df-spinner {\n",
              "    border: 2px solid var(--fill-color);\n",
              "    border-color: transparent;\n",
              "    border-bottom-color: var(--fill-color);\n",
              "    animation:\n",
              "      spin 1s steps(1) infinite;\n",
              "  }\n",
              "\n",
              "  @keyframes spin {\n",
              "    0% {\n",
              "      border-color: transparent;\n",
              "      border-bottom-color: var(--fill-color);\n",
              "      border-left-color: var(--fill-color);\n",
              "    }\n",
              "    20% {\n",
              "      border-color: transparent;\n",
              "      border-left-color: var(--fill-color);\n",
              "      border-top-color: var(--fill-color);\n",
              "    }\n",
              "    30% {\n",
              "      border-color: transparent;\n",
              "      border-left-color: var(--fill-color);\n",
              "      border-top-color: var(--fill-color);\n",
              "      border-right-color: var(--fill-color);\n",
              "    }\n",
              "    40% {\n",
              "      border-color: transparent;\n",
              "      border-right-color: var(--fill-color);\n",
              "      border-top-color: var(--fill-color);\n",
              "    }\n",
              "    60% {\n",
              "      border-color: transparent;\n",
              "      border-right-color: var(--fill-color);\n",
              "    }\n",
              "    80% {\n",
              "      border-color: transparent;\n",
              "      border-right-color: var(--fill-color);\n",
              "      border-bottom-color: var(--fill-color);\n",
              "    }\n",
              "    90% {\n",
              "      border-color: transparent;\n",
              "      border-bottom-color: var(--fill-color);\n",
              "    }\n",
              "  }\n",
              "</style>\n",
              "\n",
              "  <script>\n",
              "    async function quickchart(key) {\n",
              "      const quickchartButtonEl =\n",
              "        document.querySelector('#' + key + ' button');\n",
              "      quickchartButtonEl.disabled = true;  // To prevent multiple clicks.\n",
              "      quickchartButtonEl.classList.add('colab-df-spinner');\n",
              "      try {\n",
              "        const charts = await google.colab.kernel.invokeFunction(\n",
              "            'suggestCharts', [key], {});\n",
              "      } catch (error) {\n",
              "        console.error('Error during call to suggestCharts:', error);\n",
              "      }\n",
              "      quickchartButtonEl.classList.remove('colab-df-spinner');\n",
              "      quickchartButtonEl.classList.add('colab-df-quickchart-complete');\n",
              "    }\n",
              "    (() => {\n",
              "      let quickchartButtonEl =\n",
              "        document.querySelector('#df-f050ce4f-b9ba-407a-a2c1-57d9d40282d0 button');\n",
              "      quickchartButtonEl.style.display =\n",
              "        google.colab.kernel.accessAllowed ? 'block' : 'none';\n",
              "    })();\n",
              "  </script>\n",
              "</div>\n",
              "    </div>\n",
              "  </div>\n"
            ]
          },
          "metadata": {},
          "execution_count": 138
        }
      ],
      "source": [
        "# Use pandas describe() method to get a summary of the numerical columns\n",
        "basic_stats = pd.DataFrame(data.describe())\n",
        "basic_stats"
      ]
    },
    {
      "cell_type": "markdown",
      "source": [
        "Now we need to create columns for Year, Month, Day, and Quarter so that your leadership team at CostPro can look at statistics for specific time periods in your dashboard."
      ],
      "metadata": {
        "id": "ZRbJqGMB8KZn"
      }
    },
    {
      "cell_type": "code",
      "execution_count": 139,
      "metadata": {
        "id": "GXslL7GvhjnN"
      },
      "outputs": [],
      "source": [
        "# Format date columns\n",
        "# Note: the pandas to_datetime function is being deprecated in the near future\n",
        "data['InvoiceDate'] = pd.to_datetime(data['InvoiceDate'])\n",
        "\n",
        "data[\"Year\"] = data[\"InvoiceDate\"].dt.year\n",
        "data[\"Month\"] = data[\"InvoiceDate\"].dt.month\n",
        "data[\"Day\"] = data[\"InvoiceDate\"].dt.day\n",
        "data[\"Quarter\"] = data[\"InvoiceDate\"].dt.quarter"
      ]
    },
    {
      "cell_type": "markdown",
      "metadata": {
        "id": "oNGnj-_pa3MQ"
      },
      "source": [
        "### Clean the Data\n",
        "\n",
        "Check the basic stats on the numeric data again, what do you notice?"
      ]
    },
    {
      "cell_type": "code",
      "execution_count": 140,
      "metadata": {
        "id": "eRy122Waa3MQ",
        "colab": {
          "base_uri": "https://localhost:8080/",
          "height": 297
        },
        "outputId": "d292a2eb-c223-4ed3-a3dd-5186f9bf43b8"
      },
      "outputs": [
        {
          "output_type": "execute_result",
          "data": {
            "text/plain": [
              "            Quantity      UnitPrice     CustomerID\n",
              "count  406829.000000  406829.000000  406829.000000\n",
              "mean       12.061303       3.460471   15287.690570\n",
              "std       248.693370      69.315162    1713.600303\n",
              "min    -80995.000000       0.000000   12346.000000\n",
              "25%         2.000000       1.250000   13953.000000\n",
              "50%         5.000000       1.950000   15152.000000\n",
              "75%        12.000000       3.750000   16791.000000\n",
              "max     80995.000000   38970.000000   18287.000000"
            ],
            "text/html": [
              "\n",
              "  <div id=\"df-1543d798-cae2-4c92-b2e5-cc18c28a4ee6\" class=\"colab-df-container\">\n",
              "    <div>\n",
              "<style scoped>\n",
              "    .dataframe tbody tr th:only-of-type {\n",
              "        vertical-align: middle;\n",
              "    }\n",
              "\n",
              "    .dataframe tbody tr th {\n",
              "        vertical-align: top;\n",
              "    }\n",
              "\n",
              "    .dataframe thead th {\n",
              "        text-align: right;\n",
              "    }\n",
              "</style>\n",
              "<table border=\"1\" class=\"dataframe\">\n",
              "  <thead>\n",
              "    <tr style=\"text-align: right;\">\n",
              "      <th></th>\n",
              "      <th>Quantity</th>\n",
              "      <th>UnitPrice</th>\n",
              "      <th>CustomerID</th>\n",
              "    </tr>\n",
              "  </thead>\n",
              "  <tbody>\n",
              "    <tr>\n",
              "      <th>count</th>\n",
              "      <td>406829.000000</td>\n",
              "      <td>406829.000000</td>\n",
              "      <td>406829.000000</td>\n",
              "    </tr>\n",
              "    <tr>\n",
              "      <th>mean</th>\n",
              "      <td>12.061303</td>\n",
              "      <td>3.460471</td>\n",
              "      <td>15287.690570</td>\n",
              "    </tr>\n",
              "    <tr>\n",
              "      <th>std</th>\n",
              "      <td>248.693370</td>\n",
              "      <td>69.315162</td>\n",
              "      <td>1713.600303</td>\n",
              "    </tr>\n",
              "    <tr>\n",
              "      <th>min</th>\n",
              "      <td>-80995.000000</td>\n",
              "      <td>0.000000</td>\n",
              "      <td>12346.000000</td>\n",
              "    </tr>\n",
              "    <tr>\n",
              "      <th>25%</th>\n",
              "      <td>2.000000</td>\n",
              "      <td>1.250000</td>\n",
              "      <td>13953.000000</td>\n",
              "    </tr>\n",
              "    <tr>\n",
              "      <th>50%</th>\n",
              "      <td>5.000000</td>\n",
              "      <td>1.950000</td>\n",
              "      <td>15152.000000</td>\n",
              "    </tr>\n",
              "    <tr>\n",
              "      <th>75%</th>\n",
              "      <td>12.000000</td>\n",
              "      <td>3.750000</td>\n",
              "      <td>16791.000000</td>\n",
              "    </tr>\n",
              "    <tr>\n",
              "      <th>max</th>\n",
              "      <td>80995.000000</td>\n",
              "      <td>38970.000000</td>\n",
              "      <td>18287.000000</td>\n",
              "    </tr>\n",
              "  </tbody>\n",
              "</table>\n",
              "</div>\n",
              "    <div class=\"colab-df-buttons\">\n",
              "\n",
              "  <div class=\"colab-df-container\">\n",
              "    <button class=\"colab-df-convert\" onclick=\"convertToInteractive('df-1543d798-cae2-4c92-b2e5-cc18c28a4ee6')\"\n",
              "            title=\"Convert this dataframe to an interactive table.\"\n",
              "            style=\"display:none;\">\n",
              "\n",
              "  <svg xmlns=\"http://www.w3.org/2000/svg\" height=\"24px\" viewBox=\"0 -960 960 960\">\n",
              "    <path d=\"M120-120v-720h720v720H120Zm60-500h600v-160H180v160Zm220 220h160v-160H400v160Zm0 220h160v-160H400v160ZM180-400h160v-160H180v160Zm440 0h160v-160H620v160ZM180-180h160v-160H180v160Zm440 0h160v-160H620v160Z\"/>\n",
              "  </svg>\n",
              "    </button>\n",
              "\n",
              "  <style>\n",
              "    .colab-df-container {\n",
              "      display:flex;\n",
              "      gap: 12px;\n",
              "    }\n",
              "\n",
              "    .colab-df-convert {\n",
              "      background-color: #E8F0FE;\n",
              "      border: none;\n",
              "      border-radius: 50%;\n",
              "      cursor: pointer;\n",
              "      display: none;\n",
              "      fill: #1967D2;\n",
              "      height: 32px;\n",
              "      padding: 0 0 0 0;\n",
              "      width: 32px;\n",
              "    }\n",
              "\n",
              "    .colab-df-convert:hover {\n",
              "      background-color: #E2EBFA;\n",
              "      box-shadow: 0px 1px 2px rgba(60, 64, 67, 0.3), 0px 1px 3px 1px rgba(60, 64, 67, 0.15);\n",
              "      fill: #174EA6;\n",
              "    }\n",
              "\n",
              "    .colab-df-buttons div {\n",
              "      margin-bottom: 4px;\n",
              "    }\n",
              "\n",
              "    [theme=dark] .colab-df-convert {\n",
              "      background-color: #3B4455;\n",
              "      fill: #D2E3FC;\n",
              "    }\n",
              "\n",
              "    [theme=dark] .colab-df-convert:hover {\n",
              "      background-color: #434B5C;\n",
              "      box-shadow: 0px 1px 3px 1px rgba(0, 0, 0, 0.15);\n",
              "      filter: drop-shadow(0px 1px 2px rgba(0, 0, 0, 0.3));\n",
              "      fill: #FFFFFF;\n",
              "    }\n",
              "  </style>\n",
              "\n",
              "    <script>\n",
              "      const buttonEl =\n",
              "        document.querySelector('#df-1543d798-cae2-4c92-b2e5-cc18c28a4ee6 button.colab-df-convert');\n",
              "      buttonEl.style.display =\n",
              "        google.colab.kernel.accessAllowed ? 'block' : 'none';\n",
              "\n",
              "      async function convertToInteractive(key) {\n",
              "        const element = document.querySelector('#df-1543d798-cae2-4c92-b2e5-cc18c28a4ee6');\n",
              "        const dataTable =\n",
              "          await google.colab.kernel.invokeFunction('convertToInteractive',\n",
              "                                                    [key], {});\n",
              "        if (!dataTable) return;\n",
              "\n",
              "        const docLinkHtml = 'Like what you see? Visit the ' +\n",
              "          '<a target=\"_blank\" href=https://colab.research.google.com/notebooks/data_table.ipynb>data table notebook</a>'\n",
              "          + ' to learn more about interactive tables.';\n",
              "        element.innerHTML = '';\n",
              "        dataTable['output_type'] = 'display_data';\n",
              "        await google.colab.output.renderOutput(dataTable, element);\n",
              "        const docLink = document.createElement('div');\n",
              "        docLink.innerHTML = docLinkHtml;\n",
              "        element.appendChild(docLink);\n",
              "      }\n",
              "    </script>\n",
              "  </div>\n",
              "\n",
              "\n",
              "<div id=\"df-0d0f0474-8b76-4087-8362-fa6de2d9d0cf\">\n",
              "  <button class=\"colab-df-quickchart\" onclick=\"quickchart('df-0d0f0474-8b76-4087-8362-fa6de2d9d0cf')\"\n",
              "            title=\"Suggest charts.\"\n",
              "            style=\"display:none;\">\n",
              "\n",
              "<svg xmlns=\"http://www.w3.org/2000/svg\" height=\"24px\"viewBox=\"0 0 24 24\"\n",
              "     width=\"24px\">\n",
              "    <g>\n",
              "        <path d=\"M19 3H5c-1.1 0-2 .9-2 2v14c0 1.1.9 2 2 2h14c1.1 0 2-.9 2-2V5c0-1.1-.9-2-2-2zM9 17H7v-7h2v7zm4 0h-2V7h2v10zm4 0h-2v-4h2v4z\"/>\n",
              "    </g>\n",
              "</svg>\n",
              "  </button>\n",
              "\n",
              "<style>\n",
              "  .colab-df-quickchart {\n",
              "      --bg-color: #E8F0FE;\n",
              "      --fill-color: #1967D2;\n",
              "      --hover-bg-color: #E2EBFA;\n",
              "      --hover-fill-color: #174EA6;\n",
              "      --disabled-fill-color: #AAA;\n",
              "      --disabled-bg-color: #DDD;\n",
              "  }\n",
              "\n",
              "  [theme=dark] .colab-df-quickchart {\n",
              "      --bg-color: #3B4455;\n",
              "      --fill-color: #D2E3FC;\n",
              "      --hover-bg-color: #434B5C;\n",
              "      --hover-fill-color: #FFFFFF;\n",
              "      --disabled-bg-color: #3B4455;\n",
              "      --disabled-fill-color: #666;\n",
              "  }\n",
              "\n",
              "  .colab-df-quickchart {\n",
              "    background-color: var(--bg-color);\n",
              "    border: none;\n",
              "    border-radius: 50%;\n",
              "    cursor: pointer;\n",
              "    display: none;\n",
              "    fill: var(--fill-color);\n",
              "    height: 32px;\n",
              "    padding: 0;\n",
              "    width: 32px;\n",
              "  }\n",
              "\n",
              "  .colab-df-quickchart:hover {\n",
              "    background-color: var(--hover-bg-color);\n",
              "    box-shadow: 0 1px 2px rgba(60, 64, 67, 0.3), 0 1px 3px 1px rgba(60, 64, 67, 0.15);\n",
              "    fill: var(--button-hover-fill-color);\n",
              "  }\n",
              "\n",
              "  .colab-df-quickchart-complete:disabled,\n",
              "  .colab-df-quickchart-complete:disabled:hover {\n",
              "    background-color: var(--disabled-bg-color);\n",
              "    fill: var(--disabled-fill-color);\n",
              "    box-shadow: none;\n",
              "  }\n",
              "\n",
              "  .colab-df-spinner {\n",
              "    border: 2px solid var(--fill-color);\n",
              "    border-color: transparent;\n",
              "    border-bottom-color: var(--fill-color);\n",
              "    animation:\n",
              "      spin 1s steps(1) infinite;\n",
              "  }\n",
              "\n",
              "  @keyframes spin {\n",
              "    0% {\n",
              "      border-color: transparent;\n",
              "      border-bottom-color: var(--fill-color);\n",
              "      border-left-color: var(--fill-color);\n",
              "    }\n",
              "    20% {\n",
              "      border-color: transparent;\n",
              "      border-left-color: var(--fill-color);\n",
              "      border-top-color: var(--fill-color);\n",
              "    }\n",
              "    30% {\n",
              "      border-color: transparent;\n",
              "      border-left-color: var(--fill-color);\n",
              "      border-top-color: var(--fill-color);\n",
              "      border-right-color: var(--fill-color);\n",
              "    }\n",
              "    40% {\n",
              "      border-color: transparent;\n",
              "      border-right-color: var(--fill-color);\n",
              "      border-top-color: var(--fill-color);\n",
              "    }\n",
              "    60% {\n",
              "      border-color: transparent;\n",
              "      border-right-color: var(--fill-color);\n",
              "    }\n",
              "    80% {\n",
              "      border-color: transparent;\n",
              "      border-right-color: var(--fill-color);\n",
              "      border-bottom-color: var(--fill-color);\n",
              "    }\n",
              "    90% {\n",
              "      border-color: transparent;\n",
              "      border-bottom-color: var(--fill-color);\n",
              "    }\n",
              "  }\n",
              "</style>\n",
              "\n",
              "  <script>\n",
              "    async function quickchart(key) {\n",
              "      const quickchartButtonEl =\n",
              "        document.querySelector('#' + key + ' button');\n",
              "      quickchartButtonEl.disabled = true;  // To prevent multiple clicks.\n",
              "      quickchartButtonEl.classList.add('colab-df-spinner');\n",
              "      try {\n",
              "        const charts = await google.colab.kernel.invokeFunction(\n",
              "            'suggestCharts', [key], {});\n",
              "      } catch (error) {\n",
              "        console.error('Error during call to suggestCharts:', error);\n",
              "      }\n",
              "      quickchartButtonEl.classList.remove('colab-df-spinner');\n",
              "      quickchartButtonEl.classList.add('colab-df-quickchart-complete');\n",
              "    }\n",
              "    (() => {\n",
              "      let quickchartButtonEl =\n",
              "        document.querySelector('#df-0d0f0474-8b76-4087-8362-fa6de2d9d0cf button');\n",
              "      quickchartButtonEl.style.display =\n",
              "        google.colab.kernel.accessAllowed ? 'block' : 'none';\n",
              "    })();\n",
              "  </script>\n",
              "</div>\n",
              "    </div>\n",
              "  </div>\n"
            ]
          },
          "metadata": {},
          "execution_count": 140
        }
      ],
      "source": [
        "basic_stats"
      ]
    },
    {
      "cell_type": "markdown",
      "metadata": {
        "id": "Wjpz8GGUa3MR"
      },
      "source": [
        "Look at the quantity minimum! `-80995.000000`\n",
        "\n",
        "Let's take a look at the dataset again to figure out what's going on!"
      ]
    },
    {
      "cell_type": "code",
      "execution_count": 141,
      "metadata": {
        "id": "6i8bLnxEa3MR",
        "colab": {
          "base_uri": "https://localhost:8080/",
          "height": 428
        },
        "outputId": "72025984-1413-468f-f1f2-86d4792846db"
      },
      "outputs": [
        {
          "output_type": "execute_result",
          "data": {
            "text/plain": [
              "    InvoiceNo StockCode                       Description  Quantity  \\\n",
              "141   C536379         D                          Discount        -1   \n",
              "154   C536383    35004C   SET OF 3 COLOURED  FLYING DUCKS        -1   \n",
              "235   C536391     22556    PLASTERS IN TIN CIRCUS PARADE        -12   \n",
              "236   C536391     21984  PACK OF 12 PINK PAISLEY TISSUES        -24   \n",
              "237   C536391     21983  PACK OF 12 BLUE PAISLEY TISSUES        -24   \n",
              "\n",
              "            InvoiceDate  UnitPrice  CustomerID         Country  Year  Month  \\\n",
              "141 2021-12-01 09:41:00      27.50     14527.0  United Kingdom  2021     12   \n",
              "154 2021-12-01 09:49:00       4.65     15311.0  United Kingdom  2021     12   \n",
              "235 2021-12-01 10:24:00       1.65     17548.0  United Kingdom  2021     12   \n",
              "236 2021-12-01 10:24:00       0.29     17548.0  United Kingdom  2021     12   \n",
              "237 2021-12-01 10:24:00       0.29     17548.0  United Kingdom  2021     12   \n",
              "\n",
              "     Day  Quarter  \n",
              "141    1        4  \n",
              "154    1        4  \n",
              "235    1        4  \n",
              "236    1        4  \n",
              "237    1        4  "
            ],
            "text/html": [
              "\n",
              "  <div id=\"df-d56f5d68-ee4a-45df-b008-6b3b24737510\" class=\"colab-df-container\">\n",
              "    <div>\n",
              "<style scoped>\n",
              "    .dataframe tbody tr th:only-of-type {\n",
              "        vertical-align: middle;\n",
              "    }\n",
              "\n",
              "    .dataframe tbody tr th {\n",
              "        vertical-align: top;\n",
              "    }\n",
              "\n",
              "    .dataframe thead th {\n",
              "        text-align: right;\n",
              "    }\n",
              "</style>\n",
              "<table border=\"1\" class=\"dataframe\">\n",
              "  <thead>\n",
              "    <tr style=\"text-align: right;\">\n",
              "      <th></th>\n",
              "      <th>InvoiceNo</th>\n",
              "      <th>StockCode</th>\n",
              "      <th>Description</th>\n",
              "      <th>Quantity</th>\n",
              "      <th>InvoiceDate</th>\n",
              "      <th>UnitPrice</th>\n",
              "      <th>CustomerID</th>\n",
              "      <th>Country</th>\n",
              "      <th>Year</th>\n",
              "      <th>Month</th>\n",
              "      <th>Day</th>\n",
              "      <th>Quarter</th>\n",
              "    </tr>\n",
              "  </thead>\n",
              "  <tbody>\n",
              "    <tr>\n",
              "      <th>141</th>\n",
              "      <td>C536379</td>\n",
              "      <td>D</td>\n",
              "      <td>Discount</td>\n",
              "      <td>-1</td>\n",
              "      <td>2021-12-01 09:41:00</td>\n",
              "      <td>27.50</td>\n",
              "      <td>14527.0</td>\n",
              "      <td>United Kingdom</td>\n",
              "      <td>2021</td>\n",
              "      <td>12</td>\n",
              "      <td>1</td>\n",
              "      <td>4</td>\n",
              "    </tr>\n",
              "    <tr>\n",
              "      <th>154</th>\n",
              "      <td>C536383</td>\n",
              "      <td>35004C</td>\n",
              "      <td>SET OF 3 COLOURED  FLYING DUCKS</td>\n",
              "      <td>-1</td>\n",
              "      <td>2021-12-01 09:49:00</td>\n",
              "      <td>4.65</td>\n",
              "      <td>15311.0</td>\n",
              "      <td>United Kingdom</td>\n",
              "      <td>2021</td>\n",
              "      <td>12</td>\n",
              "      <td>1</td>\n",
              "      <td>4</td>\n",
              "    </tr>\n",
              "    <tr>\n",
              "      <th>235</th>\n",
              "      <td>C536391</td>\n",
              "      <td>22556</td>\n",
              "      <td>PLASTERS IN TIN CIRCUS PARADE</td>\n",
              "      <td>-12</td>\n",
              "      <td>2021-12-01 10:24:00</td>\n",
              "      <td>1.65</td>\n",
              "      <td>17548.0</td>\n",
              "      <td>United Kingdom</td>\n",
              "      <td>2021</td>\n",
              "      <td>12</td>\n",
              "      <td>1</td>\n",
              "      <td>4</td>\n",
              "    </tr>\n",
              "    <tr>\n",
              "      <th>236</th>\n",
              "      <td>C536391</td>\n",
              "      <td>21984</td>\n",
              "      <td>PACK OF 12 PINK PAISLEY TISSUES</td>\n",
              "      <td>-24</td>\n",
              "      <td>2021-12-01 10:24:00</td>\n",
              "      <td>0.29</td>\n",
              "      <td>17548.0</td>\n",
              "      <td>United Kingdom</td>\n",
              "      <td>2021</td>\n",
              "      <td>12</td>\n",
              "      <td>1</td>\n",
              "      <td>4</td>\n",
              "    </tr>\n",
              "    <tr>\n",
              "      <th>237</th>\n",
              "      <td>C536391</td>\n",
              "      <td>21983</td>\n",
              "      <td>PACK OF 12 BLUE PAISLEY TISSUES</td>\n",
              "      <td>-24</td>\n",
              "      <td>2021-12-01 10:24:00</td>\n",
              "      <td>0.29</td>\n",
              "      <td>17548.0</td>\n",
              "      <td>United Kingdom</td>\n",
              "      <td>2021</td>\n",
              "      <td>12</td>\n",
              "      <td>1</td>\n",
              "      <td>4</td>\n",
              "    </tr>\n",
              "  </tbody>\n",
              "</table>\n",
              "</div>\n",
              "    <div class=\"colab-df-buttons\">\n",
              "\n",
              "  <div class=\"colab-df-container\">\n",
              "    <button class=\"colab-df-convert\" onclick=\"convertToInteractive('df-d56f5d68-ee4a-45df-b008-6b3b24737510')\"\n",
              "            title=\"Convert this dataframe to an interactive table.\"\n",
              "            style=\"display:none;\">\n",
              "\n",
              "  <svg xmlns=\"http://www.w3.org/2000/svg\" height=\"24px\" viewBox=\"0 -960 960 960\">\n",
              "    <path d=\"M120-120v-720h720v720H120Zm60-500h600v-160H180v160Zm220 220h160v-160H400v160Zm0 220h160v-160H400v160ZM180-400h160v-160H180v160Zm440 0h160v-160H620v160ZM180-180h160v-160H180v160Zm440 0h160v-160H620v160Z\"/>\n",
              "  </svg>\n",
              "    </button>\n",
              "\n",
              "  <style>\n",
              "    .colab-df-container {\n",
              "      display:flex;\n",
              "      gap: 12px;\n",
              "    }\n",
              "\n",
              "    .colab-df-convert {\n",
              "      background-color: #E8F0FE;\n",
              "      border: none;\n",
              "      border-radius: 50%;\n",
              "      cursor: pointer;\n",
              "      display: none;\n",
              "      fill: #1967D2;\n",
              "      height: 32px;\n",
              "      padding: 0 0 0 0;\n",
              "      width: 32px;\n",
              "    }\n",
              "\n",
              "    .colab-df-convert:hover {\n",
              "      background-color: #E2EBFA;\n",
              "      box-shadow: 0px 1px 2px rgba(60, 64, 67, 0.3), 0px 1px 3px 1px rgba(60, 64, 67, 0.15);\n",
              "      fill: #174EA6;\n",
              "    }\n",
              "\n",
              "    .colab-df-buttons div {\n",
              "      margin-bottom: 4px;\n",
              "    }\n",
              "\n",
              "    [theme=dark] .colab-df-convert {\n",
              "      background-color: #3B4455;\n",
              "      fill: #D2E3FC;\n",
              "    }\n",
              "\n",
              "    [theme=dark] .colab-df-convert:hover {\n",
              "      background-color: #434B5C;\n",
              "      box-shadow: 0px 1px 3px 1px rgba(0, 0, 0, 0.15);\n",
              "      filter: drop-shadow(0px 1px 2px rgba(0, 0, 0, 0.3));\n",
              "      fill: #FFFFFF;\n",
              "    }\n",
              "  </style>\n",
              "\n",
              "    <script>\n",
              "      const buttonEl =\n",
              "        document.querySelector('#df-d56f5d68-ee4a-45df-b008-6b3b24737510 button.colab-df-convert');\n",
              "      buttonEl.style.display =\n",
              "        google.colab.kernel.accessAllowed ? 'block' : 'none';\n",
              "\n",
              "      async function convertToInteractive(key) {\n",
              "        const element = document.querySelector('#df-d56f5d68-ee4a-45df-b008-6b3b24737510');\n",
              "        const dataTable =\n",
              "          await google.colab.kernel.invokeFunction('convertToInteractive',\n",
              "                                                    [key], {});\n",
              "        if (!dataTable) return;\n",
              "\n",
              "        const docLinkHtml = 'Like what you see? Visit the ' +\n",
              "          '<a target=\"_blank\" href=https://colab.research.google.com/notebooks/data_table.ipynb>data table notebook</a>'\n",
              "          + ' to learn more about interactive tables.';\n",
              "        element.innerHTML = '';\n",
              "        dataTable['output_type'] = 'display_data';\n",
              "        await google.colab.output.renderOutput(dataTable, element);\n",
              "        const docLink = document.createElement('div');\n",
              "        docLink.innerHTML = docLinkHtml;\n",
              "        element.appendChild(docLink);\n",
              "      }\n",
              "    </script>\n",
              "  </div>\n",
              "\n",
              "\n",
              "<div id=\"df-1d5ccd29-9595-43f8-a65a-24e1a2be8fef\">\n",
              "  <button class=\"colab-df-quickchart\" onclick=\"quickchart('df-1d5ccd29-9595-43f8-a65a-24e1a2be8fef')\"\n",
              "            title=\"Suggest charts.\"\n",
              "            style=\"display:none;\">\n",
              "\n",
              "<svg xmlns=\"http://www.w3.org/2000/svg\" height=\"24px\"viewBox=\"0 0 24 24\"\n",
              "     width=\"24px\">\n",
              "    <g>\n",
              "        <path d=\"M19 3H5c-1.1 0-2 .9-2 2v14c0 1.1.9 2 2 2h14c1.1 0 2-.9 2-2V5c0-1.1-.9-2-2-2zM9 17H7v-7h2v7zm4 0h-2V7h2v10zm4 0h-2v-4h2v4z\"/>\n",
              "    </g>\n",
              "</svg>\n",
              "  </button>\n",
              "\n",
              "<style>\n",
              "  .colab-df-quickchart {\n",
              "      --bg-color: #E8F0FE;\n",
              "      --fill-color: #1967D2;\n",
              "      --hover-bg-color: #E2EBFA;\n",
              "      --hover-fill-color: #174EA6;\n",
              "      --disabled-fill-color: #AAA;\n",
              "      --disabled-bg-color: #DDD;\n",
              "  }\n",
              "\n",
              "  [theme=dark] .colab-df-quickchart {\n",
              "      --bg-color: #3B4455;\n",
              "      --fill-color: #D2E3FC;\n",
              "      --hover-bg-color: #434B5C;\n",
              "      --hover-fill-color: #FFFFFF;\n",
              "      --disabled-bg-color: #3B4455;\n",
              "      --disabled-fill-color: #666;\n",
              "  }\n",
              "\n",
              "  .colab-df-quickchart {\n",
              "    background-color: var(--bg-color);\n",
              "    border: none;\n",
              "    border-radius: 50%;\n",
              "    cursor: pointer;\n",
              "    display: none;\n",
              "    fill: var(--fill-color);\n",
              "    height: 32px;\n",
              "    padding: 0;\n",
              "    width: 32px;\n",
              "  }\n",
              "\n",
              "  .colab-df-quickchart:hover {\n",
              "    background-color: var(--hover-bg-color);\n",
              "    box-shadow: 0 1px 2px rgba(60, 64, 67, 0.3), 0 1px 3px 1px rgba(60, 64, 67, 0.15);\n",
              "    fill: var(--button-hover-fill-color);\n",
              "  }\n",
              "\n",
              "  .colab-df-quickchart-complete:disabled,\n",
              "  .colab-df-quickchart-complete:disabled:hover {\n",
              "    background-color: var(--disabled-bg-color);\n",
              "    fill: var(--disabled-fill-color);\n",
              "    box-shadow: none;\n",
              "  }\n",
              "\n",
              "  .colab-df-spinner {\n",
              "    border: 2px solid var(--fill-color);\n",
              "    border-color: transparent;\n",
              "    border-bottom-color: var(--fill-color);\n",
              "    animation:\n",
              "      spin 1s steps(1) infinite;\n",
              "  }\n",
              "\n",
              "  @keyframes spin {\n",
              "    0% {\n",
              "      border-color: transparent;\n",
              "      border-bottom-color: var(--fill-color);\n",
              "      border-left-color: var(--fill-color);\n",
              "    }\n",
              "    20% {\n",
              "      border-color: transparent;\n",
              "      border-left-color: var(--fill-color);\n",
              "      border-top-color: var(--fill-color);\n",
              "    }\n",
              "    30% {\n",
              "      border-color: transparent;\n",
              "      border-left-color: var(--fill-color);\n",
              "      border-top-color: var(--fill-color);\n",
              "      border-right-color: var(--fill-color);\n",
              "    }\n",
              "    40% {\n",
              "      border-color: transparent;\n",
              "      border-right-color: var(--fill-color);\n",
              "      border-top-color: var(--fill-color);\n",
              "    }\n",
              "    60% {\n",
              "      border-color: transparent;\n",
              "      border-right-color: var(--fill-color);\n",
              "    }\n",
              "    80% {\n",
              "      border-color: transparent;\n",
              "      border-right-color: var(--fill-color);\n",
              "      border-bottom-color: var(--fill-color);\n",
              "    }\n",
              "    90% {\n",
              "      border-color: transparent;\n",
              "      border-bottom-color: var(--fill-color);\n",
              "    }\n",
              "  }\n",
              "</style>\n",
              "\n",
              "  <script>\n",
              "    async function quickchart(key) {\n",
              "      const quickchartButtonEl =\n",
              "        document.querySelector('#' + key + ' button');\n",
              "      quickchartButtonEl.disabled = true;  // To prevent multiple clicks.\n",
              "      quickchartButtonEl.classList.add('colab-df-spinner');\n",
              "      try {\n",
              "        const charts = await google.colab.kernel.invokeFunction(\n",
              "            'suggestCharts', [key], {});\n",
              "      } catch (error) {\n",
              "        console.error('Error during call to suggestCharts:', error);\n",
              "      }\n",
              "      quickchartButtonEl.classList.remove('colab-df-spinner');\n",
              "      quickchartButtonEl.classList.add('colab-df-quickchart-complete');\n",
              "    }\n",
              "    (() => {\n",
              "      let quickchartButtonEl =\n",
              "        document.querySelector('#df-1d5ccd29-9595-43f8-a65a-24e1a2be8fef button');\n",
              "      quickchartButtonEl.style.display =\n",
              "        google.colab.kernel.accessAllowed ? 'block' : 'none';\n",
              "    })();\n",
              "  </script>\n",
              "</div>\n",
              "    </div>\n",
              "  </div>\n"
            ]
          },
          "metadata": {},
          "execution_count": 141
        }
      ],
      "source": [
        "# Review records where the quantity is less than 0\n",
        "data[data['Quantity'] < 0].head()"
      ]
    },
    {
      "cell_type": "markdown",
      "metadata": {
        "id": "TXj3yIVOa3MR"
      },
      "source": [
        "After closer examination, we can see that both the quantities and pricing are negative. We can also see that the Invoice Numbers are prepended with a `C`.\n",
        "\n",
        "A quick glance at the data docs tells us that \"InvoiceNo: Invoice number. Nominal, a 6-digit integral number uniquely assigned to each transaction. If this code starts with letter 'c', it indicates a cancellation.\""
      ]
    },
    {
      "cell_type": "code",
      "execution_count": 142,
      "metadata": {
        "id": "NRCriMLVa3MR",
        "colab": {
          "base_uri": "https://localhost:8080/"
        },
        "outputId": "a1cef228-a0fb-41ed-87af-894d848ebf48"
      },
      "outputs": [
        {
          "output_type": "stream",
          "name": "stderr",
          "text": [
            "<ipython-input-142-ffee889b80c9>:7: SettingWithCopyWarning:\n",
            "\n",
            "\n",
            "A value is trying to be set on a copy of a slice from a DataFrame.\n",
            "Try using .loc[row_indexer,col_indexer] = value instead\n",
            "\n",
            "See the caveats in the documentation: https://pandas.pydata.org/pandas-docs/stable/user_guide/indexing.html#returning-a-view-versus-a-copy\n",
            "\n"
          ]
        }
      ],
      "source": [
        "# Create a function to remove cancelled orders\n",
        "def remove_cancelled_orders(data):\n",
        "    # Create a subset of the data that only has cancelled invoices\n",
        "    cancelled_invoices = data[data['InvoiceNo'].str.contains('C')]\n",
        "\n",
        "    # Create a new column that contains the original invoice number\n",
        "    cancelled_invoices['OriginalInvoiceNo'] = cancelled_invoices['InvoiceNo'].str.replace('C', '')\n",
        "\n",
        "    # Filter the dataset to only include invoices that haven't been cancelled\n",
        "    data = data[~data['InvoiceNo'].str.contains('C')]\n",
        "\n",
        "    # Filter the data by the original invoice number on the cancelled invoices\n",
        "    return data[~data['InvoiceNo'].isin(cancelled_invoices['OriginalInvoiceNo'])]\n",
        "\n",
        "data = remove_cancelled_orders(data)\n",
        "\n",
        "data.head()\n",
        "\n",
        "# Review the data again to ensure that the cancelled orders have been removed\n",
        "assert data[data['InvoiceNo'].str.contains('C')].shape[0] == 0\n"
      ]
    },
    {
      "cell_type": "markdown",
      "metadata": {
        "id": "KAWFQG0fa3MR"
      },
      "source": [
        "Great! That's looking much better! Now the minimum quantity is 1.\n",
        "\n",
        "On the job, we'd definitely want to dig into what products get returned and at what rate and factor returns into total sales. For the sake of expediency in this project, we're going to ignore cancellations and returns."
      ]
    },
    {
      "cell_type": "markdown",
      "metadata": {
        "id": "ZJRfHKHhhz7D"
      },
      "source": [
        "### Create Useful Aggregations"
      ]
    },
    {
      "cell_type": "code",
      "execution_count": 143,
      "metadata": {
        "id": "AHEYqVuRhxEZ"
      },
      "outputs": [],
      "source": [
        "# Create a column that represents the total price of each item\n",
        "data['TotalPrice'] = data['Quantity'] * data['UnitPrice']"
      ]
    },
    {
      "cell_type": "code",
      "execution_count": 144,
      "metadata": {
        "id": "gq_Vww8oa3MS",
        "colab": {
          "base_uri": "https://localhost:8080/",
          "height": 235
        },
        "outputId": "25855033-616b-4192-e69d-62bb4e4eea04"
      },
      "outputs": [
        {
          "output_type": "execute_result",
          "data": {
            "text/plain": [
              "           TotalPrice\n",
              "InvoiceNo            \n",
              "536365         139.12\n",
              "536366          22.20\n",
              "536367         278.73\n",
              "536368          70.05\n",
              "536369          17.85"
            ],
            "text/html": [
              "\n",
              "  <div id=\"df-3e68d5bc-8256-466a-af70-ad463e4f4797\" class=\"colab-df-container\">\n",
              "    <div>\n",
              "<style scoped>\n",
              "    .dataframe tbody tr th:only-of-type {\n",
              "        vertical-align: middle;\n",
              "    }\n",
              "\n",
              "    .dataframe tbody tr th {\n",
              "        vertical-align: top;\n",
              "    }\n",
              "\n",
              "    .dataframe thead th {\n",
              "        text-align: right;\n",
              "    }\n",
              "</style>\n",
              "<table border=\"1\" class=\"dataframe\">\n",
              "  <thead>\n",
              "    <tr style=\"text-align: right;\">\n",
              "      <th></th>\n",
              "      <th>TotalPrice</th>\n",
              "    </tr>\n",
              "    <tr>\n",
              "      <th>InvoiceNo</th>\n",
              "      <th></th>\n",
              "    </tr>\n",
              "  </thead>\n",
              "  <tbody>\n",
              "    <tr>\n",
              "      <th>536365</th>\n",
              "      <td>139.12</td>\n",
              "    </tr>\n",
              "    <tr>\n",
              "      <th>536366</th>\n",
              "      <td>22.20</td>\n",
              "    </tr>\n",
              "    <tr>\n",
              "      <th>536367</th>\n",
              "      <td>278.73</td>\n",
              "    </tr>\n",
              "    <tr>\n",
              "      <th>536368</th>\n",
              "      <td>70.05</td>\n",
              "    </tr>\n",
              "    <tr>\n",
              "      <th>536369</th>\n",
              "      <td>17.85</td>\n",
              "    </tr>\n",
              "  </tbody>\n",
              "</table>\n",
              "</div>\n",
              "    <div class=\"colab-df-buttons\">\n",
              "\n",
              "  <div class=\"colab-df-container\">\n",
              "    <button class=\"colab-df-convert\" onclick=\"convertToInteractive('df-3e68d5bc-8256-466a-af70-ad463e4f4797')\"\n",
              "            title=\"Convert this dataframe to an interactive table.\"\n",
              "            style=\"display:none;\">\n",
              "\n",
              "  <svg xmlns=\"http://www.w3.org/2000/svg\" height=\"24px\" viewBox=\"0 -960 960 960\">\n",
              "    <path d=\"M120-120v-720h720v720H120Zm60-500h600v-160H180v160Zm220 220h160v-160H400v160Zm0 220h160v-160H400v160ZM180-400h160v-160H180v160Zm440 0h160v-160H620v160ZM180-180h160v-160H180v160Zm440 0h160v-160H620v160Z\"/>\n",
              "  </svg>\n",
              "    </button>\n",
              "\n",
              "  <style>\n",
              "    .colab-df-container {\n",
              "      display:flex;\n",
              "      gap: 12px;\n",
              "    }\n",
              "\n",
              "    .colab-df-convert {\n",
              "      background-color: #E8F0FE;\n",
              "      border: none;\n",
              "      border-radius: 50%;\n",
              "      cursor: pointer;\n",
              "      display: none;\n",
              "      fill: #1967D2;\n",
              "      height: 32px;\n",
              "      padding: 0 0 0 0;\n",
              "      width: 32px;\n",
              "    }\n",
              "\n",
              "    .colab-df-convert:hover {\n",
              "      background-color: #E2EBFA;\n",
              "      box-shadow: 0px 1px 2px rgba(60, 64, 67, 0.3), 0px 1px 3px 1px rgba(60, 64, 67, 0.15);\n",
              "      fill: #174EA6;\n",
              "    }\n",
              "\n",
              "    .colab-df-buttons div {\n",
              "      margin-bottom: 4px;\n",
              "    }\n",
              "\n",
              "    [theme=dark] .colab-df-convert {\n",
              "      background-color: #3B4455;\n",
              "      fill: #D2E3FC;\n",
              "    }\n",
              "\n",
              "    [theme=dark] .colab-df-convert:hover {\n",
              "      background-color: #434B5C;\n",
              "      box-shadow: 0px 1px 3px 1px rgba(0, 0, 0, 0.15);\n",
              "      filter: drop-shadow(0px 1px 2px rgba(0, 0, 0, 0.3));\n",
              "      fill: #FFFFFF;\n",
              "    }\n",
              "  </style>\n",
              "\n",
              "    <script>\n",
              "      const buttonEl =\n",
              "        document.querySelector('#df-3e68d5bc-8256-466a-af70-ad463e4f4797 button.colab-df-convert');\n",
              "      buttonEl.style.display =\n",
              "        google.colab.kernel.accessAllowed ? 'block' : 'none';\n",
              "\n",
              "      async function convertToInteractive(key) {\n",
              "        const element = document.querySelector('#df-3e68d5bc-8256-466a-af70-ad463e4f4797');\n",
              "        const dataTable =\n",
              "          await google.colab.kernel.invokeFunction('convertToInteractive',\n",
              "                                                    [key], {});\n",
              "        if (!dataTable) return;\n",
              "\n",
              "        const docLinkHtml = 'Like what you see? Visit the ' +\n",
              "          '<a target=\"_blank\" href=https://colab.research.google.com/notebooks/data_table.ipynb>data table notebook</a>'\n",
              "          + ' to learn more about interactive tables.';\n",
              "        element.innerHTML = '';\n",
              "        dataTable['output_type'] = 'display_data';\n",
              "        await google.colab.output.renderOutput(dataTable, element);\n",
              "        const docLink = document.createElement('div');\n",
              "        docLink.innerHTML = docLinkHtml;\n",
              "        element.appendChild(docLink);\n",
              "      }\n",
              "    </script>\n",
              "  </div>\n",
              "\n",
              "\n",
              "<div id=\"df-b54a1ac0-5df9-470d-bb3d-c5bba28ee21d\">\n",
              "  <button class=\"colab-df-quickchart\" onclick=\"quickchart('df-b54a1ac0-5df9-470d-bb3d-c5bba28ee21d')\"\n",
              "            title=\"Suggest charts.\"\n",
              "            style=\"display:none;\">\n",
              "\n",
              "<svg xmlns=\"http://www.w3.org/2000/svg\" height=\"24px\"viewBox=\"0 0 24 24\"\n",
              "     width=\"24px\">\n",
              "    <g>\n",
              "        <path d=\"M19 3H5c-1.1 0-2 .9-2 2v14c0 1.1.9 2 2 2h14c1.1 0 2-.9 2-2V5c0-1.1-.9-2-2-2zM9 17H7v-7h2v7zm4 0h-2V7h2v10zm4 0h-2v-4h2v4z\"/>\n",
              "    </g>\n",
              "</svg>\n",
              "  </button>\n",
              "\n",
              "<style>\n",
              "  .colab-df-quickchart {\n",
              "      --bg-color: #E8F0FE;\n",
              "      --fill-color: #1967D2;\n",
              "      --hover-bg-color: #E2EBFA;\n",
              "      --hover-fill-color: #174EA6;\n",
              "      --disabled-fill-color: #AAA;\n",
              "      --disabled-bg-color: #DDD;\n",
              "  }\n",
              "\n",
              "  [theme=dark] .colab-df-quickchart {\n",
              "      --bg-color: #3B4455;\n",
              "      --fill-color: #D2E3FC;\n",
              "      --hover-bg-color: #434B5C;\n",
              "      --hover-fill-color: #FFFFFF;\n",
              "      --disabled-bg-color: #3B4455;\n",
              "      --disabled-fill-color: #666;\n",
              "  }\n",
              "\n",
              "  .colab-df-quickchart {\n",
              "    background-color: var(--bg-color);\n",
              "    border: none;\n",
              "    border-radius: 50%;\n",
              "    cursor: pointer;\n",
              "    display: none;\n",
              "    fill: var(--fill-color);\n",
              "    height: 32px;\n",
              "    padding: 0;\n",
              "    width: 32px;\n",
              "  }\n",
              "\n",
              "  .colab-df-quickchart:hover {\n",
              "    background-color: var(--hover-bg-color);\n",
              "    box-shadow: 0 1px 2px rgba(60, 64, 67, 0.3), 0 1px 3px 1px rgba(60, 64, 67, 0.15);\n",
              "    fill: var(--button-hover-fill-color);\n",
              "  }\n",
              "\n",
              "  .colab-df-quickchart-complete:disabled,\n",
              "  .colab-df-quickchart-complete:disabled:hover {\n",
              "    background-color: var(--disabled-bg-color);\n",
              "    fill: var(--disabled-fill-color);\n",
              "    box-shadow: none;\n",
              "  }\n",
              "\n",
              "  .colab-df-spinner {\n",
              "    border: 2px solid var(--fill-color);\n",
              "    border-color: transparent;\n",
              "    border-bottom-color: var(--fill-color);\n",
              "    animation:\n",
              "      spin 1s steps(1) infinite;\n",
              "  }\n",
              "\n",
              "  @keyframes spin {\n",
              "    0% {\n",
              "      border-color: transparent;\n",
              "      border-bottom-color: var(--fill-color);\n",
              "      border-left-color: var(--fill-color);\n",
              "    }\n",
              "    20% {\n",
              "      border-color: transparent;\n",
              "      border-left-color: var(--fill-color);\n",
              "      border-top-color: var(--fill-color);\n",
              "    }\n",
              "    30% {\n",
              "      border-color: transparent;\n",
              "      border-left-color: var(--fill-color);\n",
              "      border-top-color: var(--fill-color);\n",
              "      border-right-color: var(--fill-color);\n",
              "    }\n",
              "    40% {\n",
              "      border-color: transparent;\n",
              "      border-right-color: var(--fill-color);\n",
              "      border-top-color: var(--fill-color);\n",
              "    }\n",
              "    60% {\n",
              "      border-color: transparent;\n",
              "      border-right-color: var(--fill-color);\n",
              "    }\n",
              "    80% {\n",
              "      border-color: transparent;\n",
              "      border-right-color: var(--fill-color);\n",
              "      border-bottom-color: var(--fill-color);\n",
              "    }\n",
              "    90% {\n",
              "      border-color: transparent;\n",
              "      border-bottom-color: var(--fill-color);\n",
              "    }\n",
              "  }\n",
              "</style>\n",
              "\n",
              "  <script>\n",
              "    async function quickchart(key) {\n",
              "      const quickchartButtonEl =\n",
              "        document.querySelector('#' + key + ' button');\n",
              "      quickchartButtonEl.disabled = true;  // To prevent multiple clicks.\n",
              "      quickchartButtonEl.classList.add('colab-df-spinner');\n",
              "      try {\n",
              "        const charts = await google.colab.kernel.invokeFunction(\n",
              "            'suggestCharts', [key], {});\n",
              "      } catch (error) {\n",
              "        console.error('Error during call to suggestCharts:', error);\n",
              "      }\n",
              "      quickchartButtonEl.classList.remove('colab-df-spinner');\n",
              "      quickchartButtonEl.classList.add('colab-df-quickchart-complete');\n",
              "    }\n",
              "    (() => {\n",
              "      let quickchartButtonEl =\n",
              "        document.querySelector('#df-b54a1ac0-5df9-470d-bb3d-c5bba28ee21d button');\n",
              "      quickchartButtonEl.style.display =\n",
              "        google.colab.kernel.accessAllowed ? 'block' : 'none';\n",
              "    })();\n",
              "  </script>\n",
              "</div>\n",
              "    </div>\n",
              "  </div>\n"
            ]
          },
          "metadata": {},
          "execution_count": 144
        }
      ],
      "source": [
        "# Create a dataframe that represents the total value of each order\n",
        "total_value_per_order = pd.DataFrame(data.groupby('InvoiceNo')['TotalPrice'].sum())\n",
        "total_value_per_order.head()"
      ]
    },
    {
      "cell_type": "markdown",
      "metadata": {
        "id": "pgl0UBVra3MS"
      },
      "source": [
        "### Measures of Central Tendency"
      ]
    },
    {
      "cell_type": "markdown",
      "metadata": {
        "id": "OoAFdtPCa3MS"
      },
      "source": [
        "#### Mean"
      ]
    },
    {
      "cell_type": "code",
      "execution_count": 145,
      "metadata": {
        "id": "2QZjoqe0a3MS",
        "colab": {
          "base_uri": "https://localhost:8080/"
        },
        "outputId": "466a85c7-488c-430a-a04b-692f28fb5c46"
      },
      "outputs": [
        {
          "output_type": "execute_result",
          "data": {
            "text/plain": [
              "480.7621873111782"
            ]
          },
          "metadata": {},
          "execution_count": 145
        }
      ],
      "source": [
        "# Calculate the average total value of each order\n",
        "total_value_per_order['TotalPrice'].mean()"
      ]
    },
    {
      "cell_type": "markdown",
      "metadata": {
        "id": "nx26MoOna3MS"
      },
      "source": [
        "#### Median"
      ]
    },
    {
      "cell_type": "code",
      "execution_count": 146,
      "metadata": {
        "id": "jub5TxXya3MS",
        "colab": {
          "base_uri": "https://localhost:8080/"
        },
        "outputId": "cdd3139c-cb1e-41ab-84ab-98612328b15c"
      },
      "outputs": [
        {
          "output_type": "execute_result",
          "data": {
            "text/plain": [
              "303.02"
            ]
          },
          "metadata": {},
          "execution_count": 146
        }
      ],
      "source": [
        "# Calculate the median total value of each order\n",
        "total_value_per_order['TotalPrice'].median()"
      ]
    },
    {
      "cell_type": "markdown",
      "metadata": {
        "id": "72zYH1Rza3MT"
      },
      "source": [
        "Since there's a sizeable difference between the mean and the median, we know the data is skewed. This means we should probably display the median on the dashboard and also visualize the data distribution to highlight the skew."
      ]
    },
    {
      "cell_type": "markdown",
      "metadata": {
        "id": "LcgpCeRha3MT"
      },
      "source": [
        "#### Inter-Quartile Range\n",
        "Use Interquartile range to help you understand the central tendencies and range of the data."
      ]
    },
    {
      "cell_type": "code",
      "execution_count": 147,
      "metadata": {
        "id": "eXRC12qsa3MT",
        "colab": {
          "base_uri": "https://localhost:8080/",
          "height": 449
        },
        "outputId": "421ae412-662d-4913-9a79-64cbf9f2336e"
      },
      "outputs": [
        {
          "output_type": "execute_result",
          "data": {
            "text/plain": [
              "<Axes: >"
            ]
          },
          "metadata": {},
          "execution_count": 147
        },
        {
          "output_type": "display_data",
          "data": {
            "text/plain": [
              "<Figure size 640x480 with 1 Axes>"
            ],
            "image/png": "[encoded data removed]"
          },
          "metadata": {}
        }
      ],
      "source": [
        "# visualize the interquartile range of the total price as a boxplot\n",
        "sns.boxplot(total_value_per_order['TotalPrice'])"
      ]
    },
    {
      "cell_type": "code",
      "execution_count": 148,
      "metadata": {
        "id": "-BY20_i0a3MT"
      },
      "outputs": [],
      "source": [
        "# Remove outliers that are more than 1.5 times the interquartile range\n",
        "q1 = total_value_per_order['TotalPrice'].quantile(0.25)\n",
        "q3 = total_value_per_order['TotalPrice'].quantile(0.75)\n",
        "iqr = q3 - q1\n",
        "total_value_per_order = total_value_per_order[(total_value_per_order['TotalPrice'] >= q1 - 1.5 * iqr) & (total_value_per_order['TotalPrice'] <= q3 + 1.5 * iqr)]"
      ]
    },
    {
      "cell_type": "code",
      "execution_count": 149,
      "metadata": {
        "id": "W0FhsOA2a3MT",
        "colab": {
          "base_uri": "https://localhost:8080/",
          "height": 447
        },
        "outputId": "6a231622-1cb1-473c-fc11-f7e5207af7f7"
      },
      "outputs": [
        {
          "output_type": "execute_result",
          "data": {
            "text/plain": [
              "<Axes: >"
            ]
          },
          "metadata": {},
          "execution_count": 149
        },
        {
          "output_type": "display_data",
          "data": {
            "text/plain": [
              "<Figure size 640x480 with 1 Axes>"
            ],
            "image/png": "[encoded data removed]"
          },
          "metadata": {}
        }
      ],
      "source": [
        "# Check the boxplot again\n",
        "sns.boxplot(total_value_per_order['TotalPrice'])"
      ]
    },
    {
      "cell_type": "code",
      "source": [
        "# Reset the index to make it easier to filter on InvoiceNo\n",
        "total_value_per_order = total_value_per_order.reset_index(level=0)"
      ],
      "metadata": {
        "id": "Kpn8DIriMi4I"
      },
      "execution_count": 150,
      "outputs": []
    },
    {
      "cell_type": "code",
      "source": [
        "# Filter the data by the dataframe where we've removed outliers\n",
        "data = data[data['InvoiceNo'].isin(total_value_per_order['InvoiceNo'])]\n",
        "data.head()"
      ],
      "metadata": {
        "id": "SC0BqDtbMkNe",
        "colab": {
          "base_uri": "https://localhost:8080/",
          "height": 496
        },
        "outputId": "27447125-b8c1-46c6-8803-8d333c25431f"
      },
      "execution_count": 151,
      "outputs": [
        {
          "output_type": "execute_result",
          "data": {
            "text/plain": [
              "  InvoiceNo StockCode                          Description  Quantity  \\\n",
              "0    536365    85123A   WHITE HANGING HEART T-LIGHT HOLDER         6   \n",
              "1    536365     71053                  WHITE METAL LANTERN         6   \n",
              "2    536365    84406B       CREAM CUPID HEARTS COAT HANGER         8   \n",
              "3    536365    84029G  KNITTED UNION FLAG HOT WATER BOTTLE         6   \n",
              "4    536365    84029E       RED WOOLLY HOTTIE WHITE HEART.         6   \n",
              "\n",
              "          InvoiceDate  UnitPrice  CustomerID         Country  Year  Month  \\\n",
              "0 2021-12-01 08:26:00       2.55     17850.0  United Kingdom  2021     12   \n",
              "1 2021-12-01 08:26:00       3.39     17850.0  United Kingdom  2021     12   \n",
              "2 2021-12-01 08:26:00       2.75     17850.0  United Kingdom  2021     12   \n",
              "3 2021-12-01 08:26:00       3.39     17850.0  United Kingdom  2021     12   \n",
              "4 2021-12-01 08:26:00       3.39     17850.0  United Kingdom  2021     12   \n",
              "\n",
              "   Day  Quarter  TotalPrice  \n",
              "0    1        4       15.30  \n",
              "1    1        4       20.34  \n",
              "2    1        4       22.00  \n",
              "3    1        4       20.34  \n",
              "4    1        4       20.34  "
            ],
            "text/html": [
              "\n",
              "  <div id=\"df-edd14512-825c-43ef-bef6-9463bd3b2549\" class=\"colab-df-container\">\n",
              "    <div>\n",
              "<style scoped>\n",
              "    .dataframe tbody tr th:only-of-type {\n",
              "        vertical-align: middle;\n",
              "    }\n",
              "\n",
              "    .dataframe tbody tr th {\n",
              "        vertical-align: top;\n",
              "    }\n",
              "\n",
              "    .dataframe thead th {\n",
              "        text-align: right;\n",
              "    }\n",
              "</style>\n",
              "<table border=\"1\" class=\"dataframe\">\n",
              "  <thead>\n",
              "    <tr style=\"text-align: right;\">\n",
              "      <th></th>\n",
              "      <th>InvoiceNo</th>\n",
              "      <th>StockCode</th>\n",
              "      <th>Description</th>\n",
              "      <th>Quantity</th>\n",
              "      <th>InvoiceDate</th>\n",
              "      <th>UnitPrice</th>\n",
              "      <th>CustomerID</th>\n",
              "      <th>Country</th>\n",
              "      <th>Year</th>\n",
              "      <th>Month</th>\n",
              "      <th>Day</th>\n",
              "      <th>Quarter</th>\n",
              "      <th>TotalPrice</th>\n",
              "    </tr>\n",
              "  </thead>\n",
              "  <tbody>\n",
              "    <tr>\n",
              "      <th>0</th>\n",
              "      <td>536365</td>\n",
              "      <td>85123A</td>\n",
              "      <td>WHITE HANGING HEART T-LIGHT HOLDER</td>\n",
              "      <td>6</td>\n",
              "      <td>2021-12-01 08:26:00</td>\n",
              "      <td>2.55</td>\n",
              "      <td>17850.0</td>\n",
              "      <td>United Kingdom</td>\n",
              "      <td>2021</td>\n",
              "      <td>12</td>\n",
              "      <td>1</td>\n",
              "      <td>4</td>\n",
              "      <td>15.30</td>\n",
              "    </tr>\n",
              "    <tr>\n",
              "      <th>1</th>\n",
              "      <td>536365</td>\n",
              "      <td>71053</td>\n",
              "      <td>WHITE METAL LANTERN</td>\n",
              "      <td>6</td>\n",
              "      <td>2021-12-01 08:26:00</td>\n",
              "      <td>3.39</td>\n",
              "      <td>17850.0</td>\n",
              "      <td>United Kingdom</td>\n",
              "      <td>2021</td>\n",
              "      <td>12</td>\n",
              "      <td>1</td>\n",
              "      <td>4</td>\n",
              "      <td>20.34</td>\n",
              "    </tr>\n",
              "    <tr>\n",
              "      <th>2</th>\n",
              "      <td>536365</td>\n",
              "      <td>84406B</td>\n",
              "      <td>CREAM CUPID HEARTS COAT HANGER</td>\n",
              "      <td>8</td>\n",
              "      <td>2021-12-01 08:26:00</td>\n",
              "      <td>2.75</td>\n",
              "      <td>17850.0</td>\n",
              "      <td>United Kingdom</td>\n",
              "      <td>2021</td>\n",
              "      <td>12</td>\n",
              "      <td>1</td>\n",
              "      <td>4</td>\n",
              "      <td>22.00</td>\n",
              "    </tr>\n",
              "    <tr>\n",
              "      <th>3</th>\n",
              "      <td>536365</td>\n",
              "      <td>84029G</td>\n",
              "      <td>KNITTED UNION FLAG HOT WATER BOTTLE</td>\n",
              "      <td>6</td>\n",
              "      <td>2021-12-01 08:26:00</td>\n",
              "      <td>3.39</td>\n",
              "      <td>17850.0</td>\n",
              "      <td>United Kingdom</td>\n",
              "      <td>2021</td>\n",
              "      <td>12</td>\n",
              "      <td>1</td>\n",
              "      <td>4</td>\n",
              "      <td>20.34</td>\n",
              "    </tr>\n",
              "    <tr>\n",
              "      <th>4</th>\n",
              "      <td>536365</td>\n",
              "      <td>84029E</td>\n",
              "      <td>RED WOOLLY HOTTIE WHITE HEART.</td>\n",
              "      <td>6</td>\n",
              "      <td>2021-12-01 08:26:00</td>\n",
              "      <td>3.39</td>\n",
              "      <td>17850.0</td>\n",
              "      <td>United Kingdom</td>\n",
              "      <td>2021</td>\n",
              "      <td>12</td>\n",
              "      <td>1</td>\n",
              "      <td>4</td>\n",
              "      <td>20.34</td>\n",
              "    </tr>\n",
              "  </tbody>\n",
              "</table>\n",
              "</div>\n",
              "    <div class=\"colab-df-buttons\">\n",
              "\n",
              "  <div class=\"colab-df-container\">\n",
              "    <button class=\"colab-df-convert\" onclick=\"convertToInteractive('df-edd14512-825c-43ef-bef6-9463bd3b2549')\"\n",
              "            title=\"Convert this dataframe to an interactive table.\"\n",
              "            style=\"display:none;\">\n",
              "\n",
              "  <svg xmlns=\"http://www.w3.org/2000/svg\" height=\"24px\" viewBox=\"0 -960 960 960\">\n",
              "    <path d=\"M120-120v-720h720v720H120Zm60-500h600v-160H180v160Zm220 220h160v-160H400v160Zm0 220h160v-160H400v160ZM180-400h160v-160H180v160Zm440 0h160v-160H620v160ZM180-180h160v-160H180v160Zm440 0h160v-160H620v160Z\"/>\n",
              "  </svg>\n",
              "    </button>\n",
              "\n",
              "  <style>\n",
              "    .colab-df-container {\n",
              "      display:flex;\n",
              "      gap: 12px;\n",
              "    }\n",
              "\n",
              "    .colab-df-convert {\n",
              "      background-color: #E8F0FE;\n",
              "      border: none;\n",
              "      border-radius: 50%;\n",
              "      cursor: pointer;\n",
              "      display: none;\n",
              "      fill: #1967D2;\n",
              "      height: 32px;\n",
              "      padding: 0 0 0 0;\n",
              "      width: 32px;\n",
              "    }\n",
              "\n",
              "    .colab-df-convert:hover {\n",
              "      background-color: #E2EBFA;\n",
              "      box-shadow: 0px 1px 2px rgba(60, 64, 67, 0.3), 0px 1px 3px 1px rgba(60, 64, 67, 0.15);\n",
              "      fill: #174EA6;\n",
              "    }\n",
              "\n",
              "    .colab-df-buttons div {\n",
              "      margin-bottom: 4px;\n",
              "    }\n",
              "\n",
              "    [theme=dark] .colab-df-convert {\n",
              "      background-color: #3B4455;\n",
              "      fill: #D2E3FC;\n",
              "    }\n",
              "\n",
              "    [theme=dark] .colab-df-convert:hover {\n",
              "      background-color: #434B5C;\n",
              "      box-shadow: 0px 1px 3px 1px rgba(0, 0, 0, 0.15);\n",
              "      filter: drop-shadow(0px 1px 2px rgba(0, 0, 0, 0.3));\n",
              "      fill: #FFFFFF;\n",
              "    }\n",
              "  </style>\n",
              "\n",
              "    <script>\n",
              "      const buttonEl =\n",
              "        document.querySelector('#df-edd14512-825c-43ef-bef6-9463bd3b2549 button.colab-df-convert');\n",
              "      buttonEl.style.display =\n",
              "        google.colab.kernel.accessAllowed ? 'block' : 'none';\n",
              "\n",
              "      async function convertToInteractive(key) {\n",
              "        const element = document.querySelector('#df-edd14512-825c-43ef-bef6-9463bd3b2549');\n",
              "        const dataTable =\n",
              "          await google.colab.kernel.invokeFunction('convertToInteractive',\n",
              "                                                    [key], {});\n",
              "        if (!dataTable) return;\n",
              "\n",
              "        const docLinkHtml = 'Like what you see? Visit the ' +\n",
              "          '<a target=\"_blank\" href=https://colab.research.google.com/notebooks/data_table.ipynb>data table notebook</a>'\n",
              "          + ' to learn more about interactive tables.';\n",
              "        element.innerHTML = '';\n",
              "        dataTable['output_type'] = 'display_data';\n",
              "        await google.colab.output.renderOutput(dataTable, element);\n",
              "        const docLink = document.createElement('div');\n",
              "        docLink.innerHTML = docLinkHtml;\n",
              "        element.appendChild(docLink);\n",
              "      }\n",
              "    </script>\n",
              "  </div>\n",
              "\n",
              "\n",
              "<div id=\"df-38a9bafc-32c9-43e8-a358-375ef3287a9d\">\n",
              "  <button class=\"colab-df-quickchart\" onclick=\"quickchart('df-38a9bafc-32c9-43e8-a358-375ef3287a9d')\"\n",
              "            title=\"Suggest charts.\"\n",
              "            style=\"display:none;\">\n",
              "\n",
              "<svg xmlns=\"http://www.w3.org/2000/svg\" height=\"24px\"viewBox=\"0 0 24 24\"\n",
              "     width=\"24px\">\n",
              "    <g>\n",
              "        <path d=\"M19 3H5c-1.1 0-2 .9-2 2v14c0 1.1.9 2 2 2h14c1.1 0 2-.9 2-2V5c0-1.1-.9-2-2-2zM9 17H7v-7h2v7zm4 0h-2V7h2v10zm4 0h-2v-4h2v4z\"/>\n",
              "    </g>\n",
              "</svg>\n",
              "  </button>\n",
              "\n",
              "<style>\n",
              "  .colab-df-quickchart {\n",
              "      --bg-color: #E8F0FE;\n",
              "      --fill-color: #1967D2;\n",
              "      --hover-bg-color: #E2EBFA;\n",
              "      --hover-fill-color: #174EA6;\n",
              "      --disabled-fill-color: #AAA;\n",
              "      --disabled-bg-color: #DDD;\n",
              "  }\n",
              "\n",
              "  [theme=dark] .colab-df-quickchart {\n",
              "      --bg-color: #3B4455;\n",
              "      --fill-color: #D2E3FC;\n",
              "      --hover-bg-color: #434B5C;\n",
              "      --hover-fill-color: #FFFFFF;\n",
              "      --disabled-bg-color: #3B4455;\n",
              "      --disabled-fill-color: #666;\n",
              "  }\n",
              "\n",
              "  .colab-df-quickchart {\n",
              "    background-color: var(--bg-color);\n",
              "    border: none;\n",
              "    border-radius: 50%;\n",
              "    cursor: pointer;\n",
              "    display: none;\n",
              "    fill: var(--fill-color);\n",
              "    height: 32px;\n",
              "    padding: 0;\n",
              "    width: 32px;\n",
              "  }\n",
              "\n",
              "  .colab-df-quickchart:hover {\n",
              "    background-color: var(--hover-bg-color);\n",
              "    box-shadow: 0 1px 2px rgba(60, 64, 67, 0.3), 0 1px 3px 1px rgba(60, 64, 67, 0.15);\n",
              "    fill: var(--button-hover-fill-color);\n",
              "  }\n",
              "\n",
              "  .colab-df-quickchart-complete:disabled,\n",
              "  .colab-df-quickchart-complete:disabled:hover {\n",
              "    background-color: var(--disabled-bg-color);\n",
              "    fill: var(--disabled-fill-color);\n",
              "    box-shadow: none;\n",
              "  }\n",
              "\n",
              "  .colab-df-spinner {\n",
              "    border: 2px solid var(--fill-color);\n",
              "    border-color: transparent;\n",
              "    border-bottom-color: var(--fill-color);\n",
              "    animation:\n",
              "      spin 1s steps(1) infinite;\n",
              "  }\n",
              "\n",
              "  @keyframes spin {\n",
              "    0% {\n",
              "      border-color: transparent;\n",
              "      border-bottom-color: var(--fill-color);\n",
              "      border-left-color: var(--fill-color);\n",
              "    }\n",
              "    20% {\n",
              "      border-color: transparent;\n",
              "      border-left-color: var(--fill-color);\n",
              "      border-top-color: var(--fill-color);\n",
              "    }\n",
              "    30% {\n",
              "      border-color: transparent;\n",
              "      border-left-color: var(--fill-color);\n",
              "      border-top-color: var(--fill-color);\n",
              "      border-right-color: var(--fill-color);\n",
              "    }\n",
              "    40% {\n",
              "      border-color: transparent;\n",
              "      border-right-color: var(--fill-color);\n",
              "      border-top-color: var(--fill-color);\n",
              "    }\n",
              "    60% {\n",
              "      border-color: transparent;\n",
              "      border-right-color: var(--fill-color);\n",
              "    }\n",
              "    80% {\n",
              "      border-color: transparent;\n",
              "      border-right-color: var(--fill-color);\n",
              "      border-bottom-color: var(--fill-color);\n",
              "    }\n",
              "    90% {\n",
              "      border-color: transparent;\n",
              "      border-bottom-color: var(--fill-color);\n",
              "    }\n",
              "  }\n",
              "</style>\n",
              "\n",
              "  <script>\n",
              "    async function quickchart(key) {\n",
              "      const quickchartButtonEl =\n",
              "        document.querySelector('#' + key + ' button');\n",
              "      quickchartButtonEl.disabled = true;  // To prevent multiple clicks.\n",
              "      quickchartButtonEl.classList.add('colab-df-spinner');\n",
              "      try {\n",
              "        const charts = await google.colab.kernel.invokeFunction(\n",
              "            'suggestCharts', [key], {});\n",
              "      } catch (error) {\n",
              "        console.error('Error during call to suggestCharts:', error);\n",
              "      }\n",
              "      quickchartButtonEl.classList.remove('colab-df-spinner');\n",
              "      quickchartButtonEl.classList.add('colab-df-quickchart-complete');\n",
              "    }\n",
              "    (() => {\n",
              "      let quickchartButtonEl =\n",
              "        document.querySelector('#df-38a9bafc-32c9-43e8-a358-375ef3287a9d button');\n",
              "      quickchartButtonEl.style.display =\n",
              "        google.colab.kernel.accessAllowed ? 'block' : 'none';\n",
              "    })();\n",
              "  </script>\n",
              "</div>\n",
              "    </div>\n",
              "  </div>\n"
            ]
          },
          "metadata": {},
          "execution_count": 151
        }
      ]
    },
    {
      "cell_type": "markdown",
      "metadata": {
        "id": "JzBtFUFRa3MT"
      },
      "source": [
        "Now we're seeing a dataset that looks a lot more like what we'd expect to see for purchase data, however, there is still a lot of variability."
      ]
    },
    {
      "cell_type": "markdown",
      "metadata": {
        "id": "6fW5dRiEa3MT"
      },
      "source": [
        "### Measures of Variability"
      ]
    },
    {
      "cell_type": "markdown",
      "metadata": {
        "id": "vKx2wiv2a3MT"
      },
      "source": [
        "#### Standard Deviation"
      ]
    },
    {
      "cell_type": "code",
      "execution_count": 152,
      "metadata": {
        "id": "eXuNC9Mva3MU",
        "colab": {
          "base_uri": "https://localhost:8080/"
        },
        "outputId": "26e42de3-ed0d-451d-eeea-53f5184d8b40"
      },
      "outputs": [
        {
          "output_type": "execute_result",
          "data": {
            "text/plain": [
              "203.29176034742505"
            ]
          },
          "metadata": {},
          "execution_count": 152
        }
      ],
      "source": [
        "# Calculate the standard deviation of the total value of each order\n",
        "total_value_per_order['TotalPrice'].std()"
      ]
    },
    {
      "cell_type": "code",
      "execution_count": 153,
      "metadata": {
        "id": "JNq-uMAVa3MU",
        "colab": {
          "base_uri": "https://localhost:8080/",
          "height": 523
        },
        "outputId": "2872cd26-a1a8-41ab-dd6a-031d30ee0d04"
      },
      "outputs": [
        {
          "output_type": "execute_result",
          "data": {
            "text/plain": [
              "<seaborn.axisgrid.FacetGrid at 0x7cd938226b60>"
            ]
          },
          "metadata": {},
          "execution_count": 153
        },
        {
          "output_type": "display_data",
          "data": {
            "text/plain": [
              "<Figure size 500x500 with 1 Axes>"
            ],
            "image/png": "[encoded data removed]"
          },
          "metadata": {}
        }
      ],
      "source": [
        "# Visualize the distribution of the total order value\n",
        "sns.displot(total_value_per_order['TotalPrice'], kde=True)"
      ]
    },
    {
      "cell_type": "markdown",
      "metadata": {
        "id": "MEhb2VmMa3MU"
      },
      "source": [
        "#### Variance"
      ]
    },
    {
      "cell_type": "code",
      "execution_count": 154,
      "metadata": {
        "id": "4XOMY6lpa3MU",
        "colab": {
          "base_uri": "https://localhost:8080/"
        },
        "outputId": "1f433485-47b7-4c0f-e360-9ca2c4922bbb"
      },
      "outputs": [
        {
          "output_type": "execute_result",
          "data": {
            "text/plain": [
              "41327.5398251549"
            ]
          },
          "metadata": {},
          "execution_count": 154
        }
      ],
      "source": [
        "# Calculate the variance of the total value of each order\n",
        "total_value_per_order['TotalPrice'].var()"
      ]
    },
    {
      "cell_type": "markdown",
      "metadata": {
        "id": "4ooA5kt9a3MU"
      },
      "source": [
        "#### Maximum"
      ]
    },
    {
      "cell_type": "code",
      "execution_count": 155,
      "metadata": {
        "id": "hVcRNqfNa3MU",
        "colab": {
          "base_uri": "https://localhost:8080/"
        },
        "outputId": "e743bd03-19a5-4ce5-ab40-623049c19a6e"
      },
      "outputs": [
        {
          "output_type": "execute_result",
          "data": {
            "text/plain": [
              "942.1"
            ]
          },
          "metadata": {},
          "execution_count": 155
        }
      ],
      "source": [
        "# Calculate the maximum order value\n",
        "maximum_order_value = round(total_value_per_order['TotalPrice'].max(), 2)\n",
        "maximum_order_value"
      ]
    },
    {
      "cell_type": "markdown",
      "metadata": {
        "id": "lRzHTHQta3MU"
      },
      "source": [
        "#### Minimum"
      ]
    },
    {
      "cell_type": "code",
      "execution_count": 156,
      "metadata": {
        "id": "SggQ9BP1a3MU",
        "colab": {
          "base_uri": "https://localhost:8080/"
        },
        "outputId": "2d4551bc-37c3-4ae5-afb4-849101894bd3"
      },
      "outputs": [
        {
          "output_type": "execute_result",
          "data": {
            "text/plain": [
              "0.0"
            ]
          },
          "metadata": {},
          "execution_count": 156
        }
      ],
      "source": [
        "# Calculate the minimum order value\n",
        "minimum_order_value = round(total_value_per_order['TotalPrice'].min(), 2)\n",
        "minimum_order_value"
      ]
    },
    {
      "cell_type": "markdown",
      "metadata": {
        "id": "peMyILZga3MV"
      },
      "source": [
        "#### Range\n",
        "What is the new range of this dataset after removing outliers?"
      ]
    },
    {
      "cell_type": "code",
      "execution_count": 157,
      "metadata": {
        "id": "DVehmlPya3MV",
        "colab": {
          "base_uri": "https://localhost:8080/"
        },
        "outputId": "849d8866-b5ee-4935-fbd7-2c793319dea0"
      },
      "outputs": [
        {
          "output_type": "execute_result",
          "data": {
            "text/plain": [
              "942.1"
            ]
          },
          "metadata": {},
          "execution_count": 157
        }
      ],
      "source": [
        "# Calculate the range of the total value of each order\n",
        "maximum_order_value - minimum_order_value"
      ]
    },
    {
      "cell_type": "markdown",
      "metadata": {
        "id": "6H-qX1k9a3MV"
      },
      "source": [
        "## Your Turn! Apply This Week's Concepts\n",
        "\n",
        "You'll be writing these tasks inside python functions. This helps you in many ways:\n",
        "\n",
        "- easier for you to debug\n",
        "- easier for you to test\n",
        "- allows you to set up metrics for your dashboard without re-writing this code later!"
      ]
    },
    {
      "cell_type": "markdown",
      "metadata": {
        "id": "n7NX-Pdya3MV"
      },
      "source": [
        "### Filter Data By Year and Quarter\n",
        "\n",
        "Here's an example, you get the first one for free!"
      ]
    },
    {
      "cell_type": "code",
      "execution_count": 158,
      "metadata": {
        "id": "MoNC35HFa3MV"
      },
      "outputs": [],
      "source": [
        "# Write a function to filter a pandas dataframe by year and quarter\n",
        "def filter_by_year_and_quarter(df, year, quarter):\n",
        "\n",
        "    # Filter the dataframe by the year and quarter\n",
        "    filtered_df = df[(df['Year'] == year) & (df['Quarter'] == quarter)]\n",
        "\n",
        "    # Return the filtered dataframe\n",
        "    if filtered_df.shape[0] > 0:\n",
        "        return filtered_df\n",
        "    else:\n",
        "        assert filtered_df.shape[0] > 0, \"There are no records for the specified year and quarter\""
      ]
    },
    {
      "cell_type": "code",
      "execution_count": 159,
      "metadata": {
        "id": "j43e29MUa3MV",
        "colab": {
          "base_uri": "https://localhost:8080/"
        },
        "outputId": "f8724f4a-2f8f-48f2-b248-aa0af4b115d7"
      },
      "outputs": [
        {
          "output_type": "stream",
          "name": "stdout",
          "text": [
            "       InvoiceNo StockCode                    Description  Quantity  \\\n",
            "272875    569203     79321                  CHILLI LIGHTS        48   \n",
            "272876    569203     21154      RED RETROSPOT OVEN GLOVE         20   \n",
            "272877    569204     21790             VINTAGE SNAP CARDS         4   \n",
            "272878    569204     23284  DOORMAT KEEP CALM AND COME IN        15   \n",
            "272879    569204     23355     HOT WATER BOTTLE KEEP CALM         4   \n",
            "\n",
            "               InvoiceDate  UnitPrice  CustomerID         Country  Year  \\\n",
            "272875 2022-10-02 10:32:00       4.95     16353.0  United Kingdom  2022   \n",
            "272876 2022-10-02 10:32:00       1.25     16353.0  United Kingdom  2022   \n",
            "272877 2022-10-02 10:43:00       0.85     16591.0  United Kingdom  2022   \n",
            "272878 2022-10-02 10:43:00       7.08     16591.0  United Kingdom  2022   \n",
            "272879 2022-10-02 10:43:00       4.95     16591.0  United Kingdom  2022   \n",
            "\n",
            "        Month  Day  Quarter  TotalPrice  \n",
            "272875     10    2        4       237.6  \n",
            "272876     10    2        4        25.0  \n",
            "272877     10    2        4         3.4  \n",
            "272878     10    2        4       106.2  \n",
            "272879     10    2        4        19.8  \n"
          ]
        }
      ],
      "source": [
        "# Create a dataframe that only contains records for 2022 Q4\n",
        "print(filter_by_year_and_quarter(data, 2022, 4).head(5))\n",
        "\n",
        "# Write a test to validate the function\n",
        "assert filter_by_year_and_quarter(data, 2022, 4)['Year'].unique()[0] == 2022, \"There should only be records for 2022\"\n",
        "assert filter_by_year_and_quarter(data, 2022, 4)['Quarter'].unique()[0] == 4, \"There should be records for Q4\""
      ]
    },
    {
      "cell_type": "markdown",
      "metadata": {
        "id": "WZfwdjfNa3MW"
      },
      "source": [
        "### Calculate Total Sales (Sum)"
      ]
    },
    {
      "cell_type": "code",
      "execution_count": 160,
      "metadata": {
        "id": "dcHXzKFaa3MW"
      },
      "outputs": [],
      "source": [
        "def total_sales(data: pd.DataFrame, year: int, quarter: int) -> float:\n",
        "    \"\"\"\n",
        "    Calculate the total sales for a given year and quarter\n",
        "    :param data: The dataframe containing the data\n",
        "    :param year: The year to calculate the total sales for\n",
        "    :param quarter: The quarter to calculate the total sales for\n",
        "    :return: The total sales for the given year and quarter\n",
        "    \"\"\"\n",
        "    # Filter the data by the given year and quarter\n",
        "    data = filter_by_year_and_quarter(data, year, quarter)\n",
        "\n",
        "    # Calculate the total sales\n",
        "    return round(data['TotalPrice'].sum(), 2)"
      ]
    },
    {
      "cell_type": "code",
      "execution_count": 161,
      "metadata": {
        "id": "WEygg1KDa3MW",
        "colab": {
          "base_uri": "https://localhost:8080/"
        },
        "outputId": "15142660-52f4-4ac3-cd75-d788cbfe4695"
      },
      "outputs": [
        {
          "output_type": "stream",
          "name": "stdout",
          "text": [
            "The total sales for 2022 Q4 are: $1519366.35\n"
          ]
        }
      ],
      "source": [
        "# Calculate the total sales for 2022 Q4\n",
        "print(f'The total sales for 2022 Q4 are: ${total_sales(data, 2022, 4)}')"
      ]
    },
    {
      "cell_type": "markdown",
      "metadata": {
        "id": "7U-BUuJBa3MW"
      },
      "source": [
        "### How Many Customers Are There Per Day? (Mean)"
      ]
    },
    {
      "cell_type": "code",
      "execution_count": 162,
      "metadata": {
        "id": "1WVn20wRa3MW"
      },
      "outputs": [],
      "source": [
        "# Write a function to calculate mean number of customers per day\n",
        "def mean_customers_per_day(data: pd.DataFrame, year: int, quarter: int) -> float:\n",
        "    \"\"\"\n",
        "    Calculate the mean number of customers per day for a given year and quarter\n",
        "    :param data: The dataframe containing the data\n",
        "    :param year: The year to calculate the mean number of customers per day for\n",
        "    :param quarter: The quarter to calculate the mean number of customers per day for\n",
        "    :return: The mean number of customers per day for the given year and quarter\n",
        "    \"\"\"\n",
        "    # Filter the data by the given year and quarter\n",
        "    data = filter_by_year_and_quarter(data, year, quarter)\n",
        "\n",
        "    # Calculate the mean number of customers per day\n",
        "    data_grouped = data.groupby(pd.Grouper(key='InvoiceDate', freq='D'))['CustomerID'].nunique()\n",
        "    average_customers_per_day = data_grouped.mean()\n",
        "    return round(average_customers_per_day, 1)"
      ]
    },
    {
      "cell_type": "code",
      "execution_count": 163,
      "metadata": {
        "id": "frgu72X_a3MW",
        "colab": {
          "base_uri": "https://localhost:8080/"
        },
        "outputId": "70a608b7-01ab-4257-ff86-8fa237d9748c"
      },
      "outputs": [
        {
          "output_type": "stream",
          "name": "stdout",
          "text": [
            "The mean number of customers per day for 2022 Q4 is: 65.0\n"
          ]
        }
      ],
      "source": [
        "# Calculate the mean number of customers per day for 2022 Q4\n",
        "output_of_mean_customers_per_day = mean_customers_per_day(data, 2022, 4)\n",
        "# print(output_of_mean_customers_per_day)\n",
        "print(f'The mean number of customers per day for 2022 Q4 is: {output_of_mean_customers_per_day}')\n",
        "\n",
        "# Write a test to validate the mean number of customers per day function\n",
        "# assert <YOUR CODE HERE>, \"your message here\""
      ]
    },
    {
      "cell_type": "markdown",
      "metadata": {
        "id": "lD-54Gvva3MW"
      },
      "source": [
        "### How Much Do Customers Spend Per Order? (Median)"
      ]
    },
    {
      "cell_type": "code",
      "execution_count": 164,
      "metadata": {
        "id": "3PjUaNUua3MW"
      },
      "outputs": [],
      "source": [
        "# Write a function to calculate the median order value for a given year and quarter\n",
        "def median_order_value(data: pd.DataFrame, year: int, quarter: int) -> float:\n",
        "    \"\"\"\n",
        "    Calculate the median order value for a given year and quarter\n",
        "    :param data: The dataframe containing the data\n",
        "    :param year: The year to calculate the median order value for\n",
        "    :param quarter: The quarter to calculate the median order value for\n",
        "    :return: The median order value for the given year and quarter\n",
        "    \"\"\"\n",
        "    # Filter the data by the given year and quarter\n",
        "    filtered_data = filter_by_year_and_quarter(data, year, quarter)\n",
        "\n",
        "    # Group data by InvoiceNo and calculate the total value of each order\n",
        "    grouped_data = filtered_data.groupby('InvoiceNo').apply(lambda x: (x['Quantity'] * x['UnitPrice']).sum())\n",
        "\n",
        "    # Calculate the median order value\n",
        "    median_order_value = grouped_data.median()\n",
        "\n",
        "    return median_order_value"
      ]
    },
    {
      "cell_type": "code",
      "execution_count": 165,
      "metadata": {
        "id": "QT8vYwINa3MX",
        "colab": {
          "base_uri": "https://localhost:8080/"
        },
        "outputId": "b0f0f581-dec9-44d7-ad65-ae7a1a0ce172"
      },
      "outputs": [
        {
          "output_type": "stream",
          "name": "stdout",
          "text": [
            "The median order value for 2022 Q4 is: $285.4\n"
          ]
        }
      ],
      "source": [
        "# Calculate the median order value for 2022 Q4\n",
        "print(f'The median order value for 2022 Q4 is: ${round(median_order_value(data, 2022, 4), 2)}')"
      ]
    },
    {
      "cell_type": "code",
      "source": [
        "# Write a test to validate the median order value function\n",
        "# assert <YOUR CODE HERE>"
      ],
      "metadata": {
        "id": "YQyMCq2pbQ_2"
      },
      "execution_count": 166,
      "outputs": []
    },
    {
      "cell_type": "markdown",
      "metadata": {
        "id": "KGEpl4cXa3MX"
      },
      "source": [
        "### How Variable Are Order Totals?"
      ]
    },
    {
      "cell_type": "code",
      "execution_count": 167,
      "metadata": {
        "id": "d-2xf2F4a3MX"
      },
      "outputs": [],
      "source": [
        "# Write a function to calculate the order value variability for a given year and quarter\n",
        "def order_value_variability(data: pd.DataFrame, year: int, quarter: int) -> float:\n",
        "    \"\"\"\n",
        "    Calculate the order value variability for a given year and quarter\n",
        "    :param data: The dataframe containing the data\n",
        "    :param year: The year to calculate the order value variability for\n",
        "    :param quarter: The quarter to calculate the order value variability for\n",
        "    :return: The order value variability for the given year and quarter\n",
        "    \"\"\"\n",
        "    # Filter the data by the given year and quarter\n",
        "    filtered_data = filter_by_year_and_quarter(data.copy(), year, quarter)\n",
        "\n",
        "    # Group data by InvoiceNo and calculate the order total (Quantity * UnitPrice)\n",
        "    order_totals = filtered_data.groupby('InvoiceNo').apply(lambda x: (x['Quantity'] * x['UnitPrice']).sum())\n",
        "\n",
        "    # Calculate the order value variability (standard deviation of order totals)\n",
        "    order_value_variability = order_totals.std()\n",
        "\n",
        "    return order_value_variability"
      ]
    },
    {
      "cell_type": "code",
      "execution_count": 168,
      "metadata": {
        "id": "7OVvb8s7a3MX",
        "colab": {
          "base_uri": "https://localhost:8080/"
        },
        "outputId": "4904c434-b3b8-48d4-c03c-7e3214346e71"
      },
      "outputs": [
        {
          "output_type": "stream",
          "name": "stdout",
          "text": [
            "The standard deviation of order value for 2022 Q4 is: $203.29\n"
          ]
        }
      ],
      "source": [
        "# Print out the order value variability for 2022 Q4\n",
        "print(f'The standard deviation of order value for 2022 Q4 is: ${round(order_value_variability(data, 2022, 4), 2)}')"
      ]
    },
    {
      "cell_type": "code",
      "execution_count": 169,
      "metadata": {
        "id": "o1Qwzeoaa3MX"
      },
      "outputs": [],
      "source": [
        "# Write a test to validate the order value variability function\n",
        "# assert <YOUR CODE HERE>"
      ]
    },
    {
      "cell_type": "markdown",
      "metadata": {
        "id": "YvcToEjPa3MX"
      },
      "source": [
        "### What is the Most Popular Product? (Mode - Part 1)"
      ]
    },
    {
      "cell_type": "code",
      "source": [
        "def relevant_item_record(record: pd.Series) -> pd.Series:\n",
        "    \"\"\"\n",
        "    Filters out order-specific fields from an item record.\n",
        "    :param record: The item record as a pandas Series\n",
        "    :return: A filtered item record containing only item-specific fields\n",
        "    \"\"\"\n",
        "\n",
        "    # Define the fields that are item-specific and not order-specific\n",
        "    relevant_fields = ['StockCode', 'Description', 'UnitPrice']\n",
        "\n",
        "    return record[relevant_fields]"
      ],
      "metadata": {
        "id": "myGlpzg88OmA"
      },
      "execution_count": 170,
      "outputs": []
    },
    {
      "cell_type": "code",
      "execution_count": 171,
      "metadata": {
        "id": "BpNOQtDLa3MX"
      },
      "outputs": [],
      "source": [
        "# Write a function to find the most popular product for a given year and quarter\n",
        "def most_popular_product(data: pd.DataFrame, year: int, quarter: int) -> str:\n",
        "    \"\"\"\n",
        "    Find the most popular product for a given year and quarter\n",
        "    :param data: The dataframe containing the data\n",
        "    :param year: The year to find the most popular product for\n",
        "    :param quarter: The quarter to find the most popular product for\n",
        "    :return: The most popular product for the given year and quarter\n",
        "    \"\"\"\n",
        "    # Filter the data by the given year and quarter\n",
        "    filtered_data = filter_by_year_and_quarter(data.copy(), year, quarter)\n",
        "\n",
        "    # Group by StockCode and sum up the quantities\n",
        "    product_popularity = filtered_data.groupby('StockCode')['Quantity'].sum()\n",
        "\n",
        "    # Find the most popular product (one with the maximum summed quantity)\n",
        "    most_popular_stockcode = product_popularity.idxmax()\n",
        "\n",
        "    # Retrieve the full item record for the most popular product\n",
        "    most_popular_record = filtered_data[filtered_data['StockCode'] == most_popular_stockcode].iloc[0]\n",
        "\n",
        "    return relevant_item_record(most_popular_record)"
      ]
    },
    {
      "cell_type": "code",
      "execution_count": 172,
      "metadata": {
        "id": "ZyAxOqhba3MX",
        "colab": {
          "base_uri": "https://localhost:8080/"
        },
        "outputId": "02b4c371-c027-49e2-97cb-f01f6eaf4983"
      },
      "outputs": [
        {
          "output_type": "stream",
          "name": "stdout",
          "text": [
            "The most popular product for 2022 Q4 is:\n",
            "StockCode               22197\n",
            "Description    POPCORN HOLDER\n",
            "UnitPrice                0.85\n",
            "Name: 273141, dtype: object\n"
          ]
        }
      ],
      "source": [
        "# Find the most popular product for 2022 Q4\n",
        "print(f'The most popular product for 2022 Q4 is:\\n{most_popular_product(data, 2022, 4)}')\n",
        "\n",
        "# Write a test to validate the most popular product function\n",
        "# assert <YOUR CODE HERE>"
      ]
    },
    {
      "cell_type": "markdown",
      "metadata": {
        "id": "ER3YgWzCa3MY"
      },
      "source": [
        "### What is the Most Profitable Product? (Mode - Part 2)"
      ]
    },
    {
      "cell_type": "code",
      "execution_count": 173,
      "metadata": {
        "id": "yfXerpu4a3MY"
      },
      "outputs": [],
      "source": [
        "# Write a function to find the most profitable product for a given year and quarter\n",
        "def highest_revenue_product(data: pd.DataFrame, year: int, quarter: int) -> str:\n",
        "    \"\"\"\n",
        "    Find the highest revenue product for a given year and quarter\n",
        "    :param data: The dataframe containing the data\n",
        "    :param year: The year to find the most profitable product for\n",
        "    :param quarter: The quarter to find the most profitable product for\n",
        "    :return: The most profitable product for the given year and quarter\n",
        "    \"\"\"\n",
        "    # Filter the data by the given year and quarter\n",
        "    filtered_data = filter_by_year_and_quarter(data.copy(), year, quarter)\n",
        "\n",
        "    # Calculate the revenue for each invoice item (Quantity * UnitPrice)\n",
        "    filtered_data['Revenue'] = filtered_data['Quantity'] * filtered_data['UnitPrice']\n",
        "\n",
        "    # Group by StockCode and sum up the revenues\n",
        "    product_revenue = filtered_data.groupby('StockCode')['Revenue'].sum()\n",
        "\n",
        "    # Find the highest revenue-generating product (one with the maximum summed revenue)\n",
        "    highest_revenue_stockcode = product_revenue.idxmax()\n",
        "\n",
        "    # Retrieve the full item record for the highest revenue-generating product\n",
        "    highest_revenue_record = filtered_data[filtered_data['StockCode'] == highest_revenue_stockcode].iloc[0]\n",
        "\n",
        "    return relevant_item_record(highest_revenue_record)"
      ]
    },
    {
      "cell_type": "code",
      "execution_count": 174,
      "metadata": {
        "id": "jjXsTKWza3MY",
        "colab": {
          "base_uri": "https://localhost:8080/"
        },
        "outputId": "f16c32cd-76de-402b-df79-3257ab41205f"
      },
      "outputs": [
        {
          "output_type": "stream",
          "name": "stdout",
          "text": [
            "The highest revenue product for 2022 Q4 is:\n",
            "StockCode                   23084\n",
            "Description    RABBIT NIGHT LIGHT\n",
            "UnitPrice                    2.08\n",
            "Name: 313733, dtype: object\n"
          ]
        }
      ],
      "source": [
        "# Find the highest revenue product for 2022 Q4\n",
        "print(f'The highest revenue product for 2022 Q4 is:\\n{highest_revenue_product(data, 2022, 4)}')\n",
        "\n",
        "# Write a test to validate the most profitable product function\n",
        "# assert <YOUR CODE HERE>"
      ]
    },
    {
      "cell_type": "markdown",
      "metadata": {
        "id": "GIrZ_QQEa3MZ"
      },
      "source": [
        "## Your Turn: Build Custom Metrics (Optional)\n",
        "\n",
        "Here's an example of a metric that you'd expect to see on sales dashboard: percentage of returning customers. Use this example as a template to write your own metric!"
      ]
    },
    {
      "cell_type": "markdown",
      "metadata": {
        "id": "9ZkDE1Oha3MZ"
      },
      "source": [
        "### What Percentage of Customers Become Return Customers?"
      ]
    },
    {
      "cell_type": "code",
      "execution_count": 175,
      "metadata": {
        "id": "nRByR9dwa3MZ"
      },
      "outputs": [],
      "source": [
        "def customer_retention_rate(data: pd.DataFrame, year: int, quarter: int) -> float:\n",
        "    \"\"\"\n",
        "    Calculate the customer retention rate for a given year and quarter\n",
        "    :param data: The dataframe containing the data\n",
        "    :param year: The year to calculate the customer retention rate for\n",
        "    :param quarter: The quarter to calculate the customer retention rate for\n",
        "    :return: The customer retention rate for the given year and quarter\n",
        "    \"\"\"\n",
        "    # Filter the data by the given year and quarter\n",
        "    filtered_data = filter_by_year_and_quarter(data.copy(), year, quarter)\n",
        "\n",
        "    # Count the number of unique invoices per customer\n",
        "    invoice_count_per_customer = filtered_data.groupby('CustomerID')['InvoiceNo'].nunique()\n",
        "\n",
        "    # Calculate the number of unique customers\n",
        "    num_customers = invoice_count_per_customer.count()\n",
        "\n",
        "    # Calculate the number of repeat customers (customers with more than one unique invoice)\n",
        "    num_repeat_customers = invoice_count_per_customer[invoice_count_per_customer > 1].count()\n",
        "\n",
        "    # Calculate the customer retention rate\n",
        "    if num_customers == 0:  # To avoid division by zero\n",
        "        return 0\n",
        "    retention_rate = (num_repeat_customers / num_customers) * 100\n",
        "\n",
        "    return retention_rate"
      ]
    },
    {
      "cell_type": "code",
      "execution_count": 176,
      "metadata": {
        "id": "s1zT7vCWa3MZ",
        "colab": {
          "base_uri": "https://localhost:8080/"
        },
        "outputId": "26e695d8-769c-42ec-f541-1f998f8911c2"
      },
      "outputs": [
        {
          "output_type": "stream",
          "name": "stdout",
          "text": [
            "The customer retention rate for 2022 Q4 is: 42.9%\n"
          ]
        }
      ],
      "source": [
        "# Calculate the customer retention rate for 2022 Q4\n",
        "print(f'The customer retention rate for 2022 Q4 is: {round(customer_retention_rate(data, 2022, 4), 1)}%')\n",
        "\n",
        "# Write tests to validate the customer retention rate function\n",
        "# assert <YOUR CODE HERE>"
      ]
    },
    {
      "cell_type": "markdown",
      "metadata": {
        "id": "2NiIRqElisQq"
      },
      "source": [
        "## Make a Dashboard for Your Portfolio!\n",
        "\n",
        "Optional, but ***Highly Encouraged***, Since You've Already Written the Code!\n",
        "\n",
        "To bring our analysis to life we'll be using a toolkit known as Jupyter Widgets, alongside an interactive plot creation library called Plotly.\n",
        "\n",
        "At this stage we don't anticipate that you're necessarily familiar with the ins and outs of how Jupyter Widgets function, but the code and links below should help you get started.\n",
        "\n",
        "You're welcome to modify it as you please. In fact, data visualization is a crucial component of the data science toolkit, so if you're so inclined, give it a try! Some excellent starting points for learning about Jupyter Widgets can be found here, [here](https://ipywidgets.readthedocs.io/en/latest/examples/Widget%20Basics.html), [here](https://ipywidgets.readthedocs.io/en/latest/examples/Widget%20List.html), and [here](https://towardsdatascience.com/bring-your-jupyter-notebook-to-life-with-interactive-widgets-bc12e03f0916)!\n",
        "\n",
        "One potential place to start - can you come up with a better plot type for the data to show outliers? Have a scroll through what the plotly.express library can do [here](https://plotly.com/python/plotly-express/) for inspiration"
      ]
    },
    {
      "cell_type": "code",
      "source": [
        "import pandas as pd\n",
        "import plotly.express as px\n",
        "from ipywidgets import interact, Select, Output, link\n",
        "from IPython.display import display, clear_output\n",
        "\n",
        "from google.colab import output\n",
        "output.enable_custom_widget_manager()\n",
        "\n",
        "# Create a copy of the data we've processed,\n",
        "#  in case we want to modify it some more\n",
        "df = data.copy(deep=True)\n",
        "\n",
        "# Create an output widget\n",
        "out = Output()\n",
        "\n",
        "# Define function to execute on change of filter\n",
        "def metrics_and_visualization(year, quarter):\n",
        "  # Filter the data for the selected year and quarter\n",
        "  filtered_df = filter_by_year_and_quarter(df, year, quarter)\n",
        "\n",
        "  # Sample our data, to make the visualisation less computionationally intensive\n",
        "  filtered_df = filtered_df.sample(frac=0.1, random_state=42)\n",
        "\n",
        "  out.clear_output(wait=True)\n",
        "  with out:\n",
        "    # Display the metrics\n",
        "    print(f\"Q{quarter} Total sales: ${total_sales(filtered_df, year, quarter)}\")\n",
        "    print(f\"Q{quarter} Mean Number of Customers Per Day: {mean_customers_per_day(filtered_df, year, quarter)}\")\n",
        "    print(f\"Q{quarter} Median Order Value: ${median_order_value(filtered_df, year, quarter)}\")\n",
        "    print(f\"Q{quarter} Standard Deviation of Order Values: ${order_value_variability(filtered_df, year, quarter)}\")\n",
        "    print(f\"Q{quarter} Most Popular Product:\\n{most_popular_product(filtered_df, year, quarter)}\")\n",
        "    print(f\"Q{quarter} Highest Revenue Product:\\n{highest_revenue_product(filtered_df, year, quarter)}\")\n",
        "    print(f\"Q{quarter} Customer retention rate: {customer_retention_rate(filtered_df, year, quarter)}%\")\n",
        "\n",
        "    # Create a scatterplot of unit prices for the selected quarter\n",
        "    fig = px.scatter(\n",
        "        filtered_df,\n",
        "        x=\"UnitPrice\",\n",
        "        color=\"UnitPrice\",\n",
        "        width=800,\n",
        "        height=400\n",
        "    )\n",
        "    fig.show()\n",
        "\n",
        "# Create a selection widget to choose the quarter\n",
        "year_widget = Select(options=df[\"Year\"].unique().tolist(), description='Year:')\n",
        "quarter_widget = Select(options=df[\"Quarter\"].unique().tolist(), description='Quarter:')\n",
        "\n",
        "# Display widgets\n",
        "display(year_widget, quarter_widget, out)\n",
        "\n",
        "# Define function to update quarters widget based on the selected year\n",
        "def update_quarters(change):\n",
        "    year = change['new']\n",
        "    quarters = df[df[\"Year\"] == year][\"Quarter\"].unique().tolist()\n",
        "    quarter_widget.options = quarters\n",
        "    quarter_widget.value = quarters[0] if quarters else None\n",
        "\n",
        "# Bind the function to changes in the year widget\n",
        "year_widget.observe(update_quarters, names='value')\n",
        "\n",
        "# Bind the metrics_and_visualization function to changes in the widgets\n",
        "def on_change(change):\n",
        "    metrics_and_visualization(year_widget.value, quarter_widget.value)\n",
        "\n",
        "quarter_widget.observe(on_change, names='value')\n",
        "\n",
        "# Call function once to update quarters and display initial data\n",
        "update_quarters({'new': year_widget.value})\n",
        "metrics_and_visualization(year_widget.value, quarter_widget.value)"
      ],
      "metadata": {
        "id": "cDcvzH4r0PJA",
        "colab": {
          "base_uri": "https://localhost:8080/",
          "height": 860,
          "referenced_widgets": [
            "25ac1a5143cf42deab576125ea04722f",
            "2388ec589d6e48bb9baedee68d9fd9a5",
            "11477b1805314b5f8adc3c6c4819cef4",
            "6046568a04514a5cb1aea6740520170b",
            "cb4e6ae2da654cc99d02aab290c4a0c4",
            "da43d3bf78444fe681f23450368d418d",
            "21c41c7b9e394ecfb726df9cd0ca555a",
            "c3bcbb607fc94f86866078b9f7228bf5"
          ]
        },
        "outputId": "f500f2e6-bf30-4c08-c02f-69e89e7ca84a"
      },
      "execution_count": 178,
      "outputs": [
        {
          "output_type": "display_data",
          "data": {
            "text/plain": [
              "Select(description='Year:', options=(2021, 2022), value=2021)"
            ],
            "application/vnd.jupyter.widget-view+json": {
              "version_major": 2,
              "version_minor": 0,
              "model_id": "25ac1a5143cf42deab576125ea04722f"
            }
          },
          "metadata": {
            "application/vnd.jupyter.widget-view+json": {
              "colab": {
                "custom_widget_manager": {
                  "url": "https://ssl.gstatic.com/colaboratory-static/widgets/colab-cdn-widget-manager/b3e629b1971e1542/manager.min.js"
                }
              }
            }
          }
        },
        {
          "output_type": "display_data",
          "data": {
            "text/plain": [
              "Select(description='Quarter:', options=(4, 1, 2, 3), value=4)"
            ],
            "application/vnd.jupyter.widget-view+json": {
              "version_major": 2,
              "version_minor": 0,
              "model_id": "6046568a04514a5cb1aea6740520170b"
            }
          },
          "metadata": {
            "application/vnd.jupyter.widget-view+json": {
              "colab": {
                "custom_widget_manager": {
                  "url": "https://ssl.gstatic.com/colaboratory-static/widgets/colab-cdn-widget-manager/b3e629b1971e1542/manager.min.js"
                }
              }
            }
          }
        },
        {
          "output_type": "display_data",
          "data": {
            "text/plain": [
              "Output()"
            ],
            "application/vnd.jupyter.widget-view+json": {
              "version_major": 2,
              "version_minor": 0,
              "model_id": "21c41c7b9e394ecfb726df9cd0ca555a"
            }
          },
          "metadata": {
            "application/vnd.jupyter.widget-view+json": {
              "colab": {
                "custom_widget_manager": {
                  "url": "https://ssl.gstatic.com/colaboratory-static/widgets/colab-cdn-widget-manager/b3e629b1971e1542/manager.min.js"
                }
              }
            }
          }
        }
      ]
    },
    {
      "cell_type": "markdown",
      "source": [
        "We often want to share visualisations like this with our colleagues and let them play around but without exposing them to all the analysis code we took to get there. Luckily we can easily do this in Colab!\n",
        "* go to `Edit` -> `Select All Cells`\n",
        "* go to `View` -> `Show/hide code`\n",
        "\n",
        "You can also go through and collapse individual sections that you don't want to share (e.g. the bit at the top where we installed some python libraries).\n",
        "\n",
        "You can then share a link to the notebook (`Share` -> `Copy Link`, setting the `General Access` field appropriately) and then anyone you share the link with can open the notebook, run through it, and see your analysis!"
      ],
      "metadata": {
        "id": "n8gh6Uga197k"
      }
    },
    {
      "cell_type": "markdown",
      "source": [
        "#### 🚀 You Did It!!!\n",
        "\n",
        "Congratulations, you've completed your first assignment in Applied Statistics for Data Science. If you deployed a streamlit app, please be sure to share the link when you submit your assignment for the week."
      ],
      "metadata": {
        "id": "PN6G-_lzXVYo"
      }
    }
  ],
  "metadata": {
    "colab": {
      "provenance": [],
      "toc_visible": true
    },
    "kernelspec": {
      "display_name": "Python 3.8.5 64-bit",
      "language": "python",
      "name": "python3"
    },
    "language_info": {
      "codemirror_mode": {
        "name": "ipython",
        "version": 3
      },
      "file_extension": ".py",
      "mimetype": "text/x-python",
      "name": "python",
      "nbconvert_exporter": "python",
      "pygments_lexer": "ipython3",
      "version": "3.8.5"
    },
    "vscode": {
      "interpreter": {
        "hash": "aee8b7b246df8f9039afb4144a1f6fd8d2ca17a180786b69acc140d282b71a49"
      }
    },
    "widgets": {
      "application/vnd.jupyter.widget-state+json": {
        "25ac1a5143cf42deab576125ea04722f": {
          "model_module": "@jupyter-widgets/controls",
          "model_name": "SelectModel",
          "model_module_version": "1.5.0",
          "state": {
            "_dom_classes": [],
            "_model_module": "@jupyter-widgets/controls",
            "_model_module_version": "1.5.0",
            "_model_name": "SelectModel",
            "_options_labels": [
              "2021",
              "2022"
            ],
            "_view_count": null,
            "_view_module": "@jupyter-widgets/controls",
            "_view_module_version": "1.5.0",
            "_view_name": "SelectView",
            "description": "Year:",
            "description_tooltip": null,
            "disabled": false,
            "index": 0,
            "layout": "IPY_MODEL_2388ec589d6e48bb9baedee68d9fd9a5",
            "rows": 5,
            "style": "IPY_MODEL_11477b1805314b5f8adc3c6c4819cef4"
          }
        },
        "2388ec589d6e48bb9baedee68d9fd9a5": {
          "model_module": "@jupyter-widgets/base",
          "model_name": "LayoutModel",
          "model_module_version": "1.2.0",
          "state": {
            "_model_module": "@jupyter-widgets/base",
            "_model_module_version": "1.2.0",
            "_model_name": "LayoutModel",
            "_view_count": null,
            "_view_module": "@jupyter-widgets/base",
            "_view_module_version": "1.2.0",
            "_view_name": "LayoutView",
            "align_content": null,
            "align_items": null,
            "align_self": null,
            "border": null,
            "bottom": null,
            "display": null,
            "flex": null,
            "flex_flow": null,
            "grid_area": null,
            "grid_auto_columns": null,
            "grid_auto_flow": null,
            "grid_auto_rows": null,
            "grid_column": null,
            "grid_gap": null,
            "grid_row": null,
            "grid_template_areas": null,
            "grid_template_columns": null,
            "grid_template_rows": null,
            "height": null,
            "justify_content": null,
            "justify_items": null,
            "left": null,
            "margin": null,
            "max_height": null,
            "max_width": null,
            "min_height": null,
            "min_width": null,
            "object_fit": null,
            "object_position": null,
            "order": null,
            "overflow": null,
            "overflow_x": null,
            "overflow_y": null,
            "padding": null,
            "right": null,
            "top": null,
            "visibility": null,
            "width": null
          }
        },
        "11477b1805314b5f8adc3c6c4819cef4": {
          "model_module": "@jupyter-widgets/controls",
          "model_name": "DescriptionStyleModel",
          "model_module_version": "1.5.0",
          "state": {
            "_model_module": "@jupyter-widgets/controls",
            "_model_module_version": "1.5.0",
            "_model_name": "DescriptionStyleModel",
            "_view_count": null,
            "_view_module": "@jupyter-widgets/base",
            "_view_module_version": "1.2.0",
            "_view_name": "StyleView",
            "description_width": ""
          }
        },
        "6046568a04514a5cb1aea6740520170b": {
          "model_module": "@jupyter-widgets/controls",
          "model_name": "SelectModel",
          "model_module_version": "1.5.0",
          "state": {
            "_dom_classes": [],
            "_model_module": "@jupyter-widgets/controls",
            "_model_module_version": "1.5.0",
            "_model_name": "SelectModel",
            "_options_labels": [
              "4"
            ],
            "_view_count": null,
            "_view_module": "@jupyter-widgets/controls",
            "_view_module_version": "1.5.0",
            "_view_name": "SelectView",
            "description": "Quarter:",
            "description_tooltip": null,
            "disabled": false,
            "index": 0,
            "layout": "IPY_MODEL_cb4e6ae2da654cc99d02aab290c4a0c4",
            "rows": 5,
            "style": "IPY_MODEL_da43d3bf78444fe681f23450368d418d"
          }
        },
        "cb4e6ae2da654cc99d02aab290c4a0c4": {
          "model_module": "@jupyter-widgets/base",
          "model_name": "LayoutModel",
          "model_module_version": "1.2.0",
          "state": {
            "_model_module": "@jupyter-widgets/base",
            "_model_module_version": "1.2.0",
            "_model_name": "LayoutModel",
            "_view_count": null,
            "_view_module": "@jupyter-widgets/base",
            "_view_module_version": "1.2.0",
            "_view_name": "LayoutView",
            "align_content": null,
            "align_items": null,
            "align_self": null,
            "border": null,
            "bottom": null,
            "display": null,
            "flex": null,
            "flex_flow": null,
            "grid_area": null,
            "grid_auto_columns": null,
            "grid_auto_flow": null,
            "grid_auto_rows": null,
            "grid_column": null,
            "grid_gap": null,
            "grid_row": null,
            "grid_template_areas": null,
            "grid_template_columns": null,
            "grid_template_rows": null,
            "height": null,
            "justify_content": null,
            "justify_items": null,
            "left": null,
            "margin": null,
            "max_height": null,
            "max_width": null,
            "min_height": null,
            "min_width": null,
            "object_fit": null,
            "object_position": null,
            "order": null,
            "overflow": null,
            "overflow_x": null,
            "overflow_y": null,
            "padding": null,
            "right": null,
            "top": null,
            "visibility": null,
            "width": null
          }
        },
        "da43d3bf78444fe681f23450368d418d": {
          "model_module": "@jupyter-widgets/controls",
          "model_name": "DescriptionStyleModel",
          "model_module_version": "1.5.0",
          "state": {
            "_model_module": "@jupyter-widgets/controls",
            "_model_module_version": "1.5.0",
            "_model_name": "DescriptionStyleModel",
            "_view_count": null,
            "_view_module": "@jupyter-widgets/base",
            "_view_module_version": "1.2.0",
            "_view_name": "StyleView",
            "description_width": ""
          }
        },
        "21c41c7b9e394ecfb726df9cd0ca555a": {
          "model_module": "@jupyter-widgets/output",
          "model_name": "OutputModel",
          "model_module_version": "1.0.0",
          "state": {
            "_dom_classes": [],
            "_model_module": "@jupyter-widgets/output",
            "_model_module_version": "1.0.0",
            "_model_name": "OutputModel",
            "_view_count": null,
            "_view_module": "@jupyter-widgets/output",
            "_view_module_version": "1.0.0",
            "_view_name": "OutputView",
            "layout": "IPY_MODEL_c3bcbb607fc94f86866078b9f7228bf5",
            "msg_id": "",
            "outputs": [
              {
                "output_type": "stream",
                "name": "stdout",
                "text": [
                  "Q4 Total sales: $34768.93\n",
                  "Q4 Mean Number of Customers Per Day: 34.9\n"
                ]
              },
              {
                "output_type": "stream",
                "name": "stdout",
                "text": [
                  "Q4 Median Order Value: $28.2\n"
                ]
              },
              {
                "output_type": "stream",
                "name": "stdout",
                "text": [
                  "Q4 Standard Deviation of Order Values: $45.19863847339195\n",
                  "Q4 Most Popular Product:\n",
                  "StockCode                           22616\n",
                  "Description    PACK OF 12 LONDON TISSUES \n",
                  "UnitPrice                            0.29\n",
                  "Name: 13829, dtype: object\n",
                  "Q4 Highest Revenue Product:\n",
                  "StockCode                         22423\n",
                  "Description    REGENCY CAKESTAND 3 TIER\n",
                  "UnitPrice                         12.75\n",
                  "Name: 25792, dtype: object\n",
                  "Q4 Customer retention rate: 20.476190476190474%\n"
                ]
              },
              {
                "output_type": "display_data",
                "data": {
                  "text/html": "<html>\n<head><meta charset=\"utf-8\" /></head>\n<body>\n    <div>            <script src=\"https://cdnjs.cloudflare.com/ajax/libs/mathjax/2.7.5/MathJax.js?config=TeX-AMS-MML_SVG\"></script><script type=\"text/javascript\">if (window.MathJax && window.MathJax.Hub && window.MathJax.Hub.Config) {window.MathJax.Hub.Config({SVG: {font: \"STIX-Web\"}});}</script>                <script type=\"text/javascript\">window.PlotlyConfig = {MathJaxConfig: 'local'};</script>\n        <script charset=\"utf-8\" src=\"https://cdn.plot.ly/plotly-2.24.1.min.js\"></script>                <div id=\"a1f123f6-1c0f-48c7-b26b-0c16ac9bd9fa\" class=\"plotly-graph-div\" style=\"height:400px; width:800px;\"></div>            <script type=\"text/javascript\">                                    window.PLOTLYENV=window.PLOTLYENV || {};                                    if (document.getElementById(\"a1f123f6-1c0f-48c7-b26b-0c16ac9bd9fa\")) {                    Plotly.newPlot(                        \"a1f123f6-1c0f-48c7-b26b-0c16ac9bd9fa\",                        [{\"hovertemplate\":\"UnitPrice=%{marker.color}\\u003cbr\\u003eindex=%{y}\\u003cextra\\u003e\\u003c\\u002fextra\\u003e\",\"legendgroup\":\"\",\"marker\":{\"color\":[0.55,3.75,7.65,2.1,1.25,0.42,2.1,1.45,2.1,1.25,0.85,3.75,1.25,0.85,0.85,1.95,1.25,4.95,9.95,0.85,1.25,8.5,3.95,2.55,1.25,0.85,0.85,8.95,0.19,9.95,0.19,2.95,4.25,0.29,7.95,4.25,2.95,2.95,2.95,4.25,1.25,0.85,1.65,4.25,6.45,1.65,1.25,1.65,0.85,1.65,0.65,4.95,1.25,1.65,0.42,5.95,0.85,5.95,1.65,1.65,9.95,0.85,2.95,4.25,1.25,2.1,0.85,0.29,2.95,0.85,1.25,1.65,19.95,5.95,1.45,1.45,1.25,2.1,0.55,1.95,1.65,3.75,4.65,0.85,0.55,1.25,2.55,1.25,2.95,2.1,2.95,2.1,2.95,1.25,2.1,2.1,2.95,0.85,0.85,1.25,1.65,1.95,1.45,1.69,2.55,1.65,1.65,1.95,1.65,2.95,2.55,1.25,3.75,5.95,2.55,2.1,2.1,2.95,2.95,1.65,4.95,1.25,1.25,2.95,2.95,1.45,2.55,0.42,1.65,1.25,2.31,1.65,12.75,2.55,12.75,1.25,1.25,3.95,1.25,0.65,2.1,4.65,2.55,0.55,0.85,2.55,2.1,6.75,1.95,2.95,2.1,1.65,3.75,14.95,2.55,0.85,4.95,0.42,2.95,2.95,0.85,1.25,1.65,0.85,4.25,2.1,7.95,2.55,1.25,0.72,8.95,1.65,2.1,2.1,2.95,2.1,1.45,0.29,2.1,2.55,1.25,1.95,3.75,2.55,2.1,3.75,0.42,1.95,2.95,7.95,1.25,2.95,0.42,4.95,0.85,1.25,3.75,2.1,5.95,1.25,2.1,3.75,2.1,3.75,1.65,1.25,0.85,0.85,1.95,0.85,2.1,3.75,3.25,0.65,1.45,1.65,0.55,0.55,0.85,1.25,0.65,2.1,0.85,1.69,7.95,1.95,0.55,5.49,4.25,5.95,7.95,2.55,1.25,1.45,1.45,1.65,2.1,0.85,2.95,0.19,3.75,5.45,3.25,2.55,1.25,2.95,0.21,1.25,2.95,0.55,5.95,3.75,9.95,4.95,1.65,2.95,0.29,3.75,1.65,2.55,1.65,8.5,1.69,0.85,8.5,2.75,1.95,2.1,1.65,12.75,0.85,0.42,2.1,2.95,9.95,1.65,7.95,12.75,1.25,2.1,1.69,1.25,3.75,1.65,9.95,3.95,1.25,1.25,2.55,2.1,0.36,3.75,2.55,2.55,0.85,0.85,8.5,1.69,2.1,1.25,1.65,0.95,1.25,4.95,4.95,3.75,1.25,1.95,5.0,0.55,8.5,0.29,29.95,2.95,3.35,1.95,0.42,2.95,6.75,2.55,0.55,1.25,3.75,4.25,5.95,0.85,4.65,21.95,1.65,1.25,12.75,3.95,8.5,4.25,8.5,0.85,2.95,2.1,1.69,8.5,1.95,1.69,2.95,0.42,1.65,3.75,5.95,1.65,8.5,2.1,1.65,1.25,2.95,7.95,5.95,3.75,2.95,8.5,9.95,0.85,1.45,0.65,1.25,7.95,3.39,2.1,8.5,0.85,2.75,0.95,0.65,2.95,3.75,2.55,1.25,6.75,1.45,1.25,7.95,2.55,4.95,1.65,1.25,1.25,7.95,2.55,4.25,2.55,0.42,1.95,0.42,2.95,0.85,8.5,0.42,1.45,0.85,2.55,0.19,4.95,1.25,2.1,2.95,2.12,3.75,7.95,2.1,3.75,6.75,1.65,1.65,1.65,1.25,1.25,2.1,14.95,2.55,0.85,7.95,2.1,1.25,3.75,1.65,3.75,4.95,3.75,1.65,0.65,6.95,1.25,7.95,4.95,2.95,3.75,0.85,0.42,2.95,1.65,0.85,1.65,4.95,3.95,4.25,2.95,4.25,1.25,1.95,0.55,2.1,6.95,0.85,2.95,1.25,2.1,1.65,1.65,12.75,0.85,1.25,2.55,2.55,0.95,0.85,2.1,2.95,1.49,4.95,7.95,4.25,4.25,9.95,1.65,3.39,1.65,16.95,3.75,4.95,0.85,4.95,0.85,3.75,8.5,0.21,1.25,1.95,0.42,0.55,1.95,2.55,1.65,1.25,1.69,1.25,1.25,1.95,1.25,1.25,1.65,2.95,1.25,9.95,3.75,4.25,1.95,1.65,9.95,1.65,1.25,1.25,0.85,2.55,4.95,0.65,1.25,3.75,4.25,3.75,3.75,0.55,8.5,3.75,0.65,0.85,2.55,5.95,9.95,8.95,1.25,9.95,0.85,1.25,0.85,2.95,1.65,1.25,1.65,0.85,12.75,0.42,1.95,2.95,1.25,1.25,0.42,1.25,2.1,0.29,2.95,0.42,2.75,2.1,5.95,1.25,1.65,3.75,4.65,3.45,1.25,0.85,1.25,3.75,2.95,0.85,2.95,1.65,1.65,2.55,4.95,2.95,2.55,1.65,2.55,0.29,2.55,4.95,2.95,3.75,2.95,1.25,3.75,4.95,0.85,1.25,1.65,1.45,1.25,0.55,14.95,8.5,2.95,50.0,0.29,1.25,0.85,1.25,1.95,1.65,1.65,0.42,2.95,1.25,1.25,0.21,7.95,4.25,2.55,2.1,12.75,2.95,7.95,1.65,1.65,4.95,0.65,1.65,3.75,0.85,2.95,0.85,1.06,1.65,0.85,2.1,1.45,2.95,2.95,12.75,0.85,1.25,2.95,2.1,2.95,1.65,1.95,3.75,0.85,1.25,12.75,3.75,3.75,0.42,0.36,5.95,2.55,1.65,35.75,1.95,0.85,2.1,2.1,2.1,0.72,1.06,0.85,1.45,7.95,3.75,2.55,0.85,7.95,0.85,3.75,0.42,3.25,1.65,0.42,2.95,3.75,3.75,7.95,2.95,1.25,2.95,3.75,9.95,1.25,0.85,2.95,4.95,14.95,1.25,0.85,1.65,0.55,6.75,12.75,2.55,1.25,1.25,1.65,2.95,1.25,4.65,1.95,2.95,1.25,1.25,1.69,0.29,1.95,0.21,0.29,4.65,2.25,3.95,2.55,1.65,1.69,2.95,1.65,2.95,0.65,2.95,0.85,1.25,2.95,9.95,2.1,1.95,2.95,4.25,1.95,4.95,0.85,0.55,1.25,2.1,0.42,3.45,2.55,1.25,8.5,5.95,1.25,1.25,3.75,4.25,3.75,1.65,1.45,2.95,3.75,5.49,1.65,3.75,0.42,0.55,0.29,2.95,3.75,0.85,1.95,0.42,2.25,12.75,2.55,1.25,1.45,2.55,2.95,0.42,1.65,3.75,2.95,3.75,2.1,4.95,0.42,2.75,0.85,8.5,3.45,1.65,12.75,39.95,5.95,1.25,1.95,4.25,2.95,1.95,6.45,0.42,3.75,1.65,2.1,2.55,5.95,3.5,2.95,0.42,0.85,0.19,2.95,3.75,1.95,1.49,1.25,12.75,2.95,2.95,2.95,2.95,0.42,1.45,7.65,5.95,1.25,3.75,1.25,1.45,1.25,1.25,2.1,1.95,2.1,1.95,1.95,0.21,1.65,1.65,2.95,0.42,2.1,2.1,1.25,1.25,7.95,0.85,4.95,1.25,0.65,1.65,2.1,4.95,2.1,2.95,1.25,1.65,9.95,1.25,4.95,2.1,1.65,1.65,1.95,3.75,5.95,0.42,2.55,5.95,0.85,0.85,3.25,12.75,1.65,4.95,1.25,1.25,6.75,4.95,2.95,1.65,3.75,1.25,0.85,1.25,14.95,1.25,1.69,9.95,1.65,0.85,3.75,3.75,3.75,2.95,3.75,2.95,6.75,12.75,2.1,0.85,2.95,0.85,1.25,0.85,3.75,9.95,1.65,2.95,0.42,4.95,1.95,2.55,2.55,2.95,1.85,2.55,0.14,1.25,0.65,4.25,8.5,0.85,1.95,2.55,0.65,1.95,8.5,3.75,1.25,0.21,2.55,4.95,3.75,1.69,3.25,1.25,1.25,3.75,3.75,3.75,2.95,7.95,12.75,4.95,4.25,1.25,6.75,4.95,1.25,0.42,0.42,5.95,4.25,1.65,2.95,1.65,0.85,14.95,0.42,1.65,0.95,2.1,1.25,5.95,1.95,0.85,3.75,0.65,1.25,0.19,1.25,1.69,1.25,2.1,3.95,1.25,7.95,10.95,0.55,4.65,0.85,3.45,0.42,0.85,2.95,0.85,8.5,0.85,2.1,2.1,0.29,2.1,0.42,2.95,1.45,5.45,2.95,0.42,2.55,16.95,4.25,2.1,4.95,1.95,1.25,0.85,1.25,2.1,0.55,6.75,2.55,0.42,1.25,0.85,4.25,1.65,0.29,4.65,1.25,4.65,2.55,0.65,3.75,1.25,0.85,3.75,1.65,3.75,3.75,2.95,8.95,1.65,3.75,3.75,4.25,1.95,1.25,2.95,2.1,4.25,0.85,2.95,8.5,2.1,5.95,2.1,0.29,2.55,0.42,1.45,1.95,1.25,1.95,0.42,1.45,0.65,9.95,0.42,2.95,7.95,2.1,1.45,1.25,4.95,1.65,0.42,0.85,0.65,0.95,1.95,1.95,1.45,4.95,1.25,3.75,3.75,4.95,4.95,3.35,2.95,1.95,2.95,1.25,1.25,4.25,1.65,1.95,1.25,2.95,7.95,7.95,2.55,9.95,1.25,1.25,4.95,12.75,2.1,2.95,2.95,0.42,1.65,2.95,4.25,2.95,2.55,3.75,2.95,4.65,2.1,0.85,4.25,3.75,4.25,1.49,1.25,1.45,2.95,4.95,0.42,9.95,12.75,0.42,3.39,0.42,4.25,9.95,3.75,5.95,12.75,4.95,0.42,0.85,10.95,2.95,4.95,2.95,2.95,1.65,1.25,1.25,2.1,2.55,0.42,2.1,4.95,5.95,2.1,1.25,3.75,4.25,2.95,2.95,1.65,0.21,1.25,1.45,4.25,0.85,2.95,14.95,2.55,7.95,4.95,7.95,5.95,1.65,2.95,1.95,3.95,7.95,1.95,9.95,1.25,1.65,9.95,1.25,1.45,7.95,0.42,4.65,5.95,2.1,0.85,1.25,4.25,0.29,1.25,1.65,5.95,3.75,0.42,5.45,0.42,3.75,1.25,2.95,0.55,0.85,4.65,8.5,0.95,2.55,165.0,5.95,0.85,2.1,0.42,0.19,4.95,1.65,0.85,2.95,2.55,0.42,2.95,0.85,2.55,1.45,2.95,1.65,5.95,0.65,0.85,4.65,7.95,9.95,4.95,7.95,2.95,3.25,3.75,2.1,12.75,1.65,2.55,2.1,0.85,0.55,0.85,1.95,9.95,1.95,9.95,0.55,0.95,1.25,2.1,2.95,3.95,2.95,0.85,1.65,1.25,0.12,1.65,1.25,0.42,2.55,1.25,1.25,1.25,2.95,1.25,0.55,0.65,2.1,1.65,1.25,2.95,1.69,1.25,2.95,1.65,2.55,1.65,4.95,0.42,50.0,4.65,1.95,4.95,0.55,4.65,1.25,4.95,3.75,0.0,1.95,0.65,1.25,5.45,1.25,1.25,6.35,3.75,0.42,6.95,0.21,2.1,1.65,0.42,4.95,1.65,1.25,1.65,1.25,0.85,1.25,2.1,0.85,4.65,2.95,2.1,0.85,2.55,1.25,3.75,2.1,4.25,3.75,0.42,1.65,1.45,0.65,2.1,4.25,12.75,6.75,4.95,7.95,1.45,1.25,0.85,2.55,0.85,0.85,2.1,0.85,0.65,0.42,1.45,10.95,18.0,2.1,1.25,7.95,2.95,8.95,1.65,0.85,2.1,3.75,0.85,2.95,1.65,3.75,1.25,0.55,2.55,1.95,4.25,9.95,4.95,1.65,1.25,1.25,2.95,2.95,0.42,1.25,1.25,4.25,1.45,1.45,2.95,1.25,4.25,1.65,4.65,1.25,4.65,3.39,7.95,1.69,8.5,1.65,0.55,2.95,0.42,1.25,2.95,0.55,2.1,0.85,2.25,1.25,2.95,0.85,3.75,0.42,2.25,1.25,7.95,1.65,4.95,3.75,1.95,5.95,2.1,1.25,2.95,2.55,6.95,1.65,2.95,1.95,2.1,1.45,2.55,4.25,2.55,3.75,1.25,4.95,1.25,2.95,3.95,3.75,2.55,0.85,0.85,2.95,1.65,2.1,4.65,1.65,4.95,8.5,1.25,0.85,0.85,1.25,2.95,4.25,1.45,1.65,1.25,1.65,4.95,2.95,2.1,2.95,2.95,1.25,1.65,9.95,3.25,0.42,0.65,3.75,2.95,2.1,1.65,0.42,7.95,1.65,3.25,3.75,2.1,0.42,1.65,1.65,3.75,0.85,0.42,1.25,0.85,2.1,2.55,2.55,2.95,5.95,0.55,0.85,7.95,1.65,4.95,2.1,8.5,1.25,3.75,2.55,3.35,3.75,0.65,1.25,2.95,2.95,0.95,2.95,0.85,7.95,0.85,3.75,0.42,0.65,2.1,18.95,2.95,0.85,3.75,0.42,0.85,1.25,1.65,5.45,0.72,1.25,2.95,3.75,4.95,2.1,1.69,2.1,4.95,6.75,1.25,1.25,3.75,2.25,3.75,0.42,3.75,2.95,1.25,1.25,0.42,2.95,8.5,0.85,0.42,3.75,3.75,2.1,1.65,2.95,0.42,2.55,1.25,0.85,4.65,7.95,0.55,0.85,3.75,2.1,12.75,2.95,2.95,2.1,12.75,9.95,1.65,1.25,0.42,1.25,2.1,1.25,2.1,2.1,2.1,0.85,4.95,0.85,2.95,2.95,1.25,5.95,2.1,1.65,0.42,4.95,2.55,5.95,5.95,4.25,2.95,1.65,1.65,0.42,0.85,1.25,2.95,1.65,0.65,0.29,4.25,3.35,1.25,4.95,1.25,1.25,3.75,0.85,2.1,2.95,1.25,0.42,1.95,8.5,8.95,1.95,0.42,0.85,1.95,1.25,1.95,2.55,2.1,2.55,1.25,0.85,1.65,2.55,3.75,0.85,1.45,5.95,7.95,1.95,0.85,1.95,0.42,4.95,1.95,3.75,0.42,1.65,5.95,3.45,0.42,0.85,4.95,1.25,2.95,1.25,7.95,1.69,2.1,0.42,1.25,3.75,0.42,2.95,2.1,1.25,2.95,1.65,2.95,2.95,3.75,2.55,1.95,4.25,0.21,2.1,2.1,8.5,1.25,4.65,4.95,1.95,4.25,1.65,2.1,0.85,1.45,1.25,1.25,4.25,0.85,1.65,2.1,9.95,18.0,2.55,2.55,4.25,1.25,0.42,3.75,9.95,0.65,7.95,7.95,8.5,0.29,3.75,1.25,7.95,2.1,4.25,2.95,3.95,2.1,4.95,2.95,3.75,0.55,0.42,4.25,4.95,1.65,5.95,4.95,4.25,1.95,2.95,2.1,3.75,0.21,4.95,5.95,2.1,1.25,0.85,3.75,2.1,1.45,0.85,0.55,1.25,1.25,4.25,1.65,1.65,2.1,9.95,4.95,1.95,4.95,0.55,7.95,0.65,1.95,1.65,3.75,2.55,5.95,3.75,0.19,0.65,3.75,2.1,2.95,0.65,1.95,3.75,2.55,2.1,4.95,2.95,5.95,0.42,4.95,0.72,2.55,1.25,0.85,1.95,5.95,2.1,0.55,5.95,0.85,3.75,1.65,1.45,2.55,7.65,3.75,0.65,1.65,1.25,0.85,2.95,12.75,1.65,4.65,1.25,0.85,2.95,5.95,8.5,1.65,4.95,4.25,0.42,0.65,2.95,2.95,7.95,4.25,5.95,8.95,1.65,1.25,1.65,1.95,1.65,3.39,0.65,1.25,0.85,0.85,3.75,1.25,7.95,2.1,7.95,0.85,15.0,2.1,2.1,1.25,1.65,1.25,2.95,1.25,0.85,2.55,4.65,6.75,1.95,3.75,4.25,1.25,0.85,1.65,7.95,2.95,2.1,1.45,2.95,6.75,1.65,2.55,9.95,12.75,2.55,1.65,3.75,0.55,0.85,1.65,4.95,2.1,4.95,1.25,1.25,0.85,0.65,4.25,1.95,0.85,3.75,2.95,12.75,1.65,3.95,0.85,1.65,2.1,1.65,2.95,0.55,1.25,1.65,3.75,0.42,3.75,0.85,2.95,2.1,1.25,2.55,14.95,1.25,0.65,1.95,3.75,1.25,0.85,1.25,1.95,5.95,1.06,2.55,0.85,2.1,2.95,2.95,0.85,2.1,3.75,2.95,0.42,1.25,5.95,0.85,0.42,1.25,1.65,1.65,2.95,1.65,0.42,0.42,1.65,1.25,2.1,2.95,1.49,2.95,8.5,0.85,2.75,4.25,0.42,2.95,0.65,1.25,1.25,1.95,2.95,3.75,10.95,0.85,1.06,2.1,9.95,1.65,3.75,2.95,0.55,0.85,1.25,5.49,3.75,0.29,4.95,1.25,4.95,5.95,3.75,1.25,0.42,1.65,0.42,0.65,1.25,2.1,2.95,2.95,2.95,3.75,1.25,2.95,0.55,9.95,1.25,0.85,2.1,3.75,2.95,2.95,1.65,1.65,4.25,1.25,1.25,1.25,4.95,1.25,2.55,1.25,1.65,7.95,1.25,1.25,1.25,7.95,2.1,3.75,2.1,0.42,2.55,0.85,3.75,2.95,2.95,2.95,1.25,1.65,7.95,0.85,1.25,2.95,2.95,2.55,3.75,0.65,4.95,4.25,7.95,3.75,0.85,2.55,3.75,1.45,9.95,9.95,1.65,0.42,0.85,2.95,1.45,0.85,2.95,1.95,0.85,7.95,2.95,2.1,0.55,2.1,3.75,1.95,1.65,0.42,3.75,4.25,3.75,9.95,3.45,5.95,2.95,0.85,4.25,2.55,1.25,2.1,3.75,2.95,4.95,3.75,0.42,5.95,1.25,7.95,2.95,2.95,1.65,0.42,4.95,1.65,5.95,2.95,2.1,1.65,2.1,3.75,3.75,1.45,8.5,1.95,0.42,4.95,4.95,2.95,8.5,2.1,4.65,7.95,3.25,2.95,12.75,1.45,2.1,2.1,2.95,3.75,1.45,2.55,0.85,7.5,35.75,9.95,2.55,5.95,7.95,2.1,0.55,3.75,7.95,1.65,6.95,3.75,1.25,2.1,1.25,1.25,1.95,2.55,3.75,2.95,1.25,0.85,1.25,0.85,4.25,3.75,1.65,2.1,1.95,5.95,1.25,5.95,1.65,2.55,4.95,3.75,3.75,0.42,9.95,1.65,1.95,1.25,4.25,2.95,1.65,1.45,2.95,4.95,2.95,1.25,3.75,1.95,8.5,2.95,1.95,0.95,2.1,1.25,1.95,1.65,3.75,3.75,7.95,1.65,1.65,1.65,0.42,2.1,3.95,0.85,1.25,2.1,1.45,2.55,1.25,0.85,1.25,4.95,3.35,0.65,6.75,1.25,2.55,2.1,0.85,3.39,1.65,1.65,1.65,6.75,1.65,2.1,7.95,1.25,1.69,2.1,1.25,0.42,4.95,4.95,1.25,5.95,2.95,4.95,1.25,1.25,0.42,2.1,1.95,4.25,1.95,5.95,3.45,1.25,2.55,2.95,0.55,9.95,1.65,0.85,2.95,1.95,2.95,2.95,1.65,0.85,2.95,1.25,1.25,2.1,4.95,0.42,1.95,1.95,0.42,1.25,8.95,0.85,1.95,2.1,0.85,3.25,3.75,2.1,1.69,5.45,0.75,3.75,4.25,0.85,1.95,0.85,1.65,1.95,2.55,0.29,0.85,16.95,0.65,1.45,2.95,2.95,1.65,1.25,0.85,1.25,3.75,1.65,12.75,7.95,1.25,0.85,2.95,2.95,0.85,3.75,1.65,2.95,0.72,1.65,0.85,3.25],\"coloraxis\":\"coloraxis\",\"symbol\":\"circle\"},\"mode\":\"markers\",\"name\":\"\",\"showlegend\":false,\"x\":[0.55,3.75,7.65,2.1,1.25,0.42,2.1,1.45,2.1,1.25,0.85,3.75,1.25,0.85,0.85,1.95,1.25,4.95,9.95,0.85,1.25,8.5,3.95,2.55,1.25,0.85,0.85,8.95,0.19,9.95,0.19,2.95,4.25,0.29,7.95,4.25,2.95,2.95,2.95,4.25,1.25,0.85,1.65,4.25,6.45,1.65,1.25,1.65,0.85,1.65,0.65,4.95,1.25,1.65,0.42,5.95,0.85,5.95,1.65,1.65,9.95,0.85,2.95,4.25,1.25,2.1,0.85,0.29,2.95,0.85,1.25,1.65,19.95,5.95,1.45,1.45,1.25,2.1,0.55,1.95,1.65,3.75,4.65,0.85,0.55,1.25,2.55,1.25,2.95,2.1,2.95,2.1,2.95,1.25,2.1,2.1,2.95,0.85,0.85,1.25,1.65,1.95,1.45,1.69,2.55,1.65,1.65,1.95,1.65,2.95,2.55,1.25,3.75,5.95,2.55,2.1,2.1,2.95,2.95,1.65,4.95,1.25,1.25,2.95,2.95,1.45,2.55,0.42,1.65,1.25,2.31,1.65,12.75,2.55,12.75,1.25,1.25,3.95,1.25,0.65,2.1,4.65,2.55,0.55,0.85,2.55,2.1,6.75,1.95,2.95,2.1,1.65,3.75,14.95,2.55,0.85,4.95,0.42,2.95,2.95,0.85,1.25,1.65,0.85,4.25,2.1,7.95,2.55,1.25,0.72,8.95,1.65,2.1,2.1,2.95,2.1,1.45,0.29,2.1,2.55,1.25,1.95,3.75,2.55,2.1,3.75,0.42,1.95,2.95,7.95,1.25,2.95,0.42,4.95,0.85,1.25,3.75,2.1,5.95,1.25,2.1,3.75,2.1,3.75,1.65,1.25,0.85,0.85,1.95,0.85,2.1,3.75,3.25,0.65,1.45,1.65,0.55,0.55,0.85,1.25,0.65,2.1,0.85,1.69,7.95,1.95,0.55,5.49,4.25,5.95,7.95,2.55,1.25,1.45,1.45,1.65,2.1,0.85,2.95,0.19,3.75,5.45,3.25,2.55,1.25,2.95,0.21,1.25,2.95,0.55,5.95,3.75,9.95,4.95,1.65,2.95,0.29,3.75,1.65,2.55,1.65,8.5,1.69,0.85,8.5,2.75,1.95,2.1,1.65,12.75,0.85,0.42,2.1,2.95,9.95,1.65,7.95,12.75,1.25,2.1,1.69,1.25,3.75,1.65,9.95,3.95,1.25,1.25,2.55,2.1,0.36,3.75,2.55,2.55,0.85,0.85,8.5,1.69,2.1,1.25,1.65,0.95,1.25,4.95,4.95,3.75,1.25,1.95,5.0,0.55,8.5,0.29,29.95,2.95,3.35,1.95,0.42,2.95,6.75,2.55,0.55,1.25,3.75,4.25,5.95,0.85,4.65,21.95,1.65,1.25,12.75,3.95,8.5,4.25,8.5,0.85,2.95,2.1,1.69,8.5,1.95,1.69,2.95,0.42,1.65,3.75,5.95,1.65,8.5,2.1,1.65,1.25,2.95,7.95,5.95,3.75,2.95,8.5,9.95,0.85,1.45,0.65,1.25,7.95,3.39,2.1,8.5,0.85,2.75,0.95,0.65,2.95,3.75,2.55,1.25,6.75,1.45,1.25,7.95,2.55,4.95,1.65,1.25,1.25,7.95,2.55,4.25,2.55,0.42,1.95,0.42,2.95,0.85,8.5,0.42,1.45,0.85,2.55,0.19,4.95,1.25,2.1,2.95,2.12,3.75,7.95,2.1,3.75,6.75,1.65,1.65,1.65,1.25,1.25,2.1,14.95,2.55,0.85,7.95,2.1,1.25,3.75,1.65,3.75,4.95,3.75,1.65,0.65,6.95,1.25,7.95,4.95,2.95,3.75,0.85,0.42,2.95,1.65,0.85,1.65,4.95,3.95,4.25,2.95,4.25,1.25,1.95,0.55,2.1,6.95,0.85,2.95,1.25,2.1,1.65,1.65,12.75,0.85,1.25,2.55,2.55,0.95,0.85,2.1,2.95,1.49,4.95,7.95,4.25,4.25,9.95,1.65,3.39,1.65,16.95,3.75,4.95,0.85,4.95,0.85,3.75,8.5,0.21,1.25,1.95,0.42,0.55,1.95,2.55,1.65,1.25,1.69,1.25,1.25,1.95,1.25,1.25,1.65,2.95,1.25,9.95,3.75,4.25,1.95,1.65,9.95,1.65,1.25,1.25,0.85,2.55,4.95,0.65,1.25,3.75,4.25,3.75,3.75,0.55,8.5,3.75,0.65,0.85,2.55,5.95,9.95,8.95,1.25,9.95,0.85,1.25,0.85,2.95,1.65,1.25,1.65,0.85,12.75,0.42,1.95,2.95,1.25,1.25,0.42,1.25,2.1,0.29,2.95,0.42,2.75,2.1,5.95,1.25,1.65,3.75,4.65,3.45,1.25,0.85,1.25,3.75,2.95,0.85,2.95,1.65,1.65,2.55,4.95,2.95,2.55,1.65,2.55,0.29,2.55,4.95,2.95,3.75,2.95,1.25,3.75,4.95,0.85,1.25,1.65,1.45,1.25,0.55,14.95,8.5,2.95,50.0,0.29,1.25,0.85,1.25,1.95,1.65,1.65,0.42,2.95,1.25,1.25,0.21,7.95,4.25,2.55,2.1,12.75,2.95,7.95,1.65,1.65,4.95,0.65,1.65,3.75,0.85,2.95,0.85,1.06,1.65,0.85,2.1,1.45,2.95,2.95,12.75,0.85,1.25,2.95,2.1,2.95,1.65,1.95,3.75,0.85,1.25,12.75,3.75,3.75,0.42,0.36,5.95,2.55,1.65,35.75,1.95,0.85,2.1,2.1,2.1,0.72,1.06,0.85,1.45,7.95,3.75,2.55,0.85,7.95,0.85,3.75,0.42,3.25,1.65,0.42,2.95,3.75,3.75,7.95,2.95,1.25,2.95,3.75,9.95,1.25,0.85,2.95,4.95,14.95,1.25,0.85,1.65,0.55,6.75,12.75,2.55,1.25,1.25,1.65,2.95,1.25,4.65,1.95,2.95,1.25,1.25,1.69,0.29,1.95,0.21,0.29,4.65,2.25,3.95,2.55,1.65,1.69,2.95,1.65,2.95,0.65,2.95,0.85,1.25,2.95,9.95,2.1,1.95,2.95,4.25,1.95,4.95,0.85,0.55,1.25,2.1,0.42,3.45,2.55,1.25,8.5,5.95,1.25,1.25,3.75,4.25,3.75,1.65,1.45,2.95,3.75,5.49,1.65,3.75,0.42,0.55,0.29,2.95,3.75,0.85,1.95,0.42,2.25,12.75,2.55,1.25,1.45,2.55,2.95,0.42,1.65,3.75,2.95,3.75,2.1,4.95,0.42,2.75,0.85,8.5,3.45,1.65,12.75,39.95,5.95,1.25,1.95,4.25,2.95,1.95,6.45,0.42,3.75,1.65,2.1,2.55,5.95,3.5,2.95,0.42,0.85,0.19,2.95,3.75,1.95,1.49,1.25,12.75,2.95,2.95,2.95,2.95,0.42,1.45,7.65,5.95,1.25,3.75,1.25,1.45,1.25,1.25,2.1,1.95,2.1,1.95,1.95,0.21,1.65,1.65,2.95,0.42,2.1,2.1,1.25,1.25,7.95,0.85,4.95,1.25,0.65,1.65,2.1,4.95,2.1,2.95,1.25,1.65,9.95,1.25,4.95,2.1,1.65,1.65,1.95,3.75,5.95,0.42,2.55,5.95,0.85,0.85,3.25,12.75,1.65,4.95,1.25,1.25,6.75,4.95,2.95,1.65,3.75,1.25,0.85,1.25,14.95,1.25,1.69,9.95,1.65,0.85,3.75,3.75,3.75,2.95,3.75,2.95,6.75,12.75,2.1,0.85,2.95,0.85,1.25,0.85,3.75,9.95,1.65,2.95,0.42,4.95,1.95,2.55,2.55,2.95,1.85,2.55,0.14,1.25,0.65,4.25,8.5,0.85,1.95,2.55,0.65,1.95,8.5,3.75,1.25,0.21,2.55,4.95,3.75,1.69,3.25,1.25,1.25,3.75,3.75,3.75,2.95,7.95,12.75,4.95,4.25,1.25,6.75,4.95,1.25,0.42,0.42,5.95,4.25,1.65,2.95,1.65,0.85,14.95,0.42,1.65,0.95,2.1,1.25,5.95,1.95,0.85,3.75,0.65,1.25,0.19,1.25,1.69,1.25,2.1,3.95,1.25,7.95,10.95,0.55,4.65,0.85,3.45,0.42,0.85,2.95,0.85,8.5,0.85,2.1,2.1,0.29,2.1,0.42,2.95,1.45,5.45,2.95,0.42,2.55,16.95,4.25,2.1,4.95,1.95,1.25,0.85,1.25,2.1,0.55,6.75,2.55,0.42,1.25,0.85,4.25,1.65,0.29,4.65,1.25,4.65,2.55,0.65,3.75,1.25,0.85,3.75,1.65,3.75,3.75,2.95,8.95,1.65,3.75,3.75,4.25,1.95,1.25,2.95,2.1,4.25,0.85,2.95,8.5,2.1,5.95,2.1,0.29,2.55,0.42,1.45,1.95,1.25,1.95,0.42,1.45,0.65,9.95,0.42,2.95,7.95,2.1,1.45,1.25,4.95,1.65,0.42,0.85,0.65,0.95,1.95,1.95,1.45,4.95,1.25,3.75,3.75,4.95,4.95,3.35,2.95,1.95,2.95,1.25,1.25,4.25,1.65,1.95,1.25,2.95,7.95,7.95,2.55,9.95,1.25,1.25,4.95,12.75,2.1,2.95,2.95,0.42,1.65,2.95,4.25,2.95,2.55,3.75,2.95,4.65,2.1,0.85,4.25,3.75,4.25,1.49,1.25,1.45,2.95,4.95,0.42,9.95,12.75,0.42,3.39,0.42,4.25,9.95,3.75,5.95,12.75,4.95,0.42,0.85,10.95,2.95,4.95,2.95,2.95,1.65,1.25,1.25,2.1,2.55,0.42,2.1,4.95,5.95,2.1,1.25,3.75,4.25,2.95,2.95,1.65,0.21,1.25,1.45,4.25,0.85,2.95,14.95,2.55,7.95,4.95,7.95,5.95,1.65,2.95,1.95,3.95,7.95,1.95,9.95,1.25,1.65,9.95,1.25,1.45,7.95,0.42,4.65,5.95,2.1,0.85,1.25,4.25,0.29,1.25,1.65,5.95,3.75,0.42,5.45,0.42,3.75,1.25,2.95,0.55,0.85,4.65,8.5,0.95,2.55,165.0,5.95,0.85,2.1,0.42,0.19,4.95,1.65,0.85,2.95,2.55,0.42,2.95,0.85,2.55,1.45,2.95,1.65,5.95,0.65,0.85,4.65,7.95,9.95,4.95,7.95,2.95,3.25,3.75,2.1,12.75,1.65,2.55,2.1,0.85,0.55,0.85,1.95,9.95,1.95,9.95,0.55,0.95,1.25,2.1,2.95,3.95,2.95,0.85,1.65,1.25,0.12,1.65,1.25,0.42,2.55,1.25,1.25,1.25,2.95,1.25,0.55,0.65,2.1,1.65,1.25,2.95,1.69,1.25,2.95,1.65,2.55,1.65,4.95,0.42,50.0,4.65,1.95,4.95,0.55,4.65,1.25,4.95,3.75,0.0,1.95,0.65,1.25,5.45,1.25,1.25,6.35,3.75,0.42,6.95,0.21,2.1,1.65,0.42,4.95,1.65,1.25,1.65,1.25,0.85,1.25,2.1,0.85,4.65,2.95,2.1,0.85,2.55,1.25,3.75,2.1,4.25,3.75,0.42,1.65,1.45,0.65,2.1,4.25,12.75,6.75,4.95,7.95,1.45,1.25,0.85,2.55,0.85,0.85,2.1,0.85,0.65,0.42,1.45,10.95,18.0,2.1,1.25,7.95,2.95,8.95,1.65,0.85,2.1,3.75,0.85,2.95,1.65,3.75,1.25,0.55,2.55,1.95,4.25,9.95,4.95,1.65,1.25,1.25,2.95,2.95,0.42,1.25,1.25,4.25,1.45,1.45,2.95,1.25,4.25,1.65,4.65,1.25,4.65,3.39,7.95,1.69,8.5,1.65,0.55,2.95,0.42,1.25,2.95,0.55,2.1,0.85,2.25,1.25,2.95,0.85,3.75,0.42,2.25,1.25,7.95,1.65,4.95,3.75,1.95,5.95,2.1,1.25,2.95,2.55,6.95,1.65,2.95,1.95,2.1,1.45,2.55,4.25,2.55,3.75,1.25,4.95,1.25,2.95,3.95,3.75,2.55,0.85,0.85,2.95,1.65,2.1,4.65,1.65,4.95,8.5,1.25,0.85,0.85,1.25,2.95,4.25,1.45,1.65,1.25,1.65,4.95,2.95,2.1,2.95,2.95,1.25,1.65,9.95,3.25,0.42,0.65,3.75,2.95,2.1,1.65,0.42,7.95,1.65,3.25,3.75,2.1,0.42,1.65,1.65,3.75,0.85,0.42,1.25,0.85,2.1,2.55,2.55,2.95,5.95,0.55,0.85,7.95,1.65,4.95,2.1,8.5,1.25,3.75,2.55,3.35,3.75,0.65,1.25,2.95,2.95,0.95,2.95,0.85,7.95,0.85,3.75,0.42,0.65,2.1,18.95,2.95,0.85,3.75,0.42,0.85,1.25,1.65,5.45,0.72,1.25,2.95,3.75,4.95,2.1,1.69,2.1,4.95,6.75,1.25,1.25,3.75,2.25,3.75,0.42,3.75,2.95,1.25,1.25,0.42,2.95,8.5,0.85,0.42,3.75,3.75,2.1,1.65,2.95,0.42,2.55,1.25,0.85,4.65,7.95,0.55,0.85,3.75,2.1,12.75,2.95,2.95,2.1,12.75,9.95,1.65,1.25,0.42,1.25,2.1,1.25,2.1,2.1,2.1,0.85,4.95,0.85,2.95,2.95,1.25,5.95,2.1,1.65,0.42,4.95,2.55,5.95,5.95,4.25,2.95,1.65,1.65,0.42,0.85,1.25,2.95,1.65,0.65,0.29,4.25,3.35,1.25,4.95,1.25,1.25,3.75,0.85,2.1,2.95,1.25,0.42,1.95,8.5,8.95,1.95,0.42,0.85,1.95,1.25,1.95,2.55,2.1,2.55,1.25,0.85,1.65,2.55,3.75,0.85,1.45,5.95,7.95,1.95,0.85,1.95,0.42,4.95,1.95,3.75,0.42,1.65,5.95,3.45,0.42,0.85,4.95,1.25,2.95,1.25,7.95,1.69,2.1,0.42,1.25,3.75,0.42,2.95,2.1,1.25,2.95,1.65,2.95,2.95,3.75,2.55,1.95,4.25,0.21,2.1,2.1,8.5,1.25,4.65,4.95,1.95,4.25,1.65,2.1,0.85,1.45,1.25,1.25,4.25,0.85,1.65,2.1,9.95,18.0,2.55,2.55,4.25,1.25,0.42,3.75,9.95,0.65,7.95,7.95,8.5,0.29,3.75,1.25,7.95,2.1,4.25,2.95,3.95,2.1,4.95,2.95,3.75,0.55,0.42,4.25,4.95,1.65,5.95,4.95,4.25,1.95,2.95,2.1,3.75,0.21,4.95,5.95,2.1,1.25,0.85,3.75,2.1,1.45,0.85,0.55,1.25,1.25,4.25,1.65,1.65,2.1,9.95,4.95,1.95,4.95,0.55,7.95,0.65,1.95,1.65,3.75,2.55,5.95,3.75,0.19,0.65,3.75,2.1,2.95,0.65,1.95,3.75,2.55,2.1,4.95,2.95,5.95,0.42,4.95,0.72,2.55,1.25,0.85,1.95,5.95,2.1,0.55,5.95,0.85,3.75,1.65,1.45,2.55,7.65,3.75,0.65,1.65,1.25,0.85,2.95,12.75,1.65,4.65,1.25,0.85,2.95,5.95,8.5,1.65,4.95,4.25,0.42,0.65,2.95,2.95,7.95,4.25,5.95,8.95,1.65,1.25,1.65,1.95,1.65,3.39,0.65,1.25,0.85,0.85,3.75,1.25,7.95,2.1,7.95,0.85,15.0,2.1,2.1,1.25,1.65,1.25,2.95,1.25,0.85,2.55,4.65,6.75,1.95,3.75,4.25,1.25,0.85,1.65,7.95,2.95,2.1,1.45,2.95,6.75,1.65,2.55,9.95,12.75,2.55,1.65,3.75,0.55,0.85,1.65,4.95,2.1,4.95,1.25,1.25,0.85,0.65,4.25,1.95,0.85,3.75,2.95,12.75,1.65,3.95,0.85,1.65,2.1,1.65,2.95,0.55,1.25,1.65,3.75,0.42,3.75,0.85,2.95,2.1,1.25,2.55,14.95,1.25,0.65,1.95,3.75,1.25,0.85,1.25,1.95,5.95,1.06,2.55,0.85,2.1,2.95,2.95,0.85,2.1,3.75,2.95,0.42,1.25,5.95,0.85,0.42,1.25,1.65,1.65,2.95,1.65,0.42,0.42,1.65,1.25,2.1,2.95,1.49,2.95,8.5,0.85,2.75,4.25,0.42,2.95,0.65,1.25,1.25,1.95,2.95,3.75,10.95,0.85,1.06,2.1,9.95,1.65,3.75,2.95,0.55,0.85,1.25,5.49,3.75,0.29,4.95,1.25,4.95,5.95,3.75,1.25,0.42,1.65,0.42,0.65,1.25,2.1,2.95,2.95,2.95,3.75,1.25,2.95,0.55,9.95,1.25,0.85,2.1,3.75,2.95,2.95,1.65,1.65,4.25,1.25,1.25,1.25,4.95,1.25,2.55,1.25,1.65,7.95,1.25,1.25,1.25,7.95,2.1,3.75,2.1,0.42,2.55,0.85,3.75,2.95,2.95,2.95,1.25,1.65,7.95,0.85,1.25,2.95,2.95,2.55,3.75,0.65,4.95,4.25,7.95,3.75,0.85,2.55,3.75,1.45,9.95,9.95,1.65,0.42,0.85,2.95,1.45,0.85,2.95,1.95,0.85,7.95,2.95,2.1,0.55,2.1,3.75,1.95,1.65,0.42,3.75,4.25,3.75,9.95,3.45,5.95,2.95,0.85,4.25,2.55,1.25,2.1,3.75,2.95,4.95,3.75,0.42,5.95,1.25,7.95,2.95,2.95,1.65,0.42,4.95,1.65,5.95,2.95,2.1,1.65,2.1,3.75,3.75,1.45,8.5,1.95,0.42,4.95,4.95,2.95,8.5,2.1,4.65,7.95,3.25,2.95,12.75,1.45,2.1,2.1,2.95,3.75,1.45,2.55,0.85,7.5,35.75,9.95,2.55,5.95,7.95,2.1,0.55,3.75,7.95,1.65,6.95,3.75,1.25,2.1,1.25,1.25,1.95,2.55,3.75,2.95,1.25,0.85,1.25,0.85,4.25,3.75,1.65,2.1,1.95,5.95,1.25,5.95,1.65,2.55,4.95,3.75,3.75,0.42,9.95,1.65,1.95,1.25,4.25,2.95,1.65,1.45,2.95,4.95,2.95,1.25,3.75,1.95,8.5,2.95,1.95,0.95,2.1,1.25,1.95,1.65,3.75,3.75,7.95,1.65,1.65,1.65,0.42,2.1,3.95,0.85,1.25,2.1,1.45,2.55,1.25,0.85,1.25,4.95,3.35,0.65,6.75,1.25,2.55,2.1,0.85,3.39,1.65,1.65,1.65,6.75,1.65,2.1,7.95,1.25,1.69,2.1,1.25,0.42,4.95,4.95,1.25,5.95,2.95,4.95,1.25,1.25,0.42,2.1,1.95,4.25,1.95,5.95,3.45,1.25,2.55,2.95,0.55,9.95,1.65,0.85,2.95,1.95,2.95,2.95,1.65,0.85,2.95,1.25,1.25,2.1,4.95,0.42,1.95,1.95,0.42,1.25,8.95,0.85,1.95,2.1,0.85,3.25,3.75,2.1,1.69,5.45,0.75,3.75,4.25,0.85,1.95,0.85,1.65,1.95,2.55,0.29,0.85,16.95,0.65,1.45,2.95,2.95,1.65,1.25,0.85,1.25,3.75,1.65,12.75,7.95,1.25,0.85,2.95,2.95,0.85,3.75,1.65,2.95,0.72,1.65,0.85,3.25],\"xaxis\":\"x\",\"y\":[23080,16256,2299,9150,9242,16322,19155,9523,23163,24672,24376,2528,14634,4408,4795,11407,22784,5845,4994,8240,22489,5581,2008,6236,14485,24320,18648,21204,21361,17183,12154,4267,10818,13829,24271,24156,19002,9389,16002,14931,12430,2181,565,2417,23892,18460,2326,6250,23067,2175,6413,20926,25553,8831,9733,9508,2334,17873,14199,21701,20560,16998,20352,7419,15036,13498,15742,8544,10485,11109,17905,13879,22031,9578,6839,134,22612,10149,20635,17697,11848,5155,22035,18175,4426,7295,13002,5018,14532,18683,22193,7527,15088,11150,25678,11508,6903,15834,19492,25259,20660,26376,9254,9402,1948,10359,13665,7940,17274,7051,7805,3695,12459,12970,15363,6381,8575,10930,496,745,26698,17818,17402,24567,12988,20455,26272,15078,5311,25302,10943,12603,25792,13388,2920,3402,23120,23873,10727,11970,12974,296,20281,23573,15188,15982,16379,24086,21443,17786,11909,1151,11386,1178,16463,11726,18727,5575,12424,14954,20645,20681,16701,7428,12142,10529,12068,10111,22955,6906,24598,308,6669,16599,12744,8919,8227,919,11177,25736,6054,25716,17964,477,22413,1863,20614,24167,14981,14380,3555,23521,20734,2023,22281,689,206,9792,17467,22731,11925,3009,24342,24353,19663,7945,26283,22008,8751,7000,3520,13602,2640,2191,12432,1361,266,15526,19500,7027,16649,119,19619,5376,23897,4401,26472,18740,19193,15183,26070,6935,9675,14549,634,22763,20670,16919,6357,20752,7505,12860,13135,12336,18584,24074,2625,10362,10120,23575,24428,17078,1629,16420,20287,3938,25019,23165,14407,5451,19065,9281,15456,4823,6515,2305,26700,9813,10106,21952,1669,11565,2996,4927,332,4492,17486,8929,24758,4858,552,6799,4809,16561,24058,15939,19052,14001,22124,11959,13934,4210,18711,24005,14218,26483,1044,10501,8045,21866,3477,17319,20799,17709,18349,8313,6615,9340,19516,6048,3874,16307,1710,4225,5582,19605,17080,16479,8259,12858,6418,14945,4448,4513,3562,14990,25522,12116,8817,12403,12578,10244,10974,21886,5122,23962,24176,5735,14495,3233,8753,5564,4868,16687,23629,7081,17466,5313,7011,3552,21856,13972,8308,20246,929,16571,8701,4079,3162,17859,12411,11185,11832,26445,3336,11553,20725,6230,11506,15048,11424,11823,15045,15580,4075,1574,327,22369,20838,23363,21021,7596,6889,15354,21273,5493,22351,23272,20081,23550,8119,3663,19385,9611,3837,20891,17216,3022,2965,24075,9558,4155,25733,26495,13651,5913,4782,7068,5677,10187,11183,3877,16473,24699,13155,26323,23268,11918,20341,14394,1000,11685,25039,8592,19578,16965,3888,16503,1387,1836,10425,6545,364,15409,3706,3565,17235,23850,7226,17800,3184,5129,19135,11233,24721,18161,1156,3696,4695,5990,8780,17128,16355,270,3382,10029,13041,22631,2218,7799,4376,10173,19009,8241,8262,20865,19589,20881,5250,9672,11002,1473,18594,16806,9537,14863,10780,2403,612,4826,23430,9116,17919,10524,14124,24542,10617,20311,17203,16341,5883,7387,11815,10610,6163,11472,9159,20576,14445,6934,17472,5428,7558,20977,14892,25925,24558,20469,25104,21112,3799,16464,44,5891,22301,9355,18681,12053,18721,7812,22375,12151,15279,23996,15241,21953,2861,1120,17074,9068,25934,9982,11448,7393,3128,9084,19567,6653,26460,21899,14311,6231,9771,24748,390,18756,2766,7990,5403,3033,9384,15470,23978,14209,23276,5896,6067,6709,20717,6361,14923,20989,22894,34,16696,6703,10063,13239,12335,12723,10865,5974,21849,21984,14526,5765,25898,26016,12621,2460,20001,5524,8116,4302,17860,13169,15760,1659,207,9169,8614,21848,7380,8438,25915,8194,17527,24226,3463,14094,12405,19878,4815,20611,432,2884,12123,10821,19003,24180,9456,24472,6867,5809,17316,15153,18620,10377,17146,8009,11752,8447,11545,13858,2049,22984,24309,12315,24642,13904,2865,4386,16280,1116,5348,6080,3925,7340,10505,12090,22389,9427,9606,1843,21469,2687,18994,12725,5586,14597,18316,11273,17775,21375,1127,17481,24380,11742,22701,10255,20442,16591,1619,10919,19064,24050,25587,596,23192,340,13039,15368,13737,24420,17759,523,11033,25591,16190,12539,17179,5308,472,16838,17437,1091,7982,22737,12628,26389,6423,7346,18572,14156,10000,5832,16882,13499,16868,2544,3842,14585,11463,891,20908,22400,25160,23222,6338,11112,3987,8613,2846,7803,2800,19926,4004,16584,8758,23668,25569,12401,17180,17270,767,6447,21664,4349,22145,2587,16210,5593,6995,17773,18983,9992,11601,8254,13719,2790,19129,10781,7859,10045,1342,22739,13493,2368,21911,20594,13995,12158,25687,8717,16277,4805,15735,26143,23814,26329,18465,26579,16943,15757,1651,10926,21574,13546,418,6837,11530,11667,8783,17534,25035,17868,9241,15543,16936,9171,17138,9058,17222,12237,19581,11460,13138,5895,25076,24072,11783,20532,11974,7950,23448,17920,26079,22982,3190,9391,18442,11416,22961,6169,22070,11017,15244,14200,14067,25655,3150,17513,15145,21097,4716,8777,1885,14579,4820,24802,5329,4130,15173,19398,2530,4812,18089,10635,9598,14968,11603,10901,6124,4254,15037,9667,1911,1559,17995,16945,5523,26232,12219,784,13613,24174,14345,10639,6739,25337,2613,22528,24677,6846,17018,19489,15325,26278,11784,25793,2917,20789,9002,3757,737,1034,13966,23338,17016,14497,1195,5216,7483,4025,23059,2549,5288,9276,6035,17990,1186,9255,13767,17185,21242,4186,17828,3918,11004,18973,1487,20641,540,23866,23273,25631,20667,434,16677,20212,21686,4008,22365,14447,19469,4875,7479,16347,14777,24227,24621,23847,20595,22048,10037,2533,1099,3871,24359,8774,20257,8977,6068,16770,24425,2958,14662,8629,3902,25579,6368,26835,1375,18672,21940,6180,3613,5167,20263,9899,20405,4465,4821,2969,3548,6002,23297,16956,26704,19293,17145,26717,24307,14905,23702,21215,11365,21428,5908,1350,24957,17840,14761,4381,10793,9730,16432,10347,11550,26020,9023,8060,5598,4666,3145,5109,23709,23001,8511,1650,18471,962,26539,24629,21456,6405,8214,24019,24332,10025,4479,23806,8343,2927,4839,9416,15099,13890,26042,16817,13120,17064,5351,5744,10808,3884,19960,23719,23578,19963,16793,13730,22435,15896,9078,6040,23471,655,3949,24449,2257,16008,24718,21861,3934,22931,24445,1914,3524,3898,17048,7232,717,12506,7056,25196,17985,16433,17153,25051,24485,2367,25363,16691,14879,21447,13513,12358,24784,11579,24160,21919,5922,9336,15806,4991,7325,11372,26559,20846,10245,4262,25130,21526,8946,4458,3785,11710,14323,25382,6621,24461,7547,23218,13270,23731,22913,14450,3809,12538,4993,7371,14505,22947,11048,25094,9848,4281,10458,25421,24221,5914,3006,9331,15646,5544,23110,13196,7323,4076,26033,4866,14304,10742,10987,17076,17988,19280,3216,2783,24507,8683,15496,13385,3626,19493,24232,14164,26295,14277,13561,10012,2156,17385,8514,375,5397,22059,14451,7821,26772,3236,16909,16926,24627,3171,2621,15424,394,24951,20851,21571,25131,2904,2672,1098,774,9713,15764,15511,5108,9272,26477,21165,3948,4080,19186,17796,20903,24199,3196,24411,21391,10856,2386,18141,1406,17780,10098,21851,1966,23630,6951,10594,20613,15745,2153,14543,10253,4429,6216,26238,18755,12205,1756,11420,246,3638,18480,11243,23613,24538,3034,580,3719,22133,10931,6913,3114,16378,25939,8432,12380,4923,3895,16646,1679,5956,14940,5740,23427,7156,15124,23486,4940,1799,11294,3744,17802,8839,17236,2342,22711,2810,12361,11441,16250,8879,5594,12979,25679,6270,11576,20143,21475,8856,23848,20417,22308,23863,25772,6374,1632,12013,15820,23489,9098,5003,12422,12565,3164,14081,6832,26846,6057,18380,6119,4135,11669,11336,7280,8947,13594,18513,20521,13209,20930,8152,2704,12040,7012,2410,24138,1035,2755,248,16973,12502,14004,6091,21925,473,3767,2683,11173,10273,23682,9408,7996,17090,1688,2929,20359,8766,25742,21658,861,13875,26273,10698,9304,4303,4954,25507,1009,11805,4557,22072,1588,24038,24653,15015,24952,18742,22009,5690,20498,24197,4285,17163,23636,16338,14282,7234,11394,13026,23753,25666,11811,20147,19506,24348,9554,23868,22617,5865,8462,561,7208,8884,1352,3468,17301,4512,24798,3750,3483,26398,9093,13484,24194,10360,3666,8050,7265,18378,2843,15065,6235,25049,18426,825,22147,7374,5600,3347,10497,20358,13924,5000,3390,16940,12474,18417,20565,20279,19668,457,10895,8730,20841,2436,1357,12035,3497,2226,8159,20289,23625,10440,16527,14032,603,21934,6365,14263,7324,17158,16436,8191,8623,9993,1109,2300,3814,2569,3914,14866,10634,5388,22262,8699,4905,22781,14271,3714,19141,6679,17971,8420,4109,15583,17413,17521,13877,24752,14502,8916,25929,7860,9630,19596,5443,17436,11245,5942,13960,8217,371,2630,793,22814,3148,1795,12491,6723,5333,4560,14086,20473,13538,15644,16824,9620,1464,25162,16488,16851,22721,16206,19427,25639,1703,14918,24553,5187,23701,2579,18332,3470,12046,13956,14033,16883,3355,24503,18749,12779,4687,13434,16483,12449,15454,16263,4144,20837,13747,6356,12490,2444,6376,12204,4219,14011,11635,6278,9749,17845,8503,7468,26308,1624,18250,15400,23514,21479,11901,8180,4799,944,12031,14811,5483,24775,7435,21396,10643,6496,13915,26551,24095,11023,3782,6488,4315,6003,15399,11016,14057,11585,19282,4151,15047,24327,25424,10805,14180,393,14123,6450,21303,19165,14486,16454,12460,25072,20187,8736,10050,7449,10710,4503,3373,7290,16694,16888,26742,4686,23534,12236,3879,22251,2365,3408,3657,11274,16264,2255,5787,11272,12963,15287,3432,4052,17107,20363,1504,17103,13314,19537,11444,26252,19221,24868,24338,6809,13320,11437,7251,16278,17516,11718,19308,2276,5254,20124,22405,7585,9450,12585,15780,18613,9831,16664,4979,17218,21275,22450,5867,13394,1686,20986,9710,2234,15139,5316,25135,26004,14405,11673,17221,14047,25375,10215,18933,24483,22034,9333,15825,3610,1605,25774,25142,3810,3455,11558,25663,16716,10925,22198,21892,19531,26791,9555,5430,17311,533,7339,19490,906,11817,4145,14038,5904,18948,16424,22813,22991,2899,4084,25962,1060,12518,698,10402,7045,16799,18266,24189,19639,1665,787,7543,21693,24118,1421,14269,1920,3812,10503,12560,22075,20434,10423,10838,5453,19615,7522,10779,26580,24330,15066,11223,20750,15318,12137,13932,5144,7956,4788,10182,16249,8569,3905,25341,17407,4941,26498,13509,14615,20722,2093,20135,22725,7569,6620,12597,500,20831,1899,6815,14184,22212,8581,22606,22334,21520,975,5170,21972,23255,7078,8793,7332,24034,17943,9277,15340,3170,16645,21452,16794,23269,8351,13154,21330,133,21295,12839,19560,15468,14381,21476,35,24584,6790,24736,5456,8825,14763,20665,8778,6896,17954,3643,14248,19270,26068,6857,6491,15744,6765,8981,26680,23526,7261,3577,1603,8108,8930,1024,12420,16647,11521,10415,3945,18098,23855,15320,10116,23846,19613,15774,25048,2064,8993,2437,15733,9016,3935,22732,22194,13500,13532,26320,23917,13993,8000,21873,20879,10257,16203,6878,11844,11798,14128,20812,2545,24812,23946,25886,25290,12557,7887,10636,13745,8174,12467,20440,21004,12569,26508,22433,7326,21403,2103,26470,23314,20771,3904,10721,7076,9760,13940,10396,6300,3049,9377,14219,18680,23735,1869,11697,9229,8937,10406,18458,6275,19459,14500,15086,1514,16519,10217,12340,402,20889,3094,18611,15724,12590,24750,2356,24145,21012,13222,26684,20935,19028,18713,3016,2667,2602,11523,10561,16227,2006,25024,3428,8263,19468,7437,1057,6252,24853,13240,18497,18453,19118,2746,18119,531,20868,17930,8625,9643,22202,20901,19660,4356,4514,14235,8923,23531,2447,15199,11232,23456,9313,21420,21163,4498,139,14704,8722,3400,569,4735,19428,22719,6931,19951,20131,5123,314,2028,14399,14623,17548,17219,24192,7949,6639,16934,26137,8362,26542,14994,5879,19384,23141,1811,2082,16666,5460,13743,915,11911,2360,25728,2691,22580,9644,22818,11318,4708,23467,1633,11528,2453,14574,12390,23612,8790,4950,26443,17191,17708,2383,9806,23038,5305,3994,8928,1466,12820,19127,14552,24443,17526,8371,10285,9705,21246,2729,21691,20855,4756,25738,13891,1969,11884,12778,323,1403,20920,2877,24745,14359,852,2638,7001,5503,6140,8694,13516,20375,8533,26224,6958,10680,15165,17348,24785,24874,3405,3797,24767,19869,13687,26726,23975,25207,372,2267,15255,8078,16202,5912,26568,11065,5184,12825,21412,19158,3927,2194,7236,23051,25110,11366,6009,22804,9323,22121,3992,17551,1748,23743,15681,8339,14041,18568,24512,13414,17456,10021,19411,6217,1141,3223,4524,5587,446,25722,14321,3563,21257,17925,20854,3048,14290,6159,5179,8347,22390,7028,4972,16025,21696,7923,7333,15993,939,3802,7814,15778,13130,7079,7049,24757,26774,24546,23136,26827,20105,624,13521,971,11323,395,10211,18462,18945,19461,19259,23170,25066,10136,9584,17315,12620,25558,7590,558,16204,24958,9966,17353,24816,12874,5392,2923,24788,18090,20050,5563,487,23204,16876,3480,10032,7919,19612,7392,5225,2815,23010,18234,4140,13518,25675,8673,4918,8727,14636,14242,2330,723,8802,300,7584,5949,1626,23696,26491,13097,23048,11623,4540,25988,20362,6508,6207,2798,8647,7304,24852,312,13576,20515,24007,1161,10692,11430,7360,26677,8954,24290,782,1129,22332,15411,15520,20599,9997,24453,6685,7467,8964,13545,20892,18342,587,5113,24389,25399,9716,7192,9891,9327,21576,17059,4402,20168,5981,26251,11123,22564,11801,2016,18172,5558,9886,339,6972,22743,18846,16690,18382,26277,11022,3378,6108,10477,22325,1680,23321,19169,20347,3686,25073,2836,7350,25023,22488,10216,3137,17448,22801,4239,6865,12217,16896,6296,9640,7379,10455,25351,757,24707,6188],\"yaxis\":\"y\",\"type\":\"scattergl\"}],                        {\"template\":{\"data\":{\"histogram2dcontour\":[{\"type\":\"histogram2dcontour\",\"colorbar\":{\"outlinewidth\":0,\"ticks\":\"\"},\"colorscale\":[[0.0,\"#0d0887\"],[0.1111111111111111,\"#46039f\"],[0.2222222222222222,\"#7201a8\"],[0.3333333333333333,\"#9c179e\"],[0.4444444444444444,\"#bd3786\"],[0.5555555555555556,\"#d8576b\"],[0.6666666666666666,\"#ed7953\"],[0.7777777777777778,\"#fb9f3a\"],[0.8888888888888888,\"#fdca26\"],[1.0,\"#f0f921\"]]}],\"choropleth\":[{\"type\":\"choropleth\",\"colorbar\":{\"outlinewidth\":0,\"ticks\":\"\"}}],\"histogram2d\":[{\"type\":\"histogram2d\",\"colorbar\":{\"outlinewidth\":0,\"ticks\":\"\"},\"colorscale\":[[0.0,\"#0d0887\"],[0.1111111111111111,\"#46039f\"],[0.2222222222222222,\"#7201a8\"],[0.3333333333333333,\"#9c179e\"],[0.4444444444444444,\"#bd3786\"],[0.5555555555555556,\"#d8576b\"],[0.6666666666666666,\"#ed7953\"],[0.7777777777777778,\"#fb9f3a\"],[0.8888888888888888,\"#fdca26\"],[1.0,\"#f0f921\"]]}],\"heatmap\":[{\"type\":\"heatmap\",\"colorbar\":{\"outlinewidth\":0,\"ticks\":\"\"},\"colorscale\":[[0.0,\"#0d0887\"],[0.1111111111111111,\"#46039f\"],[0.2222222222222222,\"#7201a8\"],[0.3333333333333333,\"#9c179e\"],[0.4444444444444444,\"#bd3786\"],[0.5555555555555556,\"#d8576b\"],[0.6666666666666666,\"#ed7953\"],[0.7777777777777778,\"#fb9f3a\"],[0.8888888888888888,\"#fdca26\"],[1.0,\"#f0f921\"]]}],\"heatmapgl\":[{\"type\":\"heatmapgl\",\"colorbar\":{\"outlinewidth\":0,\"ticks\":\"\"},\"colorscale\":[[0.0,\"#0d0887\"],[0.1111111111111111,\"#46039f\"],[0.2222222222222222,\"#7201a8\"],[0.3333333333333333,\"#9c179e\"],[0.4444444444444444,\"#bd3786\"],[0.5555555555555556,\"#d8576b\"],[0.6666666666666666,\"#ed7953\"],[0.7777777777777778,\"#fb9f3a\"],[0.8888888888888888,\"#fdca26\"],[1.0,\"#f0f921\"]]}],\"contourcarpet\":[{\"type\":\"contourcarpet\",\"colorbar\":{\"outlinewidth\":0,\"ticks\":\"\"}}],\"contour\":[{\"type\":\"contour\",\"colorbar\":{\"outlinewidth\":0,\"ticks\":\"\"},\"colorscale\":[[0.0,\"#0d0887\"],[0.1111111111111111,\"#46039f\"],[0.2222222222222222,\"#7201a8\"],[0.3333333333333333,\"#9c179e\"],[0.4444444444444444,\"#bd3786\"],[0.5555555555555556,\"#d8576b\"],[0.6666666666666666,\"#ed7953\"],[0.7777777777777778,\"#fb9f3a\"],[0.8888888888888888,\"#fdca26\"],[1.0,\"#f0f921\"]]}],\"surface\":[{\"type\":\"surface\",\"colorbar\":{\"outlinewidth\":0,\"ticks\":\"\"},\"colorscale\":[[0.0,\"#0d0887\"],[0.1111111111111111,\"#46039f\"],[0.2222222222222222,\"#7201a8\"],[0.3333333333333333,\"#9c179e\"],[0.4444444444444444,\"#bd3786\"],[0.5555555555555556,\"#d8576b\"],[0.6666666666666666,\"#ed7953\"],[0.7777777777777778,\"#fb9f3a\"],[0.8888888888888888,\"#fdca26\"],[1.0,\"#f0f921\"]]}],\"mesh3d\":[{\"type\":\"mesh3d\",\"colorbar\":{\"outlinewidth\":0,\"ticks\":\"\"}}],\"scatter\":[{\"fillpattern\":{\"fillmode\":\"overlay\",\"size\":10,\"solidity\":0.2},\"type\":\"scatter\"}],\"parcoords\":[{\"type\":\"parcoords\",\"line\":{\"colorbar\":{\"outlinewidth\":0,\"ticks\":\"\"}}}],\"scatterpolargl\":[{\"type\":\"scatterpolargl\",\"marker\":{\"colorbar\":{\"outlinewidth\":0,\"ticks\":\"\"}}}],\"bar\":[{\"error_x\":{\"color\":\"#2a3f5f\"},\"error_y\":{\"color\":\"#2a3f5f\"},\"marker\":{\"line\":{\"color\":\"#E5ECF6\",\"width\":0.5},\"pattern\":{\"fillmode\":\"overlay\",\"size\":10,\"solidity\":0.2}},\"type\":\"bar\"}],\"scattergeo\":[{\"type\":\"scattergeo\",\"marker\":{\"colorbar\":{\"outlinewidth\":0,\"ticks\":\"\"}}}],\"scatterpolar\":[{\"type\":\"scatterpolar\",\"marker\":{\"colorbar\":{\"outlinewidth\":0,\"ticks\":\"\"}}}],\"histogram\":[{\"marker\":{\"pattern\":{\"fillmode\":\"overlay\",\"size\":10,\"solidity\":0.2}},\"type\":\"histogram\"}],\"scattergl\":[{\"type\":\"scattergl\",\"marker\":{\"colorbar\":{\"outlinewidth\":0,\"ticks\":\"\"}}}],\"scatter3d\":[{\"type\":\"scatter3d\",\"line\":{\"colorbar\":{\"outlinewidth\":0,\"ticks\":\"\"}},\"marker\":{\"colorbar\":{\"outlinewidth\":0,\"ticks\":\"\"}}}],\"scattermapbox\":[{\"type\":\"scattermapbox\",\"marker\":{\"colorbar\":{\"outlinewidth\":0,\"ticks\":\"\"}}}],\"scatterternary\":[{\"type\":\"scatterternary\",\"marker\":{\"colorbar\":{\"outlinewidth\":0,\"ticks\":\"\"}}}],\"scattercarpet\":[{\"type\":\"scattercarpet\",\"marker\":{\"colorbar\":{\"outlinewidth\":0,\"ticks\":\"\"}}}],\"carpet\":[{\"aaxis\":{\"endlinecolor\":\"#2a3f5f\",\"gridcolor\":\"white\",\"linecolor\":\"white\",\"minorgridcolor\":\"white\",\"startlinecolor\":\"#2a3f5f\"},\"baxis\":{\"endlinecolor\":\"#2a3f5f\",\"gridcolor\":\"white\",\"linecolor\":\"white\",\"minorgridcolor\":\"white\",\"startlinecolor\":\"#2a3f5f\"},\"type\":\"carpet\"}],\"table\":[{\"cells\":{\"fill\":{\"color\":\"#EBF0F8\"},\"line\":{\"color\":\"white\"}},\"header\":{\"fill\":{\"color\":\"#C8D4E3\"},\"line\":{\"color\":\"white\"}},\"type\":\"table\"}],\"barpolar\":[{\"marker\":{\"line\":{\"color\":\"#E5ECF6\",\"width\":0.5},\"pattern\":{\"fillmode\":\"overlay\",\"size\":10,\"solidity\":0.2}},\"type\":\"barpolar\"}],\"pie\":[{\"automargin\":true,\"type\":\"pie\"}]},\"layout\":{\"autotypenumbers\":\"strict\",\"colorway\":[\"#636efa\",\"#EF553B\",\"#00cc96\",\"#ab63fa\",\"#FFA15A\",\"#19d3f3\",\"#FF6692\",\"#B6E880\",\"#FF97FF\",\"#FECB52\"],\"font\":{\"color\":\"#2a3f5f\"},\"hovermode\":\"closest\",\"hoverlabel\":{\"align\":\"left\"},\"paper_bgcolor\":\"white\",\"plot_bgcolor\":\"#E5ECF6\",\"polar\":{\"bgcolor\":\"#E5ECF6\",\"angularaxis\":{\"gridcolor\":\"white\",\"linecolor\":\"white\",\"ticks\":\"\"},\"radialaxis\":{\"gridcolor\":\"white\",\"linecolor\":\"white\",\"ticks\":\"\"}},\"ternary\":{\"bgcolor\":\"#E5ECF6\",\"aaxis\":{\"gridcolor\":\"white\",\"linecolor\":\"white\",\"ticks\":\"\"},\"baxis\":{\"gridcolor\":\"white\",\"linecolor\":\"white\",\"ticks\":\"\"},\"caxis\":{\"gridcolor\":\"white\",\"linecolor\":\"white\",\"ticks\":\"\"}},\"coloraxis\":{\"colorbar\":{\"outlinewidth\":0,\"ticks\":\"\"}},\"colorscale\":{\"sequential\":[[0.0,\"#0d0887\"],[0.1111111111111111,\"#46039f\"],[0.2222222222222222,\"#7201a8\"],[0.3333333333333333,\"#9c179e\"],[0.4444444444444444,\"#bd3786\"],[0.5555555555555556,\"#d8576b\"],[0.6666666666666666,\"#ed7953\"],[0.7777777777777778,\"#fb9f3a\"],[0.8888888888888888,\"#fdca26\"],[1.0,\"#f0f921\"]],\"sequentialminus\":[[0.0,\"#0d0887\"],[0.1111111111111111,\"#46039f\"],[0.2222222222222222,\"#7201a8\"],[0.3333333333333333,\"#9c179e\"],[0.4444444444444444,\"#bd3786\"],[0.5555555555555556,\"#d8576b\"],[0.6666666666666666,\"#ed7953\"],[0.7777777777777778,\"#fb9f3a\"],[0.8888888888888888,\"#fdca26\"],[1.0,\"#f0f921\"]],\"diverging\":[[0,\"#8e0152\"],[0.1,\"#c51b7d\"],[0.2,\"#de77ae\"],[0.3,\"#f1b6da\"],[0.4,\"#fde0ef\"],[0.5,\"#f7f7f7\"],[0.6,\"#e6f5d0\"],[0.7,\"#b8e186\"],[0.8,\"#7fbc41\"],[0.9,\"#4d9221\"],[1,\"#276419\"]]},\"xaxis\":{\"gridcolor\":\"white\",\"linecolor\":\"white\",\"ticks\":\"\",\"title\":{\"standoff\":15},\"zerolinecolor\":\"white\",\"automargin\":true,\"zerolinewidth\":2},\"yaxis\":{\"gridcolor\":\"white\",\"linecolor\":\"white\",\"ticks\":\"\",\"title\":{\"standoff\":15},\"zerolinecolor\":\"white\",\"automargin\":true,\"zerolinewidth\":2},\"scene\":{\"xaxis\":{\"backgroundcolor\":\"#E5ECF6\",\"gridcolor\":\"white\",\"linecolor\":\"white\",\"showbackground\":true,\"ticks\":\"\",\"zerolinecolor\":\"white\",\"gridwidth\":2},\"yaxis\":{\"backgroundcolor\":\"#E5ECF6\",\"gridcolor\":\"white\",\"linecolor\":\"white\",\"showbackground\":true,\"ticks\":\"\",\"zerolinecolor\":\"white\",\"gridwidth\":2},\"zaxis\":{\"backgroundcolor\":\"#E5ECF6\",\"gridcolor\":\"white\",\"linecolor\":\"white\",\"showbackground\":true,\"ticks\":\"\",\"zerolinecolor\":\"white\",\"gridwidth\":2}},\"shapedefaults\":{\"line\":{\"color\":\"#2a3f5f\"}},\"annotationdefaults\":{\"arrowcolor\":\"#2a3f5f\",\"arrowhead\":0,\"arrowwidth\":1},\"geo\":{\"bgcolor\":\"white\",\"landcolor\":\"#E5ECF6\",\"subunitcolor\":\"white\",\"showland\":true,\"showlakes\":true,\"lakecolor\":\"white\"},\"title\":{\"x\":0.05},\"mapbox\":{\"style\":\"light\"}}},\"xaxis\":{\"anchor\":\"y\",\"domain\":[0.0,1.0],\"title\":{\"text\":\"UnitPrice\"}},\"yaxis\":{\"anchor\":\"x\",\"domain\":[0.0,1.0],\"title\":{\"text\":\"index\"}},\"coloraxis\":{\"colorbar\":{\"title\":{\"text\":\"UnitPrice\"}},\"colorscale\":[[0.0,\"#0d0887\"],[0.1111111111111111,\"#46039f\"],[0.2222222222222222,\"#7201a8\"],[0.3333333333333333,\"#9c179e\"],[0.4444444444444444,\"#bd3786\"],[0.5555555555555556,\"#d8576b\"],[0.6666666666666666,\"#ed7953\"],[0.7777777777777778,\"#fb9f3a\"],[0.8888888888888888,\"#fdca26\"],[1.0,\"#f0f921\"]]},\"legend\":{\"tracegroupgap\":0},\"margin\":{\"t\":60},\"height\":400,\"width\":800},                        {\"responsive\": true}                    ).then(function(){\n                            \nvar gd = document.getElementById('a1f123f6-1c0f-48c7-b26b-0c16ac9bd9fa');\nvar x = new MutationObserver(function (mutations, observer) {{\n        var display = window.getComputedStyle(gd).display;\n        if (!display || display === 'none') {{\n            console.log([gd, 'removed!']);\n            Plotly.purge(gd);\n            observer.disconnect();\n        }}\n}});\n\n// Listen for the removal of the full notebook cells\nvar notebookContainer = gd.closest('#notebook-container');\nif (notebookContainer) {{\n    x.observe(notebookContainer, {childList: true});\n}}\n\n// Listen for the clearing of the current output cell\nvar outputEl = gd.closest('.output');\nif (outputEl) {{\n    x.observe(outputEl, {childList: true});\n}}\n\n                        })                };                            </script>        </div>\n</body>\n</html>"
                },
                "metadata": {}
              }
            ]
          }
        },
        "c3bcbb607fc94f86866078b9f7228bf5": {
          "model_module": "@jupyter-widgets/base",
          "model_name": "LayoutModel",
          "model_module_version": "1.2.0",
          "state": {
            "_model_module": "@jupyter-widgets/base",
            "_model_module_version": "1.2.0",
            "_model_name": "LayoutModel",
            "_view_count": null,
            "_view_module": "@jupyter-widgets/base",
            "_view_module_version": "1.2.0",
            "_view_name": "LayoutView",
            "align_content": null,
            "align_items": null,
            "align_self": null,
            "border": null,
            "bottom": null,
            "display": null,
            "flex": null,
            "flex_flow": null,
            "grid_area": null,
            "grid_auto_columns": null,
            "grid_auto_flow": null,
            "grid_auto_rows": null,
            "grid_column": null,
            "grid_gap": null,
            "grid_row": null,
            "grid_template_areas": null,
            "grid_template_columns": null,
            "grid_template_rows": null,
            "height": null,
            "justify_content": null,
            "justify_items": null,
            "left": null,
            "margin": null,
            "max_height": null,
            "max_width": null,
            "min_height": null,
            "min_width": null,
            "object_fit": null,
            "object_position": null,
            "order": null,
            "overflow": null,
            "overflow_x": null,
            "overflow_y": null,
            "padding": null,
            "right": null,
            "top": null,
            "visibility": null,
            "width": null
          }
        }
      }
    }
  },
  "nbformat": 4,
  "nbformat_minor": 0
}