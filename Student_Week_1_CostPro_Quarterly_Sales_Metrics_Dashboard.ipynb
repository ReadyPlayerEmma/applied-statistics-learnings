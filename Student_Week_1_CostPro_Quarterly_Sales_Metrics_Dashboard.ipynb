{
  "cells": [
    {
      "cell_type": "markdown",
      "metadata": {
        "id": "hK2HJNxKT8nu"
      },
      "source": [
        "# CostPro Quarterly Sales Metrics Dashboard"
      ]
    },
    {
      "cell_type": "markdown",
      "metadata": {
        "id": "vy0fnYSeT7JW"
      },
      "source": [
        "As a Junior Data Scientist at a online retailer, CostPro, you have the opportunity to work on a project that will have a major impact on the company. Your goal is to create a metrics dashboard that will provide a clear overview of the business' sales metrics, which your leadership team can use to guide business decisions. You'll use measures of central tendency and variability to help CostPro better understand their quarterly sales and visualize the likelihood that a customer will arrive on the website in a given time interval."
      ]
    },
    {
      "cell_type": "markdown",
      "metadata": {
        "id": "cloRwMmTVEk1"
      },
      "source": [
        "## Project Setup"
      ]
    },
    {
      "cell_type": "markdown",
      "source": [
        "First, we need to download and import all of the dependencies that we will need for the project"
      ],
      "metadata": {
        "id": "kidKo1sn4ZxV"
      }
    },
    {
      "cell_type": "markdown",
      "metadata": {
        "id": "W4yXMQCYVvQP"
      },
      "source": [
        "### Dependencies"
      ]
    },
    {
      "cell_type": "code",
      "execution_count": 2,
      "metadata": {
        "id": "alHjfjNjVyMd",
        "colab": {
          "base_uri": "https://localhost:8080/"
        },
        "outputId": "0d65bd65-ac52-426e-d844-accd93486992"
      },
      "outputs": [
        {
          "output_type": "stream",
          "name": "stdout",
          "text": [
            "\u001b[?25l     \u001b[90m━━━━━━━━━━━━━━━━━━━━━━━━━━━━━━━━━━━━━━━━\u001b[0m \u001b[32m0.0/1.1 MB\u001b[0m \u001b[31m?\u001b[0m eta \u001b[36m-:--:--\u001b[0m\r\u001b[2K     \u001b[91m━━━━\u001b[0m\u001b[90m╺\u001b[0m\u001b[90m━━━━━━━━━━━━━━━━━━━━━━━━━━━━━━━━━━━\u001b[0m \u001b[32m0.1/1.1 MB\u001b[0m \u001b[31m3.3 MB/s\u001b[0m eta \u001b[36m0:00:01\u001b[0m\r\u001b[2K     \u001b[91m━━━━━━━━━━━━━━━━━━━━━━━━━━━━━━━\u001b[0m\u001b[91m╸\u001b[0m\u001b[90m━━━━━━━━\u001b[0m \u001b[32m0.8/1.1 MB\u001b[0m \u001b[31m12.3 MB/s\u001b[0m eta \u001b[36m0:00:01\u001b[0m\r\u001b[2K     \u001b[90m━━━━━━━━━━━━━━━━━━━━━━━━━━━━━━━━━━━━━━━━\u001b[0m \u001b[32m1.1/1.1 MB\u001b[0m \u001b[31m11.8 MB/s\u001b[0m eta \u001b[36m0:00:00\u001b[0m\n",
            "\u001b[?25h\u001b[31mERROR: pip's dependency resolver does not currently take into account all the packages that are installed. This behaviour is the source of the following dependency conflicts.\n",
            "google-api-core 2.11.1 requires protobuf!=3.20.0,!=3.20.1,!=4.21.0,!=4.21.1,!=4.21.2,!=4.21.3,!=4.21.4,!=4.21.5,<5.0.0.dev0,>=3.19.5, but you have protobuf 3.20.0 which is incompatible.\n",
            "google-cloud-bigquery 3.10.0 requires protobuf!=3.20.0,!=3.20.1,!=4.21.0,!=4.21.1,!=4.21.2,!=4.21.3,!=4.21.4,!=4.21.5,<5.0.0dev,>=3.19.5, but you have protobuf 3.20.0 which is incompatible.\n",
            "google-cloud-bigquery-connection 1.12.1 requires protobuf!=3.20.0,!=3.20.1,!=4.21.0,!=4.21.1,!=4.21.2,!=4.21.3,!=4.21.4,!=4.21.5,<5.0.0dev,>=3.19.5, but you have protobuf 3.20.0 which is incompatible.\n",
            "google-cloud-bigquery-storage 2.22.0 requires protobuf!=3.20.0,!=3.20.1,!=4.21.0,!=4.21.1,!=4.21.2,!=4.21.3,!=4.21.4,!=4.21.5,<5.0.0dev,>=3.19.5, but you have protobuf 3.20.0 which is incompatible.\n",
            "google-cloud-datastore 2.15.2 requires protobuf!=3.20.0,!=3.20.1,!=4.21.0,!=4.21.1,!=4.21.2,!=4.21.3,!=4.21.4,!=4.21.5,<5.0.0dev,>=3.19.5, but you have protobuf 3.20.0 which is incompatible.\n",
            "google-cloud-firestore 2.11.1 requires protobuf!=3.20.0,!=3.20.1,!=4.21.0,!=4.21.1,!=4.21.2,!=4.21.3,!=4.21.4,!=4.21.5,<5.0.0dev,>=3.19.5, but you have protobuf 3.20.0 which is incompatible.\n",
            "google-cloud-functions 1.13.2 requires protobuf!=3.20.0,!=3.20.1,!=4.21.0,!=4.21.1,!=4.21.2,!=4.21.3,!=4.21.4,!=4.21.5,<5.0.0dev,>=3.19.5, but you have protobuf 3.20.0 which is incompatible.\n",
            "google-cloud-language 2.9.1 requires protobuf!=3.20.0,!=3.20.1,!=4.21.0,!=4.21.1,!=4.21.2,!=4.21.3,!=4.21.4,!=4.21.5,<5.0.0dev,>=3.19.5, but you have protobuf 3.20.0 which is incompatible.\n",
            "google-cloud-translate 3.11.3 requires protobuf!=3.20.0,!=3.20.1,!=4.21.0,!=4.21.1,!=4.21.2,!=4.21.3,!=4.21.4,!=4.21.5,<5.0.0dev,>=3.19.5, but you have protobuf 3.20.0 which is incompatible.\n",
            "googleapis-common-protos 1.60.0 requires protobuf!=3.20.0,!=3.20.1,!=4.21.1,!=4.21.2,!=4.21.3,!=4.21.4,!=4.21.5,<5.0.0.dev0,>=3.19.5, but you have protobuf 3.20.0 which is incompatible.\n",
            "grpc-google-iam-v1 0.12.6 requires protobuf!=3.20.0,!=3.20.1,!=4.21.1,!=4.21.2,!=4.21.3,!=4.21.4,!=4.21.5,<5.0.0dev,>=3.19.5, but you have protobuf 3.20.0 which is incompatible.\n",
            "tensorflow 2.13.0 requires protobuf!=4.21.0,!=4.21.1,!=4.21.2,!=4.21.3,!=4.21.4,!=4.21.5,<5.0.0dev,>=3.20.3, but you have protobuf 3.20.0 which is incompatible.\n",
            "tensorflow-metadata 1.14.0 requires protobuf<4.21,>=3.20.3, but you have protobuf 3.20.0 which is incompatible.\u001b[0m\u001b[31m\n",
            "\u001b[0m"
          ]
        }
      ],
      "source": [
        "# Install all required dependencies for the project\n",
        "!pip install -qqq numpy pandas seaborn matplotlib gdown plotly scipy\n",
        "!pip install -qqq --force-reinstall protobuf==3.20 ##We need this to avoid version incompatibilities between packages"
      ]
    },
    {
      "cell_type": "code",
      "execution_count": 3,
      "metadata": {
        "id": "N8ja3Pn-V5qM"
      },
      "outputs": [],
      "source": [
        "# Import dependencies\n",
        "import numpy as np\n",
        "import pandas as pd\n",
        "import seaborn as sns\n",
        "import matplotlib.pyplot as plt\n",
        "import plotly.express as px\n",
        "import shutil\n",
        "import gdown\n",
        "from google.colab import files\n",
        "\n",
        "# [TO BE IMPLEMENTED]\n",
        "# Feel free to add any other imports that you need to write your own custom metrics"
      ]
    },
    {
      "cell_type": "markdown",
      "metadata": {
        "id": "p6PBDWHba3ML"
      },
      "source": [
        "## Data"
      ]
    },
    {
      "cell_type": "markdown",
      "source": [
        "[Online Retail](https://archive.ics.uci.edu/ml/datasets/online+retail) is a collection of roughly 400,000 records from an international online retail dataset. For this project, we will use a slightly modified (cleaned up) version of this dataset as the sales data for CostPro."
      ],
      "metadata": {
        "id": "kfkh8pwB5cLF"
      }
    },
    {
      "cell_type": "markdown",
      "metadata": {
        "id": "eBpKXQayVG-W"
      },
      "source": [
        "### Download the Dataset"
      ]
    },
    {
      "cell_type": "code",
      "execution_count": 4,
      "metadata": {
        "id": "zDSJ32UfcXlp",
        "colab": {
          "base_uri": "https://localhost:8080/",
          "height": 103
        },
        "outputId": "80b0234d-6230-4836-b18d-f6c726f2585a"
      },
      "outputs": [
        {
          "output_type": "stream",
          "name": "stderr",
          "text": [
            "Downloading...\n",
            "From: https://drive.google.com/uc?id=16HZKULqv2sX6AMqi4A8ndQ9ULeCLo4Qt\n",
            "To: /content/online_retail.csv\n",
            "100%|██████████| 44.5M/44.5M [00:01<00:00, 38.1MB/s]\n"
          ]
        },
        {
          "output_type": "execute_result",
          "data": {
            "text/plain": [
              "'online_retail.csv'"
            ],
            "application/vnd.google.colaboratory.intrinsic+json": {
              "type": "string"
            }
          },
          "metadata": {},
          "execution_count": 4
        }
      ],
      "source": [
        "# Download the file from co:rise google drive\n",
        "file_name = \"online_retail.csv\"\n",
        "unique_id = \"16HZKULqv2sX6AMqi4A8ndQ9ULeCLo4Qt\"\n",
        "gdown.download(id=unique_id, output=file_name)"
      ]
    },
    {
      "cell_type": "markdown",
      "metadata": {
        "id": "OjJgWHSpVLCG"
      },
      "source": [
        "### Clean & Prepare the Dataset"
      ]
    },
    {
      "cell_type": "markdown",
      "source": [
        "Now we'll import the data as a pandas dataframe. The code below will show you the first 5 rows of the dataframe, but feel free to explore the data further!"
      ],
      "metadata": {
        "id": "ggz-ny2U6FQn"
      }
    },
    {
      "cell_type": "code",
      "execution_count": 5,
      "metadata": {
        "id": "6vHVNKpadgNE",
        "colab": {
          "base_uri": "https://localhost:8080/",
          "height": 357
        },
        "outputId": "42fab1ba-73c5-4341-adaf-36df3fa933ff"
      },
      "outputs": [
        {
          "output_type": "execute_result",
          "data": {
            "text/plain": [
              "  InvoiceNo StockCode                          Description  Quantity  \\\n",
              "0    536365    85123A   WHITE HANGING HEART T-LIGHT HOLDER         6   \n",
              "1    536365     71053                  WHITE METAL LANTERN         6   \n",
              "2    536365    84406B       CREAM CUPID HEARTS COAT HANGER         8   \n",
              "3    536365    84029G  KNITTED UNION FLAG HOT WATER BOTTLE         6   \n",
              "4    536365    84029E       RED WOOLLY HOTTIE WHITE HEART.         6   \n",
              "\n",
              "    InvoiceDate  UnitPrice  CustomerID         Country  \n",
              "0  12/1/21 8:26       2.55     17850.0  United Kingdom  \n",
              "1  12/1/21 8:26       3.39     17850.0  United Kingdom  \n",
              "2  12/1/21 8:26       2.75     17850.0  United Kingdom  \n",
              "3  12/1/21 8:26       3.39     17850.0  United Kingdom  \n",
              "4  12/1/21 8:26       3.39     17850.0  United Kingdom  "
            ],
            "text/html": [
              "\n",
              "  <div id=\"df-6e78103a-d022-4bc9-925f-32f9469081d7\" class=\"colab-df-container\">\n",
              "    <div>\n",
              "<style scoped>\n",
              "    .dataframe tbody tr th:only-of-type {\n",
              "        vertical-align: middle;\n",
              "    }\n",
              "\n",
              "    .dataframe tbody tr th {\n",
              "        vertical-align: top;\n",
              "    }\n",
              "\n",
              "    .dataframe thead th {\n",
              "        text-align: right;\n",
              "    }\n",
              "</style>\n",
              "<table border=\"1\" class=\"dataframe\">\n",
              "  <thead>\n",
              "    <tr style=\"text-align: right;\">\n",
              "      <th></th>\n",
              "      <th>InvoiceNo</th>\n",
              "      <th>StockCode</th>\n",
              "      <th>Description</th>\n",
              "      <th>Quantity</th>\n",
              "      <th>InvoiceDate</th>\n",
              "      <th>UnitPrice</th>\n",
              "      <th>CustomerID</th>\n",
              "      <th>Country</th>\n",
              "    </tr>\n",
              "  </thead>\n",
              "  <tbody>\n",
              "    <tr>\n",
              "      <th>0</th>\n",
              "      <td>536365</td>\n",
              "      <td>85123A</td>\n",
              "      <td>WHITE HANGING HEART T-LIGHT HOLDER</td>\n",
              "      <td>6</td>\n",
              "      <td>12/1/21 8:26</td>\n",
              "      <td>2.55</td>\n",
              "      <td>17850.0</td>\n",
              "      <td>United Kingdom</td>\n",
              "    </tr>\n",
              "    <tr>\n",
              "      <th>1</th>\n",
              "      <td>536365</td>\n",
              "      <td>71053</td>\n",
              "      <td>WHITE METAL LANTERN</td>\n",
              "      <td>6</td>\n",
              "      <td>12/1/21 8:26</td>\n",
              "      <td>3.39</td>\n",
              "      <td>17850.0</td>\n",
              "      <td>United Kingdom</td>\n",
              "    </tr>\n",
              "    <tr>\n",
              "      <th>2</th>\n",
              "      <td>536365</td>\n",
              "      <td>84406B</td>\n",
              "      <td>CREAM CUPID HEARTS COAT HANGER</td>\n",
              "      <td>8</td>\n",
              "      <td>12/1/21 8:26</td>\n",
              "      <td>2.75</td>\n",
              "      <td>17850.0</td>\n",
              "      <td>United Kingdom</td>\n",
              "    </tr>\n",
              "    <tr>\n",
              "      <th>3</th>\n",
              "      <td>536365</td>\n",
              "      <td>84029G</td>\n",
              "      <td>KNITTED UNION FLAG HOT WATER BOTTLE</td>\n",
              "      <td>6</td>\n",
              "      <td>12/1/21 8:26</td>\n",
              "      <td>3.39</td>\n",
              "      <td>17850.0</td>\n",
              "      <td>United Kingdom</td>\n",
              "    </tr>\n",
              "    <tr>\n",
              "      <th>4</th>\n",
              "      <td>536365</td>\n",
              "      <td>84029E</td>\n",
              "      <td>RED WOOLLY HOTTIE WHITE HEART.</td>\n",
              "      <td>6</td>\n",
              "      <td>12/1/21 8:26</td>\n",
              "      <td>3.39</td>\n",
              "      <td>17850.0</td>\n",
              "      <td>United Kingdom</td>\n",
              "    </tr>\n",
              "  </tbody>\n",
              "</table>\n",
              "</div>\n",
              "    <div class=\"colab-df-buttons\">\n",
              "\n",
              "  <div class=\"colab-df-container\">\n",
              "    <button class=\"colab-df-convert\" onclick=\"convertToInteractive('df-6e78103a-d022-4bc9-925f-32f9469081d7')\"\n",
              "            title=\"Convert this dataframe to an interactive table.\"\n",
              "            style=\"display:none;\">\n",
              "\n",
              "  <svg xmlns=\"http://www.w3.org/2000/svg\" height=\"24px\" viewBox=\"0 -960 960 960\">\n",
              "    <path d=\"M120-120v-720h720v720H120Zm60-500h600v-160H180v160Zm220 220h160v-160H400v160Zm0 220h160v-160H400v160ZM180-400h160v-160H180v160Zm440 0h160v-160H620v160ZM180-180h160v-160H180v160Zm440 0h160v-160H620v160Z\"/>\n",
              "  </svg>\n",
              "    </button>\n",
              "\n",
              "  <style>\n",
              "    .colab-df-container {\n",
              "      display:flex;\n",
              "      gap: 12px;\n",
              "    }\n",
              "\n",
              "    .colab-df-convert {\n",
              "      background-color: #E8F0FE;\n",
              "      border: none;\n",
              "      border-radius: 50%;\n",
              "      cursor: pointer;\n",
              "      display: none;\n",
              "      fill: #1967D2;\n",
              "      height: 32px;\n",
              "      padding: 0 0 0 0;\n",
              "      width: 32px;\n",
              "    }\n",
              "\n",
              "    .colab-df-convert:hover {\n",
              "      background-color: #E2EBFA;\n",
              "      box-shadow: 0px 1px 2px rgba(60, 64, 67, 0.3), 0px 1px 3px 1px rgba(60, 64, 67, 0.15);\n",
              "      fill: #174EA6;\n",
              "    }\n",
              "\n",
              "    .colab-df-buttons div {\n",
              "      margin-bottom: 4px;\n",
              "    }\n",
              "\n",
              "    [theme=dark] .colab-df-convert {\n",
              "      background-color: #3B4455;\n",
              "      fill: #D2E3FC;\n",
              "    }\n",
              "\n",
              "    [theme=dark] .colab-df-convert:hover {\n",
              "      background-color: #434B5C;\n",
              "      box-shadow: 0px 1px 3px 1px rgba(0, 0, 0, 0.15);\n",
              "      filter: drop-shadow(0px 1px 2px rgba(0, 0, 0, 0.3));\n",
              "      fill: #FFFFFF;\n",
              "    }\n",
              "  </style>\n",
              "\n",
              "    <script>\n",
              "      const buttonEl =\n",
              "        document.querySelector('#df-6e78103a-d022-4bc9-925f-32f9469081d7 button.colab-df-convert');\n",
              "      buttonEl.style.display =\n",
              "        google.colab.kernel.accessAllowed ? 'block' : 'none';\n",
              "\n",
              "      async function convertToInteractive(key) {\n",
              "        const element = document.querySelector('#df-6e78103a-d022-4bc9-925f-32f9469081d7');\n",
              "        const dataTable =\n",
              "          await google.colab.kernel.invokeFunction('convertToInteractive',\n",
              "                                                    [key], {});\n",
              "        if (!dataTable) return;\n",
              "\n",
              "        const docLinkHtml = 'Like what you see? Visit the ' +\n",
              "          '<a target=\"_blank\" href=https://colab.research.google.com/notebooks/data_table.ipynb>data table notebook</a>'\n",
              "          + ' to learn more about interactive tables.';\n",
              "        element.innerHTML = '';\n",
              "        dataTable['output_type'] = 'display_data';\n",
              "        await google.colab.output.renderOutput(dataTable, element);\n",
              "        const docLink = document.createElement('div');\n",
              "        docLink.innerHTML = docLinkHtml;\n",
              "        element.appendChild(docLink);\n",
              "      }\n",
              "    </script>\n",
              "  </div>\n",
              "\n",
              "\n",
              "<div id=\"df-fdb998be-dc8b-4c51-bf7b-da59def874d6\">\n",
              "  <button class=\"colab-df-quickchart\" onclick=\"quickchart('df-fdb998be-dc8b-4c51-bf7b-da59def874d6')\"\n",
              "            title=\"Suggest charts.\"\n",
              "            style=\"display:none;\">\n",
              "\n",
              "<svg xmlns=\"http://www.w3.org/2000/svg\" height=\"24px\"viewBox=\"0 0 24 24\"\n",
              "     width=\"24px\">\n",
              "    <g>\n",
              "        <path d=\"M19 3H5c-1.1 0-2 .9-2 2v14c0 1.1.9 2 2 2h14c1.1 0 2-.9 2-2V5c0-1.1-.9-2-2-2zM9 17H7v-7h2v7zm4 0h-2V7h2v10zm4 0h-2v-4h2v4z\"/>\n",
              "    </g>\n",
              "</svg>\n",
              "  </button>\n",
              "\n",
              "<style>\n",
              "  .colab-df-quickchart {\n",
              "      --bg-color: #E8F0FE;\n",
              "      --fill-color: #1967D2;\n",
              "      --hover-bg-color: #E2EBFA;\n",
              "      --hover-fill-color: #174EA6;\n",
              "      --disabled-fill-color: #AAA;\n",
              "      --disabled-bg-color: #DDD;\n",
              "  }\n",
              "\n",
              "  [theme=dark] .colab-df-quickchart {\n",
              "      --bg-color: #3B4455;\n",
              "      --fill-color: #D2E3FC;\n",
              "      --hover-bg-color: #434B5C;\n",
              "      --hover-fill-color: #FFFFFF;\n",
              "      --disabled-bg-color: #3B4455;\n",
              "      --disabled-fill-color: #666;\n",
              "  }\n",
              "\n",
              "  .colab-df-quickchart {\n",
              "    background-color: var(--bg-color);\n",
              "    border: none;\n",
              "    border-radius: 50%;\n",
              "    cursor: pointer;\n",
              "    display: none;\n",
              "    fill: var(--fill-color);\n",
              "    height: 32px;\n",
              "    padding: 0;\n",
              "    width: 32px;\n",
              "  }\n",
              "\n",
              "  .colab-df-quickchart:hover {\n",
              "    background-color: var(--hover-bg-color);\n",
              "    box-shadow: 0 1px 2px rgba(60, 64, 67, 0.3), 0 1px 3px 1px rgba(60, 64, 67, 0.15);\n",
              "    fill: var(--button-hover-fill-color);\n",
              "  }\n",
              "\n",
              "  .colab-df-quickchart-complete:disabled,\n",
              "  .colab-df-quickchart-complete:disabled:hover {\n",
              "    background-color: var(--disabled-bg-color);\n",
              "    fill: var(--disabled-fill-color);\n",
              "    box-shadow: none;\n",
              "  }\n",
              "\n",
              "  .colab-df-spinner {\n",
              "    border: 2px solid var(--fill-color);\n",
              "    border-color: transparent;\n",
              "    border-bottom-color: var(--fill-color);\n",
              "    animation:\n",
              "      spin 1s steps(1) infinite;\n",
              "  }\n",
              "\n",
              "  @keyframes spin {\n",
              "    0% {\n",
              "      border-color: transparent;\n",
              "      border-bottom-color: var(--fill-color);\n",
              "      border-left-color: var(--fill-color);\n",
              "    }\n",
              "    20% {\n",
              "      border-color: transparent;\n",
              "      border-left-color: var(--fill-color);\n",
              "      border-top-color: var(--fill-color);\n",
              "    }\n",
              "    30% {\n",
              "      border-color: transparent;\n",
              "      border-left-color: var(--fill-color);\n",
              "      border-top-color: var(--fill-color);\n",
              "      border-right-color: var(--fill-color);\n",
              "    }\n",
              "    40% {\n",
              "      border-color: transparent;\n",
              "      border-right-color: var(--fill-color);\n",
              "      border-top-color: var(--fill-color);\n",
              "    }\n",
              "    60% {\n",
              "      border-color: transparent;\n",
              "      border-right-color: var(--fill-color);\n",
              "    }\n",
              "    80% {\n",
              "      border-color: transparent;\n",
              "      border-right-color: var(--fill-color);\n",
              "      border-bottom-color: var(--fill-color);\n",
              "    }\n",
              "    90% {\n",
              "      border-color: transparent;\n",
              "      border-bottom-color: var(--fill-color);\n",
              "    }\n",
              "  }\n",
              "</style>\n",
              "\n",
              "  <script>\n",
              "    async function quickchart(key) {\n",
              "      const quickchartButtonEl =\n",
              "        document.querySelector('#' + key + ' button');\n",
              "      quickchartButtonEl.disabled = true;  // To prevent multiple clicks.\n",
              "      quickchartButtonEl.classList.add('colab-df-spinner');\n",
              "      try {\n",
              "        const charts = await google.colab.kernel.invokeFunction(\n",
              "            'suggestCharts', [key], {});\n",
              "      } catch (error) {\n",
              "        console.error('Error during call to suggestCharts:', error);\n",
              "      }\n",
              "      quickchartButtonEl.classList.remove('colab-df-spinner');\n",
              "      quickchartButtonEl.classList.add('colab-df-quickchart-complete');\n",
              "    }\n",
              "    (() => {\n",
              "      let quickchartButtonEl =\n",
              "        document.querySelector('#df-fdb998be-dc8b-4c51-bf7b-da59def874d6 button');\n",
              "      quickchartButtonEl.style.display =\n",
              "        google.colab.kernel.accessAllowed ? 'block' : 'none';\n",
              "    })();\n",
              "  </script>\n",
              "</div>\n",
              "    </div>\n",
              "  </div>\n"
            ]
          },
          "metadata": {},
          "execution_count": 5
        }
      ],
      "source": [
        "# import data and show first 5 rows\n",
        "data = pd.read_csv(file_name)\n",
        "data.head()"
      ]
    },
    {
      "cell_type": "markdown",
      "metadata": {
        "id": "ddQHZwyOa3MN"
      },
      "source": [
        "## Project Jumpstart"
      ]
    },
    {
      "cell_type": "markdown",
      "metadata": {
        "id": "gZpxbAMyfGwI"
      },
      "source": [
        "### Explore Basic Statistics You Get Out of the Box with Pandas"
      ]
    },
    {
      "cell_type": "code",
      "execution_count": 6,
      "metadata": {
        "id": "UuxfW2EBfguL",
        "colab": {
          "base_uri": "https://localhost:8080/"
        },
        "outputId": "c4f63937-e506-4af0-da54-5b998043a3a9"
      },
      "outputs": [
        {
          "output_type": "execute_result",
          "data": {
            "text/plain": [
              "(541909, 8)"
            ]
          },
          "metadata": {},
          "execution_count": 6
        }
      ],
      "source": [
        "# check record count and column count\n",
        "data.shape"
      ]
    },
    {
      "cell_type": "code",
      "execution_count": 7,
      "metadata": {
        "id": "updJj9X7flfQ",
        "colab": {
          "base_uri": "https://localhost:8080/"
        },
        "outputId": "73af47c1-bb6a-4e17-e8b9-2c927cb3c21b"
      },
      "outputs": [
        {
          "output_type": "stream",
          "name": "stdout",
          "text": [
            "<class 'pandas.core.frame.DataFrame'>\n",
            "RangeIndex: 541909 entries, 0 to 541908\n",
            "Data columns (total 8 columns):\n",
            " #   Column       Non-Null Count   Dtype  \n",
            "---  ------       --------------   -----  \n",
            " 0   InvoiceNo    541909 non-null  object \n",
            " 1   StockCode    541909 non-null  object \n",
            " 2   Description  540455 non-null  object \n",
            " 3   Quantity     541909 non-null  int64  \n",
            " 4   InvoiceDate  541909 non-null  object \n",
            " 5   UnitPrice    541909 non-null  float64\n",
            " 6   CustomerID   406829 non-null  float64\n",
            " 7   Country      541909 non-null  object \n",
            "dtypes: float64(2), int64(1), object(5)\n",
            "memory usage: 33.1+ MB\n"
          ]
        }
      ],
      "source": [
        "# review basic information about the dataset including column names, data types, non-null counts, and memory usage\n",
        "data.info()"
      ]
    },
    {
      "cell_type": "code",
      "execution_count": 8,
      "metadata": {
        "id": "7YpzC3gVf0bH",
        "colab": {
          "base_uri": "https://localhost:8080/"
        },
        "outputId": "c2c9a395-8d21-4eba-bb8b-86cf1d29c96e"
      },
      "outputs": [
        {
          "output_type": "execute_result",
          "data": {
            "text/plain": [
              "InvoiceNo           0\n",
              "StockCode           0\n",
              "Description      1454\n",
              "Quantity            0\n",
              "InvoiceDate         0\n",
              "UnitPrice           0\n",
              "CustomerID     135080\n",
              "Country             0\n",
              "dtype: int64"
            ]
          },
          "metadata": {},
          "execution_count": 8
        }
      ],
      "source": [
        "# check the number of missing values in each column\n",
        "data.isnull().sum(axis=0)"
      ]
    },
    {
      "cell_type": "markdown",
      "metadata": {
        "id": "tOlxNAWja3MP"
      },
      "source": [
        "On the job, you'll need to explore if there are specific patterns to the missing values. For the sake of expediency and simplicity in this project, we'll drop them."
      ]
    },
    {
      "cell_type": "code",
      "execution_count": 9,
      "metadata": {
        "id": "Wm-b3eZygVO3",
        "colab": {
          "base_uri": "https://localhost:8080/"
        },
        "outputId": "0eab1bd3-6014-46b8-dd04-ec604919c86e"
      },
      "outputs": [
        {
          "output_type": "execute_result",
          "data": {
            "text/plain": [
              "InvoiceNo      0\n",
              "StockCode      0\n",
              "Description    0\n",
              "Quantity       0\n",
              "InvoiceDate    0\n",
              "UnitPrice      0\n",
              "CustomerID     0\n",
              "Country        0\n",
              "dtype: int64"
            ]
          },
          "metadata": {},
          "execution_count": 9
        }
      ],
      "source": [
        "# Drop missing values and validate that there are no missing values after the fix\n",
        "data = data.dropna().reset_index(drop=True)\n",
        "data.isnull().sum(axis=0)"
      ]
    },
    {
      "cell_type": "code",
      "execution_count": 10,
      "metadata": {
        "id": "OYwdj7oCg9iX",
        "colab": {
          "base_uri": "https://localhost:8080/"
        },
        "outputId": "738ea437-33e4-4cf3-a79e-94257751a2cf"
      },
      "outputs": [
        {
          "output_type": "execute_result",
          "data": {
            "text/plain": [
              "InvoiceNo      22190\n",
              "StockCode       3684\n",
              "Description     3896\n",
              "Quantity         436\n",
              "InvoiceDate    20460\n",
              "UnitPrice        620\n",
              "CustomerID      4372\n",
              "Country           37\n",
              "dtype: int64"
            ]
          },
          "metadata": {},
          "execution_count": 10
        }
      ],
      "source": [
        "# Check the number of unique values in each column\n",
        "data.nunique()"
      ]
    },
    {
      "cell_type": "code",
      "execution_count": 11,
      "metadata": {
        "id": "6Bkh7diza3MP",
        "colab": {
          "base_uri": "https://localhost:8080/",
          "height": 297
        },
        "outputId": "5f0708a0-b574-493c-d3df-0773227838ec"
      },
      "outputs": [
        {
          "output_type": "execute_result",
          "data": {
            "text/plain": [
              "            Quantity      UnitPrice     CustomerID\n",
              "count  406829.000000  406829.000000  406829.000000\n",
              "mean       12.061303       3.460471   15287.690570\n",
              "std       248.693370      69.315162    1713.600303\n",
              "min    -80995.000000       0.000000   12346.000000\n",
              "25%         2.000000       1.250000   13953.000000\n",
              "50%         5.000000       1.950000   15152.000000\n",
              "75%        12.000000       3.750000   16791.000000\n",
              "max     80995.000000   38970.000000   18287.000000"
            ],
            "text/html": [
              "\n",
              "  <div id=\"df-42775074-a84d-47da-8fb5-73d17c4ab877\" class=\"colab-df-container\">\n",
              "    <div>\n",
              "<style scoped>\n",
              "    .dataframe tbody tr th:only-of-type {\n",
              "        vertical-align: middle;\n",
              "    }\n",
              "\n",
              "    .dataframe tbody tr th {\n",
              "        vertical-align: top;\n",
              "    }\n",
              "\n",
              "    .dataframe thead th {\n",
              "        text-align: right;\n",
              "    }\n",
              "</style>\n",
              "<table border=\"1\" class=\"dataframe\">\n",
              "  <thead>\n",
              "    <tr style=\"text-align: right;\">\n",
              "      <th></th>\n",
              "      <th>Quantity</th>\n",
              "      <th>UnitPrice</th>\n",
              "      <th>CustomerID</th>\n",
              "    </tr>\n",
              "  </thead>\n",
              "  <tbody>\n",
              "    <tr>\n",
              "      <th>count</th>\n",
              "      <td>406829.000000</td>\n",
              "      <td>406829.000000</td>\n",
              "      <td>406829.000000</td>\n",
              "    </tr>\n",
              "    <tr>\n",
              "      <th>mean</th>\n",
              "      <td>12.061303</td>\n",
              "      <td>3.460471</td>\n",
              "      <td>15287.690570</td>\n",
              "    </tr>\n",
              "    <tr>\n",
              "      <th>std</th>\n",
              "      <td>248.693370</td>\n",
              "      <td>69.315162</td>\n",
              "      <td>1713.600303</td>\n",
              "    </tr>\n",
              "    <tr>\n",
              "      <th>min</th>\n",
              "      <td>-80995.000000</td>\n",
              "      <td>0.000000</td>\n",
              "      <td>12346.000000</td>\n",
              "    </tr>\n",
              "    <tr>\n",
              "      <th>25%</th>\n",
              "      <td>2.000000</td>\n",
              "      <td>1.250000</td>\n",
              "      <td>13953.000000</td>\n",
              "    </tr>\n",
              "    <tr>\n",
              "      <th>50%</th>\n",
              "      <td>5.000000</td>\n",
              "      <td>1.950000</td>\n",
              "      <td>15152.000000</td>\n",
              "    </tr>\n",
              "    <tr>\n",
              "      <th>75%</th>\n",
              "      <td>12.000000</td>\n",
              "      <td>3.750000</td>\n",
              "      <td>16791.000000</td>\n",
              "    </tr>\n",
              "    <tr>\n",
              "      <th>max</th>\n",
              "      <td>80995.000000</td>\n",
              "      <td>38970.000000</td>\n",
              "      <td>18287.000000</td>\n",
              "    </tr>\n",
              "  </tbody>\n",
              "</table>\n",
              "</div>\n",
              "    <div class=\"colab-df-buttons\">\n",
              "\n",
              "  <div class=\"colab-df-container\">\n",
              "    <button class=\"colab-df-convert\" onclick=\"convertToInteractive('df-42775074-a84d-47da-8fb5-73d17c4ab877')\"\n",
              "            title=\"Convert this dataframe to an interactive table.\"\n",
              "            style=\"display:none;\">\n",
              "\n",
              "  <svg xmlns=\"http://www.w3.org/2000/svg\" height=\"24px\" viewBox=\"0 -960 960 960\">\n",
              "    <path d=\"M120-120v-720h720v720H120Zm60-500h600v-160H180v160Zm220 220h160v-160H400v160Zm0 220h160v-160H400v160ZM180-400h160v-160H180v160Zm440 0h160v-160H620v160ZM180-180h160v-160H180v160Zm440 0h160v-160H620v160Z\"/>\n",
              "  </svg>\n",
              "    </button>\n",
              "\n",
              "  <style>\n",
              "    .colab-df-container {\n",
              "      display:flex;\n",
              "      gap: 12px;\n",
              "    }\n",
              "\n",
              "    .colab-df-convert {\n",
              "      background-color: #E8F0FE;\n",
              "      border: none;\n",
              "      border-radius: 50%;\n",
              "      cursor: pointer;\n",
              "      display: none;\n",
              "      fill: #1967D2;\n",
              "      height: 32px;\n",
              "      padding: 0 0 0 0;\n",
              "      width: 32px;\n",
              "    }\n",
              "\n",
              "    .colab-df-convert:hover {\n",
              "      background-color: #E2EBFA;\n",
              "      box-shadow: 0px 1px 2px rgba(60, 64, 67, 0.3), 0px 1px 3px 1px rgba(60, 64, 67, 0.15);\n",
              "      fill: #174EA6;\n",
              "    }\n",
              "\n",
              "    .colab-df-buttons div {\n",
              "      margin-bottom: 4px;\n",
              "    }\n",
              "\n",
              "    [theme=dark] .colab-df-convert {\n",
              "      background-color: #3B4455;\n",
              "      fill: #D2E3FC;\n",
              "    }\n",
              "\n",
              "    [theme=dark] .colab-df-convert:hover {\n",
              "      background-color: #434B5C;\n",
              "      box-shadow: 0px 1px 3px 1px rgba(0, 0, 0, 0.15);\n",
              "      filter: drop-shadow(0px 1px 2px rgba(0, 0, 0, 0.3));\n",
              "      fill: #FFFFFF;\n",
              "    }\n",
              "  </style>\n",
              "\n",
              "    <script>\n",
              "      const buttonEl =\n",
              "        document.querySelector('#df-42775074-a84d-47da-8fb5-73d17c4ab877 button.colab-df-convert');\n",
              "      buttonEl.style.display =\n",
              "        google.colab.kernel.accessAllowed ? 'block' : 'none';\n",
              "\n",
              "      async function convertToInteractive(key) {\n",
              "        const element = document.querySelector('#df-42775074-a84d-47da-8fb5-73d17c4ab877');\n",
              "        const dataTable =\n",
              "          await google.colab.kernel.invokeFunction('convertToInteractive',\n",
              "                                                    [key], {});\n",
              "        if (!dataTable) return;\n",
              "\n",
              "        const docLinkHtml = 'Like what you see? Visit the ' +\n",
              "          '<a target=\"_blank\" href=https://colab.research.google.com/notebooks/data_table.ipynb>data table notebook</a>'\n",
              "          + ' to learn more about interactive tables.';\n",
              "        element.innerHTML = '';\n",
              "        dataTable['output_type'] = 'display_data';\n",
              "        await google.colab.output.renderOutput(dataTable, element);\n",
              "        const docLink = document.createElement('div');\n",
              "        docLink.innerHTML = docLinkHtml;\n",
              "        element.appendChild(docLink);\n",
              "      }\n",
              "    </script>\n",
              "  </div>\n",
              "\n",
              "\n",
              "<div id=\"df-8e08b957-9006-47ae-a64f-128d2c0d04ab\">\n",
              "  <button class=\"colab-df-quickchart\" onclick=\"quickchart('df-8e08b957-9006-47ae-a64f-128d2c0d04ab')\"\n",
              "            title=\"Suggest charts.\"\n",
              "            style=\"display:none;\">\n",
              "\n",
              "<svg xmlns=\"http://www.w3.org/2000/svg\" height=\"24px\"viewBox=\"0 0 24 24\"\n",
              "     width=\"24px\">\n",
              "    <g>\n",
              "        <path d=\"M19 3H5c-1.1 0-2 .9-2 2v14c0 1.1.9 2 2 2h14c1.1 0 2-.9 2-2V5c0-1.1-.9-2-2-2zM9 17H7v-7h2v7zm4 0h-2V7h2v10zm4 0h-2v-4h2v4z\"/>\n",
              "    </g>\n",
              "</svg>\n",
              "  </button>\n",
              "\n",
              "<style>\n",
              "  .colab-df-quickchart {\n",
              "      --bg-color: #E8F0FE;\n",
              "      --fill-color: #1967D2;\n",
              "      --hover-bg-color: #E2EBFA;\n",
              "      --hover-fill-color: #174EA6;\n",
              "      --disabled-fill-color: #AAA;\n",
              "      --disabled-bg-color: #DDD;\n",
              "  }\n",
              "\n",
              "  [theme=dark] .colab-df-quickchart {\n",
              "      --bg-color: #3B4455;\n",
              "      --fill-color: #D2E3FC;\n",
              "      --hover-bg-color: #434B5C;\n",
              "      --hover-fill-color: #FFFFFF;\n",
              "      --disabled-bg-color: #3B4455;\n",
              "      --disabled-fill-color: #666;\n",
              "  }\n",
              "\n",
              "  .colab-df-quickchart {\n",
              "    background-color: var(--bg-color);\n",
              "    border: none;\n",
              "    border-radius: 50%;\n",
              "    cursor: pointer;\n",
              "    display: none;\n",
              "    fill: var(--fill-color);\n",
              "    height: 32px;\n",
              "    padding: 0;\n",
              "    width: 32px;\n",
              "  }\n",
              "\n",
              "  .colab-df-quickchart:hover {\n",
              "    background-color: var(--hover-bg-color);\n",
              "    box-shadow: 0 1px 2px rgba(60, 64, 67, 0.3), 0 1px 3px 1px rgba(60, 64, 67, 0.15);\n",
              "    fill: var(--button-hover-fill-color);\n",
              "  }\n",
              "\n",
              "  .colab-df-quickchart-complete:disabled,\n",
              "  .colab-df-quickchart-complete:disabled:hover {\n",
              "    background-color: var(--disabled-bg-color);\n",
              "    fill: var(--disabled-fill-color);\n",
              "    box-shadow: none;\n",
              "  }\n",
              "\n",
              "  .colab-df-spinner {\n",
              "    border: 2px solid var(--fill-color);\n",
              "    border-color: transparent;\n",
              "    border-bottom-color: var(--fill-color);\n",
              "    animation:\n",
              "      spin 1s steps(1) infinite;\n",
              "  }\n",
              "\n",
              "  @keyframes spin {\n",
              "    0% {\n",
              "      border-color: transparent;\n",
              "      border-bottom-color: var(--fill-color);\n",
              "      border-left-color: var(--fill-color);\n",
              "    }\n",
              "    20% {\n",
              "      border-color: transparent;\n",
              "      border-left-color: var(--fill-color);\n",
              "      border-top-color: var(--fill-color);\n",
              "    }\n",
              "    30% {\n",
              "      border-color: transparent;\n",
              "      border-left-color: var(--fill-color);\n",
              "      border-top-color: var(--fill-color);\n",
              "      border-right-color: var(--fill-color);\n",
              "    }\n",
              "    40% {\n",
              "      border-color: transparent;\n",
              "      border-right-color: var(--fill-color);\n",
              "      border-top-color: var(--fill-color);\n",
              "    }\n",
              "    60% {\n",
              "      border-color: transparent;\n",
              "      border-right-color: var(--fill-color);\n",
              "    }\n",
              "    80% {\n",
              "      border-color: transparent;\n",
              "      border-right-color: var(--fill-color);\n",
              "      border-bottom-color: var(--fill-color);\n",
              "    }\n",
              "    90% {\n",
              "      border-color: transparent;\n",
              "      border-bottom-color: var(--fill-color);\n",
              "    }\n",
              "  }\n",
              "</style>\n",
              "\n",
              "  <script>\n",
              "    async function quickchart(key) {\n",
              "      const quickchartButtonEl =\n",
              "        document.querySelector('#' + key + ' button');\n",
              "      quickchartButtonEl.disabled = true;  // To prevent multiple clicks.\n",
              "      quickchartButtonEl.classList.add('colab-df-spinner');\n",
              "      try {\n",
              "        const charts = await google.colab.kernel.invokeFunction(\n",
              "            'suggestCharts', [key], {});\n",
              "      } catch (error) {\n",
              "        console.error('Error during call to suggestCharts:', error);\n",
              "      }\n",
              "      quickchartButtonEl.classList.remove('colab-df-spinner');\n",
              "      quickchartButtonEl.classList.add('colab-df-quickchart-complete');\n",
              "    }\n",
              "    (() => {\n",
              "      let quickchartButtonEl =\n",
              "        document.querySelector('#df-8e08b957-9006-47ae-a64f-128d2c0d04ab button');\n",
              "      quickchartButtonEl.style.display =\n",
              "        google.colab.kernel.accessAllowed ? 'block' : 'none';\n",
              "    })();\n",
              "  </script>\n",
              "</div>\n",
              "    </div>\n",
              "  </div>\n"
            ]
          },
          "metadata": {},
          "execution_count": 11
        }
      ],
      "source": [
        "# Use pandas describe() method to get a summary of the numerical columns\n",
        "basic_stats = pd.DataFrame(data.describe())\n",
        "basic_stats"
      ]
    },
    {
      "cell_type": "markdown",
      "source": [
        "Now we need to create columns for Year, Month, Day, and Quarter so that your leadership team at CostPro can look at statistics for specific time periods in your dashboard."
      ],
      "metadata": {
        "id": "ZRbJqGMB8KZn"
      }
    },
    {
      "cell_type": "code",
      "execution_count": 12,
      "metadata": {
        "id": "GXslL7GvhjnN"
      },
      "outputs": [],
      "source": [
        "# Format date columns\n",
        "# Note: the pandas to_datetime function is being deprecated in the near future\n",
        "data['InvoiceDate'] = pd.to_datetime(data['InvoiceDate'])\n",
        "\n",
        "data[\"Year\"] = data[\"InvoiceDate\"].dt.year\n",
        "data[\"Month\"] = data[\"InvoiceDate\"].dt.month\n",
        "data[\"Day\"] = data[\"InvoiceDate\"].dt.day\n",
        "data[\"Quarter\"] = data[\"InvoiceDate\"].dt.quarter"
      ]
    },
    {
      "cell_type": "markdown",
      "metadata": {
        "id": "oNGnj-_pa3MQ"
      },
      "source": [
        "### Clean the Data\n",
        "\n",
        "Check the basic stats on the numeric data again, what do you notice?"
      ]
    },
    {
      "cell_type": "code",
      "execution_count": 13,
      "metadata": {
        "id": "eRy122Waa3MQ",
        "colab": {
          "base_uri": "https://localhost:8080/",
          "height": 297
        },
        "outputId": "417cbb95-7e31-41a9-b6a4-283b0367801a"
      },
      "outputs": [
        {
          "output_type": "execute_result",
          "data": {
            "text/plain": [
              "            Quantity      UnitPrice     CustomerID\n",
              "count  406829.000000  406829.000000  406829.000000\n",
              "mean       12.061303       3.460471   15287.690570\n",
              "std       248.693370      69.315162    1713.600303\n",
              "min    -80995.000000       0.000000   12346.000000\n",
              "25%         2.000000       1.250000   13953.000000\n",
              "50%         5.000000       1.950000   15152.000000\n",
              "75%        12.000000       3.750000   16791.000000\n",
              "max     80995.000000   38970.000000   18287.000000"
            ],
            "text/html": [
              "\n",
              "  <div id=\"df-78774e6b-9f26-4e8f-a6b6-6a4a0b057bcc\" class=\"colab-df-container\">\n",
              "    <div>\n",
              "<style scoped>\n",
              "    .dataframe tbody tr th:only-of-type {\n",
              "        vertical-align: middle;\n",
              "    }\n",
              "\n",
              "    .dataframe tbody tr th {\n",
              "        vertical-align: top;\n",
              "    }\n",
              "\n",
              "    .dataframe thead th {\n",
              "        text-align: right;\n",
              "    }\n",
              "</style>\n",
              "<table border=\"1\" class=\"dataframe\">\n",
              "  <thead>\n",
              "    <tr style=\"text-align: right;\">\n",
              "      <th></th>\n",
              "      <th>Quantity</th>\n",
              "      <th>UnitPrice</th>\n",
              "      <th>CustomerID</th>\n",
              "    </tr>\n",
              "  </thead>\n",
              "  <tbody>\n",
              "    <tr>\n",
              "      <th>count</th>\n",
              "      <td>406829.000000</td>\n",
              "      <td>406829.000000</td>\n",
              "      <td>406829.000000</td>\n",
              "    </tr>\n",
              "    <tr>\n",
              "      <th>mean</th>\n",
              "      <td>12.061303</td>\n",
              "      <td>3.460471</td>\n",
              "      <td>15287.690570</td>\n",
              "    </tr>\n",
              "    <tr>\n",
              "      <th>std</th>\n",
              "      <td>248.693370</td>\n",
              "      <td>69.315162</td>\n",
              "      <td>1713.600303</td>\n",
              "    </tr>\n",
              "    <tr>\n",
              "      <th>min</th>\n",
              "      <td>-80995.000000</td>\n",
              "      <td>0.000000</td>\n",
              "      <td>12346.000000</td>\n",
              "    </tr>\n",
              "    <tr>\n",
              "      <th>25%</th>\n",
              "      <td>2.000000</td>\n",
              "      <td>1.250000</td>\n",
              "      <td>13953.000000</td>\n",
              "    </tr>\n",
              "    <tr>\n",
              "      <th>50%</th>\n",
              "      <td>5.000000</td>\n",
              "      <td>1.950000</td>\n",
              "      <td>15152.000000</td>\n",
              "    </tr>\n",
              "    <tr>\n",
              "      <th>75%</th>\n",
              "      <td>12.000000</td>\n",
              "      <td>3.750000</td>\n",
              "      <td>16791.000000</td>\n",
              "    </tr>\n",
              "    <tr>\n",
              "      <th>max</th>\n",
              "      <td>80995.000000</td>\n",
              "      <td>38970.000000</td>\n",
              "      <td>18287.000000</td>\n",
              "    </tr>\n",
              "  </tbody>\n",
              "</table>\n",
              "</div>\n",
              "    <div class=\"colab-df-buttons\">\n",
              "\n",
              "  <div class=\"colab-df-container\">\n",
              "    <button class=\"colab-df-convert\" onclick=\"convertToInteractive('df-78774e6b-9f26-4e8f-a6b6-6a4a0b057bcc')\"\n",
              "            title=\"Convert this dataframe to an interactive table.\"\n",
              "            style=\"display:none;\">\n",
              "\n",
              "  <svg xmlns=\"http://www.w3.org/2000/svg\" height=\"24px\" viewBox=\"0 -960 960 960\">\n",
              "    <path d=\"M120-120v-720h720v720H120Zm60-500h600v-160H180v160Zm220 220h160v-160H400v160Zm0 220h160v-160H400v160ZM180-400h160v-160H180v160Zm440 0h160v-160H620v160ZM180-180h160v-160H180v160Zm440 0h160v-160H620v160Z\"/>\n",
              "  </svg>\n",
              "    </button>\n",
              "\n",
              "  <style>\n",
              "    .colab-df-container {\n",
              "      display:flex;\n",
              "      gap: 12px;\n",
              "    }\n",
              "\n",
              "    .colab-df-convert {\n",
              "      background-color: #E8F0FE;\n",
              "      border: none;\n",
              "      border-radius: 50%;\n",
              "      cursor: pointer;\n",
              "      display: none;\n",
              "      fill: #1967D2;\n",
              "      height: 32px;\n",
              "      padding: 0 0 0 0;\n",
              "      width: 32px;\n",
              "    }\n",
              "\n",
              "    .colab-df-convert:hover {\n",
              "      background-color: #E2EBFA;\n",
              "      box-shadow: 0px 1px 2px rgba(60, 64, 67, 0.3), 0px 1px 3px 1px rgba(60, 64, 67, 0.15);\n",
              "      fill: #174EA6;\n",
              "    }\n",
              "\n",
              "    .colab-df-buttons div {\n",
              "      margin-bottom: 4px;\n",
              "    }\n",
              "\n",
              "    [theme=dark] .colab-df-convert {\n",
              "      background-color: #3B4455;\n",
              "      fill: #D2E3FC;\n",
              "    }\n",
              "\n",
              "    [theme=dark] .colab-df-convert:hover {\n",
              "      background-color: #434B5C;\n",
              "      box-shadow: 0px 1px 3px 1px rgba(0, 0, 0, 0.15);\n",
              "      filter: drop-shadow(0px 1px 2px rgba(0, 0, 0, 0.3));\n",
              "      fill: #FFFFFF;\n",
              "    }\n",
              "  </style>\n",
              "\n",
              "    <script>\n",
              "      const buttonEl =\n",
              "        document.querySelector('#df-78774e6b-9f26-4e8f-a6b6-6a4a0b057bcc button.colab-df-convert');\n",
              "      buttonEl.style.display =\n",
              "        google.colab.kernel.accessAllowed ? 'block' : 'none';\n",
              "\n",
              "      async function convertToInteractive(key) {\n",
              "        const element = document.querySelector('#df-78774e6b-9f26-4e8f-a6b6-6a4a0b057bcc');\n",
              "        const dataTable =\n",
              "          await google.colab.kernel.invokeFunction('convertToInteractive',\n",
              "                                                    [key], {});\n",
              "        if (!dataTable) return;\n",
              "\n",
              "        const docLinkHtml = 'Like what you see? Visit the ' +\n",
              "          '<a target=\"_blank\" href=https://colab.research.google.com/notebooks/data_table.ipynb>data table notebook</a>'\n",
              "          + ' to learn more about interactive tables.';\n",
              "        element.innerHTML = '';\n",
              "        dataTable['output_type'] = 'display_data';\n",
              "        await google.colab.output.renderOutput(dataTable, element);\n",
              "        const docLink = document.createElement('div');\n",
              "        docLink.innerHTML = docLinkHtml;\n",
              "        element.appendChild(docLink);\n",
              "      }\n",
              "    </script>\n",
              "  </div>\n",
              "\n",
              "\n",
              "<div id=\"df-2d946bcc-8b91-4e43-b6bc-b65ef24a9333\">\n",
              "  <button class=\"colab-df-quickchart\" onclick=\"quickchart('df-2d946bcc-8b91-4e43-b6bc-b65ef24a9333')\"\n",
              "            title=\"Suggest charts.\"\n",
              "            style=\"display:none;\">\n",
              "\n",
              "<svg xmlns=\"http://www.w3.org/2000/svg\" height=\"24px\"viewBox=\"0 0 24 24\"\n",
              "     width=\"24px\">\n",
              "    <g>\n",
              "        <path d=\"M19 3H5c-1.1 0-2 .9-2 2v14c0 1.1.9 2 2 2h14c1.1 0 2-.9 2-2V5c0-1.1-.9-2-2-2zM9 17H7v-7h2v7zm4 0h-2V7h2v10zm4 0h-2v-4h2v4z\"/>\n",
              "    </g>\n",
              "</svg>\n",
              "  </button>\n",
              "\n",
              "<style>\n",
              "  .colab-df-quickchart {\n",
              "      --bg-color: #E8F0FE;\n",
              "      --fill-color: #1967D2;\n",
              "      --hover-bg-color: #E2EBFA;\n",
              "      --hover-fill-color: #174EA6;\n",
              "      --disabled-fill-color: #AAA;\n",
              "      --disabled-bg-color: #DDD;\n",
              "  }\n",
              "\n",
              "  [theme=dark] .colab-df-quickchart {\n",
              "      --bg-color: #3B4455;\n",
              "      --fill-color: #D2E3FC;\n",
              "      --hover-bg-color: #434B5C;\n",
              "      --hover-fill-color: #FFFFFF;\n",
              "      --disabled-bg-color: #3B4455;\n",
              "      --disabled-fill-color: #666;\n",
              "  }\n",
              "\n",
              "  .colab-df-quickchart {\n",
              "    background-color: var(--bg-color);\n",
              "    border: none;\n",
              "    border-radius: 50%;\n",
              "    cursor: pointer;\n",
              "    display: none;\n",
              "    fill: var(--fill-color);\n",
              "    height: 32px;\n",
              "    padding: 0;\n",
              "    width: 32px;\n",
              "  }\n",
              "\n",
              "  .colab-df-quickchart:hover {\n",
              "    background-color: var(--hover-bg-color);\n",
              "    box-shadow: 0 1px 2px rgba(60, 64, 67, 0.3), 0 1px 3px 1px rgba(60, 64, 67, 0.15);\n",
              "    fill: var(--button-hover-fill-color);\n",
              "  }\n",
              "\n",
              "  .colab-df-quickchart-complete:disabled,\n",
              "  .colab-df-quickchart-complete:disabled:hover {\n",
              "    background-color: var(--disabled-bg-color);\n",
              "    fill: var(--disabled-fill-color);\n",
              "    box-shadow: none;\n",
              "  }\n",
              "\n",
              "  .colab-df-spinner {\n",
              "    border: 2px solid var(--fill-color);\n",
              "    border-color: transparent;\n",
              "    border-bottom-color: var(--fill-color);\n",
              "    animation:\n",
              "      spin 1s steps(1) infinite;\n",
              "  }\n",
              "\n",
              "  @keyframes spin {\n",
              "    0% {\n",
              "      border-color: transparent;\n",
              "      border-bottom-color: var(--fill-color);\n",
              "      border-left-color: var(--fill-color);\n",
              "    }\n",
              "    20% {\n",
              "      border-color: transparent;\n",
              "      border-left-color: var(--fill-color);\n",
              "      border-top-color: var(--fill-color);\n",
              "    }\n",
              "    30% {\n",
              "      border-color: transparent;\n",
              "      border-left-color: var(--fill-color);\n",
              "      border-top-color: var(--fill-color);\n",
              "      border-right-color: var(--fill-color);\n",
              "    }\n",
              "    40% {\n",
              "      border-color: transparent;\n",
              "      border-right-color: var(--fill-color);\n",
              "      border-top-color: var(--fill-color);\n",
              "    }\n",
              "    60% {\n",
              "      border-color: transparent;\n",
              "      border-right-color: var(--fill-color);\n",
              "    }\n",
              "    80% {\n",
              "      border-color: transparent;\n",
              "      border-right-color: var(--fill-color);\n",
              "      border-bottom-color: var(--fill-color);\n",
              "    }\n",
              "    90% {\n",
              "      border-color: transparent;\n",
              "      border-bottom-color: var(--fill-color);\n",
              "    }\n",
              "  }\n",
              "</style>\n",
              "\n",
              "  <script>\n",
              "    async function quickchart(key) {\n",
              "      const quickchartButtonEl =\n",
              "        document.querySelector('#' + key + ' button');\n",
              "      quickchartButtonEl.disabled = true;  // To prevent multiple clicks.\n",
              "      quickchartButtonEl.classList.add('colab-df-spinner');\n",
              "      try {\n",
              "        const charts = await google.colab.kernel.invokeFunction(\n",
              "            'suggestCharts', [key], {});\n",
              "      } catch (error) {\n",
              "        console.error('Error during call to suggestCharts:', error);\n",
              "      }\n",
              "      quickchartButtonEl.classList.remove('colab-df-spinner');\n",
              "      quickchartButtonEl.classList.add('colab-df-quickchart-complete');\n",
              "    }\n",
              "    (() => {\n",
              "      let quickchartButtonEl =\n",
              "        document.querySelector('#df-2d946bcc-8b91-4e43-b6bc-b65ef24a9333 button');\n",
              "      quickchartButtonEl.style.display =\n",
              "        google.colab.kernel.accessAllowed ? 'block' : 'none';\n",
              "    })();\n",
              "  </script>\n",
              "</div>\n",
              "    </div>\n",
              "  </div>\n"
            ]
          },
          "metadata": {},
          "execution_count": 13
        }
      ],
      "source": [
        "basic_stats"
      ]
    },
    {
      "cell_type": "markdown",
      "metadata": {
        "id": "Wjpz8GGUa3MR"
      },
      "source": [
        "Look at the quantity minimum! `-80995.000000`\n",
        "\n",
        "Let's take a look at the dataset again to figure out what's going on!"
      ]
    },
    {
      "cell_type": "code",
      "execution_count": 14,
      "metadata": {
        "id": "6i8bLnxEa3MR",
        "colab": {
          "base_uri": "https://localhost:8080/",
          "height": 428
        },
        "outputId": "adcbf9bb-d9be-4b50-f68c-465d64a11dfe"
      },
      "outputs": [
        {
          "output_type": "execute_result",
          "data": {
            "text/plain": [
              "    InvoiceNo StockCode                       Description  Quantity  \\\n",
              "141   C536379         D                          Discount        -1   \n",
              "154   C536383    35004C   SET OF 3 COLOURED  FLYING DUCKS        -1   \n",
              "235   C536391     22556    PLASTERS IN TIN CIRCUS PARADE        -12   \n",
              "236   C536391     21984  PACK OF 12 PINK PAISLEY TISSUES        -24   \n",
              "237   C536391     21983  PACK OF 12 BLUE PAISLEY TISSUES        -24   \n",
              "\n",
              "            InvoiceDate  UnitPrice  CustomerID         Country  Year  Month  \\\n",
              "141 2021-12-01 09:41:00      27.50     14527.0  United Kingdom  2021     12   \n",
              "154 2021-12-01 09:49:00       4.65     15311.0  United Kingdom  2021     12   \n",
              "235 2021-12-01 10:24:00       1.65     17548.0  United Kingdom  2021     12   \n",
              "236 2021-12-01 10:24:00       0.29     17548.0  United Kingdom  2021     12   \n",
              "237 2021-12-01 10:24:00       0.29     17548.0  United Kingdom  2021     12   \n",
              "\n",
              "     Day  Quarter  \n",
              "141    1        4  \n",
              "154    1        4  \n",
              "235    1        4  \n",
              "236    1        4  \n",
              "237    1        4  "
            ],
            "text/html": [
              "\n",
              "  <div id=\"df-6dffde87-8578-48e9-8feb-80cfbc9ebe6f\" class=\"colab-df-container\">\n",
              "    <div>\n",
              "<style scoped>\n",
              "    .dataframe tbody tr th:only-of-type {\n",
              "        vertical-align: middle;\n",
              "    }\n",
              "\n",
              "    .dataframe tbody tr th {\n",
              "        vertical-align: top;\n",
              "    }\n",
              "\n",
              "    .dataframe thead th {\n",
              "        text-align: right;\n",
              "    }\n",
              "</style>\n",
              "<table border=\"1\" class=\"dataframe\">\n",
              "  <thead>\n",
              "    <tr style=\"text-align: right;\">\n",
              "      <th></th>\n",
              "      <th>InvoiceNo</th>\n",
              "      <th>StockCode</th>\n",
              "      <th>Description</th>\n",
              "      <th>Quantity</th>\n",
              "      <th>InvoiceDate</th>\n",
              "      <th>UnitPrice</th>\n",
              "      <th>CustomerID</th>\n",
              "      <th>Country</th>\n",
              "      <th>Year</th>\n",
              "      <th>Month</th>\n",
              "      <th>Day</th>\n",
              "      <th>Quarter</th>\n",
              "    </tr>\n",
              "  </thead>\n",
              "  <tbody>\n",
              "    <tr>\n",
              "      <th>141</th>\n",
              "      <td>C536379</td>\n",
              "      <td>D</td>\n",
              "      <td>Discount</td>\n",
              "      <td>-1</td>\n",
              "      <td>2021-12-01 09:41:00</td>\n",
              "      <td>27.50</td>\n",
              "      <td>14527.0</td>\n",
              "      <td>United Kingdom</td>\n",
              "      <td>2021</td>\n",
              "      <td>12</td>\n",
              "      <td>1</td>\n",
              "      <td>4</td>\n",
              "    </tr>\n",
              "    <tr>\n",
              "      <th>154</th>\n",
              "      <td>C536383</td>\n",
              "      <td>35004C</td>\n",
              "      <td>SET OF 3 COLOURED  FLYING DUCKS</td>\n",
              "      <td>-1</td>\n",
              "      <td>2021-12-01 09:49:00</td>\n",
              "      <td>4.65</td>\n",
              "      <td>15311.0</td>\n",
              "      <td>United Kingdom</td>\n",
              "      <td>2021</td>\n",
              "      <td>12</td>\n",
              "      <td>1</td>\n",
              "      <td>4</td>\n",
              "    </tr>\n",
              "    <tr>\n",
              "      <th>235</th>\n",
              "      <td>C536391</td>\n",
              "      <td>22556</td>\n",
              "      <td>PLASTERS IN TIN CIRCUS PARADE</td>\n",
              "      <td>-12</td>\n",
              "      <td>2021-12-01 10:24:00</td>\n",
              "      <td>1.65</td>\n",
              "      <td>17548.0</td>\n",
              "      <td>United Kingdom</td>\n",
              "      <td>2021</td>\n",
              "      <td>12</td>\n",
              "      <td>1</td>\n",
              "      <td>4</td>\n",
              "    </tr>\n",
              "    <tr>\n",
              "      <th>236</th>\n",
              "      <td>C536391</td>\n",
              "      <td>21984</td>\n",
              "      <td>PACK OF 12 PINK PAISLEY TISSUES</td>\n",
              "      <td>-24</td>\n",
              "      <td>2021-12-01 10:24:00</td>\n",
              "      <td>0.29</td>\n",
              "      <td>17548.0</td>\n",
              "      <td>United Kingdom</td>\n",
              "      <td>2021</td>\n",
              "      <td>12</td>\n",
              "      <td>1</td>\n",
              "      <td>4</td>\n",
              "    </tr>\n",
              "    <tr>\n",
              "      <th>237</th>\n",
              "      <td>C536391</td>\n",
              "      <td>21983</td>\n",
              "      <td>PACK OF 12 BLUE PAISLEY TISSUES</td>\n",
              "      <td>-24</td>\n",
              "      <td>2021-12-01 10:24:00</td>\n",
              "      <td>0.29</td>\n",
              "      <td>17548.0</td>\n",
              "      <td>United Kingdom</td>\n",
              "      <td>2021</td>\n",
              "      <td>12</td>\n",
              "      <td>1</td>\n",
              "      <td>4</td>\n",
              "    </tr>\n",
              "  </tbody>\n",
              "</table>\n",
              "</div>\n",
              "    <div class=\"colab-df-buttons\">\n",
              "\n",
              "  <div class=\"colab-df-container\">\n",
              "    <button class=\"colab-df-convert\" onclick=\"convertToInteractive('df-6dffde87-8578-48e9-8feb-80cfbc9ebe6f')\"\n",
              "            title=\"Convert this dataframe to an interactive table.\"\n",
              "            style=\"display:none;\">\n",
              "\n",
              "  <svg xmlns=\"http://www.w3.org/2000/svg\" height=\"24px\" viewBox=\"0 -960 960 960\">\n",
              "    <path d=\"M120-120v-720h720v720H120Zm60-500h600v-160H180v160Zm220 220h160v-160H400v160Zm0 220h160v-160H400v160ZM180-400h160v-160H180v160Zm440 0h160v-160H620v160ZM180-180h160v-160H180v160Zm440 0h160v-160H620v160Z\"/>\n",
              "  </svg>\n",
              "    </button>\n",
              "\n",
              "  <style>\n",
              "    .colab-df-container {\n",
              "      display:flex;\n",
              "      gap: 12px;\n",
              "    }\n",
              "\n",
              "    .colab-df-convert {\n",
              "      background-color: #E8F0FE;\n",
              "      border: none;\n",
              "      border-radius: 50%;\n",
              "      cursor: pointer;\n",
              "      display: none;\n",
              "      fill: #1967D2;\n",
              "      height: 32px;\n",
              "      padding: 0 0 0 0;\n",
              "      width: 32px;\n",
              "    }\n",
              "\n",
              "    .colab-df-convert:hover {\n",
              "      background-color: #E2EBFA;\n",
              "      box-shadow: 0px 1px 2px rgba(60, 64, 67, 0.3), 0px 1px 3px 1px rgba(60, 64, 67, 0.15);\n",
              "      fill: #174EA6;\n",
              "    }\n",
              "\n",
              "    .colab-df-buttons div {\n",
              "      margin-bottom: 4px;\n",
              "    }\n",
              "\n",
              "    [theme=dark] .colab-df-convert {\n",
              "      background-color: #3B4455;\n",
              "      fill: #D2E3FC;\n",
              "    }\n",
              "\n",
              "    [theme=dark] .colab-df-convert:hover {\n",
              "      background-color: #434B5C;\n",
              "      box-shadow: 0px 1px 3px 1px rgba(0, 0, 0, 0.15);\n",
              "      filter: drop-shadow(0px 1px 2px rgba(0, 0, 0, 0.3));\n",
              "      fill: #FFFFFF;\n",
              "    }\n",
              "  </style>\n",
              "\n",
              "    <script>\n",
              "      const buttonEl =\n",
              "        document.querySelector('#df-6dffde87-8578-48e9-8feb-80cfbc9ebe6f button.colab-df-convert');\n",
              "      buttonEl.style.display =\n",
              "        google.colab.kernel.accessAllowed ? 'block' : 'none';\n",
              "\n",
              "      async function convertToInteractive(key) {\n",
              "        const element = document.querySelector('#df-6dffde87-8578-48e9-8feb-80cfbc9ebe6f');\n",
              "        const dataTable =\n",
              "          await google.colab.kernel.invokeFunction('convertToInteractive',\n",
              "                                                    [key], {});\n",
              "        if (!dataTable) return;\n",
              "\n",
              "        const docLinkHtml = 'Like what you see? Visit the ' +\n",
              "          '<a target=\"_blank\" href=https://colab.research.google.com/notebooks/data_table.ipynb>data table notebook</a>'\n",
              "          + ' to learn more about interactive tables.';\n",
              "        element.innerHTML = '';\n",
              "        dataTable['output_type'] = 'display_data';\n",
              "        await google.colab.output.renderOutput(dataTable, element);\n",
              "        const docLink = document.createElement('div');\n",
              "        docLink.innerHTML = docLinkHtml;\n",
              "        element.appendChild(docLink);\n",
              "      }\n",
              "    </script>\n",
              "  </div>\n",
              "\n",
              "\n",
              "<div id=\"df-21a538b8-bfb9-456e-b47d-259114f374c4\">\n",
              "  <button class=\"colab-df-quickchart\" onclick=\"quickchart('df-21a538b8-bfb9-456e-b47d-259114f374c4')\"\n",
              "            title=\"Suggest charts.\"\n",
              "            style=\"display:none;\">\n",
              "\n",
              "<svg xmlns=\"http://www.w3.org/2000/svg\" height=\"24px\"viewBox=\"0 0 24 24\"\n",
              "     width=\"24px\">\n",
              "    <g>\n",
              "        <path d=\"M19 3H5c-1.1 0-2 .9-2 2v14c0 1.1.9 2 2 2h14c1.1 0 2-.9 2-2V5c0-1.1-.9-2-2-2zM9 17H7v-7h2v7zm4 0h-2V7h2v10zm4 0h-2v-4h2v4z\"/>\n",
              "    </g>\n",
              "</svg>\n",
              "  </button>\n",
              "\n",
              "<style>\n",
              "  .colab-df-quickchart {\n",
              "      --bg-color: #E8F0FE;\n",
              "      --fill-color: #1967D2;\n",
              "      --hover-bg-color: #E2EBFA;\n",
              "      --hover-fill-color: #174EA6;\n",
              "      --disabled-fill-color: #AAA;\n",
              "      --disabled-bg-color: #DDD;\n",
              "  }\n",
              "\n",
              "  [theme=dark] .colab-df-quickchart {\n",
              "      --bg-color: #3B4455;\n",
              "      --fill-color: #D2E3FC;\n",
              "      --hover-bg-color: #434B5C;\n",
              "      --hover-fill-color: #FFFFFF;\n",
              "      --disabled-bg-color: #3B4455;\n",
              "      --disabled-fill-color: #666;\n",
              "  }\n",
              "\n",
              "  .colab-df-quickchart {\n",
              "    background-color: var(--bg-color);\n",
              "    border: none;\n",
              "    border-radius: 50%;\n",
              "    cursor: pointer;\n",
              "    display: none;\n",
              "    fill: var(--fill-color);\n",
              "    height: 32px;\n",
              "    padding: 0;\n",
              "    width: 32px;\n",
              "  }\n",
              "\n",
              "  .colab-df-quickchart:hover {\n",
              "    background-color: var(--hover-bg-color);\n",
              "    box-shadow: 0 1px 2px rgba(60, 64, 67, 0.3), 0 1px 3px 1px rgba(60, 64, 67, 0.15);\n",
              "    fill: var(--button-hover-fill-color);\n",
              "  }\n",
              "\n",
              "  .colab-df-quickchart-complete:disabled,\n",
              "  .colab-df-quickchart-complete:disabled:hover {\n",
              "    background-color: var(--disabled-bg-color);\n",
              "    fill: var(--disabled-fill-color);\n",
              "    box-shadow: none;\n",
              "  }\n",
              "\n",
              "  .colab-df-spinner {\n",
              "    border: 2px solid var(--fill-color);\n",
              "    border-color: transparent;\n",
              "    border-bottom-color: var(--fill-color);\n",
              "    animation:\n",
              "      spin 1s steps(1) infinite;\n",
              "  }\n",
              "\n",
              "  @keyframes spin {\n",
              "    0% {\n",
              "      border-color: transparent;\n",
              "      border-bottom-color: var(--fill-color);\n",
              "      border-left-color: var(--fill-color);\n",
              "    }\n",
              "    20% {\n",
              "      border-color: transparent;\n",
              "      border-left-color: var(--fill-color);\n",
              "      border-top-color: var(--fill-color);\n",
              "    }\n",
              "    30% {\n",
              "      border-color: transparent;\n",
              "      border-left-color: var(--fill-color);\n",
              "      border-top-color: var(--fill-color);\n",
              "      border-right-color: var(--fill-color);\n",
              "    }\n",
              "    40% {\n",
              "      border-color: transparent;\n",
              "      border-right-color: var(--fill-color);\n",
              "      border-top-color: var(--fill-color);\n",
              "    }\n",
              "    60% {\n",
              "      border-color: transparent;\n",
              "      border-right-color: var(--fill-color);\n",
              "    }\n",
              "    80% {\n",
              "      border-color: transparent;\n",
              "      border-right-color: var(--fill-color);\n",
              "      border-bottom-color: var(--fill-color);\n",
              "    }\n",
              "    90% {\n",
              "      border-color: transparent;\n",
              "      border-bottom-color: var(--fill-color);\n",
              "    }\n",
              "  }\n",
              "</style>\n",
              "\n",
              "  <script>\n",
              "    async function quickchart(key) {\n",
              "      const quickchartButtonEl =\n",
              "        document.querySelector('#' + key + ' button');\n",
              "      quickchartButtonEl.disabled = true;  // To prevent multiple clicks.\n",
              "      quickchartButtonEl.classList.add('colab-df-spinner');\n",
              "      try {\n",
              "        const charts = await google.colab.kernel.invokeFunction(\n",
              "            'suggestCharts', [key], {});\n",
              "      } catch (error) {\n",
              "        console.error('Error during call to suggestCharts:', error);\n",
              "      }\n",
              "      quickchartButtonEl.classList.remove('colab-df-spinner');\n",
              "      quickchartButtonEl.classList.add('colab-df-quickchart-complete');\n",
              "    }\n",
              "    (() => {\n",
              "      let quickchartButtonEl =\n",
              "        document.querySelector('#df-21a538b8-bfb9-456e-b47d-259114f374c4 button');\n",
              "      quickchartButtonEl.style.display =\n",
              "        google.colab.kernel.accessAllowed ? 'block' : 'none';\n",
              "    })();\n",
              "  </script>\n",
              "</div>\n",
              "    </div>\n",
              "  </div>\n"
            ]
          },
          "metadata": {},
          "execution_count": 14
        }
      ],
      "source": [
        "# Review records where the quantity is less than 0\n",
        "data[data['Quantity'] < 0].head()"
      ]
    },
    {
      "cell_type": "markdown",
      "metadata": {
        "id": "TXj3yIVOa3MR"
      },
      "source": [
        "After closer examination, we can see that both the quantities and pricing are negative. We can also see that the Invoice Numbers are prepended with a `C`.\n",
        "\n",
        "A quick glance at the data docs tells us that \"InvoiceNo: Invoice number. Nominal, a 6-digit integral number uniquely assigned to each transaction. If this code starts with letter 'c', it indicates a cancellation.\""
      ]
    },
    {
      "cell_type": "code",
      "execution_count": 15,
      "metadata": {
        "id": "NRCriMLVa3MR",
        "colab": {
          "base_uri": "https://localhost:8080/"
        },
        "outputId": "764f436f-3103-470a-ac34-667e6149f56d"
      },
      "outputs": [
        {
          "output_type": "stream",
          "name": "stderr",
          "text": [
            "<ipython-input-15-ffee889b80c9>:7: SettingWithCopyWarning: \n",
            "A value is trying to be set on a copy of a slice from a DataFrame.\n",
            "Try using .loc[row_indexer,col_indexer] = value instead\n",
            "\n",
            "See the caveats in the documentation: https://pandas.pydata.org/pandas-docs/stable/user_guide/indexing.html#returning-a-view-versus-a-copy\n",
            "  cancelled_invoices['OriginalInvoiceNo'] = cancelled_invoices['InvoiceNo'].str.replace('C', '')\n"
          ]
        }
      ],
      "source": [
        "# Create a function to remove cancelled orders\n",
        "def remove_cancelled_orders(data):\n",
        "    # Create a subset of the data that only has cancelled invoices\n",
        "    cancelled_invoices = data[data['InvoiceNo'].str.contains('C')]\n",
        "\n",
        "    # Create a new column that contains the original invoice number\n",
        "    cancelled_invoices['OriginalInvoiceNo'] = cancelled_invoices['InvoiceNo'].str.replace('C', '')\n",
        "\n",
        "    # Filter the dataset to only include invoices that haven't been cancelled\n",
        "    data = data[~data['InvoiceNo'].str.contains('C')]\n",
        "\n",
        "    # Filter the data by the original invoice number on the cancelled invoices\n",
        "    return data[~data['InvoiceNo'].isin(cancelled_invoices['OriginalInvoiceNo'])]\n",
        "\n",
        "data = remove_cancelled_orders(data)\n",
        "\n",
        "data.head()\n",
        "\n",
        "# Review the data again to ensure that the cancelled orders have been removed\n",
        "assert data[data['InvoiceNo'].str.contains('C')].shape[0] == 0\n"
      ]
    },
    {
      "cell_type": "markdown",
      "metadata": {
        "id": "KAWFQG0fa3MR"
      },
      "source": [
        "Great! That's looking much better! Now the minimum quantity is 1.\n",
        "\n",
        "On the job, we'd definitely want to dig into what products get returned and at what rate and factor returns into total sales. For the sake of expediency in this project, we're going to ignore cancellations and returns."
      ]
    },
    {
      "cell_type": "markdown",
      "metadata": {
        "id": "ZJRfHKHhhz7D"
      },
      "source": [
        "### Create Useful Aggregations"
      ]
    },
    {
      "cell_type": "code",
      "execution_count": 16,
      "metadata": {
        "id": "AHEYqVuRhxEZ"
      },
      "outputs": [],
      "source": [
        "# Create a column that represents the total price of each item\n",
        "data['TotalPrice'] = data['Quantity'] * data['UnitPrice']"
      ]
    },
    {
      "cell_type": "code",
      "execution_count": 17,
      "metadata": {
        "id": "gq_Vww8oa3MS",
        "colab": {
          "base_uri": "https://localhost:8080/",
          "height": 235
        },
        "outputId": "daed6139-35f7-4c94-bb7b-fafb6316d96e"
      },
      "outputs": [
        {
          "output_type": "execute_result",
          "data": {
            "text/plain": [
              "           TotalPrice\n",
              "InvoiceNo            \n",
              "536365         139.12\n",
              "536366          22.20\n",
              "536367         278.73\n",
              "536368          70.05\n",
              "536369          17.85"
            ],
            "text/html": [
              "\n",
              "  <div id=\"df-1093d016-d5dd-4f51-9d24-13f1990fba5a\" class=\"colab-df-container\">\n",
              "    <div>\n",
              "<style scoped>\n",
              "    .dataframe tbody tr th:only-of-type {\n",
              "        vertical-align: middle;\n",
              "    }\n",
              "\n",
              "    .dataframe tbody tr th {\n",
              "        vertical-align: top;\n",
              "    }\n",
              "\n",
              "    .dataframe thead th {\n",
              "        text-align: right;\n",
              "    }\n",
              "</style>\n",
              "<table border=\"1\" class=\"dataframe\">\n",
              "  <thead>\n",
              "    <tr style=\"text-align: right;\">\n",
              "      <th></th>\n",
              "      <th>TotalPrice</th>\n",
              "    </tr>\n",
              "    <tr>\n",
              "      <th>InvoiceNo</th>\n",
              "      <th></th>\n",
              "    </tr>\n",
              "  </thead>\n",
              "  <tbody>\n",
              "    <tr>\n",
              "      <th>536365</th>\n",
              "      <td>139.12</td>\n",
              "    </tr>\n",
              "    <tr>\n",
              "      <th>536366</th>\n",
              "      <td>22.20</td>\n",
              "    </tr>\n",
              "    <tr>\n",
              "      <th>536367</th>\n",
              "      <td>278.73</td>\n",
              "    </tr>\n",
              "    <tr>\n",
              "      <th>536368</th>\n",
              "      <td>70.05</td>\n",
              "    </tr>\n",
              "    <tr>\n",
              "      <th>536369</th>\n",
              "      <td>17.85</td>\n",
              "    </tr>\n",
              "  </tbody>\n",
              "</table>\n",
              "</div>\n",
              "    <div class=\"colab-df-buttons\">\n",
              "\n",
              "  <div class=\"colab-df-container\">\n",
              "    <button class=\"colab-df-convert\" onclick=\"convertToInteractive('df-1093d016-d5dd-4f51-9d24-13f1990fba5a')\"\n",
              "            title=\"Convert this dataframe to an interactive table.\"\n",
              "            style=\"display:none;\">\n",
              "\n",
              "  <svg xmlns=\"http://www.w3.org/2000/svg\" height=\"24px\" viewBox=\"0 -960 960 960\">\n",
              "    <path d=\"M120-120v-720h720v720H120Zm60-500h600v-160H180v160Zm220 220h160v-160H400v160Zm0 220h160v-160H400v160ZM180-400h160v-160H180v160Zm440 0h160v-160H620v160ZM180-180h160v-160H180v160Zm440 0h160v-160H620v160Z\"/>\n",
              "  </svg>\n",
              "    </button>\n",
              "\n",
              "  <style>\n",
              "    .colab-df-container {\n",
              "      display:flex;\n",
              "      gap: 12px;\n",
              "    }\n",
              "\n",
              "    .colab-df-convert {\n",
              "      background-color: #E8F0FE;\n",
              "      border: none;\n",
              "      border-radius: 50%;\n",
              "      cursor: pointer;\n",
              "      display: none;\n",
              "      fill: #1967D2;\n",
              "      height: 32px;\n",
              "      padding: 0 0 0 0;\n",
              "      width: 32px;\n",
              "    }\n",
              "\n",
              "    .colab-df-convert:hover {\n",
              "      background-color: #E2EBFA;\n",
              "      box-shadow: 0px 1px 2px rgba(60, 64, 67, 0.3), 0px 1px 3px 1px rgba(60, 64, 67, 0.15);\n",
              "      fill: #174EA6;\n",
              "    }\n",
              "\n",
              "    .colab-df-buttons div {\n",
              "      margin-bottom: 4px;\n",
              "    }\n",
              "\n",
              "    [theme=dark] .colab-df-convert {\n",
              "      background-color: #3B4455;\n",
              "      fill: #D2E3FC;\n",
              "    }\n",
              "\n",
              "    [theme=dark] .colab-df-convert:hover {\n",
              "      background-color: #434B5C;\n",
              "      box-shadow: 0px 1px 3px 1px rgba(0, 0, 0, 0.15);\n",
              "      filter: drop-shadow(0px 1px 2px rgba(0, 0, 0, 0.3));\n",
              "      fill: #FFFFFF;\n",
              "    }\n",
              "  </style>\n",
              "\n",
              "    <script>\n",
              "      const buttonEl =\n",
              "        document.querySelector('#df-1093d016-d5dd-4f51-9d24-13f1990fba5a button.colab-df-convert');\n",
              "      buttonEl.style.display =\n",
              "        google.colab.kernel.accessAllowed ? 'block' : 'none';\n",
              "\n",
              "      async function convertToInteractive(key) {\n",
              "        const element = document.querySelector('#df-1093d016-d5dd-4f51-9d24-13f1990fba5a');\n",
              "        const dataTable =\n",
              "          await google.colab.kernel.invokeFunction('convertToInteractive',\n",
              "                                                    [key], {});\n",
              "        if (!dataTable) return;\n",
              "\n",
              "        const docLinkHtml = 'Like what you see? Visit the ' +\n",
              "          '<a target=\"_blank\" href=https://colab.research.google.com/notebooks/data_table.ipynb>data table notebook</a>'\n",
              "          + ' to learn more about interactive tables.';\n",
              "        element.innerHTML = '';\n",
              "        dataTable['output_type'] = 'display_data';\n",
              "        await google.colab.output.renderOutput(dataTable, element);\n",
              "        const docLink = document.createElement('div');\n",
              "        docLink.innerHTML = docLinkHtml;\n",
              "        element.appendChild(docLink);\n",
              "      }\n",
              "    </script>\n",
              "  </div>\n",
              "\n",
              "\n",
              "<div id=\"df-6e02a005-cb0a-4b1c-a600-b48f62b09e5e\">\n",
              "  <button class=\"colab-df-quickchart\" onclick=\"quickchart('df-6e02a005-cb0a-4b1c-a600-b48f62b09e5e')\"\n",
              "            title=\"Suggest charts.\"\n",
              "            style=\"display:none;\">\n",
              "\n",
              "<svg xmlns=\"http://www.w3.org/2000/svg\" height=\"24px\"viewBox=\"0 0 24 24\"\n",
              "     width=\"24px\">\n",
              "    <g>\n",
              "        <path d=\"M19 3H5c-1.1 0-2 .9-2 2v14c0 1.1.9 2 2 2h14c1.1 0 2-.9 2-2V5c0-1.1-.9-2-2-2zM9 17H7v-7h2v7zm4 0h-2V7h2v10zm4 0h-2v-4h2v4z\"/>\n",
              "    </g>\n",
              "</svg>\n",
              "  </button>\n",
              "\n",
              "<style>\n",
              "  .colab-df-quickchart {\n",
              "      --bg-color: #E8F0FE;\n",
              "      --fill-color: #1967D2;\n",
              "      --hover-bg-color: #E2EBFA;\n",
              "      --hover-fill-color: #174EA6;\n",
              "      --disabled-fill-color: #AAA;\n",
              "      --disabled-bg-color: #DDD;\n",
              "  }\n",
              "\n",
              "  [theme=dark] .colab-df-quickchart {\n",
              "      --bg-color: #3B4455;\n",
              "      --fill-color: #D2E3FC;\n",
              "      --hover-bg-color: #434B5C;\n",
              "      --hover-fill-color: #FFFFFF;\n",
              "      --disabled-bg-color: #3B4455;\n",
              "      --disabled-fill-color: #666;\n",
              "  }\n",
              "\n",
              "  .colab-df-quickchart {\n",
              "    background-color: var(--bg-color);\n",
              "    border: none;\n",
              "    border-radius: 50%;\n",
              "    cursor: pointer;\n",
              "    display: none;\n",
              "    fill: var(--fill-color);\n",
              "    height: 32px;\n",
              "    padding: 0;\n",
              "    width: 32px;\n",
              "  }\n",
              "\n",
              "  .colab-df-quickchart:hover {\n",
              "    background-color: var(--hover-bg-color);\n",
              "    box-shadow: 0 1px 2px rgba(60, 64, 67, 0.3), 0 1px 3px 1px rgba(60, 64, 67, 0.15);\n",
              "    fill: var(--button-hover-fill-color);\n",
              "  }\n",
              "\n",
              "  .colab-df-quickchart-complete:disabled,\n",
              "  .colab-df-quickchart-complete:disabled:hover {\n",
              "    background-color: var(--disabled-bg-color);\n",
              "    fill: var(--disabled-fill-color);\n",
              "    box-shadow: none;\n",
              "  }\n",
              "\n",
              "  .colab-df-spinner {\n",
              "    border: 2px solid var(--fill-color);\n",
              "    border-color: transparent;\n",
              "    border-bottom-color: var(--fill-color);\n",
              "    animation:\n",
              "      spin 1s steps(1) infinite;\n",
              "  }\n",
              "\n",
              "  @keyframes spin {\n",
              "    0% {\n",
              "      border-color: transparent;\n",
              "      border-bottom-color: var(--fill-color);\n",
              "      border-left-color: var(--fill-color);\n",
              "    }\n",
              "    20% {\n",
              "      border-color: transparent;\n",
              "      border-left-color: var(--fill-color);\n",
              "      border-top-color: var(--fill-color);\n",
              "    }\n",
              "    30% {\n",
              "      border-color: transparent;\n",
              "      border-left-color: var(--fill-color);\n",
              "      border-top-color: var(--fill-color);\n",
              "      border-right-color: var(--fill-color);\n",
              "    }\n",
              "    40% {\n",
              "      border-color: transparent;\n",
              "      border-right-color: var(--fill-color);\n",
              "      border-top-color: var(--fill-color);\n",
              "    }\n",
              "    60% {\n",
              "      border-color: transparent;\n",
              "      border-right-color: var(--fill-color);\n",
              "    }\n",
              "    80% {\n",
              "      border-color: transparent;\n",
              "      border-right-color: var(--fill-color);\n",
              "      border-bottom-color: var(--fill-color);\n",
              "    }\n",
              "    90% {\n",
              "      border-color: transparent;\n",
              "      border-bottom-color: var(--fill-color);\n",
              "    }\n",
              "  }\n",
              "</style>\n",
              "\n",
              "  <script>\n",
              "    async function quickchart(key) {\n",
              "      const quickchartButtonEl =\n",
              "        document.querySelector('#' + key + ' button');\n",
              "      quickchartButtonEl.disabled = true;  // To prevent multiple clicks.\n",
              "      quickchartButtonEl.classList.add('colab-df-spinner');\n",
              "      try {\n",
              "        const charts = await google.colab.kernel.invokeFunction(\n",
              "            'suggestCharts', [key], {});\n",
              "      } catch (error) {\n",
              "        console.error('Error during call to suggestCharts:', error);\n",
              "      }\n",
              "      quickchartButtonEl.classList.remove('colab-df-spinner');\n",
              "      quickchartButtonEl.classList.add('colab-df-quickchart-complete');\n",
              "    }\n",
              "    (() => {\n",
              "      let quickchartButtonEl =\n",
              "        document.querySelector('#df-6e02a005-cb0a-4b1c-a600-b48f62b09e5e button');\n",
              "      quickchartButtonEl.style.display =\n",
              "        google.colab.kernel.accessAllowed ? 'block' : 'none';\n",
              "    })();\n",
              "  </script>\n",
              "</div>\n",
              "    </div>\n",
              "  </div>\n"
            ]
          },
          "metadata": {},
          "execution_count": 17
        }
      ],
      "source": [
        "# Create a dataframe that represents the total value of each order\n",
        "total_value_per_order = pd.DataFrame(data.groupby('InvoiceNo')['TotalPrice'].sum())\n",
        "total_value_per_order.head()"
      ]
    },
    {
      "cell_type": "markdown",
      "metadata": {
        "id": "pgl0UBVra3MS"
      },
      "source": [
        "### Measures of Central Tendency"
      ]
    },
    {
      "cell_type": "markdown",
      "metadata": {
        "id": "OoAFdtPCa3MS"
      },
      "source": [
        "#### Mean"
      ]
    },
    {
      "cell_type": "code",
      "execution_count": 18,
      "metadata": {
        "id": "2QZjoqe0a3MS",
        "colab": {
          "base_uri": "https://localhost:8080/"
        },
        "outputId": "b900e7ea-09f9-4c3d-f3f3-97772afc0212"
      },
      "outputs": [
        {
          "output_type": "execute_result",
          "data": {
            "text/plain": [
              "480.7621873111782"
            ]
          },
          "metadata": {},
          "execution_count": 18
        }
      ],
      "source": [
        "# Calculate the average total value of each order\n",
        "total_value_per_order['TotalPrice'].mean()"
      ]
    },
    {
      "cell_type": "markdown",
      "metadata": {
        "id": "nx26MoOna3MS"
      },
      "source": [
        "#### Median"
      ]
    },
    {
      "cell_type": "code",
      "execution_count": 19,
      "metadata": {
        "id": "jub5TxXya3MS",
        "colab": {
          "base_uri": "https://localhost:8080/"
        },
        "outputId": "6cd937dd-6ef0-4e1a-e9aa-7b2bf1d76f6d"
      },
      "outputs": [
        {
          "output_type": "execute_result",
          "data": {
            "text/plain": [
              "303.02"
            ]
          },
          "metadata": {},
          "execution_count": 19
        }
      ],
      "source": [
        "# Calculate the median total value of each order\n",
        "total_value_per_order['TotalPrice'].median()"
      ]
    },
    {
      "cell_type": "markdown",
      "metadata": {
        "id": "72zYH1Rza3MT"
      },
      "source": [
        "Since there's a sizeable difference between the mean and the median, we know the data is skewed. This means we should probably display the median on the dashboard and also visualize the data distribution to highlight the skew."
      ]
    },
    {
      "cell_type": "markdown",
      "metadata": {
        "id": "LcgpCeRha3MT"
      },
      "source": [
        "#### Inter-Quartile Range\n",
        "Use Interquartile range to help you understand the central tendencies and range of the data."
      ]
    },
    {
      "cell_type": "code",
      "execution_count": 20,
      "metadata": {
        "id": "eXRC12qsa3MT",
        "colab": {
          "base_uri": "https://localhost:8080/",
          "height": 449
        },
        "outputId": "ddacb6b8-7c7e-417b-851a-3b9273255666"
      },
      "outputs": [
        {
          "output_type": "execute_result",
          "data": {
            "text/plain": [
              "<Axes: >"
            ]
          },
          "metadata": {},
          "execution_count": 20
        },
        {
          "output_type": "display_data",
          "data": {
            "text/plain": [
              "<Figure size 640x480 with 1 Axes>"
            ],
            "image/png": "[encoded data removed]"
          },
          "metadata": {}
        }
      ],
      "source": [
        "# visualize the interquartile range of the total price as a boxplot\n",
        "sns.boxplot(total_value_per_order['TotalPrice'])"
      ]
    },
    {
      "cell_type": "code",
      "execution_count": 21,
      "metadata": {
        "id": "-BY20_i0a3MT"
      },
      "outputs": [],
      "source": [
        "# Remove outliers that are more than 1.5 times the interquartile range\n",
        "q1 = total_value_per_order['TotalPrice'].quantile(0.25)\n",
        "q3 = total_value_per_order['TotalPrice'].quantile(0.75)\n",
        "iqr = q3 - q1\n",
        "total_value_per_order = total_value_per_order[(total_value_per_order['TotalPrice'] >= q1 - 1.5 * iqr) & (total_value_per_order['TotalPrice'] <= q3 + 1.5 * iqr)]"
      ]
    },
    {
      "cell_type": "code",
      "execution_count": 22,
      "metadata": {
        "id": "W0FhsOA2a3MT",
        "colab": {
          "base_uri": "https://localhost:8080/",
          "height": 447
        },
        "outputId": "de003149-7636-4889-e513-8ac8b33b859e"
      },
      "outputs": [
        {
          "output_type": "execute_result",
          "data": {
            "text/plain": [
              "<Axes: >"
            ]
          },
          "metadata": {},
          "execution_count": 22
        },
        {
          "output_type": "display_data",
          "data": {
            "text/plain": [
              "<Figure size 640x480 with 1 Axes>"
            ],
            "image/png": "[encoded data removed]"
          },
          "metadata": {}
        }
      ],
      "source": [
        "# Check the boxplot again\n",
        "sns.boxplot(total_value_per_order['TotalPrice'])"
      ]
    },
    {
      "cell_type": "code",
      "source": [
        "# Reset the index to make it easier to filter on InvoiceNo\n",
        "total_value_per_order = total_value_per_order.reset_index(level=0)"
      ],
      "metadata": {
        "id": "Kpn8DIriMi4I"
      },
      "execution_count": 23,
      "outputs": []
    },
    {
      "cell_type": "code",
      "source": [
        "# Filter the data by the dataframe where we've removed outliers\n",
        "data = data[data['InvoiceNo'].isin(total_value_per_order['InvoiceNo'])]\n",
        "data.head()"
      ],
      "metadata": {
        "id": "SC0BqDtbMkNe",
        "colab": {
          "base_uri": "https://localhost:8080/",
          "height": 496
        },
        "outputId": "7b751bcd-a988-480b-e10d-9856d6eb1bd4"
      },
      "execution_count": 24,
      "outputs": [
        {
          "output_type": "execute_result",
          "data": {
            "text/plain": [
              "  InvoiceNo StockCode                          Description  Quantity  \\\n",
              "0    536365    85123A   WHITE HANGING HEART T-LIGHT HOLDER         6   \n",
              "1    536365     71053                  WHITE METAL LANTERN         6   \n",
              "2    536365    84406B       CREAM CUPID HEARTS COAT HANGER         8   \n",
              "3    536365    84029G  KNITTED UNION FLAG HOT WATER BOTTLE         6   \n",
              "4    536365    84029E       RED WOOLLY HOTTIE WHITE HEART.         6   \n",
              "\n",
              "          InvoiceDate  UnitPrice  CustomerID         Country  Year  Month  \\\n",
              "0 2021-12-01 08:26:00       2.55     17850.0  United Kingdom  2021     12   \n",
              "1 2021-12-01 08:26:00       3.39     17850.0  United Kingdom  2021     12   \n",
              "2 2021-12-01 08:26:00       2.75     17850.0  United Kingdom  2021     12   \n",
              "3 2021-12-01 08:26:00       3.39     17850.0  United Kingdom  2021     12   \n",
              "4 2021-12-01 08:26:00       3.39     17850.0  United Kingdom  2021     12   \n",
              "\n",
              "   Day  Quarter  TotalPrice  \n",
              "0    1        4       15.30  \n",
              "1    1        4       20.34  \n",
              "2    1        4       22.00  \n",
              "3    1        4       20.34  \n",
              "4    1        4       20.34  "
            ],
            "text/html": [
              "\n",
              "  <div id=\"df-8194b91a-e763-4fb9-9453-919b5035859b\" class=\"colab-df-container\">\n",
              "    <div>\n",
              "<style scoped>\n",
              "    .dataframe tbody tr th:only-of-type {\n",
              "        vertical-align: middle;\n",
              "    }\n",
              "\n",
              "    .dataframe tbody tr th {\n",
              "        vertical-align: top;\n",
              "    }\n",
              "\n",
              "    .dataframe thead th {\n",
              "        text-align: right;\n",
              "    }\n",
              "</style>\n",
              "<table border=\"1\" class=\"dataframe\">\n",
              "  <thead>\n",
              "    <tr style=\"text-align: right;\">\n",
              "      <th></th>\n",
              "      <th>InvoiceNo</th>\n",
              "      <th>StockCode</th>\n",
              "      <th>Description</th>\n",
              "      <th>Quantity</th>\n",
              "      <th>InvoiceDate</th>\n",
              "      <th>UnitPrice</th>\n",
              "      <th>CustomerID</th>\n",
              "      <th>Country</th>\n",
              "      <th>Year</th>\n",
              "      <th>Month</th>\n",
              "      <th>Day</th>\n",
              "      <th>Quarter</th>\n",
              "      <th>TotalPrice</th>\n",
              "    </tr>\n",
              "  </thead>\n",
              "  <tbody>\n",
              "    <tr>\n",
              "      <th>0</th>\n",
              "      <td>536365</td>\n",
              "      <td>85123A</td>\n",
              "      <td>WHITE HANGING HEART T-LIGHT HOLDER</td>\n",
              "      <td>6</td>\n",
              "      <td>2021-12-01 08:26:00</td>\n",
              "      <td>2.55</td>\n",
              "      <td>17850.0</td>\n",
              "      <td>United Kingdom</td>\n",
              "      <td>2021</td>\n",
              "      <td>12</td>\n",
              "      <td>1</td>\n",
              "      <td>4</td>\n",
              "      <td>15.30</td>\n",
              "    </tr>\n",
              "    <tr>\n",
              "      <th>1</th>\n",
              "      <td>536365</td>\n",
              "      <td>71053</td>\n",
              "      <td>WHITE METAL LANTERN</td>\n",
              "      <td>6</td>\n",
              "      <td>2021-12-01 08:26:00</td>\n",
              "      <td>3.39</td>\n",
              "      <td>17850.0</td>\n",
              "      <td>United Kingdom</td>\n",
              "      <td>2021</td>\n",
              "      <td>12</td>\n",
              "      <td>1</td>\n",
              "      <td>4</td>\n",
              "      <td>20.34</td>\n",
              "    </tr>\n",
              "    <tr>\n",
              "      <th>2</th>\n",
              "      <td>536365</td>\n",
              "      <td>84406B</td>\n",
              "      <td>CREAM CUPID HEARTS COAT HANGER</td>\n",
              "      <td>8</td>\n",
              "      <td>2021-12-01 08:26:00</td>\n",
              "      <td>2.75</td>\n",
              "      <td>17850.0</td>\n",
              "      <td>United Kingdom</td>\n",
              "      <td>2021</td>\n",
              "      <td>12</td>\n",
              "      <td>1</td>\n",
              "      <td>4</td>\n",
              "      <td>22.00</td>\n",
              "    </tr>\n",
              "    <tr>\n",
              "      <th>3</th>\n",
              "      <td>536365</td>\n",
              "      <td>84029G</td>\n",
              "      <td>KNITTED UNION FLAG HOT WATER BOTTLE</td>\n",
              "      <td>6</td>\n",
              "      <td>2021-12-01 08:26:00</td>\n",
              "      <td>3.39</td>\n",
              "      <td>17850.0</td>\n",
              "      <td>United Kingdom</td>\n",
              "      <td>2021</td>\n",
              "      <td>12</td>\n",
              "      <td>1</td>\n",
              "      <td>4</td>\n",
              "      <td>20.34</td>\n",
              "    </tr>\n",
              "    <tr>\n",
              "      <th>4</th>\n",
              "      <td>536365</td>\n",
              "      <td>84029E</td>\n",
              "      <td>RED WOOLLY HOTTIE WHITE HEART.</td>\n",
              "      <td>6</td>\n",
              "      <td>2021-12-01 08:26:00</td>\n",
              "      <td>3.39</td>\n",
              "      <td>17850.0</td>\n",
              "      <td>United Kingdom</td>\n",
              "      <td>2021</td>\n",
              "      <td>12</td>\n",
              "      <td>1</td>\n",
              "      <td>4</td>\n",
              "      <td>20.34</td>\n",
              "    </tr>\n",
              "  </tbody>\n",
              "</table>\n",
              "</div>\n",
              "    <div class=\"colab-df-buttons\">\n",
              "\n",
              "  <div class=\"colab-df-container\">\n",
              "    <button class=\"colab-df-convert\" onclick=\"convertToInteractive('df-8194b91a-e763-4fb9-9453-919b5035859b')\"\n",
              "            title=\"Convert this dataframe to an interactive table.\"\n",
              "            style=\"display:none;\">\n",
              "\n",
              "  <svg xmlns=\"http://www.w3.org/2000/svg\" height=\"24px\" viewBox=\"0 -960 960 960\">\n",
              "    <path d=\"M120-120v-720h720v720H120Zm60-500h600v-160H180v160Zm220 220h160v-160H400v160Zm0 220h160v-160H400v160ZM180-400h160v-160H180v160Zm440 0h160v-160H620v160ZM180-180h160v-160H180v160Zm440 0h160v-160H620v160Z\"/>\n",
              "  </svg>\n",
              "    </button>\n",
              "\n",
              "  <style>\n",
              "    .colab-df-container {\n",
              "      display:flex;\n",
              "      gap: 12px;\n",
              "    }\n",
              "\n",
              "    .colab-df-convert {\n",
              "      background-color: #E8F0FE;\n",
              "      border: none;\n",
              "      border-radius: 50%;\n",
              "      cursor: pointer;\n",
              "      display: none;\n",
              "      fill: #1967D2;\n",
              "      height: 32px;\n",
              "      padding: 0 0 0 0;\n",
              "      width: 32px;\n",
              "    }\n",
              "\n",
              "    .colab-df-convert:hover {\n",
              "      background-color: #E2EBFA;\n",
              "      box-shadow: 0px 1px 2px rgba(60, 64, 67, 0.3), 0px 1px 3px 1px rgba(60, 64, 67, 0.15);\n",
              "      fill: #174EA6;\n",
              "    }\n",
              "\n",
              "    .colab-df-buttons div {\n",
              "      margin-bottom: 4px;\n",
              "    }\n",
              "\n",
              "    [theme=dark] .colab-df-convert {\n",
              "      background-color: #3B4455;\n",
              "      fill: #D2E3FC;\n",
              "    }\n",
              "\n",
              "    [theme=dark] .colab-df-convert:hover {\n",
              "      background-color: #434B5C;\n",
              "      box-shadow: 0px 1px 3px 1px rgba(0, 0, 0, 0.15);\n",
              "      filter: drop-shadow(0px 1px 2px rgba(0, 0, 0, 0.3));\n",
              "      fill: #FFFFFF;\n",
              "    }\n",
              "  </style>\n",
              "\n",
              "    <script>\n",
              "      const buttonEl =\n",
              "        document.querySelector('#df-8194b91a-e763-4fb9-9453-919b5035859b button.colab-df-convert');\n",
              "      buttonEl.style.display =\n",
              "        google.colab.kernel.accessAllowed ? 'block' : 'none';\n",
              "\n",
              "      async function convertToInteractive(key) {\n",
              "        const element = document.querySelector('#df-8194b91a-e763-4fb9-9453-919b5035859b');\n",
              "        const dataTable =\n",
              "          await google.colab.kernel.invokeFunction('convertToInteractive',\n",
              "                                                    [key], {});\n",
              "        if (!dataTable) return;\n",
              "\n",
              "        const docLinkHtml = 'Like what you see? Visit the ' +\n",
              "          '<a target=\"_blank\" href=https://colab.research.google.com/notebooks/data_table.ipynb>data table notebook</a>'\n",
              "          + ' to learn more about interactive tables.';\n",
              "        element.innerHTML = '';\n",
              "        dataTable['output_type'] = 'display_data';\n",
              "        await google.colab.output.renderOutput(dataTable, element);\n",
              "        const docLink = document.createElement('div');\n",
              "        docLink.innerHTML = docLinkHtml;\n",
              "        element.appendChild(docLink);\n",
              "      }\n",
              "    </script>\n",
              "  </div>\n",
              "\n",
              "\n",
              "<div id=\"df-c8883688-33d5-46bc-8229-e42880a9046e\">\n",
              "  <button class=\"colab-df-quickchart\" onclick=\"quickchart('df-c8883688-33d5-46bc-8229-e42880a9046e')\"\n",
              "            title=\"Suggest charts.\"\n",
              "            style=\"display:none;\">\n",
              "\n",
              "<svg xmlns=\"http://www.w3.org/2000/svg\" height=\"24px\"viewBox=\"0 0 24 24\"\n",
              "     width=\"24px\">\n",
              "    <g>\n",
              "        <path d=\"M19 3H5c-1.1 0-2 .9-2 2v14c0 1.1.9 2 2 2h14c1.1 0 2-.9 2-2V5c0-1.1-.9-2-2-2zM9 17H7v-7h2v7zm4 0h-2V7h2v10zm4 0h-2v-4h2v4z\"/>\n",
              "    </g>\n",
              "</svg>\n",
              "  </button>\n",
              "\n",
              "<style>\n",
              "  .colab-df-quickchart {\n",
              "      --bg-color: #E8F0FE;\n",
              "      --fill-color: #1967D2;\n",
              "      --hover-bg-color: #E2EBFA;\n",
              "      --hover-fill-color: #174EA6;\n",
              "      --disabled-fill-color: #AAA;\n",
              "      --disabled-bg-color: #DDD;\n",
              "  }\n",
              "\n",
              "  [theme=dark] .colab-df-quickchart {\n",
              "      --bg-color: #3B4455;\n",
              "      --fill-color: #D2E3FC;\n",
              "      --hover-bg-color: #434B5C;\n",
              "      --hover-fill-color: #FFFFFF;\n",
              "      --disabled-bg-color: #3B4455;\n",
              "      --disabled-fill-color: #666;\n",
              "  }\n",
              "\n",
              "  .colab-df-quickchart {\n",
              "    background-color: var(--bg-color);\n",
              "    border: none;\n",
              "    border-radius: 50%;\n",
              "    cursor: pointer;\n",
              "    display: none;\n",
              "    fill: var(--fill-color);\n",
              "    height: 32px;\n",
              "    padding: 0;\n",
              "    width: 32px;\n",
              "  }\n",
              "\n",
              "  .colab-df-quickchart:hover {\n",
              "    background-color: var(--hover-bg-color);\n",
              "    box-shadow: 0 1px 2px rgba(60, 64, 67, 0.3), 0 1px 3px 1px rgba(60, 64, 67, 0.15);\n",
              "    fill: var(--button-hover-fill-color);\n",
              "  }\n",
              "\n",
              "  .colab-df-quickchart-complete:disabled,\n",
              "  .colab-df-quickchart-complete:disabled:hover {\n",
              "    background-color: var(--disabled-bg-color);\n",
              "    fill: var(--disabled-fill-color);\n",
              "    box-shadow: none;\n",
              "  }\n",
              "\n",
              "  .colab-df-spinner {\n",
              "    border: 2px solid var(--fill-color);\n",
              "    border-color: transparent;\n",
              "    border-bottom-color: var(--fill-color);\n",
              "    animation:\n",
              "      spin 1s steps(1) infinite;\n",
              "  }\n",
              "\n",
              "  @keyframes spin {\n",
              "    0% {\n",
              "      border-color: transparent;\n",
              "      border-bottom-color: var(--fill-color);\n",
              "      border-left-color: var(--fill-color);\n",
              "    }\n",
              "    20% {\n",
              "      border-color: transparent;\n",
              "      border-left-color: var(--fill-color);\n",
              "      border-top-color: var(--fill-color);\n",
              "    }\n",
              "    30% {\n",
              "      border-color: transparent;\n",
              "      border-left-color: var(--fill-color);\n",
              "      border-top-color: var(--fill-color);\n",
              "      border-right-color: var(--fill-color);\n",
              "    }\n",
              "    40% {\n",
              "      border-color: transparent;\n",
              "      border-right-color: var(--fill-color);\n",
              "      border-top-color: var(--fill-color);\n",
              "    }\n",
              "    60% {\n",
              "      border-color: transparent;\n",
              "      border-right-color: var(--fill-color);\n",
              "    }\n",
              "    80% {\n",
              "      border-color: transparent;\n",
              "      border-right-color: var(--fill-color);\n",
              "      border-bottom-color: var(--fill-color);\n",
              "    }\n",
              "    90% {\n",
              "      border-color: transparent;\n",
              "      border-bottom-color: var(--fill-color);\n",
              "    }\n",
              "  }\n",
              "</style>\n",
              "\n",
              "  <script>\n",
              "    async function quickchart(key) {\n",
              "      const quickchartButtonEl =\n",
              "        document.querySelector('#' + key + ' button');\n",
              "      quickchartButtonEl.disabled = true;  // To prevent multiple clicks.\n",
              "      quickchartButtonEl.classList.add('colab-df-spinner');\n",
              "      try {\n",
              "        const charts = await google.colab.kernel.invokeFunction(\n",
              "            'suggestCharts', [key], {});\n",
              "      } catch (error) {\n",
              "        console.error('Error during call to suggestCharts:', error);\n",
              "      }\n",
              "      quickchartButtonEl.classList.remove('colab-df-spinner');\n",
              "      quickchartButtonEl.classList.add('colab-df-quickchart-complete');\n",
              "    }\n",
              "    (() => {\n",
              "      let quickchartButtonEl =\n",
              "        document.querySelector('#df-c8883688-33d5-46bc-8229-e42880a9046e button');\n",
              "      quickchartButtonEl.style.display =\n",
              "        google.colab.kernel.accessAllowed ? 'block' : 'none';\n",
              "    })();\n",
              "  </script>\n",
              "</div>\n",
              "    </div>\n",
              "  </div>\n"
            ]
          },
          "metadata": {},
          "execution_count": 24
        }
      ]
    },
    {
      "cell_type": "markdown",
      "metadata": {
        "id": "JzBtFUFRa3MT"
      },
      "source": [
        "Now we're seeing a dataset that looks a lot more like what we'd expect to see for purchase data, however, there is still a lot of variability."
      ]
    },
    {
      "cell_type": "markdown",
      "metadata": {
        "id": "6fW5dRiEa3MT"
      },
      "source": [
        "### Measures of Variability"
      ]
    },
    {
      "cell_type": "markdown",
      "metadata": {
        "id": "vKx2wiv2a3MT"
      },
      "source": [
        "#### Standard Deviation"
      ]
    },
    {
      "cell_type": "code",
      "execution_count": 25,
      "metadata": {
        "id": "eXuNC9Mva3MU",
        "colab": {
          "base_uri": "https://localhost:8080/"
        },
        "outputId": "20c133f8-753f-455f-9abd-523dee9c0535"
      },
      "outputs": [
        {
          "output_type": "execute_result",
          "data": {
            "text/plain": [
              "203.29176034742505"
            ]
          },
          "metadata": {},
          "execution_count": 25
        }
      ],
      "source": [
        "# Calculate the standard deviation of the total value of each order\n",
        "total_value_per_order['TotalPrice'].std()"
      ]
    },
    {
      "cell_type": "code",
      "execution_count": 26,
      "metadata": {
        "id": "JNq-uMAVa3MU",
        "colab": {
          "base_uri": "https://localhost:8080/",
          "height": 523
        },
        "outputId": "389dcd26-629e-444e-9916-d72585a5f841"
      },
      "outputs": [
        {
          "output_type": "execute_result",
          "data": {
            "text/plain": [
              "<seaborn.axisgrid.FacetGrid at 0x7cd943940520>"
            ]
          },
          "metadata": {},
          "execution_count": 26
        },
        {
          "output_type": "display_data",
          "data": {
            "text/plain": [
              "<Figure size 500x500 with 1 Axes>"
            ],
            "image/png": "[encoded data removed]"
          },
          "metadata": {}
        }
      ],
      "source": [
        "# Visualize the distribution of the total order value\n",
        "sns.displot(total_value_per_order['TotalPrice'], kde=True)"
      ]
    },
    {
      "cell_type": "markdown",
      "metadata": {
        "id": "MEhb2VmMa3MU"
      },
      "source": [
        "#### Variance"
      ]
    },
    {
      "cell_type": "code",
      "execution_count": 27,
      "metadata": {
        "id": "4XOMY6lpa3MU",
        "colab": {
          "base_uri": "https://localhost:8080/"
        },
        "outputId": "0d9152bc-6c7c-424a-9126-0851bfb8c9d6"
      },
      "outputs": [
        {
          "output_type": "execute_result",
          "data": {
            "text/plain": [
              "41327.5398251549"
            ]
          },
          "metadata": {},
          "execution_count": 27
        }
      ],
      "source": [
        "# Calculate the variance of the total value of each order\n",
        "total_value_per_order['TotalPrice'].var()"
      ]
    },
    {
      "cell_type": "markdown",
      "metadata": {
        "id": "4ooA5kt9a3MU"
      },
      "source": [
        "#### Maximum"
      ]
    },
    {
      "cell_type": "code",
      "execution_count": 28,
      "metadata": {
        "id": "hVcRNqfNa3MU",
        "colab": {
          "base_uri": "https://localhost:8080/"
        },
        "outputId": "940651b1-996c-407c-82c9-34534c43920f"
      },
      "outputs": [
        {
          "output_type": "execute_result",
          "data": {
            "text/plain": [
              "942.1"
            ]
          },
          "metadata": {},
          "execution_count": 28
        }
      ],
      "source": [
        "# Calculate the maximum order value\n",
        "maximum_order_value = round(total_value_per_order['TotalPrice'].max(), 2)\n",
        "maximum_order_value"
      ]
    },
    {
      "cell_type": "markdown",
      "metadata": {
        "id": "lRzHTHQta3MU"
      },
      "source": [
        "#### Minimum"
      ]
    },
    {
      "cell_type": "code",
      "execution_count": 29,
      "metadata": {
        "id": "SggQ9BP1a3MU",
        "colab": {
          "base_uri": "https://localhost:8080/"
        },
        "outputId": "caa61b4f-4087-4ac6-f2e2-01b7f5b09b63"
      },
      "outputs": [
        {
          "output_type": "execute_result",
          "data": {
            "text/plain": [
              "0.0"
            ]
          },
          "metadata": {},
          "execution_count": 29
        }
      ],
      "source": [
        "# Calculate the minimum order value\n",
        "minimum_order_value = round(total_value_per_order['TotalPrice'].min(), 2)\n",
        "minimum_order_value"
      ]
    },
    {
      "cell_type": "markdown",
      "metadata": {
        "id": "peMyILZga3MV"
      },
      "source": [
        "#### Range\n",
        "What is the new range of this dataset after removing outliers?"
      ]
    },
    {
      "cell_type": "code",
      "execution_count": 30,
      "metadata": {
        "id": "DVehmlPya3MV",
        "colab": {
          "base_uri": "https://localhost:8080/"
        },
        "outputId": "e25db93c-a4a8-4f37-c228-3f883322cecf"
      },
      "outputs": [
        {
          "output_type": "execute_result",
          "data": {
            "text/plain": [
              "942.1"
            ]
          },
          "metadata": {},
          "execution_count": 30
        }
      ],
      "source": [
        "# Calculate the range of the total value of each order\n",
        "maximum_order_value - minimum_order_value"
      ]
    },
    {
      "cell_type": "markdown",
      "metadata": {
        "id": "6H-qX1k9a3MV"
      },
      "source": [
        "## Your Turn! Apply This Week's Concepts\n",
        "\n",
        "You'll be writing these tasks inside python functions. This helps you in many ways:\n",
        "\n",
        "- easier for you to debug\n",
        "- easier for you to test\n",
        "- allows you to set up metrics for your dashboard without re-writing this code later!"
      ]
    },
    {
      "cell_type": "markdown",
      "metadata": {
        "id": "n7NX-Pdya3MV"
      },
      "source": [
        "### Filter Data By Year and Quarter\n",
        "\n",
        "Here's an example, you get the first one for free!"
      ]
    },
    {
      "cell_type": "code",
      "execution_count": 31,
      "metadata": {
        "id": "MoNC35HFa3MV"
      },
      "outputs": [],
      "source": [
        "# Write a function to filter a pandas dataframe by year and quarter\n",
        "def filter_by_year_and_quarter(df, year, quarter):\n",
        "\n",
        "    # Filter the dataframe by the year and quarter\n",
        "    filtered_df = df[(df['Year'] == year) & (df['Quarter'] == quarter)]\n",
        "\n",
        "    # Return the filtered dataframe\n",
        "    if filtered_df.shape[0] > 0:\n",
        "        return filtered_df\n",
        "    else:\n",
        "        assert filtered_df.shape[0] > 0, \"There are no records for the specified year and quarter\""
      ]
    },
    {
      "cell_type": "code",
      "execution_count": 32,
      "metadata": {
        "id": "j43e29MUa3MV",
        "colab": {
          "base_uri": "https://localhost:8080/"
        },
        "outputId": "a5bb3700-38a4-4339-b67e-78caded76a82"
      },
      "outputs": [
        {
          "output_type": "stream",
          "name": "stdout",
          "text": [
            "       InvoiceNo StockCode                    Description  Quantity  \\\n",
            "272875    569203     79321                  CHILLI LIGHTS        48   \n",
            "272876    569203     21154      RED RETROSPOT OVEN GLOVE         20   \n",
            "272877    569204     21790             VINTAGE SNAP CARDS         4   \n",
            "272878    569204     23284  DOORMAT KEEP CALM AND COME IN        15   \n",
            "272879    569204     23355     HOT WATER BOTTLE KEEP CALM         4   \n",
            "\n",
            "               InvoiceDate  UnitPrice  CustomerID         Country  Year  \\\n",
            "272875 2022-10-02 10:32:00       4.95     16353.0  United Kingdom  2022   \n",
            "272876 2022-10-02 10:32:00       1.25     16353.0  United Kingdom  2022   \n",
            "272877 2022-10-02 10:43:00       0.85     16591.0  United Kingdom  2022   \n",
            "272878 2022-10-02 10:43:00       7.08     16591.0  United Kingdom  2022   \n",
            "272879 2022-10-02 10:43:00       4.95     16591.0  United Kingdom  2022   \n",
            "\n",
            "        Month  Day  Quarter  TotalPrice  \n",
            "272875     10    2        4       237.6  \n",
            "272876     10    2        4        25.0  \n",
            "272877     10    2        4         3.4  \n",
            "272878     10    2        4       106.2  \n",
            "272879     10    2        4        19.8  \n"
          ]
        }
      ],
      "source": [
        "# Create a dataframe that only contains records for 2022 Q4\n",
        "print(filter_by_year_and_quarter(data, 2022, 4).head(5))\n",
        "\n",
        "# Write a test to validate the function\n",
        "assert filter_by_year_and_quarter(data, 2022, 4)['Year'].unique()[0] == 2022, \"There should only be records for 2022\"\n",
        "assert filter_by_year_and_quarter(data, 2022, 4)['Quarter'].unique()[0] == 4, \"There should be records for Q4\""
      ]
    },
    {
      "cell_type": "markdown",
      "metadata": {
        "id": "WZfwdjfNa3MW"
      },
      "source": [
        "### Calculate Total Sales (Sum)"
      ]
    },
    {
      "cell_type": "code",
      "execution_count": 33,
      "metadata": {
        "id": "dcHXzKFaa3MW"
      },
      "outputs": [],
      "source": [
        "def total_sales(data: pd.DataFrame, year: int, quarter: int) -> float:\n",
        "    \"\"\"\n",
        "    Calculate the total sales for a given year and quarter\n",
        "    :param data: The dataframe containing the data\n",
        "    :param year: The year to calculate the total sales for\n",
        "    :param quarter: The quarter to calculate the total sales for\n",
        "    :return: The total sales for the given year and quarter\n",
        "    \"\"\"\n",
        "    # Filter the data by the given year and quarter\n",
        "    data = filter_by_year_and_quarter(data, year, quarter)\n",
        "\n",
        "    # Calculate the total sales\n",
        "    return round(data['TotalPrice'].sum(), 2)"
      ]
    },
    {
      "cell_type": "code",
      "execution_count": 34,
      "metadata": {
        "id": "WEygg1KDa3MW",
        "colab": {
          "base_uri": "https://localhost:8080/"
        },
        "outputId": "c1a924a8-3441-4b0d-8872-21daba7b9e60"
      },
      "outputs": [
        {
          "output_type": "stream",
          "name": "stdout",
          "text": [
            "The total sales for 2022 Q4 are: $1519366.35\n"
          ]
        }
      ],
      "source": [
        "# Calculate the total sales for 2022 Q4\n",
        "print(f'The total sales for 2022 Q4 are: ${total_sales(data, 2022, 4)}')"
      ]
    },
    {
      "cell_type": "markdown",
      "metadata": {
        "id": "7U-BUuJBa3MW"
      },
      "source": [
        "### How Many Customers Are There Per Day? (Mean)"
      ]
    },
    {
      "cell_type": "code",
      "execution_count": 35,
      "metadata": {
        "id": "1WVn20wRa3MW"
      },
      "outputs": [],
      "source": [
        "# Write a function to calculate mean number of customers per day\n",
        "def mean_customers_per_day(data: pd.DataFrame, year: int, quarter: int) -> float:\n",
        "    \"\"\"\n",
        "    Calculate the mean number of customers per day for a given year and quarter\n",
        "    :param data: The dataframe containing the data\n",
        "    :param year: The year to calculate the mean number of customers per day for\n",
        "    :param quarter: The quarter to calculate the mean number of customers per day for\n",
        "    :return: The mean number of customers per day for the given year and quarter\n",
        "    \"\"\"\n",
        "    # Filter the data by the given year and quarter\n",
        "    data = filter_by_year_and_quarter(data, year, quarter)\n",
        "\n",
        "    # Calculate the mean number of customers per day\n",
        "    data_grouped = data.groupby(pd.Grouper(key='InvoiceDate', freq='D'))['CustomerID'].nunique()\n",
        "    average_customers_per_day = data_grouped.mean()\n",
        "    return round(average_customers_per_day, 1)"
      ]
    },
    {
      "cell_type": "code",
      "execution_count": 36,
      "metadata": {
        "id": "frgu72X_a3MW",
        "colab": {
          "base_uri": "https://localhost:8080/"
        },
        "outputId": "5420d372-ce57-4609-d250-ce578bf6f337"
      },
      "outputs": [
        {
          "output_type": "stream",
          "name": "stdout",
          "text": [
            "The mean number of customers per day for 2022 Q4 is: 65.0\n"
          ]
        }
      ],
      "source": [
        "# Calculate the mean number of customers per day for 2022 Q4\n",
        "output_of_mean_customers_per_day = mean_customers_per_day(data, 2022, 4)\n",
        "# print(output_of_mean_customers_per_day)\n",
        "print(f'The mean number of customers per day for 2022 Q4 is: {output_of_mean_customers_per_day}')\n",
        "\n",
        "# Write a test to validate the mean number of customers per day function\n",
        "# assert <YOUR CODE HERE>, \"your message here\""
      ]
    },
    {
      "cell_type": "markdown",
      "metadata": {
        "id": "lD-54Gvva3MW"
      },
      "source": [
        "### How Much Do Customers Spend Per Order? (Median)"
      ]
    },
    {
      "cell_type": "code",
      "execution_count": 37,
      "metadata": {
        "id": "3PjUaNUua3MW"
      },
      "outputs": [],
      "source": [
        "# Write a function to calculate the median order value for a given year and quarter\n",
        "def median_order_value(data: pd.DataFrame, year: int, quarter: int) -> float:\n",
        "    \"\"\"\n",
        "    Calculate the median order value for a given year and quarter\n",
        "    :param data: The dataframe containing the data\n",
        "    :param year: The year to calculate the median order value for\n",
        "    :param quarter: The quarter to calculate the median order value for\n",
        "    :return: The median order value for the given year and quarter\n",
        "    \"\"\"\n",
        "    # Filter the data by the given year and quarter\n",
        "    filtered_data = filter_by_year_and_quarter(data, year, quarter)\n",
        "\n",
        "    # Group data by InvoiceNo and calculate the total value of each order\n",
        "    grouped_data = filtered_data.groupby('InvoiceNo').apply(lambda x: (x['Quantity'] * x['UnitPrice']).sum())\n",
        "\n",
        "    # Calculate the median order value\n",
        "    median_order_value = grouped_data.median()\n",
        "\n",
        "    return median_order_value"
      ]
    },
    {
      "cell_type": "code",
      "execution_count": 38,
      "metadata": {
        "id": "QT8vYwINa3MX",
        "colab": {
          "base_uri": "https://localhost:8080/"
        },
        "outputId": "afa16e2e-9147-4000-f54e-bce8ac7c2f06"
      },
      "outputs": [
        {
          "output_type": "stream",
          "name": "stdout",
          "text": [
            "The median order value for 2022 Q4 is: $285.4\n"
          ]
        }
      ],
      "source": [
        "# Calculate the median order value for 2022 Q4\n",
        "print(f'The median order value for 2022 Q4 is: ${round(median_order_value(data, 2022, 4), 2)}')"
      ]
    },
    {
      "cell_type": "code",
      "source": [
        "# Write a test to validate the median order value function\n",
        "# assert <YOUR CODE HERE>"
      ],
      "metadata": {
        "id": "YQyMCq2pbQ_2"
      },
      "execution_count": 39,
      "outputs": []
    },
    {
      "cell_type": "markdown",
      "metadata": {
        "id": "KGEpl4cXa3MX"
      },
      "source": [
        "### How Variable Are Order Totals?"
      ]
    },
    {
      "cell_type": "code",
      "execution_count": 41,
      "metadata": {
        "id": "d-2xf2F4a3MX"
      },
      "outputs": [],
      "source": [
        "# Write a function to calculate the order value variability for a given year and quarter\n",
        "def order_value_variability(data: pd.DataFrame, year: int, quarter: int) -> float:\n",
        "    \"\"\"\n",
        "    Calculate the order value variability for a given year and quarter\n",
        "    :param data: The dataframe containing the data\n",
        "    :param year: The year to calculate the order value variability for\n",
        "    :param quarter: The quarter to calculate the order value variability for\n",
        "    :return: The order value variability for the given year and quarter\n",
        "    \"\"\"\n",
        "    # Filter the data by the given year and quarter\n",
        "    filtered_data = filter_by_year_and_quarter(data.copy(), year, quarter)\n",
        "\n",
        "    # Group data by InvoiceNo and calculate the order total (Quantity * UnitPrice)\n",
        "    order_totals = filtered_data.groupby('InvoiceNo').apply(lambda x: (x['Quantity'] * x['UnitPrice']).sum())\n",
        "\n",
        "    # Calculate the order value variability (standard deviation of order totals)\n",
        "    order_value_variability = order_totals.std()\n",
        "\n",
        "    return order_value_variability"
      ]
    },
    {
      "cell_type": "code",
      "execution_count": 42,
      "metadata": {
        "id": "7OVvb8s7a3MX",
        "colab": {
          "base_uri": "https://localhost:8080/"
        },
        "outputId": "bccec0ff-0a16-42f3-b719-bf8e4059b9d1"
      },
      "outputs": [
        {
          "output_type": "stream",
          "name": "stdout",
          "text": [
            "The standard deviation of order value for 2022 Q4 is: $203.28614948337972\n"
          ]
        }
      ],
      "source": [
        "# Print out the order value variability for 2022 Q4\n",
        "print(f'The standard deviation of order value for 2022 Q4 is: ${order_value_variability(data, 2022, 4)}')"
      ]
    },
    {
      "cell_type": "code",
      "execution_count": 43,
      "metadata": {
        "id": "o1Qwzeoaa3MX"
      },
      "outputs": [],
      "source": [
        "# Write a test to validate the order value variability function\n",
        "# assert <YOUR CODE HERE>"
      ]
    },
    {
      "cell_type": "markdown",
      "metadata": {
        "id": "YvcToEjPa3MX"
      },
      "source": [
        "### What is the Most Popular Product? (Mode - Part 1)"
      ]
    },
    {
      "cell_type": "code",
      "source": [
        "def relevant_item_record(record: pd.Series) -> pd.Series:\n",
        "    \"\"\"\n",
        "    Filters out order-specific fields from an item record.\n",
        "    :param record: The item record as a pandas Series\n",
        "    :return: A filtered item record containing only item-specific fields\n",
        "    \"\"\"\n",
        "\n",
        "    # Define the fields that are item-specific and not order-specific\n",
        "    relevant_fields = ['StockCode', 'Description', 'UnitPrice']\n",
        "\n",
        "    return record[relevant_fields]"
      ],
      "metadata": {
        "id": "myGlpzg88OmA"
      },
      "execution_count": 66,
      "outputs": []
    },
    {
      "cell_type": "code",
      "execution_count": 67,
      "metadata": {
        "id": "BpNOQtDLa3MX"
      },
      "outputs": [],
      "source": [
        "# Write a function to find the most popular product for a given year and quarter\n",
        "def most_popular_product(data: pd.DataFrame, year: int, quarter: int) -> str:\n",
        "    \"\"\"\n",
        "    Find the most popular product for a given year and quarter\n",
        "    :param data: The dataframe containing the data\n",
        "    :param year: The year to find the most popular product for\n",
        "    :param quarter: The quarter to find the most popular product for\n",
        "    :return: The most popular product for the given year and quarter\n",
        "    \"\"\"\n",
        "    # Filter the data by the given year and quarter\n",
        "    filtered_data = filter_by_year_and_quarter(data.copy(), year, quarter)\n",
        "\n",
        "    # Group by StockCode and sum up the quantities\n",
        "    product_popularity = filtered_data.groupby('StockCode')['Quantity'].sum()\n",
        "\n",
        "    # Find the most popular product (one with the maximum summed quantity)\n",
        "    most_popular_stockcode = product_popularity.idxmax()\n",
        "\n",
        "    # Retrieve the full item record for the most popular product\n",
        "    most_popular_record = filtered_data[filtered_data['StockCode'] == most_popular_stockcode].iloc[0]\n",
        "\n",
        "    return relevant_item_record(most_popular_record)"
      ]
    },
    {
      "cell_type": "code",
      "execution_count": 68,
      "metadata": {
        "id": "ZyAxOqhba3MX",
        "colab": {
          "base_uri": "https://localhost:8080/"
        },
        "outputId": "e2027d9b-b651-4f27-ddda-8ebe1ed30b2f"
      },
      "outputs": [
        {
          "output_type": "stream",
          "name": "stdout",
          "text": [
            "The most popular product for 2022 Q4 is: StockCode               22197\n",
            "Description    POPCORN HOLDER\n",
            "UnitPrice                0.85\n",
            "Name: 273141, dtype: object\n"
          ]
        }
      ],
      "source": [
        "# Find the most popular product for 2022 Q4\n",
        "print(f'The most popular product for 2022 Q4 is: {most_popular_product(data, 2022, 4)}')\n",
        "\n",
        "# Write a test to validate the most popular product function\n",
        "# assert <YOUR CODE HERE>"
      ]
    },
    {
      "cell_type": "markdown",
      "metadata": {
        "id": "ER3YgWzCa3MY"
      },
      "source": [
        "### What is the Most Profitable Product? (Mode - Part 2)"
      ]
    },
    {
      "cell_type": "code",
      "execution_count": 69,
      "metadata": {
        "id": "yfXerpu4a3MY"
      },
      "outputs": [],
      "source": [
        "# Write a function to find the most profitable product for a given year and quarter\n",
        "def most_profitable_product(data: pd.DataFrame, year: int, quarter: int) -> str:\n",
        "    \"\"\"\n",
        "    Find the most profitable product for a given year and quarter\n",
        "    :param data: The dataframe containing the data\n",
        "    :param year: The year to find the most profitable product for\n",
        "    :param quarter: The quarter to find the most profitable product for\n",
        "    :return: The most profitable product for the given year and quarter\n",
        "    \"\"\"\n",
        "    # Filter the data by the given year and quarter\n",
        "    filtered_data = filter_by_year_and_quarter(data.copy(), year, quarter)\n",
        "\n",
        "    # Calculate the revenue for each invoice item (Quantity * UnitPrice)\n",
        "    filtered_data['Revenue'] = filtered_data['Quantity'] * filtered_data['UnitPrice']\n",
        "\n",
        "    # Group by StockCode and sum up the revenues\n",
        "    product_revenue = filtered_data.groupby('StockCode')['Revenue'].sum()\n",
        "\n",
        "    # Find the highest revenue-generating product (one with the maximum summed revenue)\n",
        "    highest_revenue_stockcode = product_revenue.idxmax()\n",
        "\n",
        "    # Retrieve the full item record for the highest revenue-generating product\n",
        "    highest_revenue_record = filtered_data[filtered_data['StockCode'] == highest_revenue_stockcode].iloc[0]\n",
        "\n",
        "    return relevant_item_record(highest_revenue_record)"
      ]
    },
    {
      "cell_type": "code",
      "execution_count": 70,
      "metadata": {
        "id": "jjXsTKWza3MY",
        "colab": {
          "base_uri": "https://localhost:8080/"
        },
        "outputId": "ddbd7ae5-1877-4a47-d91a-bf54208df7fa"
      },
      "outputs": [
        {
          "output_type": "stream",
          "name": "stdout",
          "text": [
            "The most profitable product for 2022 Q4 is: StockCode                   23084\n",
            "Description    RABBIT NIGHT LIGHT\n",
            "UnitPrice                    2.08\n",
            "Name: 313733, dtype: object\n"
          ]
        }
      ],
      "source": [
        "# Find the most profitable product for 2022 Q4\n",
        "print(f'The most profitable product for 2022 Q4 is: {most_profitable_product(data, 2022, 4)}')\n",
        "\n",
        "# Write a test to validate the most profitable product function\n",
        "# assert <YOUR CODE HERE>"
      ]
    },
    {
      "cell_type": "markdown",
      "metadata": {
        "id": "GIrZ_QQEa3MZ"
      },
      "source": [
        "## Your Turn: Build Custom Metrics (Optional)\n",
        "\n",
        "Here's an example of a metric that you'd expect to see on sales dashboard: percentage of returning customers. Use this example as a template to write your own metric!"
      ]
    },
    {
      "cell_type": "markdown",
      "metadata": {
        "id": "9ZkDE1Oha3MZ"
      },
      "source": [
        "### What Percentage of Customers Become Return Customers?"
      ]
    },
    {
      "cell_type": "code",
      "execution_count": 71,
      "metadata": {
        "id": "nRByR9dwa3MZ"
      },
      "outputs": [],
      "source": [
        "def customer_retention_rate(data: pd.DataFrame, year: int, quarter: int) -> float:\n",
        "    \"\"\"\n",
        "    Calculate the customer retention rate for a given year and quarter\n",
        "    :param data: The dataframe containing the data\n",
        "    :param year: The year to calculate the customer retention rate for\n",
        "    :param quarter: The quarter to calculate the customer retention rate for\n",
        "    :return: The customer retention rate for the given year and quarter\n",
        "    \"\"\"\n",
        "    # Filter the data by the given year and quarter\n",
        "    filtered_data = filter_by_year_and_quarter(data.copy(), year, quarter)\n",
        "\n",
        "    # Count the number of unique invoices per customer\n",
        "    invoice_count_per_customer = filtered_data.groupby('CustomerID')['InvoiceNo'].nunique()\n",
        "\n",
        "    # Calculate the number of unique customers\n",
        "    num_customers = invoice_count_per_customer.count()\n",
        "\n",
        "    # Calculate the number of repeat customers (customers with more than one unique invoice)\n",
        "    num_repeat_customers = invoice_count_per_customer[invoice_count_per_customer > 1].count()\n",
        "\n",
        "    # Calculate the customer retention rate\n",
        "    if num_customers == 0:  # To avoid division by zero\n",
        "        return 0\n",
        "    retention_rate = (num_repeat_customers / num_customers) * 100\n",
        "\n",
        "    return retention_rate"
      ]
    },
    {
      "cell_type": "code",
      "execution_count": 72,
      "metadata": {
        "id": "s1zT7vCWa3MZ",
        "colab": {
          "base_uri": "https://localhost:8080/"
        },
        "outputId": "c7c3634e-3df5-40e3-dd6d-433113aea1e5"
      },
      "outputs": [
        {
          "output_type": "stream",
          "name": "stdout",
          "text": [
            "The customer retention rate for 2022 Q4 is: 42.87454323995128%\n"
          ]
        }
      ],
      "source": [
        "# Calculate the customer retention rate for 2022 Q4\n",
        "print(f'The customer retention rate for 2022 Q4 is: {customer_retention_rate(data, 2022, 4)}%')\n",
        "\n",
        "# Write tests to validate the customer retention rate function\n",
        "# assert <YOUR CODE HERE>"
      ]
    },
    {
      "cell_type": "markdown",
      "metadata": {
        "id": "2NiIRqElisQq"
      },
      "source": [
        "## Make a Dashboard for Your Portfolio!\n",
        "\n",
        "Optional, but ***Highly Encouraged***, Since You've Already Written the Code!\n",
        "\n",
        "To bring our analysis to life we'll be using a toolkit known as Jupyter Widgets, alongside an interactive plot creation library called Plotly.\n",
        "\n",
        "At this stage we don't anticipate that you're necessarily familiar with the ins and outs of how Jupyter Widgets function, but the code and links below should help you get started.\n",
        "\n",
        "You're welcome to modify it as you please. In fact, data visualization is a crucial component of the data science toolkit, so if you're so inclined, give it a try! Some excellent starting points for learning about Jupyter Widgets can be found here, [here](https://ipywidgets.readthedocs.io/en/latest/examples/Widget%20Basics.html), [here](https://ipywidgets.readthedocs.io/en/latest/examples/Widget%20List.html), and [here](https://towardsdatascience.com/bring-your-jupyter-notebook-to-life-with-interactive-widgets-bc12e03f0916)!\n",
        "\n",
        "One potential place to start - can you come up with a better plot type for the data to show outliers? Have a scroll through what the plotly.express library can do [here](https://plotly.com/python/plotly-express/) for inspiration"
      ]
    },
    {
      "cell_type": "code",
      "source": [
        "import pandas as pd\n",
        "import plotly.express as px\n",
        "from ipywidgets import interact, Select, Output, link\n",
        "from IPython.display import display, clear_output\n",
        "\n",
        "from google.colab import output\n",
        "output.enable_custom_widget_manager()\n",
        "\n",
        "# Create a copy of the data we've processed,\n",
        "#  in case we want to modify it some more\n",
        "df = data.copy(deep=True)\n",
        "\n",
        "# Create an output widget\n",
        "out = Output()\n",
        "\n",
        "# Define function to execute on change of filter\n",
        "def metrics_and_visualization(year, quarter):\n",
        "  # Filter the data for the selected year and quarter\n",
        "  filtered_df = filter_by_year_and_quarter(df, year, quarter)\n",
        "\n",
        "  # Sample our data, to make the visualisation less computionationally intensive\n",
        "  filtered_df = filtered_df.sample(frac=0.1, random_state=42)\n",
        "\n",
        "  out.clear_output(wait=True)\n",
        "  with out:\n",
        "    # Display the metrics\n",
        "    print(f\"Q{quarter} Total sales: ${total_sales(filtered_df, year, quarter)}\")\n",
        "    print(f\"Q{quarter} Mean Number of Customers Per Day: {mean_customers_per_day(filtered_df, year, quarter)}\")\n",
        "    print(f\"Q{quarter} Median Order Value: ${median_order_value(filtered_df, year, quarter)}\")\n",
        "    print(f\"Q{quarter} Standard Deviation of Order Values: ${order_value_variability(filtered_df, year, quarter)}\")\n",
        "    print(f\"Q{quarter} Most Popular Product: {most_popular_product(filtered_df, year, quarter)}\")\n",
        "    print(f\"Q{quarter} Most Profitable Product: {most_profitable_product(filtered_df, year, quarter)}\")\n",
        "    print(f\"Q{quarter} Customer retention rate: {customer_retention_rate(filtered_df, year, quarter)}%\")\n",
        "\n",
        "    # Create a scatterplot of unit prices for the selected quarter\n",
        "    fig = px.scatter(\n",
        "        filtered_df,\n",
        "        x=\"UnitPrice\",\n",
        "        color=\"UnitPrice\",\n",
        "        width=800,\n",
        "        height=400\n",
        "    )\n",
        "    fig.show()\n",
        "\n",
        "# Create a selection widget to choose the quarter\n",
        "year_widget = Select(options=df[\"Year\"].unique().tolist(), description='Year:')\n",
        "quarter_widget = Select(options=df[\"Quarter\"].unique().tolist(), description='Quarter:')\n",
        "\n",
        "# Display widgets\n",
        "display(year_widget, quarter_widget, out)\n",
        "\n",
        "# Define function to update quarters widget based on the selected year\n",
        "def update_quarters(change):\n",
        "    year = change['new']\n",
        "    quarters = df[df[\"Year\"] == year][\"Quarter\"].unique().tolist()\n",
        "    quarter_widget.options = quarters\n",
        "    quarter_widget.value = quarters[0] if quarters else None\n",
        "\n",
        "# Bind the function to changes in the year widget\n",
        "year_widget.observe(update_quarters, names='value')\n",
        "\n",
        "# Bind the metrics_and_visualization function to changes in the widgets\n",
        "def on_change(change):\n",
        "    metrics_and_visualization(year_widget.value, quarter_widget.value)\n",
        "\n",
        "quarter_widget.observe(on_change, names='value')\n",
        "\n",
        "# Call function once to update quarters and display initial data\n",
        "update_quarters({'new': year_widget.value})\n",
        "metrics_and_visualization(year_widget.value, quarter_widget.value)"
      ],
      "metadata": {
        "id": "cDcvzH4r0PJA",
        "colab": {
          "base_uri": "https://localhost:8080/",
          "height": 826,
          "referenced_widgets": [
            "a2b2a3be9f7d4f3db59d15991602f507",
            "d5f8a1ce34404f56afb6cf2ff22f9919",
            "b53f92456b9e4ad483c6b5fc33fc14b6",
            "16b4ed486a91455ca43811a5337aedc0",
            "8192ae8f708f4396b7e0dee60a995fba",
            "fbb2d393e2604e4496b25e32c147be5d",
            "1ba226fb459a43a3a6f6b6fa48ebb0db",
            "8e5ea7e27f194090b71897d97cdba1c4"
          ]
        },
        "outputId": "f14d82de-e93e-4eb5-b398-2649925af757"
      },
      "execution_count": 73,
      "outputs": [
        {
          "output_type": "display_data",
          "data": {
            "text/plain": [
              "Select(description='Year:', options=(2021, 2022), value=2021)"
            ],
            "application/vnd.jupyter.widget-view+json": {
              "version_major": 2,
              "version_minor": 0,
              "model_id": "a2b2a3be9f7d4f3db59d15991602f507"
            }
          },
          "metadata": {
            "application/vnd.jupyter.widget-view+json": {
              "colab": {
                "custom_widget_manager": {
                  "url": "https://ssl.gstatic.com/colaboratory-static/widgets/colab-cdn-widget-manager/b3e629b1971e1542/manager.min.js"
                }
              }
            }
          }
        },
        {
          "output_type": "display_data",
          "data": {
            "text/plain": [
              "Select(description='Quarter:', options=(4, 1, 2, 3), value=4)"
            ],
            "application/vnd.jupyter.widget-view+json": {
              "version_major": 2,
              "version_minor": 0,
              "model_id": "16b4ed486a91455ca43811a5337aedc0"
            }
          },
          "metadata": {
            "application/vnd.jupyter.widget-view+json": {
              "colab": {
                "custom_widget_manager": {
                  "url": "https://ssl.gstatic.com/colaboratory-static/widgets/colab-cdn-widget-manager/b3e629b1971e1542/manager.min.js"
                }
              }
            }
          }
        },
        {
          "output_type": "display_data",
          "data": {
            "text/plain": [
              "Output()"
            ],
            "application/vnd.jupyter.widget-view+json": {
              "version_major": 2,
              "version_minor": 0,
              "model_id": "1ba226fb459a43a3a6f6b6fa48ebb0db"
            }
          },
          "metadata": {
            "application/vnd.jupyter.widget-view+json": {
              "colab": {
                "custom_widget_manager": {
                  "url": "https://ssl.gstatic.com/colaboratory-static/widgets/colab-cdn-widget-manager/b3e629b1971e1542/manager.min.js"
                }
              }
            }
          }
        }
      ]
    },
    {
      "cell_type": "markdown",
      "source": [
        "We often want to share visualisations like this with our colleagues and let them play around but without exposing them to all the analysis code we took to get there. Luckily we can easily do this in Colab!\n",
        "* go to `Edit` -> `Select All Cells`\n",
        "* go to `View` -> `Show/hide code`\n",
        "\n",
        "You can also go through and collapse individual sections that you don't want to share (e.g. the bit at the top where we installed some python libraries).\n",
        "\n",
        "You can then share a link to the notebook (`Share` -> `Copy Link`, setting the `General Access` field appropriately) and then anyone you share the link with can open the notebook, run through it, and see your analysis!"
      ],
      "metadata": {
        "id": "n8gh6Uga197k"
      }
    },
    {
      "cell_type": "markdown",
      "source": [
        "#### 🚀 You Did It!!!\n",
        "\n",
        "Congratulations, you've completed your first assignment in Applied Statistics for Data Science. If you deployed a streamlit app, please be sure to share the link when you submit your assignment for the week."
      ],
      "metadata": {
        "id": "PN6G-_lzXVYo"
      }
    }
  ],
  "metadata": {
    "colab": {
      "provenance": [],
      "toc_visible": true
    },
    "kernelspec": {
      "display_name": "Python 3.8.5 64-bit",
      "language": "python",
      "name": "python3"
    },
    "language_info": {
      "codemirror_mode": {
        "name": "ipython",
        "version": 3
      },
      "file_extension": ".py",
      "mimetype": "text/x-python",
      "name": "python",
      "nbconvert_exporter": "python",
      "pygments_lexer": "ipython3",
      "version": "3.8.5"
    },
    "vscode": {
      "interpreter": {
        "hash": "aee8b7b246df8f9039afb4144a1f6fd8d2ca17a180786b69acc140d282b71a49"
      }
    },
    "widgets": {
      "application/vnd.jupyter.widget-state+json": {
        "a2b2a3be9f7d4f3db59d15991602f507": {
          "model_module": "@jupyter-widgets/controls",
          "model_name": "SelectModel",
          "model_module_version": "1.5.0",
          "state": {
            "_dom_classes": [],
            "_model_module": "@jupyter-widgets/controls",
            "_model_module_version": "1.5.0",
            "_model_name": "SelectModel",
            "_options_labels": [
              "2021",
              "2022"
            ],
            "_view_count": null,
            "_view_module": "@jupyter-widgets/controls",
            "_view_module_version": "1.5.0",
            "_view_name": "SelectView",
            "description": "Year:",
            "description_tooltip": null,
            "disabled": false,
            "index": 1,
            "layout": "IPY_MODEL_d5f8a1ce34404f56afb6cf2ff22f9919",
            "rows": 5,
            "style": "IPY_MODEL_b53f92456b9e4ad483c6b5fc33fc14b6"
          }
        },
        "d5f8a1ce34404f56afb6cf2ff22f9919": {
          "model_module": "@jupyter-widgets/base",
          "model_name": "LayoutModel",
          "model_module_version": "1.2.0",
          "state": {
            "_model_module": "@jupyter-widgets/base",
            "_model_module_version": "1.2.0",
            "_model_name": "LayoutModel",
            "_view_count": null,
            "_view_module": "@jupyter-widgets/base",
            "_view_module_version": "1.2.0",
            "_view_name": "LayoutView",
            "align_content": null,
            "align_items": null,
            "align_self": null,
            "border": null,
            "bottom": null,
            "display": null,
            "flex": null,
            "flex_flow": null,
            "grid_area": null,
            "grid_auto_columns": null,
            "grid_auto_flow": null,
            "grid_auto_rows": null,
            "grid_column": null,
            "grid_gap": null,
            "grid_row": null,
            "grid_template_areas": null,
            "grid_template_columns": null,
            "grid_template_rows": null,
            "height": null,
            "justify_content": null,
            "justify_items": null,
            "left": null,
            "margin": null,
            "max_height": null,
            "max_width": null,
            "min_height": null,
            "min_width": null,
            "object_fit": null,
            "object_position": null,
            "order": null,
            "overflow": null,
            "overflow_x": null,
            "overflow_y": null,
            "padding": null,
            "right": null,
            "top": null,
            "visibility": null,
            "width": null
          }
        },
        "b53f92456b9e4ad483c6b5fc33fc14b6": {
          "model_module": "@jupyter-widgets/controls",
          "model_name": "DescriptionStyleModel",
          "model_module_version": "1.5.0",
          "state": {
            "_model_module": "@jupyter-widgets/controls",
            "_model_module_version": "1.5.0",
            "_model_name": "DescriptionStyleModel",
            "_view_count": null,
            "_view_module": "@jupyter-widgets/base",
            "_view_module_version": "1.2.0",
            "_view_name": "StyleView",
            "description_width": ""
          }
        },
        "16b4ed486a91455ca43811a5337aedc0": {
          "model_module": "@jupyter-widgets/controls",
          "model_name": "SelectModel",
          "model_module_version": "1.5.0",
          "state": {
            "_dom_classes": [],
            "_model_module": "@jupyter-widgets/controls",
            "_model_module_version": "1.5.0",
            "_model_name": "SelectModel",
            "_options_labels": [
              "1",
              "2",
              "3",
              "4"
            ],
            "_view_count": null,
            "_view_module": "@jupyter-widgets/controls",
            "_view_module_version": "1.5.0",
            "_view_name": "SelectView",
            "description": "Quarter:",
            "description_tooltip": null,
            "disabled": false,
            "index": 0,
            "layout": "IPY_MODEL_8192ae8f708f4396b7e0dee60a995fba",
            "rows": 5,
            "style": "IPY_MODEL_fbb2d393e2604e4496b25e32c147be5d"
          }
        },
        "8192ae8f708f4396b7e0dee60a995fba": {
          "model_module": "@jupyter-widgets/base",
          "model_name": "LayoutModel",
          "model_module_version": "1.2.0",
          "state": {
            "_model_module": "@jupyter-widgets/base",
            "_model_module_version": "1.2.0",
            "_model_name": "LayoutModel",
            "_view_count": null,
            "_view_module": "@jupyter-widgets/base",
            "_view_module_version": "1.2.0",
            "_view_name": "LayoutView",
            "align_content": null,
            "align_items": null,
            "align_self": null,
            "border": null,
            "bottom": null,
            "display": null,
            "flex": null,
            "flex_flow": null,
            "grid_area": null,
            "grid_auto_columns": null,
            "grid_auto_flow": null,
            "grid_auto_rows": null,
            "grid_column": null,
            "grid_gap": null,
            "grid_row": null,
            "grid_template_areas": null,
            "grid_template_columns": null,
            "grid_template_rows": null,
            "height": null,
            "justify_content": null,
            "justify_items": null,
            "left": null,
            "margin": null,
            "max_height": null,
            "max_width": null,
            "min_height": null,
            "min_width": null,
            "object_fit": null,
            "object_position": null,
            "order": null,
            "overflow": null,
            "overflow_x": null,
            "overflow_y": null,
            "padding": null,
            "right": null,
            "top": null,
            "visibility": null,
            "width": null
          }
        },
        "fbb2d393e2604e4496b25e32c147be5d": {
          "model_module": "@jupyter-widgets/controls",
          "model_name": "DescriptionStyleModel",
          "model_module_version": "1.5.0",
          "state": {
            "_model_module": "@jupyter-widgets/controls",
            "_model_module_version": "1.5.0",
            "_model_name": "DescriptionStyleModel",
            "_view_count": null,
            "_view_module": "@jupyter-widgets/base",
            "_view_module_version": "1.2.0",
            "_view_name": "StyleView",
            "description_width": ""
          }
        },
        "1ba226fb459a43a3a6f6b6fa48ebb0db": {
          "model_module": "@jupyter-widgets/output",
          "model_name": "OutputModel",
          "model_module_version": "1.0.0",
          "state": {
            "_dom_classes": [],
            "_model_module": "@jupyter-widgets/output",
            "_model_module_version": "1.0.0",
            "_model_name": "OutputModel",
            "_view_count": null,
            "_view_module": "@jupyter-widgets/output",
            "_view_module_version": "1.0.0",
            "_view_name": "OutputView",
            "layout": "IPY_MODEL_8e5ea7e27f194090b71897d97cdba1c4",
            "msg_id": "",
            "outputs": [
              {
                "output_type": "stream",
                "name": "stdout",
                "text": [
                  "Q1 Total sales: $94527.23\n",
                  "Q1 Mean Number of Customers Per Day: 23.5\n"
                ]
              },
              {
                "output_type": "stream",
                "name": "stdout",
                "text": [
                  "Q1 Median Order Value: $31.499999999999996\n"
                ]
              },
              {
                "output_type": "stream",
                "name": "stdout",
                "text": [
                  "Q1 Standard Deviation of Order Values: $48.15696996649033\n",
                  "Q1 Most Popular Product: StockCode                         70006\n",
                  "Description    LOVE HEART POCKET WARMER\n",
                  "UnitPrice                          0.42\n",
                  "Name: 48181, dtype: object\n",
                  "Q1 Most Profitable Product: StockCode                         22423\n",
                  "Description    REGENCY CAKESTAND 3 TIER\n",
                  "UnitPrice                         12.75\n",
                  "Name: 61154, dtype: object\n",
                  "Q1 Customer retention rate: 29.175946547884184%\n"
                ]
              },
              {
                "output_type": "display_data",
                "data": {
                  "text/html": "<html>\n<head><meta charset=\"utf-8\" /></head>\n<body>\n    <div>            <script src=\"https://cdnjs.cloudflare.com/ajax/libs/mathjax/2.7.5/MathJax.js?config=TeX-AMS-MML_SVG\"></script><script type=\"text/javascript\">if (window.MathJax && window.MathJax.Hub && window.MathJax.Hub.Config) {window.MathJax.Hub.Config({SVG: {font: \"STIX-Web\"}});}</script>                <script type=\"text/javascript\">window.PlotlyConfig = {MathJaxConfig: 'local'};</script>\n        <script charset=\"utf-8\" src=\"https://cdn.plot.ly/plotly-2.24.1.min.js\"></script>                <div id=\"c15243ea-dd16-4d34-9293-34e0b3abd326\" class=\"plotly-graph-div\" style=\"height:400px; width:800px;\"></div>            <script type=\"text/javascript\">                                    window.PLOTLYENV=window.PLOTLYENV || {};                                    if (document.getElementById(\"c15243ea-dd16-4d34-9293-34e0b3abd326\")) {                    Plotly.newPlot(                        \"c15243ea-dd16-4d34-9293-34e0b3abd326\",                        [{\"hovertemplate\":\"UnitPrice=%{marker.color}\\u003cbr\\u003eindex=%{y}\\u003cextra\\u003e\\u003c\\u002fextra\\u003e\",\"legendgroup\":\"\",\"marker\":{\"color\":[3.75,4.65,0.42,1.25,0.85,1.25,2.95,0.42,1.65,1.65,0.85,2.55,1.45,2.1,1.95,2.95,0.42,1.45,1.06,4.25,7.95,2.1,12.75,1.95,2.95,2.55,0.55,1.65,1.25,4.25,1.25,1.69,1.06,2.55,4.95,1.65,2.95,1.25,1.95,0.85,1.25,2.95,2.95,1.45,3.39,1.45,3.75,1.65,0.42,4.15,0.65,4.25,2.1,1.25,2.55,0.42,1.25,1.45,12.75,1.95,9.95,0.42,7.95,1.65,3.95,2.89,0.85,1.65,1.95,1.65,4.25,2.95,2.55,0.85,1.25,0.65,1.25,0.85,0.85,7.95,2.55,5.45,1.65,0.85,1.65,0.85,0.85,0.55,3.75,1.25,1.45,3.75,8.5,1.95,4.95,4.25,2.1,0.42,8.25,0.42,3.75,4.95,0.55,1.25,1.45,1.25,2.95,2.1,2.95,2.55,2.95,1.95,1.69,0.21,2.1,1.65,4.25,3.75,1.25,0.42,0.42,0.85,3.75,6.75,3.95,7.95,4.95,1.25,2.95,1.25,1.25,2.55,1.95,0.85,3.25,6.35,1.95,1.25,2.95,0.85,1.95,0.65,0.85,1.65,0.95,4.95,0.85,5.49,3.75,2.1,4.95,0.42,0.29,7.95,6.75,3.25,0.19,2.1,2.95,0.55,1.45,0.42,0.55,1.95,2.1,3.95,2.1,1.65,1.95,1.65,0.85,7.95,0.85,1.45,0.85,0.65,1.95,7.95,3.75,1.95,2.95,0.85,12.75,1.65,14.95,0.42,1.25,1.69,1.65,1.06,4.95,2.1,3.0,4.25,1.25,7.95,2.95,1.65,4.95,7.95,2.95,4.15,4.95,2.55,1.25,2.1,1.25,1.65,2.95,1.95,2.95,2.08,0.42,3.75,1.65,6.75,1.25,5.95,4.25,1.95,4.95,2.95,0.85,1.25,2.95,10.65,2.55,1.25,1.25,1.25,0.65,3.75,15.0,3.75,1.95,2.1,1.95,9.95,1.65,1.69,5.95,9.95,2.1,3.35,2.95,4.15,1.95,7.95,2.55,1.45,0.95,3.75,3.25,1.25,1.45,2.95,2.95,1.25,1.95,4.25,1.65,3.75,2.55,0.42,1.65,12.75,1.65,12.75,0.42,1.25,1.65,3.75,0.55,12.75,2.55,1.65,4.65,0.42,2.1,2.55,1.25,2.95,0.21,2.55,1.25,0.85,2.1,2.95,50.0,1.95,10.95,1.25,4.95,1.25,3.75,1.25,8.25,0.85,7.95,1.25,7.65,2.95,1.65,1.65,5.95,2.95,2.55,0.42,1.65,4.95,0.85,0.21,1.45,1.65,7.95,7.9,4.95,7.95,1.25,0.85,10.95,1.65,1.45,6.95,7.95,1.65,1.95,0.42,7.95,0.42,0.85,2.95,2.95,4.25,5.95,1.25,2.95,0.85,4.95,1.65,2.95,1.25,1.25,1.65,9.95,1.65,1.65,0.85,0.85,0.85,0.85,5.95,4.95,1.25,7.95,1.69,2.95,1.65,0.55,0.85,3.45,4.95,0.83,4.95,3.95,2.95,2.55,1.25,0.85,3.75,4.65,1.95,0.85,1.25,1.65,0.85,8.5,1.25,9.95,1.25,2.95,9.95,2.95,4.25,1.45,7.95,1.25,0.29,1.25,0.85,2.1,1.95,1.65,1.25,2.95,1.45,1.25,0.65,0.85,1.25,2.55,7.95,2.55,5.95,6.35,3.95,2.95,6.35,1.65,1.69,1.25,1.65,0.42,1.65,4.25,0.42,5.95,3.35,8.5,2.95,1.45,5.95,2.95,7.95,0.85,1.65,2.95,1.95,1.65,0.85,2.95,1.69,1.69,1.45,1.25,1.49,1.95,2.95,1.69,1.95,0.85,2.55,4.95,7.9,0.65,1.25,2.55,0.85,0.85,0.42,1.65,2.95,2.95,0.85,3.75,0.55,2.08,2.1,3.75,1.06,1.65,1.25,0.42,1.25,0.85,1.65,2.1,1.65,2.95,2.1,1.65,2.95,2.95,1.69,2.1,0.42,1.25,2.55,1.65,0.42,0.85,8.5,2.1,1.69,0.42,3.75,1.95,0.85,4.95,1.95,12.75,1.65,2.95,1.65,0.42,7.95,0.42,2.55,4.95,5.95,1.25,0.85,1.65,4.25,0.55,9.95,1.95,3.75,2.95,1.65,14.95,1.25,1.95,1.65,2.08,0.85,0.21,0.39,2.95,10.65,1.95,7.95,4.95,2.1,1.25,2.1,1.25,2.55,1.45,8.5,7.65,0.42,3.75,5.95,1.25,1.65,1.25,1.65,1.95,7.95,0.85,14.95,1.25,1.65,1.69,4.95,2.95,1.25,2.95,0.42,0.42,1.45,2.95,3.75,3.75,4.95,1.95,1.25,2.1,1.45,2.95,1.65,8.95,1.95,0.42,2.1,0.95,0.85,1.65,2.95,5.95,1.45,0.42,1.65,8.25,1.65,1.95,2.1,6.75,8.5,0.42,8.5,0.85,1.65,1.69,5.45,4.25,1.95,7.95,2.1,1.65,0.85,3.75,0.65,2.95,1.45,1.65,3.25,1.25,12.75,6.75,0.65,7.95,12.75,0.85,2.95,3.75,1.25,3.35,2.95,1.25,1.25,1.65,2.95,1.25,1.25,2.1,1.25,0.55,4.95,2.95,4.95,0.55,2.55,3.75,0.85,0.85,2.95,0.85,1.95,0.42,1.25,4.95,7.95,6.35,1.65,6.75,1.65,3.75,1.65,0.55,3.95,0.85,1.45,0.42,5.95,1.45,2.95,0.85,1.45,0.21,2.95,5.95,1.95,3.25,7.95,2.95,0.85,1.25,5.95,12.75,1.25,0.85,4.95,1.25,1.95,0.85,1.65,1.95,9.95,5.95,1.45,2.95,0.65,2.1,1.25,0.85,2.1,0.42,1.95,6.75,1.65,1.25,7.95,1.69,2.95,7.95,5.95,4.95,0.29,7.95,2.55,1.69,7.95,2.55,2.1,2.95,10.95,0.55,1.25,2.55,1.65,4.15,1.65,12.75,4.95,7.95,9.95,0.21,5.95,4.95,3.75,9.95,1.65,2.55,0.42,4.25,2.95,0.72,1.65,2.1,4.95,0.85,7.95,4.25,12.75,5.49,4.95,0.85,3.75,1.25,7.95,1.25,2.1,2.1,1.25,3.25,9.95,3.75,0.85,6.75,1.45,6.45,0.65,19.95,1.25,0.42,0.42,10.95,2.95,1.45,0.21,1.25,1.25,0.29,2.95,2.55,0.42,0.42,1.65,2.25,1.65,16.95,1.69,9.95,4.15,1.25,0.55,2.95,2.95,3.25,1.25,0.85,1.65,0.42,8.25,0.42,0.85,1.65,4.95,1.95,5.95,1.95,4.95,2.95,1.65,4.25,1.95,1.25,1.25,1.25,1.65,2.95,2.55,5.95,0.85,0.42,0.85,2.1,0.39,0.85,1.25,2.55,3.25,0.85,1.25,2.1,2.95,0.85,4.25,4.65,1.65,5.95,2.95,2.1,1.25,1.25,2.55,0.42,0.85,1.65,2.95,0.55,3.75,2.95,3.95,1.95,1.95,5.95,7.95,0.42,2.1,2.1,8.25,2.1,1.69,3.25,1.95,1.25,0.85,2.55,1.65,1.65,0.85,2.55,1.45,24.95,2.95,0.65,0.55,4.95,0.85,3.75,1.45,2.95,3.95,2.95,12.75,2.95,1.65,6.35,6.75,1.65,0.19,0.55,0.85,1.45,0.85,1.45,0.55,0.42,10.95,0.85,2.55,0.85,1.95,2.95,1.49,1.65,0.95,1.25,2.1,0.42,2.95,6.75,2.95,2.95,2.1,0.85,1.25,1.25,0.29,2.1,1.25,0.85,1.25,1.25,5.45,1.25,1.95,3.75,1.25,14.95,1.25,1.95,1.69,1.65,1.25,1.45,0.85,3.75,0.3,0.42,1.25,2.1,0.55,2.1,12.75,4.95,14.95,2.08,2.1,7.95,1.65,1.95,0.42,0.21,1.45,2.1,4.15,1.45,0.65,0.83,1.65,7.95,0.65,1.45,1.25,7.95,2.95,0.65,4.95,14.95,5.95,4.95,8.5,1.25,0.85,1.25,0.42,12.75,2.1,0.42,1.45,0.85,2.55,1.49,4.95,8.5,2.1,4.95,1.95,8.5,1.25,18.0,7.65,3.95,2.95,2.95,2.95,0.42,2.95,5.95,0.65,4.95,1.65,8.5,1.65,6.95,2.55,1.45,3.75,7.95,1.25,0.55,1.25,2.25,0.85,2.1,8.5,1.95,2.1,0.55,2.95,8.95,14.95,1.65,0.29,4.95,3.95,1.65,3.75,5.95,4.15,2.55,1.65,1.25,0.85,0.42,2.55,1.65,1.95,1.69,7.95,4.95,0.85,2.55,1.95,3.75,4.95,3.75,3.75,4.95,4.95,2.95,2.95,7.95,0.42,0.85,12.75,8.5,1.95,1.45,1.95,7.95,1.65,1.25,2.95,1.65,1.25,0.85,2.55,3.75,0.42,2.55,1.85,2.55,1.25,1.65,1.95,2.55,2.55,0.65,2.55,1.65,0.85,1.25,0.85,1.25,1.65,2.1,1.95,1.45,1.95,0.42,0.21,0.65,0.55,1.25,3.25,0.85,0.85,0.85,2.95,1.45,0.39,2.08,1.25,12.75,2.95,0.65,1.95,8.5,1.65,0.85,1.25,2.55,0.55,5.95,1.69,0.65,1.95,7.65,1.25,0.85,2.95,0.85,0.85,1.25,1.49,2.95,0.65,4.95,1.25,0.85,1.65,0.85,7.95,0.85,0.55,1.25,2.95,0.42,12.75,3.75,1.25,8.5,0.85,0.55,16.95,1.65,4.95,0.65,4.95,1.69,1.95,0.83,1.45,2.55,4.25,1.65,4.95,4.95,4.25,4.15,0.83,5.95,1.65,1.25,7.95,2.95,1.45,3.75,2.55,1.65,1.25,3.75,2.95,1.25,0.95,0.95,1.95,1.65,9.95,1.65,0.42,1.45,0.55,2.95,1.25,0.42,1.25,0.42,0.39,1.25,2.1,7.95,2.95,2.1,0.85,0.42,1.65,8.5,0.85,1.95,7.95,7.95,2.1,2.95,1.25,2.95,1.65,1.65,2.95,1.65,1.95,2.95,2.1,2.95,8.5,0.42,1.25,2.95,2.1,1.65,2.1,0.85,3.75,5.95,2.1,2.55,0.42,2.95,1.45,6.75,7.95,7.95,12.75,1.25,5.95,2.1,0.55,0.85,2.1,1.65,7.95,1.25,1.65,7.95,1.69,4.25,5.95,3.75,0.65,8.95,0.55,2.95,4.95,2.1,5.95,0.85,1.25,1.25,0.95,1.25,1.65,1.95,2.55,1.65,1.95,2.95,1.45,1.69,1.25,8.5,4.95,1.65,1.25,3.75,0.42,1.25,2.95,2.95,0.85,12.75,2.95,3.25,1.25,0.42,0.42,2.95,1.45,1.95,2.95,6.75,1.25,2.1,7.95,2.95,3.75,1.25,3.45,2.95,2.95,0.85,2.1,0.85,0.85,1.25,2.95,5.95,2.1,3.75,2.1,7.95,1.45,2.08,0.42,2.55,1.06,1.25,2.08,1.69,3.75,1.25,3.75,0.85,1.65,1.69,1.25,0.85,2.95,1.45,4.95,1.65,0.42,1.65,1.25,1.25,1.95,2.1,0.42,1.25,4.95,1.25,0.85,5.95,0.55,8.5,2.55,8.5,2.95,0.55,12.75,5.95,0.85,5.95,2.1,1.95,1.65,1.65,1.65,2.1,1.65,4.95,0.85,2.55,1.65,1.95,1.25,8.25,1.25,7.95,1.25,0.42,2.1,4.95,0.29,6.75,2.95,1.25,1.65,14.95,1.25,0.55,2.1,2.55,0.85,2.1,1.25,1.25,9.95,2.1,2.95,1.25,1.25,8.25,0.85,7.95,2.55,4.25,0.85,1.45,29.95,1.25,0.42,1.25,1.95,8.5,1.69,1.95,3.75,2.55,3.75,4.25,5.95,3.75,4.95,1.65,1.25,1.65,1.25,5.95,0.42,0.42,4.95,0.42,5.95,1.65,1.25,2.55,2.25,1.25,2.55,1.25,1.25,1.25,2.95,16.95,3.75,7.95,2.95,0.55,2.95,1.45,3.95,1.25,2.1,0.55,0.85,1.45,0.55,1.25,2.1,1.25,2.08,1.45,2.55,1.25,1.65,2.95,3.75,4.95,2.1,4.15,3.95,2.1,0.42,4.95,4.95,5.45,0.29,2.95,0.65,1.65,4.95,6.95,2.95,3.75,2.95,4.95,4.95,2.95,0.65,1.65,3.95,7.95,1.25,0.65,2.95,1.25,2.55,1.25,2.1,2.55,1.05,2.95,1.25,5.95,9.95,1.45,9.95,2.1,1.65,0.85,0.55,1.95,2.55,4.25,9.95,1.25,1.65,0.42,4.25,2.08,2.1,0.85,2.55,0.85,1.95,9.95,0.85,2.25,1.25,1.25,3.75,0.85,0.85,2.1,1.25,1.95,1.95,0.21,9.95,0.42,0.85,1.25,0.95,1.95,2.55,1.25,2.55,1.25,0.85,4.95,2.95,2.95,1.25,1.95,4.95,1.25,0.55,1.25,0.12,0.85,0.85,1.65,0.85,2.95,2.95,0.85,0.29,2.08,1.45,4.95,1.25,1.65,1.25,0.65,0.29,1.95,4.95,0.85,1.45,1.25,2.95,0.42,4.95,1.06,3.25,3.75,1.65,1.45,1.25,1.65,0.85,1.25,2.95,1.45,2.1,0.85,1.95,2.95,7.95,4.25,1.95,0.85,2.95,1.65,2.55,2.95,4.25,3.75,3.75,2.1,1.25,0.85,1.49,0.42,1.65,1.45,2.55,2.1,2.1,1.25,1.65,1.65,1.65,0.42,2.55,4.25,2.95,0.85,7.95,0.95,1.25,0.65,3.75,5.95,1.65,1.95,2.55,6.95,1.25,1.95,2.95,6.45,8.25,1.25,1.69,9.95,2.95,2.55,1.95,1.45,3.75,1.25,1.65,2.95,0.85,2.95,3.75,2.1,4.95,2.1,0.85,1.25,2.95,1.49,2.95,0.65,1.25,4.95,2.95,9.95,1.95,4.95,1.25,1.69,12.75,2.95,7.95,1.25,0.12,5.95,0.85,2.55,1.95,6.95,1.45,4.65,1.25,3.75,1.25,0.65,3.75,2.1,7.95,8.5,12.75,4.95,9.95,7.95,2.95,1.65,2.1,2.55,2.95,0.85,2.95,2.1,1.25,10.95,4.95,4.25,5.95,8.5,8.5,5.95,12.75,2.55,4.15,1.25,3.95,1.25,0.85,1.45,4.95,6.95,7.95,2.95,1.25,1.25,0.85,0.85,5.95,0.29,8.5,1.65,9.95,1.25,0.55,1.65,1.65,0.55,2.95,1.25,1.69,5.95,8.5,2.95,2.95,3.75,7.95,4.15,0.42,8.5,2.1,5.95,1.25,1.25,1.69,1.45,2.55,0.85,0.85,1.95,0.85,5.95,4.95,1.45,2.95,7.95,1.25,1.25,0.42,1.95,0.42,3.75,2.95,7.95,7.9,2.1,12.75,0.42,2.1,0.85,0.95,2.95,1.65,2.95,2.55,5.95,9.95,2.55,2.55,9.95,0.95,4.95,1.25,1.95,1.69,2.95,3.75,2.55,0.85,4.95,1.25,1.25,1.65,1.65,0.42,2.55,1.65,4.95,7.95,1.65,1.49,0.42,8.5,0.85,0.65,1.25,9.95,1.25,4.95,0.42,0.85,1.95,2.1,2.1,1.65,4.95,2.1,0.42,1.95,1.65,0.85,4.95,1.25,1.95,0.42,0.42,0.85,8.5,2.95,3.75,2.95,0.65,5.95,0.21,3.75,0.85,1.65,0.65,7.95,1.95,7.95,3.75,4.95,0.85,4.95,1.25,0.65,2.95,3.75,0.85,4.65,2.1,1.45,2.95,0.95,1.65,0.19,0.85,1.65,2.95,5.95,0.85,1.95,7.95,1.65,1.49,5.95,1.65,4.95,1.25,2.1,2.95,1.25,3.75,0.85,3.75,2.1,1.25,0.72,3.75,8.25,6.75,2.95,1.25,0.85,7.95,1.25,1.25,1.65,2.55,1.95,1.49,1.65,4.95,1.95,9.95,2.1,4.95,1.95,7.95,2.55,0.85,2.1,4.95,145.0,5.95,4.95,0.85,0.42,1.25,2.1,7.95,0.42,0.85,1.95,2.95,0.42,0.39,6.75,1.25,0.42,2.95,2.55,2.95,1.25,6.75,1.25,1.95,2.1,1.45,0.85,0.42,1.25,4.25,4.95,3.75,2.95,5.95,5.95,0.65,1.25,0.85,2.95,59.95,2.95,1.95,1.45,1.25,6.75,5.95,0.42,1.25,1.25,2.25,1.25,4.25,4.95,0.42,1.25,2.55,6.95,1.25,39.95,0.65,1.25,7.95,0.85,1.45,1.95,2.55,9.95,12.75,5.95,1.65,0.85,4.95,7.95,1.25,1.25,0.42,0.79,2.95,1.06,0.42,2.55,2.95,0.65,7.95,2.95,0.42,3.95,0.29,0.42,2.1,0.42,0.85,0.85,1.95,2.1,2.95,1.65,5.95,2.55,0.85,1.25,2.55,3.75,2.95,2.1,1.95,3.25,2.95,2.1,0.65,1.25,2.95,1.25,2.1,0.42,2.1,2.95,0.85,2.08,4.65,0.42,1.65,1.25,0.55,6.75,0.85,9.95,0.85,1.95,1.25,2.1,0.65,1.25,4.25,1.25,1.25,1.25,1.25,6.75,9.95,3.95,1.95,0.85,4.95,1.25,4.95,2.95,2.95,2.25,1.95,0.85,0.42,2.95,0.42,12.75,0.29,1.95,1.65,1.25,1.06,1.25,4.95,0.55,4.25,7.95,0.65,0.42,1.25,3.75,0.42,1.95,1.25,1.25,0.85,0.85,0.85,1.65,1.25,2.55,3.75,9.95,2.55,1.25,2.25,4.95,12.75,1.95,1.95,1.65,0.42,1.45,0.65,0.85,1.25,0.85,2.1,2.1,1.25,2.1,1.69,1.95,4.25,0.65,1.65,2.1,1.25,1.25,1.65,0.85,1.65,1.49,5.95,2.95,7.95,0.85,0.65,1.65,2.95,1.25,1.95,2.55,0.29,1.45,1.65,1.65,0.85,8.5,4.65,4.15,1.65,4.25,6.95,1.95,0.19,0.75,3.75,40.0,1.65,0.42,1.45,0.72,0.42,0.55,1.45,1.25,4.95,3.75,5.95,1.95,0.42,5.95,12.75,0.65,4.95,1.25,0.42,0.55,1.65,1.25,0.85,0.85,2.95,1.25,1.25,2.55,1.65,4.95,0.85,2.55,0.85,2.1,2.95,7.95,1.25,0.85,1.65,2.95,1.65,6.75,1.25,1.25,1.65,7.95,1.25,1.95,0.42,1.65,1.45,1.25,0.85,5.95,0.42,0.85,1.95,4.25,1.25,12.75,2.95,1.25,1.69,4.95,2.55,0.55,1.69,0.42,2.95,3.75,5.95,9.95,8.5,1.69,1.25,3.75,3.95,0.85,0.85,1.65,1.25,0.55,2.1,1.65,2.1,1.95,0.85,0.95,0.29,12.75,2.1,2.95,2.95,2.1,4.95,1.65,0.85,1.65,4.25,10.95,3.45,1.65,0.21,1.65,8.5,0.65,1.65,4.25,0.39,1.69,2.55,2.55,4.95,1.45,2.95,3.25,1.69,1.25,1.25,7.95,0.85,5.95,3.95,0.85,0.85,2.95,2.95,2.1,1.95,1.65,2.55,4.95,1.69,1.25,4.25,1.45,2.1,4.95,3.75,3.75,1.25,1.25,19.95,4.15,3.75,3.75,3.75,4.25,8.5,1.25,4.95,4.95,3.95,1.45,5.45,0.85,1.49,0.55,0.65,2.55,0.85,18.0,1.65,3.75,0.42,1.95,1.65,2.95,3.75,0.75,1.25,0.85,4.25,1.25,0.42,8.5,1.25,0.85,1.45,0.85,1.25,1.45,12.75,0.42,1.25,1.25,2.1,1.25,7.95,7.95,1.25,3.75,2.95,1.95,0.65,2.95,2.95,0.85,1.25,0.42,12.75,0.65,3.95,1.25,2.95,0.85,0.21,2.55,1.95,1.45,1.25,0.21,1.49,0.85,0.42,2.95,2.08,12.75,1.25,1.65,12.75,8.5,4.25,10.95,4.25,6.75,0.55,1.25,2.55,3.75,8.5,1.25,24.95,2.1,2.1,16.95,8.5,5.45,1.95,4.95,1.49,1.25,1.49,2.1,0.19,1.25,0.42,0.65,0.55,2.55,9.95,0.55,2.55,0.85,1.65,4.95,12.75,2.55,4.95,1.95,0.42,0.42,0.42,1.69,1.65,0.42,1.65,2.1,14.95,1.25,1.65,3.25,1.25,1.95,0.85,1.65,10.75,8.5,1.65,1.65,2.95,3.75,0.85,2.1,1.69,1.95,2.95,9.95,1.25,5.95,1.65,1.95,3.75,0.42,1.25,2.1,2.95,1.95,4.25,0.85,1.49,3.75,1.25,6.75,0.21,1.95,2.95,8.5,1.25,1.65,0.21,0.85,1.65,1.25,2.1,18.0,0.85,2.1,1.25,1.69,0.42,8.5,5.95,1.25,1.25,8.5,1.65,1.65,0.85,2.25,1.25,2.1,1.25,7.95,2.55,4.95,2.95,2.95,0.85,2.95,0.55,9.95,1.25,0.85,7.95,18.0,2.95,2.55,4.95,1.25,1.25,9.95,1.65,3.75,2.95,0.95,1.95,0.83,1.45,1.25,2.1,3.75,1.95,1.25,1.95,0.42,2.1,2.95,4.95,1.65,1.95,2.1,0.85,2.95,1.25,0.55,1.95,4.95,2.55,0.55,3.75,2.95,2.55,4.95,2.55,0.19,18.0,1.25,4.95,3.45,1.65,1.25,6.75,0.42,3.95,0.65,1.25,5.95,1.25,2.55,1.25,0.55,4.95,2.55,2.55,2.55,1.25,1.95,1.65,0.55,5.95,0.42,4.95,2.55,1.25,2.95,0.42,2.95,4.95,0.55,0.42,2.08,5.95,1.25,1.95,1.95,12.75,1.65,2.1,2.1,1.95,3.75,4.65,3.75,2.55,1.25,0.85,0.85,0.65,1.65,2.95,10.95,0.65,1.25,2.95,7.95,2.95,4.95,7.95,0.85,1.95,1.95,3.75,1.69,4.95,9.95,1.25,1.25,2.1,0.85,8.5,3.75,2.1,0.42,1.69,7.95,0.42,1.65,3.75,1.65,16.95,1.95,0.85,5.95,1.25,1.25,0.42,5.95,2.1,0.29,2.95,4.95,1.95,0.42,8.5,3.95,0.42,1.95,1.25,4.25,4.25,0.85,2.95,2.1,2.1,1.69,1.25,0.39,2.55,2.1,1.49,1.65,0.42,0.85,7.95,2.95,2.55,0.85,1.25,0.85,1.25,1.65,0.42,0.21,0.85,1.45,3.39,2.95,1.65,1.25,9.95,2.1,0.65,1.65,2.25,3.75,1.65,1.65,3.75,2.1,3.95,8.5,4.15,2.55,1.69,4.95,3.75,1.65,4.95,1.25,3.75,2.55,1.65,1.65,3.95,0.85,9.95,1.95,0.42,4.95,1.65,3.75,1.65,2.1,0.42,5.95,0.42,1.95,7.95,4.95,1.25,7.95,1.25,0.29,2.95,3.75,1.65,0.42,2.25,3.75,0.85,4.95,0.65,1.25,1.95,2.95,1.65,0.53,4.95,1.25,2.95,7.95,0.85,0.85,1.25,2.95,9.95,0.42,0.42,1.95,0.42,0.55,0.42,1.45,2.1,0.85,3.75,0.42,9.95,1.65,4.25,0.85,1.95,7.95,0.42,0.65,1.65,0.65,4.95,14.95,10.95,0.85,3.75,0.42,1.25,1.65,7.65,1.95,1.95,4.95,2.55,1.45,2.1,16.95,195.0,1.65,0.42,0.65,2.95,0.65,1.95,1.65,0.19,3.25,1.69,2.1,1.25,1.65,0.85,1.25,1.25,2.95,0.85,18.0,0.55,12.75,9.95,2.95,7.95,1.45,2.1,0.65,1.25,8.5,3.75,1.95,1.65,2.95,0.85,5.95,1.69,2.55,2.95,1.65,4.95,3.75,7.95,4.65,1.65,1.25,5.95,2.55,0.29,0.65,2.55,1.95,1.25,0.85,1.25,9.95,3.25,0.85,0.85,1.65,2.1,0.85,0.42,1.25,0.85,3.75,1.65,1.65,2.95,5.95,2.95,1.95,2.95,1.45,5.95,1.65,1.65,1.45,7.95,7.95,3.75,2.55,0.85,4.65,1.25,1.25,0.85,3.75,0.42,5.95,0.85,4.95,0.65,2.1,2.55,1.25,1.25,0.65,5.95,0.29,0.85,4.65,2.1,1.95,1.45,1.69,1.65,4.95,0.55,0.42,4.15,3.75,1.25,5.95,1.25,7.95,2.55,2.1,0.42,10.75,5.95,0.42,2.55,4.65,12.75,4.65,4.25,1.95,4.25,7.95,1.65,0.85,0.42,1.65,0.85,1.25,2.1,1.25,15.0,0.42,0.65,18.0,1.95,0.42,0.85,2.55,7.95,3.75,0.55,3.39,1.95,0.42,1.25,1.25,1.25,1.25,1.25,2.55,1.65,2.1,0.55,0.85,1.25,3.81,2.95,0.42,0.29,1.25,3.95,2.55,0.42,2.95,0.42,2.95,0.65,1.45,1.95,2.95,1.25,0.65,4.95,0.42,0.85,1.65,0.65,3.25,1.25,1.65,0.85,1.69,4.15,1.65,3.75,12.75,0.55,1.25,0.42,4.25,7.95,1.25,2.95,7.95,0.85,0.42,4.95,1.25,2.1,1.95,1.95,8.5,4.65,8.5,1.25,3.25,0.65,1.65,1.45,2.1,2.95,4.95,1.65,1.65,4.15,5.95,2.95,2.55,2.1,5.95,1.65,2.1,12.75,1.06,4.15,2.95,1.25,1.25,1.65,2.95,2.95,2.1,2.95,4.95,4.95,1.25,0.85,1.25,1.25,0.42,1.65,0.85,8.5,1.25,1.25,1.25,1.65,1.95,1.65,7.95,4.25,0.21,14.95,1.25,9.95,14.95,7.95,3.75,3.75,0.42,0.39,2.95,4.25,5.45,0.85,1.95,2.95,0.85,1.65,12.75,1.25,0.65,1.45,1.25,1.25,1.45,12.75,0.55,0.21,2.55,1.65,3.75,1.65,0.42,1.65,1.25,0.42,0.85,2.1,1.25,3.25,2.55,0.42,1.25,0.85,9.95,1.95,2.95,2.55,2.95,5.95,1.25,1.65,0.65,4.95,5.95,0.42,2.95,1.25,7.95,1.69,1.25,2.1,5.95,1.45,4.25,1.65,9.95,8.95,1.95,2.1,0.65,6.45,1.65,1.25,2.55,4.95,5.45,1.65,0.85,1.95,8.5,2.95,0.85,0.65,5.95,1.25,2.25,2.55,2.95,0.65,2.95,4.95,1.25,4.95,3.45,4.95,1.65,4.95,8.25,2.1,0.55,1.25,8.5,7.95,2.55,2.55,0.85,1.25,2.95,1.25,1.25,0.85,0.42,8.25,1.25,3.75,5.95,1.95,2.95,3.75,5.95,0.42,1.65,1.25,1.95,1.95,6.75,2.95,2.55,1.65,2.1,0.42,1.65,9.95,2.1,1.65,12.75,1.25,9.95,3.25,0.55,0.42,0.85,7.95,4.95,0.85,0.85,1.65,1.25,2.1,0.85,2.95,2.95,1.25,0.85,2.1,0.55,2.25,0.42,9.95,1.95,5.95,1.65,2.55,1.25,0.85,4.25,0.85,2.95,18.0,0.85,2.95,0.85,2.95,2.95,7.95,1.49,2.95,0.42,1.25,1.65,1.25,0.42,0.42,1.95,1.25,0.85,2.95,1.25,4.95,1.65,0.42,7.95,5.95,1.25,2.1,0.29,0.42,0.85,12.75,2.95,2.1,2.95,8.5,1.25,2.1,1.95,0.85,1.95,2.95,0.42,1.65,0.42,1.65,1.25,1.25,1.25,1.95,1.65,0.85,2.1,2.95,1.95,1.25,2.95,0.65,9.95,4.15,1.65,1.25,1.25,4.95,4.25,8.5,1.65,1.25,3.95,2.95,1.25,5.95,0.85,1.25,7.95,1.06,2.95,1.25,8.5,2.55,0.29,1.25,4.25,0.42,4.95,4.95,4.95,2.1,0.42,0.85,2.1,1.25,2.08,4.25,1.65,2.95,7.95,4.15,1.25,1.95,2.95,1.65,5.95,1.25,4.95,1.25,0.55,5.95,0.42,0.95,1.25,7.95,16.95,2.95,1.06,0.42,3.75,4.15,1.65,3.75,1.25,3.75,8.25,2.95,6.75,2.95,0.42,1.25,0.85,1.25,1.25,1.25,0.85,1.95,1.65,0.29,0.42,9.95,4.25,1.25,2.95,1.25,2.1,8.5,0.85,5.95,1.25,1.25,1.45,3.75,3.75,2.08,3.25,4.95,0.29,1.45,1.95,2.95,2.95,0.85,2.95,1.65,1.45,1.25,2.1,18.0,1.69,4.95,1.95,0.85,5.95,1.25,1.45,7.95,0.42,8.5,1.95,4.95,0.42,1.25,0.42,4.95,0.42,1.65,2.95,3.75,0.12,2.95,1.95,0.65,1.95,2.95,1.25,2.95,0.42,2.95,1.25,2.55,1.95,12.75,3.75,1.25,1.65,4.95,2.95,2.55,4.15,1.25,1.25,1.65,1.95,3.75,0.85,1.65,1.45,0.85,1.95,2.95,1.25,2.95,3.75,0.42,1.65,0.85,0.65,4.65,1.95,1.25,1.25,3.25,0.85,2.95,3.75,4.95,2.55,0.42,0.85,5.95,12.75,2.55,5.45,1.25,1.25,2.95,1.95,2.95,2.95,7.45,3.75,9.95,2.1,6.75,1.95,1.65,0.65,2.55,1.25,1.25,0.65,4.95,3.75,0.55,1.95,1.45,1.25,8.5,2.1,7.95,1.95,1.65,1.45,5.95,0.42,2.55,2.1,9.95,1.65,1.65,0.55,2.55,5.95,3.75,1.95,2.55,1.25,1.65,1.45,0.21,1.65,1.25,0.55,0.85,1.25,0.42,1.65,9.95,1.25,1.45,2.55,49.95,0.75,2.1,1.95,1.95,4.25,2.95,1.95,2.95,2.95,0.85,4.65,7.95,2.95,1.65,1.25,1.65,4.25,0.95,1.95,1.65,1.45,12.75,7.95,1.95,2.1,0.85,1.65,1.65,1.69,1.65,5.45,9.95,2.95,1.95,1.95,0.42,0.42,35.95,0.42,2.95,0.42,0.85,4.25,4.95,2.1,0.65,1.65,3.75,4.95,0.65,12.75,0.65,1.25,0.85,1.25,0.65,0.55,4.95,2.95,1.25,2.95,7.95,2.95,0.42,2.25,0.42,1.95,0.42,3.95,8.5,0.42,2.95,65.0,0.42,0.85,0.12,1.65,8.5,2.95,2.55,2.55,3.95,1.25,6.95,2.1,1.45,1.65,1.65,4.25,0.42,7.95,1.65,3.75,5.95,0.39,3.75,0.85,1.65,1.95,1.95,6.75,8.5,1.95,5.95,8.5,0.85,5.95,0.55,9.95,1.45,3.75,1.65,1.25,1.95,4.95,1.95,1.49,2.95,0.42,0.85,0.85,2.55,1.65,0.85,1.25,2.08,1.65,0.75,4.95,2.1,0.42,1.95,29.95,2.95,0.85,3.95,3.75,2.25,1.95,12.75,0.85,1.25,2.95,1.95,1.95,2.55,0.85,9.95,1.25,6.35,0.85,6.95,4.25,3.95,7.95,4.15,1.25,0.85,3.75,5.95,2.95,1.65,0.85,0.85,1.25,2.1,2.95,1.69,2.1,1.95,0.85,1.45,2.95,1.65,0.42,2.95,2.1,9.95,14.95,1.45,14.95,0.85,0.55,1.65,1.95,1.95,1.95,2.95,0.85,7.95,0.85,6.75,0.85,1.25,1.25,1.65,2.1,2.55,4.95,1.95,1.25,1.95,2.1,7.95,1.69,0.65,2.1,1.25,1.25,7.95,2.08,1.25,1.65,3.75,7.95,4.95,2.1,7.95,0.85,3.95,4.95,0.65,1.95,1.65,2.1,0.85,1.25,2.08,2.95,2.1,16.95,2.1,1.95,0.65,0.55,2.1,1.95,8.5,0.42,1.45,0.85,1.65,0.65,1.65,1.25,0.55,2.55,3.75,1.65,1.49,2.95,3.75,3.75,2.95,16.95,1.95,1.45,4.15,1.25,1.25,8.5,2.1,0.42,0.42,0.42,2.95,0.85,0.85,5.95,3.75,2.1,1.25,1.65,0.85,2.95,2.55,4.25,2.55,7.95,0.42,2.1,1.65,0.55,4.95,0.55,1.25,10.95,4.25,1.95,1.69,1.65,0.42,2.55,0.85,2.95,2.95,4.25,6.75,0.65,1.95,2.25,1.25,1.25,7.65,0.65,0.65,1.65,1.95,4.25,4.95,1.69,6.95,0.42,0.85,1.25,2.95,1.65,1.65,1.25,12.75,1.95,2.95,1.25,1.65,2.95,1.95,1.95,2.1,1.25,2.95,0.85,2.95,1.25,0.65,8.25,2.55,0.85,1.65,3.75,0.85,7.65,1.45,1.25,3.75,1.25,1.25,0.65,4.95,1.65,2.1,2.95,0.85,1.65,1.65,8.5,1.25,0.65,1.25,2.1,4.95,4.95,1.25,0.55,2.95,2.1,4.95,2.1,2.55,8.5,2.95,2.25,1.45,8.5,1.65,1.45,1.95,7.95,1.25,9.95,3.75,0.55,0.65,0.72,8.25,2.08,4.25,0.42,3.75,1.25,2.95,0.85,0.85,4.95,0.42,3.75,0.42,3.75,7.95,5.75,9.95,5.75,0.42,12.75,3.39,2.55,1.25,1.95,1.45,4.25,1.65,2.55,1.25,1.25,0.42,9.95,12.75,2.95,1.25,5.75,4.95,0.83,3.75,1.65,1.65,0.65,1.65,0.42,2.1,1.25,0.85,1.25,1.95,0.85,1.25,0.65,9.95,1.25,3.75,1.49,0.42,4.95,1.25,1.25,1.25,1.45,5.95,1.95,1.49,1.25,2.95,3.95,0.19,0.85,1.25,1.65,0.85,1.65,1.25,0.42,6.95,1.25,1.25,9.95,0.42,12.75,2.95,5.95,9.95,0.85,3.75,2.95,2.1,0.42,3.75,2.95,6.35,1.95,5.95,2.55,2.55,2.1,4.95,0.42,2.55,2.95,50.0,0.65,2.95,14.95,12.75,1.45,4.95,2.95,1.95,2.95,0.29,2.1,5.45,3.95,2.55,2.55,4.95,1.95,1.25,1.69,2.95,15.95,0.42,4.95,1.95,0.85,2.95,1.85,3.75,6.75,9.95,1.25,4.95,1.65,2.95,1.95,2.1,2.1,1.25,1.95,3.75,1.65,3.75,2.95,3.25,4.25,2.1,1.95,7.95,1.65,0.42,1.25,5.45,9.95,2.1,1.25,2.55,7.65,2.1,4.25,2.95,3.25,2.95,0.85,1.25,8.5,1.69,1.65,2.55,0.42,0.72,3.75,3.75,39.95,5.95,5.95,4.95,1.25,1.25,0.85,2.1,14.95,0.42,1.95,1.65,1.95,12.75,1.25,2.1,1.25,2.95,1.95,0.65,1.65,39.95,7.95,0.42,0.55,2.95,1.65,9.95,1.25,2.95,2.95,4.15,2.1,1.65,2.1,0.39,1.06,1.65,0.85,1.65,0.42,1.95,0.29,5.95,0.42,1.25,1.25,1.25,2.55,7.95,0.42,1.25,0.85,1.69,0.42,1.65,8.5,0.55,2.95,3.75,1.25,4.95,8.5,2.55,10.95,9.95,1.25,2.95,8.5,1.95,1.95,0.42,0.39,0.85,1.45,1.69,1.65,0.12,0.65,8.5,0.42,5.95,5.45,2.95,2.1,5.95,7.95,0.85,1.65,1.65,3.95,3.25,1.69,2.55,4.25,4.95,2.95,2.95,1.69,2.95,0.65,2.1,0.85,2.55,2.1,8.5,1.25,0.85,7.95,0.85,3.75,1.65,0.85,1.25,5.95,0.21,4.25,0.95,0.85,1.95,2.95,0.42,1.69,2.55,1.25,7.65,0.55,0.21,7.95,2.1,0.85,1.95,1.95,2.95,0.42,1.95,1.25,1.95,6.75,1.69,5.95,1.25,2.95,1.95,0.85,2.1,8.5,1.95,2.55,0.85,6.75,4.25,1.65,2.95,1.25,0.85,1.25,2.95,2.95,7.95,3.75,0.42,1.95,1.25,2.1,1.65,2.95,1.95,1.25,0.85,0.85,5.95,7.95,0.79,1.25,2.95,1.25,1.95,7.95,2.95,0.42,4.95,0.85,6.45,2.55,1.65,1.25,0.85,0.42,9.95,1.25,2.95,2.95,1.65,0.65,3.39,4.95,9.95,1.25,3.81,1.45,6.35,2.95,0.85,2.08,1.65,8.25,7.95,3.95,1.65,2.1,0.85,0.42,4.95,1.65,1.69,4.25,0.85,1.95,0.85,1.69,0.85,12.75,2.95,1.25,3.75,2.1,4.95,1.25,3.75,0.85,1.45,1.65,0.85,1.25,1.65,0.85,2.1,1.25,1.95,2.95,1.25,3.75,4.15,2.1,12.75,1.25,7.95,1.25,1.25,5.95,1.25,0.42,7.95,3.75,2.08,1.95,1.25,1.65,1.25,0.12,10.95,2.1,1.25,1.65,1.25,8.5,0.29,1.95,0.85,0.39,1.95,2.95,4.25,1.65,4.95,0.85,2.95,4.95,0.42,1.65,0.65,1.95,1.25,1.25,0.29,0.85,2.55,0.72,0.85,0.42,1.65,1.65,2.55,1.95,0.85,1.25,1.65,1.25,1.25,4.95,2.55,1.69,2.95,1.95,6.95,2.1,12.75,1.65,1.25,0.85,0.95,1.65,4.25,6.95,1.25,0.42,0.42,0.42,0.55,4.95,1.45,0.42,1.65,1.45,0.55,1.65,6.75,1.25,1.45,5.45,2.55,1.65,1.25,1.45,1.25,1.25,1.65,7.95,0.42,2.95,1.25,1.25,1.65,1.65,1.85,1.25,9.95,2.1,9.95,2.55,0.55,2.55,8.5,2.95,0.42,2.55,1.95,1.69,3.75,2.1,0.85,1.95,2.95,1.65,1.25,0.95,7.95,4.95,1.45,2.95,1.65,3.95,3.95,7.95,4.65,3.75,12.75,0.65,2.95,1.25,4.25,8.5,4.95,0.65,0.85,8.5,4.95,0.42,7.95,5.45,2.95,0.65,5.95,9.95,0.95,0.85,0.55,1.25,1.25,1.45,2.95,0.42,2.95,9.95,2.95,0.79,0.85,1.95,1.65,1.65,2.95,5.95,7.95,2.55,2.95,1.65,3.75,4.95,2.55,3.75,1.65,4.15,2.95,4.25,2.1,1.65,14.95,3.75,0.85,1.25,1.95,1.65,8.95,12.75,1.49,2.1,1.45,4.95,1.65,1.65,1.45,2.1,1.25,1.95,2.55,1.45,1.25,1.45,1.25,1.95,4.95,5.95,8.5,2.08,1.25,0.85,0.42,2.55,1.95,3.39,0.29,0.85,8.5,2.95,2.55,0.85,1.25,4.95,5.95,4.95,0.42,1.65,3.75,0.85,0.85,9.95,3.5,1.65,4.95,5.95,1.25,4.95,6.75,1.65,1.65,0.85,0.85,2.1,2.1,4.95,2.1,16.95,0.42,2.1,5.95,2.1,7.95,1.95,0.65,5.49,1.25,0.42,2.95,6.75,4.95,14.95,0.95,5.95,2.95,0.95,1.65,1.25,7.9,0.42,1.25,5.75,2.95,1.25,2.95,1.25,0.19,0.42,1.65,0.42,1.25,3.75,6.95,1.06,0.85,3.35,0.55,2.95,2.95,1.65,1.25,3.75,1.95,2.95,12.75,1.45,0.55,5.95,2.55,3.75,4.15,1.45,1.65,1.25,3.95,0.65,3.75,3.75,7.95,0.55,1.65,0.55,0.55,0.85,4.95,2.1,0.95,1.65,0.85,1.25,3.75,2.25,0.85,2.1,2.95,1.95,2.95,0.65,2.55,0.42,0.55,3.75,4.25,2.55,6.75,14.95,1.25,0.55,2.95,4.95,0.42,0.85,3.95,3.75,0.55,0.42,1.25,2.55,1.25,2.95,5.45,0.85,1.69,0.85,0.65,2.95,2.95,2.55,1.25,4.95,1.25,3.75,0.85,0.42,0.65,2.1,2.95,1.65,3.25,2.95,8.5,4.15,1.25,3.75,1.45,3.75,1.65,14.95,5.95,2.95,1.45,0.42,4.25,3.75,2.55,1.65,2.08,2.95,2.1,1.25,2.1,2.95,1.69,2.1,2.95,2.55,1.95,2.1,8.25,3.75,2.55,2.95,0.55,2.1,16.95,1.25,0.85,0.42,1.25,1.65,3.95,1.25,8.5,0.85,0.29,1.25,4.25,2.95,5.95,2.1,4.15,1.95,0.42,1.95,1.25,4.25,1.95,8.5,7.65,0.42,0.55,4.95,1.65,3.75,0.85,12.75,2.08,7.95,1.65,7.95,1.95,1.95,2.95,0.42,3.75,2.95,2.95,5.95,0.42,4.95,1.65,3.75,4.95,7.95,2.95,3.95,0.55,1.65,0.42,1.65,10.95,0.12,6.35,1.65,15.95,0.55,3.75,1.95,1.65,0.85,2.1,1.25,8.5,2.95,0.85,3.75,1.65,0.85,8.49,1.65,1.25,1.65,1.25,2.95,1.65,2.1,1.25,7.95,0.85,1.95,3.75,1.65,1.45,3.75,2.1,1.25,12.75,1.25,0.85,1.65,3.75,5.95,0.85,0.85,0.55,1.69,0.85,1.25,1.25,0.55,1.25,3.75,1.65,7.95,16.95,5.95,3.75,2.1,1.49,8.5,2.95,2.1,0.85,2.95,5.95,1.95,6.75,2.95,2.95,1.25,2.1,0.85,0.42,0.85,0.21,1.65,9.95,1.69,4.95,0.85,12.75,4.95,6.75,2.1,2.55,3.75,1.25,4.25,0.55,1.95,6.75,0.85,1.25,12.75,12.75,2.1,1.69,0.42,3.95,1.25,3.75,2.1,2.95,0.85,2.95,0.55,0.85,0.42,1.65,3.25,8.5,7.95,2.55,0.42,0.55,1.25,2.1,9.95,9.95,0.21,10.75,1.95,3.95,0.79,2.1,0.42,5.95,2.1,2.1,2.1,0.42,1.25,2.1,2.1,0.42,2.95,3.95,1.25,7.95,3.95,0.42,1.25,1.45,1.25,4.15,1.65,1.95,1.25,3.75,5.95,1.65,2.1,0.42,2.95,0.42,7.65,0.42,2.95,0.55,1.65,1.95,2.95,1.25,8.5,1.25,2.55,18.0,0.85,12.75,8.5,0.85,0.25,2.95,4.65,1.25,2.1,1.95,0.85,0.42,1.25,2.95,4.95,1.45,4.25,0.85,4.95,0.42,4.95,9.95,3.75,1.65,0.29,1.45,9.95,14.95,2.55,1.65,1.95,1.69,2.95,9.95,1.65,0.42,2.1,8.5,1.25,5.95,1.65,9.95,1.65,0.85,0.42,0.65,0.85,2.95,2.95,9.95,1.65,1.95,2.95,0.42,15.0,0.85,1.25,2.1,0.42,4.25,1.25,5.95,2.08,0.42,1.25,3.95,1.25,1.69,1.95,1.69,1.65,2.95,1.25,0.55,0.65,4.25,2.55,0.42,0.55,0.55,0.39,0.42,2.95,1.45,1.25,1.95,2.95,4.95,0.42,0.29,2.1,0.85,3.75,10.95,3.75,1.65,2.1,0.85,9.95,4.95,0.55,1.65,4.95,0.85,0.42,0.85,2.95,5.45,0.85,0.65,9.95,7.95,2.1,1.45,1.95,1.25,3.75,8.5,7.95,2.1,1.65,2.95,0.85,0.85,2.55,4.95,1.95,8.5,2.95,3.75,2.55,8.95,2.95,4.25,1.25,1.25,4.95,1.65,12.75,1.25,2.55,1.25,2.55,2.95,7.95,3.75,4.95,7.95,3.75,2.55,1.06,0.21,1.65,2.55,3.95,3.39,1.25,1.25,21.95,0.42,14.95,1.95,1.25,3.75,1.45,1.25,3.95,2.95,0.85,8.25,7.95,1.65,0.85,4.95,5.95,1.65,2.55,5.95,3.75,0.85,1.25,6.75,3.75,1.95,0.38,2.1,7.95,0.85,4.95,0.21,1.65,1.95,7.95,4.25,2.55,2.1,0.19,0.95,0.85,6.75,0.85,1.95,8.5,0.65,1.25,2.95,1.25,1.95,0.65,2.1,1.65,3.75,1.25,1.25,2.95,5.95,8.5,1.65,0.21,0.55,2.95,0.85,2.95,3.75,2.95,3.75,1.69,1.25,4.25,0.65,0.85,2.25,1.25,5.95,12.75,1.25,0.42,1.25,3.75,1.95,2.95,0.85,1.25,4.95,1.25,2.1,1.45,9.95,18.0,0.42,2.95,0.42,2.55,6.95,2.95,4.95,4.25,2.95,9.95,1.95,2.55,1.25,0.85,4.95,9.95,2.55,1.45,1.69,7.95,16.95,3.95,3.75,1.95,0.42,9.95,2.1,2.1,2.55,2.1,1.25,4.95,1.65,2.95,1.85,2.95,4.95,1.95,1.25,2.55,8.5,1.25,1.65,1.25,1.25,4.95,2.95,8.95,0.85,4.95,2.95,0.65,1.65,1.25,1.25,10.95,3.95,0.55,0.42,3.75,1.45,2.1,8.5,0.65,2.55,3.75,2.95,3.75,1.25,2.08,2.1,2.95,1.69,4.25,1.25,1.69,1.69,0.42,2.1,0.55,2.95,0.65,1.25,0.85,2.1,0.42,0.42,2.95,1.95,2.55,1.65,0.42,3.95,1.25,4.15,1.25,5.95,0.85,2.95,4.15,6.75,0.42,5.95,2.95,1.25,2.95,2.95,2.95,1.25,0.42,1.25,1.25,2.55,0.85,1.25,0.55,1.25,2.1,1.65,9.95,1.49,0.85,1.25,2.95,1.65,0.85,8.25,3.75,1.25,9.95,1.25,0.42,1.95,2.1,0.42,2.55,1.65,0.42,1.45,1.65,4.95,4.95,3.75,2.1,5.95,1.69,7.95,2.95,2.55,2.55,0.55,2.1,7.95,10.95,0.65,1.25,3.75,5.95,2.95,2.95,0.85,0.42,1.95,1.95,0.42,1.65,8.5,3.95,1.65,1.25,1.45,0.85,2.95,1.45,0.29,4.15,1.65,0.42,0.85,5.45,0.85,1.95,2.95,3.75,4.95,1.25,0.85,3.75,5.95,1.25,2.55,7.95,0.42,3.75,1.65,1.25,2.95,2.95,2.95,1.65,1.65,0.42,0.42,0.42,1.95,9.95,1.25,1.25,2.95,4.95,0.42,1.25,1.95,1.25,0.55,1.25,0.85,1.65,9.95,2.95,1.95,0.65,2.55,8.5,8.5,1.95,2.25,5.95,0.42,2.55,0.42,7.95,7.95,2.25,7.95,1.95,0.55,1.25,0.85,1.25,1.49,1.06,1.45,2.95,0.85,2.55,0.55,4.95,0.55,0.39,7.95,12.75,2.1,1.25,1.25,7.95,1.25,0.36,1.65,0.83,1.95,2.1,2.08,3.75,0.5,1.25,2.1,0.85,8.5,16.95,8.5,0.42,1.65,1.45,0.85,5.95,0.65,0.85,7.95,1.95,5.95,2.95,2.95,1.25,1.45,2.95,1.65,8.5,6.35,1.25,12.75,0.29,1.95,2.95,1.25,5.95,1.65,2.89,2.95,4.25,2.1,2.1,2.55,0.85,7.95,2.55,7.95,1.06,2.95,0.85,0.85,1.45,2.95,1.45,0.42,1.25,15.0,2.1,0.85,0.85,2.55,1.95,12.75,1.25,1.25,0.85,2.1,3.75,3.95,1.25,2.95,3.39,0.85,2.55,1.65,3.25,2.55,2.95,0.72,0.42,1.45,10.95,0.42,0.65,3.75,2.1,8.5,10.75,0.85,1.69,1.65,0.42,2.95,0.85,2.1,0.65,3.25,0.42,0.55,1.25,2.95,1.65,9.95,4.95,7.95,0.42,1.25,0.42,0.85,4.65,2.95,1.65,1.25,2.95,10.95,3.75,1.25,1.25,2.1,1.95,1.25,0.42,1.95,1.69,3.75,2.1,1.25,0.55,4.95,1.95,6.95,1.25,0.65,0.85,2.95,1.95,2.55,1.95,7.95,1.95,2.95,1.75,1.65,8.5,7.95,3.95,0.65,3.75,1.65,2.1,0.39,1.69,1.25,4.95,2.95,1.25,1.95,6.35,0.65,3.75,0.29,1.25,0.85,0.83,2.95,4.25,7.95,4.25,7.95,5.95,0.85,1.65,1.25,8.95,0.42,2.55,0.18,1.65,1.65,4.95,2.55,2.08,0.42,7.25,2.55,1.69,1.25,0.42,0.65,3.95,12.75,1.65,0.42,0.42,1.95,125.0,0.85,14.95,1.25,0.65,0.85,9.95,0.42,1.65,1.45,2.95,12.75,2.1,2.55,5.95,0.85,1.65,0.85,5.95,5.95,9.95,1.95,0.72,2.55,2.95,0.85,5.95,0.85,0.29,5.45,6.45,0.65,8.5,0.85,2.95,0.42,0.85,9.95,1.95,1.69,1.25,2.95,0.65,6.95,1.95,6.95,4.25,0.21,7.95,1.65,2.1,0.65,1.25,4.65,1.25,0.55,2.95,2.95,2.55,2.1,2.55,6.95,2.95,1.65,1.25,1.65,1.95,0.85,0.42,1.25,0.42,1.95,2.95,2.95,4.25,2.95,0.42,0.85,1.65,1.25,3.75,1.45,2.1,1.25,1.45,0.55,1.65,0.85,0.39,2.95,3.75,6.75,1.25,1.69,7.95,2.1,0.85,4.95,2.95,1.45,6.75,1.25,1.49,1.45,7.95,0.72,5.95,1.25,2.95,0.85,2.95,2.55,1.65,4.95,3.75,1.25,1.65,1.25,1.25,0.42,2.55,1.65,0.42,2.55,1.65,1.95,2.1,0.85,3.35,1.65,8.5,0.65,1.65,2.55,8.5,1.95,0.85,0.42,0.85,1.25,0.65,1.25,1.95,0.85,2.95,3.75,6.95,1.25,0.42,0.65,1.95,8.5,1.65,7.95,7.95,1.65,1.25,4.25,1.65,2.95,8.5,0.85,1.25,4.95,4.25,1.25,9.95,7.95,1.95,1.25,2.95,1.45,0.85,5.95,5.95,8.5,0.85,3.95,4.95,0.42,0.29,1.25,1.65,0.85,8.5,0.42,1.95,3.75,3.75,1.65,0.85,1.95,2.55,1.25,9.95],\"coloraxis\":\"coloraxis\",\"symbol\":\"circle\"},\"mode\":\"markers\",\"name\":\"\",\"showlegend\":false,\"x\":[3.75,4.65,0.42,1.25,0.85,1.25,2.95,0.42,1.65,1.65,0.85,2.55,1.45,2.1,1.95,2.95,0.42,1.45,1.06,4.25,7.95,2.1,12.75,1.95,2.95,2.55,0.55,1.65,1.25,4.25,1.25,1.69,1.06,2.55,4.95,1.65,2.95,1.25,1.95,0.85,1.25,2.95,2.95,1.45,3.39,1.45,3.75,1.65,0.42,4.15,0.65,4.25,2.1,1.25,2.55,0.42,1.25,1.45,12.75,1.95,9.95,0.42,7.95,1.65,3.95,2.89,0.85,1.65,1.95,1.65,4.25,2.95,2.55,0.85,1.25,0.65,1.25,0.85,0.85,7.95,2.55,5.45,1.65,0.85,1.65,0.85,0.85,0.55,3.75,1.25,1.45,3.75,8.5,1.95,4.95,4.25,2.1,0.42,8.25,0.42,3.75,4.95,0.55,1.25,1.45,1.25,2.95,2.1,2.95,2.55,2.95,1.95,1.69,0.21,2.1,1.65,4.25,3.75,1.25,0.42,0.42,0.85,3.75,6.75,3.95,7.95,4.95,1.25,2.95,1.25,1.25,2.55,1.95,0.85,3.25,6.35,1.95,1.25,2.95,0.85,1.95,0.65,0.85,1.65,0.95,4.95,0.85,5.49,3.75,2.1,4.95,0.42,0.29,7.95,6.75,3.25,0.19,2.1,2.95,0.55,1.45,0.42,0.55,1.95,2.1,3.95,2.1,1.65,1.95,1.65,0.85,7.95,0.85,1.45,0.85,0.65,1.95,7.95,3.75,1.95,2.95,0.85,12.75,1.65,14.95,0.42,1.25,1.69,1.65,1.06,4.95,2.1,3.0,4.25,1.25,7.95,2.95,1.65,4.95,7.95,2.95,4.15,4.95,2.55,1.25,2.1,1.25,1.65,2.95,1.95,2.95,2.08,0.42,3.75,1.65,6.75,1.25,5.95,4.25,1.95,4.95,2.95,0.85,1.25,2.95,10.65,2.55,1.25,1.25,1.25,0.65,3.75,15.0,3.75,1.95,2.1,1.95,9.95,1.65,1.69,5.95,9.95,2.1,3.35,2.95,4.15,1.95,7.95,2.55,1.45,0.95,3.75,3.25,1.25,1.45,2.95,2.95,1.25,1.95,4.25,1.65,3.75,2.55,0.42,1.65,12.75,1.65,12.75,0.42,1.25,1.65,3.75,0.55,12.75,2.55,1.65,4.65,0.42,2.1,2.55,1.25,2.95,0.21,2.55,1.25,0.85,2.1,2.95,50.0,1.95,10.95,1.25,4.95,1.25,3.75,1.25,8.25,0.85,7.95,1.25,7.65,2.95,1.65,1.65,5.95,2.95,2.55,0.42,1.65,4.95,0.85,0.21,1.45,1.65,7.95,7.9,4.95,7.95,1.25,0.85,10.95,1.65,1.45,6.95,7.95,1.65,1.95,0.42,7.95,0.42,0.85,2.95,2.95,4.25,5.95,1.25,2.95,0.85,4.95,1.65,2.95,1.25,1.25,1.65,9.95,1.65,1.65,0.85,0.85,0.85,0.85,5.95,4.95,1.25,7.95,1.69,2.95,1.65,0.55,0.85,3.45,4.95,0.83,4.95,3.95,2.95,2.55,1.25,0.85,3.75,4.65,1.95,0.85,1.25,1.65,0.85,8.5,1.25,9.95,1.25,2.95,9.95,2.95,4.25,1.45,7.95,1.25,0.29,1.25,0.85,2.1,1.95,1.65,1.25,2.95,1.45,1.25,0.65,0.85,1.25,2.55,7.95,2.55,5.95,6.35,3.95,2.95,6.35,1.65,1.69,1.25,1.65,0.42,1.65,4.25,0.42,5.95,3.35,8.5,2.95,1.45,5.95,2.95,7.95,0.85,1.65,2.95,1.95,1.65,0.85,2.95,1.69,1.69,1.45,1.25,1.49,1.95,2.95,1.69,1.95,0.85,2.55,4.95,7.9,0.65,1.25,2.55,0.85,0.85,0.42,1.65,2.95,2.95,0.85,3.75,0.55,2.08,2.1,3.75,1.06,1.65,1.25,0.42,1.25,0.85,1.65,2.1,1.65,2.95,2.1,1.65,2.95,2.95,1.69,2.1,0.42,1.25,2.55,1.65,0.42,0.85,8.5,2.1,1.69,0.42,3.75,1.95,0.85,4.95,1.95,12.75,1.65,2.95,1.65,0.42,7.95,0.42,2.55,4.95,5.95,1.25,0.85,1.65,4.25,0.55,9.95,1.95,3.75,2.95,1.65,14.95,1.25,1.95,1.65,2.08,0.85,0.21,0.39,2.95,10.65,1.95,7.95,4.95,2.1,1.25,2.1,1.25,2.55,1.45,8.5,7.65,0.42,3.75,5.95,1.25,1.65,1.25,1.65,1.95,7.95,0.85,14.95,1.25,1.65,1.69,4.95,2.95,1.25,2.95,0.42,0.42,1.45,2.95,3.75,3.75,4.95,1.95,1.25,2.1,1.45,2.95,1.65,8.95,1.95,0.42,2.1,0.95,0.85,1.65,2.95,5.95,1.45,0.42,1.65,8.25,1.65,1.95,2.1,6.75,8.5,0.42,8.5,0.85,1.65,1.69,5.45,4.25,1.95,7.95,2.1,1.65,0.85,3.75,0.65,2.95,1.45,1.65,3.25,1.25,12.75,6.75,0.65,7.95,12.75,0.85,2.95,3.75,1.25,3.35,2.95,1.25,1.25,1.65,2.95,1.25,1.25,2.1,1.25,0.55,4.95,2.95,4.95,0.55,2.55,3.75,0.85,0.85,2.95,0.85,1.95,0.42,1.25,4.95,7.95,6.35,1.65,6.75,1.65,3.75,1.65,0.55,3.95,0.85,1.45,0.42,5.95,1.45,2.95,0.85,1.45,0.21,2.95,5.95,1.95,3.25,7.95,2.95,0.85,1.25,5.95,12.75,1.25,0.85,4.95,1.25,1.95,0.85,1.65,1.95,9.95,5.95,1.45,2.95,0.65,2.1,1.25,0.85,2.1,0.42,1.95,6.75,1.65,1.25,7.95,1.69,2.95,7.95,5.95,4.95,0.29,7.95,2.55,1.69,7.95,2.55,2.1,2.95,10.95,0.55,1.25,2.55,1.65,4.15,1.65,12.75,4.95,7.95,9.95,0.21,5.95,4.95,3.75,9.95,1.65,2.55,0.42,4.25,2.95,0.72,1.65,2.1,4.95,0.85,7.95,4.25,12.75,5.49,4.95,0.85,3.75,1.25,7.95,1.25,2.1,2.1,1.25,3.25,9.95,3.75,0.85,6.75,1.45,6.45,0.65,19.95,1.25,0.42,0.42,10.95,2.95,1.45,0.21,1.25,1.25,0.29,2.95,2.55,0.42,0.42,1.65,2.25,1.65,16.95,1.69,9.95,4.15,1.25,0.55,2.95,2.95,3.25,1.25,0.85,1.65,0.42,8.25,0.42,0.85,1.65,4.95,1.95,5.95,1.95,4.95,2.95,1.65,4.25,1.95,1.25,1.25,1.25,1.65,2.95,2.55,5.95,0.85,0.42,0.85,2.1,0.39,0.85,1.25,2.55,3.25,0.85,1.25,2.1,2.95,0.85,4.25,4.65,1.65,5.95,2.95,2.1,1.25,1.25,2.55,0.42,0.85,1.65,2.95,0.55,3.75,2.95,3.95,1.95,1.95,5.95,7.95,0.42,2.1,2.1,8.25,2.1,1.69,3.25,1.95,1.25,0.85,2.55,1.65,1.65,0.85,2.55,1.45,24.95,2.95,0.65,0.55,4.95,0.85,3.75,1.45,2.95,3.95,2.95,12.75,2.95,1.65,6.35,6.75,1.65,0.19,0.55,0.85,1.45,0.85,1.45,0.55,0.42,10.95,0.85,2.55,0.85,1.95,2.95,1.49,1.65,0.95,1.25,2.1,0.42,2.95,6.75,2.95,2.95,2.1,0.85,1.25,1.25,0.29,2.1,1.25,0.85,1.25,1.25,5.45,1.25,1.95,3.75,1.25,14.95,1.25,1.95,1.69,1.65,1.25,1.45,0.85,3.75,0.3,0.42,1.25,2.1,0.55,2.1,12.75,4.95,14.95,2.08,2.1,7.95,1.65,1.95,0.42,0.21,1.45,2.1,4.15,1.45,0.65,0.83,1.65,7.95,0.65,1.45,1.25,7.95,2.95,0.65,4.95,14.95,5.95,4.95,8.5,1.25,0.85,1.25,0.42,12.75,2.1,0.42,1.45,0.85,2.55,1.49,4.95,8.5,2.1,4.95,1.95,8.5,1.25,18.0,7.65,3.95,2.95,2.95,2.95,0.42,2.95,5.95,0.65,4.95,1.65,8.5,1.65,6.95,2.55,1.45,3.75,7.95,1.25,0.55,1.25,2.25,0.85,2.1,8.5,1.95,2.1,0.55,2.95,8.95,14.95,1.65,0.29,4.95,3.95,1.65,3.75,5.95,4.15,2.55,1.65,1.25,0.85,0.42,2.55,1.65,1.95,1.69,7.95,4.95,0.85,2.55,1.95,3.75,4.95,3.75,3.75,4.95,4.95,2.95,2.95,7.95,0.42,0.85,12.75,8.5,1.95,1.45,1.95,7.95,1.65,1.25,2.95,1.65,1.25,0.85,2.55,3.75,0.42,2.55,1.85,2.55,1.25,1.65,1.95,2.55,2.55,0.65,2.55,1.65,0.85,1.25,0.85,1.25,1.65,2.1,1.95,1.45,1.95,0.42,0.21,0.65,0.55,1.25,3.25,0.85,0.85,0.85,2.95,1.45,0.39,2.08,1.25,12.75,2.95,0.65,1.95,8.5,1.65,0.85,1.25,2.55,0.55,5.95,1.69,0.65,1.95,7.65,1.25,0.85,2.95,0.85,0.85,1.25,1.49,2.95,0.65,4.95,1.25,0.85,1.65,0.85,7.95,0.85,0.55,1.25,2.95,0.42,12.75,3.75,1.25,8.5,0.85,0.55,16.95,1.65,4.95,0.65,4.95,1.69,1.95,0.83,1.45,2.55,4.25,1.65,4.95,4.95,4.25,4.15,0.83,5.95,1.65,1.25,7.95,2.95,1.45,3.75,2.55,1.65,1.25,3.75,2.95,1.25,0.95,0.95,1.95,1.65,9.95,1.65,0.42,1.45,0.55,2.95,1.25,0.42,1.25,0.42,0.39,1.25,2.1,7.95,2.95,2.1,0.85,0.42,1.65,8.5,0.85,1.95,7.95,7.95,2.1,2.95,1.25,2.95,1.65,1.65,2.95,1.65,1.95,2.95,2.1,2.95,8.5,0.42,1.25,2.95,2.1,1.65,2.1,0.85,3.75,5.95,2.1,2.55,0.42,2.95,1.45,6.75,7.95,7.95,12.75,1.25,5.95,2.1,0.55,0.85,2.1,1.65,7.95,1.25,1.65,7.95,1.69,4.25,5.95,3.75,0.65,8.95,0.55,2.95,4.95,2.1,5.95,0.85,1.25,1.25,0.95,1.25,1.65,1.95,2.55,1.65,1.95,2.95,1.45,1.69,1.25,8.5,4.95,1.65,1.25,3.75,0.42,1.25,2.95,2.95,0.85,12.75,2.95,3.25,1.25,0.42,0.42,2.95,1.45,1.95,2.95,6.75,1.25,2.1,7.95,2.95,3.75,1.25,3.45,2.95,2.95,0.85,2.1,0.85,0.85,1.25,2.95,5.95,2.1,3.75,2.1,7.95,1.45,2.08,0.42,2.55,1.06,1.25,2.08,1.69,3.75,1.25,3.75,0.85,1.65,1.69,1.25,0.85,2.95,1.45,4.95,1.65,0.42,1.65,1.25,1.25,1.95,2.1,0.42,1.25,4.95,1.25,0.85,5.95,0.55,8.5,2.55,8.5,2.95,0.55,12.75,5.95,0.85,5.95,2.1,1.95,1.65,1.65,1.65,2.1,1.65,4.95,0.85,2.55,1.65,1.95,1.25,8.25,1.25,7.95,1.25,0.42,2.1,4.95,0.29,6.75,2.95,1.25,1.65,14.95,1.25,0.55,2.1,2.55,0.85,2.1,1.25,1.25,9.95,2.1,2.95,1.25,1.25,8.25,0.85,7.95,2.55,4.25,0.85,1.45,29.95,1.25,0.42,1.25,1.95,8.5,1.69,1.95,3.75,2.55,3.75,4.25,5.95,3.75,4.95,1.65,1.25,1.65,1.25,5.95,0.42,0.42,4.95,0.42,5.95,1.65,1.25,2.55,2.25,1.25,2.55,1.25,1.25,1.25,2.95,16.95,3.75,7.95,2.95,0.55,2.95,1.45,3.95,1.25,2.1,0.55,0.85,1.45,0.55,1.25,2.1,1.25,2.08,1.45,2.55,1.25,1.65,2.95,3.75,4.95,2.1,4.15,3.95,2.1,0.42,4.95,4.95,5.45,0.29,2.95,0.65,1.65,4.95,6.95,2.95,3.75,2.95,4.95,4.95,2.95,0.65,1.65,3.95,7.95,1.25,0.65,2.95,1.25,2.55,1.25,2.1,2.55,1.05,2.95,1.25,5.95,9.95,1.45,9.95,2.1,1.65,0.85,0.55,1.95,2.55,4.25,9.95,1.25,1.65,0.42,4.25,2.08,2.1,0.85,2.55,0.85,1.95,9.95,0.85,2.25,1.25,1.25,3.75,0.85,0.85,2.1,1.25,1.95,1.95,0.21,9.95,0.42,0.85,1.25,0.95,1.95,2.55,1.25,2.55,1.25,0.85,4.95,2.95,2.95,1.25,1.95,4.95,1.25,0.55,1.25,0.12,0.85,0.85,1.65,0.85,2.95,2.95,0.85,0.29,2.08,1.45,4.95,1.25,1.65,1.25,0.65,0.29,1.95,4.95,0.85,1.45,1.25,2.95,0.42,4.95,1.06,3.25,3.75,1.65,1.45,1.25,1.65,0.85,1.25,2.95,1.45,2.1,0.85,1.95,2.95,7.95,4.25,1.95,0.85,2.95,1.65,2.55,2.95,4.25,3.75,3.75,2.1,1.25,0.85,1.49,0.42,1.65,1.45,2.55,2.1,2.1,1.25,1.65,1.65,1.65,0.42,2.55,4.25,2.95,0.85,7.95,0.95,1.25,0.65,3.75,5.95,1.65,1.95,2.55,6.95,1.25,1.95,2.95,6.45,8.25,1.25,1.69,9.95,2.95,2.55,1.95,1.45,3.75,1.25,1.65,2.95,0.85,2.95,3.75,2.1,4.95,2.1,0.85,1.25,2.95,1.49,2.95,0.65,1.25,4.95,2.95,9.95,1.95,4.95,1.25,1.69,12.75,2.95,7.95,1.25,0.12,5.95,0.85,2.55,1.95,6.95,1.45,4.65,1.25,3.75,1.25,0.65,3.75,2.1,7.95,8.5,12.75,4.95,9.95,7.95,2.95,1.65,2.1,2.55,2.95,0.85,2.95,2.1,1.25,10.95,4.95,4.25,5.95,8.5,8.5,5.95,12.75,2.55,4.15,1.25,3.95,1.25,0.85,1.45,4.95,6.95,7.95,2.95,1.25,1.25,0.85,0.85,5.95,0.29,8.5,1.65,9.95,1.25,0.55,1.65,1.65,0.55,2.95,1.25,1.69,5.95,8.5,2.95,2.95,3.75,7.95,4.15,0.42,8.5,2.1,5.95,1.25,1.25,1.69,1.45,2.55,0.85,0.85,1.95,0.85,5.95,4.95,1.45,2.95,7.95,1.25,1.25,0.42,1.95,0.42,3.75,2.95,7.95,7.9,2.1,12.75,0.42,2.1,0.85,0.95,2.95,1.65,2.95,2.55,5.95,9.95,2.55,2.55,9.95,0.95,4.95,1.25,1.95,1.69,2.95,3.75,2.55,0.85,4.95,1.25,1.25,1.65,1.65,0.42,2.55,1.65,4.95,7.95,1.65,1.49,0.42,8.5,0.85,0.65,1.25,9.95,1.25,4.95,0.42,0.85,1.95,2.1,2.1,1.65,4.95,2.1,0.42,1.95,1.65,0.85,4.95,1.25,1.95,0.42,0.42,0.85,8.5,2.95,3.75,2.95,0.65,5.95,0.21,3.75,0.85,1.65,0.65,7.95,1.95,7.95,3.75,4.95,0.85,4.95,1.25,0.65,2.95,3.75,0.85,4.65,2.1,1.45,2.95,0.95,1.65,0.19,0.85,1.65,2.95,5.95,0.85,1.95,7.95,1.65,1.49,5.95,1.65,4.95,1.25,2.1,2.95,1.25,3.75,0.85,3.75,2.1,1.25,0.72,3.75,8.25,6.75,2.95,1.25,0.85,7.95,1.25,1.25,1.65,2.55,1.95,1.49,1.65,4.95,1.95,9.95,2.1,4.95,1.95,7.95,2.55,0.85,2.1,4.95,145.0,5.95,4.95,0.85,0.42,1.25,2.1,7.95,0.42,0.85,1.95,2.95,0.42,0.39,6.75,1.25,0.42,2.95,2.55,2.95,1.25,6.75,1.25,1.95,2.1,1.45,0.85,0.42,1.25,4.25,4.95,3.75,2.95,5.95,5.95,0.65,1.25,0.85,2.95,59.95,2.95,1.95,1.45,1.25,6.75,5.95,0.42,1.25,1.25,2.25,1.25,4.25,4.95,0.42,1.25,2.55,6.95,1.25,39.95,0.65,1.25,7.95,0.85,1.45,1.95,2.55,9.95,12.75,5.95,1.65,0.85,4.95,7.95,1.25,1.25,0.42,0.79,2.95,1.06,0.42,2.55,2.95,0.65,7.95,2.95,0.42,3.95,0.29,0.42,2.1,0.42,0.85,0.85,1.95,2.1,2.95,1.65,5.95,2.55,0.85,1.25,2.55,3.75,2.95,2.1,1.95,3.25,2.95,2.1,0.65,1.25,2.95,1.25,2.1,0.42,2.1,2.95,0.85,2.08,4.65,0.42,1.65,1.25,0.55,6.75,0.85,9.95,0.85,1.95,1.25,2.1,0.65,1.25,4.25,1.25,1.25,1.25,1.25,6.75,9.95,3.95,1.95,0.85,4.95,1.25,4.95,2.95,2.95,2.25,1.95,0.85,0.42,2.95,0.42,12.75,0.29,1.95,1.65,1.25,1.06,1.25,4.95,0.55,4.25,7.95,0.65,0.42,1.25,3.75,0.42,1.95,1.25,1.25,0.85,0.85,0.85,1.65,1.25,2.55,3.75,9.95,2.55,1.25,2.25,4.95,12.75,1.95,1.95,1.65,0.42,1.45,0.65,0.85,1.25,0.85,2.1,2.1,1.25,2.1,1.69,1.95,4.25,0.65,1.65,2.1,1.25,1.25,1.65,0.85,1.65,1.49,5.95,2.95,7.95,0.85,0.65,1.65,2.95,1.25,1.95,2.55,0.29,1.45,1.65,1.65,0.85,8.5,4.65,4.15,1.65,4.25,6.95,1.95,0.19,0.75,3.75,40.0,1.65,0.42,1.45,0.72,0.42,0.55,1.45,1.25,4.95,3.75,5.95,1.95,0.42,5.95,12.75,0.65,4.95,1.25,0.42,0.55,1.65,1.25,0.85,0.85,2.95,1.25,1.25,2.55,1.65,4.95,0.85,2.55,0.85,2.1,2.95,7.95,1.25,0.85,1.65,2.95,1.65,6.75,1.25,1.25,1.65,7.95,1.25,1.95,0.42,1.65,1.45,1.25,0.85,5.95,0.42,0.85,1.95,4.25,1.25,12.75,2.95,1.25,1.69,4.95,2.55,0.55,1.69,0.42,2.95,3.75,5.95,9.95,8.5,1.69,1.25,3.75,3.95,0.85,0.85,1.65,1.25,0.55,2.1,1.65,2.1,1.95,0.85,0.95,0.29,12.75,2.1,2.95,2.95,2.1,4.95,1.65,0.85,1.65,4.25,10.95,3.45,1.65,0.21,1.65,8.5,0.65,1.65,4.25,0.39,1.69,2.55,2.55,4.95,1.45,2.95,3.25,1.69,1.25,1.25,7.95,0.85,5.95,3.95,0.85,0.85,2.95,2.95,2.1,1.95,1.65,2.55,4.95,1.69,1.25,4.25,1.45,2.1,4.95,3.75,3.75,1.25,1.25,19.95,4.15,3.75,3.75,3.75,4.25,8.5,1.25,4.95,4.95,3.95,1.45,5.45,0.85,1.49,0.55,0.65,2.55,0.85,18.0,1.65,3.75,0.42,1.95,1.65,2.95,3.75,0.75,1.25,0.85,4.25,1.25,0.42,8.5,1.25,0.85,1.45,0.85,1.25,1.45,12.75,0.42,1.25,1.25,2.1,1.25,7.95,7.95,1.25,3.75,2.95,1.95,0.65,2.95,2.95,0.85,1.25,0.42,12.75,0.65,3.95,1.25,2.95,0.85,0.21,2.55,1.95,1.45,1.25,0.21,1.49,0.85,0.42,2.95,2.08,12.75,1.25,1.65,12.75,8.5,4.25,10.95,4.25,6.75,0.55,1.25,2.55,3.75,8.5,1.25,24.95,2.1,2.1,16.95,8.5,5.45,1.95,4.95,1.49,1.25,1.49,2.1,0.19,1.25,0.42,0.65,0.55,2.55,9.95,0.55,2.55,0.85,1.65,4.95,12.75,2.55,4.95,1.95,0.42,0.42,0.42,1.69,1.65,0.42,1.65,2.1,14.95,1.25,1.65,3.25,1.25,1.95,0.85,1.65,10.75,8.5,1.65,1.65,2.95,3.75,0.85,2.1,1.69,1.95,2.95,9.95,1.25,5.95,1.65,1.95,3.75,0.42,1.25,2.1,2.95,1.95,4.25,0.85,1.49,3.75,1.25,6.75,0.21,1.95,2.95,8.5,1.25,1.65,0.21,0.85,1.65,1.25,2.1,18.0,0.85,2.1,1.25,1.69,0.42,8.5,5.95,1.25,1.25,8.5,1.65,1.65,0.85,2.25,1.25,2.1,1.25,7.95,2.55,4.95,2.95,2.95,0.85,2.95,0.55,9.95,1.25,0.85,7.95,18.0,2.95,2.55,4.95,1.25,1.25,9.95,1.65,3.75,2.95,0.95,1.95,0.83,1.45,1.25,2.1,3.75,1.95,1.25,1.95,0.42,2.1,2.95,4.95,1.65,1.95,2.1,0.85,2.95,1.25,0.55,1.95,4.95,2.55,0.55,3.75,2.95,2.55,4.95,2.55,0.19,18.0,1.25,4.95,3.45,1.65,1.25,6.75,0.42,3.95,0.65,1.25,5.95,1.25,2.55,1.25,0.55,4.95,2.55,2.55,2.55,1.25,1.95,1.65,0.55,5.95,0.42,4.95,2.55,1.25,2.95,0.42,2.95,4.95,0.55,0.42,2.08,5.95,1.25,1.95,1.95,12.75,1.65,2.1,2.1,1.95,3.75,4.65,3.75,2.55,1.25,0.85,0.85,0.65,1.65,2.95,10.95,0.65,1.25,2.95,7.95,2.95,4.95,7.95,0.85,1.95,1.95,3.75,1.69,4.95,9.95,1.25,1.25,2.1,0.85,8.5,3.75,2.1,0.42,1.69,7.95,0.42,1.65,3.75,1.65,16.95,1.95,0.85,5.95,1.25,1.25,0.42,5.95,2.1,0.29,2.95,4.95,1.95,0.42,8.5,3.95,0.42,1.95,1.25,4.25,4.25,0.85,2.95,2.1,2.1,1.69,1.25,0.39,2.55,2.1,1.49,1.65,0.42,0.85,7.95,2.95,2.55,0.85,1.25,0.85,1.25,1.65,0.42,0.21,0.85,1.45,3.39,2.95,1.65,1.25,9.95,2.1,0.65,1.65,2.25,3.75,1.65,1.65,3.75,2.1,3.95,8.5,4.15,2.55,1.69,4.95,3.75,1.65,4.95,1.25,3.75,2.55,1.65,1.65,3.95,0.85,9.95,1.95,0.42,4.95,1.65,3.75,1.65,2.1,0.42,5.95,0.42,1.95,7.95,4.95,1.25,7.95,1.25,0.29,2.95,3.75,1.65,0.42,2.25,3.75,0.85,4.95,0.65,1.25,1.95,2.95,1.65,0.53,4.95,1.25,2.95,7.95,0.85,0.85,1.25,2.95,9.95,0.42,0.42,1.95,0.42,0.55,0.42,1.45,2.1,0.85,3.75,0.42,9.95,1.65,4.25,0.85,1.95,7.95,0.42,0.65,1.65,0.65,4.95,14.95,10.95,0.85,3.75,0.42,1.25,1.65,7.65,1.95,1.95,4.95,2.55,1.45,2.1,16.95,195.0,1.65,0.42,0.65,2.95,0.65,1.95,1.65,0.19,3.25,1.69,2.1,1.25,1.65,0.85,1.25,1.25,2.95,0.85,18.0,0.55,12.75,9.95,2.95,7.95,1.45,2.1,0.65,1.25,8.5,3.75,1.95,1.65,2.95,0.85,5.95,1.69,2.55,2.95,1.65,4.95,3.75,7.95,4.65,1.65,1.25,5.95,2.55,0.29,0.65,2.55,1.95,1.25,0.85,1.25,9.95,3.25,0.85,0.85,1.65,2.1,0.85,0.42,1.25,0.85,3.75,1.65,1.65,2.95,5.95,2.95,1.95,2.95,1.45,5.95,1.65,1.65,1.45,7.95,7.95,3.75,2.55,0.85,4.65,1.25,1.25,0.85,3.75,0.42,5.95,0.85,4.95,0.65,2.1,2.55,1.25,1.25,0.65,5.95,0.29,0.85,4.65,2.1,1.95,1.45,1.69,1.65,4.95,0.55,0.42,4.15,3.75,1.25,5.95,1.25,7.95,2.55,2.1,0.42,10.75,5.95,0.42,2.55,4.65,12.75,4.65,4.25,1.95,4.25,7.95,1.65,0.85,0.42,1.65,0.85,1.25,2.1,1.25,15.0,0.42,0.65,18.0,1.95,0.42,0.85,2.55,7.95,3.75,0.55,3.39,1.95,0.42,1.25,1.25,1.25,1.25,1.25,2.55,1.65,2.1,0.55,0.85,1.25,3.81,2.95,0.42,0.29,1.25,3.95,2.55,0.42,2.95,0.42,2.95,0.65,1.45,1.95,2.95,1.25,0.65,4.95,0.42,0.85,1.65,0.65,3.25,1.25,1.65,0.85,1.69,4.15,1.65,3.75,12.75,0.55,1.25,0.42,4.25,7.95,1.25,2.95,7.95,0.85,0.42,4.95,1.25,2.1,1.95,1.95,8.5,4.65,8.5,1.25,3.25,0.65,1.65,1.45,2.1,2.95,4.95,1.65,1.65,4.15,5.95,2.95,2.55,2.1,5.95,1.65,2.1,12.75,1.06,4.15,2.95,1.25,1.25,1.65,2.95,2.95,2.1,2.95,4.95,4.95,1.25,0.85,1.25,1.25,0.42,1.65,0.85,8.5,1.25,1.25,1.25,1.65,1.95,1.65,7.95,4.25,0.21,14.95,1.25,9.95,14.95,7.95,3.75,3.75,0.42,0.39,2.95,4.25,5.45,0.85,1.95,2.95,0.85,1.65,12.75,1.25,0.65,1.45,1.25,1.25,1.45,12.75,0.55,0.21,2.55,1.65,3.75,1.65,0.42,1.65,1.25,0.42,0.85,2.1,1.25,3.25,2.55,0.42,1.25,0.85,9.95,1.95,2.95,2.55,2.95,5.95,1.25,1.65,0.65,4.95,5.95,0.42,2.95,1.25,7.95,1.69,1.25,2.1,5.95,1.45,4.25,1.65,9.95,8.95,1.95,2.1,0.65,6.45,1.65,1.25,2.55,4.95,5.45,1.65,0.85,1.95,8.5,2.95,0.85,0.65,5.95,1.25,2.25,2.55,2.95,0.65,2.95,4.95,1.25,4.95,3.45,4.95,1.65,4.95,8.25,2.1,0.55,1.25,8.5,7.95,2.55,2.55,0.85,1.25,2.95,1.25,1.25,0.85,0.42,8.25,1.25,3.75,5.95,1.95,2.95,3.75,5.95,0.42,1.65,1.25,1.95,1.95,6.75,2.95,2.55,1.65,2.1,0.42,1.65,9.95,2.1,1.65,12.75,1.25,9.95,3.25,0.55,0.42,0.85,7.95,4.95,0.85,0.85,1.65,1.25,2.1,0.85,2.95,2.95,1.25,0.85,2.1,0.55,2.25,0.42,9.95,1.95,5.95,1.65,2.55,1.25,0.85,4.25,0.85,2.95,18.0,0.85,2.95,0.85,2.95,2.95,7.95,1.49,2.95,0.42,1.25,1.65,1.25,0.42,0.42,1.95,1.25,0.85,2.95,1.25,4.95,1.65,0.42,7.95,5.95,1.25,2.1,0.29,0.42,0.85,12.75,2.95,2.1,2.95,8.5,1.25,2.1,1.95,0.85,1.95,2.95,0.42,1.65,0.42,1.65,1.25,1.25,1.25,1.95,1.65,0.85,2.1,2.95,1.95,1.25,2.95,0.65,9.95,4.15,1.65,1.25,1.25,4.95,4.25,8.5,1.65,1.25,3.95,2.95,1.25,5.95,0.85,1.25,7.95,1.06,2.95,1.25,8.5,2.55,0.29,1.25,4.25,0.42,4.95,4.95,4.95,2.1,0.42,0.85,2.1,1.25,2.08,4.25,1.65,2.95,7.95,4.15,1.25,1.95,2.95,1.65,5.95,1.25,4.95,1.25,0.55,5.95,0.42,0.95,1.25,7.95,16.95,2.95,1.06,0.42,3.75,4.15,1.65,3.75,1.25,3.75,8.25,2.95,6.75,2.95,0.42,1.25,0.85,1.25,1.25,1.25,0.85,1.95,1.65,0.29,0.42,9.95,4.25,1.25,2.95,1.25,2.1,8.5,0.85,5.95,1.25,1.25,1.45,3.75,3.75,2.08,3.25,4.95,0.29,1.45,1.95,2.95,2.95,0.85,2.95,1.65,1.45,1.25,2.1,18.0,1.69,4.95,1.95,0.85,5.95,1.25,1.45,7.95,0.42,8.5,1.95,4.95,0.42,1.25,0.42,4.95,0.42,1.65,2.95,3.75,0.12,2.95,1.95,0.65,1.95,2.95,1.25,2.95,0.42,2.95,1.25,2.55,1.95,12.75,3.75,1.25,1.65,4.95,2.95,2.55,4.15,1.25,1.25,1.65,1.95,3.75,0.85,1.65,1.45,0.85,1.95,2.95,1.25,2.95,3.75,0.42,1.65,0.85,0.65,4.65,1.95,1.25,1.25,3.25,0.85,2.95,3.75,4.95,2.55,0.42,0.85,5.95,12.75,2.55,5.45,1.25,1.25,2.95,1.95,2.95,2.95,7.45,3.75,9.95,2.1,6.75,1.95,1.65,0.65,2.55,1.25,1.25,0.65,4.95,3.75,0.55,1.95,1.45,1.25,8.5,2.1,7.95,1.95,1.65,1.45,5.95,0.42,2.55,2.1,9.95,1.65,1.65,0.55,2.55,5.95,3.75,1.95,2.55,1.25,1.65,1.45,0.21,1.65,1.25,0.55,0.85,1.25,0.42,1.65,9.95,1.25,1.45,2.55,49.95,0.75,2.1,1.95,1.95,4.25,2.95,1.95,2.95,2.95,0.85,4.65,7.95,2.95,1.65,1.25,1.65,4.25,0.95,1.95,1.65,1.45,12.75,7.95,1.95,2.1,0.85,1.65,1.65,1.69,1.65,5.45,9.95,2.95,1.95,1.95,0.42,0.42,35.95,0.42,2.95,0.42,0.85,4.25,4.95,2.1,0.65,1.65,3.75,4.95,0.65,12.75,0.65,1.25,0.85,1.25,0.65,0.55,4.95,2.95,1.25,2.95,7.95,2.95,0.42,2.25,0.42,1.95,0.42,3.95,8.5,0.42,2.95,65.0,0.42,0.85,0.12,1.65,8.5,2.95,2.55,2.55,3.95,1.25,6.95,2.1,1.45,1.65,1.65,4.25,0.42,7.95,1.65,3.75,5.95,0.39,3.75,0.85,1.65,1.95,1.95,6.75,8.5,1.95,5.95,8.5,0.85,5.95,0.55,9.95,1.45,3.75,1.65,1.25,1.95,4.95,1.95,1.49,2.95,0.42,0.85,0.85,2.55,1.65,0.85,1.25,2.08,1.65,0.75,4.95,2.1,0.42,1.95,29.95,2.95,0.85,3.95,3.75,2.25,1.95,12.75,0.85,1.25,2.95,1.95,1.95,2.55,0.85,9.95,1.25,6.35,0.85,6.95,4.25,3.95,7.95,4.15,1.25,0.85,3.75,5.95,2.95,1.65,0.85,0.85,1.25,2.1,2.95,1.69,2.1,1.95,0.85,1.45,2.95,1.65,0.42,2.95,2.1,9.95,14.95,1.45,14.95,0.85,0.55,1.65,1.95,1.95,1.95,2.95,0.85,7.95,0.85,6.75,0.85,1.25,1.25,1.65,2.1,2.55,4.95,1.95,1.25,1.95,2.1,7.95,1.69,0.65,2.1,1.25,1.25,7.95,2.08,1.25,1.65,3.75,7.95,4.95,2.1,7.95,0.85,3.95,4.95,0.65,1.95,1.65,2.1,0.85,1.25,2.08,2.95,2.1,16.95,2.1,1.95,0.65,0.55,2.1,1.95,8.5,0.42,1.45,0.85,1.65,0.65,1.65,1.25,0.55,2.55,3.75,1.65,1.49,2.95,3.75,3.75,2.95,16.95,1.95,1.45,4.15,1.25,1.25,8.5,2.1,0.42,0.42,0.42,2.95,0.85,0.85,5.95,3.75,2.1,1.25,1.65,0.85,2.95,2.55,4.25,2.55,7.95,0.42,2.1,1.65,0.55,4.95,0.55,1.25,10.95,4.25,1.95,1.69,1.65,0.42,2.55,0.85,2.95,2.95,4.25,6.75,0.65,1.95,2.25,1.25,1.25,7.65,0.65,0.65,1.65,1.95,4.25,4.95,1.69,6.95,0.42,0.85,1.25,2.95,1.65,1.65,1.25,12.75,1.95,2.95,1.25,1.65,2.95,1.95,1.95,2.1,1.25,2.95,0.85,2.95,1.25,0.65,8.25,2.55,0.85,1.65,3.75,0.85,7.65,1.45,1.25,3.75,1.25,1.25,0.65,4.95,1.65,2.1,2.95,0.85,1.65,1.65,8.5,1.25,0.65,1.25,2.1,4.95,4.95,1.25,0.55,2.95,2.1,4.95,2.1,2.55,8.5,2.95,2.25,1.45,8.5,1.65,1.45,1.95,7.95,1.25,9.95,3.75,0.55,0.65,0.72,8.25,2.08,4.25,0.42,3.75,1.25,2.95,0.85,0.85,4.95,0.42,3.75,0.42,3.75,7.95,5.75,9.95,5.75,0.42,12.75,3.39,2.55,1.25,1.95,1.45,4.25,1.65,2.55,1.25,1.25,0.42,9.95,12.75,2.95,1.25,5.75,4.95,0.83,3.75,1.65,1.65,0.65,1.65,0.42,2.1,1.25,0.85,1.25,1.95,0.85,1.25,0.65,9.95,1.25,3.75,1.49,0.42,4.95,1.25,1.25,1.25,1.45,5.95,1.95,1.49,1.25,2.95,3.95,0.19,0.85,1.25,1.65,0.85,1.65,1.25,0.42,6.95,1.25,1.25,9.95,0.42,12.75,2.95,5.95,9.95,0.85,3.75,2.95,2.1,0.42,3.75,2.95,6.35,1.95,5.95,2.55,2.55,2.1,4.95,0.42,2.55,2.95,50.0,0.65,2.95,14.95,12.75,1.45,4.95,2.95,1.95,2.95,0.29,2.1,5.45,3.95,2.55,2.55,4.95,1.95,1.25,1.69,2.95,15.95,0.42,4.95,1.95,0.85,2.95,1.85,3.75,6.75,9.95,1.25,4.95,1.65,2.95,1.95,2.1,2.1,1.25,1.95,3.75,1.65,3.75,2.95,3.25,4.25,2.1,1.95,7.95,1.65,0.42,1.25,5.45,9.95,2.1,1.25,2.55,7.65,2.1,4.25,2.95,3.25,2.95,0.85,1.25,8.5,1.69,1.65,2.55,0.42,0.72,3.75,3.75,39.95,5.95,5.95,4.95,1.25,1.25,0.85,2.1,14.95,0.42,1.95,1.65,1.95,12.75,1.25,2.1,1.25,2.95,1.95,0.65,1.65,39.95,7.95,0.42,0.55,2.95,1.65,9.95,1.25,2.95,2.95,4.15,2.1,1.65,2.1,0.39,1.06,1.65,0.85,1.65,0.42,1.95,0.29,5.95,0.42,1.25,1.25,1.25,2.55,7.95,0.42,1.25,0.85,1.69,0.42,1.65,8.5,0.55,2.95,3.75,1.25,4.95,8.5,2.55,10.95,9.95,1.25,2.95,8.5,1.95,1.95,0.42,0.39,0.85,1.45,1.69,1.65,0.12,0.65,8.5,0.42,5.95,5.45,2.95,2.1,5.95,7.95,0.85,1.65,1.65,3.95,3.25,1.69,2.55,4.25,4.95,2.95,2.95,1.69,2.95,0.65,2.1,0.85,2.55,2.1,8.5,1.25,0.85,7.95,0.85,3.75,1.65,0.85,1.25,5.95,0.21,4.25,0.95,0.85,1.95,2.95,0.42,1.69,2.55,1.25,7.65,0.55,0.21,7.95,2.1,0.85,1.95,1.95,2.95,0.42,1.95,1.25,1.95,6.75,1.69,5.95,1.25,2.95,1.95,0.85,2.1,8.5,1.95,2.55,0.85,6.75,4.25,1.65,2.95,1.25,0.85,1.25,2.95,2.95,7.95,3.75,0.42,1.95,1.25,2.1,1.65,2.95,1.95,1.25,0.85,0.85,5.95,7.95,0.79,1.25,2.95,1.25,1.95,7.95,2.95,0.42,4.95,0.85,6.45,2.55,1.65,1.25,0.85,0.42,9.95,1.25,2.95,2.95,1.65,0.65,3.39,4.95,9.95,1.25,3.81,1.45,6.35,2.95,0.85,2.08,1.65,8.25,7.95,3.95,1.65,2.1,0.85,0.42,4.95,1.65,1.69,4.25,0.85,1.95,0.85,1.69,0.85,12.75,2.95,1.25,3.75,2.1,4.95,1.25,3.75,0.85,1.45,1.65,0.85,1.25,1.65,0.85,2.1,1.25,1.95,2.95,1.25,3.75,4.15,2.1,12.75,1.25,7.95,1.25,1.25,5.95,1.25,0.42,7.95,3.75,2.08,1.95,1.25,1.65,1.25,0.12,10.95,2.1,1.25,1.65,1.25,8.5,0.29,1.95,0.85,0.39,1.95,2.95,4.25,1.65,4.95,0.85,2.95,4.95,0.42,1.65,0.65,1.95,1.25,1.25,0.29,0.85,2.55,0.72,0.85,0.42,1.65,1.65,2.55,1.95,0.85,1.25,1.65,1.25,1.25,4.95,2.55,1.69,2.95,1.95,6.95,2.1,12.75,1.65,1.25,0.85,0.95,1.65,4.25,6.95,1.25,0.42,0.42,0.42,0.55,4.95,1.45,0.42,1.65,1.45,0.55,1.65,6.75,1.25,1.45,5.45,2.55,1.65,1.25,1.45,1.25,1.25,1.65,7.95,0.42,2.95,1.25,1.25,1.65,1.65,1.85,1.25,9.95,2.1,9.95,2.55,0.55,2.55,8.5,2.95,0.42,2.55,1.95,1.69,3.75,2.1,0.85,1.95,2.95,1.65,1.25,0.95,7.95,4.95,1.45,2.95,1.65,3.95,3.95,7.95,4.65,3.75,12.75,0.65,2.95,1.25,4.25,8.5,4.95,0.65,0.85,8.5,4.95,0.42,7.95,5.45,2.95,0.65,5.95,9.95,0.95,0.85,0.55,1.25,1.25,1.45,2.95,0.42,2.95,9.95,2.95,0.79,0.85,1.95,1.65,1.65,2.95,5.95,7.95,2.55,2.95,1.65,3.75,4.95,2.55,3.75,1.65,4.15,2.95,4.25,2.1,1.65,14.95,3.75,0.85,1.25,1.95,1.65,8.95,12.75,1.49,2.1,1.45,4.95,1.65,1.65,1.45,2.1,1.25,1.95,2.55,1.45,1.25,1.45,1.25,1.95,4.95,5.95,8.5,2.08,1.25,0.85,0.42,2.55,1.95,3.39,0.29,0.85,8.5,2.95,2.55,0.85,1.25,4.95,5.95,4.95,0.42,1.65,3.75,0.85,0.85,9.95,3.5,1.65,4.95,5.95,1.25,4.95,6.75,1.65,1.65,0.85,0.85,2.1,2.1,4.95,2.1,16.95,0.42,2.1,5.95,2.1,7.95,1.95,0.65,5.49,1.25,0.42,2.95,6.75,4.95,14.95,0.95,5.95,2.95,0.95,1.65,1.25,7.9,0.42,1.25,5.75,2.95,1.25,2.95,1.25,0.19,0.42,1.65,0.42,1.25,3.75,6.95,1.06,0.85,3.35,0.55,2.95,2.95,1.65,1.25,3.75,1.95,2.95,12.75,1.45,0.55,5.95,2.55,3.75,4.15,1.45,1.65,1.25,3.95,0.65,3.75,3.75,7.95,0.55,1.65,0.55,0.55,0.85,4.95,2.1,0.95,1.65,0.85,1.25,3.75,2.25,0.85,2.1,2.95,1.95,2.95,0.65,2.55,0.42,0.55,3.75,4.25,2.55,6.75,14.95,1.25,0.55,2.95,4.95,0.42,0.85,3.95,3.75,0.55,0.42,1.25,2.55,1.25,2.95,5.45,0.85,1.69,0.85,0.65,2.95,2.95,2.55,1.25,4.95,1.25,3.75,0.85,0.42,0.65,2.1,2.95,1.65,3.25,2.95,8.5,4.15,1.25,3.75,1.45,3.75,1.65,14.95,5.95,2.95,1.45,0.42,4.25,3.75,2.55,1.65,2.08,2.95,2.1,1.25,2.1,2.95,1.69,2.1,2.95,2.55,1.95,2.1,8.25,3.75,2.55,2.95,0.55,2.1,16.95,1.25,0.85,0.42,1.25,1.65,3.95,1.25,8.5,0.85,0.29,1.25,4.25,2.95,5.95,2.1,4.15,1.95,0.42,1.95,1.25,4.25,1.95,8.5,7.65,0.42,0.55,4.95,1.65,3.75,0.85,12.75,2.08,7.95,1.65,7.95,1.95,1.95,2.95,0.42,3.75,2.95,2.95,5.95,0.42,4.95,1.65,3.75,4.95,7.95,2.95,3.95,0.55,1.65,0.42,1.65,10.95,0.12,6.35,1.65,15.95,0.55,3.75,1.95,1.65,0.85,2.1,1.25,8.5,2.95,0.85,3.75,1.65,0.85,8.49,1.65,1.25,1.65,1.25,2.95,1.65,2.1,1.25,7.95,0.85,1.95,3.75,1.65,1.45,3.75,2.1,1.25,12.75,1.25,0.85,1.65,3.75,5.95,0.85,0.85,0.55,1.69,0.85,1.25,1.25,0.55,1.25,3.75,1.65,7.95,16.95,5.95,3.75,2.1,1.49,8.5,2.95,2.1,0.85,2.95,5.95,1.95,6.75,2.95,2.95,1.25,2.1,0.85,0.42,0.85,0.21,1.65,9.95,1.69,4.95,0.85,12.75,4.95,6.75,2.1,2.55,3.75,1.25,4.25,0.55,1.95,6.75,0.85,1.25,12.75,12.75,2.1,1.69,0.42,3.95,1.25,3.75,2.1,2.95,0.85,2.95,0.55,0.85,0.42,1.65,3.25,8.5,7.95,2.55,0.42,0.55,1.25,2.1,9.95,9.95,0.21,10.75,1.95,3.95,0.79,2.1,0.42,5.95,2.1,2.1,2.1,0.42,1.25,2.1,2.1,0.42,2.95,3.95,1.25,7.95,3.95,0.42,1.25,1.45,1.25,4.15,1.65,1.95,1.25,3.75,5.95,1.65,2.1,0.42,2.95,0.42,7.65,0.42,2.95,0.55,1.65,1.95,2.95,1.25,8.5,1.25,2.55,18.0,0.85,12.75,8.5,0.85,0.25,2.95,4.65,1.25,2.1,1.95,0.85,0.42,1.25,2.95,4.95,1.45,4.25,0.85,4.95,0.42,4.95,9.95,3.75,1.65,0.29,1.45,9.95,14.95,2.55,1.65,1.95,1.69,2.95,9.95,1.65,0.42,2.1,8.5,1.25,5.95,1.65,9.95,1.65,0.85,0.42,0.65,0.85,2.95,2.95,9.95,1.65,1.95,2.95,0.42,15.0,0.85,1.25,2.1,0.42,4.25,1.25,5.95,2.08,0.42,1.25,3.95,1.25,1.69,1.95,1.69,1.65,2.95,1.25,0.55,0.65,4.25,2.55,0.42,0.55,0.55,0.39,0.42,2.95,1.45,1.25,1.95,2.95,4.95,0.42,0.29,2.1,0.85,3.75,10.95,3.75,1.65,2.1,0.85,9.95,4.95,0.55,1.65,4.95,0.85,0.42,0.85,2.95,5.45,0.85,0.65,9.95,7.95,2.1,1.45,1.95,1.25,3.75,8.5,7.95,2.1,1.65,2.95,0.85,0.85,2.55,4.95,1.95,8.5,2.95,3.75,2.55,8.95,2.95,4.25,1.25,1.25,4.95,1.65,12.75,1.25,2.55,1.25,2.55,2.95,7.95,3.75,4.95,7.95,3.75,2.55,1.06,0.21,1.65,2.55,3.95,3.39,1.25,1.25,21.95,0.42,14.95,1.95,1.25,3.75,1.45,1.25,3.95,2.95,0.85,8.25,7.95,1.65,0.85,4.95,5.95,1.65,2.55,5.95,3.75,0.85,1.25,6.75,3.75,1.95,0.38,2.1,7.95,0.85,4.95,0.21,1.65,1.95,7.95,4.25,2.55,2.1,0.19,0.95,0.85,6.75,0.85,1.95,8.5,0.65,1.25,2.95,1.25,1.95,0.65,2.1,1.65,3.75,1.25,1.25,2.95,5.95,8.5,1.65,0.21,0.55,2.95,0.85,2.95,3.75,2.95,3.75,1.69,1.25,4.25,0.65,0.85,2.25,1.25,5.95,12.75,1.25,0.42,1.25,3.75,1.95,2.95,0.85,1.25,4.95,1.25,2.1,1.45,9.95,18.0,0.42,2.95,0.42,2.55,6.95,2.95,4.95,4.25,2.95,9.95,1.95,2.55,1.25,0.85,4.95,9.95,2.55,1.45,1.69,7.95,16.95,3.95,3.75,1.95,0.42,9.95,2.1,2.1,2.55,2.1,1.25,4.95,1.65,2.95,1.85,2.95,4.95,1.95,1.25,2.55,8.5,1.25,1.65,1.25,1.25,4.95,2.95,8.95,0.85,4.95,2.95,0.65,1.65,1.25,1.25,10.95,3.95,0.55,0.42,3.75,1.45,2.1,8.5,0.65,2.55,3.75,2.95,3.75,1.25,2.08,2.1,2.95,1.69,4.25,1.25,1.69,1.69,0.42,2.1,0.55,2.95,0.65,1.25,0.85,2.1,0.42,0.42,2.95,1.95,2.55,1.65,0.42,3.95,1.25,4.15,1.25,5.95,0.85,2.95,4.15,6.75,0.42,5.95,2.95,1.25,2.95,2.95,2.95,1.25,0.42,1.25,1.25,2.55,0.85,1.25,0.55,1.25,2.1,1.65,9.95,1.49,0.85,1.25,2.95,1.65,0.85,8.25,3.75,1.25,9.95,1.25,0.42,1.95,2.1,0.42,2.55,1.65,0.42,1.45,1.65,4.95,4.95,3.75,2.1,5.95,1.69,7.95,2.95,2.55,2.55,0.55,2.1,7.95,10.95,0.65,1.25,3.75,5.95,2.95,2.95,0.85,0.42,1.95,1.95,0.42,1.65,8.5,3.95,1.65,1.25,1.45,0.85,2.95,1.45,0.29,4.15,1.65,0.42,0.85,5.45,0.85,1.95,2.95,3.75,4.95,1.25,0.85,3.75,5.95,1.25,2.55,7.95,0.42,3.75,1.65,1.25,2.95,2.95,2.95,1.65,1.65,0.42,0.42,0.42,1.95,9.95,1.25,1.25,2.95,4.95,0.42,1.25,1.95,1.25,0.55,1.25,0.85,1.65,9.95,2.95,1.95,0.65,2.55,8.5,8.5,1.95,2.25,5.95,0.42,2.55,0.42,7.95,7.95,2.25,7.95,1.95,0.55,1.25,0.85,1.25,1.49,1.06,1.45,2.95,0.85,2.55,0.55,4.95,0.55,0.39,7.95,12.75,2.1,1.25,1.25,7.95,1.25,0.36,1.65,0.83,1.95,2.1,2.08,3.75,0.5,1.25,2.1,0.85,8.5,16.95,8.5,0.42,1.65,1.45,0.85,5.95,0.65,0.85,7.95,1.95,5.95,2.95,2.95,1.25,1.45,2.95,1.65,8.5,6.35,1.25,12.75,0.29,1.95,2.95,1.25,5.95,1.65,2.89,2.95,4.25,2.1,2.1,2.55,0.85,7.95,2.55,7.95,1.06,2.95,0.85,0.85,1.45,2.95,1.45,0.42,1.25,15.0,2.1,0.85,0.85,2.55,1.95,12.75,1.25,1.25,0.85,2.1,3.75,3.95,1.25,2.95,3.39,0.85,2.55,1.65,3.25,2.55,2.95,0.72,0.42,1.45,10.95,0.42,0.65,3.75,2.1,8.5,10.75,0.85,1.69,1.65,0.42,2.95,0.85,2.1,0.65,3.25,0.42,0.55,1.25,2.95,1.65,9.95,4.95,7.95,0.42,1.25,0.42,0.85,4.65,2.95,1.65,1.25,2.95,10.95,3.75,1.25,1.25,2.1,1.95,1.25,0.42,1.95,1.69,3.75,2.1,1.25,0.55,4.95,1.95,6.95,1.25,0.65,0.85,2.95,1.95,2.55,1.95,7.95,1.95,2.95,1.75,1.65,8.5,7.95,3.95,0.65,3.75,1.65,2.1,0.39,1.69,1.25,4.95,2.95,1.25,1.95,6.35,0.65,3.75,0.29,1.25,0.85,0.83,2.95,4.25,7.95,4.25,7.95,5.95,0.85,1.65,1.25,8.95,0.42,2.55,0.18,1.65,1.65,4.95,2.55,2.08,0.42,7.25,2.55,1.69,1.25,0.42,0.65,3.95,12.75,1.65,0.42,0.42,1.95,125.0,0.85,14.95,1.25,0.65,0.85,9.95,0.42,1.65,1.45,2.95,12.75,2.1,2.55,5.95,0.85,1.65,0.85,5.95,5.95,9.95,1.95,0.72,2.55,2.95,0.85,5.95,0.85,0.29,5.45,6.45,0.65,8.5,0.85,2.95,0.42,0.85,9.95,1.95,1.69,1.25,2.95,0.65,6.95,1.95,6.95,4.25,0.21,7.95,1.65,2.1,0.65,1.25,4.65,1.25,0.55,2.95,2.95,2.55,2.1,2.55,6.95,2.95,1.65,1.25,1.65,1.95,0.85,0.42,1.25,0.42,1.95,2.95,2.95,4.25,2.95,0.42,0.85,1.65,1.25,3.75,1.45,2.1,1.25,1.45,0.55,1.65,0.85,0.39,2.95,3.75,6.75,1.25,1.69,7.95,2.1,0.85,4.95,2.95,1.45,6.75,1.25,1.49,1.45,7.95,0.72,5.95,1.25,2.95,0.85,2.95,2.55,1.65,4.95,3.75,1.25,1.65,1.25,1.25,0.42,2.55,1.65,0.42,2.55,1.65,1.95,2.1,0.85,3.35,1.65,8.5,0.65,1.65,2.55,8.5,1.95,0.85,0.42,0.85,1.25,0.65,1.25,1.95,0.85,2.95,3.75,6.95,1.25,0.42,0.65,1.95,8.5,1.65,7.95,7.95,1.65,1.25,4.25,1.65,2.95,8.5,0.85,1.25,4.95,4.25,1.25,9.95,7.95,1.95,1.25,2.95,1.45,0.85,5.95,5.95,8.5,0.85,3.95,4.95,0.42,0.29,1.25,1.65,0.85,8.5,0.42,1.95,3.75,3.75,1.65,0.85,1.95,2.55,1.25,9.95],\"xaxis\":\"x\",\"y\":[86718,37634,28346,86479,29563,49186,39395,34127,67514,93065,67954,56946,42787,58618,29305,49765,65034,91689,32387,43639,31954,79670,73336,64586,41343,62960,87542,74144,80464,32913,27501,61845,66933,28365,58908,63415,53432,48927,29078,34439,38283,55298,58867,81349,54300,87015,27559,77560,63266,93405,31087,60739,87749,82319,88877,78210,33909,84702,58728,77535,41545,91750,92561,40062,28816,82896,46724,94571,61890,39258,55899,76064,44167,34954,38449,90966,59810,48832,78757,59298,55814,80575,33431,87799,39143,65798,83267,53850,60849,31243,90238,29652,82820,40937,82789,54874,95533,46051,79468,79620,34521,61069,42774,48930,72034,31898,43408,38295,69088,91124,85728,59012,57451,72772,27128,61367,55792,31299,37716,79872,45414,31180,57220,88572,70806,34930,95074,94950,44761,89416,66647,79894,88096,36673,94884,94191,33753,56992,88905,81167,56412,38199,93231,88632,92171,88812,68698,39339,96263,83633,28067,65663,80623,34614,92268,82176,39405,42760,67626,92304,48428,34449,55416,80569,38767,50330,40912,74200,54446,67022,66307,59878,32050,96372,81281,86956,27752,45873,51585,68902,39125,52207,61154,90512,30177,48388,75332,86370,84545,48576,35412,45829,67352,79778,76971,27318,35698,69947,85681,31922,62837,94562,36741,83575,74542,42820,93401,42854,39817,80405,69798,69903,69651,38443,72070,81500,59817,54118,49022,93497,93609,50719,39984,58474,89821,47750,82915,81877,36339,58974,88253,56333,71811,38907,67592,33311,32167,88994,50480,90618,81905,84337,88108,61244,62225,55744,28414,37298,58244,43483,57272,66159,60843,83884,80761,38174,44341,52980,88099,39700,35094,38140,54741,71510,91889,35694,40944,47104,27591,68971,34915,36580,79300,95823,79015,31056,81952,60620,96094,74320,51914,89104,85219,89631,52599,52684,82131,30127,32260,68451,75190,48502,37620,53348,63757,56380,79470,77306,40996,89916,46111,83214,65934,60311,42775,62208,65379,33290,36827,88028,66996,46106,65604,62761,77603,74048,71499,83936,65194,53725,62727,33613,44658,93766,31110,75528,89272,48181,60197,86952,79239,37972,70442,63878,41996,93348,79338,84251,91875,75463,76355,55800,91910,90460,93193,84538,87646,68219,51627,62080,94695,92431,69965,86226,85862,31583,79993,74127,36834,49482,29127,67864,80984,73872,56447,61302,67236,94036,80990,87369,35141,82721,42254,47408,31947,41424,51299,68063,45200,33534,81182,47941,47825,33979,50737,86225,48398,91177,48173,74629,72444,49221,35656,87755,77767,70229,45775,42755,64482,92615,51393,37265,59829,82246,66161,51892,51483,35402,88062,85876,32496,93432,90572,68085,56394,62392,32373,36456,84413,83377,89878,36235,34100,86893,84247,79537,50050,29075,28795,61307,86661,76347,42718,52399,61246,34334,68438,96001,58360,39017,87362,87063,90940,82345,54785,68064,91982,92989,78144,73729,51652,70919,90390,51734,55889,53830,92653,92338,40024,62569,29912,63416,59597,73286,45507,52320,57004,36133,92353,73388,46418,94706,53510,85107,30992,94342,66558,50265,92990,67849,41269,54439,27332,83982,57506,90422,66613,80912,95084,88599,71640,45339,30348,60901,50703,70968,31379,88865,68765,28340,48822,40942,87209,27079,62406,73149,46071,40782,36380,33162,44567,46559,55141,70020,82026,35089,74305,76886,32185,85118,50023,46282,64607,53765,82171,71419,73356,50700,95294,48640,81258,70778,33641,73927,83977,82478,66747,59083,91119,54880,75690,48029,36342,60131,58216,87982,58073,51024,86464,78172,33679,56833,37462,69982,36678,28283,45303,94678,56773,78193,58013,61049,28032,83421,47409,31358,76180,84675,62783,34848,90361,60742,45365,55636,75314,80121,75533,91570,92017,51716,64707,93973,38394,42743,55476,91984,72097,50010,52440,59870,46141,86426,55424,96113,70656,52225,69116,80202,35872,66341,80416,49799,66262,91517,72582,43816,79896,72130,31000,89646,51349,90425,75091,27443,46011,57245,57289,72482,71281,80706,95360,55592,54745,78734,53039,91654,96869,58506,90493,30879,30137,82351,74823,49136,43246,95435,29991,29136,37672,95972,39427,67036,66977,79176,55493,53581,51248,49316,90186,50554,64498,89092,75613,37004,54167,61422,67556,77733,72786,77130,55425,69110,76440,50353,45894,89454,73460,76736,79411,73551,31509,93804,33948,83461,56271,78716,51333,90139,89143,83893,60527,34426,76072,70371,90860,31611,85863,76892,93624,72221,69628,47912,75654,44283,46970,95487,86759,33513,75176,30019,96120,33652,79426,87620,50515,50734,75121,68577,41208,79376,39210,70161,91002,80775,35208,86552,27445,73447,83661,95590,90153,34225,74478,57949,27067,70870,53049,54485,49078,62996,28338,92113,64514,87381,87124,87292,83432,45184,82056,59661,84416,69053,39195,75292,70785,84160,86815,48724,73666,68717,40023,38949,48063,34229,76825,55026,39191,68929,48622,72519,77468,56332,70754,59386,54968,90521,72076,40538,30129,62790,71244,45537,88614,54859,78479,84499,30327,28732,60362,43156,54633,56335,58394,34697,66271,38580,59049,85705,90426,33349,72521,73324,43535,84060,53331,44213,66253,77407,63234,96734,48382,86652,64479,38722,34417,65959,48853,90876,76668,33936,68126,67079,48932,93495,40867,79265,33167,28464,52301,63441,45875,59815,96096,52766,69002,36682,63489,32678,94495,60642,30326,86484,33461,82253,43825,59712,73371,94913,41796,88554,47703,35810,57843,28958,63862,63217,44967,29629,54974,56658,81227,57701,55848,84460,69702,80609,61828,37132,45978,79688,57312,66342,32393,30541,93805,57987,62369,60729,31813,92131,95471,70624,39966,84038,82090,51374,67805,72802,94604,70712,53534,27885,65896,46969,66332,27287,95249,84777,57938,69131,72842,86075,93866,79633,48601,91503,55204,78771,51073,29079,74631,69956,29184,38080,39535,67363,33901,36608,87353,90161,45015,48773,48186,42191,93798,29133,82134,67282,86837,72096,67293,79009,70331,39561,89324,94343,64292,30809,34226,69712,87070,68197,80976,80320,49958,86933,49813,49899,73538,88922,47707,75600,89893,77584,93259,52047,85991,75550,78508,91025,62941,73604,65893,94286,55964,82996,38819,49739,70364,77279,87898,86013,42579,31089,35735,40821,44686,29711,49158,44652,83231,73926,40999,45543,31504,44432,48880,35366,35720,77650,52385,76670,49957,93956,78687,68936,66964,91358,64780,58272,77457,44426,68694,70823,69840,49149,77559,35203,57016,40329,40235,85456,69781,79425,93419,63602,36127,87563,61761,66362,39263,36036,79065,50334,34667,91908,52826,62877,48045,72417,62882,41581,55803,74584,81764,79744,89150,95221,55597,39236,77048,85096,36561,84429,32999,32958,82640,70838,76323,64267,48291,48108,29379,83172,68474,88889,78702,50394,49467,69399,87670,64275,73330,41025,42962,74712,47154,92837,72240,31534,89245,72152,57409,28170,40254,57351,84431,41953,92473,59983,74793,62083,95607,32223,27997,93310,91488,93899,32439,28065,66672,56910,57143,38008,38987,33468,81718,64456,31252,54715,34425,52159,59010,73312,46117,73194,85718,66587,95520,90781,79420,51135,43400,48459,84695,47397,82304,85978,93044,59664,93312,36128,44191,78266,80736,36318,62367,37529,83969,78918,33841,78850,62571,31876,32784,51250,90986,96863,91720,36641,87843,81278,37300,65177,60803,92197,62046,67810,31206,27251,88869,88242,95560,72431,85723,93958,74458,95164,38284,47235,35702,90643,27879,35020,49119,50099,86619,62859,79614,84549,39088,83616,55304,94440,52490,27534,73938,66562,85394,77833,75985,46546,74645,91560,59776,70513,32694,51792,72407,31906,50122,92542,82783,38975,89374,70614,79444,77876,40587,48032,54916,78592,68282,85097,68534,31709,94458,33029,34794,62003,45785,40801,52052,94559,64753,67345,88648,92041,27618,83097,37683,68770,59251,82838,64229,49133,92342,33374,27037,32153,76342,62631,37731,62259,90510,49182,68160,48594,84061,70783,33593,87374,84746,44592,66623,40816,27135,66240,78884,93370,42800,83437,56338,86488,38203,90488,44694,89624,35531,30966,55695,82046,79712,95079,65068,53033,57818,70178,33249,38461,81455,92202,75107,44837,50340,77463,47248,69604,64810,35232,47085,28802,29957,81918,30556,40293,80830,76772,73287,31338,92120,32423,82226,47338,28195,41475,73072,66602,31324,80022,34519,57500,81912,49112,39794,46332,40904,45546,73882,90048,33004,39470,36358,71612,78430,32591,80114,71550,32632,49492,47342,81577,65059,52068,60332,32651,28781,87543,93553,40874,62922,37956,71409,42830,35058,55751,92301,74257,43678,93924,82620,95977,62418,66696,80137,41680,86725,66066,76020,80474,72703,47943,73665,71188,73611,41202,58278,87585,50716,93076,76381,44448,34279,82072,85166,96154,75331,72992,87999,52615,52411,69724,38317,54553,58463,94675,77755,34112,54120,41715,85288,47253,57989,86096,77077,74717,86032,87515,71470,37656,56856,84497,50711,67158,80029,51573,59474,78185,86017,67097,31076,35711,51849,59679,79238,73170,74435,32397,57246,74818,93512,90552,72872,68781,46685,57588,88066,88759,48634,51481,75637,29392,47429,46866,53213,38530,48836,82561,64845,86353,67134,62401,48835,94332,91547,88890,77921,27313,54871,34648,29061,57140,41110,39726,68821,52903,61318,34882,28740,31264,56751,49091,34858,39384,52498,94034,61774,50511,35279,52545,34714,85233,68673,53368,90811,81152,63260,27106,71534,91998,63177,55019,48561,42504,27310,31640,58639,41079,78566,55804,83686,65801,43765,67023,36676,36066,51730,96087,90795,58140,36493,72128,70771,68859,96788,67249,73672,50046,36987,92996,34544,36662,79692,27975,58701,69778,71891,67438,59063,52851,81147,80478,40278,44253,90571,50074,42129,30227,27967,50037,75017,32969,46094,86531,29087,79795,76748,95801,74672,32479,82248,30925,70167,41742,57895,89122,30109,57250,64790,28389,67017,35016,96418,65653,82884,35767,65038,88735,47286,74110,67552,87396,67055,44403,45971,36820,89953,89778,63336,38017,51190,77423,94778,76713,89396,89724,84755,92699,73692,50583,37809,78996,52552,28245,88101,78191,62265,80378,80404,71159,88140,61440,86653,73176,44720,96458,58951,71574,63402,81170,60816,77354,82125,85095,60647,38406,39982,83567,52314,57386,86876,68811,45071,69744,76085,45693,39213,60564,27435,59182,31958,59627,46985,68940,85137,66880,34350,78103,63604,67586,64001,58595,91154,79726,61684,79989,87108,32164,91822,96190,83521,95117,80729,57360,50078,38304,29369,46636,37997,60199,70433,85574,80777,82438,64620,68485,67554,38774,34118,36472,39968,68191,48051,93761,73479,78907,43374,61236,67411,56976,61472,95524,30876,50686,28809,35775,56898,87245,49758,37091,58999,53290,96752,67866,78655,94022,45795,70014,57350,30906,75996,87514,55394,33233,30805,55487,76130,58782,64240,43173,31187,53251,27543,95430,93157,45886,70418,28690,67437,79516,70649,67928,63186,91616,89876,37416,62813,76299,83142,69066,37762,88087,86354,37676,56982,89161,91466,44765,87261,31618,91650,78184,49886,77848,67216,44917,66164,38268,44840,94514,62933,51357,60839,65782,70546,60421,73705,43832,47516,41481,88965,78293,82138,65791,90987,30314,93127,40871,62152,69775,60669,93832,96883,38324,73698,54271,32046,27357,38290,39319,90378,44681,93817,46788,94585,85244,52918,78379,56116,34410,27224,29658,81044,96353,67435,33557,79634,91520,58421,39452,74796,82605,80314,36980,83292,54647,76199,67628,37953,73207,74747,38161,81445,84576,35188,82093,64978,58328,78031,39420,59336,27640,78875,77309,90222,48905,40511,66851,83293,34297,42173,88845,38353,63890,48820,30953,93224,79197,66311,45659,32218,58528,59339,28060,52325,86894,95196,95999,75132,89621,34054,79370,64283,90600,62178,69426,73871,34140,36450,72464,88360,93734,86758,30540,72487,86905,58494,35714,39249,75109,31921,49858,77902,85570,70124,60572,49843,28288,64807,35518,42628,69597,39542,66769,55699,60112,35915,79469,77033,95231,35738,47817,78629,73059,68875,95785,44309,84451,40326,61194,96915,76419,31132,50563,28651,31386,50335,83344,64644,41939,42193,55905,59359,79394,59153,65660,41888,72210,66898,65082,39101,74553,84668,28294,92778,49747,36062,67025,42412,31296,79374,30857,89727,66414,50722,74149,67621,81301,54909,61560,44351,62762,49372,32202,75588,94533,70935,36243,28257,94592,73847,26965,61905,90350,75768,96201,62256,38185,79649,95321,42551,57635,71421,94920,64853,43557,66730,81453,94527,42566,62570,32414,70734,64449,48240,83460,74580,52594,42190,42679,61548,40028,37730,46000,28018,92789,71849,84028,94344,74288,43810,86513,66378,64270,86701,67990,59262,88351,49271,85191,95141,78171,43401,62191,76356,66971,51419,77710,50031,39481,66620,49662,89344,55868,87144,34827,60213,42558,43549,39117,74180,78277,52512,56978,63616,80387,56340,39688,61975,91572,68708,42219,67659,57257,63301,96280,28301,88034,74794,90083,47164,38502,93367,72847,58396,61831,63879,77606,30877,56940,38232,32189,89277,33675,42914,38584,77117,68617,54185,90775,68969,96271,69024,40288,73572,76917,77779,45541,95770,81179,78549,41015,56603,44423,71474,47045,59023,54552,70797,36890,73119,66753,89793,74431,38271,81253,30357,86004,57279,83836,34016,84456,94336,33062,83914,71986,64334,31535,35757,34064,60319,75437,65207,47269,80804,78246,81706,95488,89740,47107,27286,89966,46300,41228,42785,43293,43274,80110,73303,28400,46046,32491,28136,61547,53385,84424,37703,52555,49704,46103,61801,93311,39419,40311,88716,50695,64725,63778,29156,58965,76198,61462,33795,68905,38139,77827,46838,91215,42583,73583,27284,77614,44954,34887,73054,27526,87231,42263,49333,88935,47739,83814,70664,87083,70679,48171,45707,56350,67185,60636,87537,90743,73066,31833,77168,67379,47377,64484,55703,53016,70575,27147,30564,48192,35466,76055,53261,84327,55199,28692,40580,86530,48796,79234,69750,62908,70545,70189,66776,93197,28720,84338,42791,92681,35452,71248,88393,80945,44157,70633,86610,66939,61149,68667,39114,67642,68324,43270,90006,84577,32192,34598,78971,43245,90345,93136,64293,86763,79684,60115,72810,35307,79033,51636,66592,37400,53870,67792,27736,61272,67476,33731,87459,27637,76118,42229,46409,48770,34879,91451,78233,75558,62204,62201,46503,83876,88078,58333,58469,57251,52762,89177,93188,93117,58343,73935,82016,67385,57932,58399,70842,66665,32072,69080,43605,81740,76021,59619,69031,28284,88445,70884,68195,33949,60428,89668,41421,86568,93074,41498,33696,61183,32087,60345,81202,72562,65407,40456,79751,61561,31291,79207,89114,84211,32456,90701,92753,33686,35808,33069,29355,66512,76360,90415,82347,92631,81867,69894,37935,60653,59767,47900,69913,40523,72566,73654,43999,73090,61185,61868,64828,26969,27150,48489,44362,35805,36445,85934,53889,61678,52894,71117,29113,67156,69735,91347,59617,52308,67151,59126,66919,82390,92978,72787,53273,52206,41726,78725,71107,31192,42210,55018,35488,89067,95348,38548,55501,45185,78180,52478,33375,61414,28372,63277,89056,56755,70578,67226,42693,75145,29700,68161,31266,35184,31103,31072,72747,40963,43730,34659,72678,39456,42833,85731,59674,41463,88082,91992,34815,95538,73466,30825,56828,71766,65408,74218,86746,73327,89855,77550,71873,29480,41111,67475,39773,29306,35707,73065,41753,94831,45423,71913,66842,70214,84628,64466,36322,54515,40568,62883,79846,92698,92195,77819,28804,46965,52678,95429,33873,78442,48462,34307,94385,51580,87976,63838,82802,73585,48456,72560,50574,55136,71542,74556,32031,28728,32060,28127,31227,67959,64968,41238,39493,34609,84274,58269,74821,70432,32382,66651,39165,65769,41923,72100,91833,57460,42646,59645,57205,74329,91076,71632,69922,84674,37820,65858,92344,61068,72229,65186,86372,90409,51720,35697,66949,42522,31014,53023,34497,44676,88047,68853,78481,82247,31952,76231,55470,73602,69902,53752,75534,35121,41051,89670,32460,36131,65921,64088,90582,87308,75994,71074,68660,58665,43153,92299,76776,39368,59807,31491,58387,55134,46901,33266,32446,67116,75298,34632,41677,89165,78416,72632,89015,60159,79194,69788,40476,34727,33609,30856,74125,66746,91158,81600,42698,83674,86001,62832,37990,35329,59070,30578,61325,71922,90972,40049,51589,47424,81505,96583,35671,93833,77892,28397,27724,36473,60290,35242,87638,31680,33596,89469,64274,72044,67682,39135,53972,33637,92799,59793,48453,61432,66768,93563,96327,60822,55281,82233,89452,66085,38146,48166,40825,58414,34234,60429,31541,71998,31510,37856,55254,94821,57507,47042,59676,86862,61146,40957,27116,75311,44586,61173,29103,55235,41966,51997,45716,86316,78594,57280,77737,29414,35950,50368,79876,90204,91762,80124,92205,84485,46498,62002,47344,42197,28445,93112,90613,58205,81955,56391,70618,70816,50316,50524,42665,68488,46269,30860,69818,78704,49778,79278,54019,50433,77059,51031,90465,92617,41693,72740,81297,77792,85652,31144,89685,57315,31283,87596,47929,73697,68822,48488,55741,90999,38565,88051,88638,39344,72294,46581,65216,70512,38560,93422,52576,75740,43634,71838,72488,96209,89331,62280,65044,79196,96744,75115,51885,67498,91223,28407,85704,64949,52870,79865,80368,47915,86848,64381,55593,86778,82907,58671,68808,48742,58612,80030,52746,56780,34655,53622,49861,78998,63498,55451,41339,51964,77045,45539,40044,65889,84218,82085,86734,92641,68943,63330,65840,45773,53557,62184,50723,78500,40255,36782,85466,84631,58468,27002,82918,43694,46743,60196,42762,79281,92038,35756,50004,77381,66251,83235,37617,90396,74840,69850,86337,26950,66560,79204,67528,62350,43776,26856,82377,40219,61941,50747,71902,70080,56462,68893,69883,68823,85133,27887,92877,84516,88917,56964,69184,89149,43751,76459,80342,79322,86003,57210,74510,40922,31364,34514,54984,74426,27521,30527,52450,54453,54111,92487,37560,86158,77780,34849,74415,65225,40931,48074,88136,46286,74814,43615,28300,78539,59042,42565,34871,72489,82889,53350,67001,37534,76043,67393,75568,60671,73603,89419,95385,36702,51410,55415,67342,33758,88885,40790,59311,48869,87731,54779,69010,82431,80592,44408,79861,82481,38802,69049,44455,80791,58678,47701,74272,89643,60727,58693,45689,37666,95031,47063,31814,33980,48663,42121,91214,82268,72823,48746,69694,28375,38221,68074,72007,56004,86477,55132,53357,43133,90684,27086,67329,46031,64612,46647,55231,82572,95767,34917,58364,33900,80496,58980,39942,44000,47020,42265,55805,44749,86981,79371,70217,66389,34370,66236,80631,89761,62264,75615,83808,65367,92982,33924,72331,55192,67416,55725,46895,80685,36819,80802,72584,35063,61815,69930,44241,73010,47839,53552,68032,78841,89338,42076,88309,63527,68310,55495,36061,45195,61223,89382,90661,60410,72299,40885,96273,85333,36150,91521,43478,73595,85623,69929,89151,58764,49732,48829,33324,61924,63958,45817,92497,61137,91225,64445,48360,58987,89209,34513,88254,44396,58786,55782,53570,93410,94701,94779,69713,63850,42470,95300,63210,70366,48839,34552,93748,66972,63742,82815,56172,37404,44442,51748,64572,88332,96338,84758,94919,81046,87840,74219,39394,31451,29116,59116,89054,44184,84204,83375,57677,42591,85592,74360,96404,61362,70000,95159,73933,37842,30373,89812,54946,94570,89849,91587,33684,41629,36041,39461,56280,66639,49326,55110,53980,81259,87253,88446,78759,33776,70525,55275,94805,37406,81581,90729,81200,45427,88970,42969,68979,76421,84031,89078,29429,42108,47540,67889,26884,93603,51418,39793,35417,84409,29247,58725,68571,42756,84579,83364,51862,54228,53259,93184,66171,51359,64272,79549,56927,44419,52430,44924,82341,77637,76498,52682,27570,69550,84161,78048,53975,86441,29655,59125,67296,65350,47648,88999,54973,95122,80988,85650,56245,37696,78980,68907,77847,51803,63242,47231,29150,31907,53598,85812,78136,41954,86695,96161,68449,52648,49853,49044,54837,52163,37754,84386,88780,90878,94584,56310,76343,61504,44007,69817,32963,36393,84619,35129,54559,52404,84477,61082,78978,42259,91591,70822,54906,42746,63225,59033,45582,90244,88924,79120,34429,53225,37414,90829,86892,78195,74023,35745,78369,78715,94774,52536,83465,48496,50427,96429,51199,32067,35943,82598,47586,57877,51850,74833,45751,71857,79372,31294,34441,28299,35836,79146,60821,75993,94480,53602,59269,85569,72545,62390,89095,67265,73345,30271,65046,68725,27108,94687,49674,55608,42509,95530,92600,63156,90870,49394,45181,72376,86923,55854,34105,71221,89401,96875,73105,93229,74525,83983,51668,89664,27140,27065,36718,48588,53780,29052,60335,48667,71992,41365,50661,37779,28674,53931,35264,29337,94353,96739,75480,55950,54021,95569,41625,87238,63162,44445,57410,79927,64195,68657,93768,74554,77398,47081,55196,53606,54190,66082,57819,38458,81733,47382,36112,82821,57338,82177,83193,50676,87037,86835,56260,60415,35221,77443,48678,77253,84587,45770,77073,74163,95436,71570,72220,35729,28433,81886,56935,92173,79036,51052,60668,88950,77863,84314,44899,90725,82238,36976,76588,83164,40242,94581,72354,29191,80310,84592,87134,31211,83254,44216,62905,66619,57018,87777,42637,27766,34884,33935,59700,94807,85234,53333,59453,69918,55457,36069,53977,28188,61865,30241,88155,56716,47171,45811,31238,66700,75733,87738,92152,58773,28010,28801,38270,68999,34684,86563,46851,83564,60179,91125,92718,34462,73350,91773,64404,88685,42077,40802,47137,88314,94839,82061,78204,93614,86567,89701,75308,31853,46669,32380,74690,79892,91402,49981,54787,32475,57493,42213,48845,48866,89522,89207,54947,36750,52442,58755,75509,43476,47731,38385,79652,92140,66050,50593,56681,91899,62354,85253,93123,74663,66601,92525,54610,40903,32611,81941,36319,72448,77007,54011,88334,72540,62822,93135,52027,74822,40923,51694,95108,54938,39212,95054,58787,53913,94032,47974,50626,57139,42194,35067,46160,66059,43193,69673,68348,32229,68067,31754,45713,63594,94328,36948,34783,88216,84414,41947,45733,92144,70115,33568,88699,30321,44219,34653,35949,69079,93361,48105,48061,88698,80612,41054,29098,82110,30913,62339,38463,73427,63369,94248,71759,49089,65035,41713,79632,63211,96171,57703,51253,49267,83168,52662,77732,44025,80189,86182,36982,94882,81772,44160,85550,41596,69925,85840,55850,63427,26935,81434,68365,44287,69898,42502,46859,93870,66279,38499,85111,55170,57202,86035,83176,55296,34448,77738,60161,31388,46487,57675,72364,94464,60135,66049,36395,87207,41725,88469,95361,66206,91317,29165,61844,91659,58060,95029,77454,93935,81598,71091,87109,84527,94553,89152,44230,32160,30075,46143,55014,82310,56318,76266,41392,30087,67815,70105,96724,36481,59066,96665,75727,63822,42083,41921,94000,73454,63322,54480,53292,34396,35726,38870,40234,34989,51460,96774,74033,27236,48429,71177,91227,60300,92515,43785,41043,47300,74807,75110,35376,36633,54585,73213,90904,58736,52380,27265,60357,32492,33261,89509,60522,37723,66283,60768,48675,93409,95743,85580,56695,50500,61251,83119,58372,51474,85414,66516,68141,39810,72821,68444,55460,44756,41452,44440,48531,87028,47099,43542,82236,92285,37086,35262,63160,44774,38810,69801,73532,71799,32574,30950,79626,80163,56064,73240,83056,72520,41583,49498,91060,87024,81895,92169,46249,79613,32085,51337,72660,32178,58200,46785,78650,63426,66670,49865,87009,45363,61363,34596,91144,82101,76026,46263,41560,91787,68505,87551,52692,50690,84226,58544,48656,34691,29085,72253,36757,45312,39580,60291,47601,54311,37096,94927,32695,43849,80878,45680,60815,40578,55362,90992,90321,35717,92643,68446,89215,60590,90500,45761,96089,91501,67365,62928,48552,31777,31769,41504,84673,61136,39001,48358,93585,66045,91578,31404,85374,47313,52825,59161,58422,95268,46265,59257,27987,28313,71271,94297,29488,87304,85165,66802,92059,42574,63176,58430,43957,35075,93552,48066,68251,50624,49809,87603,93198,26912,88739,70872,69759,92315,33638,64685,76661,35479,37570,43481,60651,92966,35519,44833,48239,61113,72765,69980,30100,57404,29921,48393,55556,74266,40316,87823,64898,76746,57549,87854,59238,70103,57328,65230,55812,51132,76035,69721,79589,64348,58325,38849,96439,81048,44293,33410,28151,87510,65241,30073,59647,27644,32756,60165,37962,29259,48846,46100,46930,40519,77632,94369,51896,42792,60394,79921,43451,53572,95627,82876,35768,72871,85310,91680,63388,67182,68681,45340,92708,32369,82143,62929,65054,53320,68506,94444,82691,37621,67394,37632,64222,78661,57301,74332,91149,58788,43704,80406,65149,80157,54110,30214,93369,38360,82905,92291,39574,35853,69892,95609,87791,91487,35219,61109,47765,60698,82543,30135,96373,89734,71872,91794,65655,77701,78363,54582,61707,76816,27361,83691,65024,72358,83822,32516,95810,51962,65623,53424,77114,87569,30138,31290,46677,94979,74227,79553,33943,80150,56774,53732,48133,65793,76019,86902,94530,58181,60493,27991,75736,93507,86810,91338,48230,78558,48205,39694,38537,93426,44356,45089,76192,60991,39967,65754,73128,90630,58483,38191,29325,64476,58235,40237,79138,46927,59152,52846,65116,81318,32171,42814,94670,87203,45194,60398,59355,36675,60184,32224,64786,33477,51603,69051,66839,27228,31493,60547,37541,79361,27400,89950,72788,53861,92327,48005,46468,78778,68174,53736,77415,82095,32014,81034,87587,35399,84342,66629,27071,66739,69946,94852,86344,69690,74696,85429,71901,31381,27123,34951,73657,60489,68637,56115,74356,95740,93225,62815,50285,59630,70852,65694,96322,88671,27598,89438,90530,39204,56602,49278,88036,85143,61776,90810,51441,55315,53395,59438,63935,68928,52475,67101,56830,76091,66219,30881,73067,75584,67820,53034,89990,96056,74212,61288,67749,96409,39857,39175,67895,30866,60823,91497,60752,50343,59041,94389,61912,34389,34390,67217,62340,34994,32787,73448,51050,89903,47677,41525,36645,70374,74679,29324,68598,36962,58276,32017,29205,49830,70889,50628,88310,47563,89872,87849,74460,57447,87093,35693,71273,31278,28825,92237,42594,27338,72676,48062,33047,81158,88593,58603,42505,35030,35489,70710,88086,92102,77706,49027,62224,45470,96121,85293,38914,26854,54845,69552,62302,94607,30102,91068,27054,27080,80578,68594,89171,36522,79121,39748,89027,65617,79919,73048,45028,95055,69761,74126,58950,41284,83781,60796,54534,89018,86829,35783,53835,35096,67781,54896,60132,33796,61718,27285,52772,68970,38525,47695,64497,43856,43811,53710,50550,48999,68837,45816,61701,44388,36947,53001,55565,69905,41598,57743,90226,62860,55723,40251,71776,69660,83888,51256,57463,31202,72663,42003,53802,59423,38173,62636,55180,49013,52432,75556,48180,39554,83309,58260,29134,42498,39797,90133,80613,80513,62197,46560,38533,43932,71636,68649,33661,33612,96419,57242,33673,52891,79323,82276,90097,85691,96784,91960,81218,49900,58417,82114,42486,91963,73458,42434,34743,35892,37957,32601,53276,62961,80381,68988,65730,63819,37549,32240,89377,56838,57554,62000,61418,53211,51920,41484,65558,82278,49863,88149,66225,81509,71130,41949,78010,32163,77762,40325,27442,36509,96787,71291,53542,88808,33581,89031,79871,73837,65678,40603,62231,69943,95275,31067,37647,31006,57163,87439,83381,83139,88311,67687,72201,83629,68266,71287,36070,57511,89524,94795,86216,81961,45954,51910,86504,60795,33536,30076,78621,66605,96897,40756,68666,49953,92575,93760,58267,35821,37938,89025,52196,43653,33440,78967,66617,78009,80727,93129,63542,68616,90362,81917,37507,85399,91182,56664,73484,93499,65154,50346,92796,68580,42207,52802,40064,74596,54731,41562,57256,48551,70326,27129,68416,29242,73311,93747,63831,49106,37712,68226,93195,89574,70849,52694,52491,47245,89489,66098,76665,58000,52506,73757,52582,34574,51210,68705,30845,30272,62828,28438,68388,95162,71590,71557,41763,47910,79903,48363,35446,57533,56761,46033,42186,54541,77091,47521,54620,34079,34811,46507,51926,93115,82147,69907,73930,84279,90981,87472,47297,48795,86953,45665,75683,47530,84685,73515,51316,36721,49943,45841,88898,83951,68183,39172,53563,47261,66785,43177,48567,85246,42702,27031,42482,70400,72674,85879,33385,61398,77657,59389,87393,37085,31321,37412,30377,69187,78452,93020,83367,58895,26890,66958,86402,60379,84287,64873,82439,88719,68373,80870,38723,77563,93612,29304,73461,87127,78137,39482,46613,68142,86191,67166,47391,78937,67425,86773,55753,70200,30841,41263,41946,96453,77364,68612,58218,62051,96570,70706,54922,67900,48457,68461,77641,38905,89770,59197,39362,67502,91888,61200,91442,49314,36777,53712,64943,49942,73625,38982,62034,90979,72870,87979,71866,77294,66995,37636,53868,31395,81430,70520,58626,74078,70042,54561,49042,92850,89934,44457,28243,90896,40727,36635,72410,71774,33735,61843,55729,81122,54168,80451,37536,66852,92351,88936,75167,72265,48170,71418,92180,65641,38930,70917,64984,31885,28216,53050,69868,72894,52937,49745,82434,36647,70163,67132,81390,74521,30254,60367,73733,63270,48464,87131,65106,76671,56584,69109,27240,60856,81327,96134,53462,65983,41359,94472,31635,27873,71206,29997,57984,35845,93390,63174,34644,54257,72998,55620,43493,64527,65784,76330,78563,89557,50644,53314,51057,78115,87309,67893,71819,54642,44609,77790,43948,65828,95581,78660,84334,92879,53717,64557,68459,90300,70073,38513,51693,35882,75272,82118,92569,55694,67762,35944,79254,67766,55264,44568,33289,70240,54867,71629,83288,59329,42340,39662,92651,70098,90791,61199,83116,94956,56675,48718,76787,31701,38153,45053,70553,55563,34385,41825,45962,63233,79245,60475,30767,81382,32430,92577,89820,79093,68547,52898,54955,60125,58884,35771,31761,49888,33921,31869,93930,45564,89168,73433,46712,42771,95327,73094,64958,89484,39416,36677,62341,68775,71644,50268,56962,58206,77473,58087,54056,46054,76212,70672,62324,44604,54116,75336,75470,93990,95381,44224,61756,84612,47495,47089,95272,36603,65265,65824,93927,64623,28293,87042,29058,53782,33783,54501,66353,72752,71162,37530,93296,65871,77233,65611,63937,37841,79944,50275,53587,50440,85421,51338,83324,63401,43146,76893,91026,29654,94500,38195,34791,85316,33757,67619,45806,59792,27364,84665,52548,96395,80973,86321,36081,87820,90227,59344,55853,58347,66761,49850,68652,81580,89005,76999,42523,88607,38130,44739,46446,87907,87375,62973,32442,82999,34607,77044,75505,76855,38735,67699,84438,57836,58654,61487,53364,88479,89365,83802,90190,39679,51181,77666,51391,27187,35395,44933,90187,88903,61035,79854,90812,68500,52985,34076,79223,48175,61724,69610,51834,72838,28436,93092,92008,60167,58886,49764,87280,89963,46262,90840,90296,32531,50641,46505,80266,57502,85948,61011,59090,55603,60491,81585,94358,30771,49782,68343,87541,72335,70736,87529,42222,57442,71423,36798,41066,55553,77607,86957,56967,72074,41446,88954,70010,39949,92589,70345,57553,52999,47161,59773,55903,47320,49184,96158,39393,65788,58775,35140,82030,57878,34026,77121,61744,62994,92433,64319,52238,38315,59111,84709,38772,77022,85255,53995,36683,61120,44334,39252,57823,80561,68304,36406,94159,67334,36139,82755,64172,61682,82739,27322,69495,90354,78885,60897,43243,56953,62756,48430,46030,93064,34908,90399,90634,59622,45548,72865,59895,42180,54178,76404,54598,65562,55719,58491,79057,41602,79165,57936,50745,79769,54070,42572,53728,33320,64491,31557,83678,78640,72392,57916,68809,42106,75282,59693,40030,40307,86918,35427,90672,93985,72901,64231,52062,94312,79683,72541,89238,36714,90517,88396,91107,84207,46639,62943,36078,43609,48351,74041,64179,50488,84618,74701,36874,89936,62995,53340,32470,94033,48215,91193,63224,51616,67092,45177,87572,29067,37601,81377,81887,82908,75458,43506,75174,56267,91820,86562,91210,65271,60120,92693,47357,45957,45018,27620,52829,31082,78995,81829,91072,50384,80417,45987,49677,43853,31879,66951,72116,61994,58770,55434,94568,89185,50410,79369,56843,37706,89719,44735,32172,65291,91926,69634,46083,75603,57657,88139,32575,51239,49862,34455,76279,71914,52771,61243,58194,83304,63161,87775,81015,43234,93472,61525,88871,77379,82737,70605,61004,81512,52008,63202,93446,52667,60111,89097,43905,48931,83263,27208,61340,89675,68382,89022,73605,93542,61297,29413,42638,51516,96435,60866,37645,92578,54117,87528,85648,57948,50461,79113,43304,39722,56867,35363,37551,82504,86512,91073,80035,35041,94139,27503,28157,90872,61513,85328,66369,89340,94455,89718,47181,37834,33472,36261,86472,32454,60298,72662,52857,66634,90897,67118,94043,43748,78981,52683,72888,70185,84439,62748,89094,79784,66248,44298,89545,27881,85895,69037,82475,32051,80923,78947,81175,76788,38753,51758,41708,33035,66965,44289,78774,78756,38430,73243,73420,72952,65386,49851,96405,30038,57630,66907,46496,79177,65146,48887,75580,86626,88882,80759,43466,62719,47151,45988,49734,42408,66086,80845,91823,51136,87612,37958,66267,37516,31542,91419,61306,56492,52589,75307,76481,43772,43666,38333,71804,37940,95761,45807,56067,56386,43003,60462,73940,70603,67674,81222,93752,30957,68278,61829,79084,64103,35135,76350,57345,47106,83670,94468,73234,30962,62968,95110,84517,78683,94341,70187,71289,44683,84558,87758,38760,77123,65613,38578,67855,93811,78131,62328,60414,39739,46044,94335,64265,81398,74323,57570,27449,46810,47545,61029,86509,68030,69511,37496,84428,81853,55752,41441,88478,38555,63941,27745,59852,71431,84471,90817,58027,31201,38319,57454,77597,90375,50530,58203,30828,94322,89198,95997,77151,73056,57006,62400,67809,34525,43212,34778,63609,95756,42091,31160,30186,89914,82040,73862,32227,73374,44411,44225,64161,40868,73918,94792,56345,66890,59635,70459,56745,95296,41322,92324,44926,35910,39671,38581,51671,66953,60096,34750,28282,78853,54034,76016,63192,89306,35861,64146,77436,75171,36699,76195,32604,77638,40824,61814,89264,33981,33297,31022,69944,71198,95284,58511,59395,70857,38179,82682,38568,86779,85309,41104,40776,91173,29692,41363,45159,58941,38220,48651,33741,86573,44447,93140,42203,89994,43440,41510,39913,55763,32573,68235,31855,46486,92768,45008,46671,55290,31657,83706,39436,31916,78014,92442,79572,62372,53517,74637,31336,52696,84586,69601,63323,80357,43924,83508,27612,70121,44190,36769,59723,30998,69126,96688,60103,79837,29262,56284,40327,75652,32769,64830,31361,83942,82576,71183,67210,88301,51702,91851,27169,93106,31560,47055,42935,27865,45196,86148,92294,46607,89063,64095,82826,70041,28159,31357,84174,95204,91414,45099,77544,82279,82825,58375,80489,80725,75619,68470,49895,53044,41210,68000,62314,84370,35131,37592,47956,83980,76596,34365,47430,82880,45501,90395,82569,76991,56441,30644,85556,59133,96085,44759,77652,79768,85535,60286,39533,58454,56195,71623,65650,26958,60641,67976,87836,33059,84788,26891,95462,76346,86180,62065,52890,68103,80963,44027,83672,96891,51811,76320,93079,35641,72271,31091,83488,92527,60494,81757,85249,63289,46811,81041,73754,83402,37422,71650,32478,48682,29069,92749,69432,64296,29498,80284,38758,46719,63209,91716,88650,33220,72261,55299,64884,32800,91528,35029,55709,74236,67943,96669,48210,53745,88957,40206,30973,68038,57424,69120,87006,95307,73831,91395,87983,38501,80918,80392,78955,31343,79052,96100,35023,58911,71448,36930,96195,94227,46936,40755,80683,63537,31725,59292,30778,61157,36597,92046,85476,33348,87229,66759,35776,71879,64992,69155,59629,47275,95778,90065,77895,31713,36138,80975,59036,43371,35926,30363,68349,31431,30329,76305,78606,90357,81702,35124,52817,46553,44248,55539,94408,95676,68942,82793,31547,28062,95304,45191,46806,51252,28724,46043,68982,93408,63752,43778,50590,52590,67061,52537,88566,65144,73584,62244,82874,91668,65331,41438,89945,28246,79851,85326,93346,76259,48788,81480,93493,95965,67067,91890,73167,78079,38282,30890,92033,38321,68544,54164,41399,64210,36620,83698,94893,66615,53543,51681,31776,36843,49756,57842,73663,88172,49713,62685,79415,70213,91756,46429,42009,67461,29335,50112,39938,53865,79889,51677,85474,45977,28026,62165,55672,76854,76146,81765,43503,79229,86932,35360,73507,55893,45980,50600,62942,86002,61988,91162,31061,89555,35434,75677,90982,44587,46465,76826,49666,43619,43225,88382,38816,27300,75202,49010,47356,73168,74388,55022,78710,30210,92214,39315,60289,45160,44315,54570,66316,72153,86747,71563,87370,63765,83868,44021,37292,55793,62307,43378,52803,65365,96098,60802,39754,61282,86485,35415,90656,94449,82262,48516,73456,52755,76022,94944,67640,30861,92509,59662,34481,81162,92231,94405,27790,64147,55548,65328,40600,46399,66792,91916,68499,54112,55918,79140,61780,67401,58467,89083,65848,56553,62730,29895,44891,39343,77842,72594,37646,29915,65103,90722,44355,31765,71408,85710,58210,37125,57671,59659,88178,27965,80423,47366,31137,30368,68944,63603,53484,34379,38169,65922,27190,64032],\"yaxis\":\"y\",\"type\":\"scattergl\"}],                        {\"template\":{\"data\":{\"histogram2dcontour\":[{\"type\":\"histogram2dcontour\",\"colorbar\":{\"outlinewidth\":0,\"ticks\":\"\"},\"colorscale\":[[0.0,\"#0d0887\"],[0.1111111111111111,\"#46039f\"],[0.2222222222222222,\"#7201a8\"],[0.3333333333333333,\"#9c179e\"],[0.4444444444444444,\"#bd3786\"],[0.5555555555555556,\"#d8576b\"],[0.6666666666666666,\"#ed7953\"],[0.7777777777777778,\"#fb9f3a\"],[0.8888888888888888,\"#fdca26\"],[1.0,\"#f0f921\"]]}],\"choropleth\":[{\"type\":\"choropleth\",\"colorbar\":{\"outlinewidth\":0,\"ticks\":\"\"}}],\"histogram2d\":[{\"type\":\"histogram2d\",\"colorbar\":{\"outlinewidth\":0,\"ticks\":\"\"},\"colorscale\":[[0.0,\"#0d0887\"],[0.1111111111111111,\"#46039f\"],[0.2222222222222222,\"#7201a8\"],[0.3333333333333333,\"#9c179e\"],[0.4444444444444444,\"#bd3786\"],[0.5555555555555556,\"#d8576b\"],[0.6666666666666666,\"#ed7953\"],[0.7777777777777778,\"#fb9f3a\"],[0.8888888888888888,\"#fdca26\"],[1.0,\"#f0f921\"]]}],\"heatmap\":[{\"type\":\"heatmap\",\"colorbar\":{\"outlinewidth\":0,\"ticks\":\"\"},\"colorscale\":[[0.0,\"#0d0887\"],[0.1111111111111111,\"#46039f\"],[0.2222222222222222,\"#7201a8\"],[0.3333333333333333,\"#9c179e\"],[0.4444444444444444,\"#bd3786\"],[0.5555555555555556,\"#d8576b\"],[0.6666666666666666,\"#ed7953\"],[0.7777777777777778,\"#fb9f3a\"],[0.8888888888888888,\"#fdca26\"],[1.0,\"#f0f921\"]]}],\"heatmapgl\":[{\"type\":\"heatmapgl\",\"colorbar\":{\"outlinewidth\":0,\"ticks\":\"\"},\"colorscale\":[[0.0,\"#0d0887\"],[0.1111111111111111,\"#46039f\"],[0.2222222222222222,\"#7201a8\"],[0.3333333333333333,\"#9c179e\"],[0.4444444444444444,\"#bd3786\"],[0.5555555555555556,\"#d8576b\"],[0.6666666666666666,\"#ed7953\"],[0.7777777777777778,\"#fb9f3a\"],[0.8888888888888888,\"#fdca26\"],[1.0,\"#f0f921\"]]}],\"contourcarpet\":[{\"type\":\"contourcarpet\",\"colorbar\":{\"outlinewidth\":0,\"ticks\":\"\"}}],\"contour\":[{\"type\":\"contour\",\"colorbar\":{\"outlinewidth\":0,\"ticks\":\"\"},\"colorscale\":[[0.0,\"#0d0887\"],[0.1111111111111111,\"#46039f\"],[0.2222222222222222,\"#7201a8\"],[0.3333333333333333,\"#9c179e\"],[0.4444444444444444,\"#bd3786\"],[0.5555555555555556,\"#d8576b\"],[0.6666666666666666,\"#ed7953\"],[0.7777777777777778,\"#fb9f3a\"],[0.8888888888888888,\"#fdca26\"],[1.0,\"#f0f921\"]]}],\"surface\":[{\"type\":\"surface\",\"colorbar\":{\"outlinewidth\":0,\"ticks\":\"\"},\"colorscale\":[[0.0,\"#0d0887\"],[0.1111111111111111,\"#46039f\"],[0.2222222222222222,\"#7201a8\"],[0.3333333333333333,\"#9c179e\"],[0.4444444444444444,\"#bd3786\"],[0.5555555555555556,\"#d8576b\"],[0.6666666666666666,\"#ed7953\"],[0.7777777777777778,\"#fb9f3a\"],[0.8888888888888888,\"#fdca26\"],[1.0,\"#f0f921\"]]}],\"mesh3d\":[{\"type\":\"mesh3d\",\"colorbar\":{\"outlinewidth\":0,\"ticks\":\"\"}}],\"scatter\":[{\"fillpattern\":{\"fillmode\":\"overlay\",\"size\":10,\"solidity\":0.2},\"type\":\"scatter\"}],\"parcoords\":[{\"type\":\"parcoords\",\"line\":{\"colorbar\":{\"outlinewidth\":0,\"ticks\":\"\"}}}],\"scatterpolargl\":[{\"type\":\"scatterpolargl\",\"marker\":{\"colorbar\":{\"outlinewidth\":0,\"ticks\":\"\"}}}],\"bar\":[{\"error_x\":{\"color\":\"#2a3f5f\"},\"error_y\":{\"color\":\"#2a3f5f\"},\"marker\":{\"line\":{\"color\":\"#E5ECF6\",\"width\":0.5},\"pattern\":{\"fillmode\":\"overlay\",\"size\":10,\"solidity\":0.2}},\"type\":\"bar\"}],\"scattergeo\":[{\"type\":\"scattergeo\",\"marker\":{\"colorbar\":{\"outlinewidth\":0,\"ticks\":\"\"}}}],\"scatterpolar\":[{\"type\":\"scatterpolar\",\"marker\":{\"colorbar\":{\"outlinewidth\":0,\"ticks\":\"\"}}}],\"histogram\":[{\"marker\":{\"pattern\":{\"fillmode\":\"overlay\",\"size\":10,\"solidity\":0.2}},\"type\":\"histogram\"}],\"scattergl\":[{\"type\":\"scattergl\",\"marker\":{\"colorbar\":{\"outlinewidth\":0,\"ticks\":\"\"}}}],\"scatter3d\":[{\"type\":\"scatter3d\",\"line\":{\"colorbar\":{\"outlinewidth\":0,\"ticks\":\"\"}},\"marker\":{\"colorbar\":{\"outlinewidth\":0,\"ticks\":\"\"}}}],\"scattermapbox\":[{\"type\":\"scattermapbox\",\"marker\":{\"colorbar\":{\"outlinewidth\":0,\"ticks\":\"\"}}}],\"scatterternary\":[{\"type\":\"scatterternary\",\"marker\":{\"colorbar\":{\"outlinewidth\":0,\"ticks\":\"\"}}}],\"scattercarpet\":[{\"type\":\"scattercarpet\",\"marker\":{\"colorbar\":{\"outlinewidth\":0,\"ticks\":\"\"}}}],\"carpet\":[{\"aaxis\":{\"endlinecolor\":\"#2a3f5f\",\"gridcolor\":\"white\",\"linecolor\":\"white\",\"minorgridcolor\":\"white\",\"startlinecolor\":\"#2a3f5f\"},\"baxis\":{\"endlinecolor\":\"#2a3f5f\",\"gridcolor\":\"white\",\"linecolor\":\"white\",\"minorgridcolor\":\"white\",\"startlinecolor\":\"#2a3f5f\"},\"type\":\"carpet\"}],\"table\":[{\"cells\":{\"fill\":{\"color\":\"#EBF0F8\"},\"line\":{\"color\":\"white\"}},\"header\":{\"fill\":{\"color\":\"#C8D4E3\"},\"line\":{\"color\":\"white\"}},\"type\":\"table\"}],\"barpolar\":[{\"marker\":{\"line\":{\"color\":\"#E5ECF6\",\"width\":0.5},\"pattern\":{\"fillmode\":\"overlay\",\"size\":10,\"solidity\":0.2}},\"type\":\"barpolar\"}],\"pie\":[{\"automargin\":true,\"type\":\"pie\"}]},\"layout\":{\"autotypenumbers\":\"strict\",\"colorway\":[\"#636efa\",\"#EF553B\",\"#00cc96\",\"#ab63fa\",\"#FFA15A\",\"#19d3f3\",\"#FF6692\",\"#B6E880\",\"#FF97FF\",\"#FECB52\"],\"font\":{\"color\":\"#2a3f5f\"},\"hovermode\":\"closest\",\"hoverlabel\":{\"align\":\"left\"},\"paper_bgcolor\":\"white\",\"plot_bgcolor\":\"#E5ECF6\",\"polar\":{\"bgcolor\":\"#E5ECF6\",\"angularaxis\":{\"gridcolor\":\"white\",\"linecolor\":\"white\",\"ticks\":\"\"},\"radialaxis\":{\"gridcolor\":\"white\",\"linecolor\":\"white\",\"ticks\":\"\"}},\"ternary\":{\"bgcolor\":\"#E5ECF6\",\"aaxis\":{\"gridcolor\":\"white\",\"linecolor\":\"white\",\"ticks\":\"\"},\"baxis\":{\"gridcolor\":\"white\",\"linecolor\":\"white\",\"ticks\":\"\"},\"caxis\":{\"gridcolor\":\"white\",\"linecolor\":\"white\",\"ticks\":\"\"}},\"coloraxis\":{\"colorbar\":{\"outlinewidth\":0,\"ticks\":\"\"}},\"colorscale\":{\"sequential\":[[0.0,\"#0d0887\"],[0.1111111111111111,\"#46039f\"],[0.2222222222222222,\"#7201a8\"],[0.3333333333333333,\"#9c179e\"],[0.4444444444444444,\"#bd3786\"],[0.5555555555555556,\"#d8576b\"],[0.6666666666666666,\"#ed7953\"],[0.7777777777777778,\"#fb9f3a\"],[0.8888888888888888,\"#fdca26\"],[1.0,\"#f0f921\"]],\"sequentialminus\":[[0.0,\"#0d0887\"],[0.1111111111111111,\"#46039f\"],[0.2222222222222222,\"#7201a8\"],[0.3333333333333333,\"#9c179e\"],[0.4444444444444444,\"#bd3786\"],[0.5555555555555556,\"#d8576b\"],[0.6666666666666666,\"#ed7953\"],[0.7777777777777778,\"#fb9f3a\"],[0.8888888888888888,\"#fdca26\"],[1.0,\"#f0f921\"]],\"diverging\":[[0,\"#8e0152\"],[0.1,\"#c51b7d\"],[0.2,\"#de77ae\"],[0.3,\"#f1b6da\"],[0.4,\"#fde0ef\"],[0.5,\"#f7f7f7\"],[0.6,\"#e6f5d0\"],[0.7,\"#b8e186\"],[0.8,\"#7fbc41\"],[0.9,\"#4d9221\"],[1,\"#276419\"]]},\"xaxis\":{\"gridcolor\":\"white\",\"linecolor\":\"white\",\"ticks\":\"\",\"title\":{\"standoff\":15},\"zerolinecolor\":\"white\",\"automargin\":true,\"zerolinewidth\":2},\"yaxis\":{\"gridcolor\":\"white\",\"linecolor\":\"white\",\"ticks\":\"\",\"title\":{\"standoff\":15},\"zerolinecolor\":\"white\",\"automargin\":true,\"zerolinewidth\":2},\"scene\":{\"xaxis\":{\"backgroundcolor\":\"#E5ECF6\",\"gridcolor\":\"white\",\"linecolor\":\"white\",\"showbackground\":true,\"ticks\":\"\",\"zerolinecolor\":\"white\",\"gridwidth\":2},\"yaxis\":{\"backgroundcolor\":\"#E5ECF6\",\"gridcolor\":\"white\",\"linecolor\":\"white\",\"showbackground\":true,\"ticks\":\"\",\"zerolinecolor\":\"white\",\"gridwidth\":2},\"zaxis\":{\"backgroundcolor\":\"#E5ECF6\",\"gridcolor\":\"white\",\"linecolor\":\"white\",\"showbackground\":true,\"ticks\":\"\",\"zerolinecolor\":\"white\",\"gridwidth\":2}},\"shapedefaults\":{\"line\":{\"color\":\"#2a3f5f\"}},\"annotationdefaults\":{\"arrowcolor\":\"#2a3f5f\",\"arrowhead\":0,\"arrowwidth\":1},\"geo\":{\"bgcolor\":\"white\",\"landcolor\":\"#E5ECF6\",\"subunitcolor\":\"white\",\"showland\":true,\"showlakes\":true,\"lakecolor\":\"white\"},\"title\":{\"x\":0.05},\"mapbox\":{\"style\":\"light\"}}},\"xaxis\":{\"anchor\":\"y\",\"domain\":[0.0,1.0],\"title\":{\"text\":\"UnitPrice\"}},\"yaxis\":{\"anchor\":\"x\",\"domain\":[0.0,1.0],\"title\":{\"text\":\"index\"}},\"coloraxis\":{\"colorbar\":{\"title\":{\"text\":\"UnitPrice\"}},\"colorscale\":[[0.0,\"#0d0887\"],[0.1111111111111111,\"#46039f\"],[0.2222222222222222,\"#7201a8\"],[0.3333333333333333,\"#9c179e\"],[0.4444444444444444,\"#bd3786\"],[0.5555555555555556,\"#d8576b\"],[0.6666666666666666,\"#ed7953\"],[0.7777777777777778,\"#fb9f3a\"],[0.8888888888888888,\"#fdca26\"],[1.0,\"#f0f921\"]]},\"legend\":{\"tracegroupgap\":0},\"margin\":{\"t\":60},\"height\":400,\"width\":800},                        {\"responsive\": true}                    ).then(function(){\n                            \nvar gd = document.getElementById('c15243ea-dd16-4d34-9293-34e0b3abd326');\nvar x = new MutationObserver(function (mutations, observer) {{\n        var display = window.getComputedStyle(gd).display;\n        if (!display || display === 'none') {{\n            console.log([gd, 'removed!']);\n            Plotly.purge(gd);\n            observer.disconnect();\n        }}\n}});\n\n// Listen for the removal of the full notebook cells\nvar notebookContainer = gd.closest('#notebook-container');\nif (notebookContainer) {{\n    x.observe(notebookContainer, {childList: true});\n}}\n\n// Listen for the clearing of the current output cell\nvar outputEl = gd.closest('.output');\nif (outputEl) {{\n    x.observe(outputEl, {childList: true});\n}}\n\n                        })                };                            </script>        </div>\n</body>\n</html>"
                },
                "metadata": {}
              }
            ]
          }
        },
        "8e5ea7e27f194090b71897d97cdba1c4": {
          "model_module": "@jupyter-widgets/base",
          "model_name": "LayoutModel",
          "model_module_version": "1.2.0",
          "state": {
            "_model_module": "@jupyter-widgets/base",
            "_model_module_version": "1.2.0",
            "_model_name": "LayoutModel",
            "_view_count": null,
            "_view_module": "@jupyter-widgets/base",
            "_view_module_version": "1.2.0",
            "_view_name": "LayoutView",
            "align_content": null,
            "align_items": null,
            "align_self": null,
            "border": null,
            "bottom": null,
            "display": null,
            "flex": null,
            "flex_flow": null,
            "grid_area": null,
            "grid_auto_columns": null,
            "grid_auto_flow": null,
            "grid_auto_rows": null,
            "grid_column": null,
            "grid_gap": null,
            "grid_row": null,
            "grid_template_areas": null,
            "grid_template_columns": null,
            "grid_template_rows": null,
            "height": null,
            "justify_content": null,
            "justify_items": null,
            "left": null,
            "margin": null,
            "max_height": null,
            "max_width": null,
            "min_height": null,
            "min_width": null,
            "object_fit": null,
            "object_position": null,
            "order": null,
            "overflow": null,
            "overflow_x": null,
            "overflow_y": null,
            "padding": null,
            "right": null,
            "top": null,
            "visibility": null,
            "width": null
          }
        }
      }
    }
  },
  "nbformat": 4,
  "nbformat_minor": 0
}