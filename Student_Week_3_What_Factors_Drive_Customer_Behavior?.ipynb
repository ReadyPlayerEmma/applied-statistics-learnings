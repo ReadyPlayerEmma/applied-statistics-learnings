{
  "cells": [
    {
      "cell_type": "markdown",
      "metadata": {
        "id": "ZXQ3XjnpefVr"
      },
      "source": [
        "# Week 3: What Factors Drive CostPro Customer Purchasing Behaviors?"
      ]
    },
    {
      "cell_type": "markdown",
      "source": [
        "🚨 **First things first! Make a copy of this notebook. Your changes will not save unless you create your own copy!**"
      ],
      "metadata": {
        "id": "unR5HV2ezi6_"
      }
    },
    {
      "cell_type": "markdown",
      "metadata": {
        "id": "5aK-J2GoefVt"
      },
      "source": [
        "💡 Build Intuition\n",
        "\n",
        "As a data scientist at CostPro, your goal is to collect and analyze data on various factors influencing the likelihood of a purchase, such as a customer's past purchasing history, online behavior, and demographic information.\n",
        "\n",
        "You'll formulate hypotheses about which factors are related to customer purchasing behavior, test them, and report your confidence in your results."
      ]
    },
    {
      "cell_type": "markdown",
      "metadata": {
        "id": "JIPk5kkAefVt"
      },
      "source": [
        "## 🚀 Project Jumpstart"
      ]
    },
    {
      "cell_type": "markdown",
      "metadata": {
        "id": "dPqkKYmvefVt"
      },
      "source": [
        "### Dependencies"
      ]
    },
    {
      "cell_type": "code",
      "execution_count": null,
      "metadata": {
        "id": "QObraZ5RefVu"
      },
      "outputs": [],
      "source": [
        "!pip install numpy pandas seaborn matplotlib gdown scipy"
      ]
    },
    {
      "cell_type": "code",
      "execution_count": null,
      "metadata": {
        "id": "d_1EnY7GefVv"
      },
      "outputs": [],
      "source": [
        "import numpy as np\n",
        "import pandas as pd\n",
        "import seaborn as sns\n",
        "import matplotlib.pyplot as plt\n",
        "from scipy.stats import shapiro, anderson, ttest_ind, f_oneway, bernoulli, anderson_ksamp, bartlett, levene\n",
        "import gdown\n",
        "from typing import Optional"
      ]
    },
    {
      "cell_type": "code",
      "execution_count": null,
      "metadata": {
        "id": "p9Gc8BdDefVv"
      },
      "outputs": [],
      "source": [
        "# set the random seed\n",
        "random_seed = 42"
      ]
    },
    {
      "cell_type": "markdown",
      "metadata": {
        "id": "RJtt1NK4efVw"
      },
      "source": [
        "### 💾  Data"
      ]
    },
    {
      "cell_type": "markdown",
      "source": [
        "**💡** Build Intuition: Be sure to check out the [data dictionary!](https://docs.google.com/spreadsheets/d/12whrxX0nIGQRoXzztBjfQ06ocBU97v90w5bf3Mbj4wA/edit?usp=sharing) It will help you build intuition about what data is available to you and how you might want to use it!"
      ],
      "metadata": {
        "id": "fSHsBR3ykF-i"
      }
    },
    {
      "cell_type": "markdown",
      "metadata": {
        "id": "ChrJ-7XTefVw"
      },
      "source": [
        "#### Download the Data"
      ]
    },
    {
      "cell_type": "code",
      "execution_count": null,
      "metadata": {
        "id": "qtqGy8ENefVx"
      },
      "outputs": [],
      "source": [
        "# Download the file from co:rise google drive\n",
        "file_name = \"lead_scoring.csv\"\n",
        "unique_id = \"12aneagHSDvOsqAIsvW6aSmuOPuS7qihm\"\n",
        "gdown.download(id=unique_id, output=file_name)"
      ]
    },
    {
      "cell_type": "code",
      "source": [
        "# import data and show first 5 rows\n",
        "data = pd.read_csv(file_name)\n",
        "data.head()"
      ],
      "metadata": {
        "id": "bAzWy0S0o37Q"
      },
      "execution_count": null,
      "outputs": []
    },
    {
      "cell_type": "markdown",
      "metadata": {
        "id": "i2RqfBrZefVx"
      },
      "source": [
        "#### Data Exploration"
      ]
    },
    {
      "cell_type": "code",
      "execution_count": null,
      "metadata": {
        "id": "eseuWmA-efVx"
      },
      "outputs": [],
      "source": [
        "data.shape"
      ]
    },
    {
      "cell_type": "code",
      "execution_count": null,
      "metadata": {
        "id": "i4Ud7LZrefVy"
      },
      "outputs": [],
      "source": [
        "data.info()"
      ]
    },
    {
      "cell_type": "code",
      "execution_count": null,
      "metadata": {
        "id": "Ygp_WcGiefVy"
      },
      "outputs": [],
      "source": [
        "data.describe()"
      ]
    },
    {
      "cell_type": "code",
      "execution_count": null,
      "metadata": {
        "id": "6pivXEX3efVy"
      },
      "outputs": [],
      "source": [
        "# check the number of missing values in each column\n",
        "data.isnull().sum(axis=0)"
      ]
    },
    {
      "cell_type": "markdown",
      "metadata": {
        "id": "rat7GeCwefV0"
      },
      "source": [
        "### Does Offering a Client a Freebie Impact Purchasing Behavior? (Binary Variable)\n",
        "\n",
        "One common strategy in retail is to provide a customer with a free gift in the hope of increasing the likelihood they will purchase. In this case, CostPro gave away a free book."
      ]
    },
    {
      "cell_type": "code",
      "execution_count": null,
      "metadata": {
        "id": "ni_WzPYlefVz"
      },
      "outputs": [],
      "source": [
        "data[\"Free book\"].value_counts()"
      ]
    },
    {
      "cell_type": "markdown",
      "metadata": {
        "id": "kKhKxlaoefV0"
      },
      "source": [
        "#### ⚙️ Develop a Hypothesis\n",
        "\n",
        "💡 Build Intuition: [Review the relevant course material on hypothesis formulation and testing.](https://uplimit.com/course/applied-statistics-for-data-science/v2/module/hypothesis-testing-9mlrk)\n",
        "\n",
        "Now that we understand a little bit about our data, we know we're getting a binary or \"yes\" / \"no\" answer when it comes to conversion.\n",
        "\n",
        "Let's set up our null and alternative hypotheses about the impact of giveaways on CostPro Customer Conversion."
      ]
    },
    {
      "cell_type": "markdown",
      "metadata": {
        "id": "w9Ja3s8MefV0"
      },
      "source": [
        "##### Null Hypothesis ($H_0$)\n",
        "\n",
        "Offering clients a freebie does not impact purchasing behavior\n",
        "\n"
      ]
    },
    {
      "cell_type": "markdown",
      "metadata": {
        "id": "1mWAHbAYefV0"
      },
      "source": [
        "##### Alternative Hypothesis ($H_1$)\n",
        "\n",
        "Offering clients a freebie does impact purchasing behavior\n",
        "\n"
      ]
    },
    {
      "cell_type": "markdown",
      "metadata": {
        "id": "5WKzIoE7efV0"
      },
      "source": [
        "#### ⚙️ Select a Metric: Conversion\n",
        "\n",
        "💡 Build Intuition: [Review the relevant course material on selecting tests and metrics](https://uplimit.com/course/applied-statistics-for-data-science/v2/module/selecting-tests-njq6i)\n",
        "\n",
        "To start, let's select a simple binary metric, \"Converted\", that describes whether or the client made a purchase."
      ]
    },
    {
      "cell_type": "code",
      "execution_count": null,
      "metadata": {
        "id": "lJJxR434efV1"
      },
      "outputs": [],
      "source": [
        "data[\"Converted\"].value_counts()"
      ]
    },
    {
      "cell_type": "markdown",
      "metadata": {
        "id": "q8f0OWSnefV1"
      },
      "source": [
        "#### ⚙️ Test a Hypothesis\n",
        "\n",
        "Let's test our hypothesis. In order to understand if there is a relationship between giveaways, we will go through the following steps:\n",
        "\n",
        "1) Create random samples of a variety of sizes based on whether the customer did or did not receive a free book\n",
        "\n",
        "2) Use a t-test to determine whether or not there is a relationship between customers who received a free book and conversion rate.\n",
        "\n",
        "3) Review sample sizes and p-value associated with each t-test to understand the importance of sample size in being able to detect results."
      ]
    },
    {
      "cell_type": "markdown",
      "metadata": {
        "id": "AiVmITTNefV1"
      },
      "source": [
        "##### Play with Sample Sizes to Understand Why They Matter\n",
        "\n",
        "💡 Build Intuition: [Review the relevant course content on power calculation to understand more about why sample sizes matter.](https://uplimit.com/course/applied-statistics-for-data-science/v2/module/power-calculation-0o8tl)\n",
        "\n",
        "⚠️ Caution: Do NOT do loop through sample sizes at work. This is purely an exercise for your learning and to show you why sample size matters. In practice (on the job and in research settings) picking your sample size based on statistical significance is called \"p-hacking.\""
      ]
    },
    {
      "cell_type": "code",
      "execution_count": null,
      "metadata": {
        "id": "bnFGaPOVefV1"
      },
      "outputs": [],
      "source": [
        "# Write a function to return two samples of the same size\n",
        "def get_samples(\n",
        "    data: pd.DataFrame, sample_size: int, treatment_column: str, outcome_column: str\n",
        ") -> tuple:\n",
        "    \"\"\"\n",
        "    Returns two samples of the same size from the data.\n",
        "    data (pd.DataFrame): the data to be used\n",
        "    sample_size (int): the size of the sample to be returned\n",
        "    treatment_column (str): the name of the column to be used for the treatment\n",
        "    outcome_column (str): the name of the column to be used for the outcome\n",
        "\n",
        "    Returns:\n",
        "    list: two samples of the same size\n",
        "    \"\"\"\n",
        "\n",
        "    treatment_sample = data[data[treatment_column] == \"Yes\"].sample(\n",
        "        n=sample_size, random_state=random_seed\n",
        "    )[outcome_column]\n",
        "    no_treatment_sample = data[data[treatment_column] == \"No\"].sample(\n",
        "        n=sample_size, random_state=random_seed\n",
        "    )[outcome_column]\n",
        "    return [no_treatment_sample, treatment_sample]"
      ]
    },
    {
      "cell_type": "code",
      "execution_count": null,
      "metadata": {
        "id": "wVEctC75efV2"
      },
      "outputs": [],
      "source": [
        "sample_sizes = [100, 200, 500, 1000, 2000, 2500]\n",
        "\n",
        "# Write a function that loops through the sample sizes and returns the p-value for each sample size\n",
        "def get_p_values(\n",
        "    data: pd.DataFrame, sample_sizes: list, treatment_column: str, outcome_column: str\n",
        ") -> list:\n",
        "    \"\"\"\n",
        "    Returns the p-values for each sample size.\n",
        "    data (pd.DataFrame): the data to be used\n",
        "    sample_sizes (list): the list of sample sizes to be used\n",
        "    treatment_column (str): the name of the column to be used for the treatment\n",
        "    outcome_column (str): the name of the column to be used for the outcome\n",
        "\n",
        "    Returns:\n",
        "    list: the p-values for each sample size\n",
        "    \"\"\"\n",
        "\n",
        "    sample_sizes_with_p_values = []\n",
        "    for sample_size in sample_sizes:\n",
        "        samples = get_samples(\n",
        "            data, sample_size, treatment_column, outcome_column\n",
        "        )\n",
        "        p_value = ttest_ind(samples[0], samples[1], equal_var=False)[1]\n",
        "        sample_sizes_with_p_values.append((sample_size, p_value))\n",
        "    return sample_sizes_with_p_values"
      ]
    },
    {
      "cell_type": "code",
      "execution_count": null,
      "metadata": {
        "id": "yJtugwyyefV2"
      },
      "outputs": [],
      "source": [
        "# Return the p-values for each sample size\n",
        "p_values = get_p_values(\n",
        "    data, sample_sizes, \"Free book\", \"Converted\"\n",
        ")\n",
        "p_values"
      ]
    },
    {
      "cell_type": "markdown",
      "source": [
        "See how much the p-value changes as the sample size increases!\n",
        "\n",
        "At a sample size of 100, we have a p-value of .36 which means that we reject the alternative hypothesis. However, at a sample size of 2500, we have a p-value of 0.002 which means we reject the null hypothesis and have reason to believe there is a relationship between giving potential customers a free book and them converting into CostPro customers."
      ],
      "metadata": {
        "id": "SbyjekoOb87F"
      }
    },
    {
      "cell_type": "markdown",
      "source": [
        "##### Perform a Power Calcuation\n",
        "\n",
        "The recommended way to determine sample size!"
      ],
      "metadata": {
        "id": "Mcjp32WZ_-ZG"
      }
    },
    {
      "cell_type": "code",
      "source": [
        "import numpy as np\n",
        "import matplotlib.pyplot as plt\n",
        "from statsmodels.stats.power import TTestIndPower\n",
        "\n",
        "# Specify the parameters of the t-test\n",
        "effect_size = 0.8\n",
        "alpha = 0.05\n",
        "power = 0.8\n",
        "\n",
        "# Initialize the power calculator\n",
        "power_calculator = TTestIndPower()\n",
        "\n",
        "# Calculate the minimum sample size required to achieve the desired power\n",
        "sample_size = power_calculator.solve_power(effect_size=effect_size,\n",
        "                                           power=power,\n",
        "                                           alpha=alpha)\n",
        "print(\"Minimum sample size:\", sample_size)\n",
        "\n",
        "# Create an array of sample sizes to plot\n",
        "sample_sizes = np.linspace(start=2, stop=200, num=100)\n",
        "\n",
        "# Calculate the power of the t-test for each sample size\n",
        "powers = power_calculator.power(effect_size=effect_size,\n",
        "                                nobs1=sample_sizes,\n",
        "                                alpha=alpha)\n",
        "\n",
        "# Plot the power as a function of sample size\n",
        "plt.plot(sample_sizes, powers)\n",
        "plt.xlabel(\"Sample size\")\n",
        "plt.ylabel(\"Power\")\n",
        "plt.show()"
      ],
      "metadata": {
        "colab": {
          "base_uri": "https://localhost:8080/",
          "height": 475
        },
        "id": "O3x6rYTI_8dC",
        "outputId": "69d189b4-b648-45f5-c505-abdc2aa86099"
      },
      "execution_count": null,
      "outputs": [
        {
          "output_type": "stream",
          "name": "stdout",
          "text": [
            "Minimum sample size: 25.52457250047935\n"
          ]
        },
        {
          "output_type": "display_data",
          "data": {
            "text/plain": [
              "<Figure size 640x480 with 1 Axes>"
            ],
            "image/png": "[encoded data removed]"
          },
          "metadata": {}
        }
      ]
    },
    {
      "cell_type": "markdown",
      "source": [
        "#### 📈 Visualize the Results\n",
        "\n",
        "Now that we have our results, let's visualize them!"
      ],
      "metadata": {
        "id": "FGa0nngwZJ_-"
      }
    },
    {
      "cell_type": "code",
      "execution_count": null,
      "metadata": {
        "id": "iP6lLjNhefV8"
      },
      "outputs": [],
      "source": [
        "# Write a function that plots the p-values for each sample size\n",
        "def plot_p_values(sample_sizes_with_p_values: list) -> None:\n",
        "    \"\"\"\n",
        "    Plots the p-values for each sample size.\n",
        "    sample_sizes_with_p_values (list): the list of sample sizes and p-values to be used\n",
        "\n",
        "    Returns:\n",
        "    None\n",
        "    \"\"\"\n",
        "\n",
        "    sample_sizes = [\n",
        "        sample_size_with_p_value[0]\n",
        "        for sample_size_with_p_value in sample_sizes_with_p_values\n",
        "    ]\n",
        "    p_values = [\n",
        "        sample_size_with_p_value[1]\n",
        "        for sample_size_with_p_value in sample_sizes_with_p_values\n",
        "    ]\n",
        "    plt.figure(figsize=(10, 5))\n",
        "    plt.plot(sample_sizes, p_values)\n",
        "    plt.xlabel(\"Sample Size\")\n",
        "    plt.ylabel(\"P-value\")\n",
        "    plt.show()"
      ]
    },
    {
      "cell_type": "markdown",
      "source": [
        "❓ At what sample size do results become significant (p-value < 0.05)?"
      ],
      "metadata": {
        "id": "dsBIKGLQZnrc"
      }
    },
    {
      "cell_type": "code",
      "execution_count": null,
      "metadata": {
        "id": "iKJLP9S-efV9"
      },
      "outputs": [],
      "source": [
        "# Plot the p-values for each sample size\n",
        "plot_p_values(\n",
        "    get_p_values(\n",
        "        data, sample_sizes, \"Free book\", \"Converted\"\n",
        "    )\n",
        ")"
      ]
    },
    {
      "cell_type": "markdown",
      "metadata": {
        "id": "iBMhE5XxefV_"
      },
      "source": [
        "### Does Lead Source Increase Time Spent on CostPro's Website?\n",
        "\n",
        "CostPro also wants to explore whether or not some leads are higher quality than others. Time spent on site is a metric for which CostPro is optimizing.\n",
        "\n",
        "In order to understand whether or not there is a relationship between lead source and time spent on site, we will analyze using a one-way ANOVA."
      ]
    },
    {
      "cell_type": "markdown",
      "metadata": {
        "id": "NRl4eQmrU8-u"
      },
      "source": [
        "#### ⚙️ Develop a Hypothesis\n",
        "\n",
        "💡 Build Intuition: [Review the relevant course material on hypothesis formulation and testing.](https://uplimit.com/course/applied-statistics-for-data-science/v2/module/hypothesis-testing-9mlrk)\n",
        "\n",
        "First, let's set up our hypotheses! The null hypothesis is that there is not a relationship between lead source and time spent on the website, while the alternative hypothesis is that lead source does have a relationship with time spent on the website."
      ]
    },
    {
      "cell_type": "markdown",
      "metadata": {
        "id": "NcXK4zLwU8-1"
      },
      "source": [
        "##### Null Hypothesis ($H_0$)\n",
        "\n",
        "Lead source does not impact time spent on the website\n",
        "\n"
      ]
    },
    {
      "cell_type": "markdown",
      "metadata": {
        "id": "m8Q4QDHOU8-1"
      },
      "source": [
        "##### Alternative Hypothesis ($H_1$)\n",
        "\n",
        "Lead source does impact time spent on the website\n",
        "\n",
        "\n"
      ]
    },
    {
      "cell_type": "markdown",
      "source": [
        "#### ⚙️ Test a Hypothesis\n",
        "\n",
        "ANOVA is capable of handling more than two samples, so we've adjusted our sampling function below to allow for that. In this case, we'll still keep our number of samples to 3.\n",
        "\n",
        "💡 Build Intuition: [Review the relevant course material on ANOVA.](https://uplimit.com/course/applied-statistics-for-data-science/v2/module/parametric-tests-qvtoc#corise_clcz6mj8m000s3b6ri8yciryy)"
      ],
      "metadata": {
        "id": "OHh3uKDBVPo4"
      }
    },
    {
      "cell_type": "code",
      "execution_count": null,
      "metadata": {
        "id": "QQh1WbyCefWA"
      },
      "outputs": [],
      "source": [
        "# Write a function to get n samples of the same size from the data\n",
        "def get_n_samples(\n",
        "    data: pd.DataFrame,\n",
        "    sample_size: int,\n",
        "    treatment_column: str,\n",
        "    outcome_column: str,\n",
        "    categories: Optional[list] = None,\n",
        ") -> list:\n",
        "    \"\"\"\n",
        "    Returns n samples of the same size from the data.\n",
        "    data (pd.DataFrame): the data to be used\n",
        "    sample_size (int): the size of the sample to be returned\n",
        "    treatment_column (str): the name of the column to be used\n",
        "    outcome_column (str): the name of the column to be used\n",
        "    categories (list): list of categories to be used\n",
        "\n",
        "    Returns:\n",
        "    list: n samples of the same size\n",
        "    \"\"\"\n",
        "\n",
        "    samples = []\n",
        "    if categories is None:\n",
        "        categories = data[treatment_column].unique()\n",
        "\n",
        "    for category in categories:\n",
        "        sample = data[data[treatment_column] == category].sample(\n",
        "            n=sample_size, random_state=random_seed\n",
        "        )[outcome_column]\n",
        "        samples.append(sample)\n",
        "    return samples"
      ]
    },
    {
      "cell_type": "markdown",
      "source": [
        "Next, we'll follow a similar pattern to the t-test in that we want to explore the results of the ANOVA at a variety of sample sizes.\n",
        "\n",
        "In this function below, we loop through samples of various sizes and run a one-way ANOVA on each of them. The function returns a tuple with three values: the sample size, the f-statistic, and the p-value.\n",
        "\n",
        "⚠️ Caution: Do NOT do loop through sample sizes at work. This is purely an exercise for your learning and to show you why sample size matters. In practice (on the job and in research settings) picking your sample size based on statistical significance is called \"p-hacking.\""
      ],
      "metadata": {
        "id": "90gokzcTa0ZT"
      }
    },
    {
      "cell_type": "code",
      "execution_count": null,
      "metadata": {
        "id": "cpSsSlC8efWB"
      },
      "outputs": [],
      "source": [
        "# Write a function that returns f statistics and p values for each sample size\n",
        "def get_f_statistic_scores(\n",
        "    data: pd.DataFrame,\n",
        "    sample_sizes: list,\n",
        "    treatment_column: str,\n",
        "    outcome_column: str,\n",
        "    categories: Optional[list] = None,\n",
        ") -> list:\n",
        "    \"\"\"\n",
        "    Returns the f statistic scores for each sample size.\n",
        "    data (pd.DataFrame): the data to be used\n",
        "    sample_sizes (list): the list of sample sizes to be used\n",
        "    treatment_column (str): the name of the column to be used for the treatment\n",
        "    outcome_column (str): the name of the column to be used for the outcome\n",
        "    categories (Optional[list]): list of categories to be used\n",
        "\n",
        "    Returns:\n",
        "    list: tuples of sample size, f-statistic, and p-value\n",
        "    \"\"\"\n",
        "\n",
        "    sample_sizes_with_f_statistic_scores = []\n",
        "    for sample_size in sample_sizes:\n",
        "        samples = get_n_samples(\n",
        "            data, sample_size, treatment_column, outcome_column, categories\n",
        "        )\n",
        "        f_statistic_score, p_value = f_oneway(*samples)\n",
        "        sample_sizes_with_f_statistic_scores.append((sample_size, f_statistic_score, p_value))\n",
        "    return sample_sizes_with_f_statistic_scores"
      ]
    },
    {
      "cell_type": "code",
      "execution_count": null,
      "metadata": {
        "id": "BcDMI9lNefWB"
      },
      "outputs": [],
      "source": [
        "# Get the f1 scores for each sample size\n",
        "f_statistic_scores = get_f_statistic_scores(\n",
        "    data,\n",
        "    [100, 250, 500, 1000, 1500],\n",
        "    \"Lead Source\",\n",
        "    \"Total Time Spent on Website\",\n",
        "    categories=[\"Chat\",\"Google\", \"Direct Traffic\"],\n",
        ")\n",
        "f_statistic_scores\n"
      ]
    },
    {
      "cell_type": "markdown",
      "metadata": {
        "id": "3T8zLH1GefWC"
      },
      "source": [
        "## Your Turn\n",
        "\n",
        "Develop two sets of hypotheses and test them. For your first hypothesis, run a t-test on a continuous variable. For your second test, try implementing an ANOVA."
      ]
    },
    {
      "cell_type": "markdown",
      "metadata": {
        "id": "GtH7Ps2iefWC"
      },
      "source": [
        "### T-test"
      ]
    },
    {
      "cell_type": "markdown",
      "source": [
        "#### ⚙️ Develop Your Hypothesis\n",
        "\n",
        "💡 Build Intuition: [Review the relevant course material on hypothesis formulation and testing.](https://uplimit.com/course/applied-statistics-for-data-science/v2/module/hypothesis-testing-9mlrk)"
      ],
      "metadata": {
        "id": "0loR8o3IRJfr"
      }
    },
    {
      "cell_type": "markdown",
      "metadata": {
        "id": "edvKJ_vYefWC"
      },
      "source": [
        "##### Null Hypothesis\n",
        "\n",
        "Write your null hypothesis here.\n",
        "\n",
        "$H_0$:"
      ]
    },
    {
      "cell_type": "markdown",
      "metadata": {
        "id": "YmPs6ftrefWC"
      },
      "source": [
        "##### Alternative Hypothesis\n",
        "\n",
        "Write your alternative hypothesis here.\n",
        "\n",
        "$H_1$:"
      ]
    },
    {
      "cell_type": "markdown",
      "source": [
        "#### Check In!\n",
        "\n",
        "If you want to check in before you proceed - drop your hypotheses in slack and we will give you feedback!!!"
      ],
      "metadata": {
        "id": "YkOHNTE_uXEC"
      }
    },
    {
      "cell_type": "markdown",
      "metadata": {
        "id": "r4lAU7WyefWC"
      },
      "source": [
        "#### ⚙️ Test Your Hypothesis\n",
        "\n",
        "💡 Build Intuition: [Review the relevant course material on T-tests.](https://uplimit.com/course/applied-statistics-for-data-science/v2/module/parametric-tests-qvtoc#corise_clcz6lwns000q3b6r107rxx04)\n",
        "\n",
        "Write a function to output the results for a T-test on a continuous variable."
      ]
    },
    {
      "cell_type": "code",
      "source": [
        "# uncomment the function below and add your sample size, treatment column name and outcome column name to get samples\n",
        "# samples = get_n_samples(\n",
        "#     data, <YOUR_SAMPLE_SIZE_HERE>, \"<TREATMENT_COLUMN_NAME_HERE>\", \"<OUTCOME_COLUMN_NAME_HERE>\"\n",
        "# )"
      ],
      "metadata": {
        "id": "lWbDQuybu8vk"
      },
      "execution_count": null,
      "outputs": []
    },
    {
      "cell_type": "code",
      "source": [
        "# write a function\n",
        "def your_t_test_function():\n",
        "    pass"
      ],
      "metadata": {
        "id": "JNFUOjclpr_W"
      },
      "execution_count": null,
      "outputs": []
    },
    {
      "cell_type": "markdown",
      "source": [
        "#### 📈 Visualize the Results\n",
        "\n",
        "Graph the results of the T-test"
      ],
      "metadata": {
        "id": "hTqb9zmwsu10"
      }
    },
    {
      "cell_type": "code",
      "source": [
        "# write a function to visualize your results\n",
        "\n",
        "def visualize_t_test_results():\n",
        "    pass"
      ],
      "metadata": {
        "id": "KNFlqabppsZg"
      },
      "execution_count": null,
      "outputs": []
    },
    {
      "cell_type": "markdown",
      "metadata": {
        "id": "qv6itPw4efWC"
      },
      "source": [
        "### ANOVA\n",
        "\n",
        "💡 Build Intuition: [Review the relevant course material on hypothesis formulation and testing.](https://uplimit.com/course/applied-statistics-for-data-science/v2/module/hypothesis-testing-9mlrk)"
      ]
    },
    {
      "cell_type": "markdown",
      "source": [
        "#### ⚙️ Develop Your Hypothesis\n",
        "\n",
        "💡 Build Intuition: [Review the relevant course material on hypothesis formulation and testing.](https://uplimit.com/course/applied-statistics-for-data-science/v2/module/hypothesis-testing-9mlrk)"
      ],
      "metadata": {
        "id": "9ZUaGYhIRNLo"
      }
    },
    {
      "cell_type": "markdown",
      "metadata": {
        "id": "QOuuzGe3efWD"
      },
      "source": [
        "##### Null Hypothesis\n",
        "\n",
        "Write your null hypothesis here.\n",
        "\n",
        "$H_0$:"
      ]
    },
    {
      "cell_type": "markdown",
      "metadata": {
        "id": "0X6u_W9IefWD"
      },
      "source": [
        "##### Alternative Hypothesis\n",
        "\n",
        "Write your alternative hypothesis here.\n",
        "\n",
        "$H_1$: <WRITE YOUR HYPOTHESIS HERE>"
      ]
    },
    {
      "cell_type": "markdown",
      "source": [
        "#### Check In!\n",
        "\n",
        "If you want to check in before you proceed - drop your hypotheses in slack and we will give you feedback!!!"
      ],
      "metadata": {
        "id": "wsdmrXOMPtHA"
      }
    },
    {
      "cell_type": "markdown",
      "metadata": {
        "id": "r2GD2bFeefWD"
      },
      "source": [
        "#### ⚙️ Test Your Hypothesis\n",
        "\n",
        "💡 Build Intuition: [Review the relevant course material on ANOVA.](https://uplimit.com/course/applied-statistics-for-data-science/v2/module/parametric-tests-qvtoc#corise_clcz6mj8m000s3b6ri8yciryy)\n",
        "\n",
        "Write a function to implement a one-way ANOVA."
      ]
    },
    {
      "cell_type": "code",
      "source": [
        "# uncomment the function below and add your sample size, treatment column name and outcome column name to get samples\n",
        "# samples = get_n_samples(\n",
        "#     data, <YOUR_SAMPLE_SIZE_HERE>, \"<TREATMENT_COLUMN_NAME_HERE>\", \"<OUTCOME_COLUMN_NAME_HERE>\"\n",
        "# )"
      ],
      "metadata": {
        "id": "6obMQ9ZtrjfY"
      },
      "execution_count": null,
      "outputs": []
    },
    {
      "cell_type": "code",
      "source": [
        "# write a function to implement a one-way ANOVA\n",
        "def test_one_way_anova():\n",
        "    pass"
      ],
      "metadata": {
        "id": "c62JzfmlpqRG"
      },
      "execution_count": null,
      "outputs": []
    },
    {
      "cell_type": "markdown",
      "source": [
        "#### 📈 Visualize the Results"
      ],
      "metadata": {
        "id": "TINuBSxts9Wt"
      }
    },
    {
      "cell_type": "code",
      "source": [
        "# write a function to visualize your results\n",
        "def visualize_one_way_anova():\n",
        "    pass"
      ],
      "metadata": {
        "id": "ps8X7EQTpuAI"
      },
      "execution_count": null,
      "outputs": []
    },
    {
      "cell_type": "markdown",
      "metadata": {
        "id": "0CKvCU-AefV9"
      },
      "source": [
        "## 🔎 Can We Trust These Results?"
      ]
    },
    {
      "cell_type": "markdown",
      "source": [
        "### ⚙️ Calculate a Confidence Interval\n",
        "\n",
        "💡 Build Intuition about confidence intervals by [reviewing relevant course content.](https://uplimit.com/course/applied-statistics-for-data-science/v2/module/confidence-intervals-duhm9j#corise_clcowktej001s3b6tfcpdpn0f)\n",
        "\n",
        "Practice calculating a confidence interval or use a library function from a python library to calculate it for you."
      ],
      "metadata": {
        "id": "60vO2Batz-A_"
      }
    },
    {
      "cell_type": "code",
      "execution_count": null,
      "metadata": {
        "id": "tVfqJPqEefWA"
      },
      "outputs": [],
      "source": [
        "samples = get_n_samples(\n",
        "    data, 1000, \"Lead Source\", \"Total Time Spent on Website\" , [\"Chat\", \"Organic Search\", \"Direct Traffic\"]\n",
        ")"
      ]
    },
    {
      "cell_type": "code",
      "source": [
        "# write your function here\n",
        "def calculate_confidence_interval():\n",
        "    pass"
      ],
      "metadata": {
        "id": "3oL6WNnOySNj"
      },
      "execution_count": null,
      "outputs": []
    },
    {
      "cell_type": "code",
      "source": [
        "calculate_confidence_interval()"
      ],
      "metadata": {
        "id": "J9Y6YGVDyZyz"
      },
      "execution_count": null,
      "outputs": []
    },
    {
      "cell_type": "markdown",
      "source": [
        "### ⚙️ Test the Assumptions of Parametric Tests\n",
        "💡 Build Intuition: [Review the relevant course material on assumptions behind parametric tests](https://uplimit.com/course/applied-statistics-for-data-science/v2/module/selecting-tests-njq6i#corise_clcq9bgkq00303b6w450qn8fe)"
      ],
      "metadata": {
        "id": "loA6gfFdPJN6"
      }
    },
    {
      "cell_type": "markdown",
      "metadata": {
        "id": "Ee2mKA6aefV9"
      },
      "source": [
        "##### Normality\n",
        "\n",
        "One of the assumptions underlying parametric tests is that the population is distributed normally. We can test for normality using several tests, including the Shapiro-Wilk test or the Anderson-Darling test.\n",
        "\n",
        "$H_0$: The sample comes from a normally distributed population.\n",
        "\n",
        "$H_1$: The sample does not come from a normally distributed population.\n",
        "\n",
        "How to interpret this test:\n",
        "\n",
        "If the p-value is less than 0.05, we reject the null hypothesis, suggesting that the sample is unlikely to have come from a normally distributed population."
      ]
    },
    {
      "cell_type": "code",
      "execution_count": null,
      "metadata": {
        "id": "tAZWL484efV9"
      },
      "outputs": [],
      "source": [
        "# Write a function to test the assumption of normality\n",
        "def test_normality(samples: list) -> str:\n",
        "    \"\"\"\n",
        "    Tests the assumption of normality.\n",
        "    samples (list): the list of samples to be used\n",
        "\n",
        "    Returns:\n",
        "    str: the result of the test\n",
        "    \"\"\"\n",
        "    result = []\n",
        "\n",
        "    for i, sample in enumerate(samples):\n",
        "        if len(sample) > 2:\n",
        "            stat, p = shapiro(sample)\n",
        "            result.append((i, stat, p))\n",
        "            print(\"Shapiro test statistic:\", stat)\n",
        "            print(\"Shapiro p-value:\", p)\n",
        "            if p > 0.05:\n",
        "                return \"The samples are normally distributed.\"\n",
        "            else:\n",
        "                return \"The samples are not normally distributed.\"\n",
        "        else:\n",
        "            stat, critical_value, p = anderson_ksamp([sample, bernoulli.rvs(p=sample.mean(), size=sample.shape[0])])\n",
        "            result.append((i, stat, critical_value, p))\n",
        "            print('Anderson-Darling statistic:', stat)\n",
        "            print('Anderson-Darling p-value:', p)\n",
        "            if p > 0.05:\n",
        "                return \"The samples are normally distributed.\"\n",
        "            else:\n",
        "                return \"The samples are not normally distributed.\""
      ]
    },
    {
      "cell_type": "code",
      "execution_count": null,
      "metadata": {
        "id": "9H6ezD6sefV-"
      },
      "outputs": [],
      "source": [
        "samples = get_samples(data, 2500, \"Free book\", \"Converted\")\n",
        "len(samples[0])"
      ]
    },
    {
      "cell_type": "code",
      "execution_count": null,
      "metadata": {
        "id": "X70uu8-MefV-"
      },
      "outputs": [],
      "source": [
        "# Test the assumption of normality\n",
        "test_normality(samples)"
      ]
    },
    {
      "cell_type": "markdown",
      "source": [
        "#### 📈 Visualize the Results"
      ],
      "metadata": {
        "id": "em4YvQbZUGVD"
      }
    },
    {
      "cell_type": "code",
      "execution_count": null,
      "metadata": {
        "id": "lI7KNRrxefWB"
      },
      "outputs": [],
      "source": [
        "# Write a function to visualize normality\n",
        "def visualize_normality(samples: list) -> None:\n",
        "    \"\"\"\n",
        "    Visualizes the assumption of normality.\n",
        "    samples (list): the list of samples to be used\n",
        "\n",
        "    Returns:\n",
        "    None\n",
        "    \"\"\"\n",
        "    # Visualize the data to check for normality\n",
        "    sns.set(style=\"darkgrid\")\n",
        "    for i, sample in enumerate(samples):\n",
        "        sns.histplot(sample, kde=True, label=f\"Group {i+1}\", color=f\"C{i}\", legend=True)\n",
        "\n",
        "    plt.legend()\n",
        "    return"
      ]
    },
    {
      "cell_type": "code",
      "source": [
        "visualize_normality(samples)"
      ],
      "metadata": {
        "id": "z5SxVMR0w3W4"
      },
      "execution_count": null,
      "outputs": []
    },
    {
      "cell_type": "markdown",
      "metadata": {
        "id": "1qPaYUD0efV-"
      },
      "source": [
        "#### Independence\n",
        "\n",
        "One of the assumptions underlying parametric tests is that the samples being compared are independent. We can test for independence using a test called the Chi squared contingency test.\n",
        "\n",
        "$H_0$: The samples are independent\n",
        "\n",
        "$H_1$: The samples are not independent\n",
        "\n",
        "How to interpret this test:\n",
        "\n",
        "If the p-value is less that 0.05, we reject null hypothesis and say that the differences are unlikely to have come from truly independent samples."
      ]
    },
    {
      "cell_type": "code",
      "execution_count": null,
      "metadata": {
        "id": "Ackzr86TefV-"
      },
      "outputs": [],
      "source": [
        "# Write a function to test the assumption of independence\n",
        "from scipy.stats import chi2_contingency\n",
        "\n",
        "def test_independence(samples: list) -> str:\n",
        "    \"\"\"\n",
        "    Tests the assumption of independence.\n",
        "    samples (list): the samples to be used\n",
        "\n",
        "    Returns:\n",
        "    any: the p-value\n",
        "    \"\"\"\n",
        "\n",
        "    stat, p, _, _ = chi2_contingency(*samples)\n",
        "\n",
        "    if p > 0.05:\n",
        "        return(f'The samples are independent with a chi2 contingency statistic of {stat} and a p-value of {p}')\n",
        "    else:\n",
        "        return(f'The samples are not independent with a chi2 contingency statistic of {stat} and a p-value of {p}')"
      ]
    },
    {
      "cell_type": "code",
      "execution_count": null,
      "metadata": {
        "id": "ZzWFLYnGefV-"
      },
      "outputs": [],
      "source": [
        "# Test the assumption of independence\n",
        "test_independence(get_samples(\n",
        "            data, 2500, \"Free book\", \"Converted\"\n",
        "        ))"
      ]
    },
    {
      "cell_type": "markdown",
      "metadata": {
        "id": "gk_mBfOnefV_"
      },
      "source": [
        "#### Equal Variances\n",
        "\n",
        "One of the other assumptions underlying parametric tests is that the groups being compared have equal variances. This is called homoscedasticity. We can test for equal variances using either Barlett's test or Levene's test.\n",
        "\n",
        "The Levene test is less sensitive than the Bartlett test to data being normally distributed. If your data *is* normally distributed then Bartlett's test has better performance.\n",
        "\n",
        "In both cases the hypothesis are the same:\n",
        "\n",
        "$H_0$: The samples have equal variances\n",
        "\n",
        "$H_1$: The samples do not have equal variances\n",
        "\n",
        "How to interpret this test:\n",
        "\n",
        "If the p-value is less that 0.05, we reject the null hypothesis and say that the differences in sample variances are unlikely to have come from random sampling a population with equal variances.\n"
      ]
    },
    {
      "cell_type": "code",
      "execution_count": null,
      "metadata": {
        "id": "0pUW7OHlefV_"
      },
      "outputs": [],
      "source": [
        "def test_homoscedasticity_bartlett(samples: list) -> str:\n",
        "    \"\"\"\n",
        "    Tests that both groups have equal variances using Bartlett's test.\n",
        "    samples (list): the list of samples to be used\n",
        "\n",
        "    Returns:\n",
        "    str: the result of the test\n",
        "    \"\"\"\n",
        "\n",
        "    stat, p = bartlett(*samples)\n",
        "    print(\"Bartlett test statistic:\", stat)\n",
        "    print(\"Bartlett p-value:\", p)\n",
        "    if p > 0.05:\n",
        "        return f\"The samples have equal variances with a Bartlett statistic of {stat} and a p-value of {p}\"\n",
        "    else:\n",
        "        return f\"The samples do not have equal variances with a Bartlett statistic of {stat} and a p-value of {p}\"\n",
        "\n",
        "\n",
        "def test_homoscedasticity_levene(samples: list) -> str:\n",
        "    \"\"\"\n",
        "    Tests that both groups have equal variances using Levene's test.\n",
        "    samples (list): the list of samples to be used\n",
        "\n",
        "    Returns:\n",
        "    str: the result of the test\n",
        "    \"\"\"\n",
        "\n",
        "    stat, p = levene(*samples)\n",
        "    print(\"Levene test statistic:\", stat)\n",
        "    print(\"Levene p-value:\", p)\n",
        "    if p > 0.05:\n",
        "        return f\"The samples have equal variances with a Levene statistic of {stat} and a p-value of {p}\"\n",
        "    else:\n",
        "        return f\"The samples do not have equal variances with a Levene statistic of {stat} and a p-value of {p}\"\n"
      ]
    },
    {
      "cell_type": "code",
      "execution_count": null,
      "metadata": {
        "id": "LDtlDr8refV_"
      },
      "outputs": [],
      "source": [
        "# Test the assumption of homoscedasticity\n",
        "samples = get_samples(data, 2500, \"Free book\", \"Converted\")\n",
        "\n",
        "print(test_homoscedasticity_bartlett(samples))\n",
        "print(test_homoscedasticity_levene(samples))"
      ]
    },
    {
      "cell_type": "markdown",
      "source": [
        "## 🤯 Expand Your Learning\n",
        "\n",
        "Two Options:\n",
        "\n",
        "1) Try Bootstrapping to See If It Helps with Meeting Assumptions of Parametric Tests\n",
        "\n",
        "2) Get a Head Start on Next Week!"
      ],
      "metadata": {
        "id": "x64p0C5Hx1yv"
      }
    },
    {
      "cell_type": "markdown",
      "source": [
        "### Bootstrapping\n",
        "\n",
        "Bootstrapping is re-sampling method that uses random sampling with replacement.\n",
        "\n",
        "You could try bootstrapping to see if it improves your outcomes for parametric testing."
      ],
      "metadata": {
        "id": "QugQixwaSW6r"
      }
    },
    {
      "cell_type": "code",
      "source": [
        "# write a function to implement bootstrapping\n",
        "def bootstrapping():\n",
        "    pass"
      ],
      "metadata": {
        "id": "aD3JdACFSWJH"
      },
      "execution_count": null,
      "outputs": []
    },
    {
      "cell_type": "code",
      "source": [
        "# test bootstrapping function\n",
        "assert True"
      ],
      "metadata": {
        "id": "EULFD7B9dPcc"
      },
      "execution_count": null,
      "outputs": []
    },
    {
      "cell_type": "markdown",
      "source": [
        "Now that you've got your bootstrapped samples, try running either a t-test or an ANOVA again."
      ],
      "metadata": {
        "id": "lSKk9m9HdaZE"
      }
    },
    {
      "cell_type": "code",
      "source": [
        "# re-run one of the test functions"
      ],
      "metadata": {
        "id": "4Esd2O0SdWHv"
      },
      "execution_count": null,
      "outputs": []
    },
    {
      "cell_type": "markdown",
      "metadata": {
        "id": "zph32U_0efWD"
      },
      "source": [
        "### [Optional] Get a Head Start on Next Week\n",
        "\n",
        "Technically, our data didn't meet all of the core assumptions for either t-test or ANOVA. This is a common problem you might run into on the job. Look up what to do in cases like this and implement a solution. Bonus points if you write the functions to prove your proposed solution meets the core assumptions of the test you use.\n"
      ]
    },
    {
      "cell_type": "code",
      "source": [
        "# uncomment the function below and add your sample size, treatment column name and outcome column name to get samples\n",
        "# samples = get_n_samples(\n",
        "#     data, <YOUR_SAMPLE_SIZE_HERE>, \"<TREATMENT_COLUMN_NAME_HERE>\", \"<OUTCOME_COLUMN_NAME_HERE>\"\n",
        "# )"
      ],
      "metadata": {
        "id": "hDqTTe5QrwTx"
      },
      "execution_count": null,
      "outputs": []
    },
    {
      "cell_type": "markdown",
      "source": [
        "🔎 Examine Assumptions"
      ],
      "metadata": {
        "id": "3G0YmB8dr3eC"
      }
    },
    {
      "cell_type": "code",
      "source": [
        "# write function(s) to test the assumptions of your non-parametric test\n",
        "def your_non_parametric_test_assumptions_function():\n",
        "    pass"
      ],
      "metadata": {
        "id": "IvAZ2uZGpzzg"
      },
      "execution_count": null,
      "outputs": []
    },
    {
      "cell_type": "code",
      "source": [
        "your_non_parametric_test_assumptions_function()"
      ],
      "metadata": {
        "id": "g8CTWat5ydJ3"
      },
      "execution_count": null,
      "outputs": []
    },
    {
      "cell_type": "markdown",
      "source": [
        "⚙️ Implement the Method"
      ],
      "metadata": {
        "id": "1mGdwoOXr-VX"
      }
    },
    {
      "cell_type": "code",
      "source": [
        "# write a non-parametric test function here\n",
        "def your_non_parametric_test_function():\n",
        "    pass"
      ],
      "metadata": {
        "id": "1n703ezXp08m"
      },
      "execution_count": null,
      "outputs": []
    },
    {
      "cell_type": "code",
      "source": [
        "your_non_parametric_test_function()"
      ],
      "metadata": {
        "id": "WsY1QlfoyeXP"
      },
      "execution_count": null,
      "outputs": []
    },
    {
      "cell_type": "markdown",
      "source": [
        "📈 Visualize the Results"
      ],
      "metadata": {
        "id": "YQfpRUTxsDZa"
      }
    },
    {
      "cell_type": "code",
      "source": [
        "# write a non-parametric test visualization here\n",
        "def your_non_parametric_visualization_function():\n",
        "    pass"
      ],
      "metadata": {
        "id": "WKhttrf4rWEm"
      },
      "execution_count": null,
      "outputs": []
    },
    {
      "cell_type": "code",
      "source": [
        "your_non_parametric_visualization_function()"
      ],
      "metadata": {
        "id": "BqPzkYzpygUv"
      },
      "execution_count": null,
      "outputs": []
    }
  ],
  "metadata": {
    "kernelspec": {
      "display_name": "Python 3.8.5 64-bit",
      "language": "python",
      "name": "python3"
    },
    "language_info": {
      "codemirror_mode": {
        "name": "ipython",
        "version": 3
      },
      "file_extension": ".py",
      "mimetype": "text/x-python",
      "name": "python",
      "nbconvert_exporter": "python",
      "pygments_lexer": "ipython3",
      "version": "3.8.5"
    },
    "orig_nbformat": 4,
    "vscode": {
      "interpreter": {
        "hash": "aee8b7b246df8f9039afb4144a1f6fd8d2ca17a180786b69acc140d282b71a49"
      }
    },
    "colab": {
      "provenance": [],
      "toc_visible": true
    }
  },
  "nbformat": 4,
  "nbformat_minor": 0
}