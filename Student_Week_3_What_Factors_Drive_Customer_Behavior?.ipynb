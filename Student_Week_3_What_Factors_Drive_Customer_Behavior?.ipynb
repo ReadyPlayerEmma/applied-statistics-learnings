{
  "cells": [
    {
      "cell_type": "markdown",
      "metadata": {
        "id": "ZXQ3XjnpefVr"
      },
      "source": [
        "# Week 3: What Factors Drive CostPro Customer Purchasing Behaviors?"
      ]
    },
    {
      "cell_type": "markdown",
      "source": [
        "🚨 **First things first! Make a copy of this notebook. Your changes will not save unless you create your own copy!**"
      ],
      "metadata": {
        "id": "unR5HV2ezi6_"
      }
    },
    {
      "cell_type": "markdown",
      "metadata": {
        "id": "5aK-J2GoefVt"
      },
      "source": [
        "💡 Build Intuition\n",
        "\n",
        "As a data scientist at CostPro, your goal is to collect and analyze data on various factors influencing the likelihood of a purchase, such as a customer's past purchasing history, online behavior, and demographic information.\n",
        "\n",
        "You'll formulate hypotheses about which factors are related to customer purchasing behavior, test them, and report your confidence in your results."
      ]
    },
    {
      "cell_type": "markdown",
      "metadata": {
        "id": "JIPk5kkAefVt"
      },
      "source": [
        "## 🚀 Project Jumpstart"
      ]
    },
    {
      "cell_type": "markdown",
      "metadata": {
        "id": "dPqkKYmvefVt"
      },
      "source": [
        "### Dependencies"
      ]
    },
    {
      "cell_type": "code",
      "execution_count": null,
      "metadata": {
        "id": "QObraZ5RefVu",
        "colab": {
          "base_uri": "https://localhost:8080/"
        },
        "outputId": "da389e83-574b-4696-8250-19e284283030"
      },
      "outputs": [
        {
          "output_type": "stream",
          "name": "stdout",
          "text": [
            "Requirement already satisfied: numpy in /usr/local/lib/python3.10/dist-packages (1.23.5)\n",
            "Requirement already satisfied: pandas in /usr/local/lib/python3.10/dist-packages (1.5.3)\n",
            "Requirement already satisfied: seaborn in /usr/local/lib/python3.10/dist-packages (0.12.2)\n",
            "Requirement already satisfied: matplotlib in /usr/local/lib/python3.10/dist-packages (3.7.1)\n",
            "Requirement already satisfied: gdown in /usr/local/lib/python3.10/dist-packages (4.6.6)\n",
            "Requirement already satisfied: scipy in /usr/local/lib/python3.10/dist-packages (1.11.3)\n",
            "Requirement already satisfied: python-dateutil>=2.8.1 in /usr/local/lib/python3.10/dist-packages (from pandas) (2.8.2)\n",
            "Requirement already satisfied: pytz>=2020.1 in /usr/local/lib/python3.10/dist-packages (from pandas) (2023.3.post1)\n",
            "Requirement already satisfied: contourpy>=1.0.1 in /usr/local/lib/python3.10/dist-packages (from matplotlib) (1.1.1)\n",
            "Requirement already satisfied: cycler>=0.10 in /usr/local/lib/python3.10/dist-packages (from matplotlib) (0.12.0)\n",
            "Requirement already satisfied: fonttools>=4.22.0 in /usr/local/lib/python3.10/dist-packages (from matplotlib) (4.43.0)\n",
            "Requirement already satisfied: kiwisolver>=1.0.1 in /usr/local/lib/python3.10/dist-packages (from matplotlib) (1.4.5)\n",
            "Requirement already satisfied: packaging>=20.0 in /usr/local/lib/python3.10/dist-packages (from matplotlib) (23.2)\n",
            "Requirement already satisfied: pillow>=6.2.0 in /usr/local/lib/python3.10/dist-packages (from matplotlib) (9.4.0)\n",
            "Requirement already satisfied: pyparsing>=2.3.1 in /usr/local/lib/python3.10/dist-packages (from matplotlib) (3.1.1)\n",
            "Requirement already satisfied: filelock in /usr/local/lib/python3.10/dist-packages (from gdown) (3.12.4)\n",
            "Requirement already satisfied: requests[socks] in /usr/local/lib/python3.10/dist-packages (from gdown) (2.31.0)\n",
            "Requirement already satisfied: six in /usr/local/lib/python3.10/dist-packages (from gdown) (1.16.0)\n",
            "Requirement already satisfied: tqdm in /usr/local/lib/python3.10/dist-packages (from gdown) (4.66.1)\n",
            "Requirement already satisfied: beautifulsoup4 in /usr/local/lib/python3.10/dist-packages (from gdown) (4.11.2)\n",
            "Requirement already satisfied: soupsieve>1.2 in /usr/local/lib/python3.10/dist-packages (from beautifulsoup4->gdown) (2.5)\n",
            "Requirement already satisfied: charset-normalizer<4,>=2 in /usr/local/lib/python3.10/dist-packages (from requests[socks]->gdown) (3.3.0)\n",
            "Requirement already satisfied: idna<4,>=2.5 in /usr/local/lib/python3.10/dist-packages (from requests[socks]->gdown) (3.4)\n",
            "Requirement already satisfied: urllib3<3,>=1.21.1 in /usr/local/lib/python3.10/dist-packages (from requests[socks]->gdown) (2.0.6)\n",
            "Requirement already satisfied: certifi>=2017.4.17 in /usr/local/lib/python3.10/dist-packages (from requests[socks]->gdown) (2023.7.22)\n",
            "Requirement already satisfied: PySocks!=1.5.7,>=1.5.6 in /usr/local/lib/python3.10/dist-packages (from requests[socks]->gdown) (1.7.1)\n"
          ]
        }
      ],
      "source": [
        "!pip install numpy pandas seaborn matplotlib gdown scipy"
      ]
    },
    {
      "cell_type": "code",
      "execution_count": null,
      "metadata": {
        "id": "d_1EnY7GefVv"
      },
      "outputs": [],
      "source": [
        "import numpy as np\n",
        "import pandas as pd\n",
        "import seaborn as sns\n",
        "import matplotlib.pyplot as plt\n",
        "from scipy.stats import shapiro, anderson, ttest_ind, f_oneway, bernoulli, anderson_ksamp, bartlett, levene\n",
        "import gdown\n",
        "from typing import Optional"
      ]
    },
    {
      "cell_type": "code",
      "execution_count": null,
      "metadata": {
        "id": "p9Gc8BdDefVv"
      },
      "outputs": [],
      "source": [
        "# set the random seed\n",
        "random_seed = 42"
      ]
    },
    {
      "cell_type": "markdown",
      "metadata": {
        "id": "RJtt1NK4efVw"
      },
      "source": [
        "### 💾  Data"
      ]
    },
    {
      "cell_type": "markdown",
      "source": [
        "**💡** Build Intuition: Be sure to check out the [data dictionary!](https://docs.google.com/spreadsheets/d/12whrxX0nIGQRoXzztBjfQ06ocBU97v90w5bf3Mbj4wA/edit?usp=sharing) It will help you build intuition about what data is available to you and how you might want to use it!"
      ],
      "metadata": {
        "id": "fSHsBR3ykF-i"
      }
    },
    {
      "cell_type": "markdown",
      "metadata": {
        "id": "ChrJ-7XTefVw"
      },
      "source": [
        "#### Download the Data"
      ]
    },
    {
      "cell_type": "code",
      "execution_count": null,
      "metadata": {
        "id": "qtqGy8ENefVx",
        "colab": {
          "base_uri": "https://localhost:8080/",
          "height": 107
        },
        "outputId": "0743bd15-602e-41e4-9116-77bb7ea295e1"
      },
      "outputs": [
        {
          "output_type": "stream",
          "name": "stderr",
          "text": [
            "Downloading...\n",
            "From: https://drive.google.com/uc?id=12aneagHSDvOsqAIsvW6aSmuOPuS7qihm\n",
            "To: /content/lead_scoring.csv\n",
            "100%|██████████| 1.98M/1.98M [00:00<00:00, 55.9MB/s]\n"
          ]
        },
        {
          "output_type": "execute_result",
          "data": {
            "text/plain": [
              "'lead_scoring.csv'"
            ],
            "application/vnd.google.colaboratory.intrinsic+json": {
              "type": "string"
            }
          },
          "metadata": {},
          "execution_count": 4
        }
      ],
      "source": [
        "# Download the file from co:rise google drive\n",
        "file_name = \"lead_scoring.csv\"\n",
        "unique_id = \"12aneagHSDvOsqAIsvW6aSmuOPuS7qihm\"\n",
        "gdown.download(id=unique_id, output=file_name)"
      ]
    },
    {
      "cell_type": "code",
      "source": [
        "# import data and show first 5 rows\n",
        "data = pd.read_csv(file_name)\n",
        "data.head()"
      ],
      "metadata": {
        "id": "bAzWy0S0o37Q",
        "colab": {
          "base_uri": "https://localhost:8080/",
          "height": 585
        },
        "outputId": "b8183b3b-b38e-43d2-8146-11e5ffb95cc4"
      },
      "execution_count": null,
      "outputs": [
        {
          "output_type": "execute_result",
          "data": {
            "text/plain": [
              "                            Prospect ID  Lead Number              Lead Origin  \\\n",
              "0  7927b2df-8bba-4d29-b9a2-b6e0beafe620       660737                      API   \n",
              "1  2a272436-5132-4136-86fa-dcc88c88f482       660728                      API   \n",
              "2  8cc8c611-a219-4f35-ad23-fdfd2656bd8a       660727  Landing Page Submission   \n",
              "3  0cc2df48-7cf4-4e39-9de9-19797f9b38cc       660719  Landing Page Submission   \n",
              "4  3256f628-e534-4826-9d63-4a8b88782852       660681  Landing Page Submission   \n",
              "\n",
              "      Lead Source Do Not Email Do Not Call  Converted  TotalVisits  \\\n",
              "0            Chat           No          No          0          0.0   \n",
              "1  Organic Search           No          No          0          5.0   \n",
              "2  Direct Traffic           No          No          1          2.0   \n",
              "3  Direct Traffic           No          No          0          1.0   \n",
              "4          Google           No          No          1          2.0   \n",
              "\n",
              "   Total Time Spent on Website  Page Views Per Visit  ...      Lead Quality  \\\n",
              "0                            0                   0.0  ...  Low in Relevance   \n",
              "1                          674                   2.5  ...               NaN   \n",
              "2                         1532                   2.0  ...          Might be   \n",
              "3                          305                   1.0  ...          Not Sure   \n",
              "4                         1428                   1.0  ...          Might be   \n",
              "\n",
              "     Lead Profile    City Asymmetrique Activity Index  \\\n",
              "0          Select  Select                   02.Medium   \n",
              "1          Select  Select                   02.Medium   \n",
              "2  Potential Lead  Mumbai                   02.Medium   \n",
              "3          Select  Mumbai                   02.Medium   \n",
              "4          Select  Mumbai                   02.Medium   \n",
              "\n",
              "  Asymmetrique Profile Index Asymmetrique Activity Score  \\\n",
              "0                  02.Medium                        15.0   \n",
              "1                  02.Medium                        15.0   \n",
              "2                    01.High                        14.0   \n",
              "3                    01.High                        13.0   \n",
              "4                    01.High                        15.0   \n",
              "\n",
              "  Asymmetrique Profile Score I agree to pay the amount through paypal  \\\n",
              "0                       15.0                                       No   \n",
              "1                       15.0                                       No   \n",
              "2                       20.0                                       No   \n",
              "3                       17.0                                       No   \n",
              "4                       18.0                                       No   \n",
              "\n",
              "  Free book Last Notable Activity  \n",
              "0        No              Modified  \n",
              "1        No          Email Opened  \n",
              "2       Yes          Email Opened  \n",
              "3        No              Modified  \n",
              "4        No              Modified  \n",
              "\n",
              "[5 rows x 32 columns]"
            ],
            "text/html": [
              "\n",
              "  <div id=\"df-58058cb8-fa85-4031-a691-80383cf1e578\" class=\"colab-df-container\">\n",
              "    <div>\n",
              "<style scoped>\n",
              "    .dataframe tbody tr th:only-of-type {\n",
              "        vertical-align: middle;\n",
              "    }\n",
              "\n",
              "    .dataframe tbody tr th {\n",
              "        vertical-align: top;\n",
              "    }\n",
              "\n",
              "    .dataframe thead th {\n",
              "        text-align: right;\n",
              "    }\n",
              "</style>\n",
              "<table border=\"1\" class=\"dataframe\">\n",
              "  <thead>\n",
              "    <tr style=\"text-align: right;\">\n",
              "      <th></th>\n",
              "      <th>Prospect ID</th>\n",
              "      <th>Lead Number</th>\n",
              "      <th>Lead Origin</th>\n",
              "      <th>Lead Source</th>\n",
              "      <th>Do Not Email</th>\n",
              "      <th>Do Not Call</th>\n",
              "      <th>Converted</th>\n",
              "      <th>TotalVisits</th>\n",
              "      <th>Total Time Spent on Website</th>\n",
              "      <th>Page Views Per Visit</th>\n",
              "      <th>...</th>\n",
              "      <th>Lead Quality</th>\n",
              "      <th>Lead Profile</th>\n",
              "      <th>City</th>\n",
              "      <th>Asymmetrique Activity Index</th>\n",
              "      <th>Asymmetrique Profile Index</th>\n",
              "      <th>Asymmetrique Activity Score</th>\n",
              "      <th>Asymmetrique Profile Score</th>\n",
              "      <th>I agree to pay the amount through paypal</th>\n",
              "      <th>Free book</th>\n",
              "      <th>Last Notable Activity</th>\n",
              "    </tr>\n",
              "  </thead>\n",
              "  <tbody>\n",
              "    <tr>\n",
              "      <th>0</th>\n",
              "      <td>7927b2df-8bba-4d29-b9a2-b6e0beafe620</td>\n",
              "      <td>660737</td>\n",
              "      <td>API</td>\n",
              "      <td>Chat</td>\n",
              "      <td>No</td>\n",
              "      <td>No</td>\n",
              "      <td>0</td>\n",
              "      <td>0.0</td>\n",
              "      <td>0</td>\n",
              "      <td>0.0</td>\n",
              "      <td>...</td>\n",
              "      <td>Low in Relevance</td>\n",
              "      <td>Select</td>\n",
              "      <td>Select</td>\n",
              "      <td>02.Medium</td>\n",
              "      <td>02.Medium</td>\n",
              "      <td>15.0</td>\n",
              "      <td>15.0</td>\n",
              "      <td>No</td>\n",
              "      <td>No</td>\n",
              "      <td>Modified</td>\n",
              "    </tr>\n",
              "    <tr>\n",
              "      <th>1</th>\n",
              "      <td>2a272436-5132-4136-86fa-dcc88c88f482</td>\n",
              "      <td>660728</td>\n",
              "      <td>API</td>\n",
              "      <td>Organic Search</td>\n",
              "      <td>No</td>\n",
              "      <td>No</td>\n",
              "      <td>0</td>\n",
              "      <td>5.0</td>\n",
              "      <td>674</td>\n",
              "      <td>2.5</td>\n",
              "      <td>...</td>\n",
              "      <td>NaN</td>\n",
              "      <td>Select</td>\n",
              "      <td>Select</td>\n",
              "      <td>02.Medium</td>\n",
              "      <td>02.Medium</td>\n",
              "      <td>15.0</td>\n",
              "      <td>15.0</td>\n",
              "      <td>No</td>\n",
              "      <td>No</td>\n",
              "      <td>Email Opened</td>\n",
              "    </tr>\n",
              "    <tr>\n",
              "      <th>2</th>\n",
              "      <td>8cc8c611-a219-4f35-ad23-fdfd2656bd8a</td>\n",
              "      <td>660727</td>\n",
              "      <td>Landing Page Submission</td>\n",
              "      <td>Direct Traffic</td>\n",
              "      <td>No</td>\n",
              "      <td>No</td>\n",
              "      <td>1</td>\n",
              "      <td>2.0</td>\n",
              "      <td>1532</td>\n",
              "      <td>2.0</td>\n",
              "      <td>...</td>\n",
              "      <td>Might be</td>\n",
              "      <td>Potential Lead</td>\n",
              "      <td>Mumbai</td>\n",
              "      <td>02.Medium</td>\n",
              "      <td>01.High</td>\n",
              "      <td>14.0</td>\n",
              "      <td>20.0</td>\n",
              "      <td>No</td>\n",
              "      <td>Yes</td>\n",
              "      <td>Email Opened</td>\n",
              "    </tr>\n",
              "    <tr>\n",
              "      <th>3</th>\n",
              "      <td>0cc2df48-7cf4-4e39-9de9-19797f9b38cc</td>\n",
              "      <td>660719</td>\n",
              "      <td>Landing Page Submission</td>\n",
              "      <td>Direct Traffic</td>\n",
              "      <td>No</td>\n",
              "      <td>No</td>\n",
              "      <td>0</td>\n",
              "      <td>1.0</td>\n",
              "      <td>305</td>\n",
              "      <td>1.0</td>\n",
              "      <td>...</td>\n",
              "      <td>Not Sure</td>\n",
              "      <td>Select</td>\n",
              "      <td>Mumbai</td>\n",
              "      <td>02.Medium</td>\n",
              "      <td>01.High</td>\n",
              "      <td>13.0</td>\n",
              "      <td>17.0</td>\n",
              "      <td>No</td>\n",
              "      <td>No</td>\n",
              "      <td>Modified</td>\n",
              "    </tr>\n",
              "    <tr>\n",
              "      <th>4</th>\n",
              "      <td>3256f628-e534-4826-9d63-4a8b88782852</td>\n",
              "      <td>660681</td>\n",
              "      <td>Landing Page Submission</td>\n",
              "      <td>Google</td>\n",
              "      <td>No</td>\n",
              "      <td>No</td>\n",
              "      <td>1</td>\n",
              "      <td>2.0</td>\n",
              "      <td>1428</td>\n",
              "      <td>1.0</td>\n",
              "      <td>...</td>\n",
              "      <td>Might be</td>\n",
              "      <td>Select</td>\n",
              "      <td>Mumbai</td>\n",
              "      <td>02.Medium</td>\n",
              "      <td>01.High</td>\n",
              "      <td>15.0</td>\n",
              "      <td>18.0</td>\n",
              "      <td>No</td>\n",
              "      <td>No</td>\n",
              "      <td>Modified</td>\n",
              "    </tr>\n",
              "  </tbody>\n",
              "</table>\n",
              "<p>5 rows × 32 columns</p>\n",
              "</div>\n",
              "    <div class=\"colab-df-buttons\">\n",
              "\n",
              "  <div class=\"colab-df-container\">\n",
              "    <button class=\"colab-df-convert\" onclick=\"convertToInteractive('df-58058cb8-fa85-4031-a691-80383cf1e578')\"\n",
              "            title=\"Convert this dataframe to an interactive table.\"\n",
              "            style=\"display:none;\">\n",
              "\n",
              "  <svg xmlns=\"http://www.w3.org/2000/svg\" height=\"24px\" viewBox=\"0 -960 960 960\">\n",
              "    <path d=\"M120-120v-720h720v720H120Zm60-500h600v-160H180v160Zm220 220h160v-160H400v160Zm0 220h160v-160H400v160ZM180-400h160v-160H180v160Zm440 0h160v-160H620v160ZM180-180h160v-160H180v160Zm440 0h160v-160H620v160Z\"/>\n",
              "  </svg>\n",
              "    </button>\n",
              "\n",
              "  <style>\n",
              "    .colab-df-container {\n",
              "      display:flex;\n",
              "      gap: 12px;\n",
              "    }\n",
              "\n",
              "    .colab-df-convert {\n",
              "      background-color: #E8F0FE;\n",
              "      border: none;\n",
              "      border-radius: 50%;\n",
              "      cursor: pointer;\n",
              "      display: none;\n",
              "      fill: #1967D2;\n",
              "      height: 32px;\n",
              "      padding: 0 0 0 0;\n",
              "      width: 32px;\n",
              "    }\n",
              "\n",
              "    .colab-df-convert:hover {\n",
              "      background-color: #E2EBFA;\n",
              "      box-shadow: 0px 1px 2px rgba(60, 64, 67, 0.3), 0px 1px 3px 1px rgba(60, 64, 67, 0.15);\n",
              "      fill: #174EA6;\n",
              "    }\n",
              "\n",
              "    .colab-df-buttons div {\n",
              "      margin-bottom: 4px;\n",
              "    }\n",
              "\n",
              "    [theme=dark] .colab-df-convert {\n",
              "      background-color: #3B4455;\n",
              "      fill: #D2E3FC;\n",
              "    }\n",
              "\n",
              "    [theme=dark] .colab-df-convert:hover {\n",
              "      background-color: #434B5C;\n",
              "      box-shadow: 0px 1px 3px 1px rgba(0, 0, 0, 0.15);\n",
              "      filter: drop-shadow(0px 1px 2px rgba(0, 0, 0, 0.3));\n",
              "      fill: #FFFFFF;\n",
              "    }\n",
              "  </style>\n",
              "\n",
              "    <script>\n",
              "      const buttonEl =\n",
              "        document.querySelector('#df-58058cb8-fa85-4031-a691-80383cf1e578 button.colab-df-convert');\n",
              "      buttonEl.style.display =\n",
              "        google.colab.kernel.accessAllowed ? 'block' : 'none';\n",
              "\n",
              "      async function convertToInteractive(key) {\n",
              "        const element = document.querySelector('#df-58058cb8-fa85-4031-a691-80383cf1e578');\n",
              "        const dataTable =\n",
              "          await google.colab.kernel.invokeFunction('convertToInteractive',\n",
              "                                                    [key], {});\n",
              "        if (!dataTable) return;\n",
              "\n",
              "        const docLinkHtml = 'Like what you see? Visit the ' +\n",
              "          '<a target=\"_blank\" href=https://colab.research.google.com/notebooks/data_table.ipynb>data table notebook</a>'\n",
              "          + ' to learn more about interactive tables.';\n",
              "        element.innerHTML = '';\n",
              "        dataTable['output_type'] = 'display_data';\n",
              "        await google.colab.output.renderOutput(dataTable, element);\n",
              "        const docLink = document.createElement('div');\n",
              "        docLink.innerHTML = docLinkHtml;\n",
              "        element.appendChild(docLink);\n",
              "      }\n",
              "    </script>\n",
              "  </div>\n",
              "\n",
              "\n",
              "<div id=\"df-ab4fbb3a-998f-42d6-9d3f-d1a36138522b\">\n",
              "  <button class=\"colab-df-quickchart\" onclick=\"quickchart('df-ab4fbb3a-998f-42d6-9d3f-d1a36138522b')\"\n",
              "            title=\"Suggest charts.\"\n",
              "            style=\"display:none;\">\n",
              "\n",
              "<svg xmlns=\"http://www.w3.org/2000/svg\" height=\"24px\"viewBox=\"0 0 24 24\"\n",
              "     width=\"24px\">\n",
              "    <g>\n",
              "        <path d=\"M19 3H5c-1.1 0-2 .9-2 2v14c0 1.1.9 2 2 2h14c1.1 0 2-.9 2-2V5c0-1.1-.9-2-2-2zM9 17H7v-7h2v7zm4 0h-2V7h2v10zm4 0h-2v-4h2v4z\"/>\n",
              "    </g>\n",
              "</svg>\n",
              "  </button>\n",
              "\n",
              "<style>\n",
              "  .colab-df-quickchart {\n",
              "      --bg-color: #E8F0FE;\n",
              "      --fill-color: #1967D2;\n",
              "      --hover-bg-color: #E2EBFA;\n",
              "      --hover-fill-color: #174EA6;\n",
              "      --disabled-fill-color: #AAA;\n",
              "      --disabled-bg-color: #DDD;\n",
              "  }\n",
              "\n",
              "  [theme=dark] .colab-df-quickchart {\n",
              "      --bg-color: #3B4455;\n",
              "      --fill-color: #D2E3FC;\n",
              "      --hover-bg-color: #434B5C;\n",
              "      --hover-fill-color: #FFFFFF;\n",
              "      --disabled-bg-color: #3B4455;\n",
              "      --disabled-fill-color: #666;\n",
              "  }\n",
              "\n",
              "  .colab-df-quickchart {\n",
              "    background-color: var(--bg-color);\n",
              "    border: none;\n",
              "    border-radius: 50%;\n",
              "    cursor: pointer;\n",
              "    display: none;\n",
              "    fill: var(--fill-color);\n",
              "    height: 32px;\n",
              "    padding: 0;\n",
              "    width: 32px;\n",
              "  }\n",
              "\n",
              "  .colab-df-quickchart:hover {\n",
              "    background-color: var(--hover-bg-color);\n",
              "    box-shadow: 0 1px 2px rgba(60, 64, 67, 0.3), 0 1px 3px 1px rgba(60, 64, 67, 0.15);\n",
              "    fill: var(--button-hover-fill-color);\n",
              "  }\n",
              "\n",
              "  .colab-df-quickchart-complete:disabled,\n",
              "  .colab-df-quickchart-complete:disabled:hover {\n",
              "    background-color: var(--disabled-bg-color);\n",
              "    fill: var(--disabled-fill-color);\n",
              "    box-shadow: none;\n",
              "  }\n",
              "\n",
              "  .colab-df-spinner {\n",
              "    border: 2px solid var(--fill-color);\n",
              "    border-color: transparent;\n",
              "    border-bottom-color: var(--fill-color);\n",
              "    animation:\n",
              "      spin 1s steps(1) infinite;\n",
              "  }\n",
              "\n",
              "  @keyframes spin {\n",
              "    0% {\n",
              "      border-color: transparent;\n",
              "      border-bottom-color: var(--fill-color);\n",
              "      border-left-color: var(--fill-color);\n",
              "    }\n",
              "    20% {\n",
              "      border-color: transparent;\n",
              "      border-left-color: var(--fill-color);\n",
              "      border-top-color: var(--fill-color);\n",
              "    }\n",
              "    30% {\n",
              "      border-color: transparent;\n",
              "      border-left-color: var(--fill-color);\n",
              "      border-top-color: var(--fill-color);\n",
              "      border-right-color: var(--fill-color);\n",
              "    }\n",
              "    40% {\n",
              "      border-color: transparent;\n",
              "      border-right-color: var(--fill-color);\n",
              "      border-top-color: var(--fill-color);\n",
              "    }\n",
              "    60% {\n",
              "      border-color: transparent;\n",
              "      border-right-color: var(--fill-color);\n",
              "    }\n",
              "    80% {\n",
              "      border-color: transparent;\n",
              "      border-right-color: var(--fill-color);\n",
              "      border-bottom-color: var(--fill-color);\n",
              "    }\n",
              "    90% {\n",
              "      border-color: transparent;\n",
              "      border-bottom-color: var(--fill-color);\n",
              "    }\n",
              "  }\n",
              "</style>\n",
              "\n",
              "  <script>\n",
              "    async function quickchart(key) {\n",
              "      const quickchartButtonEl =\n",
              "        document.querySelector('#' + key + ' button');\n",
              "      quickchartButtonEl.disabled = true;  // To prevent multiple clicks.\n",
              "      quickchartButtonEl.classList.add('colab-df-spinner');\n",
              "      try {\n",
              "        const charts = await google.colab.kernel.invokeFunction(\n",
              "            'suggestCharts', [key], {});\n",
              "      } catch (error) {\n",
              "        console.error('Error during call to suggestCharts:', error);\n",
              "      }\n",
              "      quickchartButtonEl.classList.remove('colab-df-spinner');\n",
              "      quickchartButtonEl.classList.add('colab-df-quickchart-complete');\n",
              "    }\n",
              "    (() => {\n",
              "      let quickchartButtonEl =\n",
              "        document.querySelector('#df-ab4fbb3a-998f-42d6-9d3f-d1a36138522b button');\n",
              "      quickchartButtonEl.style.display =\n",
              "        google.colab.kernel.accessAllowed ? 'block' : 'none';\n",
              "    })();\n",
              "  </script>\n",
              "</div>\n",
              "    </div>\n",
              "  </div>\n"
            ]
          },
          "metadata": {},
          "execution_count": 5
        }
      ]
    },
    {
      "cell_type": "markdown",
      "metadata": {
        "id": "i2RqfBrZefVx"
      },
      "source": [
        "#### Data Exploration"
      ]
    },
    {
      "cell_type": "code",
      "execution_count": null,
      "metadata": {
        "id": "eseuWmA-efVx",
        "colab": {
          "base_uri": "https://localhost:8080/"
        },
        "outputId": "50e66834-d320-4e61-f3a2-f800b45bcdae"
      },
      "outputs": [
        {
          "output_type": "execute_result",
          "data": {
            "text/plain": [
              "(9240, 32)"
            ]
          },
          "metadata": {},
          "execution_count": 6
        }
      ],
      "source": [
        "data.shape"
      ]
    },
    {
      "cell_type": "code",
      "execution_count": null,
      "metadata": {
        "id": "i4Ud7LZrefVy",
        "colab": {
          "base_uri": "https://localhost:8080/"
        },
        "outputId": "0cd189d0-bf35-4455-c43f-e09bf61f4a5f"
      },
      "outputs": [
        {
          "output_type": "stream",
          "name": "stdout",
          "text": [
            "<class 'pandas.core.frame.DataFrame'>\n",
            "RangeIndex: 9240 entries, 0 to 9239\n",
            "Data columns (total 32 columns):\n",
            " #   Column                                    Non-Null Count  Dtype  \n",
            "---  ------                                    --------------  -----  \n",
            " 0   Prospect ID                               9240 non-null   object \n",
            " 1   Lead Number                               9240 non-null   int64  \n",
            " 2   Lead Origin                               9240 non-null   object \n",
            " 3   Lead Source                               9204 non-null   object \n",
            " 4   Do Not Email                              9240 non-null   object \n",
            " 5   Do Not Call                               9240 non-null   object \n",
            " 6   Converted                                 9240 non-null   int64  \n",
            " 7   TotalVisits                               9103 non-null   float64\n",
            " 8   Total Time Spent on Website               9240 non-null   int64  \n",
            " 9   Page Views Per Visit                      9103 non-null   float64\n",
            " 10  Last Activity                             9137 non-null   object \n",
            " 11  Country                                   6779 non-null   object \n",
            " 12  Specialization                            7802 non-null   object \n",
            " 13  How did you hear about us                 7033 non-null   object \n",
            " 14  What is your current occupation           6550 non-null   object \n",
            " 15  Search                                    9240 non-null   object \n",
            " 16  Magazine                                  9240 non-null   object \n",
            " 17  Newspaper Article                         9240 non-null   object \n",
            " 18  Forums                                    9240 non-null   object \n",
            " 19  Newspaper                                 9240 non-null   object \n",
            " 20  Digital Advertisement                     9240 non-null   object \n",
            " 21  Through Recommendations                   9240 non-null   object \n",
            " 22  Lead Quality                              4473 non-null   object \n",
            " 23  Lead Profile                              6531 non-null   object \n",
            " 24  City                                      7820 non-null   object \n",
            " 25  Asymmetrique Activity Index               5022 non-null   object \n",
            " 26  Asymmetrique Profile Index                5022 non-null   object \n",
            " 27  Asymmetrique Activity Score               5022 non-null   float64\n",
            " 28  Asymmetrique Profile Score                5022 non-null   float64\n",
            " 29  I agree to pay the amount through paypal  9240 non-null   object \n",
            " 30  Free book                                 9240 non-null   object \n",
            " 31  Last Notable Activity                     9240 non-null   object \n",
            "dtypes: float64(4), int64(3), object(25)\n",
            "memory usage: 2.3+ MB\n"
          ]
        }
      ],
      "source": [
        "data.info()"
      ]
    },
    {
      "cell_type": "code",
      "execution_count": null,
      "metadata": {
        "id": "Ygp_WcGiefVy",
        "colab": {
          "base_uri": "https://localhost:8080/",
          "height": 318
        },
        "outputId": "ac9cee61-23a0-4e60-f885-d5b95a84433b"
      },
      "outputs": [
        {
          "output_type": "execute_result",
          "data": {
            "text/plain": [
              "         Lead Number    Converted  TotalVisits  Total Time Spent on Website  \\\n",
              "count    9240.000000  9240.000000  9103.000000                  9240.000000   \n",
              "mean   617188.435606     0.385390     3.445238                   487.698268   \n",
              "std     23405.995698     0.486714     4.854853                   548.021466   \n",
              "min    579533.000000     0.000000     0.000000                     0.000000   \n",
              "25%    596484.500000     0.000000     1.000000                    12.000000   \n",
              "50%    615479.000000     0.000000     3.000000                   248.000000   \n",
              "75%    637387.250000     1.000000     5.000000                   936.000000   \n",
              "max    660737.000000     1.000000   251.000000                  2272.000000   \n",
              "\n",
              "       Page Views Per Visit  Asymmetrique Activity Score  \\\n",
              "count           9103.000000                  5022.000000   \n",
              "mean               2.362820                    14.306252   \n",
              "std                2.161418                     1.386694   \n",
              "min                0.000000                     7.000000   \n",
              "25%                1.000000                    14.000000   \n",
              "50%                2.000000                    14.000000   \n",
              "75%                3.000000                    15.000000   \n",
              "max               55.000000                    18.000000   \n",
              "\n",
              "       Asymmetrique Profile Score  \n",
              "count                 5022.000000  \n",
              "mean                    16.344883  \n",
              "std                      1.811395  \n",
              "min                     11.000000  \n",
              "25%                     15.000000  \n",
              "50%                     16.000000  \n",
              "75%                     18.000000  \n",
              "max                     20.000000  "
            ],
            "text/html": [
              "\n",
              "  <div id=\"df-c2aff50c-d2eb-45dd-a454-d2a9ccb57458\" class=\"colab-df-container\">\n",
              "    <div>\n",
              "<style scoped>\n",
              "    .dataframe tbody tr th:only-of-type {\n",
              "        vertical-align: middle;\n",
              "    }\n",
              "\n",
              "    .dataframe tbody tr th {\n",
              "        vertical-align: top;\n",
              "    }\n",
              "\n",
              "    .dataframe thead th {\n",
              "        text-align: right;\n",
              "    }\n",
              "</style>\n",
              "<table border=\"1\" class=\"dataframe\">\n",
              "  <thead>\n",
              "    <tr style=\"text-align: right;\">\n",
              "      <th></th>\n",
              "      <th>Lead Number</th>\n",
              "      <th>Converted</th>\n",
              "      <th>TotalVisits</th>\n",
              "      <th>Total Time Spent on Website</th>\n",
              "      <th>Page Views Per Visit</th>\n",
              "      <th>Asymmetrique Activity Score</th>\n",
              "      <th>Asymmetrique Profile Score</th>\n",
              "    </tr>\n",
              "  </thead>\n",
              "  <tbody>\n",
              "    <tr>\n",
              "      <th>count</th>\n",
              "      <td>9240.000000</td>\n",
              "      <td>9240.000000</td>\n",
              "      <td>9103.000000</td>\n",
              "      <td>9240.000000</td>\n",
              "      <td>9103.000000</td>\n",
              "      <td>5022.000000</td>\n",
              "      <td>5022.000000</td>\n",
              "    </tr>\n",
              "    <tr>\n",
              "      <th>mean</th>\n",
              "      <td>617188.435606</td>\n",
              "      <td>0.385390</td>\n",
              "      <td>3.445238</td>\n",
              "      <td>487.698268</td>\n",
              "      <td>2.362820</td>\n",
              "      <td>14.306252</td>\n",
              "      <td>16.344883</td>\n",
              "    </tr>\n",
              "    <tr>\n",
              "      <th>std</th>\n",
              "      <td>23405.995698</td>\n",
              "      <td>0.486714</td>\n",
              "      <td>4.854853</td>\n",
              "      <td>548.021466</td>\n",
              "      <td>2.161418</td>\n",
              "      <td>1.386694</td>\n",
              "      <td>1.811395</td>\n",
              "    </tr>\n",
              "    <tr>\n",
              "      <th>min</th>\n",
              "      <td>579533.000000</td>\n",
              "      <td>0.000000</td>\n",
              "      <td>0.000000</td>\n",
              "      <td>0.000000</td>\n",
              "      <td>0.000000</td>\n",
              "      <td>7.000000</td>\n",
              "      <td>11.000000</td>\n",
              "    </tr>\n",
              "    <tr>\n",
              "      <th>25%</th>\n",
              "      <td>596484.500000</td>\n",
              "      <td>0.000000</td>\n",
              "      <td>1.000000</td>\n",
              "      <td>12.000000</td>\n",
              "      <td>1.000000</td>\n",
              "      <td>14.000000</td>\n",
              "      <td>15.000000</td>\n",
              "    </tr>\n",
              "    <tr>\n",
              "      <th>50%</th>\n",
              "      <td>615479.000000</td>\n",
              "      <td>0.000000</td>\n",
              "      <td>3.000000</td>\n",
              "      <td>248.000000</td>\n",
              "      <td>2.000000</td>\n",
              "      <td>14.000000</td>\n",
              "      <td>16.000000</td>\n",
              "    </tr>\n",
              "    <tr>\n",
              "      <th>75%</th>\n",
              "      <td>637387.250000</td>\n",
              "      <td>1.000000</td>\n",
              "      <td>5.000000</td>\n",
              "      <td>936.000000</td>\n",
              "      <td>3.000000</td>\n",
              "      <td>15.000000</td>\n",
              "      <td>18.000000</td>\n",
              "    </tr>\n",
              "    <tr>\n",
              "      <th>max</th>\n",
              "      <td>660737.000000</td>\n",
              "      <td>1.000000</td>\n",
              "      <td>251.000000</td>\n",
              "      <td>2272.000000</td>\n",
              "      <td>55.000000</td>\n",
              "      <td>18.000000</td>\n",
              "      <td>20.000000</td>\n",
              "    </tr>\n",
              "  </tbody>\n",
              "</table>\n",
              "</div>\n",
              "    <div class=\"colab-df-buttons\">\n",
              "\n",
              "  <div class=\"colab-df-container\">\n",
              "    <button class=\"colab-df-convert\" onclick=\"convertToInteractive('df-c2aff50c-d2eb-45dd-a454-d2a9ccb57458')\"\n",
              "            title=\"Convert this dataframe to an interactive table.\"\n",
              "            style=\"display:none;\">\n",
              "\n",
              "  <svg xmlns=\"http://www.w3.org/2000/svg\" height=\"24px\" viewBox=\"0 -960 960 960\">\n",
              "    <path d=\"M120-120v-720h720v720H120Zm60-500h600v-160H180v160Zm220 220h160v-160H400v160Zm0 220h160v-160H400v160ZM180-400h160v-160H180v160Zm440 0h160v-160H620v160ZM180-180h160v-160H180v160Zm440 0h160v-160H620v160Z\"/>\n",
              "  </svg>\n",
              "    </button>\n",
              "\n",
              "  <style>\n",
              "    .colab-df-container {\n",
              "      display:flex;\n",
              "      gap: 12px;\n",
              "    }\n",
              "\n",
              "    .colab-df-convert {\n",
              "      background-color: #E8F0FE;\n",
              "      border: none;\n",
              "      border-radius: 50%;\n",
              "      cursor: pointer;\n",
              "      display: none;\n",
              "      fill: #1967D2;\n",
              "      height: 32px;\n",
              "      padding: 0 0 0 0;\n",
              "      width: 32px;\n",
              "    }\n",
              "\n",
              "    .colab-df-convert:hover {\n",
              "      background-color: #E2EBFA;\n",
              "      box-shadow: 0px 1px 2px rgba(60, 64, 67, 0.3), 0px 1px 3px 1px rgba(60, 64, 67, 0.15);\n",
              "      fill: #174EA6;\n",
              "    }\n",
              "\n",
              "    .colab-df-buttons div {\n",
              "      margin-bottom: 4px;\n",
              "    }\n",
              "\n",
              "    [theme=dark] .colab-df-convert {\n",
              "      background-color: #3B4455;\n",
              "      fill: #D2E3FC;\n",
              "    }\n",
              "\n",
              "    [theme=dark] .colab-df-convert:hover {\n",
              "      background-color: #434B5C;\n",
              "      box-shadow: 0px 1px 3px 1px rgba(0, 0, 0, 0.15);\n",
              "      filter: drop-shadow(0px 1px 2px rgba(0, 0, 0, 0.3));\n",
              "      fill: #FFFFFF;\n",
              "    }\n",
              "  </style>\n",
              "\n",
              "    <script>\n",
              "      const buttonEl =\n",
              "        document.querySelector('#df-c2aff50c-d2eb-45dd-a454-d2a9ccb57458 button.colab-df-convert');\n",
              "      buttonEl.style.display =\n",
              "        google.colab.kernel.accessAllowed ? 'block' : 'none';\n",
              "\n",
              "      async function convertToInteractive(key) {\n",
              "        const element = document.querySelector('#df-c2aff50c-d2eb-45dd-a454-d2a9ccb57458');\n",
              "        const dataTable =\n",
              "          await google.colab.kernel.invokeFunction('convertToInteractive',\n",
              "                                                    [key], {});\n",
              "        if (!dataTable) return;\n",
              "\n",
              "        const docLinkHtml = 'Like what you see? Visit the ' +\n",
              "          '<a target=\"_blank\" href=https://colab.research.google.com/notebooks/data_table.ipynb>data table notebook</a>'\n",
              "          + ' to learn more about interactive tables.';\n",
              "        element.innerHTML = '';\n",
              "        dataTable['output_type'] = 'display_data';\n",
              "        await google.colab.output.renderOutput(dataTable, element);\n",
              "        const docLink = document.createElement('div');\n",
              "        docLink.innerHTML = docLinkHtml;\n",
              "        element.appendChild(docLink);\n",
              "      }\n",
              "    </script>\n",
              "  </div>\n",
              "\n",
              "\n",
              "<div id=\"df-2481d45c-3874-4b05-b648-e41a9e69bea6\">\n",
              "  <button class=\"colab-df-quickchart\" onclick=\"quickchart('df-2481d45c-3874-4b05-b648-e41a9e69bea6')\"\n",
              "            title=\"Suggest charts.\"\n",
              "            style=\"display:none;\">\n",
              "\n",
              "<svg xmlns=\"http://www.w3.org/2000/svg\" height=\"24px\"viewBox=\"0 0 24 24\"\n",
              "     width=\"24px\">\n",
              "    <g>\n",
              "        <path d=\"M19 3H5c-1.1 0-2 .9-2 2v14c0 1.1.9 2 2 2h14c1.1 0 2-.9 2-2V5c0-1.1-.9-2-2-2zM9 17H7v-7h2v7zm4 0h-2V7h2v10zm4 0h-2v-4h2v4z\"/>\n",
              "    </g>\n",
              "</svg>\n",
              "  </button>\n",
              "\n",
              "<style>\n",
              "  .colab-df-quickchart {\n",
              "      --bg-color: #E8F0FE;\n",
              "      --fill-color: #1967D2;\n",
              "      --hover-bg-color: #E2EBFA;\n",
              "      --hover-fill-color: #174EA6;\n",
              "      --disabled-fill-color: #AAA;\n",
              "      --disabled-bg-color: #DDD;\n",
              "  }\n",
              "\n",
              "  [theme=dark] .colab-df-quickchart {\n",
              "      --bg-color: #3B4455;\n",
              "      --fill-color: #D2E3FC;\n",
              "      --hover-bg-color: #434B5C;\n",
              "      --hover-fill-color: #FFFFFF;\n",
              "      --disabled-bg-color: #3B4455;\n",
              "      --disabled-fill-color: #666;\n",
              "  }\n",
              "\n",
              "  .colab-df-quickchart {\n",
              "    background-color: var(--bg-color);\n",
              "    border: none;\n",
              "    border-radius: 50%;\n",
              "    cursor: pointer;\n",
              "    display: none;\n",
              "    fill: var(--fill-color);\n",
              "    height: 32px;\n",
              "    padding: 0;\n",
              "    width: 32px;\n",
              "  }\n",
              "\n",
              "  .colab-df-quickchart:hover {\n",
              "    background-color: var(--hover-bg-color);\n",
              "    box-shadow: 0 1px 2px rgba(60, 64, 67, 0.3), 0 1px 3px 1px rgba(60, 64, 67, 0.15);\n",
              "    fill: var(--button-hover-fill-color);\n",
              "  }\n",
              "\n",
              "  .colab-df-quickchart-complete:disabled,\n",
              "  .colab-df-quickchart-complete:disabled:hover {\n",
              "    background-color: var(--disabled-bg-color);\n",
              "    fill: var(--disabled-fill-color);\n",
              "    box-shadow: none;\n",
              "  }\n",
              "\n",
              "  .colab-df-spinner {\n",
              "    border: 2px solid var(--fill-color);\n",
              "    border-color: transparent;\n",
              "    border-bottom-color: var(--fill-color);\n",
              "    animation:\n",
              "      spin 1s steps(1) infinite;\n",
              "  }\n",
              "\n",
              "  @keyframes spin {\n",
              "    0% {\n",
              "      border-color: transparent;\n",
              "      border-bottom-color: var(--fill-color);\n",
              "      border-left-color: var(--fill-color);\n",
              "    }\n",
              "    20% {\n",
              "      border-color: transparent;\n",
              "      border-left-color: var(--fill-color);\n",
              "      border-top-color: var(--fill-color);\n",
              "    }\n",
              "    30% {\n",
              "      border-color: transparent;\n",
              "      border-left-color: var(--fill-color);\n",
              "      border-top-color: var(--fill-color);\n",
              "      border-right-color: var(--fill-color);\n",
              "    }\n",
              "    40% {\n",
              "      border-color: transparent;\n",
              "      border-right-color: var(--fill-color);\n",
              "      border-top-color: var(--fill-color);\n",
              "    }\n",
              "    60% {\n",
              "      border-color: transparent;\n",
              "      border-right-color: var(--fill-color);\n",
              "    }\n",
              "    80% {\n",
              "      border-color: transparent;\n",
              "      border-right-color: var(--fill-color);\n",
              "      border-bottom-color: var(--fill-color);\n",
              "    }\n",
              "    90% {\n",
              "      border-color: transparent;\n",
              "      border-bottom-color: var(--fill-color);\n",
              "    }\n",
              "  }\n",
              "</style>\n",
              "\n",
              "  <script>\n",
              "    async function quickchart(key) {\n",
              "      const quickchartButtonEl =\n",
              "        document.querySelector('#' + key + ' button');\n",
              "      quickchartButtonEl.disabled = true;  // To prevent multiple clicks.\n",
              "      quickchartButtonEl.classList.add('colab-df-spinner');\n",
              "      try {\n",
              "        const charts = await google.colab.kernel.invokeFunction(\n",
              "            'suggestCharts', [key], {});\n",
              "      } catch (error) {\n",
              "        console.error('Error during call to suggestCharts:', error);\n",
              "      }\n",
              "      quickchartButtonEl.classList.remove('colab-df-spinner');\n",
              "      quickchartButtonEl.classList.add('colab-df-quickchart-complete');\n",
              "    }\n",
              "    (() => {\n",
              "      let quickchartButtonEl =\n",
              "        document.querySelector('#df-2481d45c-3874-4b05-b648-e41a9e69bea6 button');\n",
              "      quickchartButtonEl.style.display =\n",
              "        google.colab.kernel.accessAllowed ? 'block' : 'none';\n",
              "    })();\n",
              "  </script>\n",
              "</div>\n",
              "    </div>\n",
              "  </div>\n"
            ]
          },
          "metadata": {},
          "execution_count": 8
        }
      ],
      "source": [
        "data.describe()"
      ]
    },
    {
      "cell_type": "code",
      "execution_count": null,
      "metadata": {
        "id": "6pivXEX3efVy",
        "colab": {
          "base_uri": "https://localhost:8080/"
        },
        "outputId": "5f5178f7-10df-48a1-def6-c0ac9290c025"
      },
      "outputs": [
        {
          "output_type": "execute_result",
          "data": {
            "text/plain": [
              "Prospect ID                                    0\n",
              "Lead Number                                    0\n",
              "Lead Origin                                    0\n",
              "Lead Source                                   36\n",
              "Do Not Email                                   0\n",
              "Do Not Call                                    0\n",
              "Converted                                      0\n",
              "TotalVisits                                  137\n",
              "Total Time Spent on Website                    0\n",
              "Page Views Per Visit                         137\n",
              "Last Activity                                103\n",
              "Country                                     2461\n",
              "Specialization                              1438\n",
              "How did you hear about us                   2207\n",
              "What is your current occupation             2690\n",
              "Search                                         0\n",
              "Magazine                                       0\n",
              "Newspaper Article                              0\n",
              "Forums                                         0\n",
              "Newspaper                                      0\n",
              "Digital Advertisement                          0\n",
              "Through Recommendations                        0\n",
              "Lead Quality                                4767\n",
              "Lead Profile                                2709\n",
              "City                                        1420\n",
              "Asymmetrique Activity Index                 4218\n",
              "Asymmetrique Profile Index                  4218\n",
              "Asymmetrique Activity Score                 4218\n",
              "Asymmetrique Profile Score                  4218\n",
              "I agree to pay the amount through paypal       0\n",
              "Free book                                      0\n",
              "Last Notable Activity                          0\n",
              "dtype: int64"
            ]
          },
          "metadata": {},
          "execution_count": 9
        }
      ],
      "source": [
        "# check the number of missing values in each column\n",
        "data.isnull().sum(axis=0)"
      ]
    },
    {
      "cell_type": "markdown",
      "metadata": {
        "id": "rat7GeCwefV0"
      },
      "source": [
        "### Does Offering a Client a Freebie Impact Purchasing Behavior? (Binary Variable)\n",
        "\n",
        "One common strategy in retail is to provide a customer with a free gift in the hope of increasing the likelihood they will purchase. In this case, CostPro gave away a free book."
      ]
    },
    {
      "cell_type": "code",
      "execution_count": null,
      "metadata": {
        "id": "ni_WzPYlefVz",
        "colab": {
          "base_uri": "https://localhost:8080/"
        },
        "outputId": "988333af-5680-4f1e-a481-8dc5e3fc07b2"
      },
      "outputs": [
        {
          "output_type": "execute_result",
          "data": {
            "text/plain": [
              "No     6352\n",
              "Yes    2888\n",
              "Name: Free book, dtype: int64"
            ]
          },
          "metadata": {},
          "execution_count": 10
        }
      ],
      "source": [
        "data[\"Free book\"].value_counts()"
      ]
    },
    {
      "cell_type": "markdown",
      "metadata": {
        "id": "kKhKxlaoefV0"
      },
      "source": [
        "#### ⚙️ Develop a Hypothesis\n",
        "\n",
        "💡 Build Intuition: [Review the relevant course material on hypothesis formulation and testing.](https://uplimit.com/course/applied-statistics-for-data-science/v2/module/hypothesis-testing-9mlrk)\n",
        "\n",
        "Now that we understand a little bit about our data, we know we're getting a binary or \"yes\" / \"no\" answer when it comes to conversion.\n",
        "\n",
        "Let's set up our null and alternative hypotheses about the impact of giveaways on CostPro Customer Conversion."
      ]
    },
    {
      "cell_type": "markdown",
      "metadata": {
        "id": "w9Ja3s8MefV0"
      },
      "source": [
        "##### Null Hypothesis ($H_0$)\n",
        "\n",
        "Offering clients a freebie does not impact purchasing behavior\n",
        "\n"
      ]
    },
    {
      "cell_type": "markdown",
      "metadata": {
        "id": "1mWAHbAYefV0"
      },
      "source": [
        "##### Alternative Hypothesis ($H_1$)\n",
        "\n",
        "Offering clients a freebie does impact purchasing behavior\n",
        "\n"
      ]
    },
    {
      "cell_type": "markdown",
      "metadata": {
        "id": "5WKzIoE7efV0"
      },
      "source": [
        "#### ⚙️ Select a Metric: Conversion\n",
        "\n",
        "💡 Build Intuition: [Review the relevant course material on selecting tests and metrics](https://uplimit.com/course/applied-statistics-for-data-science/v2/module/selecting-tests-njq6i)\n",
        "\n",
        "To start, let's select a simple binary metric, \"Converted\", that describes whether or the client made a purchase."
      ]
    },
    {
      "cell_type": "code",
      "execution_count": null,
      "metadata": {
        "id": "lJJxR434efV1",
        "colab": {
          "base_uri": "https://localhost:8080/"
        },
        "outputId": "fdb5623b-7051-4e77-8f4d-1e15773ee581"
      },
      "outputs": [
        {
          "output_type": "execute_result",
          "data": {
            "text/plain": [
              "0    5679\n",
              "1    3561\n",
              "Name: Converted, dtype: int64"
            ]
          },
          "metadata": {},
          "execution_count": 11
        }
      ],
      "source": [
        "data[\"Converted\"].value_counts()"
      ]
    },
    {
      "cell_type": "markdown",
      "metadata": {
        "id": "q8f0OWSnefV1"
      },
      "source": [
        "#### ⚙️ Test a Hypothesis\n",
        "\n",
        "Let's test our hypothesis. In order to understand if there is a relationship between giveaways, we will go through the following steps:\n",
        "\n",
        "1) Create random samples of a variety of sizes based on whether the customer did or did not receive a free book\n",
        "\n",
        "2) Use a t-test to determine whether or not there is a relationship between customers who received a free book and conversion rate.\n",
        "\n",
        "3) Review sample sizes and p-value associated with each t-test to understand the importance of sample size in being able to detect results."
      ]
    },
    {
      "cell_type": "markdown",
      "metadata": {
        "id": "AiVmITTNefV1"
      },
      "source": [
        "##### Play with Sample Sizes to Understand Why They Matter\n",
        "\n",
        "💡 Build Intuition: [Review the relevant course content on power calculation to understand more about why sample sizes matter.](https://uplimit.com/course/applied-statistics-for-data-science/v2/module/power-calculation-0o8tl)\n",
        "\n",
        "⚠️ Caution: Do NOT do loop through sample sizes at work. This is purely an exercise for your learning and to show you why sample size matters. In practice (on the job and in research settings) picking your sample size based on statistical significance is called \"p-hacking.\""
      ]
    },
    {
      "cell_type": "code",
      "execution_count": null,
      "metadata": {
        "id": "bnFGaPOVefV1"
      },
      "outputs": [],
      "source": [
        "# Write a function to return two samples of the same size\n",
        "def get_samples(\n",
        "    data: pd.DataFrame, sample_size: int, treatment_column: str, outcome_column: str\n",
        ") -> tuple:\n",
        "    \"\"\"\n",
        "    Returns two samples of the same size from the data.\n",
        "    data (pd.DataFrame): the data to be used\n",
        "    sample_size (int): the size of the sample to be returned\n",
        "    treatment_column (str): the name of the column to be used for the treatment\n",
        "    outcome_column (str): the name of the column to be used for the outcome\n",
        "\n",
        "    Returns:\n",
        "    list: two samples of the same size\n",
        "    \"\"\"\n",
        "\n",
        "    treatment_sample = data[data[treatment_column] == \"Yes\"].sample(\n",
        "        n=sample_size, random_state=random_seed\n",
        "    )[outcome_column]\n",
        "    no_treatment_sample = data[data[treatment_column] == \"No\"].sample(\n",
        "        n=sample_size, random_state=random_seed\n",
        "    )[outcome_column]\n",
        "    return [no_treatment_sample, treatment_sample]"
      ]
    },
    {
      "cell_type": "code",
      "execution_count": null,
      "metadata": {
        "id": "wVEctC75efV2"
      },
      "outputs": [],
      "source": [
        "sample_sizes = [100, 200, 500, 1000, 2000, 2500]\n",
        "\n",
        "# Write a function that loops through the sample sizes and returns the p-value for each sample size\n",
        "def get_p_values(\n",
        "    data: pd.DataFrame, sample_sizes: list, treatment_column: str, outcome_column: str\n",
        ") -> list:\n",
        "    \"\"\"\n",
        "    Returns the p-values for each sample size.\n",
        "    data (pd.DataFrame): the data to be used\n",
        "    sample_sizes (list): the list of sample sizes to be used\n",
        "    treatment_column (str): the name of the column to be used for the treatment\n",
        "    outcome_column (str): the name of the column to be used for the outcome\n",
        "\n",
        "    Returns:\n",
        "    list: the p-values for each sample size\n",
        "    \"\"\"\n",
        "\n",
        "    sample_sizes_with_p_values = []\n",
        "    for sample_size in sample_sizes:\n",
        "        samples = get_samples(\n",
        "            data, sample_size, treatment_column, outcome_column\n",
        "        )\n",
        "        p_value = ttest_ind(samples[0], samples[1], equal_var=False)[1]\n",
        "        sample_sizes_with_p_values.append((sample_size, p_value))\n",
        "    return sample_sizes_with_p_values"
      ]
    },
    {
      "cell_type": "code",
      "execution_count": null,
      "metadata": {
        "id": "yJtugwyyefV2",
        "colab": {
          "base_uri": "https://localhost:8080/"
        },
        "outputId": "ddcef10a-d730-40b4-bcba-945e87cdd322"
      },
      "outputs": [
        {
          "output_type": "execute_result",
          "data": {
            "text/plain": [
              "[(100, 0.3656033483561646),\n",
              " (200, 0.20461492355690236),\n",
              " (500, 0.042241413414628406),\n",
              " (1000, 0.05966131694633586),\n",
              " (2000, 0.05024262222372098),\n",
              " (2500, 0.0023940448535345296)]"
            ]
          },
          "metadata": {},
          "execution_count": 14
        }
      ],
      "source": [
        "# Return the p-values for each sample size\n",
        "p_values = get_p_values(\n",
        "    data, sample_sizes, \"Free book\", \"Converted\"\n",
        ")\n",
        "p_values"
      ]
    },
    {
      "cell_type": "markdown",
      "source": [
        "See how much the p-value changes as the sample size increases!\n",
        "\n",
        "At a sample size of 100, we have a p-value of .36 which means that we reject the alternative hypothesis. However, at a sample size of 2500, we have a p-value of 0.002 which means we reject the null hypothesis and have reason to believe there is a relationship between giving potential customers a free book and them converting into CostPro customers."
      ],
      "metadata": {
        "id": "SbyjekoOb87F"
      }
    },
    {
      "cell_type": "markdown",
      "source": [
        "##### Perform a Power Calcuation\n",
        "\n",
        "The recommended way to determine sample size!"
      ],
      "metadata": {
        "id": "Mcjp32WZ_-ZG"
      }
    },
    {
      "cell_type": "code",
      "source": [
        "import numpy as np\n",
        "import matplotlib.pyplot as plt\n",
        "from statsmodels.stats.power import TTestIndPower\n",
        "\n",
        "# Specify the parameters of the t-test\n",
        "effect_size = 0.8\n",
        "alpha = 0.05\n",
        "power = 0.8\n",
        "\n",
        "# Initialize the power calculator\n",
        "power_calculator = TTestIndPower()\n",
        "\n",
        "# Calculate the minimum sample size required to achieve the desired power\n",
        "sample_size = power_calculator.solve_power(effect_size=effect_size,\n",
        "                                           power=power,\n",
        "                                           alpha=alpha)\n",
        "print(\"Minimum sample size:\", sample_size)\n",
        "\n",
        "# Create an array of sample sizes to plot\n",
        "sample_sizes = np.linspace(start=2, stop=200, num=100)\n",
        "\n",
        "# Calculate the power of the t-test for each sample size\n",
        "powers = power_calculator.power(effect_size=effect_size,\n",
        "                                nobs1=sample_sizes,\n",
        "                                alpha=alpha)\n",
        "\n",
        "# Plot the power as a function of sample size\n",
        "plt.plot(sample_sizes, powers)\n",
        "plt.xlabel(\"Sample size\")\n",
        "plt.ylabel(\"Power\")\n",
        "plt.show()"
      ],
      "metadata": {
        "colab": {
          "base_uri": "https://localhost:8080/",
          "height": 475
        },
        "id": "O3x6rYTI_8dC",
        "outputId": "69d189b4-b648-45f5-c505-abdc2aa86099"
      },
      "execution_count": null,
      "outputs": [
        {
          "output_type": "stream",
          "name": "stdout",
          "text": [
            "Minimum sample size: 25.52457250047935\n"
          ]
        },
        {
          "output_type": "display_data",
          "data": {
            "text/plain": [
              "<Figure size 640x480 with 1 Axes>"
            ],
            "image/png": "[encoded data removed]"
          },
          "metadata": {}
        }
      ]
    },
    {
      "cell_type": "markdown",
      "source": [
        "#### 📈 Visualize the Results\n",
        "\n",
        "Now that we have our results, let's visualize them!"
      ],
      "metadata": {
        "id": "FGa0nngwZJ_-"
      }
    },
    {
      "cell_type": "code",
      "execution_count": null,
      "metadata": {
        "id": "iP6lLjNhefV8"
      },
      "outputs": [],
      "source": [
        "# Write a function that plots the p-values for each sample size\n",
        "def plot_p_values(sample_sizes_with_p_values: list) -> None:\n",
        "    \"\"\"\n",
        "    Plots the p-values for each sample size.\n",
        "    sample_sizes_with_p_values (list): the list of sample sizes and p-values to be used\n",
        "\n",
        "    Returns:\n",
        "    None\n",
        "    \"\"\"\n",
        "\n",
        "    sample_sizes = [\n",
        "        sample_size_with_p_value[0]\n",
        "        for sample_size_with_p_value in sample_sizes_with_p_values\n",
        "    ]\n",
        "    p_values = [\n",
        "        sample_size_with_p_value[1]\n",
        "        for sample_size_with_p_value in sample_sizes_with_p_values\n",
        "    ]\n",
        "    plt.figure(figsize=(10, 5))\n",
        "    plt.plot(sample_sizes, p_values)\n",
        "    plt.xlabel(\"Sample Size\")\n",
        "    plt.ylabel(\"P-value\")\n",
        "    plt.show()"
      ]
    },
    {
      "cell_type": "markdown",
      "source": [
        "❓ At what sample size do results become significant (p-value < 0.05)?"
      ],
      "metadata": {
        "id": "dsBIKGLQZnrc"
      }
    },
    {
      "cell_type": "code",
      "execution_count": null,
      "metadata": {
        "id": "iKJLP9S-efV9",
        "colab": {
          "base_uri": "https://localhost:8080/",
          "height": 465
        },
        "outputId": "416d3397-d27e-42cb-9b64-24892d3b0a0d"
      },
      "outputs": [
        {
          "output_type": "display_data",
          "data": {
            "text/plain": [
              "<Figure size 1000x500 with 1 Axes>"
            ],
            "image/png": "[encoded data removed]"
          },
          "metadata": {}
        }
      ],
      "source": [
        "# Plot the p-values for each sample size\n",
        "sample_sizes = [100, 200, 500, 1000, 2000, 2500]\n",
        "plot_p_values(\n",
        "    get_p_values(\n",
        "        data, sample_sizes, \"Free book\", \"Converted\"\n",
        "    )\n",
        ")"
      ]
    },
    {
      "cell_type": "markdown",
      "metadata": {
        "id": "iBMhE5XxefV_"
      },
      "source": [
        "### Does Lead Source Increase Time Spent on CostPro's Website?\n",
        "\n",
        "CostPro also wants to explore whether or not some leads are higher quality than others. Time spent on site is a metric for which CostPro is optimizing.\n",
        "\n",
        "In order to understand whether or not there is a relationship between lead source and time spent on site, we will analyze using a one-way ANOVA."
      ]
    },
    {
      "cell_type": "markdown",
      "metadata": {
        "id": "NRl4eQmrU8-u"
      },
      "source": [
        "#### ⚙️ Develop a Hypothesis\n",
        "\n",
        "💡 Build Intuition: [Review the relevant course material on hypothesis formulation and testing.](https://uplimit.com/course/applied-statistics-for-data-science/v2/module/hypothesis-testing-9mlrk)\n",
        "\n",
        "First, let's set up our hypotheses! The null hypothesis is that there is not a relationship between lead source and time spent on the website, while the alternative hypothesis is that lead source does have a relationship with time spent on the website."
      ]
    },
    {
      "cell_type": "markdown",
      "metadata": {
        "id": "NcXK4zLwU8-1"
      },
      "source": [
        "##### Null Hypothesis ($H_0$)\n",
        "\n",
        "Lead source does not impact time spent on the website\n",
        "\n"
      ]
    },
    {
      "cell_type": "markdown",
      "metadata": {
        "id": "m8Q4QDHOU8-1"
      },
      "source": [
        "##### Alternative Hypothesis ($H_1$)\n",
        "\n",
        "Lead source does impact time spent on the website\n",
        "\n",
        "\n"
      ]
    },
    {
      "cell_type": "code",
      "source": [
        "data['Lead Source'].value_counts()"
      ],
      "metadata": {
        "colab": {
          "base_uri": "https://localhost:8080/"
        },
        "id": "ZRVxn8phXFam",
        "outputId": "bcbbd7bd-8f4d-407c-bea2-2bae2e759e80"
      },
      "execution_count": null,
      "outputs": [
        {
          "output_type": "execute_result",
          "data": {
            "text/plain": [
              "Google               2868\n",
              "Direct Traffic       2543\n",
              "Chat                 1755\n",
              "Organic Search       1154\n",
              "Reference             534\n",
              "Welingak Website      142\n",
              "Referral Sites        125\n",
              "Facebook               55\n",
              "bing                    6\n",
              "google                  5\n",
              "Click2call              4\n",
              "Press_Release           2\n",
              "Social Media            2\n",
              "Live Chat               2\n",
              "youtubechannel          1\n",
              "testone                 1\n",
              "Pay per Click Ads       1\n",
              "welearnblog_Home        1\n",
              "WeLearn                 1\n",
              "blog                    1\n",
              "NC_EDM                  1\n",
              "Name: Lead Source, dtype: int64"
            ]
          },
          "metadata": {},
          "execution_count": 18
        }
      ]
    },
    {
      "cell_type": "markdown",
      "source": [
        "#### ⚙️ Test a Hypothesis\n",
        "\n",
        "ANOVA is capable of handling more than two samples, so we've adjusted our sampling function below to allow for that. In this case, we'll still keep our number of samples to 3.\n",
        "\n",
        "💡 Build Intuition: [Review the relevant course material on ANOVA.](https://uplimit.com/course/applied-statistics-for-data-science/v2/module/parametric-tests-qvtoc#corise_clcz6mj8m000s3b6ri8yciryy)"
      ],
      "metadata": {
        "id": "OHh3uKDBVPo4"
      }
    },
    {
      "cell_type": "code",
      "execution_count": null,
      "metadata": {
        "id": "QQh1WbyCefWA"
      },
      "outputs": [],
      "source": [
        "# Write a function to get n samples of the same size from the data\n",
        "def get_n_samples(\n",
        "    data: pd.DataFrame,\n",
        "    sample_size: int,\n",
        "    treatment_column: str,\n",
        "    outcome_column: str,\n",
        "    categories: Optional[list] = None,\n",
        ") -> list:\n",
        "    \"\"\"\n",
        "    Returns n samples of the same size from the data.\n",
        "    data (pd.DataFrame): the data to be used\n",
        "    sample_size (int): the size of the sample to be returned\n",
        "    treatment_column (str): the name of the column to be used\n",
        "    outcome_column (str): the name of the column to be used\n",
        "    categories (list): list of categories to be used\n",
        "\n",
        "    Returns:\n",
        "    list: n samples of the same size\n",
        "    \"\"\"\n",
        "\n",
        "    samples = []\n",
        "    if categories is None:\n",
        "        categories = data[treatment_column].unique()\n",
        "\n",
        "    for category in categories:\n",
        "        sample = data[data[treatment_column] == category].sample(\n",
        "            n=sample_size, random_state=random_seed\n",
        "        )[outcome_column]\n",
        "        samples.append(sample)\n",
        "    return samples"
      ]
    },
    {
      "cell_type": "markdown",
      "source": [
        "Next, we'll follow a similar pattern to the t-test in that we want to explore the results of the ANOVA at a variety of sample sizes.\n",
        "\n",
        "In this function below, we loop through samples of various sizes and run a one-way ANOVA on each of them. The function returns a tuple with three values: the sample size, the f-statistic, and the p-value.\n",
        "\n",
        "⚠️ Caution: Do NOT do loop through sample sizes at work. This is purely an exercise for your learning and to show you why sample size matters. In practice (on the job and in research settings) picking your sample size based on statistical significance is called \"p-hacking.\""
      ],
      "metadata": {
        "id": "90gokzcTa0ZT"
      }
    },
    {
      "cell_type": "code",
      "execution_count": null,
      "metadata": {
        "id": "cpSsSlC8efWB"
      },
      "outputs": [],
      "source": [
        "# Write a function that returns f statistics and p values for each sample size\n",
        "def get_f_statistic_scores(\n",
        "    data: pd.DataFrame,\n",
        "    sample_sizes: list,\n",
        "    treatment_column: str,\n",
        "    outcome_column: str,\n",
        "    categories: Optional[list] = None,\n",
        ") -> list:\n",
        "    \"\"\"\n",
        "    Returns the f statistic scores for each sample size.\n",
        "    data (pd.DataFrame): the data to be used\n",
        "    sample_sizes (list): the list of sample sizes to be used\n",
        "    treatment_column (str): the name of the column to be used for the treatment\n",
        "    outcome_column (str): the name of the column to be used for the outcome\n",
        "    categories (Optional[list]): list of categories to be used\n",
        "\n",
        "    Returns:\n",
        "    list: tuples of sample size, f-statistic, and p-value\n",
        "    \"\"\"\n",
        "\n",
        "    sample_sizes_with_f_statistic_scores = []\n",
        "    for sample_size in sample_sizes:\n",
        "        samples = get_n_samples(\n",
        "            data, sample_size, treatment_column, outcome_column, categories\n",
        "        )\n",
        "        f_statistic_score, p_value = f_oneway(*samples)\n",
        "        sample_sizes_with_f_statistic_scores.append((sample_size, f_statistic_score, p_value))\n",
        "    return sample_sizes_with_f_statistic_scores"
      ]
    },
    {
      "cell_type": "code",
      "execution_count": null,
      "metadata": {
        "id": "BcDMI9lNefWB",
        "colab": {
          "base_uri": "https://localhost:8080/"
        },
        "outputId": "3c438fd9-9284-4d25-b03d-8c4bff7b6f23"
      },
      "outputs": [
        {
          "output_type": "execute_result",
          "data": {
            "text/plain": [
              "[(100, 61.195112151107274, 5.565634815865301e-23),\n",
              " (250, 146.61253365885068, 1.941746617935235e-54),\n",
              " (500, 262.60690677370263, 1.7456358439857128e-98),\n",
              " (1000, 486.6126447622335, 9.785430264703675e-184),\n",
              " (1500, 736.4412877606917, 2.177892445333353e-277)]"
            ]
          },
          "metadata": {},
          "execution_count": 23
        }
      ],
      "source": [
        "# Get the f1 scores for each sample size\n",
        "f_statistic_scores = get_f_statistic_scores(\n",
        "    data,\n",
        "    [100, 250, 500, 1000, 1500],\n",
        "    \"Lead Source\",\n",
        "    \"Total Time Spent on Website\",\n",
        "    categories=[\"Chat\",\"Google\", \"Direct Traffic\"],\n",
        ")\n",
        "f_statistic_scores\n"
      ]
    },
    {
      "cell_type": "markdown",
      "metadata": {
        "id": "3T8zLH1GefWC"
      },
      "source": [
        "## Your Turn\n",
        "\n",
        "Develop two sets of hypotheses and test them. For your first hypothesis, run a t-test on a continuous variable. For your second test, try implementing an ANOVA."
      ]
    },
    {
      "cell_type": "markdown",
      "metadata": {
        "id": "GtH7Ps2iefWC"
      },
      "source": [
        "### T-test"
      ]
    },
    {
      "cell_type": "markdown",
      "source": [
        "#### ⚙️ Develop Your Hypothesis\n",
        "\n",
        "💡 Build Intuition: [Review the relevant course material on hypothesis formulation and testing.](https://uplimit.com/course/applied-statistics-for-data-science/v2/module/hypothesis-testing-9mlrk)"
      ],
      "metadata": {
        "id": "0loR8o3IRJfr"
      }
    },
    {
      "cell_type": "markdown",
      "metadata": {
        "id": "edvKJ_vYefWC"
      },
      "source": [
        "##### Null Hypothesis\n",
        "\n",
        "Write your null hypothesis here.\n",
        "\n",
        "$H_0$: Customers with \"Google\" as Lead Source have the same conversion rate."
      ]
    },
    {
      "cell_type": "markdown",
      "metadata": {
        "id": "YmPs6ftrefWC"
      },
      "source": [
        "##### Alternative Hypothesis\n",
        "\n",
        "Write your alternative hypothesis here.\n",
        "\n",
        "$H_1$: Customers with \"Google\" as Lead Source have the different conversion rate."
      ]
    },
    {
      "cell_type": "markdown",
      "source": [
        "#### Check In!\n",
        "\n",
        "If you want to check in before you proceed - drop your hypotheses in slack and we will give you feedback!!!"
      ],
      "metadata": {
        "id": "YkOHNTE_uXEC"
      }
    },
    {
      "cell_type": "markdown",
      "metadata": {
        "id": "r4lAU7WyefWC"
      },
      "source": [
        "#### ⚙️ Test Your Hypothesis\n",
        "\n",
        "💡 Build Intuition: [Review the relevant course material on T-tests.](https://uplimit.com/course/applied-statistics-for-data-science/v2/module/parametric-tests-qvtoc#corise_clcz6lwns000q3b6r107rxx04)\n",
        "\n",
        "Write a function to output the results for a T-test on a continuous variable."
      ]
    },
    {
      "cell_type": "code",
      "source": [
        "# Write a function to return two samples of the same size\n",
        "def get_samples(\n",
        "    data: pd.DataFrame, sample_size: int, treatment_column: str, outcome_column: str\n",
        ") -> tuple:\n",
        "    \"\"\"\n",
        "    Returns two samples of the same size from the data.\n",
        "    data (pd.DataFrame): the data to be used\n",
        "    sample_size (int): the size of the sample to be returned\n",
        "    treatment_column (str): the name of the column to be used for the treatment\n",
        "    outcome_column (str): the name of the column to be used for the outcome\n",
        "\n",
        "    Returns:\n",
        "    list: two samples of the same size\n",
        "    \"\"\"\n",
        "\n",
        "    treatment_sample = data[data[treatment_column] == \"Google\"].sample(\n",
        "        n=sample_size, random_state=random_seed\n",
        "    )[outcome_column]\n",
        "    no_treatment_sample = data[data[treatment_column] != \"Google\"].sample(\n",
        "        n=sample_size, random_state=random_seed\n",
        "    )[outcome_column]\n",
        "    return [no_treatment_sample, treatment_sample]"
      ],
      "metadata": {
        "id": "Np_B4B3YYlCg"
      },
      "execution_count": null,
      "outputs": []
    },
    {
      "cell_type": "code",
      "source": [
        "# uncomment the function below and add your sample size, treatment column name and outcome column name to get samples\n",
        "samples = get_samples(\n",
        "     data, 100, \"Lead Source\", \"Converted\"\n",
        " )"
      ],
      "metadata": {
        "id": "lWbDQuybu8vk"
      },
      "execution_count": null,
      "outputs": []
    },
    {
      "cell_type": "code",
      "source": [
        "samples"
      ],
      "metadata": {
        "colab": {
          "base_uri": "https://localhost:8080/"
        },
        "id": "sjatw2O0ZMJk",
        "outputId": "52687c60-f7bc-4f81-ffa7-0b269f3c691e"
      },
      "execution_count": null,
      "outputs": [
        {
          "output_type": "execute_result",
          "data": {
            "text/plain": [
              "[4264    1\n",
              " 6675    0\n",
              " 3348    0\n",
              " 2942    0\n",
              " 8140    0\n",
              "        ..\n",
              " 9209    0\n",
              " 5520    0\n",
              " 7242    0\n",
              " 7339    0\n",
              " 7312    0\n",
              " Name: Converted, Length: 100, dtype: int64,\n",
              " 1288    0\n",
              " 7303    0\n",
              " 1988    0\n",
              " 1770    1\n",
              " 8529    0\n",
              "        ..\n",
              " 2896    1\n",
              " 194     0\n",
              " 4202    0\n",
              " 7874    0\n",
              " 4893    0\n",
              " Name: Converted, Length: 100, dtype: int64]"
            ]
          },
          "metadata": {},
          "execution_count": 28
        }
      ]
    },
    {
      "cell_type": "code",
      "source": [
        "# write a function\n",
        "def your_t_test_function():\n",
        "    pass"
      ],
      "metadata": {
        "id": "JNFUOjclpr_W"
      },
      "execution_count": null,
      "outputs": []
    },
    {
      "cell_type": "markdown",
      "source": [
        "#### 📈 Visualize the Results\n",
        "\n",
        "Graph the results of the T-test"
      ],
      "metadata": {
        "id": "hTqb9zmwsu10"
      }
    },
    {
      "cell_type": "code",
      "source": [
        "# write a function to visualize your results\n",
        "\n",
        "def visualize_t_test_results():\n",
        "    pass"
      ],
      "metadata": {
        "id": "KNFlqabppsZg"
      },
      "execution_count": null,
      "outputs": []
    },
    {
      "cell_type": "markdown",
      "metadata": {
        "id": "qv6itPw4efWC"
      },
      "source": [
        "### ANOVA\n",
        "\n",
        "💡 Build Intuition: [Review the relevant course material on hypothesis formulation and testing.](https://uplimit.com/course/applied-statistics-for-data-science/v2/module/hypothesis-testing-9mlrk)"
      ]
    },
    {
      "cell_type": "markdown",
      "source": [
        "#### ⚙️ Develop Your Hypothesis\n",
        "\n",
        "💡 Build Intuition: [Review the relevant course material on hypothesis formulation and testing.](https://uplimit.com/course/applied-statistics-for-data-science/v2/module/hypothesis-testing-9mlrk)"
      ],
      "metadata": {
        "id": "9ZUaGYhIRNLo"
      }
    },
    {
      "cell_type": "markdown",
      "metadata": {
        "id": "QOuuzGe3efWD"
      },
      "source": [
        "##### Null Hypothesis\n",
        "\n",
        "Write your null hypothesis here.\n",
        "\n",
        "$H_0$:"
      ]
    },
    {
      "cell_type": "markdown",
      "metadata": {
        "id": "0X6u_W9IefWD"
      },
      "source": [
        "##### Alternative Hypothesis\n",
        "\n",
        "Write your alternative hypothesis here.\n",
        "\n",
        "$H_1$: <WRITE YOUR HYPOTHESIS HERE>"
      ]
    },
    {
      "cell_type": "markdown",
      "source": [
        "#### Check In!\n",
        "\n",
        "If you want to check in before you proceed - drop your hypotheses in slack and we will give you feedback!!!"
      ],
      "metadata": {
        "id": "wsdmrXOMPtHA"
      }
    },
    {
      "cell_type": "markdown",
      "metadata": {
        "id": "r2GD2bFeefWD"
      },
      "source": [
        "#### ⚙️ Test Your Hypothesis\n",
        "\n",
        "💡 Build Intuition: [Review the relevant course material on ANOVA.](https://uplimit.com/course/applied-statistics-for-data-science/v2/module/parametric-tests-qvtoc#corise_clcz6mj8m000s3b6ri8yciryy)\n",
        "\n",
        "Write a function to implement a one-way ANOVA."
      ]
    },
    {
      "cell_type": "code",
      "source": [
        "# Write a function to get n samples of the same size from the data\n",
        "def get_n_samples(\n",
        "    data: pd.DataFrame,\n",
        "    sample_size: int,\n",
        "    treatment_column: str,\n",
        "    outcome_column: str,\n",
        "    categories: Optional[list] = None,\n",
        ") -> list:\n",
        "    \"\"\"\n",
        "    Returns n samples of the same size from the data.\n",
        "    data (pd.DataFrame): the data to be used\n",
        "    sample_size (int): the size of the sample to be returned\n",
        "    treatment_column (str): the name of the column to be used\n",
        "    outcome_column (str): the name of the column to be used\n",
        "    categories (list): list of categories to be used\n",
        "\n",
        "    Returns:\n",
        "    list: n samples of the same size\n",
        "    \"\"\"\n",
        "\n",
        "    samples = []\n",
        "    if categories is None:\n",
        "        categories = data[treatment_column].unique()\n",
        "\n",
        "    for category in categories:\n",
        "        sample = data[data[treatment_column] == category].sample(\n",
        "            n=sample_size, random_state=random_seed\n",
        "        )[outcome_column]\n",
        "        samples.append(sample)\n",
        "    return samples"
      ],
      "metadata": {
        "id": "lMvcQyXfZ-HG"
      },
      "execution_count": null,
      "outputs": []
    },
    {
      "cell_type": "code",
      "source": [
        " uncomment the function below and add your sample size, treatment column name and outcome column name to get samples\n",
        " samples = get_n_samples(\n",
        "     data, 100, \"<TREATMENT_COLUMN_NAME_HERE>\", \"<OUTCOME_COLUMN_NAME_HERE>\"\n",
        " )"
      ],
      "metadata": {
        "id": "6obMQ9ZtrjfY"
      },
      "execution_count": null,
      "outputs": []
    },
    {
      "cell_type": "code",
      "source": [
        "# write a function to implement a one-way ANOVA\n",
        "def test_one_way_anova():\n",
        "    pass"
      ],
      "metadata": {
        "id": "c62JzfmlpqRG"
      },
      "execution_count": null,
      "outputs": []
    },
    {
      "cell_type": "markdown",
      "source": [
        "#### 📈 Visualize the Results"
      ],
      "metadata": {
        "id": "TINuBSxts9Wt"
      }
    },
    {
      "cell_type": "code",
      "source": [
        "# write a function to visualize your results\n",
        "def visualize_one_way_anova():\n",
        "    pass"
      ],
      "metadata": {
        "id": "ps8X7EQTpuAI"
      },
      "execution_count": null,
      "outputs": []
    },
    {
      "cell_type": "markdown",
      "metadata": {
        "id": "0CKvCU-AefV9"
      },
      "source": [
        "## 🔎 Can We Trust These Results?"
      ]
    },
    {
      "cell_type": "markdown",
      "source": [
        "### ⚙️ Calculate a Confidence Interval\n",
        "\n",
        "💡 Build Intuition about confidence intervals by [reviewing relevant course content.](https://uplimit.com/course/applied-statistics-for-data-science/v2/module/confidence-intervals-duhm9j#corise_clcowktej001s3b6tfcpdpn0f)\n",
        "\n",
        "Practice calculating a confidence interval or use a library function from a python library to calculate it for you."
      ],
      "metadata": {
        "id": "60vO2Batz-A_"
      }
    },
    {
      "cell_type": "code",
      "execution_count": null,
      "metadata": {
        "id": "tVfqJPqEefWA"
      },
      "outputs": [],
      "source": [
        "samples = get_n_samples(\n",
        "    data, 1000, \"Lead Source\", \"Total Time Spent on Website\" , [\"Chat\", \"Organic Search\", \"Direct Traffic\"]\n",
        ")"
      ]
    },
    {
      "cell_type": "code",
      "source": [
        "# write your function here\n",
        "def calculate_confidence_interval():\n",
        "    pass"
      ],
      "metadata": {
        "id": "3oL6WNnOySNj"
      },
      "execution_count": null,
      "outputs": []
    },
    {
      "cell_type": "code",
      "source": [
        "calculate_confidence_interval()"
      ],
      "metadata": {
        "id": "J9Y6YGVDyZyz"
      },
      "execution_count": null,
      "outputs": []
    },
    {
      "cell_type": "markdown",
      "source": [
        "### ⚙️ Test the Assumptions of Parametric Tests\n",
        "💡 Build Intuition: [Review the relevant course material on assumptions behind parametric tests](https://uplimit.com/course/applied-statistics-for-data-science/v2/module/selecting-tests-njq6i#corise_clcq9bgkq00303b6w450qn8fe)"
      ],
      "metadata": {
        "id": "loA6gfFdPJN6"
      }
    },
    {
      "cell_type": "markdown",
      "metadata": {
        "id": "Ee2mKA6aefV9"
      },
      "source": [
        "##### Normality\n",
        "\n",
        "One of the assumptions underlying parametric tests is that the population is distributed normally. We can test for normality using several tests, including the Shapiro-Wilk test or the Anderson-Darling test.\n",
        "\n",
        "$H_0$: The sample comes from a normally distributed population.\n",
        "\n",
        "$H_1$: The sample does not come from a normally distributed population.\n",
        "\n",
        "How to interpret this test:\n",
        "\n",
        "If the p-value is less than 0.05, we reject the null hypothesis, suggesting that the sample is unlikely to have come from a normally distributed population."
      ]
    },
    {
      "cell_type": "code",
      "execution_count": null,
      "metadata": {
        "id": "tAZWL484efV9"
      },
      "outputs": [],
      "source": [
        "# Write a function to test the assumption of normality\n",
        "def test_normality(samples: list) -> str:\n",
        "    \"\"\"\n",
        "    Tests the assumption of normality.\n",
        "    samples (list): the list of samples to be used\n",
        "\n",
        "    Returns:\n",
        "    str: the result of the test\n",
        "    \"\"\"\n",
        "    result = []\n",
        "\n",
        "    for i, sample in enumerate(samples):\n",
        "        if len(sample) > 2:\n",
        "            stat, p = shapiro(sample)\n",
        "            result.append((i, stat, p))\n",
        "            print(\"Shapiro test statistic:\", stat)\n",
        "            print(\"Shapiro p-value:\", p)\n",
        "            if p > 0.05:\n",
        "                return \"The samples are normally distributed.\"\n",
        "            else:\n",
        "                return \"The samples are not normally distributed.\"\n",
        "        else:\n",
        "            stat, critical_value, p = anderson_ksamp([sample, bernoulli.rvs(p=sample.mean(), size=sample.shape[0])])\n",
        "            result.append((i, stat, critical_value, p))\n",
        "            print('Anderson-Darling statistic:', stat)\n",
        "            print('Anderson-Darling p-value:', p)\n",
        "            if p > 0.05:\n",
        "                return \"The samples are normally distributed.\"\n",
        "            else:\n",
        "                return \"The samples are not normally distributed.\""
      ]
    },
    {
      "cell_type": "code",
      "execution_count": null,
      "metadata": {
        "id": "9H6ezD6sefV-"
      },
      "outputs": [],
      "source": [
        "samples = get_samples(data, 2500, \"Free book\", \"Converted\")\n",
        "len(samples[0])"
      ]
    },
    {
      "cell_type": "code",
      "execution_count": null,
      "metadata": {
        "id": "X70uu8-MefV-"
      },
      "outputs": [],
      "source": [
        "# Test the assumption of normality\n",
        "test_normality(samples)"
      ]
    },
    {
      "cell_type": "markdown",
      "source": [
        "#### 📈 Visualize the Results"
      ],
      "metadata": {
        "id": "em4YvQbZUGVD"
      }
    },
    {
      "cell_type": "code",
      "execution_count": null,
      "metadata": {
        "id": "lI7KNRrxefWB"
      },
      "outputs": [],
      "source": [
        "# Write a function to visualize normality\n",
        "def visualize_normality(samples: list) -> None:\n",
        "    \"\"\"\n",
        "    Visualizes the assumption of normality.\n",
        "    samples (list): the list of samples to be used\n",
        "\n",
        "    Returns:\n",
        "    None\n",
        "    \"\"\"\n",
        "    # Visualize the data to check for normality\n",
        "    sns.set(style=\"darkgrid\")\n",
        "    for i, sample in enumerate(samples):\n",
        "        sns.histplot(sample, kde=True, label=f\"Group {i+1}\", color=f\"C{i}\", legend=True)\n",
        "\n",
        "    plt.legend()\n",
        "    return"
      ]
    },
    {
      "cell_type": "code",
      "source": [
        "visualize_normality(samples)"
      ],
      "metadata": {
        "id": "z5SxVMR0w3W4"
      },
      "execution_count": null,
      "outputs": []
    },
    {
      "cell_type": "markdown",
      "metadata": {
        "id": "1qPaYUD0efV-"
      },
      "source": [
        "#### Independence\n",
        "\n",
        "One of the assumptions underlying parametric tests is that the samples being compared are independent. We can test for independence using a test called the Chi squared contingency test.\n",
        "\n",
        "$H_0$: The samples are independent\n",
        "\n",
        "$H_1$: The samples are not independent\n",
        "\n",
        "How to interpret this test:\n",
        "\n",
        "If the p-value is less that 0.05, we reject null hypothesis and say that the differences are unlikely to have come from truly independent samples."
      ]
    },
    {
      "cell_type": "code",
      "execution_count": null,
      "metadata": {
        "id": "Ackzr86TefV-"
      },
      "outputs": [],
      "source": [
        "# Write a function to test the assumption of independence\n",
        "from scipy.stats import chi2_contingency\n",
        "\n",
        "def test_independence(samples: list) -> str:\n",
        "    \"\"\"\n",
        "    Tests the assumption of independence.\n",
        "    samples (list): the samples to be used\n",
        "\n",
        "    Returns:\n",
        "    any: the p-value\n",
        "    \"\"\"\n",
        "\n",
        "    stat, p, _, _ = chi2_contingency(*samples)\n",
        "\n",
        "    if p > 0.05:\n",
        "        return(f'The samples are independent with a chi2 contingency statistic of {stat} and a p-value of {p}')\n",
        "    else:\n",
        "        return(f'The samples are not independent with a chi2 contingency statistic of {stat} and a p-value of {p}')"
      ]
    },
    {
      "cell_type": "code",
      "execution_count": null,
      "metadata": {
        "id": "ZzWFLYnGefV-"
      },
      "outputs": [],
      "source": [
        "# Test the assumption of independence\n",
        "test_independence(get_samples(\n",
        "            data, 2500, \"Free book\", \"Converted\"\n",
        "        ))"
      ]
    },
    {
      "cell_type": "markdown",
      "metadata": {
        "id": "gk_mBfOnefV_"
      },
      "source": [
        "#### Equal Variances\n",
        "\n",
        "One of the other assumptions underlying parametric tests is that the groups being compared have equal variances. This is called homoscedasticity. We can test for equal variances using either Barlett's test or Levene's test.\n",
        "\n",
        "The Levene test is less sensitive than the Bartlett test to data being normally distributed. If your data *is* normally distributed then Bartlett's test has better performance.\n",
        "\n",
        "In both cases the hypothesis are the same:\n",
        "\n",
        "$H_0$: The samples have equal variances\n",
        "\n",
        "$H_1$: The samples do not have equal variances\n",
        "\n",
        "How to interpret this test:\n",
        "\n",
        "If the p-value is less that 0.05, we reject the null hypothesis and say that the differences in sample variances are unlikely to have come from random sampling a population with equal variances.\n"
      ]
    },
    {
      "cell_type": "code",
      "execution_count": null,
      "metadata": {
        "id": "0pUW7OHlefV_"
      },
      "outputs": [],
      "source": [
        "def test_homoscedasticity_bartlett(samples: list) -> str:\n",
        "    \"\"\"\n",
        "    Tests that both groups have equal variances using Bartlett's test.\n",
        "    samples (list): the list of samples to be used\n",
        "\n",
        "    Returns:\n",
        "    str: the result of the test\n",
        "    \"\"\"\n",
        "\n",
        "    stat, p = bartlett(*samples)\n",
        "    print(\"Bartlett test statistic:\", stat)\n",
        "    print(\"Bartlett p-value:\", p)\n",
        "    if p > 0.05:\n",
        "        return f\"The samples have equal variances with a Bartlett statistic of {stat} and a p-value of {p}\"\n",
        "    else:\n",
        "        return f\"The samples do not have equal variances with a Bartlett statistic of {stat} and a p-value of {p}\"\n",
        "\n",
        "\n",
        "def test_homoscedasticity_levene(samples: list) -> str:\n",
        "    \"\"\"\n",
        "    Tests that both groups have equal variances using Levene's test.\n",
        "    samples (list): the list of samples to be used\n",
        "\n",
        "    Returns:\n",
        "    str: the result of the test\n",
        "    \"\"\"\n",
        "\n",
        "    stat, p = levene(*samples)\n",
        "    print(\"Levene test statistic:\", stat)\n",
        "    print(\"Levene p-value:\", p)\n",
        "    if p > 0.05:\n",
        "        return f\"The samples have equal variances with a Levene statistic of {stat} and a p-value of {p}\"\n",
        "    else:\n",
        "        return f\"The samples do not have equal variances with a Levene statistic of {stat} and a p-value of {p}\"\n"
      ]
    },
    {
      "cell_type": "code",
      "execution_count": null,
      "metadata": {
        "id": "LDtlDr8refV_"
      },
      "outputs": [],
      "source": [
        "# Test the assumption of homoscedasticity\n",
        "samples = get_samples(data, 2500, \"Free book\", \"Converted\")\n",
        "\n",
        "print(test_homoscedasticity_bartlett(samples))\n",
        "print(test_homoscedasticity_levene(samples))"
      ]
    },
    {
      "cell_type": "markdown",
      "source": [
        "## 🤯 Expand Your Learning\n",
        "\n",
        "Two Options:\n",
        "\n",
        "1) Try Bootstrapping to See If It Helps with Meeting Assumptions of Parametric Tests\n",
        "\n",
        "2) Get a Head Start on Next Week!"
      ],
      "metadata": {
        "id": "x64p0C5Hx1yv"
      }
    },
    {
      "cell_type": "markdown",
      "source": [
        "### Bootstrapping\n",
        "\n",
        "Bootstrapping is re-sampling method that uses random sampling with replacement.\n",
        "\n",
        "You could try bootstrapping to see if it improves your outcomes for parametric testing."
      ],
      "metadata": {
        "id": "QugQixwaSW6r"
      }
    },
    {
      "cell_type": "code",
      "source": [
        "# write a function to implement bootstrapping\n",
        "def bootstrapping():\n",
        "    pass"
      ],
      "metadata": {
        "id": "aD3JdACFSWJH"
      },
      "execution_count": null,
      "outputs": []
    },
    {
      "cell_type": "code",
      "source": [
        "# test bootstrapping function\n",
        "assert True"
      ],
      "metadata": {
        "id": "EULFD7B9dPcc"
      },
      "execution_count": null,
      "outputs": []
    },
    {
      "cell_type": "markdown",
      "source": [
        "Now that you've got your bootstrapped samples, try running either a t-test or an ANOVA again."
      ],
      "metadata": {
        "id": "lSKk9m9HdaZE"
      }
    },
    {
      "cell_type": "code",
      "source": [
        "# re-run one of the test functions"
      ],
      "metadata": {
        "id": "4Esd2O0SdWHv"
      },
      "execution_count": null,
      "outputs": []
    },
    {
      "cell_type": "markdown",
      "metadata": {
        "id": "zph32U_0efWD"
      },
      "source": [
        "### [Optional] Get a Head Start on Next Week\n",
        "\n",
        "Technically, our data didn't meet all of the core assumptions for either t-test or ANOVA. This is a common problem you might run into on the job. Look up what to do in cases like this and implement a solution. Bonus points if you write the functions to prove your proposed solution meets the core assumptions of the test you use.\n"
      ]
    },
    {
      "cell_type": "code",
      "source": [
        "# uncomment the function below and add your sample size, treatment column name and outcome column name to get samples\n",
        "# samples = get_n_samples(\n",
        "#     data, <YOUR_SAMPLE_SIZE_HERE>, \"<TREATMENT_COLUMN_NAME_HERE>\", \"<OUTCOME_COLUMN_NAME_HERE>\"\n",
        "# )"
      ],
      "metadata": {
        "id": "hDqTTe5QrwTx"
      },
      "execution_count": null,
      "outputs": []
    },
    {
      "cell_type": "markdown",
      "source": [
        "🔎 Examine Assumptions"
      ],
      "metadata": {
        "id": "3G0YmB8dr3eC"
      }
    },
    {
      "cell_type": "code",
      "source": [
        "# write function(s) to test the assumptions of your non-parametric test\n",
        "def your_non_parametric_test_assumptions_function():\n",
        "    pass"
      ],
      "metadata": {
        "id": "IvAZ2uZGpzzg"
      },
      "execution_count": null,
      "outputs": []
    },
    {
      "cell_type": "code",
      "source": [
        "your_non_parametric_test_assumptions_function()"
      ],
      "metadata": {
        "id": "g8CTWat5ydJ3"
      },
      "execution_count": null,
      "outputs": []
    },
    {
      "cell_type": "markdown",
      "source": [
        "⚙️ Implement the Method"
      ],
      "metadata": {
        "id": "1mGdwoOXr-VX"
      }
    },
    {
      "cell_type": "code",
      "source": [
        "# write a non-parametric test function here\n",
        "def your_non_parametric_test_function():\n",
        "    pass"
      ],
      "metadata": {
        "id": "1n703ezXp08m"
      },
      "execution_count": null,
      "outputs": []
    },
    {
      "cell_type": "code",
      "source": [
        "your_non_parametric_test_function()"
      ],
      "metadata": {
        "id": "WsY1QlfoyeXP"
      },
      "execution_count": null,
      "outputs": []
    },
    {
      "cell_type": "markdown",
      "source": [
        "📈 Visualize the Results"
      ],
      "metadata": {
        "id": "YQfpRUTxsDZa"
      }
    },
    {
      "cell_type": "code",
      "source": [
        "# write a non-parametric test visualization here\n",
        "def your_non_parametric_visualization_function():\n",
        "    pass"
      ],
      "metadata": {
        "id": "WKhttrf4rWEm"
      },
      "execution_count": null,
      "outputs": []
    },
    {
      "cell_type": "code",
      "source": [
        "your_non_parametric_visualization_function()"
      ],
      "metadata": {
        "id": "BqPzkYzpygUv"
      },
      "execution_count": null,
      "outputs": []
    }
  ],
  "metadata": {
    "kernelspec": {
      "display_name": "Python 3.8.5 64-bit",
      "language": "python",
      "name": "python3"
    },
    "language_info": {
      "codemirror_mode": {
        "name": "ipython",
        "version": 3
      },
      "file_extension": ".py",
      "mimetype": "text/x-python",
      "name": "python",
      "nbconvert_exporter": "python",
      "pygments_lexer": "ipython3",
      "version": "3.8.5"
    },
    "orig_nbformat": 4,
    "vscode": {
      "interpreter": {
        "hash": "aee8b7b246df8f9039afb4144a1f6fd8d2ca17a180786b69acc140d282b71a49"
      }
    },
    "colab": {
      "provenance": []
    }
  },
  "nbformat": 4,
  "nbformat_minor": 0
}