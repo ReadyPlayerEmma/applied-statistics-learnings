{
  "cells": [
    {
      "cell_type": "markdown",
      "metadata": {
        "id": "kGc8tYh3Tu2s"
      },
      "source": [
        "# CostPro Customer Churn"
      ]
    },
    {
      "cell_type": "markdown",
      "metadata": {
        "id": "XJVztQB2Tu2t"
      },
      "source": [
        "🚨 **First things first! Make a copy of this notebook. Your changes will not save unless you create your own copy!**"
      ]
    },
    {
      "cell_type": "markdown",
      "metadata": {
        "id": "arYfVhbHTu2u"
      },
      "source": [
        "## 💡 Build Intuition\n",
        "\n",
        "As a junior data scientist at CostPro, you are approaching the problem of customer churn using non-parametric tests. These tests are useful because they do not make assumptions about the underlying distribution of the data, which is important in this case as the data may not meet the assumptions of parametric tests. For example, tests like chi-squared test or the Mann-Whitney U Test analyze the relationship between different features and customer churn. By using non-parametric tests you can have a deeper understanding of the factors that contribute to customer churn at CostPro and develop strategies to mitigate it."
      ]
    },
    {
      "cell_type": "markdown",
      "metadata": {
        "id": "WsGeUbOnTu2u"
      },
      "source": [
        "## 🚀 Project Jumpstart"
      ]
    },
    {
      "cell_type": "markdown",
      "metadata": {
        "id": "H98qrRHKTu2u"
      },
      "source": [
        "### Dependencies"
      ]
    },
    {
      "cell_type": "code",
      "execution_count": 84,
      "metadata": {
        "id": "HvyZeTHATu2u"
      },
      "outputs": [],
      "source": [
        "!pip install -qqq numpy pandas seaborn matplotlib gdown scipy"
      ]
    },
    {
      "cell_type": "code",
      "execution_count": 85,
      "metadata": {
        "id": "SLt9NFD2Tu2v"
      },
      "outputs": [],
      "source": [
        "import numpy as np\n",
        "import pandas as pd\n",
        "import seaborn as sns\n",
        "import matplotlib.pyplot as plt\n",
        "import scipy.stats as st\n",
        "import gdown\n",
        "from typing import List, Tuple, Dict, Callable, Optional"
      ]
    },
    {
      "cell_type": "code",
      "execution_count": 86,
      "metadata": {
        "id": "EZ7gPAtmTu2w"
      },
      "outputs": [],
      "source": [
        "# set the random seed\n",
        "random_seed = 43"
      ]
    },
    {
      "cell_type": "markdown",
      "metadata": {
        "id": "H6cdUJncTu2w"
      },
      "source": [
        "### 💾  Data"
      ]
    },
    {
      "cell_type": "markdown",
      "metadata": {
        "id": "bblSQS-NTu2w"
      },
      "source": [
        "**💡** Build Intuition: Be sure to check out the [data dictionary!](https://docs.google.com/spreadsheets/d/1qT_DIq7Brs3t-sUgFSvV8ZU37cAKSlIbAAgCcmxCd3w/edit?usp=sharing) It will help you build intuition about what data is available to you and how you might want to use it!"
      ]
    },
    {
      "cell_type": "markdown",
      "metadata": {
        "id": "9ncwtqt2Tu2w"
      },
      "source": [
        "#### Download the Data"
      ]
    },
    {
      "cell_type": "markdown",
      "source": [
        "Go to the shared link for the data, download it to your local machine, then upload it into colab via the files button on the left hand side. We appreciate your patience. There's an issue with file formatting when the file is imported with gdown.\n",
        "\n",
        "https://docs.google.com/spreadsheets/d/12vt6qCUZ8C_YWHnCQ6HR9iSXiLAOHWqNlBOOaBT9hqw/edit?usp=sharing"
      ],
      "metadata": {
        "id": "q22TcevuvgdD"
      }
    },
    {
      "cell_type": "code",
      "source": [
        "# save the file as churn_data.csv or change the name here!\n",
        "file_name = 'churn_data.csv'\n",
        "\n",
        "# Download the file from co:rise google drive\n",
        "unique_id = \"10_5NQX4h3I4bBE3P_rTSdeZJRHxmHrKP\"\n",
        "gdown.download(id=unique_id, output=file_name)"
      ],
      "metadata": {
        "id": "2B1sIiFPj8cG",
        "colab": {
          "base_uri": "https://localhost:8080/",
          "height": 100
        },
        "outputId": "90ceca4e-b2a4-4b87-c3ad-17362fb960c2"
      },
      "execution_count": 87,
      "outputs": [
        {
          "output_type": "stream",
          "name": "stderr",
          "text": [
            "Downloading...\n",
            "From: https://drive.google.com/uc?id=10_5NQX4h3I4bBE3P_rTSdeZJRHxmHrKP\n",
            "To: /content/churn_data.csv\n",
            "100%|██████████| 482k/482k [00:00<00:00, 18.3MB/s]\n"
          ]
        },
        {
          "output_type": "execute_result",
          "data": {
            "text/plain": [
              "'churn_data.csv'"
            ],
            "application/vnd.google.colaboratory.intrinsic+json": {
              "type": "string"
            }
          },
          "metadata": {},
          "execution_count": 87
        }
      ]
    },
    {
      "cell_type": "code",
      "execution_count": 88,
      "metadata": {
        "id": "hw1_H1N2Tu2x",
        "colab": {
          "base_uri": "https://localhost:8080/",
          "height": 221
        },
        "outputId": "71d58366-e0bc-466c-de0a-f3a2a5245861"
      },
      "outputs": [
        {
          "output_type": "execute_result",
          "data": {
            "text/plain": [
              "   CustomerID  Churn  Tenure PreferredLoginDevice  CityTier  WarehouseToHome  \\\n",
              "0       50001      1     4.0         Mobile Phone         3              6.0   \n",
              "1       50002      1     NaN                Phone         1              8.0   \n",
              "2       50003      1     NaN                Phone         1             30.0   \n",
              "3       50004      1     0.0                Phone         3             15.0   \n",
              "4       50005      1     0.0                Phone         1             12.0   \n",
              "\n",
              "  PreferredPaymentMode  Gender  HourSpendOnApp  NumberOfDeviceRegistered  \\\n",
              "0           Debit Card  Female             3.0                         3   \n",
              "1                  UPI    Male             3.0                         4   \n",
              "2           Debit Card    Male             2.0                         4   \n",
              "3           Debit Card    Male             2.0                         4   \n",
              "4                   CC    Male             NaN                         3   \n",
              "\n",
              "     PreferedOrderCat  SatisfactionScore MaritalStatus  NumberOfAddress  \\\n",
              "0  Laptop & Accessory                  2        Single                9   \n",
              "1              Mobile                  3        Single                7   \n",
              "2              Mobile                  3        Single                6   \n",
              "3  Laptop & Accessory                  5        Single                8   \n",
              "4              Mobile                  5        Single                3   \n",
              "\n",
              "   Complain  OrderAmountHikeFromlastYear  CouponUsed  OrderCount  \\\n",
              "0         1                         11.0         1.0         1.0   \n",
              "1         1                         15.0         0.0         1.0   \n",
              "2         1                         14.0         0.0         1.0   \n",
              "3         0                         23.0         0.0         1.0   \n",
              "4         0                         11.0         1.0         1.0   \n",
              "\n",
              "   DaySinceLastOrder  CashbackAmount  \n",
              "0                5.0             160  \n",
              "1                0.0             121  \n",
              "2                3.0             120  \n",
              "3                3.0             134  \n",
              "4                3.0             130  "
            ],
            "text/html": [
              "\n",
              "  <div id=\"df-2d176301-57b7-4ecc-9ad8-d6673dc8ea32\" class=\"colab-df-container\">\n",
              "    <div>\n",
              "<style scoped>\n",
              "    .dataframe tbody tr th:only-of-type {\n",
              "        vertical-align: middle;\n",
              "    }\n",
              "\n",
              "    .dataframe tbody tr th {\n",
              "        vertical-align: top;\n",
              "    }\n",
              "\n",
              "    .dataframe thead th {\n",
              "        text-align: right;\n",
              "    }\n",
              "</style>\n",
              "<table border=\"1\" class=\"dataframe\">\n",
              "  <thead>\n",
              "    <tr style=\"text-align: right;\">\n",
              "      <th></th>\n",
              "      <th>CustomerID</th>\n",
              "      <th>Churn</th>\n",
              "      <th>Tenure</th>\n",
              "      <th>PreferredLoginDevice</th>\n",
              "      <th>CityTier</th>\n",
              "      <th>WarehouseToHome</th>\n",
              "      <th>PreferredPaymentMode</th>\n",
              "      <th>Gender</th>\n",
              "      <th>HourSpendOnApp</th>\n",
              "      <th>NumberOfDeviceRegistered</th>\n",
              "      <th>PreferedOrderCat</th>\n",
              "      <th>SatisfactionScore</th>\n",
              "      <th>MaritalStatus</th>\n",
              "      <th>NumberOfAddress</th>\n",
              "      <th>Complain</th>\n",
              "      <th>OrderAmountHikeFromlastYear</th>\n",
              "      <th>CouponUsed</th>\n",
              "      <th>OrderCount</th>\n",
              "      <th>DaySinceLastOrder</th>\n",
              "      <th>CashbackAmount</th>\n",
              "    </tr>\n",
              "  </thead>\n",
              "  <tbody>\n",
              "    <tr>\n",
              "      <th>0</th>\n",
              "      <td>50001</td>\n",
              "      <td>1</td>\n",
              "      <td>4.0</td>\n",
              "      <td>Mobile Phone</td>\n",
              "      <td>3</td>\n",
              "      <td>6.0</td>\n",
              "      <td>Debit Card</td>\n",
              "      <td>Female</td>\n",
              "      <td>3.0</td>\n",
              "      <td>3</td>\n",
              "      <td>Laptop &amp; Accessory</td>\n",
              "      <td>2</td>\n",
              "      <td>Single</td>\n",
              "      <td>9</td>\n",
              "      <td>1</td>\n",
              "      <td>11.0</td>\n",
              "      <td>1.0</td>\n",
              "      <td>1.0</td>\n",
              "      <td>5.0</td>\n",
              "      <td>160</td>\n",
              "    </tr>\n",
              "    <tr>\n",
              "      <th>1</th>\n",
              "      <td>50002</td>\n",
              "      <td>1</td>\n",
              "      <td>NaN</td>\n",
              "      <td>Phone</td>\n",
              "      <td>1</td>\n",
              "      <td>8.0</td>\n",
              "      <td>UPI</td>\n",
              "      <td>Male</td>\n",
              "      <td>3.0</td>\n",
              "      <td>4</td>\n",
              "      <td>Mobile</td>\n",
              "      <td>3</td>\n",
              "      <td>Single</td>\n",
              "      <td>7</td>\n",
              "      <td>1</td>\n",
              "      <td>15.0</td>\n",
              "      <td>0.0</td>\n",
              "      <td>1.0</td>\n",
              "      <td>0.0</td>\n",
              "      <td>121</td>\n",
              "    </tr>\n",
              "    <tr>\n",
              "      <th>2</th>\n",
              "      <td>50003</td>\n",
              "      <td>1</td>\n",
              "      <td>NaN</td>\n",
              "      <td>Phone</td>\n",
              "      <td>1</td>\n",
              "      <td>30.0</td>\n",
              "      <td>Debit Card</td>\n",
              "      <td>Male</td>\n",
              "      <td>2.0</td>\n",
              "      <td>4</td>\n",
              "      <td>Mobile</td>\n",
              "      <td>3</td>\n",
              "      <td>Single</td>\n",
              "      <td>6</td>\n",
              "      <td>1</td>\n",
              "      <td>14.0</td>\n",
              "      <td>0.0</td>\n",
              "      <td>1.0</td>\n",
              "      <td>3.0</td>\n",
              "      <td>120</td>\n",
              "    </tr>\n",
              "    <tr>\n",
              "      <th>3</th>\n",
              "      <td>50004</td>\n",
              "      <td>1</td>\n",
              "      <td>0.0</td>\n",
              "      <td>Phone</td>\n",
              "      <td>3</td>\n",
              "      <td>15.0</td>\n",
              "      <td>Debit Card</td>\n",
              "      <td>Male</td>\n",
              "      <td>2.0</td>\n",
              "      <td>4</td>\n",
              "      <td>Laptop &amp; Accessory</td>\n",
              "      <td>5</td>\n",
              "      <td>Single</td>\n",
              "      <td>8</td>\n",
              "      <td>0</td>\n",
              "      <td>23.0</td>\n",
              "      <td>0.0</td>\n",
              "      <td>1.0</td>\n",
              "      <td>3.0</td>\n",
              "      <td>134</td>\n",
              "    </tr>\n",
              "    <tr>\n",
              "      <th>4</th>\n",
              "      <td>50005</td>\n",
              "      <td>1</td>\n",
              "      <td>0.0</td>\n",
              "      <td>Phone</td>\n",
              "      <td>1</td>\n",
              "      <td>12.0</td>\n",
              "      <td>CC</td>\n",
              "      <td>Male</td>\n",
              "      <td>NaN</td>\n",
              "      <td>3</td>\n",
              "      <td>Mobile</td>\n",
              "      <td>5</td>\n",
              "      <td>Single</td>\n",
              "      <td>3</td>\n",
              "      <td>0</td>\n",
              "      <td>11.0</td>\n",
              "      <td>1.0</td>\n",
              "      <td>1.0</td>\n",
              "      <td>3.0</td>\n",
              "      <td>130</td>\n",
              "    </tr>\n",
              "  </tbody>\n",
              "</table>\n",
              "</div>\n",
              "    <div class=\"colab-df-buttons\">\n",
              "\n",
              "  <div class=\"colab-df-container\">\n",
              "    <button class=\"colab-df-convert\" onclick=\"convertToInteractive('df-2d176301-57b7-4ecc-9ad8-d6673dc8ea32')\"\n",
              "            title=\"Convert this dataframe to an interactive table.\"\n",
              "            style=\"display:none;\">\n",
              "\n",
              "  <svg xmlns=\"http://www.w3.org/2000/svg\" height=\"24px\" viewBox=\"0 -960 960 960\">\n",
              "    <path d=\"M120-120v-720h720v720H120Zm60-500h600v-160H180v160Zm220 220h160v-160H400v160Zm0 220h160v-160H400v160ZM180-400h160v-160H180v160Zm440 0h160v-160H620v160ZM180-180h160v-160H180v160Zm440 0h160v-160H620v160Z\"/>\n",
              "  </svg>\n",
              "    </button>\n",
              "\n",
              "  <style>\n",
              "    .colab-df-container {\n",
              "      display:flex;\n",
              "      gap: 12px;\n",
              "    }\n",
              "\n",
              "    .colab-df-convert {\n",
              "      background-color: #E8F0FE;\n",
              "      border: none;\n",
              "      border-radius: 50%;\n",
              "      cursor: pointer;\n",
              "      display: none;\n",
              "      fill: #1967D2;\n",
              "      height: 32px;\n",
              "      padding: 0 0 0 0;\n",
              "      width: 32px;\n",
              "    }\n",
              "\n",
              "    .colab-df-convert:hover {\n",
              "      background-color: #E2EBFA;\n",
              "      box-shadow: 0px 1px 2px rgba(60, 64, 67, 0.3), 0px 1px 3px 1px rgba(60, 64, 67, 0.15);\n",
              "      fill: #174EA6;\n",
              "    }\n",
              "\n",
              "    .colab-df-buttons div {\n",
              "      margin-bottom: 4px;\n",
              "    }\n",
              "\n",
              "    [theme=dark] .colab-df-convert {\n",
              "      background-color: #3B4455;\n",
              "      fill: #D2E3FC;\n",
              "    }\n",
              "\n",
              "    [theme=dark] .colab-df-convert:hover {\n",
              "      background-color: #434B5C;\n",
              "      box-shadow: 0px 1px 3px 1px rgba(0, 0, 0, 0.15);\n",
              "      filter: drop-shadow(0px 1px 2px rgba(0, 0, 0, 0.3));\n",
              "      fill: #FFFFFF;\n",
              "    }\n",
              "  </style>\n",
              "\n",
              "    <script>\n",
              "      const buttonEl =\n",
              "        document.querySelector('#df-2d176301-57b7-4ecc-9ad8-d6673dc8ea32 button.colab-df-convert');\n",
              "      buttonEl.style.display =\n",
              "        google.colab.kernel.accessAllowed ? 'block' : 'none';\n",
              "\n",
              "      async function convertToInteractive(key) {\n",
              "        const element = document.querySelector('#df-2d176301-57b7-4ecc-9ad8-d6673dc8ea32');\n",
              "        const dataTable =\n",
              "          await google.colab.kernel.invokeFunction('convertToInteractive',\n",
              "                                                    [key], {});\n",
              "        if (!dataTable) return;\n",
              "\n",
              "        const docLinkHtml = 'Like what you see? Visit the ' +\n",
              "          '<a target=\"_blank\" href=https://colab.research.google.com/notebooks/data_table.ipynb>data table notebook</a>'\n",
              "          + ' to learn more about interactive tables.';\n",
              "        element.innerHTML = '';\n",
              "        dataTable['output_type'] = 'display_data';\n",
              "        await google.colab.output.renderOutput(dataTable, element);\n",
              "        const docLink = document.createElement('div');\n",
              "        docLink.innerHTML = docLinkHtml;\n",
              "        element.appendChild(docLink);\n",
              "      }\n",
              "    </script>\n",
              "  </div>\n",
              "\n",
              "\n",
              "<div id=\"df-ff5701be-409e-49a0-964d-e88621476ace\">\n",
              "  <button class=\"colab-df-quickchart\" onclick=\"quickchart('df-ff5701be-409e-49a0-964d-e88621476ace')\"\n",
              "            title=\"Suggest charts.\"\n",
              "            style=\"display:none;\">\n",
              "\n",
              "<svg xmlns=\"http://www.w3.org/2000/svg\" height=\"24px\"viewBox=\"0 0 24 24\"\n",
              "     width=\"24px\">\n",
              "    <g>\n",
              "        <path d=\"M19 3H5c-1.1 0-2 .9-2 2v14c0 1.1.9 2 2 2h14c1.1 0 2-.9 2-2V5c0-1.1-.9-2-2-2zM9 17H7v-7h2v7zm4 0h-2V7h2v10zm4 0h-2v-4h2v4z\"/>\n",
              "    </g>\n",
              "</svg>\n",
              "  </button>\n",
              "\n",
              "<style>\n",
              "  .colab-df-quickchart {\n",
              "      --bg-color: #E8F0FE;\n",
              "      --fill-color: #1967D2;\n",
              "      --hover-bg-color: #E2EBFA;\n",
              "      --hover-fill-color: #174EA6;\n",
              "      --disabled-fill-color: #AAA;\n",
              "      --disabled-bg-color: #DDD;\n",
              "  }\n",
              "\n",
              "  [theme=dark] .colab-df-quickchart {\n",
              "      --bg-color: #3B4455;\n",
              "      --fill-color: #D2E3FC;\n",
              "      --hover-bg-color: #434B5C;\n",
              "      --hover-fill-color: #FFFFFF;\n",
              "      --disabled-bg-color: #3B4455;\n",
              "      --disabled-fill-color: #666;\n",
              "  }\n",
              "\n",
              "  .colab-df-quickchart {\n",
              "    background-color: var(--bg-color);\n",
              "    border: none;\n",
              "    border-radius: 50%;\n",
              "    cursor: pointer;\n",
              "    display: none;\n",
              "    fill: var(--fill-color);\n",
              "    height: 32px;\n",
              "    padding: 0;\n",
              "    width: 32px;\n",
              "  }\n",
              "\n",
              "  .colab-df-quickchart:hover {\n",
              "    background-color: var(--hover-bg-color);\n",
              "    box-shadow: 0 1px 2px rgba(60, 64, 67, 0.3), 0 1px 3px 1px rgba(60, 64, 67, 0.15);\n",
              "    fill: var(--button-hover-fill-color);\n",
              "  }\n",
              "\n",
              "  .colab-df-quickchart-complete:disabled,\n",
              "  .colab-df-quickchart-complete:disabled:hover {\n",
              "    background-color: var(--disabled-bg-color);\n",
              "    fill: var(--disabled-fill-color);\n",
              "    box-shadow: none;\n",
              "  }\n",
              "\n",
              "  .colab-df-spinner {\n",
              "    border: 2px solid var(--fill-color);\n",
              "    border-color: transparent;\n",
              "    border-bottom-color: var(--fill-color);\n",
              "    animation:\n",
              "      spin 1s steps(1) infinite;\n",
              "  }\n",
              "\n",
              "  @keyframes spin {\n",
              "    0% {\n",
              "      border-color: transparent;\n",
              "      border-bottom-color: var(--fill-color);\n",
              "      border-left-color: var(--fill-color);\n",
              "    }\n",
              "    20% {\n",
              "      border-color: transparent;\n",
              "      border-left-color: var(--fill-color);\n",
              "      border-top-color: var(--fill-color);\n",
              "    }\n",
              "    30% {\n",
              "      border-color: transparent;\n",
              "      border-left-color: var(--fill-color);\n",
              "      border-top-color: var(--fill-color);\n",
              "      border-right-color: var(--fill-color);\n",
              "    }\n",
              "    40% {\n",
              "      border-color: transparent;\n",
              "      border-right-color: var(--fill-color);\n",
              "      border-top-color: var(--fill-color);\n",
              "    }\n",
              "    60% {\n",
              "      border-color: transparent;\n",
              "      border-right-color: var(--fill-color);\n",
              "    }\n",
              "    80% {\n",
              "      border-color: transparent;\n",
              "      border-right-color: var(--fill-color);\n",
              "      border-bottom-color: var(--fill-color);\n",
              "    }\n",
              "    90% {\n",
              "      border-color: transparent;\n",
              "      border-bottom-color: var(--fill-color);\n",
              "    }\n",
              "  }\n",
              "</style>\n",
              "\n",
              "  <script>\n",
              "    async function quickchart(key) {\n",
              "      const quickchartButtonEl =\n",
              "        document.querySelector('#' + key + ' button');\n",
              "      quickchartButtonEl.disabled = true;  // To prevent multiple clicks.\n",
              "      quickchartButtonEl.classList.add('colab-df-spinner');\n",
              "      try {\n",
              "        const charts = await google.colab.kernel.invokeFunction(\n",
              "            'suggestCharts', [key], {});\n",
              "      } catch (error) {\n",
              "        console.error('Error during call to suggestCharts:', error);\n",
              "      }\n",
              "      quickchartButtonEl.classList.remove('colab-df-spinner');\n",
              "      quickchartButtonEl.classList.add('colab-df-quickchart-complete');\n",
              "    }\n",
              "    (() => {\n",
              "      let quickchartButtonEl =\n",
              "        document.querySelector('#df-ff5701be-409e-49a0-964d-e88621476ace button');\n",
              "      quickchartButtonEl.style.display =\n",
              "        google.colab.kernel.accessAllowed ? 'block' : 'none';\n",
              "    })();\n",
              "  </script>\n",
              "</div>\n",
              "    </div>\n",
              "  </div>\n"
            ]
          },
          "metadata": {},
          "execution_count": 88
        }
      ],
      "source": [
        "# import data and show first 5 rows\n",
        "data = pd.read_csv(file_name)\n",
        "data.head()"
      ]
    },
    {
      "cell_type": "markdown",
      "metadata": {
        "id": "ypfLAib-Tu2x"
      },
      "source": [
        "#### Data Exploration"
      ]
    },
    {
      "cell_type": "code",
      "execution_count": 89,
      "metadata": {
        "id": "qmnkkqqbTu2x",
        "colab": {
          "base_uri": "https://localhost:8080/"
        },
        "outputId": "196eb32f-0252-4ad7-fa46-7ebda4915e76"
      },
      "outputs": [
        {
          "output_type": "execute_result",
          "data": {
            "text/plain": [
              "(5630, 20)"
            ]
          },
          "metadata": {},
          "execution_count": 89
        }
      ],
      "source": [
        "data.shape"
      ]
    },
    {
      "cell_type": "code",
      "execution_count": 90,
      "metadata": {
        "id": "AfwkFIM7Tu2x",
        "colab": {
          "base_uri": "https://localhost:8080/"
        },
        "outputId": "27192afb-d3d5-4579-dccc-b1a402ae0efd"
      },
      "outputs": [
        {
          "output_type": "stream",
          "name": "stdout",
          "text": [
            "<class 'pandas.core.frame.DataFrame'>\n",
            "RangeIndex: 5630 entries, 0 to 5629\n",
            "Data columns (total 20 columns):\n",
            " #   Column                       Non-Null Count  Dtype  \n",
            "---  ------                       --------------  -----  \n",
            " 0   CustomerID                   5630 non-null   int64  \n",
            " 1   Churn                        5630 non-null   int64  \n",
            " 2   Tenure                       5366 non-null   float64\n",
            " 3   PreferredLoginDevice         5630 non-null   object \n",
            " 4   CityTier                     5630 non-null   int64  \n",
            " 5   WarehouseToHome              5379 non-null   float64\n",
            " 6   PreferredPaymentMode         5630 non-null   object \n",
            " 7   Gender                       5630 non-null   object \n",
            " 8   HourSpendOnApp               5375 non-null   float64\n",
            " 9   NumberOfDeviceRegistered     5630 non-null   int64  \n",
            " 10  PreferedOrderCat             5630 non-null   object \n",
            " 11  SatisfactionScore            5630 non-null   int64  \n",
            " 12  MaritalStatus                5630 non-null   object \n",
            " 13  NumberOfAddress              5630 non-null   int64  \n",
            " 14  Complain                     5630 non-null   int64  \n",
            " 15  OrderAmountHikeFromlastYear  5365 non-null   float64\n",
            " 16  CouponUsed                   5374 non-null   float64\n",
            " 17  OrderCount                   5372 non-null   float64\n",
            " 18  DaySinceLastOrder            5323 non-null   float64\n",
            " 19  CashbackAmount               5630 non-null   int64  \n",
            "dtypes: float64(7), int64(8), object(5)\n",
            "memory usage: 879.8+ KB\n"
          ]
        }
      ],
      "source": [
        "data.info()"
      ]
    },
    {
      "cell_type": "code",
      "execution_count": 91,
      "metadata": {
        "id": "MD1KTfBHTu2x",
        "colab": {
          "base_uri": "https://localhost:8080/",
          "height": 504
        },
        "outputId": "0ae826ea-c660-4b86-f835-b684f2f2d671"
      },
      "outputs": [
        {
          "output_type": "execute_result",
          "data": {
            "text/plain": [
              "                              count          mean          std      min  \\\n",
              "CustomerID                   5630.0  52815.500000  1625.385339  50001.0   \n",
              "Churn                        5630.0      0.168384     0.374240      0.0   \n",
              "Tenure                       5366.0     10.189899     8.557241      0.0   \n",
              "CityTier                     5630.0      1.654707     0.915389      1.0   \n",
              "WarehouseToHome              5379.0     15.639896     8.531475      5.0   \n",
              "HourSpendOnApp               5375.0      2.931535     0.721926      0.0   \n",
              "NumberOfDeviceRegistered     5630.0      3.688988     1.023999      1.0   \n",
              "SatisfactionScore            5630.0      3.066785     1.380194      1.0   \n",
              "NumberOfAddress              5630.0      4.214032     2.583586      1.0   \n",
              "Complain                     5630.0      0.284902     0.451408      0.0   \n",
              "OrderAmountHikeFromlastYear  5365.0     15.707922     3.675485     11.0   \n",
              "CouponUsed                   5374.0      1.751023     1.894621      0.0   \n",
              "OrderCount                   5372.0      3.008004     2.939680      1.0   \n",
              "DaySinceLastOrder            5323.0      4.543491     3.654433      0.0   \n",
              "CashbackAmount               5630.0    177.221492    49.193869      0.0   \n",
              "\n",
              "                                  25%      50%       75%      max  \n",
              "CustomerID                   51408.25  52815.5  54222.75  55630.0  \n",
              "Churn                            0.00      0.0      0.00      1.0  \n",
              "Tenure                           2.00      9.0     16.00     61.0  \n",
              "CityTier                         1.00      1.0      3.00      3.0  \n",
              "WarehouseToHome                  9.00     14.0     20.00    127.0  \n",
              "HourSpendOnApp                   2.00      3.0      3.00      5.0  \n",
              "NumberOfDeviceRegistered         3.00      4.0      4.00      6.0  \n",
              "SatisfactionScore                2.00      3.0      4.00      5.0  \n",
              "NumberOfAddress                  2.00      3.0      6.00     22.0  \n",
              "Complain                         0.00      0.0      1.00      1.0  \n",
              "OrderAmountHikeFromlastYear     13.00     15.0     18.00     26.0  \n",
              "CouponUsed                       1.00      1.0      2.00     16.0  \n",
              "OrderCount                       1.00      2.0      3.00     16.0  \n",
              "DaySinceLastOrder                2.00      3.0      7.00     46.0  \n",
              "CashbackAmount                 146.00    163.0    196.00    325.0  "
            ],
            "text/html": [
              "\n",
              "  <div id=\"df-44676f71-c35e-4fc9-af0d-630881d4d881\" class=\"colab-df-container\">\n",
              "    <div>\n",
              "<style scoped>\n",
              "    .dataframe tbody tr th:only-of-type {\n",
              "        vertical-align: middle;\n",
              "    }\n",
              "\n",
              "    .dataframe tbody tr th {\n",
              "        vertical-align: top;\n",
              "    }\n",
              "\n",
              "    .dataframe thead th {\n",
              "        text-align: right;\n",
              "    }\n",
              "</style>\n",
              "<table border=\"1\" class=\"dataframe\">\n",
              "  <thead>\n",
              "    <tr style=\"text-align: right;\">\n",
              "      <th></th>\n",
              "      <th>count</th>\n",
              "      <th>mean</th>\n",
              "      <th>std</th>\n",
              "      <th>min</th>\n",
              "      <th>25%</th>\n",
              "      <th>50%</th>\n",
              "      <th>75%</th>\n",
              "      <th>max</th>\n",
              "    </tr>\n",
              "  </thead>\n",
              "  <tbody>\n",
              "    <tr>\n",
              "      <th>CustomerID</th>\n",
              "      <td>5630.0</td>\n",
              "      <td>52815.500000</td>\n",
              "      <td>1625.385339</td>\n",
              "      <td>50001.0</td>\n",
              "      <td>51408.25</td>\n",
              "      <td>52815.5</td>\n",
              "      <td>54222.75</td>\n",
              "      <td>55630.0</td>\n",
              "    </tr>\n",
              "    <tr>\n",
              "      <th>Churn</th>\n",
              "      <td>5630.0</td>\n",
              "      <td>0.168384</td>\n",
              "      <td>0.374240</td>\n",
              "      <td>0.0</td>\n",
              "      <td>0.00</td>\n",
              "      <td>0.0</td>\n",
              "      <td>0.00</td>\n",
              "      <td>1.0</td>\n",
              "    </tr>\n",
              "    <tr>\n",
              "      <th>Tenure</th>\n",
              "      <td>5366.0</td>\n",
              "      <td>10.189899</td>\n",
              "      <td>8.557241</td>\n",
              "      <td>0.0</td>\n",
              "      <td>2.00</td>\n",
              "      <td>9.0</td>\n",
              "      <td>16.00</td>\n",
              "      <td>61.0</td>\n",
              "    </tr>\n",
              "    <tr>\n",
              "      <th>CityTier</th>\n",
              "      <td>5630.0</td>\n",
              "      <td>1.654707</td>\n",
              "      <td>0.915389</td>\n",
              "      <td>1.0</td>\n",
              "      <td>1.00</td>\n",
              "      <td>1.0</td>\n",
              "      <td>3.00</td>\n",
              "      <td>3.0</td>\n",
              "    </tr>\n",
              "    <tr>\n",
              "      <th>WarehouseToHome</th>\n",
              "      <td>5379.0</td>\n",
              "      <td>15.639896</td>\n",
              "      <td>8.531475</td>\n",
              "      <td>5.0</td>\n",
              "      <td>9.00</td>\n",
              "      <td>14.0</td>\n",
              "      <td>20.00</td>\n",
              "      <td>127.0</td>\n",
              "    </tr>\n",
              "    <tr>\n",
              "      <th>HourSpendOnApp</th>\n",
              "      <td>5375.0</td>\n",
              "      <td>2.931535</td>\n",
              "      <td>0.721926</td>\n",
              "      <td>0.0</td>\n",
              "      <td>2.00</td>\n",
              "      <td>3.0</td>\n",
              "      <td>3.00</td>\n",
              "      <td>5.0</td>\n",
              "    </tr>\n",
              "    <tr>\n",
              "      <th>NumberOfDeviceRegistered</th>\n",
              "      <td>5630.0</td>\n",
              "      <td>3.688988</td>\n",
              "      <td>1.023999</td>\n",
              "      <td>1.0</td>\n",
              "      <td>3.00</td>\n",
              "      <td>4.0</td>\n",
              "      <td>4.00</td>\n",
              "      <td>6.0</td>\n",
              "    </tr>\n",
              "    <tr>\n",
              "      <th>SatisfactionScore</th>\n",
              "      <td>5630.0</td>\n",
              "      <td>3.066785</td>\n",
              "      <td>1.380194</td>\n",
              "      <td>1.0</td>\n",
              "      <td>2.00</td>\n",
              "      <td>3.0</td>\n",
              "      <td>4.00</td>\n",
              "      <td>5.0</td>\n",
              "    </tr>\n",
              "    <tr>\n",
              "      <th>NumberOfAddress</th>\n",
              "      <td>5630.0</td>\n",
              "      <td>4.214032</td>\n",
              "      <td>2.583586</td>\n",
              "      <td>1.0</td>\n",
              "      <td>2.00</td>\n",
              "      <td>3.0</td>\n",
              "      <td>6.00</td>\n",
              "      <td>22.0</td>\n",
              "    </tr>\n",
              "    <tr>\n",
              "      <th>Complain</th>\n",
              "      <td>5630.0</td>\n",
              "      <td>0.284902</td>\n",
              "      <td>0.451408</td>\n",
              "      <td>0.0</td>\n",
              "      <td>0.00</td>\n",
              "      <td>0.0</td>\n",
              "      <td>1.00</td>\n",
              "      <td>1.0</td>\n",
              "    </tr>\n",
              "    <tr>\n",
              "      <th>OrderAmountHikeFromlastYear</th>\n",
              "      <td>5365.0</td>\n",
              "      <td>15.707922</td>\n",
              "      <td>3.675485</td>\n",
              "      <td>11.0</td>\n",
              "      <td>13.00</td>\n",
              "      <td>15.0</td>\n",
              "      <td>18.00</td>\n",
              "      <td>26.0</td>\n",
              "    </tr>\n",
              "    <tr>\n",
              "      <th>CouponUsed</th>\n",
              "      <td>5374.0</td>\n",
              "      <td>1.751023</td>\n",
              "      <td>1.894621</td>\n",
              "      <td>0.0</td>\n",
              "      <td>1.00</td>\n",
              "      <td>1.0</td>\n",
              "      <td>2.00</td>\n",
              "      <td>16.0</td>\n",
              "    </tr>\n",
              "    <tr>\n",
              "      <th>OrderCount</th>\n",
              "      <td>5372.0</td>\n",
              "      <td>3.008004</td>\n",
              "      <td>2.939680</td>\n",
              "      <td>1.0</td>\n",
              "      <td>1.00</td>\n",
              "      <td>2.0</td>\n",
              "      <td>3.00</td>\n",
              "      <td>16.0</td>\n",
              "    </tr>\n",
              "    <tr>\n",
              "      <th>DaySinceLastOrder</th>\n",
              "      <td>5323.0</td>\n",
              "      <td>4.543491</td>\n",
              "      <td>3.654433</td>\n",
              "      <td>0.0</td>\n",
              "      <td>2.00</td>\n",
              "      <td>3.0</td>\n",
              "      <td>7.00</td>\n",
              "      <td>46.0</td>\n",
              "    </tr>\n",
              "    <tr>\n",
              "      <th>CashbackAmount</th>\n",
              "      <td>5630.0</td>\n",
              "      <td>177.221492</td>\n",
              "      <td>49.193869</td>\n",
              "      <td>0.0</td>\n",
              "      <td>146.00</td>\n",
              "      <td>163.0</td>\n",
              "      <td>196.00</td>\n",
              "      <td>325.0</td>\n",
              "    </tr>\n",
              "  </tbody>\n",
              "</table>\n",
              "</div>\n",
              "    <div class=\"colab-df-buttons\">\n",
              "\n",
              "  <div class=\"colab-df-container\">\n",
              "    <button class=\"colab-df-convert\" onclick=\"convertToInteractive('df-44676f71-c35e-4fc9-af0d-630881d4d881')\"\n",
              "            title=\"Convert this dataframe to an interactive table.\"\n",
              "            style=\"display:none;\">\n",
              "\n",
              "  <svg xmlns=\"http://www.w3.org/2000/svg\" height=\"24px\" viewBox=\"0 -960 960 960\">\n",
              "    <path d=\"M120-120v-720h720v720H120Zm60-500h600v-160H180v160Zm220 220h160v-160H400v160Zm0 220h160v-160H400v160ZM180-400h160v-160H180v160Zm440 0h160v-160H620v160ZM180-180h160v-160H180v160Zm440 0h160v-160H620v160Z\"/>\n",
              "  </svg>\n",
              "    </button>\n",
              "\n",
              "  <style>\n",
              "    .colab-df-container {\n",
              "      display:flex;\n",
              "      gap: 12px;\n",
              "    }\n",
              "\n",
              "    .colab-df-convert {\n",
              "      background-color: #E8F0FE;\n",
              "      border: none;\n",
              "      border-radius: 50%;\n",
              "      cursor: pointer;\n",
              "      display: none;\n",
              "      fill: #1967D2;\n",
              "      height: 32px;\n",
              "      padding: 0 0 0 0;\n",
              "      width: 32px;\n",
              "    }\n",
              "\n",
              "    .colab-df-convert:hover {\n",
              "      background-color: #E2EBFA;\n",
              "      box-shadow: 0px 1px 2px rgba(60, 64, 67, 0.3), 0px 1px 3px 1px rgba(60, 64, 67, 0.15);\n",
              "      fill: #174EA6;\n",
              "    }\n",
              "\n",
              "    .colab-df-buttons div {\n",
              "      margin-bottom: 4px;\n",
              "    }\n",
              "\n",
              "    [theme=dark] .colab-df-convert {\n",
              "      background-color: #3B4455;\n",
              "      fill: #D2E3FC;\n",
              "    }\n",
              "\n",
              "    [theme=dark] .colab-df-convert:hover {\n",
              "      background-color: #434B5C;\n",
              "      box-shadow: 0px 1px 3px 1px rgba(0, 0, 0, 0.15);\n",
              "      filter: drop-shadow(0px 1px 2px rgba(0, 0, 0, 0.3));\n",
              "      fill: #FFFFFF;\n",
              "    }\n",
              "  </style>\n",
              "\n",
              "    <script>\n",
              "      const buttonEl =\n",
              "        document.querySelector('#df-44676f71-c35e-4fc9-af0d-630881d4d881 button.colab-df-convert');\n",
              "      buttonEl.style.display =\n",
              "        google.colab.kernel.accessAllowed ? 'block' : 'none';\n",
              "\n",
              "      async function convertToInteractive(key) {\n",
              "        const element = document.querySelector('#df-44676f71-c35e-4fc9-af0d-630881d4d881');\n",
              "        const dataTable =\n",
              "          await google.colab.kernel.invokeFunction('convertToInteractive',\n",
              "                                                    [key], {});\n",
              "        if (!dataTable) return;\n",
              "\n",
              "        const docLinkHtml = 'Like what you see? Visit the ' +\n",
              "          '<a target=\"_blank\" href=https://colab.research.google.com/notebooks/data_table.ipynb>data table notebook</a>'\n",
              "          + ' to learn more about interactive tables.';\n",
              "        element.innerHTML = '';\n",
              "        dataTable['output_type'] = 'display_data';\n",
              "        await google.colab.output.renderOutput(dataTable, element);\n",
              "        const docLink = document.createElement('div');\n",
              "        docLink.innerHTML = docLinkHtml;\n",
              "        element.appendChild(docLink);\n",
              "      }\n",
              "    </script>\n",
              "  </div>\n",
              "\n",
              "\n",
              "<div id=\"df-1587442c-8960-473d-b0ff-92135d7921c1\">\n",
              "  <button class=\"colab-df-quickchart\" onclick=\"quickchart('df-1587442c-8960-473d-b0ff-92135d7921c1')\"\n",
              "            title=\"Suggest charts.\"\n",
              "            style=\"display:none;\">\n",
              "\n",
              "<svg xmlns=\"http://www.w3.org/2000/svg\" height=\"24px\"viewBox=\"0 0 24 24\"\n",
              "     width=\"24px\">\n",
              "    <g>\n",
              "        <path d=\"M19 3H5c-1.1 0-2 .9-2 2v14c0 1.1.9 2 2 2h14c1.1 0 2-.9 2-2V5c0-1.1-.9-2-2-2zM9 17H7v-7h2v7zm4 0h-2V7h2v10zm4 0h-2v-4h2v4z\"/>\n",
              "    </g>\n",
              "</svg>\n",
              "  </button>\n",
              "\n",
              "<style>\n",
              "  .colab-df-quickchart {\n",
              "      --bg-color: #E8F0FE;\n",
              "      --fill-color: #1967D2;\n",
              "      --hover-bg-color: #E2EBFA;\n",
              "      --hover-fill-color: #174EA6;\n",
              "      --disabled-fill-color: #AAA;\n",
              "      --disabled-bg-color: #DDD;\n",
              "  }\n",
              "\n",
              "  [theme=dark] .colab-df-quickchart {\n",
              "      --bg-color: #3B4455;\n",
              "      --fill-color: #D2E3FC;\n",
              "      --hover-bg-color: #434B5C;\n",
              "      --hover-fill-color: #FFFFFF;\n",
              "      --disabled-bg-color: #3B4455;\n",
              "      --disabled-fill-color: #666;\n",
              "  }\n",
              "\n",
              "  .colab-df-quickchart {\n",
              "    background-color: var(--bg-color);\n",
              "    border: none;\n",
              "    border-radius: 50%;\n",
              "    cursor: pointer;\n",
              "    display: none;\n",
              "    fill: var(--fill-color);\n",
              "    height: 32px;\n",
              "    padding: 0;\n",
              "    width: 32px;\n",
              "  }\n",
              "\n",
              "  .colab-df-quickchart:hover {\n",
              "    background-color: var(--hover-bg-color);\n",
              "    box-shadow: 0 1px 2px rgba(60, 64, 67, 0.3), 0 1px 3px 1px rgba(60, 64, 67, 0.15);\n",
              "    fill: var(--button-hover-fill-color);\n",
              "  }\n",
              "\n",
              "  .colab-df-quickchart-complete:disabled,\n",
              "  .colab-df-quickchart-complete:disabled:hover {\n",
              "    background-color: var(--disabled-bg-color);\n",
              "    fill: var(--disabled-fill-color);\n",
              "    box-shadow: none;\n",
              "  }\n",
              "\n",
              "  .colab-df-spinner {\n",
              "    border: 2px solid var(--fill-color);\n",
              "    border-color: transparent;\n",
              "    border-bottom-color: var(--fill-color);\n",
              "    animation:\n",
              "      spin 1s steps(1) infinite;\n",
              "  }\n",
              "\n",
              "  @keyframes spin {\n",
              "    0% {\n",
              "      border-color: transparent;\n",
              "      border-bottom-color: var(--fill-color);\n",
              "      border-left-color: var(--fill-color);\n",
              "    }\n",
              "    20% {\n",
              "      border-color: transparent;\n",
              "      border-left-color: var(--fill-color);\n",
              "      border-top-color: var(--fill-color);\n",
              "    }\n",
              "    30% {\n",
              "      border-color: transparent;\n",
              "      border-left-color: var(--fill-color);\n",
              "      border-top-color: var(--fill-color);\n",
              "      border-right-color: var(--fill-color);\n",
              "    }\n",
              "    40% {\n",
              "      border-color: transparent;\n",
              "      border-right-color: var(--fill-color);\n",
              "      border-top-color: var(--fill-color);\n",
              "    }\n",
              "    60% {\n",
              "      border-color: transparent;\n",
              "      border-right-color: var(--fill-color);\n",
              "    }\n",
              "    80% {\n",
              "      border-color: transparent;\n",
              "      border-right-color: var(--fill-color);\n",
              "      border-bottom-color: var(--fill-color);\n",
              "    }\n",
              "    90% {\n",
              "      border-color: transparent;\n",
              "      border-bottom-color: var(--fill-color);\n",
              "    }\n",
              "  }\n",
              "</style>\n",
              "\n",
              "  <script>\n",
              "    async function quickchart(key) {\n",
              "      const quickchartButtonEl =\n",
              "        document.querySelector('#' + key + ' button');\n",
              "      quickchartButtonEl.disabled = true;  // To prevent multiple clicks.\n",
              "      quickchartButtonEl.classList.add('colab-df-spinner');\n",
              "      try {\n",
              "        const charts = await google.colab.kernel.invokeFunction(\n",
              "            'suggestCharts', [key], {});\n",
              "      } catch (error) {\n",
              "        console.error('Error during call to suggestCharts:', error);\n",
              "      }\n",
              "      quickchartButtonEl.classList.remove('colab-df-spinner');\n",
              "      quickchartButtonEl.classList.add('colab-df-quickchart-complete');\n",
              "    }\n",
              "    (() => {\n",
              "      let quickchartButtonEl =\n",
              "        document.querySelector('#df-1587442c-8960-473d-b0ff-92135d7921c1 button');\n",
              "      quickchartButtonEl.style.display =\n",
              "        google.colab.kernel.accessAllowed ? 'block' : 'none';\n",
              "    })();\n",
              "  </script>\n",
              "</div>\n",
              "    </div>\n",
              "  </div>\n"
            ]
          },
          "metadata": {},
          "execution_count": 91
        }
      ],
      "source": [
        "data.describe().T"
      ]
    },
    {
      "cell_type": "code",
      "execution_count": 92,
      "metadata": {
        "id": "OUiPiCeeTu2x",
        "colab": {
          "base_uri": "https://localhost:8080/"
        },
        "outputId": "e0c0d24a-75cb-40a1-8932-1bc918b5b426"
      },
      "outputs": [
        {
          "output_type": "execute_result",
          "data": {
            "text/plain": [
              "CustomerID                       0\n",
              "Churn                            0\n",
              "Tenure                         264\n",
              "PreferredLoginDevice             0\n",
              "CityTier                         0\n",
              "WarehouseToHome                251\n",
              "PreferredPaymentMode             0\n",
              "Gender                           0\n",
              "HourSpendOnApp                 255\n",
              "NumberOfDeviceRegistered         0\n",
              "PreferedOrderCat                 0\n",
              "SatisfactionScore                0\n",
              "MaritalStatus                    0\n",
              "NumberOfAddress                  0\n",
              "Complain                         0\n",
              "OrderAmountHikeFromlastYear    265\n",
              "CouponUsed                     256\n",
              "OrderCount                     258\n",
              "DaySinceLastOrder              307\n",
              "CashbackAmount                   0\n",
              "dtype: int64"
            ]
          },
          "metadata": {},
          "execution_count": 92
        }
      ],
      "source": [
        "# check for null values\n",
        "data.isnull().sum(axis=0)"
      ]
    },
    {
      "cell_type": "code",
      "execution_count": 93,
      "metadata": {
        "id": "0qLJOw0-Tu2y"
      },
      "outputs": [],
      "source": [
        "# drop the null values\n",
        "data.dropna(inplace=True)"
      ]
    },
    {
      "cell_type": "code",
      "execution_count": 94,
      "metadata": {
        "id": "pfZeiDm9Tu2y",
        "colab": {
          "base_uri": "https://localhost:8080/"
        },
        "outputId": "3df9bfca-3cec-457b-e71c-c885bb765b1e"
      },
      "outputs": [
        {
          "output_type": "execute_result",
          "data": {
            "text/plain": [
              "CustomerID                     0\n",
              "Churn                          0\n",
              "Tenure                         0\n",
              "PreferredLoginDevice           0\n",
              "CityTier                       0\n",
              "WarehouseToHome                0\n",
              "PreferredPaymentMode           0\n",
              "Gender                         0\n",
              "HourSpendOnApp                 0\n",
              "NumberOfDeviceRegistered       0\n",
              "PreferedOrderCat               0\n",
              "SatisfactionScore              0\n",
              "MaritalStatus                  0\n",
              "NumberOfAddress                0\n",
              "Complain                       0\n",
              "OrderAmountHikeFromlastYear    0\n",
              "CouponUsed                     0\n",
              "OrderCount                     0\n",
              "DaySinceLastOrder              0\n",
              "CashbackAmount                 0\n",
              "dtype: int64"
            ]
          },
          "metadata": {},
          "execution_count": 94
        }
      ],
      "source": [
        "# check for null values again (optionally: use an assert statemetn to check for no nulls)\n",
        "data.isnull().sum(axis=0)"
      ]
    },
    {
      "cell_type": "markdown",
      "metadata": {
        "id": "wJpyJhHRTu2y"
      },
      "source": [
        "### Does a Client Using a Coupon Have a Relationship with Churn?\n",
        "\n",
        "One common strategy in retail is to provide a customer with a coupon in the hope of increasing the likelihood they will return to make another purchase."
      ]
    },
    {
      "cell_type": "markdown",
      "metadata": {
        "id": "at8GXydOTu2y"
      },
      "source": [
        "### ⚙️ Develop a Hypothesis\n",
        "\n",
        "💡 Build Intuition: [Review the relevant course material on hypothesis formulation and testing.](https://uplimit.com/course/applied-statistics-for-data-science/v2/module/hypothesis-testing-9mlrk)\n",
        "\n",
        "Now that we understand a little bit about our data, we know we're getting a binary or 1 / 0 answer when it comes to churn.\n",
        "\n",
        "Let's set up our null and alternative hypotheses about the impact of coupons on CostPro Customer Churn."
      ]
    },
    {
      "cell_type": "markdown",
      "metadata": {
        "id": "VHFY-vjbTu2y"
      },
      "source": [
        "##### Null Hypothesis ($H_0$)\n",
        "\n",
        "Offering clients a coupon use does not impact customer churn"
      ]
    },
    {
      "cell_type": "markdown",
      "metadata": {
        "id": "Ki6xgeU7Tu2y"
      },
      "source": [
        "##### Alternative Hypothesis ($H_1$)\n",
        "\n",
        "Offering clients a coupon does impact customer churn"
      ]
    },
    {
      "cell_type": "code",
      "execution_count": 95,
      "metadata": {
        "id": "RomZiC8RTu2z"
      },
      "outputs": [],
      "source": [
        "# make the coupon used column easier to work with\n",
        "data['NumberOfCouponsUsed'] = data['CouponUsed']\n",
        "data['CouponUsed'] = data['CouponUsed'].apply(lambda x: 1 if x > 0 else 0)"
      ]
    },
    {
      "cell_type": "code",
      "execution_count": 96,
      "metadata": {
        "id": "G7ueSgoETu2z",
        "colab": {
          "base_uri": "https://localhost:8080/"
        },
        "outputId": "bb217dab-2b94-4ba0-cfbd-36a0d0b46169"
      },
      "outputs": [
        {
          "output_type": "execute_result",
          "data": {
            "text/plain": [
              "[0, 1]"
            ]
          },
          "metadata": {},
          "execution_count": 96
        }
      ],
      "source": [
        "# review the coupon used column to make sure it worked\n",
        "coupons = data['CouponUsed'].unique().tolist()\n",
        "coupons.sort()\n",
        "coupons"
      ]
    },
    {
      "cell_type": "code",
      "execution_count": 97,
      "metadata": {
        "id": "IHPnRtoxTu2z",
        "colab": {
          "base_uri": "https://localhost:8080/"
        },
        "outputId": "53e144b7-6053-4ac7-8aa9-8799451975b2"
      },
      "outputs": [
        {
          "output_type": "execute_result",
          "data": {
            "text/plain": [
              "1    3164\n",
              "0     610\n",
              "Name: CouponUsed, dtype: int64"
            ]
          },
          "metadata": {},
          "execution_count": 97
        }
      ],
      "source": [
        "# check the value counts for the coupon used column\n",
        "data['CouponUsed'].value_counts()"
      ]
    },
    {
      "cell_type": "code",
      "execution_count": 98,
      "metadata": {
        "id": "S-obkMYcTu2z"
      },
      "outputs": [],
      "source": [
        "# Write a function to return two samples of the same size\n",
        "def get_samples(\n",
        "    data: pd.DataFrame, sample_size: int, independent_variable: str, dependent_variable: str\n",
        ") -> tuple:\n",
        "    \"\"\"\n",
        "    Returns two samples of the same size from the data.\n",
        "    data (pd.DataFrame): the data to be used\n",
        "    sample_size (int): the size of the sample to be returned\n",
        "    independent_variable (str): the name of the column to be used as the independent variable\n",
        "    dependent_variable (str): the name of the column to be used for the dependent_variable\n",
        "\n",
        "    Returns:\n",
        "    list: two samples of the same size\n",
        "    \"\"\"\n",
        "    independent_variable_list = data[independent_variable].unique().tolist()\n",
        "    independent_variable_list.sort()\n",
        "    print(f\"the independent variable list is {independent_variable_list}\")\n",
        "\n",
        "    samples = []\n",
        "\n",
        "    for i, var in enumerate(independent_variable_list):\n",
        "      sample = data[data[independent_variable] == independent_variable_list[i]].sample(\n",
        "          n=sample_size, random_state=random_seed\n",
        "      )[dependent_variable]\n",
        "      samples.append(sample)\n",
        "    return samples"
      ]
    },
    {
      "cell_type": "markdown",
      "metadata": {
        "id": "tWmV90BMTu2z"
      },
      "source": [
        "## 🚧 Understand Limitations"
      ]
    },
    {
      "cell_type": "markdown",
      "metadata": {
        "id": "Vzq3DDUfTu2z"
      },
      "source": [
        "##### Normality\n",
        "\n",
        "In the case of non-parametric tests, we do not need the population to have a normal distribution. The reason why we're still checking whether or not the samples meet the assumptions of parametric tests is because parametric are more powerful. So, we want to be certain we need non-parametric tests before we select them.\n",
        "\n",
        "$H_0$: The sample comes from a normally distributed population.\n",
        "\n",
        "$H_1$: The sample does not come from a normally distributed population.\n",
        "\n",
        "How to interpret this test:\n",
        "\n",
        "If the p-value is less than 0.05, we reject the null hypothesis, suggesting that the sample is unlikely to have come from a normally distributed population."
      ]
    },
    {
      "cell_type": "code",
      "execution_count": 99,
      "metadata": {
        "id": "lwLZnh9HTu20"
      },
      "outputs": [],
      "source": [
        "# Write a function to test the assumption of normality\n",
        "def test_normality(samples: list) -> str:\n",
        "    \"\"\"\n",
        "    Tests the assumption of normality.\n",
        "    samples (list): the list of samples to be used\n",
        "\n",
        "    Returns:\n",
        "    None: prints the result of the test\n",
        "    \"\"\"\n",
        "    result = []\n",
        "\n",
        "    for i, sample in enumerate(samples):\n",
        "        if len(sample) > 2:\n",
        "            stat, p = st.shapiro(sample)\n",
        "            result.append((i, stat, p))\n",
        "            print(\"Shapiro test statistic:\", stat)\n",
        "            print(\"Shapiro p-value:\", p)\n",
        "            if round(p, 2) > 0.05:\n",
        "                print(\"The samples are normally distributed.\")\n",
        "            else:\n",
        "                print(\"The samples are not normally distributed.\")\n",
        "        else:\n",
        "            stat, critical_value, p = st.anderson_ksamp([sample, st.bernoulli.rvs(p=sample.mean(), size=sample.shape[0])])\n",
        "            result.append((i, stat, critical_value, p))\n",
        "            print('Anderson-Darling statistic:', stat)\n",
        "            print('Anderson-Darling p-value:', p)\n",
        "            if round(p, 2) > 0.05:\n",
        "                print(\"The samples are normally distributed.\")\n",
        "            else:\n",
        "                print(\"The samples are not normally distributed.\")"
      ]
    },
    {
      "cell_type": "code",
      "execution_count": 148,
      "metadata": {
        "id": "JrvWuJT5Tu20",
        "colab": {
          "base_uri": "https://localhost:8080/"
        },
        "outputId": "f46f02f7-0ddf-4209-833e-9c02b6238630"
      },
      "outputs": [
        {
          "output_type": "stream",
          "name": "stdout",
          "text": [
            "the independent variable list is [0, 1]\n",
            "[2029    0\n",
            "2377    1\n",
            "140     0\n",
            "1967    0\n",
            "1156    1\n",
            "       ..\n",
            "231     0\n",
            "1110    0\n",
            "2667    0\n",
            "1020    0\n",
            "392     0\n",
            "Name: Churn, Length: 500, dtype: int64, 3408    0\n",
            "4031    0\n",
            "3990    0\n",
            "2146    1\n",
            "3081    0\n",
            "       ..\n",
            "1314    0\n",
            "1796    0\n",
            "3953    0\n",
            "677     0\n",
            "2140    0\n",
            "Name: Churn, Length: 500, dtype: int64]\n"
          ]
        }
      ],
      "source": [
        "samples = get_samples(data, 500, \"CouponUsed\", \"Churn\")\n",
        "# print(len(samples[0]))\n",
        "print(samples)"
      ]
    },
    {
      "cell_type": "code",
      "execution_count": 101,
      "metadata": {
        "id": "u0dAR6eJTu20",
        "colab": {
          "base_uri": "https://localhost:8080/"
        },
        "outputId": "ae371e46-b3e3-4b0c-8179-0dc340827ddc"
      },
      "outputs": [
        {
          "output_type": "stream",
          "name": "stdout",
          "text": [
            "Shapiro test statistic: 0.4232839345932007\n",
            "Shapiro p-value: 4.732115409621077e-37\n",
            "The samples are not normally distributed.\n",
            "Shapiro test statistic: 0.4430365562438965\n",
            "Shapiro p-value: 1.3712129226073947e-36\n",
            "The samples are not normally distributed.\n"
          ]
        }
      ],
      "source": [
        "# Test the assumption of normality\n",
        "test_normality(samples)"
      ]
    },
    {
      "cell_type": "markdown",
      "source": [
        "Explain how you'd interpret the results of this test in your own words!\n",
        "\n",
        "Test Statistic: This value (ranging from 0 to 1) tells you how well the data fits the normal distribution. A value far from from 1 indicates the data is not normally distributed.\n",
        "\n",
        "P-Value: This value tells you the probability of observing the test statistic as calculated, assuming that the null hypothesis is true. A p-value smaller than 0.05 is taken as evidence to reject the null hypothesis in favor of the alternative."
      ],
      "metadata": {
        "id": "OfGeHVv_Xiqx"
      }
    },
    {
      "cell_type": "markdown",
      "metadata": {
        "id": "DRM9BxQrTu21"
      },
      "source": [
        "#### Equal Variances\n",
        "\n",
        "One of the other assumptions underlying parametric tests is that the groups being compared have equal variances. This is called homoscedasticity. We can test for equal variances using a test called Levene's test.\n",
        "\n",
        "$H_0$: The samples have equal variances\n",
        "\n",
        "$H_1$: The samples do not have equal variances\n",
        "\n",
        "How to interpret this test:\n",
        "\n",
        "If the p-value is less that 0.05, we reject null hypothesis and say that the differences in sample variances are unlikely to have come from random sampling a population with equal variances.\n"
      ]
    },
    {
      "cell_type": "code",
      "execution_count": 102,
      "metadata": {
        "id": "kA9xeCfkTu21"
      },
      "outputs": [],
      "source": [
        "def test_homoscedasticity_bartlett(samples: list) -> str:\n",
        "    \"\"\"\n",
        "    Tests that both groups have equal variances using Bartlett's test.\n",
        "    samples (list): the list of samples to be used\n",
        "\n",
        "    Returns:\n",
        "    str: the result of the test\n",
        "    \"\"\"\n",
        "\n",
        "    stat, p = st.bartlett(*samples)\n",
        "    print(\"Bartlett test statistic:\", stat)\n",
        "    print(\"Bartlett p-value:\", p)\n",
        "    if p > 0.05:\n",
        "        return f\"The samples have equal variances with a Bartlett statistic of {stat} and a p-value of {p}\"\n",
        "    else:\n",
        "        return f\"The samples do not have equal variances with a Bartlett statistic of {stat} and a p-value of {p}\"\n",
        "\n",
        "\n",
        "def test_homoscedasticity_levene(samples: list) -> str:\n",
        "    \"\"\"\n",
        "    Tests that both groups have equal variances using Levene's test.\n",
        "    samples (list): the list of samples to be used\n",
        "\n",
        "    Returns:\n",
        "    str: the result of the test\n",
        "    \"\"\"\n",
        "\n",
        "    stat, p = st.levene(*samples)\n",
        "    print(\"Levene test statistic:\", stat)\n",
        "    print(\"Levene p-value:\", p)\n",
        "    if p > 0.05:\n",
        "        return f\"The samples have equal variances with a Levene statistic of {stat} and a p-value of {p}\"\n",
        "    else:\n",
        "        return f\"The samples do not have equal variances with a Levene statistic of {stat} and a p-value of {p}\"\n"
      ]
    },
    {
      "cell_type": "code",
      "execution_count": 103,
      "metadata": {
        "id": "Hcw3-TAdTu21",
        "colab": {
          "base_uri": "https://localhost:8080/"
        },
        "outputId": "f8028a19-d760-4967-da7b-faaae7adc24e"
      },
      "outputs": [
        {
          "output_type": "stream",
          "name": "stdout",
          "text": [
            "Bartlett test statistic: 0.6788967900798658\n",
            "Bartlett p-value: 0.4099668694849953\n",
            "The samples have equal variances with a Bartlett statistic of 0.6788967900798658 and a p-value of 0.4099668694849953\n",
            "\n",
            "Levene test statistic: 0.3735086995707505\n",
            "Levene p-value: 0.5412370819439081\n",
            "The samples have equal variances with a Levene statistic of 0.3735086995707505 and a p-value of 0.5412370819439081\n"
          ]
        }
      ],
      "source": [
        "print(test_homoscedasticity_bartlett(samples))\n",
        "print()\n",
        "print(test_homoscedasticity_levene(samples))"
      ]
    },
    {
      "cell_type": "code",
      "source": [
        "# YOUR CODE HERE: visualize two samples and use the visualization to help you explain the results\n",
        "\n",
        "import matplotlib.pyplot as plt\n",
        "import numpy as np\n",
        "\n",
        "# Get samples of size 500 for 'CouponUsed' and 'Churn'\n",
        "samples = get_samples(data, 500, \"CouponUsed\", \"Churn\")\n",
        "\n",
        "# Calculate the variances for these samples\n",
        "variances = [np.var(sample) for sample in samples]\n",
        "\n",
        "# Check the length of the first sample and the calculated variances\n",
        "len(samples[0]), variances\n",
        "\n",
        "# Set the positions and width for the bars\n",
        "x_pos = [0, 1]\n",
        "\n",
        "# Set the labels for the bars\n",
        "labels = ['Coupon Not Used', 'Coupon Used']\n",
        "\n",
        "# Create the plot\n",
        "fig, ax = plt.subplots()\n",
        "\n",
        "# Create bars for variances\n",
        "ax.bar(x_pos, variances, align='center', alpha=0.5, color='r', label='Variance')\n",
        "\n",
        "# Create bars for means\n",
        "#ax.bar(x_pos, means, align='center', alpha=0.5, color='b', label='Mean')\n",
        "\n",
        "# Add some text for labels, title, and axes ticks\n",
        "ax.set_ylabel('Values')\n",
        "ax.set_title('Variance for Churn by Coupon Usage')\n",
        "ax.set_xticks(x_pos)\n",
        "ax.set_xticklabels(labels)\n",
        "ax.legend()\n",
        "\n",
        "# Show the plot\n",
        "plt.show()\n"
      ],
      "metadata": {
        "id": "qa8OhYt2rE6a",
        "colab": {
          "base_uri": "https://localhost:8080/",
          "height": 468
        },
        "outputId": "ba3b78d6-c8c9-484a-8bc3-89c29a7315f0"
      },
      "execution_count": 150,
      "outputs": [
        {
          "output_type": "stream",
          "name": "stdout",
          "text": [
            "the independent variable list is [0, 1]\n"
          ]
        },
        {
          "output_type": "display_data",
          "data": {
            "text/plain": [
              "<Figure size 640x480 with 1 Axes>"
            ],
            "image/png": "[encoded data removed]"
          },
          "metadata": {}
        }
      ]
    },
    {
      "cell_type": "markdown",
      "source": [
        "Explain how you'd interpret the results of this test in your own words!\n",
        "\n",
        "Here we can see the variance values are close to one another, but because our other tests indicated non-normality, we would still proceed with the Chi-Squared test."
      ],
      "metadata": {
        "id": "udYUWunGXcdv"
      }
    },
    {
      "cell_type": "markdown",
      "metadata": {
        "id": "elaFgoASTu21"
      },
      "source": [
        "## ⚙️ Implement the Chi-Squared Test"
      ]
    },
    {
      "cell_type": "code",
      "source": [
        "# create dataframe from samples\n",
        "no_coupon_use = pd.DataFrame(samples[0], columns=['Churn'])\n",
        "no_coupon_use['CouponUsed'] = 0\n",
        "\n",
        "coupon_use = pd.DataFrame(samples[1], columns=['Churn'])\n",
        "coupon_use['CouponUsed'] = 1\n",
        "\n",
        "coupon_df = pd.concat([no_coupon_use, coupon_use])"
      ],
      "metadata": {
        "id": "mhksrkok7Ikk"
      },
      "execution_count": 105,
      "outputs": []
    },
    {
      "cell_type": "code",
      "execution_count": 106,
      "metadata": {
        "id": "5x2oTnKXTu21",
        "colab": {
          "base_uri": "https://localhost:8080/",
          "height": 140
        },
        "outputId": "072abeba-0557-482f-90f1-5adf27daff90"
      },
      "outputs": [
        {
          "output_type": "execute_result",
          "data": {
            "text/plain": [
              "Churn         0   1\n",
              "CouponUsed         \n",
              "0           426  74\n",
              "1           419  81"
            ],
            "text/html": [
              "\n",
              "  <div id=\"df-a1044bcd-e9c0-45b0-9d2a-9f975e49f596\" class=\"colab-df-container\">\n",
              "    <div>\n",
              "<style scoped>\n",
              "    .dataframe tbody tr th:only-of-type {\n",
              "        vertical-align: middle;\n",
              "    }\n",
              "\n",
              "    .dataframe tbody tr th {\n",
              "        vertical-align: top;\n",
              "    }\n",
              "\n",
              "    .dataframe thead th {\n",
              "        text-align: right;\n",
              "    }\n",
              "</style>\n",
              "<table border=\"1\" class=\"dataframe\">\n",
              "  <thead>\n",
              "    <tr style=\"text-align: right;\">\n",
              "      <th>Churn</th>\n",
              "      <th>0</th>\n",
              "      <th>1</th>\n",
              "    </tr>\n",
              "    <tr>\n",
              "      <th>CouponUsed</th>\n",
              "      <th></th>\n",
              "      <th></th>\n",
              "    </tr>\n",
              "  </thead>\n",
              "  <tbody>\n",
              "    <tr>\n",
              "      <th>0</th>\n",
              "      <td>426</td>\n",
              "      <td>74</td>\n",
              "    </tr>\n",
              "    <tr>\n",
              "      <th>1</th>\n",
              "      <td>419</td>\n",
              "      <td>81</td>\n",
              "    </tr>\n",
              "  </tbody>\n",
              "</table>\n",
              "</div>\n",
              "    <div class=\"colab-df-buttons\">\n",
              "\n",
              "  <div class=\"colab-df-container\">\n",
              "    <button class=\"colab-df-convert\" onclick=\"convertToInteractive('df-a1044bcd-e9c0-45b0-9d2a-9f975e49f596')\"\n",
              "            title=\"Convert this dataframe to an interactive table.\"\n",
              "            style=\"display:none;\">\n",
              "\n",
              "  <svg xmlns=\"http://www.w3.org/2000/svg\" height=\"24px\" viewBox=\"0 -960 960 960\">\n",
              "    <path d=\"M120-120v-720h720v720H120Zm60-500h600v-160H180v160Zm220 220h160v-160H400v160Zm0 220h160v-160H400v160ZM180-400h160v-160H180v160Zm440 0h160v-160H620v160ZM180-180h160v-160H180v160Zm440 0h160v-160H620v160Z\"/>\n",
              "  </svg>\n",
              "    </button>\n",
              "\n",
              "  <style>\n",
              "    .colab-df-container {\n",
              "      display:flex;\n",
              "      gap: 12px;\n",
              "    }\n",
              "\n",
              "    .colab-df-convert {\n",
              "      background-color: #E8F0FE;\n",
              "      border: none;\n",
              "      border-radius: 50%;\n",
              "      cursor: pointer;\n",
              "      display: none;\n",
              "      fill: #1967D2;\n",
              "      height: 32px;\n",
              "      padding: 0 0 0 0;\n",
              "      width: 32px;\n",
              "    }\n",
              "\n",
              "    .colab-df-convert:hover {\n",
              "      background-color: #E2EBFA;\n",
              "      box-shadow: 0px 1px 2px rgba(60, 64, 67, 0.3), 0px 1px 3px 1px rgba(60, 64, 67, 0.15);\n",
              "      fill: #174EA6;\n",
              "    }\n",
              "\n",
              "    .colab-df-buttons div {\n",
              "      margin-bottom: 4px;\n",
              "    }\n",
              "\n",
              "    [theme=dark] .colab-df-convert {\n",
              "      background-color: #3B4455;\n",
              "      fill: #D2E3FC;\n",
              "    }\n",
              "\n",
              "    [theme=dark] .colab-df-convert:hover {\n",
              "      background-color: #434B5C;\n",
              "      box-shadow: 0px 1px 3px 1px rgba(0, 0, 0, 0.15);\n",
              "      filter: drop-shadow(0px 1px 2px rgba(0, 0, 0, 0.3));\n",
              "      fill: #FFFFFF;\n",
              "    }\n",
              "  </style>\n",
              "\n",
              "    <script>\n",
              "      const buttonEl =\n",
              "        document.querySelector('#df-a1044bcd-e9c0-45b0-9d2a-9f975e49f596 button.colab-df-convert');\n",
              "      buttonEl.style.display =\n",
              "        google.colab.kernel.accessAllowed ? 'block' : 'none';\n",
              "\n",
              "      async function convertToInteractive(key) {\n",
              "        const element = document.querySelector('#df-a1044bcd-e9c0-45b0-9d2a-9f975e49f596');\n",
              "        const dataTable =\n",
              "          await google.colab.kernel.invokeFunction('convertToInteractive',\n",
              "                                                    [key], {});\n",
              "        if (!dataTable) return;\n",
              "\n",
              "        const docLinkHtml = 'Like what you see? Visit the ' +\n",
              "          '<a target=\"_blank\" href=https://colab.research.google.com/notebooks/data_table.ipynb>data table notebook</a>'\n",
              "          + ' to learn more about interactive tables.';\n",
              "        element.innerHTML = '';\n",
              "        dataTable['output_type'] = 'display_data';\n",
              "        await google.colab.output.renderOutput(dataTable, element);\n",
              "        const docLink = document.createElement('div');\n",
              "        docLink.innerHTML = docLinkHtml;\n",
              "        element.appendChild(docLink);\n",
              "      }\n",
              "    </script>\n",
              "  </div>\n",
              "\n",
              "\n",
              "<div id=\"df-2b5a1f85-3ecd-430b-b610-b3486af58135\">\n",
              "  <button class=\"colab-df-quickchart\" onclick=\"quickchart('df-2b5a1f85-3ecd-430b-b610-b3486af58135')\"\n",
              "            title=\"Suggest charts.\"\n",
              "            style=\"display:none;\">\n",
              "\n",
              "<svg xmlns=\"http://www.w3.org/2000/svg\" height=\"24px\"viewBox=\"0 0 24 24\"\n",
              "     width=\"24px\">\n",
              "    <g>\n",
              "        <path d=\"M19 3H5c-1.1 0-2 .9-2 2v14c0 1.1.9 2 2 2h14c1.1 0 2-.9 2-2V5c0-1.1-.9-2-2-2zM9 17H7v-7h2v7zm4 0h-2V7h2v10zm4 0h-2v-4h2v4z\"/>\n",
              "    </g>\n",
              "</svg>\n",
              "  </button>\n",
              "\n",
              "<style>\n",
              "  .colab-df-quickchart {\n",
              "      --bg-color: #E8F0FE;\n",
              "      --fill-color: #1967D2;\n",
              "      --hover-bg-color: #E2EBFA;\n",
              "      --hover-fill-color: #174EA6;\n",
              "      --disabled-fill-color: #AAA;\n",
              "      --disabled-bg-color: #DDD;\n",
              "  }\n",
              "\n",
              "  [theme=dark] .colab-df-quickchart {\n",
              "      --bg-color: #3B4455;\n",
              "      --fill-color: #D2E3FC;\n",
              "      --hover-bg-color: #434B5C;\n",
              "      --hover-fill-color: #FFFFFF;\n",
              "      --disabled-bg-color: #3B4455;\n",
              "      --disabled-fill-color: #666;\n",
              "  }\n",
              "\n",
              "  .colab-df-quickchart {\n",
              "    background-color: var(--bg-color);\n",
              "    border: none;\n",
              "    border-radius: 50%;\n",
              "    cursor: pointer;\n",
              "    display: none;\n",
              "    fill: var(--fill-color);\n",
              "    height: 32px;\n",
              "    padding: 0;\n",
              "    width: 32px;\n",
              "  }\n",
              "\n",
              "  .colab-df-quickchart:hover {\n",
              "    background-color: var(--hover-bg-color);\n",
              "    box-shadow: 0 1px 2px rgba(60, 64, 67, 0.3), 0 1px 3px 1px rgba(60, 64, 67, 0.15);\n",
              "    fill: var(--button-hover-fill-color);\n",
              "  }\n",
              "\n",
              "  .colab-df-quickchart-complete:disabled,\n",
              "  .colab-df-quickchart-complete:disabled:hover {\n",
              "    background-color: var(--disabled-bg-color);\n",
              "    fill: var(--disabled-fill-color);\n",
              "    box-shadow: none;\n",
              "  }\n",
              "\n",
              "  .colab-df-spinner {\n",
              "    border: 2px solid var(--fill-color);\n",
              "    border-color: transparent;\n",
              "    border-bottom-color: var(--fill-color);\n",
              "    animation:\n",
              "      spin 1s steps(1) infinite;\n",
              "  }\n",
              "\n",
              "  @keyframes spin {\n",
              "    0% {\n",
              "      border-color: transparent;\n",
              "      border-bottom-color: var(--fill-color);\n",
              "      border-left-color: var(--fill-color);\n",
              "    }\n",
              "    20% {\n",
              "      border-color: transparent;\n",
              "      border-left-color: var(--fill-color);\n",
              "      border-top-color: var(--fill-color);\n",
              "    }\n",
              "    30% {\n",
              "      border-color: transparent;\n",
              "      border-left-color: var(--fill-color);\n",
              "      border-top-color: var(--fill-color);\n",
              "      border-right-color: var(--fill-color);\n",
              "    }\n",
              "    40% {\n",
              "      border-color: transparent;\n",
              "      border-right-color: var(--fill-color);\n",
              "      border-top-color: var(--fill-color);\n",
              "    }\n",
              "    60% {\n",
              "      border-color: transparent;\n",
              "      border-right-color: var(--fill-color);\n",
              "    }\n",
              "    80% {\n",
              "      border-color: transparent;\n",
              "      border-right-color: var(--fill-color);\n",
              "      border-bottom-color: var(--fill-color);\n",
              "    }\n",
              "    90% {\n",
              "      border-color: transparent;\n",
              "      border-bottom-color: var(--fill-color);\n",
              "    }\n",
              "  }\n",
              "</style>\n",
              "\n",
              "  <script>\n",
              "    async function quickchart(key) {\n",
              "      const quickchartButtonEl =\n",
              "        document.querySelector('#' + key + ' button');\n",
              "      quickchartButtonEl.disabled = true;  // To prevent multiple clicks.\n",
              "      quickchartButtonEl.classList.add('colab-df-spinner');\n",
              "      try {\n",
              "        const charts = await google.colab.kernel.invokeFunction(\n",
              "            'suggestCharts', [key], {});\n",
              "      } catch (error) {\n",
              "        console.error('Error during call to suggestCharts:', error);\n",
              "      }\n",
              "      quickchartButtonEl.classList.remove('colab-df-spinner');\n",
              "      quickchartButtonEl.classList.add('colab-df-quickchart-complete');\n",
              "    }\n",
              "    (() => {\n",
              "      let quickchartButtonEl =\n",
              "        document.querySelector('#df-2b5a1f85-3ecd-430b-b610-b3486af58135 button');\n",
              "      quickchartButtonEl.style.display =\n",
              "        google.colab.kernel.accessAllowed ? 'block' : 'none';\n",
              "    })();\n",
              "  </script>\n",
              "</div>\n",
              "    </div>\n",
              "  </div>\n"
            ]
          },
          "metadata": {},
          "execution_count": 106
        }
      ],
      "source": [
        "# set up the frequency table\n",
        "freq_table = pd.crosstab(coupon_df['CouponUsed'], coupon_df['Churn'])\n",
        "freq_table"
      ]
    },
    {
      "cell_type": "code",
      "execution_count": 107,
      "metadata": {
        "id": "JpAoW44VTu22",
        "colab": {
          "base_uri": "https://localhost:8080/"
        },
        "outputId": "094f45fd-9e2f-41ef-ec52-92d5395f56cd"
      },
      "outputs": [
        {
          "output_type": "execute_result",
          "data": {
            "text/plain": [
              "array([[426,  74],\n",
              "       [419,  81]])"
            ]
          },
          "metadata": {},
          "execution_count": 107
        }
      ],
      "source": [
        "# put the data into a list to be used in the chi-squared test\n",
        "observed = freq_table.values\n",
        "observed"
      ]
    },
    {
      "cell_type": "code",
      "execution_count": 152,
      "metadata": {
        "id": "Ysjy7ocpTu22"
      },
      "outputs": [],
      "source": [
        "def test_hypothesis_with_chi_squared(observed: list) -> str:\n",
        "    \"\"\"\n",
        "    Tests the null hypothesis that the coupon use and churn are independent.\n",
        "    observed (list): the observed values\n",
        "\n",
        "    Returns:\n",
        "    str: the result of the test\n",
        "    \"\"\"\n",
        "    chi2, p, dof, expected = st.chi2_contingency(observed)\n",
        "    print(\"Chi-squared test statistic:\", chi2)\n",
        "    print(\"Chi-squared p-value:\", p)\n",
        "    if round(p, 2) <= 0.05:\n",
        "        print(\"The null hypothesis that the coupon use and churn are independent is rejected.\")\n",
        "        print(\"There is a relationship between coupon use and churn.\")\n",
        "    else:\n",
        "        print(\"The null hypothesis that the coupon use and churn are independent is accepted.\")\n",
        "        print(\"There is no relationship between coupon use and churn.\")"
      ]
    },
    {
      "cell_type": "markdown",
      "metadata": {
        "id": "-UNssopkTu22"
      },
      "source": [
        "Chi-squared test is used to determine if there is a significant association between two categorical variables, like coupon use and churn.\n",
        "\n",
        "To interpret the results of a chi-squared test, follow these steps:\n",
        "\n",
        "**Calculate the test statistic:** The test statistic is calculated by subtracting the expected frequencies from the observed frequencies, squaring the result, and dividing by the expected frequencies.\n",
        "\n",
        "**Determine the degrees of freedom:** The degrees of freedom for a chi-squared test are equal to the number of categories minus 1.\n",
        "\n",
        "**Look up the critical value:** Use a chi-squared distribution table to find the critical value for a given level of significance (e.g. 0.05) and degrees of freedom.\n",
        "\n",
        "**Compare the test statistic to the critical value:** If the calculated test statistic is greater than the critical value, the null hypothesis is rejected and there is evidence of a significant association between the two categorical variables.\n",
        "\n",
        "**Report the results:** Report the calculated test statistic, degrees of freedom, critical value, and level of significance. State if the null hypothesis is accepted or rejected and if there is evidence of a significant association between the two categorical variables."
      ]
    },
    {
      "cell_type": "code",
      "execution_count": 153,
      "metadata": {
        "id": "oZAW7zELTu22",
        "colab": {
          "base_uri": "https://localhost:8080/"
        },
        "outputId": "87c36ed1-3514-4449-b7ca-798368cb00ec"
      },
      "outputs": [
        {
          "output_type": "stream",
          "name": "stdout",
          "text": [
            "Degrees of freedom: 1\n"
          ]
        }
      ],
      "source": [
        "# calculate degrees of freedom\n",
        "def degrees_of_freedom(categories1, categories2):\n",
        "    degrees_of_freedom = (categories1 - 1) * (categories2 - 1)\n",
        "    return degrees_of_freedom\n",
        "\n",
        "df = degrees_of_freedom(len(data['CouponUsed'].unique()), len(data['Churn'].unique()))\n",
        "print(\"Degrees of freedom:\", df)\n"
      ]
    },
    {
      "cell_type": "markdown",
      "metadata": {
        "id": "uba7f8tuTu22"
      },
      "source": [
        "### Calculate the Critical Value\n",
        "\n",
        "PPF stands for \"percent point function\". In statistics, the PPF is also known as the inverse cumulative distribution function (CDF). The CDF of a random variable gives the probability that the variable is less than or equal to a given value, while the PPF gives the value at which the CDF equals a given probability.\n",
        "\n",
        "In the context of the scipy library in Python, the chi2.ppf function is used to get the critical value for a chi-squared test by finding the value at which the cumulative distribution function (CDF) of the chi-squared distribution equals 1 - alpha. In other words, it finds the value at which the CDF equals alpha confidence level."
      ]
    },
    {
      "cell_type": "code",
      "execution_count": 154,
      "metadata": {
        "id": "VivUjVOyTu22",
        "colab": {
          "base_uri": "https://localhost:8080/"
        },
        "outputId": "14b1eb54-91d2-4585-b96d-ea2c4fde6def"
      },
      "outputs": [
        {
          "output_type": "stream",
          "name": "stdout",
          "text": [
            "Critical value: 3.841458820694124\n"
          ]
        }
      ],
      "source": [
        "# calculate the critical value\n",
        "from scipy.stats import chi2\n",
        "\n",
        "def get_critical_value(alpha, degrees_of_freedom):\n",
        "    critical_value = chi2.ppf(1 - alpha, degrees_of_freedom)\n",
        "    return critical_value\n",
        "\n",
        "# Example usage\n",
        "alpha = 0.05\n",
        "critical_value = get_critical_value(alpha, degrees_of_freedom(len(data['CouponUsed'].unique()), len(data['Churn'].unique())))\n",
        "print(\"Critical value:\", critical_value)\n"
      ]
    },
    {
      "cell_type": "markdown",
      "metadata": {
        "id": "9FP8kYKtTu23"
      },
      "source": [
        "### Review and Interpret the Results"
      ]
    },
    {
      "cell_type": "code",
      "execution_count": 155,
      "metadata": {
        "id": "yZZ9FgnrTu23",
        "colab": {
          "base_uri": "https://localhost:8080/"
        },
        "outputId": "5d20fec7-faf0-429c-821e-2638f390b2ba"
      },
      "outputs": [
        {
          "output_type": "stream",
          "name": "stdout",
          "text": [
            "Chi-squared test statistic: 0.274861614811987\n",
            "Chi-squared p-value: 0.6000890472947567\n",
            "The null hypothesis that the coupon use and churn are independent is accepted.\n",
            "There is no relationship between coupon use and churn.\n"
          ]
        }
      ],
      "source": [
        "test_hypothesis_with_chi_squared(observed)"
      ]
    },
    {
      "cell_type": "markdown",
      "metadata": {
        "id": "ybb2H3jJTu23"
      },
      "source": [
        "In the case where the p-value is exactly 0.05, some practitioners would reject the null hypothesis, while others would fail to reject it. It depends on the researcher's tolerance for Type I errors (rejecting the null hypothesis when it is true) and Type II errors (failing to reject the null hypothesis when it is false). It will also depend on the specific context of your hypothesis test; sometimes the consequences of a Type II error will be worse than a Type I error, but in other cases a Type I error would be worse than a Type II error.\n",
        "\n",
        "It's important to use a consistent and well-justified approach when dealing with p-values that are exactly equal to the significance level. In some cases, it may be advisable to set a more stringent significance level, such as 0.01 or 0.001, to reduce the risk of making a Type I error. It is important to consider your stakeholders' needs, and the risks of each type of error, when deciding what significance level is most appropriate for your hypothesis test.\n",
        "\n",
        "What significance level is appropriate, and what you should do when your p-value is exactly at your significance level, will depend on the relative risks of making a Type I error vs. a Type II error. If your null hypothesis is that X product is not making customers sick, a Type II error (failing to reject the null hypothesis when the product really is getting people sick) might be much worse than a Type I error, and so a higher significance level.\n",
        "\n",
        "Let's try exploring another question!"
      ]
    },
    {
      "cell_type": "markdown",
      "metadata": {
        "id": "x5Z2hjifTu23"
      },
      "source": [
        "### Does a Client Satisfaction Score Have a Relationship with Churn?\n",
        "\n",
        "Ideally, customer satisfaction is a leading indicator of customer churn. Let's test the hypothesis that there is a relationship between customer satisfaction and customer churn."
      ]
    },
    {
      "cell_type": "code",
      "execution_count": 156,
      "metadata": {
        "id": "vtUBOZSxTu23",
        "colab": {
          "base_uri": "https://localhost:8080/",
          "height": 445
        },
        "outputId": "52953b35-9d1f-40e3-8318-0e60cc638238"
      },
      "outputs": [
        {
          "output_type": "execute_result",
          "data": {
            "text/plain": [
              "<Axes: >"
            ]
          },
          "metadata": {},
          "execution_count": 156
        },
        {
          "output_type": "display_data",
          "data": {
            "text/plain": [
              "<Figure size 640x480 with 1 Axes>"
            ],
            "image/png": "[encoded data removed]"
          },
          "metadata": {}
        }
      ],
      "source": [
        "data['SatisfactionScore'].hist()"
      ]
    },
    {
      "cell_type": "code",
      "execution_count": 157,
      "metadata": {
        "id": "kNQ-u5GbTu23",
        "colab": {
          "base_uri": "https://localhost:8080/",
          "height": 445
        },
        "outputId": "1e676922-a53d-416b-f514-0a5e0091e0fe"
      },
      "outputs": [
        {
          "output_type": "execute_result",
          "data": {
            "text/plain": [
              "<Axes: >"
            ]
          },
          "metadata": {},
          "execution_count": 157
        },
        {
          "output_type": "display_data",
          "data": {
            "text/plain": [
              "<Figure size 640x480 with 1 Axes>"
            ],
            "image/png": "[encoded data removed]"
          },
          "metadata": {}
        }
      ],
      "source": [
        "data['Churn'].hist()"
      ]
    },
    {
      "cell_type": "markdown",
      "metadata": {
        "id": "9o_Om8aTTu23"
      },
      "source": [
        "### ⚙️ Develop a Hypothesis\n",
        "\n",
        "💡 Build Intuition: [Review the relevant course material on hypothesis formulation and testing.](https://uplimit.com/course/applied-statistics-for-data-science/v2/module/hypothesis-testing-9mlrk)\n",
        "\n",
        "Let's set up our null and alternative hypotheses about the relationship between satisfaction score and customer churn.\n"
      ]
    },
    {
      "cell_type": "markdown",
      "metadata": {
        "id": "M56TjX3UTu24"
      },
      "source": [
        "##### Null Hypothesis ($H_0$)\n",
        "\n",
        "The median satisfaction scores for customers who have churned and customers who haven't are the same or almost the same."
      ]
    },
    {
      "cell_type": "markdown",
      "metadata": {
        "id": "_6qV_xWpTu24"
      },
      "source": [
        "##### Alternative Hypothesis ($H_1$)\n",
        "\n",
        "The median satisfaction scores for customers who have churned and customers who haven't are not the same."
      ]
    },
    {
      "cell_type": "code",
      "execution_count": 114,
      "metadata": {
        "id": "g-ehDSceTu24"
      },
      "outputs": [],
      "source": [
        "# Write a function to return two samples of the same size\n",
        "def get_two_samples(\n",
        "    data: pd.DataFrame, sample_size: int, treatment_column: str, outcome_column: str\n",
        ") -> tuple:\n",
        "    \"\"\"\n",
        "    Returns two samples of the same size from the data.\n",
        "    data (pd.DataFrame): the data to be used\n",
        "    sample_size (int): the size of the sample to be returned\n",
        "    outcome_column (str): the name of the column to be used for the outcome\n",
        "\n",
        "    Returns:\n",
        "    list: two samples of the same size\n",
        "    \"\"\"\n",
        "    outcomes = data[outcome_column].unique().tolist()\n",
        "    outcomes.sort()\n",
        "\n",
        "    sample_1 = data[data[outcome_column] == outcomes[0]].sample(\n",
        "        n=sample_size, random_state=random_seed\n",
        "    )[treatment_column]\n",
        "\n",
        "    sample_2 = data[data[outcome_column] == outcomes[1]].sample(\n",
        "        n=sample_size, random_state=random_seed\n",
        "    )[treatment_column]\n",
        "\n",
        "    return [sample_1, sample_2]"
      ]
    },
    {
      "cell_type": "code",
      "execution_count": 115,
      "metadata": {
        "id": "sIwewNDsTu24"
      },
      "outputs": [],
      "source": [
        "# write a function to test the null hypothesis that the two groups have the same median with a mann whitney u test\n",
        "def test_hypothesis_with_mann_whitney_u(samples: list) -> str:\n",
        "    \"\"\"\n",
        "    Tests the null hypothesis that the two groups have the same median.\n",
        "    samples (list): the list of samples to be used\n",
        "\n",
        "    Returns:\n",
        "    str: the result of the test\n",
        "    \"\"\"\n",
        "    u_statistic, p_value = st.mannwhitneyu(*samples)\n",
        "    print(\"Mann-Whitney U test statistic:\", u_statistic)\n",
        "    print(\"Mann-Whitney U p-value:\", p_value)\n",
        "    if round(p_value, 2) <= 0.05:\n",
        "        print(\"The null hypothesis that the two groups have the same median is rejected.\")\n",
        "        print(\"There is a relationship between satisfaction score and churn.\")\n",
        "    else:\n",
        "        print(\"The null hypothesis that the two groups have the same median is accepted.\")\n",
        "        print(\"There is no detectable relationship between satisfaction score and churn.\")"
      ]
    },
    {
      "cell_type": "markdown",
      "metadata": {
        "id": "oXU3xVZaTu24"
      },
      "source": [
        "To interpret the results of a Mann-Whitney U test, you need to compare the U statistic to the critical value. The critical value is calculated based on the sample sizes and the level of significance (e.g., alpha = 0.05). If the U statistic is less than the critical value, it suggests that the two samples come from populations with different medians and you reject the null hypothesis that the populations have equal medians. Conversely, if the U statistic is greater than or equal to the critical value, it suggests that the two samples come from populations with similar medians and you fail to reject the null hypothesis.\n",
        "\n",
        "In addition to the U statistic and the critical value, you can also calculate a p-value for the Mann-Whitney U test. The p-value is the probability of observing a U statistic as extreme or more extreme than the observed U statistic, given that the null hypothesis is true. If the p-value is less than the level of significance, you reject the null hypothesis. If the p-value is greater than or equal to the level of significance, you fail to reject the null hypothesis.\n",
        "\n",
        "It is important to keep in mind that the Mann-Whitney U test is a two-tailed test, which means that it tests for differences in either direction (i.e., one sample has a higher median or one sample has a lower median). If you are interested in testing for a specific direction of difference (e.g., one sample has a higher median), you need to adjust the level of significance or use a one-tailed test."
      ]
    },
    {
      "cell_type": "code",
      "execution_count": 116,
      "metadata": {
        "id": "AfPI63KkTu24",
        "colab": {
          "base_uri": "https://localhost:8080/"
        },
        "outputId": "70dbcedc-732e-43ec-d3a1-93186450b045"
      },
      "outputs": [
        {
          "output_type": "stream",
          "name": "stdout",
          "text": [
            "Mann-Whitney U test statistic: 104154.5\n",
            "Mann-Whitney U p-value: 2.714438522431475e-06\n",
            "The null hypothesis that the two groups have the same median is rejected.\n",
            "There is a relationship between satisfaction score and churn.\n"
          ]
        }
      ],
      "source": [
        "test_hypothesis_with_mann_whitney_u(\n",
        "    get_two_samples(data, 500, \"SatisfactionScore\" , \"Churn\")\n",
        ")"
      ]
    },
    {
      "cell_type": "code",
      "execution_count": 117,
      "metadata": {
        "id": "RWepvRCkTu24",
        "colab": {
          "base_uri": "https://localhost:8080/",
          "height": 249
        },
        "outputId": "ac3ace54-b52e-4f09-c520-21a6ae2542c1"
      },
      "outputs": [
        {
          "output_type": "execute_result",
          "data": {
            "text/plain": [
              "    CustomerID  Churn  Tenure PreferredLoginDevice  CityTier  WarehouseToHome  \\\n",
              "0        50001      1     4.0         Mobile Phone         3              6.0   \n",
              "3        50004      1     0.0                Phone         3             15.0   \n",
              "5        50006      1     0.0             Computer         1             22.0   \n",
              "11       50012      1    11.0         Mobile Phone         1              6.0   \n",
              "12       50013      1     0.0                Phone         1             11.0   \n",
              "\n",
              "   PreferredPaymentMode  Gender  HourSpendOnApp  NumberOfDeviceRegistered  \\\n",
              "0            Debit Card  Female             3.0                         3   \n",
              "3            Debit Card    Male             2.0                         4   \n",
              "5            Debit Card  Female             3.0                         5   \n",
              "11           Debit Card    Male             3.0                         4   \n",
              "12                  COD    Male             2.0                         3   \n",
              "\n",
              "    ... SatisfactionScore  MaritalStatus NumberOfAddress  Complain  \\\n",
              "0   ...                 2         Single               9         1   \n",
              "3   ...                 5         Single               8         0   \n",
              "5   ...                 5         Single               2         1   \n",
              "11  ...                 3         Single              10         1   \n",
              "12  ...                 3         Single               2         1   \n",
              "\n",
              "    OrderAmountHikeFromlastYear  CouponUsed  OrderCount  DaySinceLastOrder  \\\n",
              "0                          11.0           1         1.0                5.0   \n",
              "3                          23.0           0         1.0                3.0   \n",
              "5                          22.0           1         6.0                7.0   \n",
              "11                         13.0           0         1.0                0.0   \n",
              "12                         13.0           1         2.0                2.0   \n",
              "\n",
              "    CashbackAmount  NumberOfCouponsUsed  \n",
              "0              160                  1.0  \n",
              "3              134                  0.0  \n",
              "5              139                  4.0  \n",
              "11             154                  0.0  \n",
              "12             134                  2.0  \n",
              "\n",
              "[5 rows x 21 columns]"
            ],
            "text/html": [
              "\n",
              "  <div id=\"df-20cbcd76-193d-4730-b127-05bd67f533de\" class=\"colab-df-container\">\n",
              "    <div>\n",
              "<style scoped>\n",
              "    .dataframe tbody tr th:only-of-type {\n",
              "        vertical-align: middle;\n",
              "    }\n",
              "\n",
              "    .dataframe tbody tr th {\n",
              "        vertical-align: top;\n",
              "    }\n",
              "\n",
              "    .dataframe thead th {\n",
              "        text-align: right;\n",
              "    }\n",
              "</style>\n",
              "<table border=\"1\" class=\"dataframe\">\n",
              "  <thead>\n",
              "    <tr style=\"text-align: right;\">\n",
              "      <th></th>\n",
              "      <th>CustomerID</th>\n",
              "      <th>Churn</th>\n",
              "      <th>Tenure</th>\n",
              "      <th>PreferredLoginDevice</th>\n",
              "      <th>CityTier</th>\n",
              "      <th>WarehouseToHome</th>\n",
              "      <th>PreferredPaymentMode</th>\n",
              "      <th>Gender</th>\n",
              "      <th>HourSpendOnApp</th>\n",
              "      <th>NumberOfDeviceRegistered</th>\n",
              "      <th>...</th>\n",
              "      <th>SatisfactionScore</th>\n",
              "      <th>MaritalStatus</th>\n",
              "      <th>NumberOfAddress</th>\n",
              "      <th>Complain</th>\n",
              "      <th>OrderAmountHikeFromlastYear</th>\n",
              "      <th>CouponUsed</th>\n",
              "      <th>OrderCount</th>\n",
              "      <th>DaySinceLastOrder</th>\n",
              "      <th>CashbackAmount</th>\n",
              "      <th>NumberOfCouponsUsed</th>\n",
              "    </tr>\n",
              "  </thead>\n",
              "  <tbody>\n",
              "    <tr>\n",
              "      <th>0</th>\n",
              "      <td>50001</td>\n",
              "      <td>1</td>\n",
              "      <td>4.0</td>\n",
              "      <td>Mobile Phone</td>\n",
              "      <td>3</td>\n",
              "      <td>6.0</td>\n",
              "      <td>Debit Card</td>\n",
              "      <td>Female</td>\n",
              "      <td>3.0</td>\n",
              "      <td>3</td>\n",
              "      <td>...</td>\n",
              "      <td>2</td>\n",
              "      <td>Single</td>\n",
              "      <td>9</td>\n",
              "      <td>1</td>\n",
              "      <td>11.0</td>\n",
              "      <td>1</td>\n",
              "      <td>1.0</td>\n",
              "      <td>5.0</td>\n",
              "      <td>160</td>\n",
              "      <td>1.0</td>\n",
              "    </tr>\n",
              "    <tr>\n",
              "      <th>3</th>\n",
              "      <td>50004</td>\n",
              "      <td>1</td>\n",
              "      <td>0.0</td>\n",
              "      <td>Phone</td>\n",
              "      <td>3</td>\n",
              "      <td>15.0</td>\n",
              "      <td>Debit Card</td>\n",
              "      <td>Male</td>\n",
              "      <td>2.0</td>\n",
              "      <td>4</td>\n",
              "      <td>...</td>\n",
              "      <td>5</td>\n",
              "      <td>Single</td>\n",
              "      <td>8</td>\n",
              "      <td>0</td>\n",
              "      <td>23.0</td>\n",
              "      <td>0</td>\n",
              "      <td>1.0</td>\n",
              "      <td>3.0</td>\n",
              "      <td>134</td>\n",
              "      <td>0.0</td>\n",
              "    </tr>\n",
              "    <tr>\n",
              "      <th>5</th>\n",
              "      <td>50006</td>\n",
              "      <td>1</td>\n",
              "      <td>0.0</td>\n",
              "      <td>Computer</td>\n",
              "      <td>1</td>\n",
              "      <td>22.0</td>\n",
              "      <td>Debit Card</td>\n",
              "      <td>Female</td>\n",
              "      <td>3.0</td>\n",
              "      <td>5</td>\n",
              "      <td>...</td>\n",
              "      <td>5</td>\n",
              "      <td>Single</td>\n",
              "      <td>2</td>\n",
              "      <td>1</td>\n",
              "      <td>22.0</td>\n",
              "      <td>1</td>\n",
              "      <td>6.0</td>\n",
              "      <td>7.0</td>\n",
              "      <td>139</td>\n",
              "      <td>4.0</td>\n",
              "    </tr>\n",
              "    <tr>\n",
              "      <th>11</th>\n",
              "      <td>50012</td>\n",
              "      <td>1</td>\n",
              "      <td>11.0</td>\n",
              "      <td>Mobile Phone</td>\n",
              "      <td>1</td>\n",
              "      <td>6.0</td>\n",
              "      <td>Debit Card</td>\n",
              "      <td>Male</td>\n",
              "      <td>3.0</td>\n",
              "      <td>4</td>\n",
              "      <td>...</td>\n",
              "      <td>3</td>\n",
              "      <td>Single</td>\n",
              "      <td>10</td>\n",
              "      <td>1</td>\n",
              "      <td>13.0</td>\n",
              "      <td>0</td>\n",
              "      <td>1.0</td>\n",
              "      <td>0.0</td>\n",
              "      <td>154</td>\n",
              "      <td>0.0</td>\n",
              "    </tr>\n",
              "    <tr>\n",
              "      <th>12</th>\n",
              "      <td>50013</td>\n",
              "      <td>1</td>\n",
              "      <td>0.0</td>\n",
              "      <td>Phone</td>\n",
              "      <td>1</td>\n",
              "      <td>11.0</td>\n",
              "      <td>COD</td>\n",
              "      <td>Male</td>\n",
              "      <td>2.0</td>\n",
              "      <td>3</td>\n",
              "      <td>...</td>\n",
              "      <td>3</td>\n",
              "      <td>Single</td>\n",
              "      <td>2</td>\n",
              "      <td>1</td>\n",
              "      <td>13.0</td>\n",
              "      <td>1</td>\n",
              "      <td>2.0</td>\n",
              "      <td>2.0</td>\n",
              "      <td>134</td>\n",
              "      <td>2.0</td>\n",
              "    </tr>\n",
              "  </tbody>\n",
              "</table>\n",
              "<p>5 rows × 21 columns</p>\n",
              "</div>\n",
              "    <div class=\"colab-df-buttons\">\n",
              "\n",
              "  <div class=\"colab-df-container\">\n",
              "    <button class=\"colab-df-convert\" onclick=\"convertToInteractive('df-20cbcd76-193d-4730-b127-05bd67f533de')\"\n",
              "            title=\"Convert this dataframe to an interactive table.\"\n",
              "            style=\"display:none;\">\n",
              "\n",
              "  <svg xmlns=\"http://www.w3.org/2000/svg\" height=\"24px\" viewBox=\"0 -960 960 960\">\n",
              "    <path d=\"M120-120v-720h720v720H120Zm60-500h600v-160H180v160Zm220 220h160v-160H400v160Zm0 220h160v-160H400v160ZM180-400h160v-160H180v160Zm440 0h160v-160H620v160ZM180-180h160v-160H180v160Zm440 0h160v-160H620v160Z\"/>\n",
              "  </svg>\n",
              "    </button>\n",
              "\n",
              "  <style>\n",
              "    .colab-df-container {\n",
              "      display:flex;\n",
              "      gap: 12px;\n",
              "    }\n",
              "\n",
              "    .colab-df-convert {\n",
              "      background-color: #E8F0FE;\n",
              "      border: none;\n",
              "      border-radius: 50%;\n",
              "      cursor: pointer;\n",
              "      display: none;\n",
              "      fill: #1967D2;\n",
              "      height: 32px;\n",
              "      padding: 0 0 0 0;\n",
              "      width: 32px;\n",
              "    }\n",
              "\n",
              "    .colab-df-convert:hover {\n",
              "      background-color: #E2EBFA;\n",
              "      box-shadow: 0px 1px 2px rgba(60, 64, 67, 0.3), 0px 1px 3px 1px rgba(60, 64, 67, 0.15);\n",
              "      fill: #174EA6;\n",
              "    }\n",
              "\n",
              "    .colab-df-buttons div {\n",
              "      margin-bottom: 4px;\n",
              "    }\n",
              "\n",
              "    [theme=dark] .colab-df-convert {\n",
              "      background-color: #3B4455;\n",
              "      fill: #D2E3FC;\n",
              "    }\n",
              "\n",
              "    [theme=dark] .colab-df-convert:hover {\n",
              "      background-color: #434B5C;\n",
              "      box-shadow: 0px 1px 3px 1px rgba(0, 0, 0, 0.15);\n",
              "      filter: drop-shadow(0px 1px 2px rgba(0, 0, 0, 0.3));\n",
              "      fill: #FFFFFF;\n",
              "    }\n",
              "  </style>\n",
              "\n",
              "    <script>\n",
              "      const buttonEl =\n",
              "        document.querySelector('#df-20cbcd76-193d-4730-b127-05bd67f533de button.colab-df-convert');\n",
              "      buttonEl.style.display =\n",
              "        google.colab.kernel.accessAllowed ? 'block' : 'none';\n",
              "\n",
              "      async function convertToInteractive(key) {\n",
              "        const element = document.querySelector('#df-20cbcd76-193d-4730-b127-05bd67f533de');\n",
              "        const dataTable =\n",
              "          await google.colab.kernel.invokeFunction('convertToInteractive',\n",
              "                                                    [key], {});\n",
              "        if (!dataTable) return;\n",
              "\n",
              "        const docLinkHtml = 'Like what you see? Visit the ' +\n",
              "          '<a target=\"_blank\" href=https://colab.research.google.com/notebooks/data_table.ipynb>data table notebook</a>'\n",
              "          + ' to learn more about interactive tables.';\n",
              "        element.innerHTML = '';\n",
              "        dataTable['output_type'] = 'display_data';\n",
              "        await google.colab.output.renderOutput(dataTable, element);\n",
              "        const docLink = document.createElement('div');\n",
              "        docLink.innerHTML = docLinkHtml;\n",
              "        element.appendChild(docLink);\n",
              "      }\n",
              "    </script>\n",
              "  </div>\n",
              "\n",
              "\n",
              "<div id=\"df-34c95d83-ba85-432c-8ca2-a538d9f2147c\">\n",
              "  <button class=\"colab-df-quickchart\" onclick=\"quickchart('df-34c95d83-ba85-432c-8ca2-a538d9f2147c')\"\n",
              "            title=\"Suggest charts.\"\n",
              "            style=\"display:none;\">\n",
              "\n",
              "<svg xmlns=\"http://www.w3.org/2000/svg\" height=\"24px\"viewBox=\"0 0 24 24\"\n",
              "     width=\"24px\">\n",
              "    <g>\n",
              "        <path d=\"M19 3H5c-1.1 0-2 .9-2 2v14c0 1.1.9 2 2 2h14c1.1 0 2-.9 2-2V5c0-1.1-.9-2-2-2zM9 17H7v-7h2v7zm4 0h-2V7h2v10zm4 0h-2v-4h2v4z\"/>\n",
              "    </g>\n",
              "</svg>\n",
              "  </button>\n",
              "\n",
              "<style>\n",
              "  .colab-df-quickchart {\n",
              "      --bg-color: #E8F0FE;\n",
              "      --fill-color: #1967D2;\n",
              "      --hover-bg-color: #E2EBFA;\n",
              "      --hover-fill-color: #174EA6;\n",
              "      --disabled-fill-color: #AAA;\n",
              "      --disabled-bg-color: #DDD;\n",
              "  }\n",
              "\n",
              "  [theme=dark] .colab-df-quickchart {\n",
              "      --bg-color: #3B4455;\n",
              "      --fill-color: #D2E3FC;\n",
              "      --hover-bg-color: #434B5C;\n",
              "      --hover-fill-color: #FFFFFF;\n",
              "      --disabled-bg-color: #3B4455;\n",
              "      --disabled-fill-color: #666;\n",
              "  }\n",
              "\n",
              "  .colab-df-quickchart {\n",
              "    background-color: var(--bg-color);\n",
              "    border: none;\n",
              "    border-radius: 50%;\n",
              "    cursor: pointer;\n",
              "    display: none;\n",
              "    fill: var(--fill-color);\n",
              "    height: 32px;\n",
              "    padding: 0;\n",
              "    width: 32px;\n",
              "  }\n",
              "\n",
              "  .colab-df-quickchart:hover {\n",
              "    background-color: var(--hover-bg-color);\n",
              "    box-shadow: 0 1px 2px rgba(60, 64, 67, 0.3), 0 1px 3px 1px rgba(60, 64, 67, 0.15);\n",
              "    fill: var(--button-hover-fill-color);\n",
              "  }\n",
              "\n",
              "  .colab-df-quickchart-complete:disabled,\n",
              "  .colab-df-quickchart-complete:disabled:hover {\n",
              "    background-color: var(--disabled-bg-color);\n",
              "    fill: var(--disabled-fill-color);\n",
              "    box-shadow: none;\n",
              "  }\n",
              "\n",
              "  .colab-df-spinner {\n",
              "    border: 2px solid var(--fill-color);\n",
              "    border-color: transparent;\n",
              "    border-bottom-color: var(--fill-color);\n",
              "    animation:\n",
              "      spin 1s steps(1) infinite;\n",
              "  }\n",
              "\n",
              "  @keyframes spin {\n",
              "    0% {\n",
              "      border-color: transparent;\n",
              "      border-bottom-color: var(--fill-color);\n",
              "      border-left-color: var(--fill-color);\n",
              "    }\n",
              "    20% {\n",
              "      border-color: transparent;\n",
              "      border-left-color: var(--fill-color);\n",
              "      border-top-color: var(--fill-color);\n",
              "    }\n",
              "    30% {\n",
              "      border-color: transparent;\n",
              "      border-left-color: var(--fill-color);\n",
              "      border-top-color: var(--fill-color);\n",
              "      border-right-color: var(--fill-color);\n",
              "    }\n",
              "    40% {\n",
              "      border-color: transparent;\n",
              "      border-right-color: var(--fill-color);\n",
              "      border-top-color: var(--fill-color);\n",
              "    }\n",
              "    60% {\n",
              "      border-color: transparent;\n",
              "      border-right-color: var(--fill-color);\n",
              "    }\n",
              "    80% {\n",
              "      border-color: transparent;\n",
              "      border-right-color: var(--fill-color);\n",
              "      border-bottom-color: var(--fill-color);\n",
              "    }\n",
              "    90% {\n",
              "      border-color: transparent;\n",
              "      border-bottom-color: var(--fill-color);\n",
              "    }\n",
              "  }\n",
              "</style>\n",
              "\n",
              "  <script>\n",
              "    async function quickchart(key) {\n",
              "      const quickchartButtonEl =\n",
              "        document.querySelector('#' + key + ' button');\n",
              "      quickchartButtonEl.disabled = true;  // To prevent multiple clicks.\n",
              "      quickchartButtonEl.classList.add('colab-df-spinner');\n",
              "      try {\n",
              "        const charts = await google.colab.kernel.invokeFunction(\n",
              "            'suggestCharts', [key], {});\n",
              "      } catch (error) {\n",
              "        console.error('Error during call to suggestCharts:', error);\n",
              "      }\n",
              "      quickchartButtonEl.classList.remove('colab-df-spinner');\n",
              "      quickchartButtonEl.classList.add('colab-df-quickchart-complete');\n",
              "    }\n",
              "    (() => {\n",
              "      let quickchartButtonEl =\n",
              "        document.querySelector('#df-34c95d83-ba85-432c-8ca2-a538d9f2147c button');\n",
              "      quickchartButtonEl.style.display =\n",
              "        google.colab.kernel.accessAllowed ? 'block' : 'none';\n",
              "    })();\n",
              "  </script>\n",
              "</div>\n",
              "    </div>\n",
              "  </div>\n"
            ]
          },
          "metadata": {},
          "execution_count": 117
        }
      ],
      "source": [
        "data.head()"
      ]
    },
    {
      "cell_type": "markdown",
      "metadata": {
        "id": "Zu4173h0Tu24"
      },
      "source": [
        "### Does a Preferred Device Have a Relationship with DaySinceLastOrder?\n",
        "\n",
        "While CostPro tries to maintain a high quality customer experience across the board, it might be possible that certain methods of interfacing with CostPro have a relationship with days since last order. This is another way to get at the problem of churn."
      ]
    },
    {
      "cell_type": "code",
      "execution_count": 118,
      "metadata": {
        "id": "A2SiconOTu25",
        "colab": {
          "base_uri": "https://localhost:8080/",
          "height": 429
        },
        "outputId": "36f953c8-56a3-4532-bfc6-f36403bf2792"
      },
      "outputs": [
        {
          "output_type": "display_data",
          "data": {
            "text/plain": [
              "<Figure size 640x480 with 1 Axes>"
            ],
            "image/png": "[encoded data removed]"
          },
          "metadata": {}
        }
      ],
      "source": [
        "data['PreferredLoginDevice'].hist();"
      ]
    },
    {
      "cell_type": "code",
      "execution_count": 119,
      "metadata": {
        "id": "11hvqkPMTu25",
        "colab": {
          "base_uri": "https://localhost:8080/",
          "height": 448
        },
        "outputId": "0ddd0033-1bcd-4cfd-870f-8fe5044d7ff5"
      },
      "outputs": [
        {
          "output_type": "display_data",
          "data": {
            "text/plain": [
              "<Figure size 640x480 with 1 Axes>"
            ],
            "image/png": "[encoded data removed]"
          },
          "metadata": {}
        }
      ],
      "source": [
        "sns.boxplot(data=data, x='DaySinceLastOrder', y='PreferredLoginDevice');"
      ]
    },
    {
      "cell_type": "markdown",
      "metadata": {
        "id": "2tPHIgngTu25"
      },
      "source": [
        "##### Null Hypothesis ($H_0$)\n",
        "\n",
        "There is no relationship between preferred login device and churn."
      ]
    },
    {
      "cell_type": "markdown",
      "metadata": {
        "id": "0Ku69BqgTu25"
      },
      "source": [
        "##### Alternative Hypothesis ($H_1$)\n",
        "\n",
        "There is a relationship between preferred login device and churn."
      ]
    },
    {
      "cell_type": "code",
      "execution_count": 120,
      "metadata": {
        "id": "rI_0FIgRTu25",
        "colab": {
          "base_uri": "https://localhost:8080/"
        },
        "outputId": "56f73eb9-10cd-4097-8a6a-b4875e38c4eb"
      },
      "outputs": [
        {
          "output_type": "stream",
          "name": "stdout",
          "text": [
            "the independent variable list is ['Computer', 'Mobile Phone', 'Phone']\n"
          ]
        }
      ],
      "source": [
        "samples = get_samples(data, 500, 'PreferredLoginDevice', 'DaySinceLastOrder')"
      ]
    },
    {
      "cell_type": "code",
      "execution_count": 121,
      "metadata": {
        "id": "2HCsqC0gTu25"
      },
      "outputs": [],
      "source": [
        "# write a function to test the null hypothesis that n groups have the same mean using the kruskal wallis test\n",
        "def test_hypothesis_with_kruskal_wallis(samples: list) -> str:\n",
        "    \"\"\"\n",
        "    Tests the null hypothesis that n groups have the same mean.\n",
        "    samples (list): the list of samples to be used\n",
        "\n",
        "    Returns:\n",
        "    str: the result of the test\n",
        "    \"\"\"\n",
        "    stat, p_value = st.kruskal(*samples)\n",
        "    print(\"Kruskal-Wallis test statistic:\", stat)\n",
        "    print(\"Kruskal-Wallis p-value:\", p_value)\n",
        "    if round(p_value, 2) <= 0.05:\n",
        "        print(\"The null hypothesis that n groups have the same median is rejected.\")\n",
        "        print(\"There is a relationship between preferred login device and days since last order.\")\n",
        "    else:\n",
        "        print(\"The null hypothesis that n groups have the same mean is accepted.\")\n",
        "        print(\"There is no significant relationship between preferred login device and days since last order.\")"
      ]
    },
    {
      "cell_type": "markdown",
      "metadata": {
        "id": "by1EWetXTu25"
      },
      "source": [
        "To interpret the results of a Kruskal-Wallis test, you will need to determine the p-value. The p-value is the probability of obtaining a test statistic as extreme or more extreme than the observed test statistic, under the null hypothesis. A small p-value indicates that the difference between the medians is statistically significant and that you should reject the null hypothesis.\n",
        "\n",
        "If the p-value is less than your chosen level of significance, such as 0.05, you can reject the null hypothesis and conclude that there is evidence of a difference in medians between at least two of the groups.\n",
        "\n",
        "It is important to keep in mind that the Kruskal-Wallis test provides a test of the overall difference between the medians of the groups, but it does not tell you which groups are different or how they are different. To further explore the differences between the groups, you may want to perform post-hoc tests.\n",
        "\n"
      ]
    },
    {
      "cell_type": "code",
      "execution_count": 122,
      "metadata": {
        "id": "vvN-awriTu26",
        "colab": {
          "base_uri": "https://localhost:8080/"
        },
        "outputId": "a01099c5-f9d7-412c-fcb9-83e7897e1fe9"
      },
      "outputs": [
        {
          "output_type": "stream",
          "name": "stdout",
          "text": [
            "Kruskal-Wallis test statistic: 69.22659202001135\n",
            "Kruskal-Wallis p-value: 9.281892673597712e-16\n",
            "The null hypothesis that n groups have the same median is rejected.\n",
            "There is a relationship between preferred login device and days since last order.\n"
          ]
        }
      ],
      "source": [
        "test_hypothesis_with_kruskal_wallis(samples)"
      ]
    },
    {
      "cell_type": "markdown",
      "source": [
        "##### Interpret the Result\n",
        "\n",
        "Practice explaining this result to a business stakeholder by writing your interpretation. Remember to interpret the test in a way that is appropriate for your audience. If there's a helpful data visualization, please include it.\n",
        "\n",
        "YOUR WORDS HERE\n"
      ],
      "metadata": {
        "id": "BWf5bJAqoAQP"
      }
    },
    {
      "cell_type": "markdown",
      "metadata": {
        "id": "MOyMpoopTu26"
      },
      "source": [
        "## Your Turn\n",
        "\n",
        "Develop and test hypotheses!"
      ]
    },
    {
      "cell_type": "markdown",
      "metadata": {
        "id": "C8NCYHn1Tu26"
      },
      "source": [
        "### ⚙️ Develop a Hypothesis\n",
        "\n",
        "💡 Build Intuition: [Review the relevant course material on hypothesis formulation and testing.](https://uplimit.com/course/applied-statistics-for-data-science/v2/module/hypothesis-testing-9mlrk)\n",
        "\n",
        "Try formulating a hypothesis that you can test with a chi-squared test.\n",
        "\n",
        "Remember that chi-squared is a way to test categorical variables in a contingency table.\n"
      ]
    },
    {
      "cell_type": "markdown",
      "metadata": {
        "id": "Kr4ncTz6Tu26"
      },
      "source": [
        "##### Null Hypothesis ($H_0$)\n",
        "\n",
        "Filing complaints has no effect on churn."
      ]
    },
    {
      "cell_type": "markdown",
      "metadata": {
        "id": "n9zNri3zTu26"
      },
      "source": [
        "##### Alternative Hypothesis ($H_1$)\n",
        "\n",
        "Customers who have filed complaints churn more frequently."
      ]
    },
    {
      "cell_type": "code",
      "execution_count": 160,
      "metadata": {
        "id": "0FvnUNuJTu26",
        "colab": {
          "base_uri": "https://localhost:8080/"
        },
        "outputId": "14d293ed-8515-4f40-bb0e-700d03e0891e"
      },
      "outputs": [
        {
          "output_type": "stream",
          "name": "stdout",
          "text": [
            "Mann-Whitney U test statistic: 94250.0\n",
            "Mann-Whitney U p-value: 1.3562324979049662e-15\n",
            "The null hypothesis that the two groups have the same median is rejected.\n",
            "There is a relationship between satisfaction score and churn.\n"
          ]
        }
      ],
      "source": [
        "# Extracting the samples for the \"Complaints\" hypothesis\n",
        "samples_complaints = get_two_samples(data, 500, \"Complain\", \"Churn\")\n",
        "\n",
        "# Running the Mann-Whitney U test for the \"Complaints\" hypothesis\n",
        "test_hypothesis_with_mann_whitney_u(samples_complaints)"
      ]
    },
    {
      "cell_type": "code",
      "execution_count": 161,
      "metadata": {
        "id": "1kr6RlcxTu26",
        "colab": {
          "base_uri": "https://localhost:8080/",
          "height": 140
        },
        "outputId": "f63b2854-eb64-47bf-c509-dda18d9b144e"
      },
      "outputs": [
        {
          "output_type": "execute_result",
          "data": {
            "text/plain": [
              "Churn        0    1\n",
              "Complain           \n",
              "0         2407  302\n",
              "1          736  329"
            ],
            "text/html": [
              "\n",
              "  <div id=\"df-1671729f-84dd-4400-aad9-fe64b94d8ee7\" class=\"colab-df-container\">\n",
              "    <div>\n",
              "<style scoped>\n",
              "    .dataframe tbody tr th:only-of-type {\n",
              "        vertical-align: middle;\n",
              "    }\n",
              "\n",
              "    .dataframe tbody tr th {\n",
              "        vertical-align: top;\n",
              "    }\n",
              "\n",
              "    .dataframe thead th {\n",
              "        text-align: right;\n",
              "    }\n",
              "</style>\n",
              "<table border=\"1\" class=\"dataframe\">\n",
              "  <thead>\n",
              "    <tr style=\"text-align: right;\">\n",
              "      <th>Churn</th>\n",
              "      <th>0</th>\n",
              "      <th>1</th>\n",
              "    </tr>\n",
              "    <tr>\n",
              "      <th>Complain</th>\n",
              "      <th></th>\n",
              "      <th></th>\n",
              "    </tr>\n",
              "  </thead>\n",
              "  <tbody>\n",
              "    <tr>\n",
              "      <th>0</th>\n",
              "      <td>2407</td>\n",
              "      <td>302</td>\n",
              "    </tr>\n",
              "    <tr>\n",
              "      <th>1</th>\n",
              "      <td>736</td>\n",
              "      <td>329</td>\n",
              "    </tr>\n",
              "  </tbody>\n",
              "</table>\n",
              "</div>\n",
              "    <div class=\"colab-df-buttons\">\n",
              "\n",
              "  <div class=\"colab-df-container\">\n",
              "    <button class=\"colab-df-convert\" onclick=\"convertToInteractive('df-1671729f-84dd-4400-aad9-fe64b94d8ee7')\"\n",
              "            title=\"Convert this dataframe to an interactive table.\"\n",
              "            style=\"display:none;\">\n",
              "\n",
              "  <svg xmlns=\"http://www.w3.org/2000/svg\" height=\"24px\" viewBox=\"0 -960 960 960\">\n",
              "    <path d=\"M120-120v-720h720v720H120Zm60-500h600v-160H180v160Zm220 220h160v-160H400v160Zm0 220h160v-160H400v160ZM180-400h160v-160H180v160Zm440 0h160v-160H620v160ZM180-180h160v-160H180v160Zm440 0h160v-160H620v160Z\"/>\n",
              "  </svg>\n",
              "    </button>\n",
              "\n",
              "  <style>\n",
              "    .colab-df-container {\n",
              "      display:flex;\n",
              "      gap: 12px;\n",
              "    }\n",
              "\n",
              "    .colab-df-convert {\n",
              "      background-color: #E8F0FE;\n",
              "      border: none;\n",
              "      border-radius: 50%;\n",
              "      cursor: pointer;\n",
              "      display: none;\n",
              "      fill: #1967D2;\n",
              "      height: 32px;\n",
              "      padding: 0 0 0 0;\n",
              "      width: 32px;\n",
              "    }\n",
              "\n",
              "    .colab-df-convert:hover {\n",
              "      background-color: #E2EBFA;\n",
              "      box-shadow: 0px 1px 2px rgba(60, 64, 67, 0.3), 0px 1px 3px 1px rgba(60, 64, 67, 0.15);\n",
              "      fill: #174EA6;\n",
              "    }\n",
              "\n",
              "    .colab-df-buttons div {\n",
              "      margin-bottom: 4px;\n",
              "    }\n",
              "\n",
              "    [theme=dark] .colab-df-convert {\n",
              "      background-color: #3B4455;\n",
              "      fill: #D2E3FC;\n",
              "    }\n",
              "\n",
              "    [theme=dark] .colab-df-convert:hover {\n",
              "      background-color: #434B5C;\n",
              "      box-shadow: 0px 1px 3px 1px rgba(0, 0, 0, 0.15);\n",
              "      filter: drop-shadow(0px 1px 2px rgba(0, 0, 0, 0.3));\n",
              "      fill: #FFFFFF;\n",
              "    }\n",
              "  </style>\n",
              "\n",
              "    <script>\n",
              "      const buttonEl =\n",
              "        document.querySelector('#df-1671729f-84dd-4400-aad9-fe64b94d8ee7 button.colab-df-convert');\n",
              "      buttonEl.style.display =\n",
              "        google.colab.kernel.accessAllowed ? 'block' : 'none';\n",
              "\n",
              "      async function convertToInteractive(key) {\n",
              "        const element = document.querySelector('#df-1671729f-84dd-4400-aad9-fe64b94d8ee7');\n",
              "        const dataTable =\n",
              "          await google.colab.kernel.invokeFunction('convertToInteractive',\n",
              "                                                    [key], {});\n",
              "        if (!dataTable) return;\n",
              "\n",
              "        const docLinkHtml = 'Like what you see? Visit the ' +\n",
              "          '<a target=\"_blank\" href=https://colab.research.google.com/notebooks/data_table.ipynb>data table notebook</a>'\n",
              "          + ' to learn more about interactive tables.';\n",
              "        element.innerHTML = '';\n",
              "        dataTable['output_type'] = 'display_data';\n",
              "        await google.colab.output.renderOutput(dataTable, element);\n",
              "        const docLink = document.createElement('div');\n",
              "        docLink.innerHTML = docLinkHtml;\n",
              "        element.appendChild(docLink);\n",
              "      }\n",
              "    </script>\n",
              "  </div>\n",
              "\n",
              "\n",
              "<div id=\"df-73232a63-351a-4835-9646-51167db2ff6b\">\n",
              "  <button class=\"colab-df-quickchart\" onclick=\"quickchart('df-73232a63-351a-4835-9646-51167db2ff6b')\"\n",
              "            title=\"Suggest charts.\"\n",
              "            style=\"display:none;\">\n",
              "\n",
              "<svg xmlns=\"http://www.w3.org/2000/svg\" height=\"24px\"viewBox=\"0 0 24 24\"\n",
              "     width=\"24px\">\n",
              "    <g>\n",
              "        <path d=\"M19 3H5c-1.1 0-2 .9-2 2v14c0 1.1.9 2 2 2h14c1.1 0 2-.9 2-2V5c0-1.1-.9-2-2-2zM9 17H7v-7h2v7zm4 0h-2V7h2v10zm4 0h-2v-4h2v4z\"/>\n",
              "    </g>\n",
              "</svg>\n",
              "  </button>\n",
              "\n",
              "<style>\n",
              "  .colab-df-quickchart {\n",
              "      --bg-color: #E8F0FE;\n",
              "      --fill-color: #1967D2;\n",
              "      --hover-bg-color: #E2EBFA;\n",
              "      --hover-fill-color: #174EA6;\n",
              "      --disabled-fill-color: #AAA;\n",
              "      --disabled-bg-color: #DDD;\n",
              "  }\n",
              "\n",
              "  [theme=dark] .colab-df-quickchart {\n",
              "      --bg-color: #3B4455;\n",
              "      --fill-color: #D2E3FC;\n",
              "      --hover-bg-color: #434B5C;\n",
              "      --hover-fill-color: #FFFFFF;\n",
              "      --disabled-bg-color: #3B4455;\n",
              "      --disabled-fill-color: #666;\n",
              "  }\n",
              "\n",
              "  .colab-df-quickchart {\n",
              "    background-color: var(--bg-color);\n",
              "    border: none;\n",
              "    border-radius: 50%;\n",
              "    cursor: pointer;\n",
              "    display: none;\n",
              "    fill: var(--fill-color);\n",
              "    height: 32px;\n",
              "    padding: 0;\n",
              "    width: 32px;\n",
              "  }\n",
              "\n",
              "  .colab-df-quickchart:hover {\n",
              "    background-color: var(--hover-bg-color);\n",
              "    box-shadow: 0 1px 2px rgba(60, 64, 67, 0.3), 0 1px 3px 1px rgba(60, 64, 67, 0.15);\n",
              "    fill: var(--button-hover-fill-color);\n",
              "  }\n",
              "\n",
              "  .colab-df-quickchart-complete:disabled,\n",
              "  .colab-df-quickchart-complete:disabled:hover {\n",
              "    background-color: var(--disabled-bg-color);\n",
              "    fill: var(--disabled-fill-color);\n",
              "    box-shadow: none;\n",
              "  }\n",
              "\n",
              "  .colab-df-spinner {\n",
              "    border: 2px solid var(--fill-color);\n",
              "    border-color: transparent;\n",
              "    border-bottom-color: var(--fill-color);\n",
              "    animation:\n",
              "      spin 1s steps(1) infinite;\n",
              "  }\n",
              "\n",
              "  @keyframes spin {\n",
              "    0% {\n",
              "      border-color: transparent;\n",
              "      border-bottom-color: var(--fill-color);\n",
              "      border-left-color: var(--fill-color);\n",
              "    }\n",
              "    20% {\n",
              "      border-color: transparent;\n",
              "      border-left-color: var(--fill-color);\n",
              "      border-top-color: var(--fill-color);\n",
              "    }\n",
              "    30% {\n",
              "      border-color: transparent;\n",
              "      border-left-color: var(--fill-color);\n",
              "      border-top-color: var(--fill-color);\n",
              "      border-right-color: var(--fill-color);\n",
              "    }\n",
              "    40% {\n",
              "      border-color: transparent;\n",
              "      border-right-color: var(--fill-color);\n",
              "      border-top-color: var(--fill-color);\n",
              "    }\n",
              "    60% {\n",
              "      border-color: transparent;\n",
              "      border-right-color: var(--fill-color);\n",
              "    }\n",
              "    80% {\n",
              "      border-color: transparent;\n",
              "      border-right-color: var(--fill-color);\n",
              "      border-bottom-color: var(--fill-color);\n",
              "    }\n",
              "    90% {\n",
              "      border-color: transparent;\n",
              "      border-bottom-color: var(--fill-color);\n",
              "    }\n",
              "  }\n",
              "</style>\n",
              "\n",
              "  <script>\n",
              "    async function quickchart(key) {\n",
              "      const quickchartButtonEl =\n",
              "        document.querySelector('#' + key + ' button');\n",
              "      quickchartButtonEl.disabled = true;  // To prevent multiple clicks.\n",
              "      quickchartButtonEl.classList.add('colab-df-spinner');\n",
              "      try {\n",
              "        const charts = await google.colab.kernel.invokeFunction(\n",
              "            'suggestCharts', [key], {});\n",
              "      } catch (error) {\n",
              "        console.error('Error during call to suggestCharts:', error);\n",
              "      }\n",
              "      quickchartButtonEl.classList.remove('colab-df-spinner');\n",
              "      quickchartButtonEl.classList.add('colab-df-quickchart-complete');\n",
              "    }\n",
              "    (() => {\n",
              "      let quickchartButtonEl =\n",
              "        document.querySelector('#df-73232a63-351a-4835-9646-51167db2ff6b button');\n",
              "      quickchartButtonEl.style.display =\n",
              "        google.colab.kernel.accessAllowed ? 'block' : 'none';\n",
              "    })();\n",
              "  </script>\n",
              "</div>\n",
              "    </div>\n",
              "  </div>\n"
            ]
          },
          "metadata": {},
          "execution_count": 161
        }
      ],
      "source": [
        "# display the cross tabulation\n",
        "pd.crosstab(data['Complain'], data['Churn'])"
      ]
    },
    {
      "cell_type": "code",
      "execution_count": 162,
      "metadata": {
        "id": "8WvUZrJ0Tu26"
      },
      "outputs": [],
      "source": [
        "# Generate a new frequency table for the Complain and Churn fields\n",
        "freq_table_complain_churn = pd.crosstab(data['Complain'], data['Churn'])\n",
        "observed_complain_churn = freq_table_complain_churn.values\n",
        "\n",
        "# Function to test the hypothesis using Chi-Squared Test\n",
        "def test_hypothesis_with_chi_squared(observed: np.ndarray) -> str:\n",
        "    chi2, p, dof, expected = st.chi2_contingency(observed)\n",
        "    print(\"Chi-squared test statistic:\", chi2)\n",
        "    print(\"Chi-squared p-value:\", p)\n",
        "    if round(p, 2) <= 0.05:\n",
        "        print(\"The null hypothesis that Complain and Churn are independent is rejected.\")\n",
        "        print(\"There is a relationship between Complain and Churn.\")\n",
        "    else:\n",
        "        print(\"The null hypothesis that Complain and Churn are independent is accepted.\")\n",
        "        print(\"There is no detectable relationship between Complain and Churn.\")\n",
        ""
      ]
    },
    {
      "cell_type": "markdown",
      "metadata": {
        "id": "v0Nxm4zATu26"
      },
      "source": [
        "Run a chi-squared test and report the results.\n"
      ]
    },
    {
      "cell_type": "code",
      "execution_count": 163,
      "metadata": {
        "id": "h8cAVgBZTu27",
        "colab": {
          "base_uri": "https://localhost:8080/"
        },
        "outputId": "d3039e24-890b-4049-e90f-af1b927faedd"
      },
      "outputs": [
        {
          "output_type": "stream",
          "name": "stdout",
          "text": [
            "Chi-squared test statistic: 212.6055753409504\n",
            "Chi-squared p-value: 3.7103886049205616e-48\n",
            "The null hypothesis that Complain and Churn are independent is rejected.\n",
            "There is a relationship between Complain and Churn.\n"
          ]
        }
      ],
      "source": [
        "# Run the chi-squared test\n",
        "test_hypothesis_with_chi_squared(observed_complain_churn)\n"
      ]
    },
    {
      "cell_type": "code",
      "execution_count": 164,
      "metadata": {
        "id": "fDPTFf7OTu27",
        "colab": {
          "base_uri": "https://localhost:8080/",
          "height": 563
        },
        "outputId": "fec651f9-28c5-44ce-9931-cd05d62e2397"
      },
      "outputs": [
        {
          "output_type": "display_data",
          "data": {
            "text/plain": [
              "<Figure size 1000x600 with 1 Axes>"
            ],
            "image/png": "[encoded data removed]"
          },
          "metadata": {}
        }
      ],
      "source": [
        "# visualize the results\n",
        "# Create a bar graph of frequencies for \"Complain\" and \"Churn\"\n",
        "plt.figure(figsize=(10, 6))\n",
        "sns.countplot(data=data, x='Complain', hue='Churn', palette=\"coolwarm\")\n",
        "plt.title(\"Frequency of Churn by Complaint Status\")\n",
        "plt.xlabel(\"Complaint Filed\")\n",
        "plt.ylabel(\"Frequency\")\n",
        "plt.xticks(ticks=[0, 1], labels=[\"No\", \"Yes\"])\n",
        "plt.legend(title='Churn', labels=['No', 'Yes'])\n",
        "plt.show()\n"
      ]
    },
    {
      "cell_type": "code",
      "source": [
        "# evaluate the results\n",
        "\n",
        "# The intuitive understanding that complaints are correlated with increased chrun appears to hold true in the dataset."
      ],
      "metadata": {
        "id": "Upnboe-Vn0AK"
      },
      "execution_count": 128,
      "outputs": []
    },
    {
      "cell_type": "markdown",
      "metadata": {
        "id": "DT8sx0hNTu27"
      },
      "source": [
        "#### ⚙️ Develop Your Hypothesis\n",
        "\n",
        "💡 Build Intuition: [Review the relevant course material on hypothesis formulation and testing.](https://uplimit.com/course/applied-statistics-for-data-science/v2/module/hypothesis-testing-9mlrk)\n",
        "\n",
        "Now, develop and test a hypothesis with a test of your own choosing."
      ]
    },
    {
      "cell_type": "markdown",
      "metadata": {
        "id": "RfTVElOsTu27"
      },
      "source": [
        "##### Null Hypothesis\n",
        "\n",
        "$H_0$: The distance from the warehouse to the home has no effect on the likelihood of a complaint being filed."
      ]
    },
    {
      "cell_type": "markdown",
      "metadata": {
        "id": "oCNbezZ4Tu27"
      },
      "source": [
        "##### Alternative Hypothesis\n",
        "\n",
        "Write your alternative hypothesis here.\n",
        "\n",
        "$H_1$: The distance from the warehouse to the home affects the likelihood of a complaint being filed."
      ]
    },
    {
      "cell_type": "code",
      "execution_count": 129,
      "metadata": {
        "id": "XVZNtt05Tu27"
      },
      "outputs": [],
      "source": [
        "# get the samples"
      ]
    },
    {
      "cell_type": "code",
      "execution_count": 130,
      "metadata": {
        "id": "G-_H1cdqTu27"
      },
      "outputs": [],
      "source": [
        "# define the test function\n"
      ]
    },
    {
      "cell_type": "code",
      "execution_count": 168,
      "metadata": {
        "id": "L-bcMZFgTu27",
        "colab": {
          "base_uri": "https://localhost:8080/"
        },
        "outputId": "1587bd0c-c350-47c2-9fd4-ca44a45d7c68"
      },
      "outputs": [
        {
          "output_type": "stream",
          "name": "stdout",
          "text": [
            "Point-Biserial Correlation Coefficient results:\n",
            "point_biserial_corr: 0.003828553594083968\n",
            "p_value: 0.8141139962227575\n"
          ]
        }
      ],
      "source": [
        "# run the test\n",
        "\n",
        "# Point-Biserial Correlation Coefficient calculation\n",
        "point_biserial_corr, p_value = st.pointbiserialr(data['Complain'], data['WarehouseToHome'])\n",
        "\n",
        "point_biserial_corr, p_value\n",
        "\n",
        "print('Point-Biserial Correlation Coefficient results:')\n",
        "print(f'point_biserial_corr: {point_biserial_corr}')\n",
        "print(f'p_value: {p_value}')\n"
      ]
    },
    {
      "cell_type": "code",
      "execution_count": 167,
      "metadata": {
        "id": "j6EcPdAUTu27",
        "colab": {
          "base_uri": "https://localhost:8080/",
          "height": 563
        },
        "outputId": "4f1211c7-2b98-4bf2-83b4-ac90df3d00f5"
      },
      "outputs": [
        {
          "output_type": "display_data",
          "data": {
            "text/plain": [
              "<Figure size 1000x600 with 1 Axes>"
            ],
            "image/png": "[encoded data removed]"
          },
          "metadata": {}
        }
      ],
      "source": [
        "# visualize the results\n",
        "# Generating boxplot to visualize the range and IQR for \"WarehouseToHome\" based on \"Complain\" status\n",
        "\n",
        "plt.figure(figsize=(10, 6))\n",
        "\n",
        "sns.boxplot(x='Complain', y='WarehouseToHome', data=data)\n",
        "\n",
        "plt.title('Boxplot of WarehouseToHome Distance by Complain Status')\n",
        "\n",
        "plt.xlabel('Complain Status')\n",
        "\n",
        "plt.ylabel('Distance from Warehouse to Home')\n",
        "\n",
        "plt.show()"
      ]
    },
    {
      "cell_type": "code",
      "source": [
        "# evaluate the result\n",
        "# We failed to reject the null hypothesis. There is not a statistically meaningful relationship between shipping distance from the warehouse and complaint indicator."
      ],
      "metadata": {
        "id": "5bNuQ8-yP74p"
      },
      "execution_count": 133,
      "outputs": []
    },
    {
      "cell_type": "markdown",
      "source": [
        "## Interpret the Result\n",
        "\n",
        "Practice explaining this result to a business stakeholder by writing your interpretation. Remember to interpret the test in a way that is appropriate for your audience. If there's a helpful data visualization, please include it.\n",
        "\n",
        "### Objective\n",
        "\n",
        "We wanted to understand if the distance from our warehouse to a customer's home has any impact on whether they file a complaint.\n",
        "\n",
        "### Methodology\n",
        "\n",
        "We analyzed a representative sample of customer data, focusing on two key variables:\n",
        "\n",
        "    Complain:\n",
        "    Whether a customer has filed a complaint (Yes/No)\n",
        "    \n",
        "    WarehouseToHome:\n",
        "    The distance from our warehouse to the customer's shipping address\n",
        "\n",
        "### Key Findings\n",
        "\n",
        "#### Similar Median Distances\n",
        "The \"middle\" distance from the warehouse to home is roughly the same for both customers who have and haven't complained.\n",
        "\n",
        "#### Comparable Distance Ranges\n",
        "The range of distances (from the shortest to the longest) is also quite similar for both groups.\n",
        "\n",
        "### Interpretation\n",
        "Our analysis indicates that the distance from the warehouse to a customer's home is not a strong predictor of whether they will file a complaint. Both those who have and haven't complained show similar patterns in terms of shipping distance.\n",
        "\n",
        "### Business Implications\n",
        "#### No Need for Geographical Adjustments\n",
        "Based on this data, there's no immediate need to consider the warehouse-to-home distance as a factor in our customer complaint mitigation strategies.\n",
        "\n",
        "#### Look Elsewhere for Solutions\n",
        "Since distance doesn't appear to be a factor in complaints, we may need to explore other areas like shipping speed, product quality, or customer service for potential improvements."
      ],
      "metadata": {
        "id": "7jeEnh0cooR-"
      }
    },
    {
      "cell_type": "code",
      "source": [],
      "metadata": {
        "id": "UpGiESagoodm"
      },
      "execution_count": 133,
      "outputs": []
    }
  ],
  "metadata": {
    "kernelspec": {
      "display_name": "Python 3",
      "language": "python",
      "name": "python3"
    },
    "language_info": {
      "codemirror_mode": {
        "name": "ipython",
        "version": 3
      },
      "file_extension": ".py",
      "mimetype": "text/x-python",
      "name": "python",
      "nbconvert_exporter": "python",
      "pygments_lexer": "ipython3",
      "version": "3.8.5"
    },
    "orig_nbformat": 4,
    "vscode": {
      "interpreter": {
        "hash": "aee8b7b246df8f9039afb4144a1f6fd8d2ca17a180786b69acc140d282b71a49"
      }
    },
    "colab": {
      "provenance": [],
      "toc_visible": true
    }
  },
  "nbformat": 4,
  "nbformat_minor": 0
}